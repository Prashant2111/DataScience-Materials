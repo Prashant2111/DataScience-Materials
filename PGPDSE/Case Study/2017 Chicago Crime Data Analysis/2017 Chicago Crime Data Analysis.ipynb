{
 "cells": [
  {
   "cell_type": "markdown",
   "metadata": {},
   "source": [
    "# 2017 Chicago Crime Data Analysis"
   ]
  },
  {
   "cell_type": "markdown",
   "metadata": {},
   "source": [
    "The City of Chicago makes available through its Data Portal (data.cityofchicago.org) access to government data. The site hosts over 200 datasets presented in easy-to-use formats about City departments, services, facilities and performance.\n",
    "\n",
    "The dataset used in this analysis contains crime reports from 2001 to present date but filtered to consider just occurrences of January and February of 2017.\n",
    "\n",
    "https://data.cityofchicago.org/Public-Safety/Crimes-2001-to-present/ijzp-q8t2/data\n",
    "\n",
    "Disclaimer: This dataset reflects reported incidents of crime (with the exception of murders where data exists for each victim) that occurred in the City of Chicago from 2001 to present, minus the most recent seven days. Data is extracted from the Chicago Police Department's CLEAR (Citizen Law Enforcement Analysis and Reporting) system. In order to protect the privacy of crime victims, addresses are shown at the block level only and specific locations are not identified.\n",
    "\n",
    "You are a data scientist helping the City of Chicago makes sense of the data collected in order to find important patterns about how to improve law enforcement actions to prevent crime.\n",
    "\n",
    "Your analysis must be able to address the following requests:\n",
    "\n",
    "1. What are the top 12 most common crimes of the period?\n",
    "2. What are the crime types that have median above 50 crimes/day?\n",
    "3. For each crime type identified in the last question, use the latitude and longitude into a KDE plot, to analyse its spread.\n",
    "4. For each crime type plotted into KDE, discover the mean of the coordinates (latitude and longitude).\n",
    "5. Go to google maps, plot the coordinates and investigate if the distances are close or not, what could indicate that the area should have more investment in public security.\n"
   ]
  },
  {
   "cell_type": "code",
   "execution_count": 7,
   "metadata": {},
   "outputs": [],
   "source": [
    "# Import packages needed to perform the analysis\n",
    "import pandas as pd\n",
    "import numpy as np\n",
    "import seaborn as sns\n",
    "import matplotlib.pyplot as plt\n",
    "%matplotlib inline"
   ]
  },
  {
   "cell_type": "code",
   "execution_count": 8,
   "metadata": {},
   "outputs": [],
   "source": [
    "# read the dataset\n",
    "df=pd.read_csv('Chicago_Crime.csv')"
   ]
  },
  {
   "cell_type": "code",
   "execution_count": 9,
   "metadata": {},
   "outputs": [
    {
     "data": {
      "text/html": [
       "<div>\n",
       "<style scoped>\n",
       "    .dataframe tbody tr th:only-of-type {\n",
       "        vertical-align: middle;\n",
       "    }\n",
       "\n",
       "    .dataframe tbody tr th {\n",
       "        vertical-align: top;\n",
       "    }\n",
       "\n",
       "    .dataframe thead th {\n",
       "        text-align: right;\n",
       "    }\n",
       "</style>\n",
       "<table border=\"1\" class=\"dataframe\">\n",
       "  <thead>\n",
       "    <tr style=\"text-align: right;\">\n",
       "      <th></th>\n",
       "      <th>ID</th>\n",
       "      <th>Case Number</th>\n",
       "      <th>Date</th>\n",
       "      <th>Block</th>\n",
       "      <th>IUCR</th>\n",
       "      <th>Primary Type</th>\n",
       "      <th>Description</th>\n",
       "      <th>Location Description</th>\n",
       "      <th>Arrest</th>\n",
       "      <th>Domestic</th>\n",
       "      <th>...</th>\n",
       "      <th>Ward</th>\n",
       "      <th>Community Area</th>\n",
       "      <th>FBI Code</th>\n",
       "      <th>X Coordinate</th>\n",
       "      <th>Y Coordinate</th>\n",
       "      <th>Year</th>\n",
       "      <th>Updated On</th>\n",
       "      <th>Latitude</th>\n",
       "      <th>Longitude</th>\n",
       "      <th>Location</th>\n",
       "    </tr>\n",
       "  </thead>\n",
       "  <tbody>\n",
       "    <tr>\n",
       "      <th>0</th>\n",
       "      <td>10887077</td>\n",
       "      <td>JA196832</td>\n",
       "      <td>01/01/2017 12:01:00 AM</td>\n",
       "      <td>073XX N OAKLEY AVE</td>\n",
       "      <td>1751</td>\n",
       "      <td>OFFENSE INVOLVING CHILDREN</td>\n",
       "      <td>CRIM SEX ABUSE BY FAM MEMBER</td>\n",
       "      <td>RESIDENCE</td>\n",
       "      <td>False</td>\n",
       "      <td>False</td>\n",
       "      <td>...</td>\n",
       "      <td>49</td>\n",
       "      <td>2</td>\n",
       "      <td>20</td>\n",
       "      <td>NaN</td>\n",
       "      <td>NaN</td>\n",
       "      <td>2017</td>\n",
       "      <td>03/23/2017 03:53:53 PM</td>\n",
       "      <td>NaN</td>\n",
       "      <td>NaN</td>\n",
       "      <td>NaN</td>\n",
       "    </tr>\n",
       "    <tr>\n",
       "      <th>1</th>\n",
       "      <td>10883971</td>\n",
       "      <td>JA193683</td>\n",
       "      <td>01/01/2017 12:01:00 AM</td>\n",
       "      <td>0000X E 103RD PL</td>\n",
       "      <td>0281</td>\n",
       "      <td>CRIM SEXUAL ASSAULT</td>\n",
       "      <td>NON-AGGRAVATED</td>\n",
       "      <td>RESIDENCE</td>\n",
       "      <td>False</td>\n",
       "      <td>False</td>\n",
       "      <td>...</td>\n",
       "      <td>9</td>\n",
       "      <td>49</td>\n",
       "      <td>02</td>\n",
       "      <td>NaN</td>\n",
       "      <td>NaN</td>\n",
       "      <td>2017</td>\n",
       "      <td>03/21/2017 03:50:39 PM</td>\n",
       "      <td>NaN</td>\n",
       "      <td>NaN</td>\n",
       "      <td>NaN</td>\n",
       "    </tr>\n",
       "    <tr>\n",
       "      <th>2</th>\n",
       "      <td>10883969</td>\n",
       "      <td>JA193696</td>\n",
       "      <td>01/01/2017 12:01:00 AM</td>\n",
       "      <td>075XX S KINGSTON AVE</td>\n",
       "      <td>1751</td>\n",
       "      <td>OFFENSE INVOLVING CHILDREN</td>\n",
       "      <td>CRIM SEX ABUSE BY FAM MEMBER</td>\n",
       "      <td>APARTMENT</td>\n",
       "      <td>False</td>\n",
       "      <td>False</td>\n",
       "      <td>...</td>\n",
       "      <td>7</td>\n",
       "      <td>43</td>\n",
       "      <td>20</td>\n",
       "      <td>NaN</td>\n",
       "      <td>NaN</td>\n",
       "      <td>2017</td>\n",
       "      <td>03/21/2017 03:50:39 PM</td>\n",
       "      <td>NaN</td>\n",
       "      <td>NaN</td>\n",
       "      <td>NaN</td>\n",
       "    </tr>\n",
       "    <tr>\n",
       "      <th>3</th>\n",
       "      <td>10878960</td>\n",
       "      <td>JA188281</td>\n",
       "      <td>01/01/2017 12:01:00 AM</td>\n",
       "      <td>009XX E 86TH ST</td>\n",
       "      <td>1754</td>\n",
       "      <td>OFFENSE INVOLVING CHILDREN</td>\n",
       "      <td>AGG SEX ASSLT OF CHILD FAM MBR</td>\n",
       "      <td>RESIDENCE</td>\n",
       "      <td>False</td>\n",
       "      <td>False</td>\n",
       "      <td>...</td>\n",
       "      <td>8</td>\n",
       "      <td>44</td>\n",
       "      <td>02</td>\n",
       "      <td>NaN</td>\n",
       "      <td>NaN</td>\n",
       "      <td>2017</td>\n",
       "      <td>03/17/2017 03:52:20 PM</td>\n",
       "      <td>NaN</td>\n",
       "      <td>NaN</td>\n",
       "      <td>NaN</td>\n",
       "    </tr>\n",
       "    <tr>\n",
       "      <th>4</th>\n",
       "      <td>10878804</td>\n",
       "      <td>JA187911</td>\n",
       "      <td>01/01/2017 12:01:00 AM</td>\n",
       "      <td>053XX N SHERIDAN RD</td>\n",
       "      <td>1195</td>\n",
       "      <td>DECEPTIVE PRACTICE</td>\n",
       "      <td>FINAN EXPLOIT-ELDERLY/DISABLED</td>\n",
       "      <td>APARTMENT</td>\n",
       "      <td>False</td>\n",
       "      <td>False</td>\n",
       "      <td>...</td>\n",
       "      <td>48</td>\n",
       "      <td>77</td>\n",
       "      <td>11</td>\n",
       "      <td>NaN</td>\n",
       "      <td>NaN</td>\n",
       "      <td>2017</td>\n",
       "      <td>03/16/2017 03:53:03 PM</td>\n",
       "      <td>NaN</td>\n",
       "      <td>NaN</td>\n",
       "      <td>NaN</td>\n",
       "    </tr>\n",
       "  </tbody>\n",
       "</table>\n",
       "<p>5 rows × 22 columns</p>\n",
       "</div>"
      ],
      "text/plain": [
       "         ID Case Number                    Date                 Block  IUCR  \\\n",
       "0  10887077    JA196832  01/01/2017 12:01:00 AM    073XX N OAKLEY AVE  1751   \n",
       "1  10883971    JA193683  01/01/2017 12:01:00 AM      0000X E 103RD PL  0281   \n",
       "2  10883969    JA193696  01/01/2017 12:01:00 AM  075XX S KINGSTON AVE  1751   \n",
       "3  10878960    JA188281  01/01/2017 12:01:00 AM       009XX E 86TH ST  1754   \n",
       "4  10878804    JA187911  01/01/2017 12:01:00 AM   053XX N SHERIDAN RD  1195   \n",
       "\n",
       "                 Primary Type                     Description  \\\n",
       "0  OFFENSE INVOLVING CHILDREN    CRIM SEX ABUSE BY FAM MEMBER   \n",
       "1         CRIM SEXUAL ASSAULT                  NON-AGGRAVATED   \n",
       "2  OFFENSE INVOLVING CHILDREN    CRIM SEX ABUSE BY FAM MEMBER   \n",
       "3  OFFENSE INVOLVING CHILDREN  AGG SEX ASSLT OF CHILD FAM MBR   \n",
       "4          DECEPTIVE PRACTICE  FINAN EXPLOIT-ELDERLY/DISABLED   \n",
       "\n",
       "  Location Description  Arrest  Domestic    ...     Ward  Community Area  \\\n",
       "0            RESIDENCE   False     False    ...       49               2   \n",
       "1            RESIDENCE   False     False    ...        9              49   \n",
       "2            APARTMENT   False     False    ...        7              43   \n",
       "3            RESIDENCE   False     False    ...        8              44   \n",
       "4            APARTMENT   False     False    ...       48              77   \n",
       "\n",
       "   FBI Code  X Coordinate Y Coordinate  Year              Updated On  \\\n",
       "0        20           NaN          NaN  2017  03/23/2017 03:53:53 PM   \n",
       "1        02           NaN          NaN  2017  03/21/2017 03:50:39 PM   \n",
       "2        20           NaN          NaN  2017  03/21/2017 03:50:39 PM   \n",
       "3        02           NaN          NaN  2017  03/17/2017 03:52:20 PM   \n",
       "4        11           NaN          NaN  2017  03/16/2017 03:53:03 PM   \n",
       "\n",
       "   Latitude Longitude  Location  \n",
       "0       NaN       NaN       NaN  \n",
       "1       NaN       NaN       NaN  \n",
       "2       NaN       NaN       NaN  \n",
       "3       NaN       NaN       NaN  \n",
       "4       NaN       NaN       NaN  \n",
       "\n",
       "[5 rows x 22 columns]"
      ]
     },
     "execution_count": 9,
     "metadata": {},
     "output_type": "execute_result"
    }
   ],
   "source": [
    "# explore the dataset\n",
    "df.head()"
   ]
  },
  {
   "cell_type": "code",
   "execution_count": 10,
   "metadata": {},
   "outputs": [
    {
     "data": {
      "text/plain": [
       "Index(['ID', 'Case Number', 'Date', 'Block', 'IUCR', 'Primary Type',\n",
       "       'Description', 'Location Description', 'Arrest', 'Domestic', 'Beat',\n",
       "       'District', 'Ward', 'Community Area', 'FBI Code', 'X Coordinate',\n",
       "       'Y Coordinate', 'Year', 'Updated On', 'Latitude', 'Longitude',\n",
       "       'Location'],\n",
       "      dtype='object')"
      ]
     },
     "execution_count": 10,
     "metadata": {},
     "output_type": "execute_result"
    }
   ],
   "source": [
    "df.columns"
   ]
  },
  {
   "cell_type": "code",
   "execution_count": 11,
   "metadata": {},
   "outputs": [
    {
     "name": "stdout",
     "output_type": "stream",
     "text": [
      "<class 'pandas.core.frame.DataFrame'>\n",
      "RangeIndex: 39065 entries, 0 to 39064\n",
      "Data columns (total 22 columns):\n",
      "ID                      39065 non-null int64\n",
      "Case Number             39065 non-null object\n",
      "Date                    39065 non-null object\n",
      "Block                   39065 non-null object\n",
      "IUCR                    39065 non-null object\n",
      "Primary Type            39065 non-null object\n",
      "Description             39065 non-null object\n",
      "Location Description    38948 non-null object\n",
      "Arrest                  39065 non-null bool\n",
      "Domestic                39065 non-null bool\n",
      "Beat                    39065 non-null int64\n",
      "District                39065 non-null int64\n",
      "Ward                    39065 non-null int64\n",
      "Community Area          39065 non-null int64\n",
      "FBI Code                39065 non-null object\n",
      "X Coordinate            38292 non-null float64\n",
      "Y Coordinate            38292 non-null float64\n",
      "Year                    39065 non-null int64\n",
      "Updated On              39065 non-null object\n",
      "Latitude                38292 non-null float64\n",
      "Longitude               38292 non-null float64\n",
      "Location                38292 non-null object\n",
      "dtypes: bool(2), float64(4), int64(6), object(10)\n",
      "memory usage: 6.0+ MB\n"
     ]
    }
   ],
   "source": [
    "df.info()"
   ]
  },
  {
   "cell_type": "code",
   "execution_count": 12,
   "metadata": {},
   "outputs": [
    {
     "data": {
      "text/html": [
       "<div>\n",
       "<style scoped>\n",
       "    .dataframe tbody tr th:only-of-type {\n",
       "        vertical-align: middle;\n",
       "    }\n",
       "\n",
       "    .dataframe tbody tr th {\n",
       "        vertical-align: top;\n",
       "    }\n",
       "\n",
       "    .dataframe thead th {\n",
       "        text-align: right;\n",
       "    }\n",
       "</style>\n",
       "<table border=\"1\" class=\"dataframe\">\n",
       "  <thead>\n",
       "    <tr style=\"text-align: right;\">\n",
       "      <th></th>\n",
       "      <th>count</th>\n",
       "      <th>mean</th>\n",
       "      <th>std</th>\n",
       "      <th>min</th>\n",
       "      <th>25%</th>\n",
       "      <th>50%</th>\n",
       "      <th>75%</th>\n",
       "      <th>max</th>\n",
       "    </tr>\n",
       "  </thead>\n",
       "  <tbody>\n",
       "    <tr>\n",
       "      <th>ID</th>\n",
       "      <td>39065.0</td>\n",
       "      <td>1.080743e+07</td>\n",
       "      <td>541147.890628</td>\n",
       "      <td>2.305900e+04</td>\n",
       "      <td>1.081895e+07</td>\n",
       "      <td>1.083481e+07</td>\n",
       "      <td>1.084974e+07</td>\n",
       "      <td>1.088999e+07</td>\n",
       "    </tr>\n",
       "    <tr>\n",
       "      <th>Beat</th>\n",
       "      <td>39065.0</td>\n",
       "      <td>1.159020e+03</td>\n",
       "      <td>696.580344</td>\n",
       "      <td>1.110000e+02</td>\n",
       "      <td>6.130000e+02</td>\n",
       "      <td>1.033000e+03</td>\n",
       "      <td>1.722000e+03</td>\n",
       "      <td>2.535000e+03</td>\n",
       "    </tr>\n",
       "    <tr>\n",
       "      <th>District</th>\n",
       "      <td>39065.0</td>\n",
       "      <td>1.136183e+01</td>\n",
       "      <td>6.959032</td>\n",
       "      <td>1.000000e+00</td>\n",
       "      <td>6.000000e+00</td>\n",
       "      <td>1.000000e+01</td>\n",
       "      <td>1.700000e+01</td>\n",
       "      <td>3.100000e+01</td>\n",
       "    </tr>\n",
       "    <tr>\n",
       "      <th>Ward</th>\n",
       "      <td>39065.0</td>\n",
       "      <td>2.313332e+01</td>\n",
       "      <td>14.027629</td>\n",
       "      <td>1.000000e+00</td>\n",
       "      <td>1.000000e+01</td>\n",
       "      <td>2.400000e+01</td>\n",
       "      <td>3.400000e+01</td>\n",
       "      <td>5.000000e+01</td>\n",
       "    </tr>\n",
       "    <tr>\n",
       "      <th>Community Area</th>\n",
       "      <td>39065.0</td>\n",
       "      <td>3.679662e+01</td>\n",
       "      <td>21.404500</td>\n",
       "      <td>1.000000e+00</td>\n",
       "      <td>2.300000e+01</td>\n",
       "      <td>3.100000e+01</td>\n",
       "      <td>5.500000e+01</td>\n",
       "      <td>7.700000e+01</td>\n",
       "    </tr>\n",
       "    <tr>\n",
       "      <th>X Coordinate</th>\n",
       "      <td>38292.0</td>\n",
       "      <td>1.164413e+06</td>\n",
       "      <td>16170.294287</td>\n",
       "      <td>1.094231e+06</td>\n",
       "      <td>1.152698e+06</td>\n",
       "      <td>1.165977e+06</td>\n",
       "      <td>1.176327e+06</td>\n",
       "      <td>1.204911e+06</td>\n",
       "    </tr>\n",
       "    <tr>\n",
       "      <th>Y Coordinate</th>\n",
       "      <td>38292.0</td>\n",
       "      <td>1.886645e+06</td>\n",
       "      <td>31285.098188</td>\n",
       "      <td>1.813925e+06</td>\n",
       "      <td>1.859284e+06</td>\n",
       "      <td>1.894172e+06</td>\n",
       "      <td>1.909566e+06</td>\n",
       "      <td>1.951493e+06</td>\n",
       "    </tr>\n",
       "    <tr>\n",
       "      <th>Year</th>\n",
       "      <td>39065.0</td>\n",
       "      <td>2.017000e+03</td>\n",
       "      <td>0.000000</td>\n",
       "      <td>2.017000e+03</td>\n",
       "      <td>2.017000e+03</td>\n",
       "      <td>2.017000e+03</td>\n",
       "      <td>2.017000e+03</td>\n",
       "      <td>2.017000e+03</td>\n",
       "    </tr>\n",
       "    <tr>\n",
       "      <th>Latitude</th>\n",
       "      <td>38292.0</td>\n",
       "      <td>4.184455e+01</td>\n",
       "      <td>0.086036</td>\n",
       "      <td>4.164461e+01</td>\n",
       "      <td>4.176919e+01</td>\n",
       "      <td>4.186543e+01</td>\n",
       "      <td>4.190754e+01</td>\n",
       "      <td>4.202254e+01</td>\n",
       "    </tr>\n",
       "    <tr>\n",
       "      <th>Longitude</th>\n",
       "      <td>38292.0</td>\n",
       "      <td>-8.767216e+01</td>\n",
       "      <td>0.058865</td>\n",
       "      <td>-8.792891e+01</td>\n",
       "      <td>-8.771467e+01</td>\n",
       "      <td>-8.766621e+01</td>\n",
       "      <td>-8.762855e+01</td>\n",
       "      <td>-8.752527e+01</td>\n",
       "    </tr>\n",
       "  </tbody>\n",
       "</table>\n",
       "</div>"
      ],
      "text/plain": [
       "                  count          mean            std           min  \\\n",
       "ID              39065.0  1.080743e+07  541147.890628  2.305900e+04   \n",
       "Beat            39065.0  1.159020e+03     696.580344  1.110000e+02   \n",
       "District        39065.0  1.136183e+01       6.959032  1.000000e+00   \n",
       "Ward            39065.0  2.313332e+01      14.027629  1.000000e+00   \n",
       "Community Area  39065.0  3.679662e+01      21.404500  1.000000e+00   \n",
       "X Coordinate    38292.0  1.164413e+06   16170.294287  1.094231e+06   \n",
       "Y Coordinate    38292.0  1.886645e+06   31285.098188  1.813925e+06   \n",
       "Year            39065.0  2.017000e+03       0.000000  2.017000e+03   \n",
       "Latitude        38292.0  4.184455e+01       0.086036  4.164461e+01   \n",
       "Longitude       38292.0 -8.767216e+01       0.058865 -8.792891e+01   \n",
       "\n",
       "                         25%           50%           75%           max  \n",
       "ID              1.081895e+07  1.083481e+07  1.084974e+07  1.088999e+07  \n",
       "Beat            6.130000e+02  1.033000e+03  1.722000e+03  2.535000e+03  \n",
       "District        6.000000e+00  1.000000e+01  1.700000e+01  3.100000e+01  \n",
       "Ward            1.000000e+01  2.400000e+01  3.400000e+01  5.000000e+01  \n",
       "Community Area  2.300000e+01  3.100000e+01  5.500000e+01  7.700000e+01  \n",
       "X Coordinate    1.152698e+06  1.165977e+06  1.176327e+06  1.204911e+06  \n",
       "Y Coordinate    1.859284e+06  1.894172e+06  1.909566e+06  1.951493e+06  \n",
       "Year            2.017000e+03  2.017000e+03  2.017000e+03  2.017000e+03  \n",
       "Latitude        4.176919e+01  4.186543e+01  4.190754e+01  4.202254e+01  \n",
       "Longitude      -8.771467e+01 -8.766621e+01 -8.762855e+01 -8.752527e+01  "
      ]
     },
     "execution_count": 12,
     "metadata": {},
     "output_type": "execute_result"
    }
   ],
   "source": [
    "df.describe().T"
   ]
  },
  {
   "cell_type": "code",
   "execution_count": 13,
   "metadata": {},
   "outputs": [
    {
     "data": {
      "text/plain": [
       "ID                        int64\n",
       "Case Number              object\n",
       "Date                     object\n",
       "Block                    object\n",
       "IUCR                     object\n",
       "Primary Type             object\n",
       "Description              object\n",
       "Location Description     object\n",
       "Arrest                     bool\n",
       "Domestic                   bool\n",
       "Beat                      int64\n",
       "District                  int64\n",
       "Ward                      int64\n",
       "Community Area            int64\n",
       "FBI Code                 object\n",
       "X Coordinate            float64\n",
       "Y Coordinate            float64\n",
       "Year                      int64\n",
       "Updated On               object\n",
       "Latitude                float64\n",
       "Longitude               float64\n",
       "Location                 object\n",
       "dtype: object"
      ]
     },
     "execution_count": 13,
     "metadata": {},
     "output_type": "execute_result"
    }
   ],
   "source": [
    "df.dtypes"
   ]
  },
  {
   "cell_type": "code",
   "execution_count": 14,
   "metadata": {},
   "outputs": [
    {
     "data": {
      "text/plain": [
       "ID                        0\n",
       "Case Number               0\n",
       "Date                      0\n",
       "Block                     0\n",
       "IUCR                      0\n",
       "Primary Type              0\n",
       "Description               0\n",
       "Location Description    117\n",
       "Arrest                    0\n",
       "Domestic                  0\n",
       "Beat                      0\n",
       "District                  0\n",
       "Ward                      0\n",
       "Community Area            0\n",
       "FBI Code                  0\n",
       "X Coordinate            773\n",
       "Y Coordinate            773\n",
       "Year                      0\n",
       "Updated On                0\n",
       "Latitude                773\n",
       "Longitude               773\n",
       "Location                773\n",
       "dtype: int64"
      ]
     },
     "execution_count": 14,
     "metadata": {},
     "output_type": "execute_result"
    }
   ],
   "source": [
    "df.isnull().sum()                  # check for null values"
   ]
  },
  {
   "cell_type": "code",
   "execution_count": 15,
   "metadata": {},
   "outputs": [],
   "source": [
    "# Drop lines containing missing values\n",
    "df.dropna(inplace=True, axis=0)"
   ]
  },
  {
   "cell_type": "code",
   "execution_count": 16,
   "metadata": {},
   "outputs": [],
   "source": [
    "# Convert the Date column to a datetime format, not considering the time\n",
    "df['Date'] = pd.to_datetime(df['Date'].str[0:10], format='%m/%d/%Y')"
   ]
  },
  {
   "cell_type": "code",
   "execution_count": 17,
   "metadata": {},
   "outputs": [
    {
     "data": {
      "text/plain": [
       "ID                               int64\n",
       "Case Number                     object\n",
       "Date                    datetime64[ns]\n",
       "Block                           object\n",
       "IUCR                            object\n",
       "Primary Type                    object\n",
       "Description                     object\n",
       "Location Description            object\n",
       "Arrest                            bool\n",
       "Domestic                          bool\n",
       "Beat                             int64\n",
       "District                         int64\n",
       "Ward                             int64\n",
       "Community Area                   int64\n",
       "FBI Code                        object\n",
       "X Coordinate                   float64\n",
       "Y Coordinate                   float64\n",
       "Year                             int64\n",
       "Updated On                      object\n",
       "Latitude                       float64\n",
       "Longitude                      float64\n",
       "Location                        object\n",
       "dtype: object"
      ]
     },
     "execution_count": 17,
     "metadata": {},
     "output_type": "execute_result"
    }
   ],
   "source": [
    "df.dtypes"
   ]
  },
  {
   "cell_type": "code",
   "execution_count": 18,
   "metadata": {},
   "outputs": [],
   "source": [
    "# Make the Primary Type column categorical\n",
    "df['Primary Type'] = df['Primary Type'].astype(\"category\")"
   ]
  },
  {
   "cell_type": "code",
   "execution_count": 19,
   "metadata": {
    "scrolled": true
   },
   "outputs": [
    {
     "data": {
      "text/plain": [
       "ID                               int64\n",
       "Case Number                     object\n",
       "Date                    datetime64[ns]\n",
       "Block                           object\n",
       "IUCR                            object\n",
       "Primary Type                  category\n",
       "Description                     object\n",
       "Location Description            object\n",
       "Arrest                            bool\n",
       "Domestic                          bool\n",
       "Beat                             int64\n",
       "District                         int64\n",
       "Ward                             int64\n",
       "Community Area                   int64\n",
       "FBI Code                        object\n",
       "X Coordinate                   float64\n",
       "Y Coordinate                   float64\n",
       "Year                             int64\n",
       "Updated On                      object\n",
       "Latitude                       float64\n",
       "Longitude                      float64\n",
       "Location                        object\n",
       "dtype: object"
      ]
     },
     "execution_count": 19,
     "metadata": {},
     "output_type": "execute_result"
    }
   ],
   "source": [
    "df.dtypes"
   ]
  },
  {
   "cell_type": "markdown",
   "metadata": {},
   "source": [
    "## 1. What are the top 12 most common crimes of the period?"
   ]
  },
  {
   "cell_type": "code",
   "execution_count": 20,
   "metadata": {},
   "outputs": [
    {
     "data": {
      "text/plain": [
       "THEFT                                8834\n",
       "BATTERY                              6730\n",
       "CRIMINAL DAMAGE                      4328\n",
       "OTHER OFFENSE                        2764\n",
       "ASSAULT                              2577\n",
       "DECEPTIVE PRACTICE                   2331\n",
       "BURGLARY                             2163\n",
       "MOTOR VEHICLE THEFT                  2012\n",
       "ROBBERY                              1820\n",
       "NARCOTICS                            1483\n",
       "CRIMINAL TRESPASS                    1067\n",
       "WEAPONS VIOLATION                     647\n",
       "OFFENSE INVOLVING CHILDREN            293\n",
       "PUBLIC PEACE VIOLATION                212\n",
       "CRIM SEXUAL ASSAULT                   210\n",
       "INTERFERENCE WITH PUBLIC OFFICER      168\n",
       "PROSTITUTION                          135\n",
       "SEX OFFENSE                           114\n",
       "HOMICIDE                               98\n",
       "ARSON                                  73\n",
       "STALKING                               29\n",
       "LIQUOR LAW VIOLATION                   28\n",
       "INTIMIDATION                           23\n",
       "KIDNAPPING                             20\n",
       "GAMBLING                               10\n",
       "CONCEALED CARRY LICENSE VIOLATION      10\n",
       "OBSCENITY                               6\n",
       "NON-CRIMINAL                            4\n",
       "PUBLIC INDECENCY                        2\n",
       "NON-CRIMINAL (SUBJECT SPECIFIED)        1\n",
       "Name: Primary Type, dtype: int64"
      ]
     },
     "execution_count": 20,
     "metadata": {},
     "output_type": "execute_result"
    }
   ],
   "source": [
    "df['Primary Type'].value_counts()                # NO of records for each crime"
   ]
  },
  {
   "cell_type": "code",
   "execution_count": 21,
   "metadata": {},
   "outputs": [],
   "source": [
    "# from the above result we can identify the top 12 crimes"
   ]
  },
  {
   "cell_type": "markdown",
   "metadata": {},
   "source": [
    "\n",
    "\n",
    "# Answer\n",
    "THEFT                                \n",
    "BATTERY                              \n",
    "CRIMINAL DAMAGE                      \n",
    "OTHER OFFENSE                        \n",
    "ASSAULT                              \n",
    "DECEPTIVE PRACTICE                   \n",
    "BURGLARY                             \n",
    "MOTOR VEHICLE THEFT                  \n",
    "ROBBERY                              \n",
    "NARCOTICS                            \n",
    "CRIMINAL TRESPASS                    \n",
    "WEAPONS VIOLATION                     "
   ]
  },
  {
   "cell_type": "code",
   "execution_count": 22,
   "metadata": {},
   "outputs": [],
   "source": [
    "# Another method\n",
    "# Create a new dataframe gr_by_crime_type\n",
    "gr_by_crime_type = df[['Primary Type', 'Block']].groupby('Primary Type').agg('count')\n",
    "gr_by_crime_type.reset_index(inplace=True)\n",
    "gr_by_crime_type.columns = ['CrimeType', 'Quantity']"
   ]
  },
  {
   "cell_type": "code",
   "execution_count": 23,
   "metadata": {},
   "outputs": [],
   "source": [
    "# Sort the data by quantity in descending order\n",
    "gr_by_crime_type.sort_values(by='Quantity', ascending=False, inplace = True)"
   ]
  },
  {
   "cell_type": "code",
   "execution_count": 24,
   "metadata": {},
   "outputs": [
    {
     "data": {
      "text/plain": [
       "28                  THEFT\n",
       "2                 BATTERY\n",
       "6         CRIMINAL DAMAGE\n",
       "21          OTHER OFFENSE\n",
       "1                 ASSAULT\n",
       "8      DECEPTIVE PRACTICE\n",
       "3                BURGLARY\n",
       "15    MOTOR VEHICLE THEFT\n",
       "25                ROBBERY\n",
       "16              NARCOTICS\n",
       "7       CRIMINAL TRESPASS\n",
       "29      WEAPONS VIOLATION\n",
       "Name: CrimeType, dtype: category\n",
       "Categories (30, object): [ARSON, ASSAULT, BATTERY, BURGLARY, ..., SEX OFFENSE, STALKING, THEFT, WEAPONS VIOLATION]"
      ]
     },
     "execution_count": 24,
     "metadata": {},
     "output_type": "execute_result"
    }
   ],
   "source": [
    "# Subset the top 12 crimes\n",
    "top_12_crimes = gr_by_crime_type['CrimeType'][0:12]\n",
    "top_12_crimes"
   ]
  },
  {
   "cell_type": "markdown",
   "metadata": {},
   "source": [
    "## Question 2: What are the crime types that have median above 50 crimes/day?"
   ]
  },
  {
   "cell_type": "code",
   "execution_count": 25,
   "metadata": {},
   "outputs": [],
   "source": [
    "# Create a new dataframe grouped by day\n",
    "grp_by_day = df[['Primary Type', 'Date', 'Block']].groupby(['Primary Type', 'Date']).agg('count')"
   ]
  },
  {
   "cell_type": "code",
   "execution_count": 26,
   "metadata": {},
   "outputs": [],
   "source": [
    "grp_by_day.reset_index(inplace=True)\n"
   ]
  },
  {
   "cell_type": "code",
   "execution_count": 27,
   "metadata": {},
   "outputs": [],
   "source": [
    "grp_by_day.columns = ['CrimeType', 'Date', 'Quantity']\n"
   ]
  },
  {
   "cell_type": "code",
   "execution_count": 28,
   "metadata": {},
   "outputs": [],
   "source": [
    "# Filter just the top 12 crimes\n",
    "grp_by_day = grp_by_day[grp_by_day.CrimeType.isin(top_12_crimes)]"
   ]
  },
  {
   "cell_type": "code",
   "execution_count": 29,
   "metadata": {},
   "outputs": [
    {
     "data": {
      "text/plain": [
       "[ASSAULT, BATTERY, BURGLARY, CRIMINAL DAMAGE, CRIMINAL TRESPASS, ..., NARCOTICS, OTHER OFFENSE, ROBBERY, THEFT, WEAPONS VIOLATION]\n",
       "Length: 12\n",
       "Categories (12, object): [ASSAULT, BATTERY, BURGLARY, CRIMINAL DAMAGE, ..., OTHER OFFENSE, ROBBERY, THEFT, WEAPONS VIOLATION]"
      ]
     },
     "execution_count": 29,
     "metadata": {},
     "output_type": "execute_result"
    }
   ],
   "source": [
    "# Explore the new data set\n",
    "grp_by_day.CrimeType.unique()"
   ]
  },
  {
   "cell_type": "code",
   "execution_count": 30,
   "metadata": {},
   "outputs": [
    {
     "data": {
      "image/png": "[encoded data removed]",
      "text/plain": [
       "<Figure size 1080x1080 with 1 Axes>"
      ]
     },
     "metadata": {
      "needs_background": "light"
     },
     "output_type": "display_data"
    }
   ],
   "source": [
    "# Plot the boxplot\n",
    "plt.figure(figsize=(15,15))\n",
    "g = sns.boxplot(data=grp_by_day, y='CrimeType', x = 'Quantity')\n",
    "plt.xticks(rotation=0)\n",
    "plt.show()"
   ]
  },
  {
   "cell_type": "markdown",
   "metadata": {},
   "source": [
    "we could see from the plot, the three categories with more than 50 crimes/day are: **THEFT**, **BATTERY** and **CRIMINAL DAMAGE**."
   ]
  },
  {
   "cell_type": "markdown",
   "metadata": {},
   "source": [
    "## Question 3: For each crime type identified in the last question, use the latitude and longitude into a KDE plot, to analyse its spread."
   ]
  },
  {
   "cell_type": "code",
   "execution_count": 31,
   "metadata": {},
   "outputs": [],
   "source": [
    "# Create new datasets for theft, battery, criminal_damage\n",
    "theft = df[['Latitude','Longitude']][df['Primary Type'] == 'THEFT']\n",
    "battery = df[['Latitude','Longitude']][df['Primary Type'] == 'BATTERY']\n",
    "criminal_damage = df[['Latitude','Longitude']][df['Primary Type'] == 'CRIMINAL DAMAGE']"
   ]
  },
  {
   "cell_type": "code",
   "execution_count": 32,
   "metadata": {},
   "outputs": [
    {
     "name": "stderr",
     "output_type": "stream",
     "text": [
      "C:\\Users\\lenovo\\Anaconda3\\lib\\site-packages\\scipy\\stats\\stats.py:1713: FutureWarning: Using a non-tuple sequence for multidimensional indexing is deprecated; use `arr[tuple(seq)]` instead of `arr[seq]`. In the future this will be interpreted as an array index, `arr[np.array(seq)]`, which will result either in an error or a different result.\n",
      "  return np.add.reduce(sorted[indexer] * weights, axis=axis) / sumval\n"
     ]
    },
    {
     "data": {
      "image/png": "[encoded data removed]",
      "text/plain": [
       "<Figure size 576x576 with 1 Axes>"
      ]
     },
     "metadata": {
      "needs_background": "light"
     },
     "output_type": "display_data"
    }
   ],
   "source": [
    "# Plot the THEFT crimes in red\n",
    "f, ax = plt.subplots(figsize=(8, 8))\n",
    "ax.set_aspect(\"equal\")\n",
    "ax = sns.kdeplot(theft.Latitude, theft.Longitude, cmap=\"Reds\", shade=True, shade_lowest=False)"
   ]
  },
  {
   "cell_type": "code",
   "execution_count": 33,
   "metadata": {},
   "outputs": [
    {
     "name": "stderr",
     "output_type": "stream",
     "text": [
      "C:\\Users\\lenovo\\Anaconda3\\lib\\site-packages\\scipy\\stats\\stats.py:1713: FutureWarning: Using a non-tuple sequence for multidimensional indexing is deprecated; use `arr[tuple(seq)]` instead of `arr[seq]`. In the future this will be interpreted as an array index, `arr[np.array(seq)]`, which will result either in an error or a different result.\n",
      "  return np.add.reduce(sorted[indexer] * weights, axis=axis) / sumval\n"
     ]
    },
    {
     "data": {
      "image/png": "[encoded data removed]",
      "text/plain": [
       "<Figure size 576x576 with 1 Axes>"
      ]
     },
     "metadata": {
      "needs_background": "light"
     },
     "output_type": "display_data"
    }
   ],
   "source": [
    "# Plot the BATTERY crimes in blue\n",
    "f, ax = plt.subplots(figsize=(8, 8))\n",
    "ax.set_aspect(\"equal\")\n",
    "ax = sns.kdeplot(battery.Latitude, battery.Longitude, cmap=\"Blues\", shade=True, shade_lowest=False)"
   ]
  },
  {
   "cell_type": "code",
   "execution_count": 34,
   "metadata": {},
   "outputs": [
    {
     "name": "stderr",
     "output_type": "stream",
     "text": [
      "C:\\Users\\lenovo\\Anaconda3\\lib\\site-packages\\scipy\\stats\\stats.py:1713: FutureWarning: Using a non-tuple sequence for multidimensional indexing is deprecated; use `arr[tuple(seq)]` instead of `arr[seq]`. In the future this will be interpreted as an array index, `arr[np.array(seq)]`, which will result either in an error or a different result.\n",
      "  return np.add.reduce(sorted[indexer] * weights, axis=axis) / sumval\n"
     ]
    },
    {
     "data": {
      "image/png": "[encoded data removed]",
      "text/plain": [
       "<Figure size 576x576 with 1 Axes>"
      ]
     },
     "metadata": {
      "needs_background": "light"
     },
     "output_type": "display_data"
    }
   ],
   "source": [
    "# Plot the CRIMINAL DAMAGE crimes in green\n",
    "f, ax = plt.subplots(figsize=(8, 8))\n",
    "ax.set_aspect(\"equal\")\n",
    "ax = sns.kdeplot(criminal_damage.Latitude, criminal_damage.Longitude, cmap=\"Greens\", shade=True, shade_lowest=False)"
   ]
  },
  {
   "cell_type": "markdown",
   "metadata": {},
   "source": [
    "## Question 4: For each crime type plotted into KDE, discover the mean of the coordinates (latitude and longitude)."
   ]
  },
  {
   "cell_type": "code",
   "execution_count": 35,
   "metadata": {},
   "outputs": [],
   "source": [
    "# Store means into variables\n",
    "theft_center_lat = theft.Latitude.mean()\n",
    "theft_center_long = theft.Longitude.mean()\n",
    "battery_center_lat = battery.Latitude.mean()\n",
    "battery_center_long = battery.Longitude.mean()\n",
    "criminal_damage_center_lat = criminal_damage.Latitude.mean()\n",
    "criminal_damage_center_long = criminal_damage.Longitude.mean()"
   ]
  },
  {
   "cell_type": "code",
   "execution_count": 173,
   "metadata": {},
   "outputs": [
    {
     "name": "stdout",
     "output_type": "stream",
     "text": [
      "THEFT coordinate: (41.862720,-87.667282)\n",
      "BATTERY coordinate: (41.831977,-87.668571)\n",
      "CRIMINAL DAMAGE coordinate: (41.837694,-87.673674)\n"
     ]
    }
   ],
   "source": [
    "# Print the central coordinates\n",
    "print('THEFT coordinate: ({:f},{:f})'.format(theft_center_lat, theft_center_long))\n",
    "print('BATTERY coordinate: ({:f},{:f})'.format(battery_center_lat, battery_center_long))\n",
    "print('CRIMINAL DAMAGE coordinate: ({:f},{:f})'.format(criminal_damage_center_lat, criminal_damage_center_long))"
   ]
  },
  {
   "cell_type": "code",
   "execution_count": null,
   "metadata": {},
   "outputs": [],
   "source": []
  },
  {
   "cell_type": "code",
   "execution_count": 2,
   "metadata": {},
   "outputs": [
    {
     "name": "stderr",
     "output_type": "stream",
     "text": [
      "Enabling notebook extension jupyter-js-widgets/extension...\n",
      "      - Validating: ok\n"
     ]
    }
   ],
   "source": [
    "! jupyter nbextension enable --py --sys-prefix widgetsnbextension"
   ]
  },
  {
   "cell_type": "code",
   "execution_count": 3,
   "metadata": {},
   "outputs": [
    {
     "name": "stdout",
     "output_type": "stream",
     "text": [
      "Requirement already satisfied: gmaps in c:\\users\\lenovo\\anaconda3\\lib\\site-packages (0.8.4)\n",
      "Requirement already satisfied: six in c:\\users\\lenovo\\anaconda3\\lib\\site-packages (from gmaps) (1.11.0)\n",
      "Requirement already satisfied: traitlets>=4.3.0 in c:\\users\\lenovo\\anaconda3\\lib\\site-packages (from gmaps) (4.3.2)\n",
      "Requirement already satisfied: ipython>=5.3.0 in c:\\users\\lenovo\\anaconda3\\lib\\site-packages (from gmaps) (6.5.0)\n",
      "Requirement already satisfied: geojson>=2.0.0 in c:\\users\\lenovo\\anaconda3\\lib\\site-packages (from gmaps) (2.4.1)\n",
      "Requirement already satisfied: ipywidgets>=7.0.0 in c:\\users\\lenovo\\anaconda3\\lib\\site-packages (from gmaps) (7.4.1)\n",
      "Requirement already satisfied: ipython-genutils in c:\\users\\lenovo\\anaconda3\\lib\\site-packages (from traitlets>=4.3.0->gmaps) (0.2.0)\n",
      "Requirement already satisfied: decorator in c:\\users\\lenovo\\anaconda3\\lib\\site-packages (from traitlets>=4.3.0->gmaps) (4.3.0)\n",
      "Requirement already satisfied: backcall in c:\\users\\lenovo\\anaconda3\\lib\\site-packages (from ipython>=5.3.0->gmaps) (0.1.0)\n",
      "Requirement already satisfied: prompt-toolkit<2.0.0,>=1.0.15 in c:\\users\\lenovo\\anaconda3\\lib\\site-packages (from ipython>=5.3.0->gmaps) (1.0.15)\n",
      "Requirement already satisfied: setuptools>=18.5 in c:\\users\\lenovo\\anaconda3\\lib\\site-packages (from ipython>=5.3.0->gmaps) (40.2.0)\n",
      "Requirement already satisfied: colorama; sys_platform == \"win32\" in c:\\users\\lenovo\\anaconda3\\lib\\site-packages (from ipython>=5.3.0->gmaps) (0.3.9)\n",
      "Requirement already satisfied: simplegeneric>0.8 in c:\\users\\lenovo\\anaconda3\\lib\\site-packages (from ipython>=5.3.0->gmaps) (0.8.1)\n",
      "Requirement already satisfied: jedi>=0.10 in c:\\users\\lenovo\\anaconda3\\lib\\site-packages (from ipython>=5.3.0->gmaps) (0.12.1)\n",
      "Requirement already satisfied: pygments in c:\\users\\lenovo\\anaconda3\\lib\\site-packages (from ipython>=5.3.0->gmaps) (2.2.0)\n",
      "Requirement already satisfied: pickleshare in c:\\users\\lenovo\\anaconda3\\lib\\site-packages (from ipython>=5.3.0->gmaps) (0.7.4)\n",
      "Requirement already satisfied: nbformat>=4.2.0 in c:\\users\\lenovo\\anaconda3\\lib\\site-packages (from ipywidgets>=7.0.0->gmaps) (4.4.0)\n",
      "Requirement already satisfied: widgetsnbextension~=3.4.0 in c:\\users\\lenovo\\anaconda3\\lib\\site-packages (from ipywidgets>=7.0.0->gmaps) (3.4.1)\n",
      "Requirement already satisfied: ipykernel>=4.5.1 in c:\\users\\lenovo\\anaconda3\\lib\\site-packages (from ipywidgets>=7.0.0->gmaps) (4.10.0)\n",
      "Requirement already satisfied: wcwidth in c:\\users\\lenovo\\anaconda3\\lib\\site-packages (from prompt-toolkit<2.0.0,>=1.0.15->ipython>=5.3.0->gmaps) (0.1.7)\n",
      "Requirement already satisfied: parso>=0.3.0 in c:\\users\\lenovo\\anaconda3\\lib\\site-packages (from jedi>=0.10->ipython>=5.3.0->gmaps) (0.3.1)\n",
      "Requirement already satisfied: jsonschema!=2.5.0,>=2.4 in c:\\users\\lenovo\\anaconda3\\lib\\site-packages (from nbformat>=4.2.0->ipywidgets>=7.0.0->gmaps) (2.6.0)\n",
      "Requirement already satisfied: jupyter-core in c:\\users\\lenovo\\anaconda3\\lib\\site-packages (from nbformat>=4.2.0->ipywidgets>=7.0.0->gmaps) (4.4.0)\n",
      "Requirement already satisfied: notebook>=4.4.1 in c:\\users\\lenovo\\anaconda3\\lib\\site-packages (from widgetsnbextension~=3.4.0->ipywidgets>=7.0.0->gmaps) (5.6.0)\n",
      "Requirement already satisfied: jupyter_client in c:\\users\\lenovo\\anaconda3\\lib\\site-packages (from ipykernel>=4.5.1->ipywidgets>=7.0.0->gmaps) (5.2.3)\n",
      "Requirement already satisfied: tornado>=4.0 in c:\\users\\lenovo\\anaconda3\\lib\\site-packages (from ipykernel>=4.5.1->ipywidgets>=7.0.0->gmaps) (5.1)\n",
      "Requirement already satisfied: prometheus-client in c:\\users\\lenovo\\anaconda3\\lib\\site-packages (from notebook>=4.4.1->widgetsnbextension~=3.4.0->ipywidgets>=7.0.0->gmaps) (0.3.1)\n",
      "Requirement already satisfied: jinja2 in c:\\users\\lenovo\\anaconda3\\lib\\site-packages (from notebook>=4.4.1->widgetsnbextension~=3.4.0->ipywidgets>=7.0.0->gmaps) (2.10)\n",
      "Requirement already satisfied: nbconvert in c:\\users\\lenovo\\anaconda3\\lib\\site-packages (from notebook>=4.4.1->widgetsnbextension~=3.4.0->ipywidgets>=7.0.0->gmaps) (5.4.0)\n",
      "Requirement already satisfied: Send2Trash in c:\\users\\lenovo\\anaconda3\\lib\\site-packages (from notebook>=4.4.1->widgetsnbextension~=3.4.0->ipywidgets>=7.0.0->gmaps) (1.5.0)\n",
      "Requirement already satisfied: terminado>=0.8.1 in c:\\users\\lenovo\\anaconda3\\lib\\site-packages (from notebook>=4.4.1->widgetsnbextension~=3.4.0->ipywidgets>=7.0.0->gmaps) (0.8.1)\n",
      "Requirement already satisfied: pyzmq>=17 in c:\\users\\lenovo\\anaconda3\\lib\\site-packages (from notebook>=4.4.1->widgetsnbextension~=3.4.0->ipywidgets>=7.0.0->gmaps) (17.1.2)\n",
      "Requirement already satisfied: python-dateutil>=2.1 in c:\\users\\lenovo\\anaconda3\\lib\\site-packages (from jupyter_client->ipykernel>=4.5.1->ipywidgets>=7.0.0->gmaps) (2.7.3)\n",
      "Requirement already satisfied: MarkupSafe>=0.23 in c:\\users\\lenovo\\anaconda3\\lib\\site-packages (from jinja2->notebook>=4.4.1->widgetsnbextension~=3.4.0->ipywidgets>=7.0.0->gmaps) (1.0)\n",
      "Requirement already satisfied: mistune>=0.8.1 in c:\\users\\lenovo\\anaconda3\\lib\\site-packages (from nbconvert->notebook>=4.4.1->widgetsnbextension~=3.4.0->ipywidgets>=7.0.0->gmaps) (0.8.3)\n",
      "Requirement already satisfied: entrypoints>=0.2.2 in c:\\users\\lenovo\\anaconda3\\lib\\site-packages (from nbconvert->notebook>=4.4.1->widgetsnbextension~=3.4.0->ipywidgets>=7.0.0->gmaps) (0.2.3)\n",
      "Requirement already satisfied: bleach in c:\\users\\lenovo\\anaconda3\\lib\\site-packages (from nbconvert->notebook>=4.4.1->widgetsnbextension~=3.4.0->ipywidgets>=7.0.0->gmaps) (2.1.4)\n",
      "Requirement already satisfied: pandocfilters>=1.4.1 in c:\\users\\lenovo\\anaconda3\\lib\\site-packages (from nbconvert->notebook>=4.4.1->widgetsnbextension~=3.4.0->ipywidgets>=7.0.0->gmaps) (1.4.2)\n",
      "Requirement already satisfied: testpath in c:\\users\\lenovo\\anaconda3\\lib\\site-packages (from nbconvert->notebook>=4.4.1->widgetsnbextension~=3.4.0->ipywidgets>=7.0.0->gmaps) (0.3.1)\n",
      "Requirement already satisfied: defusedxml in c:\\users\\lenovo\\anaconda3\\lib\\site-packages (from nbconvert->notebook>=4.4.1->widgetsnbextension~=3.4.0->ipywidgets>=7.0.0->gmaps) (0.5.0)\n",
      "Requirement already satisfied: html5lib!=1.0b1,!=1.0b2,!=1.0b3,!=1.0b4,!=1.0b5,!=1.0b6,!=1.0b7,!=1.0b8,>=0.99999999pre in c:\\users\\lenovo\\anaconda3\\lib\\site-packages (from bleach->nbconvert->notebook>=4.4.1->widgetsnbextension~=3.4.0->ipywidgets>=7.0.0->gmaps) (1.0.1)\n",
      "Requirement already satisfied: webencodings in c:\\users\\lenovo\\anaconda3\\lib\\site-packages (from html5lib!=1.0b1,!=1.0b2,!=1.0b3,!=1.0b4,!=1.0b5,!=1.0b6,!=1.0b7,!=1.0b8,>=0.99999999pre->bleach->nbconvert->notebook>=4.4.1->widgetsnbextension~=3.4.0->ipywidgets>=7.0.0->gmaps) (0.5.1)\n"
     ]
    },
    {
     "name": "stderr",
     "output_type": "stream",
     "text": [
      "twisted 18.7.0 requires PyHamcrest>=1.9.0, which is not installed.\n",
      "mysql-connector-python 8.0.13 requires protobuf>=3.0.0, which is not installed.\n",
      "You are using pip version 10.0.1, however version 19.0.2 is available.\n",
      "You should consider upgrading via the 'python -m pip install --upgrade pip' command.\n"
     ]
    }
   ],
   "source": [
    "! pip install gmaps"
   ]
  },
  {
   "cell_type": "code",
   "execution_count": 4,
   "metadata": {},
   "outputs": [
    {
     "name": "stderr",
     "output_type": "stream",
     "text": [
      "Enabling notebook extension jupyter-gmaps/extension...\n",
      "      - Validating: ok\n"
     ]
    }
   ],
   "source": [
    "! jupyter nbextension enable --py --sys-prefix gmaps"
   ]
  },
  {
   "cell_type": "code",
   "execution_count": 63,
   "metadata": {},
   "outputs": [],
   "source": [
    "import gmaps\n",
    "gmaps.configure(api_key=\"AI....\") # Your Google API key\n",
    "\n",
    "#fig = gmaps.figure()\n",
    "#fig"
   ]
  },
  {
   "cell_type": "code",
   "execution_count": 64,
   "metadata": {},
   "outputs": [
    {
     "data": {
      "text/plain": [
       "pandas.core.frame.DataFrame"
      ]
     },
     "execution_count": 64,
     "metadata": {},
     "output_type": "execute_result"
    }
   ],
   "source": [
    "pd.DataFrame"
   ]
  },
  {
   "cell_type": "code",
   "execution_count": 65,
   "metadata": {},
   "outputs": [],
   "source": [
    "theft_lat = pd.Series(theft.Latitude.mean())\n",
    "theft_long = pd.Series(theft.Longitude.mean())\n",
    "battery_lat = pd.Series(battery.Latitude.mean())\n",
    "battery_long = pd.Series(battery.Longitude.mean())\n",
    "criminal_damage_lat = pd.Series(criminal_damage.Latitude.mean())\n",
    "criminal_damage_long = pd.Series(criminal_damage.Longitude.mean())"
   ]
  },
  {
   "cell_type": "code",
   "execution_count": null,
   "metadata": {},
   "outputs": [],
   "source": []
  },
  {
   "cell_type": "code",
   "execution_count": 66,
   "metadata": {},
   "outputs": [],
   "source": [
    "theft_cord=pd.concat([theft_lat,theft_long],axis=1)\n",
    "battery_cord=pd.concat([battery_lat,battery_long],axis=1)\n",
    "criminal_damage_cord=pd.concat([criminal_damage_lat,criminal_damage_long],axis=1)"
   ]
  },
  {
   "cell_type": "code",
   "execution_count": 86,
   "metadata": {},
   "outputs": [
    {
     "data": {
      "text/html": [
       "<div>\n",
       "<style scoped>\n",
       "    .dataframe tbody tr th:only-of-type {\n",
       "        vertical-align: middle;\n",
       "    }\n",
       "\n",
       "    .dataframe tbody tr th {\n",
       "        vertical-align: top;\n",
       "    }\n",
       "\n",
       "    .dataframe thead th {\n",
       "        text-align: right;\n",
       "    }\n",
       "</style>\n",
       "<table border=\"1\" class=\"dataframe\">\n",
       "  <thead>\n",
       "    <tr style=\"text-align: right;\">\n",
       "      <th></th>\n",
       "      <th>0</th>\n",
       "      <th>1</th>\n",
       "    </tr>\n",
       "  </thead>\n",
       "  <tbody>\n",
       "    <tr>\n",
       "      <th>0</th>\n",
       "      <td>41.86272</td>\n",
       "      <td>-87.667282</td>\n",
       "    </tr>\n",
       "  </tbody>\n",
       "</table>\n",
       "</div>"
      ],
      "text/plain": [
       "          0          1\n",
       "0  41.86272 -87.667282"
      ]
     },
     "execution_count": 86,
     "metadata": {},
     "output_type": "execute_result"
    }
   ],
   "source": [
    "theft_cord"
   ]
  },
  {
   "cell_type": "code",
   "execution_count": 87,
   "metadata": {},
   "outputs": [
    {
     "data": {
      "text/html": [
       "<div>\n",
       "<style scoped>\n",
       "    .dataframe tbody tr th:only-of-type {\n",
       "        vertical-align: middle;\n",
       "    }\n",
       "\n",
       "    .dataframe tbody tr th {\n",
       "        vertical-align: top;\n",
       "    }\n",
       "\n",
       "    .dataframe thead th {\n",
       "        text-align: right;\n",
       "    }\n",
       "</style>\n",
       "<table border=\"1\" class=\"dataframe\">\n",
       "  <thead>\n",
       "    <tr style=\"text-align: right;\">\n",
       "      <th></th>\n",
       "      <th>0</th>\n",
       "      <th>1</th>\n",
       "    </tr>\n",
       "  </thead>\n",
       "  <tbody>\n",
       "    <tr>\n",
       "      <th>0</th>\n",
       "      <td>41.831977</td>\n",
       "      <td>-87.668571</td>\n",
       "    </tr>\n",
       "  </tbody>\n",
       "</table>\n",
       "</div>"
      ],
      "text/plain": [
       "           0          1\n",
       "0  41.831977 -87.668571"
      ]
     },
     "execution_count": 87,
     "metadata": {},
     "output_type": "execute_result"
    }
   ],
   "source": [
    "battery_cord"
   ]
  },
  {
   "cell_type": "code",
   "execution_count": 88,
   "metadata": {},
   "outputs": [
    {
     "data": {
      "text/html": [
       "<div>\n",
       "<style scoped>\n",
       "    .dataframe tbody tr th:only-of-type {\n",
       "        vertical-align: middle;\n",
       "    }\n",
       "\n",
       "    .dataframe tbody tr th {\n",
       "        vertical-align: top;\n",
       "    }\n",
       "\n",
       "    .dataframe thead th {\n",
       "        text-align: right;\n",
       "    }\n",
       "</style>\n",
       "<table border=\"1\" class=\"dataframe\">\n",
       "  <thead>\n",
       "    <tr style=\"text-align: right;\">\n",
       "      <th></th>\n",
       "      <th>0</th>\n",
       "      <th>1</th>\n",
       "    </tr>\n",
       "  </thead>\n",
       "  <tbody>\n",
       "    <tr>\n",
       "      <th>0</th>\n",
       "      <td>41.837694</td>\n",
       "      <td>-87.673674</td>\n",
       "    </tr>\n",
       "  </tbody>\n",
       "</table>\n",
       "</div>"
      ],
      "text/plain": [
       "           0          1\n",
       "0  41.837694 -87.673674"
      ]
     },
     "execution_count": 88,
     "metadata": {},
     "output_type": "execute_result"
    }
   ],
   "source": [
    "criminal_damage_cord"
   ]
  },
  {
   "cell_type": "code",
   "execution_count": 89,
   "metadata": {},
   "outputs": [
    {
     "data": {
      "application/vnd.jupyter.widget-view+json": {
       "model_id": "ff17b49617354c6eae990fff670cdf2a",
       "version_major": 2,
       "version_minor": 0
      },
      "text/plain": [
       "Figure(layout=FigureLayout(height='420px'))"
      ]
     },
     "metadata": {},
     "output_type": "display_data"
    }
   ],
   "source": [
    "\n",
    "import gmaps\n",
    "gmaps.configure(api_key='AI...')         # your Gmaps API\n",
    "\n",
    "marker_locations = [(41.86272,-87.667282),(41.831977,-87.668571),(41.837694,-87.673674)]\n",
    "\n",
    "fig = gmaps.figure()\n",
    "markers = gmaps.marker_layer(marker_locations)\n",
    "fig.add_layer(markers)\n",
    "fig\n"
   ]
  },
  {
   "cell_type": "markdown",
   "metadata": {},
   "source": [
    "The distance from Battery and Criminal Damage are very close, two blocks a apart. But Theft is a little bit further."
   ]
  },
  {
   "cell_type": "markdown",
   "metadata": {},
   "source": [
    "Using the mean of the values is not the best way to calculate the centrality of the data points. Clustering techniches are much more suitable for this task."
   ]
  },
  {
   "cell_type": "code",
   "execution_count": null,
   "metadata": {},
   "outputs": [],
   "source": []
  },
  {
   "cell_type": "code",
   "execution_count": null,
   "metadata": {},
   "outputs": [],
   "source": []
  },
  {
   "cell_type": "code",
   "execution_count": null,
   "metadata": {},
   "outputs": [],
   "source": []
  },
  {
   "cell_type": "code",
   "execution_count": null,
   "metadata": {},
   "outputs": [],
   "source": []
  },
  {
   "cell_type": "code",
   "execution_count": null,
   "metadata": {},
   "outputs": [],
   "source": []
  },
  {
   "cell_type": "code",
   "execution_count": null,
   "metadata": {},
   "outputs": [],
   "source": []
  }
 ],
 "metadata": {
  "kernelspec": {
   "display_name": "Python 3",
   "language": "python",
   "name": "python3"
  },
  "language_info": {
   "codemirror_mode": {
    "name": "ipython",
    "version": 3
   },
   "file_extension": ".py",
   "mimetype": "text/x-python",
   "name": "python",
   "nbconvert_exporter": "python",
   "pygments_lexer": "ipython3",
   "version": "3.7.0"
  }
 },
 "nbformat": 4,
 "nbformat_minor": 2
}
