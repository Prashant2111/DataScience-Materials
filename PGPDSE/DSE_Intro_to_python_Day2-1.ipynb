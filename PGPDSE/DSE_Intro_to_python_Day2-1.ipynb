{
 "cells": [
  {
   "cell_type": "markdown",
   "metadata": {},
   "source": [
    "## Looping in Python\n",
    "\n",
    "### The For loop"
   ]
  },
  {
   "cell_type": "code",
   "execution_count": null,
   "metadata": {},
   "outputs": [],
   "source": [
    "for name in [\"Joe\",\"Zoe\",\"Brad\",\"Angelina\",\"Zuki\",\"Thandi\",\"Paris\"]:\n",
    "    invite = \"Hi \" + name + \".  Please come to my party on Saturday!\"\n",
    "    print(invite)"
   ]
  },
  {
   "cell_type": "markdown",
   "metadata": {},
   "source": [
    "visualise loops through http://www.pythontutor.com/visualize.html#mode=display"
   ]
  },
  {
   "cell_type": "code",
   "execution_count": null,
   "metadata": {},
   "outputs": [],
   "source": [
    "l2=[23,1,0,12,45,-1,46]\n",
    "\n",
    "for x in l2 :\n",
    "    print(x)"
   ]
  },
  {
   "cell_type": "code",
   "execution_count": null,
   "metadata": {},
   "outputs": [],
   "source": [
    "for x in l2:\n",
    "    print(\"hello world\")"
   ]
  },
  {
   "cell_type": "code",
   "execution_count": null,
   "metadata": {},
   "outputs": [],
   "source": [
    "# The following code snippet is to check if a number is divisible by 2.\n",
    "a = 100 # try different values for a\n",
    "if(a % 2 == 0) :   # checks if the remainder is zero when divided by 2 \n",
    "    print(a,\" is even number\")\n",
    "else :\n",
    "    print(a,\" is odd number\") "
   ]
  },
  {
   "cell_type": "markdown",
   "metadata": {},
   "source": [
    "**Q1.** Write a modified version of the code given above so that a message is printed only if the number is even."
   ]
  },
  {
   "cell_type": "code",
   "execution_count": null,
   "metadata": {},
   "outputs": [],
   "source": []
  },
  {
   "cell_type": "markdown",
   "metadata": {},
   "source": [
    "**Q2.** Modify the *if* condition in the code given using the '!=' operator and print if a number is odd."
   ]
  },
  {
   "cell_type": "code",
   "execution_count": null,
   "metadata": {},
   "outputs": [],
   "source": []
  },
  {
   "cell_type": "markdown",
   "metadata": {},
   "source": [
    "#### A loop visualised\n",
    "\n",
    "<img src = 'flowchart_for.png'>"
   ]
  },
  {
   "cell_type": "markdown",
   "metadata": {},
   "source": [
    "### Breaking out of a loop\n",
    "The break statement can be used to halt and exit a loop"
   ]
  },
  {
   "cell_type": "code",
   "execution_count": null,
   "metadata": {},
   "outputs": [],
   "source": [
    "count = 0 \n",
    "myl = [1,2,3,4,5,6,7,8]\n",
    "for x in myl: \n",
    "    print(\"Hello world\")\n",
    "    count=count+1\n",
    "    if(count==2):\n",
    "        break #Break statement will exit the loop block even though the loop can run 8 times\n",
    "print(\"I have exited the loop\")"
   ]
  },
  {
   "cell_type": "markdown",
   "metadata": {},
   "source": [
    "**Q3.** Modify the above program to print the first 2 even numbers from the list ."
   ]
  },
  {
   "cell_type": "code",
   "execution_count": null,
   "metadata": {},
   "outputs": [],
   "source": []
  },
  {
   "cell_type": "markdown",
   "metadata": {},
   "source": [
    "**Q4.** Pick the first 2 even numbers and last 2 odd numbers from the list \"myl\" and store the numbers in a new list and display the new list contents seperately to the user (Hint: Use append() function to add elements to a list) "
   ]
  },
  {
   "cell_type": "code",
   "execution_count": 11,
   "metadata": {},
   "outputs": [
    {
     "name": "stdout",
     "output_type": "stream",
     "text": [
      "found 2 even numbers\n",
      "found 2 odd numbers\n",
      "[2, 4, 9, 11]\n"
     ]
    }
   ],
   "source": [
    "count = 0 \n",
    "k=0\n",
    "myl = [1,2,3,4,5,6,7,8,9,10,11]\n",
    "l1=[]\n",
    "for x in myl: \n",
    "    if(x%2!=0):\n",
    "        k=k+1\n",
    "for x in myl: \n",
    "    if(x%2==0):\n",
    "        l1.append(x)\n",
    "        count=count+1\n",
    "        if(count==2):\n",
    "            break \n",
    "print(\"found 2 even numbers\")\n",
    "\n",
    "count1 = k \n",
    "for x in myl:\n",
    "    if(x%2!=0):\n",
    "        count1=count1-1\n",
    "    if(count1<2 and x%2!=0):\n",
    "        l1.append(x)\n",
    "    if(count1==0):\n",
    "        break\n",
    "print(\"found 2 odd numbers\")\n",
    "print(l1)"
   ]
  },
  {
   "cell_type": "markdown",
   "metadata": {},
   "source": [
    "**Q5.** Print the last 2 odd numbers from the list myl (Note: Do not reverse the list or use a new list)"
   ]
  },
  {
   "cell_type": "code",
   "execution_count": 19,
   "metadata": {},
   "outputs": [
    {
     "name": "stdout",
     "output_type": "stream",
     "text": [
      "7\n",
      "9\n",
      "found 2 odd numbers\n"
     ]
    }
   ],
   "source": [
    "k=0\n",
    "for x in myl: \n",
    "    if(x%2!=0):\n",
    "        k=k+1\n",
    "count1 = k\n",
    "myl = [1,2,3,4,5,6,7,8,9,10]\n",
    "for x in myl:\n",
    "    if(x%2!=0):\n",
    "        count1=count1-1\n",
    "    if(count1<2 and x%2!=0):\n",
    "        print(x)\n",
    "    if(count1==0):\n",
    "        break\n",
    "print(\"found 2 odd numbers\")"
   ]
  },
  {
   "cell_type": "markdown",
   "metadata": {},
   "source": [
    "### The while loop"
   ]
  },
  {
   "cell_type": "code",
   "execution_count": null,
   "metadata": {},
   "outputs": [],
   "source": [
    "# Print \"Hello world\" 10 times \n",
    "count = 1\n",
    "while(count <=10) :\n",
    "    print(\"hello world\")\n",
    "    count = count + 1 "
   ]
  },
  {
   "cell_type": "markdown",
   "metadata": {},
   "source": [
    "**Q6.** What is the significance of incrementing the count variable? What will happen if you ignore this step?"
   ]
  },
  {
   "cell_type": "code",
   "execution_count": null,
   "metadata": {},
   "outputs": [],
   "source": [
    "infinite Loop"
   ]
  },
  {
   "cell_type": "markdown",
   "metadata": {},
   "source": [
    "**Q7.** Modify the above program to print hello world only 5 times , without changing the while(count<= 10)"
   ]
  },
  {
   "cell_type": "code",
   "execution_count": null,
   "metadata": {},
   "outputs": [],
   "source": [
    "count = 1\n",
    "while(count <=10) :\n",
    "    print(\"hello world\")\n",
    "    count = count + 2 "
   ]
  },
  {
   "cell_type": "markdown",
   "metadata": {},
   "source": [
    "**Q8.** Write a program to print the first 10 odd numbers "
   ]
  },
  {
   "cell_type": "code",
   "execution_count": 3,
   "metadata": {},
   "outputs": [
    {
     "name": "stdout",
     "output_type": "stream",
     "text": [
      "1\n",
      "3\n",
      "5\n",
      "7\n",
      "9\n",
      "11\n",
      "13\n",
      "15\n",
      "17\n",
      "19\n"
     ]
    }
   ],
   "source": [
    "i=1\n",
    "count=0\n",
    "while(i>0):\n",
    "    if(i%2!=0):\n",
    "        print(i)\n",
    "        i=i+1\n",
    "        count=count+1\n",
    "        if(count==10):\n",
    "            break\n",
    "    else:\n",
    "        i=i+1\n",
    "         \n"
   ]
  },
  {
   "cell_type": "markdown",
   "metadata": {},
   "source": [
    "**Q9.** Write a a program to find the sum of first 50 natural numbers starting from 1"
   ]
  },
  {
   "cell_type": "code",
   "execution_count": null,
   "metadata": {},
   "outputs": [],
   "source": [
    "i=1\n",
    "j=1\n",
    "sum=0\n",
    "while(i>0):\n",
    "    if(j==50):\n",
    "        break\n",
    "    sum=sum+i\n",
    "    i=i+1\n",
    "    j=j+1\n",
    "        \n",
    "print(sum)"
   ]
  },
  {
   "cell_type": "markdown",
   "metadata": {},
   "source": [
    "**Q10.** Write a program to to find the sum of all the numbers between 555 and 1111 which are divisible by 7"
   ]
  },
  {
   "cell_type": "code",
   "execution_count": 1,
   "metadata": {},
   "outputs": [
    {
     "name": "stdout",
     "output_type": "stream",
     "text": [
      "65807\n"
     ]
    }
   ],
   "source": [
    "i=555\n",
    "sum=0\n",
    "while(i<1112):\n",
    "    if(i%7==0):\n",
    "        sum=sum+i\n",
    "    i=i+1\n",
    "print(sum) "
   ]
  },
  {
   "cell_type": "markdown",
   "metadata": {},
   "source": [
    "**Q11.** Write a program to count the number of numbers between 555 and 1111 which are divisible by 7"
   ]
  },
  {
   "cell_type": "code",
   "execution_count": null,
   "metadata": {},
   "outputs": [],
   "source": [
    "i=555\n",
    "j=0\n",
    "while(i<1112):\n",
    "    if(i%7==0):\n",
    "        j=j+1\n",
    "    i=i+1\n",
    "print(j) "
   ]
  },
  {
   "cell_type": "markdown",
   "metadata": {},
   "source": [
    "**Q12.** Write a program to compute the sum of squares of first 10 natural numbers"
   ]
  },
  {
   "cell_type": "code",
   "execution_count": 5,
   "metadata": {},
   "outputs": [
    {
     "name": "stdout",
     "output_type": "stream",
     "text": [
      "385\n",
      "385\n"
     ]
    }
   ],
   "source": [
    "i=1\n",
    "j=0\n",
    "sum=0\n",
    "while(i<=10):\n",
    "    sum=sum+(i**2)\n",
    "    i=i+1\n",
    "    \n",
    "print(sum)\n",
    "\n",
    "s=0\n",
    "for i in range(1,11):\n",
    "    s=s+(i**2)\n",
    "    \n",
    "print(s)"
   ]
  },
  {
   "cell_type": "markdown",
   "metadata": {},
   "source": [
    "**Q13** Write a program to print the sum of squares of all the even numbers between 334 and 667"
   ]
  },
  {
   "cell_type": "code",
   "execution_count": null,
   "metadata": {},
   "outputs": [],
   "source": [
    "i=334\n",
    "sum=0\n",
    "while(i<=667):\n",
    "    if(i%2==0):\n",
    "        sum=sum+(i**2)\n",
    "    i=i+1\n",
    "print(sum)"
   ]
  }
 ],
 "metadata": {
  "kernelspec": {
   "display_name": "Python 3",
   "language": "python",
   "name": "python3"
  },
  "language_info": {
   "codemirror_mode": {
    "name": "ipython",
    "version": 3
   },
   "file_extension": ".py",
   "mimetype": "text/x-python",
   "name": "python",
   "nbconvert_exporter": "python",
   "pygments_lexer": "ipython3",
   "version": "3.7.0"
  }
 },
 "nbformat": 4,
 "nbformat_minor": 2
}
