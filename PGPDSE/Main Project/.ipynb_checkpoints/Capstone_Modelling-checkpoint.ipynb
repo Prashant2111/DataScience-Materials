{
 "cells": [
  {
   "cell_type": "code",
   "execution_count": 1,
   "metadata": {},
   "outputs": [],
   "source": [
    "#Import Libraries \n",
    "import pandas as pd \n",
    "import numpy as np \n",
    "import matplotlib.pyplot as plt \n",
    "%matplotlib inline "
   ]
  },
  {
   "cell_type": "markdown",
   "metadata": {},
   "source": [
    "Questions: \n",
    "\n",
    "1. Try these things to understand data in more details\n",
    "\n",
    "2. How many articles are there for Palestine and Microsoft each?\n",
    "\n",
    "3. What is hour of publication for each article.\n",
    "\n",
    "4. How many articles are there, where status of all social media platform is greater than zero? How many Microsoft and how many are Palestine.\n",
    "\n",
    "5. How sentimentTitle and Sentiment headings are spread?\n",
    "\n",
    "6. Try to summarize to article and headlines. (We'll discuss this in details in this week)\n",
    "\n",
    "7. For each topic (microsoft and palestine), how many news article are present in their individual social media platform file. \n",
    "\n",
    "8. How are the data spread in separate file for each social media platform file for articles with Facebook/Googleplus/Linkedin values are -1.\n",
    "\n",
    "9. How are the data spread in separate file for each social media platform file for articles with Facebook/Googleplus/Linkedin values are -1.\n",
    "\n",
    "10. What meaning is coming out of Facebook/Googleplus/Linkedin columns with columns -1 and 0"
   ]
  },
  {
   "cell_type": "code",
   "execution_count": 2,
   "metadata": {},
   "outputs": [],
   "source": [
    "df = pd.read_csv('News_Final.csv')"
   ]
  },
  {
   "cell_type": "code",
   "execution_count": 3,
   "metadata": {},
   "outputs": [
    {
     "data": {
      "text/plain": [
       "(93239, 11)"
      ]
     },
     "execution_count": 3,
     "metadata": {},
     "output_type": "execute_result"
    }
   ],
   "source": [
    "df.shape"
   ]
  },
  {
   "cell_type": "code",
   "execution_count": 4,
   "metadata": {},
   "outputs": [
    {
     "data": {
      "text/html": [
       "<div>\n",
       "<style scoped>\n",
       "    .dataframe tbody tr th:only-of-type {\n",
       "        vertical-align: middle;\n",
       "    }\n",
       "\n",
       "    .dataframe tbody tr th {\n",
       "        vertical-align: top;\n",
       "    }\n",
       "\n",
       "    .dataframe thead th {\n",
       "        text-align: right;\n",
       "    }\n",
       "</style>\n",
       "<table border=\"1\" class=\"dataframe\">\n",
       "  <thead>\n",
       "    <tr style=\"text-align: right;\">\n",
       "      <th></th>\n",
       "      <th>IDLink</th>\n",
       "      <th>Title</th>\n",
       "      <th>Headline</th>\n",
       "      <th>Source</th>\n",
       "      <th>Topic</th>\n",
       "      <th>PublishDate</th>\n",
       "      <th>SentimentTitle</th>\n",
       "      <th>SentimentHeadline</th>\n",
       "      <th>Facebook</th>\n",
       "      <th>GooglePlus</th>\n",
       "      <th>LinkedIn</th>\n",
       "    </tr>\n",
       "  </thead>\n",
       "  <tbody>\n",
       "    <tr>\n",
       "      <th>0</th>\n",
       "      <td>99248.0</td>\n",
       "      <td>Obama Lays Wreath at Arlington National Cemetery</td>\n",
       "      <td>Obama Lays Wreath at Arlington National Cemete...</td>\n",
       "      <td>USA TODAY</td>\n",
       "      <td>obama</td>\n",
       "      <td>2002-04-02 00:00:00</td>\n",
       "      <td>0.000000</td>\n",
       "      <td>-0.053300</td>\n",
       "      <td>-1</td>\n",
       "      <td>-1</td>\n",
       "      <td>-1</td>\n",
       "    </tr>\n",
       "    <tr>\n",
       "      <th>1</th>\n",
       "      <td>10423.0</td>\n",
       "      <td>A Look at the Health of the Chinese Economy</td>\n",
       "      <td>Tim Haywood, investment director business-unit...</td>\n",
       "      <td>Bloomberg</td>\n",
       "      <td>economy</td>\n",
       "      <td>2008-09-20 00:00:00</td>\n",
       "      <td>0.208333</td>\n",
       "      <td>-0.156386</td>\n",
       "      <td>-1</td>\n",
       "      <td>-1</td>\n",
       "      <td>-1</td>\n",
       "    </tr>\n",
       "    <tr>\n",
       "      <th>2</th>\n",
       "      <td>18828.0</td>\n",
       "      <td>Nouriel Roubini: Global Economy Not Back to 2008</td>\n",
       "      <td>Nouriel Roubini, NYU professor and chairman at...</td>\n",
       "      <td>Bloomberg</td>\n",
       "      <td>economy</td>\n",
       "      <td>2012-01-28 00:00:00</td>\n",
       "      <td>-0.425210</td>\n",
       "      <td>0.139754</td>\n",
       "      <td>-1</td>\n",
       "      <td>-1</td>\n",
       "      <td>-1</td>\n",
       "    </tr>\n",
       "    <tr>\n",
       "      <th>3</th>\n",
       "      <td>27788.0</td>\n",
       "      <td>Finland GDP Expands In Q4</td>\n",
       "      <td>Finland's economy expanded marginally in the t...</td>\n",
       "      <td>RTT News</td>\n",
       "      <td>economy</td>\n",
       "      <td>2015-03-01 00:06:00</td>\n",
       "      <td>0.000000</td>\n",
       "      <td>0.026064</td>\n",
       "      <td>-1</td>\n",
       "      <td>-1</td>\n",
       "      <td>-1</td>\n",
       "    </tr>\n",
       "    <tr>\n",
       "      <th>4</th>\n",
       "      <td>27789.0</td>\n",
       "      <td>Tourism, govt spending buoys Thai economy in J...</td>\n",
       "      <td>Tourism and public spending continued to boost...</td>\n",
       "      <td>The Nation - Thailand&amp;#39;s English news</td>\n",
       "      <td>economy</td>\n",
       "      <td>2015-03-01 00:11:00</td>\n",
       "      <td>0.000000</td>\n",
       "      <td>0.141084</td>\n",
       "      <td>-1</td>\n",
       "      <td>-1</td>\n",
       "      <td>-1</td>\n",
       "    </tr>\n",
       "  </tbody>\n",
       "</table>\n",
       "</div>"
      ],
      "text/plain": [
       "    IDLink                                              Title  \\\n",
       "0  99248.0   Obama Lays Wreath at Arlington National Cemetery   \n",
       "1  10423.0        A Look at the Health of the Chinese Economy   \n",
       "2  18828.0   Nouriel Roubini: Global Economy Not Back to 2008   \n",
       "3  27788.0                          Finland GDP Expands In Q4   \n",
       "4  27789.0  Tourism, govt spending buoys Thai economy in J...   \n",
       "\n",
       "                                            Headline  \\\n",
       "0  Obama Lays Wreath at Arlington National Cemete...   \n",
       "1  Tim Haywood, investment director business-unit...   \n",
       "2  Nouriel Roubini, NYU professor and chairman at...   \n",
       "3  Finland's economy expanded marginally in the t...   \n",
       "4  Tourism and public spending continued to boost...   \n",
       "\n",
       "                                     Source    Topic          PublishDate  \\\n",
       "0                                 USA TODAY    obama  2002-04-02 00:00:00   \n",
       "1                                 Bloomberg  economy  2008-09-20 00:00:00   \n",
       "2                                 Bloomberg  economy  2012-01-28 00:00:00   \n",
       "3                                  RTT News  economy  2015-03-01 00:06:00   \n",
       "4  The Nation - Thailand&#39;s English news  economy  2015-03-01 00:11:00   \n",
       "\n",
       "   SentimentTitle  SentimentHeadline  Facebook  GooglePlus  LinkedIn  \n",
       "0        0.000000          -0.053300        -1          -1        -1  \n",
       "1        0.208333          -0.156386        -1          -1        -1  \n",
       "2       -0.425210           0.139754        -1          -1        -1  \n",
       "3        0.000000           0.026064        -1          -1        -1  \n",
       "4        0.000000           0.141084        -1          -1        -1  "
      ]
     },
     "execution_count": 4,
     "metadata": {},
     "output_type": "execute_result"
    }
   ],
   "source": [
    "df.head()"
   ]
  },
  {
   "cell_type": "markdown",
   "metadata": {},
   "source": [
    "#### EDA"
   ]
  },
  {
   "cell_type": "code",
   "execution_count": 5,
   "metadata": {},
   "outputs": [
    {
     "data": {
      "text/plain": [
       "IDLink                 0\n",
       "Title                  0\n",
       "Headline              15\n",
       "Source               279\n",
       "Topic                  0\n",
       "PublishDate            0\n",
       "SentimentTitle         0\n",
       "SentimentHeadline      0\n",
       "Facebook               0\n",
       "GooglePlus             0\n",
       "LinkedIn               0\n",
       "dtype: int64"
      ]
     },
     "execution_count": 5,
     "metadata": {},
     "output_type": "execute_result"
    }
   ],
   "source": [
    "df.isnull().sum()"
   ]
  },
  {
   "cell_type": "code",
   "execution_count": 6,
   "metadata": {},
   "outputs": [
    {
     "data": {
      "text/plain": [
       "Bloomberg                                1732\n",
       "Reuters                                  1321\n",
       "ABC News                                 1098\n",
       "New York Times                            992\n",
       "The Guardian                              933\n",
       "Business Insider                          884\n",
       "Economic Times                            787\n",
       "Forbes                                    781\n",
       "Washington Post                           774\n",
       "CNN                                       742\n",
       "Wall Street Journal                       730\n",
       "WinBeta                                   707\n",
       "CNBC                                      682\n",
       "Huffington Post                           676\n",
       "Breitbart News                            605\n",
       "Reuters via Yahoo! Finance                551\n",
       "The Hill                                  548\n",
       "Financial Times                           544\n",
       "USA TODAY                                 530\n",
       "ZDNet                                     526\n",
       "MSPoweruser.com                           516\n",
       "Daily Mail                                510\n",
       "Fox News                                  505\n",
       "AFP via Yahoo! News                       501\n",
       "BBC News                                  481\n",
       "NPR                                       481\n",
       "Washington Times                          448\n",
       "The Hill (blog)                           442\n",
       "Associated Press via Yahoo! News          437\n",
       "Reuters via Yahoo! News                   409\n",
       "                                         ... \n",
       "Resource Investor                           1\n",
       "Colombo Gazette                             1\n",
       "Mail & Guardian                             1\n",
       "Linux                                       1\n",
       "Hardware Secrets                            1\n",
       "MIT News                                    1\n",
       "WFTV Orlando                                1\n",
       "19 Action News Cleveland                    1\n",
       "The Louisville Cardinal                     1\n",
       "Rappler.com                                 1\n",
       "abc27                                       1\n",
       "Inside INdiana Business                     1\n",
       "plus55 (blog)                               1\n",
       "Marketing                                   1\n",
       "The Longview News-Journal                   1\n",
       "The Neosho Daily News                       1\n",
       "Port Huron Times Herald                     1\n",
       "4k                                          1\n",
       "ScienceBlog.com (blog)                      1\n",
       "Medical Xpress                              1\n",
       "Press Release Service (press release)       1\n",
       "uuworld.org                                 1\n",
       "WWMT-TV                                     1\n",
       "African Arguments (registration)            1\n",
       "PCR-online.biz                              1\n",
       "Townsville Bulletin                         1\n",
       "The Bookseller                              1\n",
       "WBUR Boston                                 1\n",
       "Modern Distribution Management              1\n",
       "TriValley Central                           1\n",
       "Name: Source, Length: 5756, dtype: int64"
      ]
     },
     "execution_count": 6,
     "metadata": {},
     "output_type": "execute_result"
    }
   ],
   "source": [
    "df['Source'].value_counts()"
   ]
  },
  {
   "cell_type": "markdown",
   "metadata": {},
   "source": [
    "#### Drop the rows containing Obama and Economy as per objective we need only Microsoft and Palestine "
   ]
  },
  {
   "cell_type": "code",
   "execution_count": 7,
   "metadata": {},
   "outputs": [],
   "source": [
    "df = df.drop(df[df.Topic == 'obama'].index)"
   ]
  },
  {
   "cell_type": "code",
   "execution_count": 8,
   "metadata": {},
   "outputs": [],
   "source": [
    "df = df.drop(df[df.Topic == 'economy'].index)"
   ]
  },
  {
   "cell_type": "code",
   "execution_count": 9,
   "metadata": {},
   "outputs": [
    {
     "data": {
      "text/html": [
       "<div>\n",
       "<style scoped>\n",
       "    .dataframe tbody tr th:only-of-type {\n",
       "        vertical-align: middle;\n",
       "    }\n",
       "\n",
       "    .dataframe tbody tr th {\n",
       "        vertical-align: top;\n",
       "    }\n",
       "\n",
       "    .dataframe thead th {\n",
       "        text-align: right;\n",
       "    }\n",
       "</style>\n",
       "<table border=\"1\" class=\"dataframe\">\n",
       "  <thead>\n",
       "    <tr style=\"text-align: right;\">\n",
       "      <th></th>\n",
       "      <th>IDLink</th>\n",
       "      <th>Title</th>\n",
       "      <th>Headline</th>\n",
       "      <th>Source</th>\n",
       "      <th>Topic</th>\n",
       "      <th>PublishDate</th>\n",
       "      <th>SentimentTitle</th>\n",
       "      <th>SentimentHeadline</th>\n",
       "      <th>Facebook</th>\n",
       "      <th>GooglePlus</th>\n",
       "      <th>LinkedIn</th>\n",
       "    </tr>\n",
       "  </thead>\n",
       "  <tbody>\n",
       "    <tr>\n",
       "      <th>5</th>\n",
       "      <td>27790.0</td>\n",
       "      <td>Intellitec Solutions to Host 13th Annual Sprin...</td>\n",
       "      <td>Over 100 attendees expected to see latest vers...</td>\n",
       "      <td>PRWeb</td>\n",
       "      <td>microsoft</td>\n",
       "      <td>2015-03-01 00:19:00</td>\n",
       "      <td>-0.075378</td>\n",
       "      <td>0.036773</td>\n",
       "      <td>-1</td>\n",
       "      <td>-1</td>\n",
       "      <td>-1</td>\n",
       "    </tr>\n",
       "    <tr>\n",
       "      <th>6</th>\n",
       "      <td>80690.0</td>\n",
       "      <td>Monday, 29 Feb 2016</td>\n",
       "      <td>RAMALLAH, February 25, 2016 (WAFA) - Palestine...</td>\n",
       "      <td>NaN</td>\n",
       "      <td>palestine</td>\n",
       "      <td>2016-02-28 14:03:00</td>\n",
       "      <td>0.000000</td>\n",
       "      <td>-0.005906</td>\n",
       "      <td>0</td>\n",
       "      <td>0</td>\n",
       "      <td>0</td>\n",
       "    </tr>\n",
       "    <tr>\n",
       "      <th>8</th>\n",
       "      <td>80771.0</td>\n",
       "      <td>Fire claims more than 100-year-old barn in Han...</td>\n",
       "      <td>A Hancock County man lost a barn early Monday ...</td>\n",
       "      <td>WTHR Indianapolis</td>\n",
       "      <td>palestine</td>\n",
       "      <td>2015-03-01 01:20:00</td>\n",
       "      <td>-0.173925</td>\n",
       "      <td>-0.050185</td>\n",
       "      <td>-1</td>\n",
       "      <td>-1</td>\n",
       "      <td>-1</td>\n",
       "    </tr>\n",
       "    <tr>\n",
       "      <th>9</th>\n",
       "      <td>27803.0</td>\n",
       "      <td>Microsoft's new Windows 10 ad targets Apple</td>\n",
       "      <td>New Delhi, Feb.29 : Technology giant Microsoft...</td>\n",
       "      <td>New Kerala</td>\n",
       "      <td>microsoft</td>\n",
       "      <td>2015-03-01 01:32:00</td>\n",
       "      <td>-0.059536</td>\n",
       "      <td>-0.081715</td>\n",
       "      <td>-1</td>\n",
       "      <td>-1</td>\n",
       "      <td>-1</td>\n",
       "    </tr>\n",
       "    <tr>\n",
       "      <th>10</th>\n",
       "      <td>27813.0</td>\n",
       "      <td>Microsoft Project Centennial seen with “univer...</td>\n",
       "      <td>Microsoft may have burned off one bridge, but ...</td>\n",
       "      <td>SlashGear</td>\n",
       "      <td>microsoft</td>\n",
       "      <td>2015-03-01 02:14:00</td>\n",
       "      <td>0.000000</td>\n",
       "      <td>0.002550</td>\n",
       "      <td>-1</td>\n",
       "      <td>-1</td>\n",
       "      <td>-1</td>\n",
       "    </tr>\n",
       "  </tbody>\n",
       "</table>\n",
       "</div>"
      ],
      "text/plain": [
       "     IDLink                                              Title  \\\n",
       "5   27790.0  Intellitec Solutions to Host 13th Annual Sprin...   \n",
       "6   80690.0                                Monday, 29 Feb 2016   \n",
       "8   80771.0  Fire claims more than 100-year-old barn in Han...   \n",
       "9   27803.0        Microsoft's new Windows 10 ad targets Apple   \n",
       "10  27813.0  Microsoft Project Centennial seen with “univer...   \n",
       "\n",
       "                                             Headline             Source  \\\n",
       "5   Over 100 attendees expected to see latest vers...              PRWeb   \n",
       "6   RAMALLAH, February 25, 2016 (WAFA) - Palestine...                NaN   \n",
       "8   A Hancock County man lost a barn early Monday ...  WTHR Indianapolis   \n",
       "9   New Delhi, Feb.29 : Technology giant Microsoft...         New Kerala   \n",
       "10  Microsoft may have burned off one bridge, but ...          SlashGear   \n",
       "\n",
       "        Topic          PublishDate  SentimentTitle  SentimentHeadline  \\\n",
       "5   microsoft  2015-03-01 00:19:00       -0.075378           0.036773   \n",
       "6   palestine  2016-02-28 14:03:00        0.000000          -0.005906   \n",
       "8   palestine  2015-03-01 01:20:00       -0.173925          -0.050185   \n",
       "9   microsoft  2015-03-01 01:32:00       -0.059536          -0.081715   \n",
       "10  microsoft  2015-03-01 02:14:00        0.000000           0.002550   \n",
       "\n",
       "    Facebook  GooglePlus  LinkedIn  \n",
       "5         -1          -1        -1  \n",
       "6          0           0         0  \n",
       "8         -1          -1        -1  \n",
       "9         -1          -1        -1  \n",
       "10        -1          -1        -1  "
      ]
     },
     "execution_count": 9,
     "metadata": {},
     "output_type": "execute_result"
    }
   ],
   "source": [
    "df.head()"
   ]
  },
  {
   "cell_type": "code",
   "execution_count": 10,
   "metadata": {},
   "outputs": [
    {
     "data": {
      "text/plain": [
       "(30701, 11)"
      ]
     },
     "execution_count": 10,
     "metadata": {},
     "output_type": "execute_result"
    }
   ],
   "source": [
    "df.shape"
   ]
  },
  {
   "cell_type": "code",
   "execution_count": 11,
   "metadata": {},
   "outputs": [
    {
     "data": {
      "text/plain": [
       "IDLink                 0\n",
       "Title                  0\n",
       "Headline               4\n",
       "Source               239\n",
       "Topic                  0\n",
       "PublishDate            0\n",
       "SentimentTitle         0\n",
       "SentimentHeadline      0\n",
       "Facebook               0\n",
       "GooglePlus             0\n",
       "LinkedIn               0\n",
       "dtype: int64"
      ]
     },
     "execution_count": 11,
     "metadata": {},
     "output_type": "execute_result"
    }
   ],
   "source": [
    "df.isnull().sum()"
   ]
  },
  {
   "cell_type": "markdown",
   "metadata": {},
   "source": [
    "#### Fill the Null values "
   ]
  },
  {
   "cell_type": "code",
   "execution_count": 12,
   "metadata": {},
   "outputs": [],
   "source": [
    "df.Source.fillna(df.Source.mode()[0],inplace = True) #Replace the null values of the Source with the mode "
   ]
  },
  {
   "cell_type": "code",
   "execution_count": 13,
   "metadata": {},
   "outputs": [
    {
     "data": {
      "text/plain": [
       "IDLink               0\n",
       "Title                0\n",
       "Headline             4\n",
       "Source               0\n",
       "Topic                0\n",
       "PublishDate          0\n",
       "SentimentTitle       0\n",
       "SentimentHeadline    0\n",
       "Facebook             0\n",
       "GooglePlus           0\n",
       "LinkedIn             0\n",
       "dtype: int64"
      ]
     },
     "execution_count": 13,
     "metadata": {},
     "output_type": "execute_result"
    }
   ],
   "source": [
    "df.isnull().sum()"
   ]
  },
  {
   "cell_type": "code",
   "execution_count": 14,
   "metadata": {},
   "outputs": [
    {
     "name": "stdout",
     "output_type": "stream",
     "text": [
      "<class 'pandas.core.frame.DataFrame'>\n",
      "Int64Index: 30701 entries, 5 to 93238\n",
      "Data columns (total 11 columns):\n",
      "IDLink               30701 non-null float64\n",
      "Title                30701 non-null object\n",
      "Headline             30697 non-null object\n",
      "Source               30701 non-null object\n",
      "Topic                30701 non-null object\n",
      "PublishDate          30701 non-null object\n",
      "SentimentTitle       30701 non-null float64\n",
      "SentimentHeadline    30701 non-null float64\n",
      "Facebook             30701 non-null int64\n",
      "GooglePlus           30701 non-null int64\n",
      "LinkedIn             30701 non-null int64\n",
      "dtypes: float64(3), int64(3), object(5)\n",
      "memory usage: 2.8+ MB\n"
     ]
    }
   ],
   "source": [
    "df.info()"
   ]
  },
  {
   "cell_type": "code",
   "execution_count": 15,
   "metadata": {},
   "outputs": [
    {
     "data": {
      "text/html": [
       "<div>\n",
       "<style scoped>\n",
       "    .dataframe tbody tr th:only-of-type {\n",
       "        vertical-align: middle;\n",
       "    }\n",
       "\n",
       "    .dataframe tbody tr th {\n",
       "        vertical-align: top;\n",
       "    }\n",
       "\n",
       "    .dataframe thead th {\n",
       "        text-align: right;\n",
       "    }\n",
       "</style>\n",
       "<table border=\"1\" class=\"dataframe\">\n",
       "  <thead>\n",
       "    <tr style=\"text-align: right;\">\n",
       "      <th></th>\n",
       "      <th>count</th>\n",
       "      <th>mean</th>\n",
       "      <th>std</th>\n",
       "      <th>min</th>\n",
       "      <th>25%</th>\n",
       "      <th>50%</th>\n",
       "      <th>75%</th>\n",
       "      <th>max</th>\n",
       "    </tr>\n",
       "  </thead>\n",
       "  <tbody>\n",
       "    <tr>\n",
       "      <th>IDLink</th>\n",
       "      <td>30701.0</td>\n",
       "      <td>45494.048956</td>\n",
       "      <td>28776.617920</td>\n",
       "      <td>101.000000</td>\n",
       "      <td>20624.000000</td>\n",
       "      <td>44464.000000</td>\n",
       "      <td>66312.000000</td>\n",
       "      <td>104800.000000</td>\n",
       "    </tr>\n",
       "    <tr>\n",
       "      <th>SentimentTitle</th>\n",
       "      <td>30701.0</td>\n",
       "      <td>-0.004106</td>\n",
       "      <td>0.124850</td>\n",
       "      <td>-0.950694</td>\n",
       "      <td>-0.068041</td>\n",
       "      <td>0.000000</td>\n",
       "      <td>0.061688</td>\n",
       "      <td>0.714610</td>\n",
       "    </tr>\n",
       "    <tr>\n",
       "      <th>SentimentHeadline</th>\n",
       "      <td>30701.0</td>\n",
       "      <td>-0.023311</td>\n",
       "      <td>0.136808</td>\n",
       "      <td>-0.732337</td>\n",
       "      <td>-0.108333</td>\n",
       "      <td>-0.024098</td>\n",
       "      <td>0.060634</td>\n",
       "      <td>0.964646</td>\n",
       "    </tr>\n",
       "    <tr>\n",
       "      <th>Facebook</th>\n",
       "      <td>30701.0</td>\n",
       "      <td>36.069802</td>\n",
       "      <td>307.743616</td>\n",
       "      <td>-1.000000</td>\n",
       "      <td>0.000000</td>\n",
       "      <td>2.000000</td>\n",
       "      <td>14.000000</td>\n",
       "      <td>22346.000000</td>\n",
       "    </tr>\n",
       "    <tr>\n",
       "      <th>GooglePlus</th>\n",
       "      <td>30701.0</td>\n",
       "      <td>3.714244</td>\n",
       "      <td>20.281858</td>\n",
       "      <td>-1.000000</td>\n",
       "      <td>0.000000</td>\n",
       "      <td>0.000000</td>\n",
       "      <td>2.000000</td>\n",
       "      <td>1016.000000</td>\n",
       "    </tr>\n",
       "    <tr>\n",
       "      <th>LinkedIn</th>\n",
       "      <td>30701.0</td>\n",
       "      <td>24.650598</td>\n",
       "      <td>246.597801</td>\n",
       "      <td>-1.000000</td>\n",
       "      <td>0.000000</td>\n",
       "      <td>0.000000</td>\n",
       "      <td>5.000000</td>\n",
       "      <td>20341.000000</td>\n",
       "    </tr>\n",
       "  </tbody>\n",
       "</table>\n",
       "</div>"
      ],
      "text/plain": [
       "                     count          mean           std         min  \\\n",
       "IDLink             30701.0  45494.048956  28776.617920  101.000000   \n",
       "SentimentTitle     30701.0     -0.004106      0.124850   -0.950694   \n",
       "SentimentHeadline  30701.0     -0.023311      0.136808   -0.732337   \n",
       "Facebook           30701.0     36.069802    307.743616   -1.000000   \n",
       "GooglePlus         30701.0      3.714244     20.281858   -1.000000   \n",
       "LinkedIn           30701.0     24.650598    246.597801   -1.000000   \n",
       "\n",
       "                            25%           50%           75%            max  \n",
       "IDLink             20624.000000  44464.000000  66312.000000  104800.000000  \n",
       "SentimentTitle        -0.068041      0.000000      0.061688       0.714610  \n",
       "SentimentHeadline     -0.108333     -0.024098      0.060634       0.964646  \n",
       "Facebook               0.000000      2.000000     14.000000   22346.000000  \n",
       "GooglePlus             0.000000      0.000000      2.000000    1016.000000  \n",
       "LinkedIn               0.000000      0.000000      5.000000   20341.000000  "
      ]
     },
     "execution_count": 15,
     "metadata": {},
     "output_type": "execute_result"
    }
   ],
   "source": [
    "df.describe().T"
   ]
  },
  {
   "cell_type": "code",
   "execution_count": 16,
   "metadata": {},
   "outputs": [
    {
     "data": {
      "text/plain": [
       "microsoft    21858\n",
       "palestine     8843\n",
       "Name: Topic, dtype: int64"
      ]
     },
     "execution_count": 16,
     "metadata": {},
     "output_type": "execute_result"
    }
   ],
   "source": [
    "df['Topic'].value_counts()"
   ]
  },
  {
   "cell_type": "code",
   "execution_count": 17,
   "metadata": {},
   "outputs": [],
   "source": [
    "max_sen_title = df.groupby(['Title','SentimentTitle'], as_index=False).max()  "
   ]
  },
  {
   "cell_type": "markdown",
   "metadata": {},
   "source": [
    "#### High to Low SentimentTitle score based on Source"
   ]
  },
  {
   "cell_type": "code",
   "execution_count": 18,
   "metadata": {},
   "outputs": [
    {
     "data": {
      "text/html": [
       "<div>\n",
       "<style scoped>\n",
       "    .dataframe tbody tr th:only-of-type {\n",
       "        vertical-align: middle;\n",
       "    }\n",
       "\n",
       "    .dataframe tbody tr th {\n",
       "        vertical-align: top;\n",
       "    }\n",
       "\n",
       "    .dataframe thead th {\n",
       "        text-align: right;\n",
       "    }\n",
       "</style>\n",
       "<table border=\"1\" class=\"dataframe\">\n",
       "  <thead>\n",
       "    <tr style=\"text-align: right;\">\n",
       "      <th></th>\n",
       "      <th>SentimentTitle</th>\n",
       "    </tr>\n",
       "    <tr>\n",
       "      <th>Source</th>\n",
       "      <th></th>\n",
       "    </tr>\n",
       "  </thead>\n",
       "  <tbody>\n",
       "    <tr>\n",
       "      <th>Yahoo Tech via Yahoo! News</th>\n",
       "      <td>0.714610</td>\n",
       "    </tr>\n",
       "    <tr>\n",
       "      <th>Focus News</th>\n",
       "      <td>0.500000</td>\n",
       "    </tr>\n",
       "    <tr>\n",
       "      <th>ChinaTopix</th>\n",
       "      <td>0.474342</td>\n",
       "    </tr>\n",
       "    <tr>\n",
       "      <th>Mensquare</th>\n",
       "      <td>0.395292</td>\n",
       "    </tr>\n",
       "    <tr>\n",
       "      <th>4k</th>\n",
       "      <td>0.376889</td>\n",
       "    </tr>\n",
       "  </tbody>\n",
       "</table>\n",
       "</div>"
      ],
      "text/plain": [
       "                            SentimentTitle\n",
       "Source                                    \n",
       "Yahoo Tech via Yahoo! News        0.714610\n",
       "Focus News                        0.500000\n",
       "ChinaTopix                        0.474342\n",
       "Mensquare                         0.395292\n",
       "4k                                0.376889"
      ]
     },
     "execution_count": 18,
     "metadata": {},
     "output_type": "execute_result"
    }
   ],
   "source": [
    "df[['Source','SentimentTitle']].groupby('Source').agg('median').sort_values(by='SentimentTitle',ascending=False).head()"
   ]
  },
  {
   "cell_type": "code",
   "execution_count": 19,
   "metadata": {},
   "outputs": [
    {
     "data": {
      "text/html": [
       "<div>\n",
       "<style scoped>\n",
       "    .dataframe tbody tr th:only-of-type {\n",
       "        vertical-align: middle;\n",
       "    }\n",
       "\n",
       "    .dataframe tbody tr th {\n",
       "        vertical-align: top;\n",
       "    }\n",
       "\n",
       "    .dataframe thead th {\n",
       "        text-align: right;\n",
       "    }\n",
       "</style>\n",
       "<table border=\"1\" class=\"dataframe\">\n",
       "  <thead>\n",
       "    <tr style=\"text-align: right;\">\n",
       "      <th></th>\n",
       "      <th>SentimentTitle</th>\n",
       "      <th>SentimentHeadline</th>\n",
       "    </tr>\n",
       "    <tr>\n",
       "      <th>Topic</th>\n",
       "      <th></th>\n",
       "      <th></th>\n",
       "    </tr>\n",
       "  </thead>\n",
       "  <tbody>\n",
       "    <tr>\n",
       "      <th>microsoft</th>\n",
       "      <td>0.002359</td>\n",
       "      <td>-0.014744</td>\n",
       "    </tr>\n",
       "    <tr>\n",
       "      <th>palestine</th>\n",
       "      <td>-0.020085</td>\n",
       "      <td>-0.044485</td>\n",
       "    </tr>\n",
       "  </tbody>\n",
       "</table>\n",
       "</div>"
      ],
      "text/plain": [
       "           SentimentTitle  SentimentHeadline\n",
       "Topic                                       \n",
       "microsoft        0.002359          -0.014744\n",
       "palestine       -0.020085          -0.044485"
      ]
     },
     "execution_count": 19,
     "metadata": {},
     "output_type": "execute_result"
    }
   ],
   "source": [
    "df[['Topic','SentimentTitle','SentimentHeadline']].groupby('Topic').agg('mean').sort_values(by='SentimentTitle',ascending=False)"
   ]
  },
  {
   "cell_type": "markdown",
   "metadata": {},
   "source": [
    "#### Convert Published Date to Datetime"
   ]
  },
  {
   "cell_type": "code",
   "execution_count": 20,
   "metadata": {},
   "outputs": [],
   "source": [
    "df['Date'] = pd.to_datetime(df['PublishDate'])"
   ]
  },
  {
   "cell_type": "code",
   "execution_count": 21,
   "metadata": {},
   "outputs": [
    {
     "data": {
      "text/plain": [
       "(Timestamp('2015-03-01 00:19:00'), Timestamp('2016-07-07 16:16:11'))"
      ]
     },
     "execution_count": 21,
     "metadata": {},
     "output_type": "execute_result"
    }
   ],
   "source": [
    "df['Date'].min(),df['Date'].max()"
   ]
  },
  {
   "cell_type": "code",
   "execution_count": 22,
   "metadata": {},
   "outputs": [
    {
     "data": {
      "text/html": [
       "<div>\n",
       "<style scoped>\n",
       "    .dataframe tbody tr th:only-of-type {\n",
       "        vertical-align: middle;\n",
       "    }\n",
       "\n",
       "    .dataframe tbody tr th {\n",
       "        vertical-align: top;\n",
       "    }\n",
       "\n",
       "    .dataframe thead th {\n",
       "        text-align: right;\n",
       "    }\n",
       "</style>\n",
       "<table border=\"1\" class=\"dataframe\">\n",
       "  <thead>\n",
       "    <tr style=\"text-align: right;\">\n",
       "      <th></th>\n",
       "      <th>IDLink</th>\n",
       "      <th>Title</th>\n",
       "      <th>Headline</th>\n",
       "      <th>Source</th>\n",
       "      <th>Topic</th>\n",
       "      <th>PublishDate</th>\n",
       "      <th>SentimentTitle</th>\n",
       "      <th>SentimentHeadline</th>\n",
       "      <th>Facebook</th>\n",
       "      <th>GooglePlus</th>\n",
       "      <th>LinkedIn</th>\n",
       "      <th>Date</th>\n",
       "    </tr>\n",
       "  </thead>\n",
       "  <tbody>\n",
       "    <tr>\n",
       "      <th>5</th>\n",
       "      <td>27790.0</td>\n",
       "      <td>Intellitec Solutions to Host 13th Annual Sprin...</td>\n",
       "      <td>Over 100 attendees expected to see latest vers...</td>\n",
       "      <td>PRWeb</td>\n",
       "      <td>microsoft</td>\n",
       "      <td>2015-03-01 00:19:00</td>\n",
       "      <td>-0.075378</td>\n",
       "      <td>0.036773</td>\n",
       "      <td>-1</td>\n",
       "      <td>-1</td>\n",
       "      <td>-1</td>\n",
       "      <td>2015-03-01 00:19:00</td>\n",
       "    </tr>\n",
       "    <tr>\n",
       "      <th>6</th>\n",
       "      <td>80690.0</td>\n",
       "      <td>Monday, 29 Feb 2016</td>\n",
       "      <td>RAMALLAH, February 25, 2016 (WAFA) - Palestine...</td>\n",
       "      <td>WinBeta</td>\n",
       "      <td>palestine</td>\n",
       "      <td>2016-02-28 14:03:00</td>\n",
       "      <td>0.000000</td>\n",
       "      <td>-0.005906</td>\n",
       "      <td>0</td>\n",
       "      <td>0</td>\n",
       "      <td>0</td>\n",
       "      <td>2016-02-28 14:03:00</td>\n",
       "    </tr>\n",
       "    <tr>\n",
       "      <th>8</th>\n",
       "      <td>80771.0</td>\n",
       "      <td>Fire claims more than 100-year-old barn in Han...</td>\n",
       "      <td>A Hancock County man lost a barn early Monday ...</td>\n",
       "      <td>WTHR Indianapolis</td>\n",
       "      <td>palestine</td>\n",
       "      <td>2015-03-01 01:20:00</td>\n",
       "      <td>-0.173925</td>\n",
       "      <td>-0.050185</td>\n",
       "      <td>-1</td>\n",
       "      <td>-1</td>\n",
       "      <td>-1</td>\n",
       "      <td>2015-03-01 01:20:00</td>\n",
       "    </tr>\n",
       "    <tr>\n",
       "      <th>9</th>\n",
       "      <td>27803.0</td>\n",
       "      <td>Microsoft's new Windows 10 ad targets Apple</td>\n",
       "      <td>New Delhi, Feb.29 : Technology giant Microsoft...</td>\n",
       "      <td>New Kerala</td>\n",
       "      <td>microsoft</td>\n",
       "      <td>2015-03-01 01:32:00</td>\n",
       "      <td>-0.059536</td>\n",
       "      <td>-0.081715</td>\n",
       "      <td>-1</td>\n",
       "      <td>-1</td>\n",
       "      <td>-1</td>\n",
       "      <td>2015-03-01 01:32:00</td>\n",
       "    </tr>\n",
       "    <tr>\n",
       "      <th>10</th>\n",
       "      <td>27813.0</td>\n",
       "      <td>Microsoft Project Centennial seen with “univer...</td>\n",
       "      <td>Microsoft may have burned off one bridge, but ...</td>\n",
       "      <td>SlashGear</td>\n",
       "      <td>microsoft</td>\n",
       "      <td>2015-03-01 02:14:00</td>\n",
       "      <td>0.000000</td>\n",
       "      <td>0.002550</td>\n",
       "      <td>-1</td>\n",
       "      <td>-1</td>\n",
       "      <td>-1</td>\n",
       "      <td>2015-03-01 02:14:00</td>\n",
       "    </tr>\n",
       "  </tbody>\n",
       "</table>\n",
       "</div>"
      ],
      "text/plain": [
       "     IDLink                                              Title  \\\n",
       "5   27790.0  Intellitec Solutions to Host 13th Annual Sprin...   \n",
       "6   80690.0                                Monday, 29 Feb 2016   \n",
       "8   80771.0  Fire claims more than 100-year-old barn in Han...   \n",
       "9   27803.0        Microsoft's new Windows 10 ad targets Apple   \n",
       "10  27813.0  Microsoft Project Centennial seen with “univer...   \n",
       "\n",
       "                                             Headline             Source  \\\n",
       "5   Over 100 attendees expected to see latest vers...              PRWeb   \n",
       "6   RAMALLAH, February 25, 2016 (WAFA) - Palestine...            WinBeta   \n",
       "8   A Hancock County man lost a barn early Monday ...  WTHR Indianapolis   \n",
       "9   New Delhi, Feb.29 : Technology giant Microsoft...         New Kerala   \n",
       "10  Microsoft may have burned off one bridge, but ...          SlashGear   \n",
       "\n",
       "        Topic          PublishDate  SentimentTitle  SentimentHeadline  \\\n",
       "5   microsoft  2015-03-01 00:19:00       -0.075378           0.036773   \n",
       "6   palestine  2016-02-28 14:03:00        0.000000          -0.005906   \n",
       "8   palestine  2015-03-01 01:20:00       -0.173925          -0.050185   \n",
       "9   microsoft  2015-03-01 01:32:00       -0.059536          -0.081715   \n",
       "10  microsoft  2015-03-01 02:14:00        0.000000           0.002550   \n",
       "\n",
       "    Facebook  GooglePlus  LinkedIn                Date  \n",
       "5         -1          -1        -1 2015-03-01 00:19:00  \n",
       "6          0           0         0 2016-02-28 14:03:00  \n",
       "8         -1          -1        -1 2015-03-01 01:20:00  \n",
       "9         -1          -1        -1 2015-03-01 01:32:00  \n",
       "10        -1          -1        -1 2015-03-01 02:14:00  "
      ]
     },
     "execution_count": 22,
     "metadata": {},
     "output_type": "execute_result"
    }
   ],
   "source": [
    "df.head()"
   ]
  },
  {
   "cell_type": "code",
   "execution_count": 23,
   "metadata": {},
   "outputs": [],
   "source": [
    "df['month'] = df['Date'].dt.month\n",
    "df['day'] = df['Date'].dt.day\n",
    "df['year'] = df['Date'].dt.year\n",
    "df['month_name'] = df['Date'].dt.strftime('%b')\n",
    "df['weekday'] = df['Date'].dt.strftime('%A')"
   ]
  },
  {
   "cell_type": "code",
   "execution_count": 24,
   "metadata": {},
   "outputs": [],
   "source": [
    "df['D_T_Y'] = df.Date.map(lambda x: x.strftime('%Y-%m-%d'))"
   ]
  },
  {
   "cell_type": "code",
   "execution_count": 25,
   "metadata": {},
   "outputs": [
    {
     "data": {
      "text/html": [
       "<div>\n",
       "<style scoped>\n",
       "    .dataframe tbody tr th:only-of-type {\n",
       "        vertical-align: middle;\n",
       "    }\n",
       "\n",
       "    .dataframe tbody tr th {\n",
       "        vertical-align: top;\n",
       "    }\n",
       "\n",
       "    .dataframe thead th {\n",
       "        text-align: right;\n",
       "    }\n",
       "</style>\n",
       "<table border=\"1\" class=\"dataframe\">\n",
       "  <thead>\n",
       "    <tr style=\"text-align: right;\">\n",
       "      <th></th>\n",
       "      <th>IDLink</th>\n",
       "      <th>Title</th>\n",
       "      <th>Headline</th>\n",
       "      <th>Source</th>\n",
       "      <th>Topic</th>\n",
       "      <th>PublishDate</th>\n",
       "      <th>SentimentTitle</th>\n",
       "      <th>SentimentHeadline</th>\n",
       "      <th>Facebook</th>\n",
       "      <th>GooglePlus</th>\n",
       "      <th>LinkedIn</th>\n",
       "      <th>Date</th>\n",
       "      <th>month</th>\n",
       "      <th>day</th>\n",
       "      <th>year</th>\n",
       "      <th>month_name</th>\n",
       "      <th>weekday</th>\n",
       "      <th>D_T_Y</th>\n",
       "    </tr>\n",
       "  </thead>\n",
       "  <tbody>\n",
       "    <tr>\n",
       "      <th>5</th>\n",
       "      <td>27790.0</td>\n",
       "      <td>Intellitec Solutions to Host 13th Annual Sprin...</td>\n",
       "      <td>Over 100 attendees expected to see latest vers...</td>\n",
       "      <td>PRWeb</td>\n",
       "      <td>microsoft</td>\n",
       "      <td>2015-03-01 00:19:00</td>\n",
       "      <td>-0.075378</td>\n",
       "      <td>0.036773</td>\n",
       "      <td>-1</td>\n",
       "      <td>-1</td>\n",
       "      <td>-1</td>\n",
       "      <td>2015-03-01 00:19:00</td>\n",
       "      <td>3</td>\n",
       "      <td>1</td>\n",
       "      <td>2015</td>\n",
       "      <td>Mar</td>\n",
       "      <td>Sunday</td>\n",
       "      <td>2015-03-01</td>\n",
       "    </tr>\n",
       "    <tr>\n",
       "      <th>6</th>\n",
       "      <td>80690.0</td>\n",
       "      <td>Monday, 29 Feb 2016</td>\n",
       "      <td>RAMALLAH, February 25, 2016 (WAFA) - Palestine...</td>\n",
       "      <td>WinBeta</td>\n",
       "      <td>palestine</td>\n",
       "      <td>2016-02-28 14:03:00</td>\n",
       "      <td>0.000000</td>\n",
       "      <td>-0.005906</td>\n",
       "      <td>0</td>\n",
       "      <td>0</td>\n",
       "      <td>0</td>\n",
       "      <td>2016-02-28 14:03:00</td>\n",
       "      <td>2</td>\n",
       "      <td>28</td>\n",
       "      <td>2016</td>\n",
       "      <td>Feb</td>\n",
       "      <td>Sunday</td>\n",
       "      <td>2016-02-28</td>\n",
       "    </tr>\n",
       "    <tr>\n",
       "      <th>8</th>\n",
       "      <td>80771.0</td>\n",
       "      <td>Fire claims more than 100-year-old barn in Han...</td>\n",
       "      <td>A Hancock County man lost a barn early Monday ...</td>\n",
       "      <td>WTHR Indianapolis</td>\n",
       "      <td>palestine</td>\n",
       "      <td>2015-03-01 01:20:00</td>\n",
       "      <td>-0.173925</td>\n",
       "      <td>-0.050185</td>\n",
       "      <td>-1</td>\n",
       "      <td>-1</td>\n",
       "      <td>-1</td>\n",
       "      <td>2015-03-01 01:20:00</td>\n",
       "      <td>3</td>\n",
       "      <td>1</td>\n",
       "      <td>2015</td>\n",
       "      <td>Mar</td>\n",
       "      <td>Sunday</td>\n",
       "      <td>2015-03-01</td>\n",
       "    </tr>\n",
       "    <tr>\n",
       "      <th>9</th>\n",
       "      <td>27803.0</td>\n",
       "      <td>Microsoft's new Windows 10 ad targets Apple</td>\n",
       "      <td>New Delhi, Feb.29 : Technology giant Microsoft...</td>\n",
       "      <td>New Kerala</td>\n",
       "      <td>microsoft</td>\n",
       "      <td>2015-03-01 01:32:00</td>\n",
       "      <td>-0.059536</td>\n",
       "      <td>-0.081715</td>\n",
       "      <td>-1</td>\n",
       "      <td>-1</td>\n",
       "      <td>-1</td>\n",
       "      <td>2015-03-01 01:32:00</td>\n",
       "      <td>3</td>\n",
       "      <td>1</td>\n",
       "      <td>2015</td>\n",
       "      <td>Mar</td>\n",
       "      <td>Sunday</td>\n",
       "      <td>2015-03-01</td>\n",
       "    </tr>\n",
       "    <tr>\n",
       "      <th>10</th>\n",
       "      <td>27813.0</td>\n",
       "      <td>Microsoft Project Centennial seen with “univer...</td>\n",
       "      <td>Microsoft may have burned off one bridge, but ...</td>\n",
       "      <td>SlashGear</td>\n",
       "      <td>microsoft</td>\n",
       "      <td>2015-03-01 02:14:00</td>\n",
       "      <td>0.000000</td>\n",
       "      <td>0.002550</td>\n",
       "      <td>-1</td>\n",
       "      <td>-1</td>\n",
       "      <td>-1</td>\n",
       "      <td>2015-03-01 02:14:00</td>\n",
       "      <td>3</td>\n",
       "      <td>1</td>\n",
       "      <td>2015</td>\n",
       "      <td>Mar</td>\n",
       "      <td>Sunday</td>\n",
       "      <td>2015-03-01</td>\n",
       "    </tr>\n",
       "  </tbody>\n",
       "</table>\n",
       "</div>"
      ],
      "text/plain": [
       "     IDLink                                              Title  \\\n",
       "5   27790.0  Intellitec Solutions to Host 13th Annual Sprin...   \n",
       "6   80690.0                                Monday, 29 Feb 2016   \n",
       "8   80771.0  Fire claims more than 100-year-old barn in Han...   \n",
       "9   27803.0        Microsoft's new Windows 10 ad targets Apple   \n",
       "10  27813.0  Microsoft Project Centennial seen with “univer...   \n",
       "\n",
       "                                             Headline             Source  \\\n",
       "5   Over 100 attendees expected to see latest vers...              PRWeb   \n",
       "6   RAMALLAH, February 25, 2016 (WAFA) - Palestine...            WinBeta   \n",
       "8   A Hancock County man lost a barn early Monday ...  WTHR Indianapolis   \n",
       "9   New Delhi, Feb.29 : Technology giant Microsoft...         New Kerala   \n",
       "10  Microsoft may have burned off one bridge, but ...          SlashGear   \n",
       "\n",
       "        Topic          PublishDate  SentimentTitle  SentimentHeadline  \\\n",
       "5   microsoft  2015-03-01 00:19:00       -0.075378           0.036773   \n",
       "6   palestine  2016-02-28 14:03:00        0.000000          -0.005906   \n",
       "8   palestine  2015-03-01 01:20:00       -0.173925          -0.050185   \n",
       "9   microsoft  2015-03-01 01:32:00       -0.059536          -0.081715   \n",
       "10  microsoft  2015-03-01 02:14:00        0.000000           0.002550   \n",
       "\n",
       "    Facebook  GooglePlus  LinkedIn                Date  month  day  year  \\\n",
       "5         -1          -1        -1 2015-03-01 00:19:00      3    1  2015   \n",
       "6          0           0         0 2016-02-28 14:03:00      2   28  2016   \n",
       "8         -1          -1        -1 2015-03-01 01:20:00      3    1  2015   \n",
       "9         -1          -1        -1 2015-03-01 01:32:00      3    1  2015   \n",
       "10        -1          -1        -1 2015-03-01 02:14:00      3    1  2015   \n",
       "\n",
       "   month_name weekday       D_T_Y  \n",
       "5         Mar  Sunday  2015-03-01  \n",
       "6         Feb  Sunday  2016-02-28  \n",
       "8         Mar  Sunday  2015-03-01  \n",
       "9         Mar  Sunday  2015-03-01  \n",
       "10        Mar  Sunday  2015-03-01  "
      ]
     },
     "execution_count": 25,
     "metadata": {},
     "output_type": "execute_result"
    }
   ],
   "source": [
    "df.head()"
   ]
  },
  {
   "cell_type": "code",
   "execution_count": 26,
   "metadata": {},
   "outputs": [
    {
     "data": {
      "text/plain": [
       "(30701, 18)"
      ]
     },
     "execution_count": 26,
     "metadata": {},
     "output_type": "execute_result"
    }
   ],
   "source": [
    "df.shape"
   ]
  },
  {
   "cell_type": "code",
   "execution_count": 27,
   "metadata": {},
   "outputs": [
    {
     "data": {
      "text/plain": [
       "5         1\n",
       "6        28\n",
       "8         1\n",
       "9         1\n",
       "10        1\n",
       "11        1\n",
       "14        1\n",
       "15        1\n",
       "16        1\n",
       "17        1\n",
       "20        1\n",
       "27        1\n",
       "30        1\n",
       "34        1\n",
       "35        1\n",
       "36        1\n",
       "37        1\n",
       "38        1\n",
       "39        1\n",
       "40        1\n",
       "41        1\n",
       "42        1\n",
       "45        1\n",
       "46        1\n",
       "47        1\n",
       "48        1\n",
       "49        1\n",
       "50        1\n",
       "51        1\n",
       "52        1\n",
       "         ..\n",
       "93161     7\n",
       "93165     7\n",
       "93167     7\n",
       "93174     7\n",
       "93175     7\n",
       "93176     7\n",
       "93177     7\n",
       "93179     7\n",
       "93180     7\n",
       "93181     7\n",
       "93182     7\n",
       "93183     7\n",
       "93185     7\n",
       "93188     7\n",
       "93191     7\n",
       "93198     7\n",
       "93199     7\n",
       "93200     7\n",
       "93202     7\n",
       "93206     7\n",
       "93209     7\n",
       "93211     7\n",
       "93213     7\n",
       "93222     7\n",
       "93224     7\n",
       "93229     7\n",
       "93233     7\n",
       "93236     7\n",
       "93237     7\n",
       "93238     7\n",
       "Name: day, Length: 30701, dtype: int64"
      ]
     },
     "execution_count": 27,
     "metadata": {},
     "output_type": "execute_result"
    }
   ],
   "source": [
    "df.day"
   ]
  },
  {
   "cell_type": "markdown",
   "metadata": {},
   "source": [
    "#### Monday is having the Highest number of News Published"
   ]
  },
  {
   "cell_type": "code",
   "execution_count": 28,
   "metadata": {},
   "outputs": [
    {
     "data": {
      "text/plain": [
       "Monday       5672\n",
       "Tuesday      5638\n",
       "Wednesday    5421\n",
       "Thursday     5127\n",
       "Friday       4287\n",
       "Sunday       2322\n",
       "Saturday     2234\n",
       "Name: weekday, dtype: int64"
      ]
     },
     "execution_count": 28,
     "metadata": {},
     "output_type": "execute_result"
    }
   ],
   "source": [
    "df.weekday.value_counts()"
   ]
  },
  {
   "cell_type": "markdown",
   "metadata": {},
   "source": [
    "#### March is having the Highest number of News Published, while it is coming 2 times in 2015 and 2016. "
   ]
  },
  {
   "cell_type": "code",
   "execution_count": 29,
   "metadata": {},
   "outputs": [
    {
     "data": {
      "text/plain": [
       "Mar    4283\n",
       "Jan    4211\n",
       "Dec    3857\n",
       "May    3678\n",
       "Jun    3639\n",
       "Apr    3598\n",
       "Feb    3511\n",
       "Nov    3021\n",
       "Jul     680\n",
       "Oct     219\n",
       "Sep       3\n",
       "Aug       1\n",
       "Name: month_name, dtype: int64"
      ]
     },
     "execution_count": 29,
     "metadata": {},
     "output_type": "execute_result"
    }
   ],
   "source": [
    "df.month_name.value_counts()"
   ]
  },
  {
   "cell_type": "markdown",
   "metadata": {},
   "source": [
    "#### News published based on Month and Topic "
   ]
  },
  {
   "cell_type": "code",
   "execution_count": 30,
   "metadata": {},
   "outputs": [
    {
     "data": {
      "text/html": [
       "<div>\n",
       "<style scoped>\n",
       "    .dataframe tbody tr th:only-of-type {\n",
       "        vertical-align: middle;\n",
       "    }\n",
       "\n",
       "    .dataframe tbody tr th {\n",
       "        vertical-align: top;\n",
       "    }\n",
       "\n",
       "    .dataframe thead th {\n",
       "        text-align: right;\n",
       "    }\n",
       "</style>\n",
       "<table border=\"1\" class=\"dataframe\">\n",
       "  <thead>\n",
       "    <tr style=\"text-align: right;\">\n",
       "      <th></th>\n",
       "      <th></th>\n",
       "      <th>IDLink</th>\n",
       "    </tr>\n",
       "    <tr>\n",
       "      <th>month_name</th>\n",
       "      <th>Topic</th>\n",
       "      <th></th>\n",
       "    </tr>\n",
       "  </thead>\n",
       "  <tbody>\n",
       "    <tr>\n",
       "      <th>Mar</th>\n",
       "      <th>microsoft</th>\n",
       "      <td>3028</td>\n",
       "    </tr>\n",
       "    <tr>\n",
       "      <th>Jan</th>\n",
       "      <th>microsoft</th>\n",
       "      <td>2864</td>\n",
       "    </tr>\n",
       "    <tr>\n",
       "      <th>May</th>\n",
       "      <th>microsoft</th>\n",
       "      <td>2719</td>\n",
       "    </tr>\n",
       "    <tr>\n",
       "      <th>Jun</th>\n",
       "      <th>microsoft</th>\n",
       "      <td>2703</td>\n",
       "    </tr>\n",
       "    <tr>\n",
       "      <th>Dec</th>\n",
       "      <th>microsoft</th>\n",
       "      <td>2664</td>\n",
       "    </tr>\n",
       "    <tr>\n",
       "      <th>Apr</th>\n",
       "      <th>microsoft</th>\n",
       "      <td>2609</td>\n",
       "    </tr>\n",
       "    <tr>\n",
       "      <th>Feb</th>\n",
       "      <th>microsoft</th>\n",
       "      <td>2396</td>\n",
       "    </tr>\n",
       "    <tr>\n",
       "      <th>Nov</th>\n",
       "      <th>microsoft</th>\n",
       "      <td>2259</td>\n",
       "    </tr>\n",
       "    <tr>\n",
       "      <th>Jan</th>\n",
       "      <th>palestine</th>\n",
       "      <td>1347</td>\n",
       "    </tr>\n",
       "    <tr>\n",
       "      <th>Mar</th>\n",
       "      <th>palestine</th>\n",
       "      <td>1255</td>\n",
       "    </tr>\n",
       "    <tr>\n",
       "      <th>Dec</th>\n",
       "      <th>palestine</th>\n",
       "      <td>1193</td>\n",
       "    </tr>\n",
       "    <tr>\n",
       "      <th>Feb</th>\n",
       "      <th>palestine</th>\n",
       "      <td>1115</td>\n",
       "    </tr>\n",
       "    <tr>\n",
       "      <th>Apr</th>\n",
       "      <th>palestine</th>\n",
       "      <td>989</td>\n",
       "    </tr>\n",
       "    <tr>\n",
       "      <th>May</th>\n",
       "      <th>palestine</th>\n",
       "      <td>959</td>\n",
       "    </tr>\n",
       "    <tr>\n",
       "      <th>Jun</th>\n",
       "      <th>palestine</th>\n",
       "      <td>936</td>\n",
       "    </tr>\n",
       "    <tr>\n",
       "      <th>Nov</th>\n",
       "      <th>palestine</th>\n",
       "      <td>762</td>\n",
       "    </tr>\n",
       "    <tr>\n",
       "      <th rowspan=\"2\" valign=\"top\">Jul</th>\n",
       "      <th>microsoft</th>\n",
       "      <td>492</td>\n",
       "    </tr>\n",
       "    <tr>\n",
       "      <th>palestine</th>\n",
       "      <td>188</td>\n",
       "    </tr>\n",
       "    <tr>\n",
       "      <th rowspan=\"2\" valign=\"top\">Oct</th>\n",
       "      <th>microsoft</th>\n",
       "      <td>123</td>\n",
       "    </tr>\n",
       "    <tr>\n",
       "      <th>palestine</th>\n",
       "      <td>96</td>\n",
       "    </tr>\n",
       "    <tr>\n",
       "      <th>Sep</th>\n",
       "      <th>palestine</th>\n",
       "      <td>3</td>\n",
       "    </tr>\n",
       "    <tr>\n",
       "      <th>Aug</th>\n",
       "      <th>microsoft</th>\n",
       "      <td>1</td>\n",
       "    </tr>\n",
       "  </tbody>\n",
       "</table>\n",
       "</div>"
      ],
      "text/plain": [
       "                      IDLink\n",
       "month_name Topic            \n",
       "Mar        microsoft    3028\n",
       "Jan        microsoft    2864\n",
       "May        microsoft    2719\n",
       "Jun        microsoft    2703\n",
       "Dec        microsoft    2664\n",
       "Apr        microsoft    2609\n",
       "Feb        microsoft    2396\n",
       "Nov        microsoft    2259\n",
       "Jan        palestine    1347\n",
       "Mar        palestine    1255\n",
       "Dec        palestine    1193\n",
       "Feb        palestine    1115\n",
       "Apr        palestine     989\n",
       "May        palestine     959\n",
       "Jun        palestine     936\n",
       "Nov        palestine     762\n",
       "Jul        microsoft     492\n",
       "           palestine     188\n",
       "Oct        microsoft     123\n",
       "           palestine      96\n",
       "Sep        palestine       3\n",
       "Aug        microsoft       1"
      ]
     },
     "execution_count": 30,
     "metadata": {},
     "output_type": "execute_result"
    }
   ],
   "source": [
    "df[['month_name','Topic','IDLink']].groupby(['month_name','Topic']).agg('count').sort_values(by='IDLink',ascending=False)"
   ]
  },
  {
   "cell_type": "code",
   "execution_count": 31,
   "metadata": {},
   "outputs": [
    {
     "data": {
      "text/plain": [
       " 0    15928\n",
       " 1     3590\n",
       "-1     2690\n",
       " 2     1980\n",
       " 3     1257\n",
       "Name: GooglePlus, dtype: int64"
      ]
     },
     "execution_count": 31,
     "metadata": {},
     "output_type": "execute_result"
    }
   ],
   "source": [
    "df['GooglePlus'].value_counts().head()"
   ]
  },
  {
   "cell_type": "code",
   "execution_count": 32,
   "metadata": {},
   "outputs": [
    {
     "data": {
      "text/plain": [
       " 0    15360\n",
       "-1     2690\n",
       " 1     2295\n",
       " 2     1140\n",
       " 3      778\n",
       "Name: LinkedIn, dtype: int64"
      ]
     },
     "execution_count": 32,
     "metadata": {},
     "output_type": "execute_result"
    }
   ],
   "source": [
    "df['LinkedIn'].value_counts().head()"
   ]
  },
  {
   "cell_type": "code",
   "execution_count": 33,
   "metadata": {},
   "outputs": [
    {
     "data": {
      "text/plain": [
       " 0    6390\n",
       "-1    5037\n",
       " 1    2260\n",
       " 2    1667\n",
       " 3    1330\n",
       "Name: Facebook, dtype: int64"
      ]
     },
     "execution_count": 33,
     "metadata": {},
     "output_type": "execute_result"
    }
   ],
   "source": [
    "df['Facebook'].value_counts().head()"
   ]
  },
  {
   "cell_type": "markdown",
   "metadata": {},
   "source": [
    "#### Making of wordCloud from Title"
   ]
  },
  {
   "cell_type": "code",
   "execution_count": 34,
   "metadata": {},
   "outputs": [],
   "source": [
    "import nltk\n",
    "stopwords = nltk.corpus.stopwords.words('english')\n",
    "stopwords.extend(['Palestinian','Palestine','Microsoft'])"
   ]
  },
  {
   "cell_type": "code",
   "execution_count": 35,
   "metadata": {},
   "outputs": [
    {
     "data": {
      "text/plain": [
       "<matplotlib.image.AxesImage at 0x25787ef67f0>"
      ]
     },
     "execution_count": 35,
     "metadata": {},
     "output_type": "execute_result"
    },
    {
     "data": {
      "image/png": "[encoded data removed]",
      "text/plain": [
       "<Figure size 864x432 with 1 Axes>"
      ]
     },
     "metadata": {
      "needs_background": "light"
     },
     "output_type": "display_data"
    }
   ],
   "source": [
    "import nltk\n",
    "from wordcloud import WordCloud\n",
    "plt.figure(figsize=(12,6))\n",
    "text = ' '.join(df.Title[df['Topic']=='palestine'])\n",
    "wc = WordCloud(background_color='white',stopwords=stopwords).generate(text)\n",
    "plt.imshow(wc)"
   ]
  },
  {
   "cell_type": "code",
   "execution_count": 36,
   "metadata": {},
   "outputs": [
    {
     "data": {
      "text/plain": [
       "<matplotlib.image.AxesImage at 0x2578b1de128>"
      ]
     },
     "execution_count": 36,
     "metadata": {},
     "output_type": "execute_result"
    },
    {
     "data": {
      "image/png": "[encoded data removed]",
      "text/plain": [
       "<Figure size 864x432 with 1 Axes>"
      ]
     },
     "metadata": {
      "needs_background": "light"
     },
     "output_type": "display_data"
    }
   ],
   "source": [
    "plt.figure(figsize=(12,6))\n",
    "text = ' '.join(df.Title[df['Topic']=='microsoft'])\n",
    "wc = WordCloud(background_color='white',stopwords=stopwords).generate(text)\n",
    "plt.imshow(wc)"
   ]
  },
  {
   "cell_type": "markdown",
   "metadata": {},
   "source": [
    "#### Making the WordCloud of Headlines "
   ]
  },
  {
   "cell_type": "code",
   "execution_count": 37,
   "metadata": {},
   "outputs": [
    {
     "data": {
      "text/plain": [
       "<matplotlib.image.AxesImage at 0x25787f7a588>"
      ]
     },
     "execution_count": 37,
     "metadata": {},
     "output_type": "execute_result"
    },
    {
     "data": {
      "image/png": "[encoded data removed]",
      "text/plain": [
       "<Figure size 864x432 with 1 Axes>"
      ]
     },
     "metadata": {
      "needs_background": "light"
     },
     "output_type": "display_data"
    }
   ],
   "source": [
    "plt.figure(figsize=(12,6))\n",
    "Headline = df.Headline[df['Topic']=='microsoft']\n",
    "values = ','.join(map(str,Headline)) #Doing this step, otherwise it is giving the error \n",
    "wc = WordCloud(background_color='white',stopwords=stopwords).generate(values)\n",
    "plt.imshow(wc)"
   ]
  },
  {
   "cell_type": "code",
   "execution_count": 38,
   "metadata": {},
   "outputs": [
    {
     "data": {
      "text/plain": [
       "<matplotlib.image.AxesImage at 0x2578ae02dd8>"
      ]
     },
     "execution_count": 38,
     "metadata": {},
     "output_type": "execute_result"
    },
    {
     "data": {
      "image/png": "[encoded data removed]",
      "text/plain": [
       "<Figure size 864x432 with 1 Axes>"
      ]
     },
     "metadata": {
      "needs_background": "light"
     },
     "output_type": "display_data"
    }
   ],
   "source": [
    "plt.figure(figsize=(12,6))\n",
    "Headline = df.Headline[df['Topic']=='palestine']\n",
    "values = ','.join(map(str,Headline)) #Doing this step, otherwise it is giving the error\n",
    "wc = WordCloud(background_color='white',stopwords=stopwords).generate(values)\n",
    "plt.imshow(wc)"
   ]
  },
  {
   "cell_type": "markdown",
   "metadata": {},
   "source": [
    "#### Text Cleaning "
   ]
  },
  {
   "cell_type": "code",
   "execution_count": 39,
   "metadata": {},
   "outputs": [],
   "source": [
    "df.Headline = df.Headline.astype('str')"
   ]
  },
  {
   "cell_type": "code",
   "execution_count": 40,
   "metadata": {},
   "outputs": [
    {
     "data": {
      "text/plain": [
       "5      attende expect see latest version microsoft d...\n",
       "6     ramallah februari   wafa  palestin liber organ...\n",
       "8     hancock counti man lost barn earli monday morn...\n",
       "9     new delhi feb  technolog giant microsoft targe...\n",
       "10    microsoft may burn one bridg still build diffe...\n",
       "Name: Headline, dtype: object"
      ]
     },
     "execution_count": 40,
     "metadata": {},
     "output_type": "execute_result"
    }
   ],
   "source": [
    "docs = df['Headline'].str.lower().str.replace('[^a-z@# ]','')\n",
    "stopwords = nltk.corpus.stopwords.words('english')\n",
    "#stopwords.extend(['amp','rt'])\n",
    "stemmer = nltk.stem.PorterStemmer()\n",
    "\n",
    "def clean_sentence(text):\n",
    "    words = text.split(' ')\n",
    "    words_clean = [stemmer.stem(w) for w in words if w not in stopwords]\n",
    "    return ' '.join(words_clean)\n",
    "docs_clean = docs.apply(clean_sentence)\n",
    "docs_clean.head()"
   ]
  },
  {
   "cell_type": "code",
   "execution_count": 41,
   "metadata": {},
   "outputs": [
    {
     "data": {
      "text/plain": [
       "IDLink                      float64\n",
       "Title                        object\n",
       "Headline                     object\n",
       "Source                       object\n",
       "Topic                        object\n",
       "PublishDate                  object\n",
       "SentimentTitle              float64\n",
       "SentimentHeadline           float64\n",
       "Facebook                      int64\n",
       "GooglePlus                    int64\n",
       "LinkedIn                      int64\n",
       "Date                 datetime64[ns]\n",
       "month                         int64\n",
       "day                           int64\n",
       "year                          int64\n",
       "month_name                   object\n",
       "weekday                      object\n",
       "D_T_Y                        object\n",
       "dtype: object"
      ]
     },
     "execution_count": 41,
     "metadata": {},
     "output_type": "execute_result"
    }
   ],
   "source": [
    "df.dtypes"
   ]
  },
  {
   "cell_type": "markdown",
   "metadata": {},
   "source": [
    "#### Document Term Matrix "
   ]
  },
  {
   "cell_type": "code",
   "execution_count": 42,
   "metadata": {},
   "outputs": [
    {
     "data": {
      "text/plain": [
       "<30701x24059 sparse matrix of type '<class 'numpy.int64'>'\n",
       "\twith 464795 stored elements in Compressed Sparse Row format>"
      ]
     },
     "execution_count": 42,
     "metadata": {},
     "output_type": "execute_result"
    }
   ],
   "source": [
    "from sklearn.feature_extraction.text import CountVectorizer\n",
    "\n",
    "vectorizer = CountVectorizer()\n",
    "vectorizer.fit(docs_clean)\n",
    "dtm = vectorizer.transform(docs_clean)\n",
    "dtm "
   ]
  },
  {
   "cell_type": "code",
   "execution_count": 43,
   "metadata": {},
   "outputs": [
    {
     "ename": "MemoryError",
     "evalue": "",
     "output_type": "error",
     "traceback": [
      "\u001b[1;31m---------------------------------------------------------------------------\u001b[0m",
      "\u001b[1;31mMemoryError\u001b[0m                               Traceback (most recent call last)",
      "\u001b[1;32m<ipython-input-43-c47767fbe296>\u001b[0m in \u001b[0;36m<module>\u001b[1;34m()\u001b[0m\n\u001b[1;32m----> 1\u001b[1;33m df_dtm = pd.DataFrame(dtm.toarray(),\n\u001b[0m\u001b[0;32m      2\u001b[0m                      columns=vectorizer.get_feature_names())\n\u001b[0;32m      3\u001b[0m \u001b[0mdf_dtm\u001b[0m\u001b[1;33m\u001b[0m\u001b[0m\n",
      "\u001b[1;32m~\\Anaconda3\\lib\\site-packages\\scipy\\sparse\\compressed.py\u001b[0m in \u001b[0;36mtoarray\u001b[1;34m(self, order, out)\u001b[0m\n\u001b[0;32m    945\u001b[0m         \u001b[1;32mif\u001b[0m \u001b[0mout\u001b[0m \u001b[1;32mis\u001b[0m \u001b[1;32mNone\u001b[0m \u001b[1;32mand\u001b[0m \u001b[0morder\u001b[0m \u001b[1;32mis\u001b[0m \u001b[1;32mNone\u001b[0m\u001b[1;33m:\u001b[0m\u001b[1;33m\u001b[0m\u001b[0m\n\u001b[0;32m    946\u001b[0m             \u001b[0morder\u001b[0m \u001b[1;33m=\u001b[0m \u001b[0mself\u001b[0m\u001b[1;33m.\u001b[0m\u001b[0m_swap\u001b[0m\u001b[1;33m(\u001b[0m\u001b[1;34m'cf'\u001b[0m\u001b[1;33m)\u001b[0m\u001b[1;33m[\u001b[0m\u001b[1;36m0\u001b[0m\u001b[1;33m]\u001b[0m\u001b[1;33m\u001b[0m\u001b[0m\n\u001b[1;32m--> 947\u001b[1;33m         \u001b[0mout\u001b[0m \u001b[1;33m=\u001b[0m \u001b[0mself\u001b[0m\u001b[1;33m.\u001b[0m\u001b[0m_process_toarray_args\u001b[0m\u001b[1;33m(\u001b[0m\u001b[0morder\u001b[0m\u001b[1;33m,\u001b[0m \u001b[0mout\u001b[0m\u001b[1;33m)\u001b[0m\u001b[1;33m\u001b[0m\u001b[0m\n\u001b[0m\u001b[0;32m    948\u001b[0m         \u001b[1;32mif\u001b[0m \u001b[1;32mnot\u001b[0m \u001b[1;33m(\u001b[0m\u001b[0mout\u001b[0m\u001b[1;33m.\u001b[0m\u001b[0mflags\u001b[0m\u001b[1;33m.\u001b[0m\u001b[0mc_contiguous\u001b[0m \u001b[1;32mor\u001b[0m \u001b[0mout\u001b[0m\u001b[1;33m.\u001b[0m\u001b[0mflags\u001b[0m\u001b[1;33m.\u001b[0m\u001b[0mf_contiguous\u001b[0m\u001b[1;33m)\u001b[0m\u001b[1;33m:\u001b[0m\u001b[1;33m\u001b[0m\u001b[0m\n\u001b[0;32m    949\u001b[0m             \u001b[1;32mraise\u001b[0m \u001b[0mValueError\u001b[0m\u001b[1;33m(\u001b[0m\u001b[1;34m'Output array must be C or F contiguous'\u001b[0m\u001b[1;33m)\u001b[0m\u001b[1;33m\u001b[0m\u001b[0m\n",
      "\u001b[1;32m~\\Anaconda3\\lib\\site-packages\\scipy\\sparse\\base.py\u001b[0m in \u001b[0;36m_process_toarray_args\u001b[1;34m(self, order, out)\u001b[0m\n\u001b[0;32m   1182\u001b[0m             \u001b[1;32mreturn\u001b[0m \u001b[0mout\u001b[0m\u001b[1;33m\u001b[0m\u001b[0m\n\u001b[0;32m   1183\u001b[0m         \u001b[1;32melse\u001b[0m\u001b[1;33m:\u001b[0m\u001b[1;33m\u001b[0m\u001b[0m\n\u001b[1;32m-> 1184\u001b[1;33m             \u001b[1;32mreturn\u001b[0m \u001b[0mnp\u001b[0m\u001b[1;33m.\u001b[0m\u001b[0mzeros\u001b[0m\u001b[1;33m(\u001b[0m\u001b[0mself\u001b[0m\u001b[1;33m.\u001b[0m\u001b[0mshape\u001b[0m\u001b[1;33m,\u001b[0m \u001b[0mdtype\u001b[0m\u001b[1;33m=\u001b[0m\u001b[0mself\u001b[0m\u001b[1;33m.\u001b[0m\u001b[0mdtype\u001b[0m\u001b[1;33m,\u001b[0m \u001b[0morder\u001b[0m\u001b[1;33m=\u001b[0m\u001b[0morder\u001b[0m\u001b[1;33m)\u001b[0m\u001b[1;33m\u001b[0m\u001b[0m\n\u001b[0m\u001b[0;32m   1185\u001b[0m \u001b[1;33m\u001b[0m\u001b[0m\n\u001b[0;32m   1186\u001b[0m \u001b[1;33m\u001b[0m\u001b[0m\n",
      "\u001b[1;31mMemoryError\u001b[0m: "
     ]
    }
   ],
   "source": [
    "df_dtm = pd.DataFrame(dtm.toarray(),\n",
    "                     columns=vectorizer.get_feature_names())\n",
    "df_dtm"
   ]
  },
  {
   "cell_type": "markdown",
   "metadata": {},
   "source": [
    "#### Creating Bag of words analysis combined "
   ]
  },
  {
   "cell_type": "code",
   "execution_count": null,
   "metadata": {},
   "outputs": [],
   "source": [
    "%matplotlib inline\n",
    "df_dtm.sum().sort_values(ascending=False).head(20).plot.bar(color='steelblue',figsize=(12,5))"
   ]
  },
  {
   "cell_type": "markdown",
   "metadata": {},
   "source": [
    "#### Creating Bag of Words seperately of Microsoft and Palestine "
   ]
  },
  {
   "cell_type": "code",
   "execution_count": null,
   "metadata": {},
   "outputs": [],
   "source": [
    "ndf1 = df[df['Topic']=='palestine']"
   ]
  },
  {
   "cell_type": "code",
   "execution_count": null,
   "metadata": {},
   "outputs": [],
   "source": [
    "ndf2 = df[df['Topic']=='microsoft']"
   ]
  },
  {
   "cell_type": "markdown",
   "metadata": {},
   "source": [
    "#### Palestine "
   ]
  },
  {
   "cell_type": "code",
   "execution_count": null,
   "metadata": {},
   "outputs": [],
   "source": [
    "ndf1.Headline = ndf1.Headline.astype('str')"
   ]
  },
  {
   "cell_type": "code",
   "execution_count": null,
   "metadata": {},
   "outputs": [],
   "source": [
    "docs = ndf1['Headline'].str.lower().str.replace('[^a-z@# ]','')\n",
    "stopwords = nltk.corpus.stopwords.words('english')\n",
    "stopwords.extend(['palestine','palestinian'])\n",
    "stemmer = nltk.stem.PorterStemmer()\n",
    "\n",
    "def clean_sentence(text):\n",
    "    words = text.split(' ')\n",
    "    words_clean = [stemmer.stem(w) for w in words if w not in stopwords]\n",
    "    return ' '.join(words_clean)\n",
    "docs_clean = docs.apply(clean_sentence)\n",
    "docs_clean.head()"
   ]
  },
  {
   "cell_type": "code",
   "execution_count": null,
   "metadata": {},
   "outputs": [],
   "source": [
    "from sklearn.feature_extraction.text import CountVectorizer\n",
    "\n",
    "vectorizer = CountVectorizer()\n",
    "vectorizer.fit(docs_clean)\n",
    "dtm = vectorizer.transform(docs_clean)\n",
    "dtm "
   ]
  },
  {
   "cell_type": "code",
   "execution_count": null,
   "metadata": {},
   "outputs": [],
   "source": [
    "df_dtm = pd.DataFrame(dtm.toarray(),\n",
    "                     columns=vectorizer.get_feature_names())\n",
    "df_dtm"
   ]
  },
  {
   "cell_type": "code",
   "execution_count": null,
   "metadata": {},
   "outputs": [],
   "source": [
    "%matplotlib inline\n",
    "df_dtm.sum().sort_values(ascending=False).head(20).plot.bar(color='steelblue',figsize=(12,5))"
   ]
  },
  {
   "cell_type": "markdown",
   "metadata": {},
   "source": [
    "#### Microsoft "
   ]
  },
  {
   "cell_type": "code",
   "execution_count": null,
   "metadata": {},
   "outputs": [],
   "source": [
    "ndf2.Headline = ndf2.Headline.astype('str')"
   ]
  },
  {
   "cell_type": "code",
   "execution_count": null,
   "metadata": {},
   "outputs": [],
   "source": [
    "docs = ndf2['Headline'].str.lower().str.replace('[^a-z@# ]','')\n",
    "stopwords = nltk.corpus.stopwords.words('english')\n",
    "stopwords.extend(['microsoft'])\n",
    "stemmer = nltk.stem.PorterStemmer()\n",
    "\n",
    "def clean_sentence(text):\n",
    "    words = text.split(' ')\n",
    "    words_clean = [stemmer.stem(w) for w in words if w not in stopwords]\n",
    "    return ' '.join(words_clean)\n",
    "docs_clean = docs.apply(clean_sentence)\n",
    "docs_clean.head()"
   ]
  },
  {
   "cell_type": "code",
   "execution_count": null,
   "metadata": {},
   "outputs": [],
   "source": [
    "from sklearn.feature_extraction.text import CountVectorizer\n",
    "\n",
    "vectorizer = CountVectorizer()\n",
    "vectorizer.fit(docs_clean)\n",
    "dtm = vectorizer.transform(docs_clean)\n",
    "dtm "
   ]
  },
  {
   "cell_type": "code",
   "execution_count": null,
   "metadata": {},
   "outputs": [],
   "source": [
    "df_dtm = pd.DataFrame(dtm.toarray(),\n",
    "                     columns=vectorizer.get_feature_names())\n",
    "df_dtm"
   ]
  },
  {
   "cell_type": "code",
   "execution_count": null,
   "metadata": {},
   "outputs": [],
   "source": [
    "%matplotlib inline\n",
    "df_dtm.sum().sort_values(ascending=False).head(20).plot.bar(color='steelblue',figsize=(12,5))"
   ]
  },
  {
   "cell_type": "markdown",
   "metadata": {},
   "source": [
    "#### Ques1. How many articles are for Palestine and Microsoft each?"
   ]
  },
  {
   "cell_type": "code",
   "execution_count": null,
   "metadata": {},
   "outputs": [],
   "source": [
    "df.Topic.value_counts()"
   ]
  },
  {
   "cell_type": "markdown",
   "metadata": {},
   "source": [
    "#### Ques2. What is our of publication of each article? "
   ]
  },
  {
   "cell_type": "code",
   "execution_count": null,
   "metadata": {},
   "outputs": [],
   "source": [
    "df['Date'] = pd.to_datetime(df['PublishDate'])"
   ]
  },
  {
   "cell_type": "code",
   "execution_count": null,
   "metadata": {},
   "outputs": [],
   "source": [
    "def hr_func(ts): \n",
    "    return ts.hour\n",
    "\n",
    "df['time_hour'] = df['Date'].apply(hr_func)"
   ]
  },
  {
   "cell_type": "code",
   "execution_count": null,
   "metadata": {},
   "outputs": [],
   "source": [
    "df.head()"
   ]
  },
  {
   "cell_type": "markdown",
   "metadata": {},
   "source": [
    "#### Ques3. How many articles are there, where status of all social media platform is greater than zero? How many Microsoft and how many are Palestine."
   ]
  },
  {
   "cell_type": "code",
   "execution_count": null,
   "metadata": {},
   "outputs": [],
   "source": [
    "GT0 = df.loc[((df.Facebook>0) & (df.LinkedIn>0) & (df.GooglePlus>0)),:]"
   ]
  },
  {
   "cell_type": "code",
   "execution_count": null,
   "metadata": {},
   "outputs": [],
   "source": [
    "GT0"
   ]
  },
  {
   "cell_type": "code",
   "execution_count": null,
   "metadata": {},
   "outputs": [],
   "source": [
    "GT0P = GT0[GT0['Topic']=='palestine']"
   ]
  },
  {
   "cell_type": "code",
   "execution_count": null,
   "metadata": {},
   "outputs": [],
   "source": [
    "GT0P.Facebook.value_counts().sum()"
   ]
  },
  {
   "cell_type": "code",
   "execution_count": null,
   "metadata": {},
   "outputs": [],
   "source": [
    "GT0M = GT0[GT0['Topic']=='microsoft']"
   ]
  },
  {
   "cell_type": "code",
   "execution_count": null,
   "metadata": {},
   "outputs": [],
   "source": [
    "GT0M.Facebook.value_counts().sum()"
   ]
  },
  {
   "cell_type": "markdown",
   "metadata": {},
   "source": [
    "#### For Individual Condition "
   ]
  },
  {
   "cell_type": "code",
   "execution_count": null,
   "metadata": {},
   "outputs": [],
   "source": [
    "GT0f = df.loc[(df.Facebook>0),:]"
   ]
  },
  {
   "cell_type": "code",
   "execution_count": null,
   "metadata": {},
   "outputs": [],
   "source": [
    "GT0f.Facebook.value_counts().sum()"
   ]
  },
  {
   "cell_type": "code",
   "execution_count": null,
   "metadata": {},
   "outputs": [],
   "source": [
    "GT0g = df.loc[(df.GooglePlus>0),:]"
   ]
  },
  {
   "cell_type": "code",
   "execution_count": null,
   "metadata": {},
   "outputs": [],
   "source": [
    "GT0g.GooglePlus.value_counts().sum()"
   ]
  },
  {
   "cell_type": "code",
   "execution_count": null,
   "metadata": {},
   "outputs": [],
   "source": [
    "GT0l = df.loc[(df.LinkedIn>0),:]"
   ]
  },
  {
   "cell_type": "code",
   "execution_count": null,
   "metadata": {},
   "outputs": [],
   "source": [
    "GT0l.LinkedIn.value_counts().sum()"
   ]
  },
  {
   "cell_type": "markdown",
   "metadata": {},
   "source": [
    "#### Microsoft is having 7084 rows and Palestine is having 736 rows "
   ]
  },
  {
   "cell_type": "markdown",
   "metadata": {},
   "source": [
    "#### Ques4. How SentimentTitle and Sentiment Headings are spread? "
   ]
  },
  {
   "cell_type": "code",
   "execution_count": null,
   "metadata": {},
   "outputs": [],
   "source": [
    "df.hist(column='SentimentTitle')"
   ]
  },
  {
   "cell_type": "code",
   "execution_count": null,
   "metadata": {},
   "outputs": [],
   "source": [
    "df.hist(column='SentimentHeadline')"
   ]
  },
  {
   "cell_type": "markdown",
   "metadata": {},
   "source": [
    "#### New DataSet (Reqd. Dates) "
   ]
  },
  {
   "cell_type": "code",
   "execution_count": null,
   "metadata": {},
   "outputs": [],
   "source": [
    "df_new = df[(df['D_T_Y'] > '2015-11-01') & (df['D_T_Y'] < '2016-07-07')]"
   ]
  },
  {
   "cell_type": "code",
   "execution_count": null,
   "metadata": {},
   "outputs": [],
   "source": [
    "df_new.shape"
   ]
  },
  {
   "cell_type": "code",
   "execution_count": null,
   "metadata": {},
   "outputs": [],
   "source": [
    "df.shape"
   ]
  },
  {
   "cell_type": "markdown",
   "metadata": {},
   "source": [
    "#### Topic Modelling "
   ]
  },
  {
   "cell_type": "code",
   "execution_count": null,
   "metadata": {},
   "outputs": [],
   "source": [
    "import gensim\n",
    "import nltk"
   ]
  },
  {
   "cell_type": "code",
   "execution_count": null,
   "metadata": {},
   "outputs": [],
   "source": [
    "df_new.head()"
   ]
  },
  {
   "cell_type": "markdown",
   "metadata": {},
   "source": [
    "#### Topic Modelling for Palestine "
   ]
  },
  {
   "cell_type": "code",
   "execution_count": null,
   "metadata": {},
   "outputs": [],
   "source": [
    "data=df_new[df_new['Topic']=='palestine']"
   ]
  },
  {
   "cell_type": "code",
   "execution_count": null,
   "metadata": {},
   "outputs": [],
   "source": [
    "docs=data['Title'].fillna('').str.lower()\n",
    "docs=docs.str.replace('[^a-z ]','')\n",
    "docs.head()"
   ]
  },
  {
   "cell_type": "code",
   "execution_count": null,
   "metadata": {},
   "outputs": [],
   "source": [
    "stopwords=nltk.corpus.stopwords.words('english')\n",
    "stopwords.extend(['use','','will','one','good'])\n",
    "stemmer=nltk.stem.PorterStemmer()\n",
    "\n",
    "docs_clean=[]\n",
    "for doc in docs:\n",
    "    words=doc.split(' ')\n",
    "    words_clean= [stemmer.stem(word) for word in words if word not in stopwords]\n",
    "    words_clean=[word for word in words_clean if word not in stopwords]\n",
    "    docs_clean.append(words_clean)"
   ]
  },
  {
   "cell_type": "code",
   "execution_count": null,
   "metadata": {},
   "outputs": [],
   "source": [
    "dictionary = gensim.corpora.Dictionary(docs_clean)"
   ]
  },
  {
   "cell_type": "code",
   "execution_count": null,
   "metadata": {},
   "outputs": [],
   "source": [
    "# bag of words\n",
    "docs_bow=[]\n",
    "for doc in docs_clean:\n",
    "    bow=dictionary.doc2bow(doc)\n",
    "    docs_bow.append(bow)"
   ]
  },
  {
   "cell_type": "code",
   "execution_count": null,
   "metadata": {},
   "outputs": [],
   "source": [
    "lda_model=gensim.models.LdaMulticore(docs_bow,id2word=dictionary,num_topics=10,random_state=500)"
   ]
  },
  {
   "cell_type": "markdown",
   "metadata": {},
   "source": [
    "#### Document to Term Relationship"
   ]
  },
  {
   "cell_type": "code",
   "execution_count": null,
   "metadata": {},
   "outputs": [],
   "source": [
    "lda_model.get_document_topics(docs_bow[1])"
   ]
  },
  {
   "cell_type": "code",
   "execution_count": null,
   "metadata": {},
   "outputs": [],
   "source": [
    "new_df=pd.DataFrame(lda_model.get_document_topics(docs_bow[1]),columns=['topics','probs'])\n",
    "new_df.sort_values(by='probs').iloc[-1]['topics']"
   ]
  },
  {
   "cell_type": "code",
   "execution_count": null,
   "metadata": {},
   "outputs": [],
   "source": [
    "new_df.sort_values(by='probs')"
   ]
  },
  {
   "cell_type": "code",
   "execution_count": null,
   "metadata": {},
   "outputs": [],
   "source": [
    "topics=[]\n",
    "for doc in docs_bow:\n",
    "    new_df=pd.DataFrame(lda_model.get_document_topics(doc),columns=['topics','probs'])\n",
    "    topic=new_df.sort_values(by='probs').iloc[-1]['topics']\n",
    "    topics.append(topic)"
   ]
  },
  {
   "cell_type": "code",
   "execution_count": null,
   "metadata": {},
   "outputs": [],
   "source": [
    "lda_model.print_topics()"
   ]
  },
  {
   "cell_type": "code",
   "execution_count": null,
   "metadata": {},
   "outputs": [],
   "source": [
    "# coherence\n",
    "from gensim.models.coherencemodel import CoherenceModel"
   ]
  },
  {
   "cell_type": "code",
   "execution_count": null,
   "metadata": {},
   "outputs": [],
   "source": [
    "c_scores=[]\n",
    "for i in range(4,20):\n",
    "    lda_model=gensim.models.LdaMulticore(docs_bow,id2word=dictionary,num_topics=i,random_state=100,iterations=300)\n",
    "    coher_model=CoherenceModel(lda_model,corpus=docs_bow,coherence='u_mass')\n",
    "    score=coher_model.get_coherence()\n",
    "    c_scores.append(score)"
   ]
  },
  {
   "cell_type": "code",
   "execution_count": null,
   "metadata": {},
   "outputs": [],
   "source": [
    "plt.plot(c_scores)\n",
    "plt.show()"
   ]
  },
  {
   "cell_type": "markdown",
   "metadata": {},
   "source": [
    "#### Topic Modelling for Microsoft"
   ]
  },
  {
   "cell_type": "code",
   "execution_count": null,
   "metadata": {},
   "outputs": [],
   "source": [
    "data=df_new[df_new['Topic']=='microsoft']"
   ]
  },
  {
   "cell_type": "code",
   "execution_count": null,
   "metadata": {},
   "outputs": [],
   "source": [
    "docs=data['Title'].fillna('').str.lower()\n",
    "docs=docs.str.replace('[^a-z ]','')\n",
    "docs.head()"
   ]
  },
  {
   "cell_type": "code",
   "execution_count": null,
   "metadata": {},
   "outputs": [],
   "source": [
    "stopwords=nltk.corpus.stopwords.words('english')\n",
    "stopwords.extend(['use','','will','one','good'])\n",
    "stemmer=nltk.stem.PorterStemmer()\n",
    "\n",
    "docs_clean=[]\n",
    "for doc in docs:\n",
    "    words=doc.split(' ')\n",
    "    words_clean= [stemmer.stem(word) for word in words if word not in stopwords]\n",
    "    words_clean=[word for word in words_clean if word not in stopwords]\n",
    "    docs_clean.append(words_clean)"
   ]
  },
  {
   "cell_type": "code",
   "execution_count": null,
   "metadata": {},
   "outputs": [],
   "source": [
    "dictionary = gensim.corpora.Dictionary(docs_clean)"
   ]
  },
  {
   "cell_type": "code",
   "execution_count": null,
   "metadata": {},
   "outputs": [],
   "source": [
    "# bag of words\n",
    "docs_bow=[]\n",
    "for doc in docs_clean:\n",
    "    bow=dictionary.doc2bow(doc)\n",
    "    docs_bow.append(bow)"
   ]
  },
  {
   "cell_type": "code",
   "execution_count": null,
   "metadata": {},
   "outputs": [],
   "source": [
    "lda_model=gensim.models.LdaMulticore(docs_bow,id2word=dictionary,num_topics=10,random_state=500)"
   ]
  },
  {
   "cell_type": "code",
   "execution_count": null,
   "metadata": {},
   "outputs": [],
   "source": [
    "new_df=pd.DataFrame(lda_model.get_document_topics(docs_bow[1]),columns=['topics','probs'])\n",
    "new_df.sort_values(by='probs').iloc[-1]['topics']"
   ]
  },
  {
   "cell_type": "code",
   "execution_count": null,
   "metadata": {},
   "outputs": [],
   "source": [
    "topics=[]\n",
    "for doc in docs_bow:\n",
    "    new_df=pd.DataFrame(lda_model.get_document_topics(doc),columns=['topics','probs'])\n",
    "    topic=new_df.sort_values(by='probs').iloc[-1]['topics']\n",
    "    topics.append(topic)\n",
    "#data['topics']=topics"
   ]
  },
  {
   "cell_type": "code",
   "execution_count": null,
   "metadata": {},
   "outputs": [],
   "source": [
    "lda_model.print_topics()"
   ]
  },
  {
   "cell_type": "code",
   "execution_count": null,
   "metadata": {},
   "outputs": [],
   "source": [
    "# coherence\n",
    "from gensim.models.coherencemodel import CoherenceModel"
   ]
  },
  {
   "cell_type": "code",
   "execution_count": null,
   "metadata": {},
   "outputs": [],
   "source": [
    "c_scores=[]\n",
    "for i in range(4,20):\n",
    "    lda_model=gensim.models.LdaMulticore(docs_bow,id2word=dictionary,num_topics=i,random_state=100,iterations=300)\n",
    "    coher_model=CoherenceModel(lda_model,corpus=docs_bow,coherence='u_mass')\n",
    "    score=coher_model.get_coherence()\n",
    "    c_scores.append(score)"
   ]
  },
  {
   "cell_type": "code",
   "execution_count": null,
   "metadata": {},
   "outputs": [],
   "source": [
    "plt.plot(c_scores)\n",
    "plt.show()"
   ]
  },
  {
   "cell_type": "markdown",
   "metadata": {},
   "source": [
    "### Regression "
   ]
  },
  {
   "cell_type": "code",
   "execution_count": null,
   "metadata": {},
   "outputs": [],
   "source": [
    "GT0 = df.loc[((df.Facebook>0) & (df.LinkedIn>0) & (df.GooglePlus>0)),:]"
   ]
  },
  {
   "cell_type": "code",
   "execution_count": null,
   "metadata": {},
   "outputs": [],
   "source": [
    "GT0.head()"
   ]
  },
  {
   "cell_type": "code",
   "execution_count": null,
   "metadata": {},
   "outputs": [],
   "source": [
    "GT0.columns"
   ]
  },
  {
   "cell_type": "code",
   "execution_count": null,
   "metadata": {},
   "outputs": [],
   "source": [
    "X = GT0[['SentimentTitle','SentimentHeadline','Facebook','GooglePlus','LinkedIn']]\n",
    "y = GT0[['SentimentHeadline']]"
   ]
  },
  {
   "cell_type": "code",
   "execution_count": null,
   "metadata": {},
   "outputs": [],
   "source": [
    "x_train, x_test, y_train, y_test = train_test_split(X,y,test_size=0.3,random_state=2)"
   ]
  },
  {
   "cell_type": "code",
   "execution_count": null,
   "metadata": {},
   "outputs": [],
   "source": [
    "model=LinearRegression()\n",
    "model.fit(x_train,y_train)"
   ]
  },
  {
   "cell_type": "code",
   "execution_count": null,
   "metadata": {},
   "outputs": [],
   "source": [
    "ypred = model.predict(x_test)"
   ]
  },
  {
   "cell_type": "code",
   "execution_count": null,
   "metadata": {},
   "outputs": [],
   "source": [
    "from sklearn.metrics import r2_score"
   ]
  },
  {
   "cell_type": "code",
   "execution_count": null,
   "metadata": {},
   "outputs": [],
   "source": [
    "r2_score(y_test, ypred)  "
   ]
  },
  {
   "cell_type": "code",
   "execution_count": null,
   "metadata": {},
   "outputs": [],
   "source": [
    "\n",
    "x_train, x_test, y_train, y_test = train_test_split(X,y,test_size=0.3,random_state=2)"
   ]
  },
  {
   "cell_type": "code",
   "execution_count": null,
   "metadata": {},
   "outputs": [],
   "source": [
    "model=LinearRegression()\n",
    "model.fit(x_train,y_train)"
   ]
  },
  {
   "cell_type": "code",
   "execution_count": null,
   "metadata": {},
   "outputs": [],
   "source": [
    "model.score(x_test,y_test)"
   ]
  },
  {
   "cell_type": "markdown",
   "metadata": {},
   "source": [
    "### By using DTM Matrix "
   ]
  },
  {
   "cell_type": "code",
   "execution_count": null,
   "metadata": {},
   "outputs": [],
   "source": [
    "GT0.Topic.value_counts()"
   ]
  },
  {
   "cell_type": "code",
   "execution_count": null,
   "metadata": {},
   "outputs": [],
   "source": [
    "from nltk.stem import PorterStemmer\n",
    "from sklearn.feature_extraction.text import CountVectorizer\n",
    "stemmer = PorterStemmer()"
   ]
  },
  {
   "cell_type": "code",
   "execution_count": null,
   "metadata": {},
   "outputs": [],
   "source": [
    "custom_stop_words = ['microsoft','palestine']\n",
    "common_stop_words = nltk.corpus.stopwords.words('english')\n",
    "stop_words_all = np.hstack([custom_stop_words, common_stop_words])\n",
    "len(stop_words_all)"
   ]
  },
  {
   "cell_type": "code",
   "execution_count": null,
   "metadata": {},
   "outputs": [],
   "source": [
    "docs = GT0['Headline']\n",
    "docs = docs.str.lower()\n",
    "docs = docs.str.replace('[^a-z#@ ]', '')\n",
    "docs = docs.str.split(' ')\n",
    "words_rows = docs.tolist()\n",
    "words_all = []\n",
    "words_rows_clean = []\n",
    "docs_clean = []\n",
    "for row in words_rows:\n",
    "    row_words = [stemmer.stem(word) for word in row if word not in stop_words_all]  \n",
    "    words_rows_clean.append(row_words)\n",
    "    docs_clean.append(' '.join(row_words))\n",
    "    words_all.extend(row_words)\n",
    "\n",
    "    \n",
    "model_dtm = CountVectorizer()\n",
    "sparse_matrix = model_dtm.fit_transform(docs_clean)\n",
    "dtm = pd.DataFrame(sparse_matrix.toarray(),\n",
    "                   columns=model_dtm.get_feature_names())\n",
    "dtm.shape"
   ]
  },
  {
   "cell_type": "code",
   "execution_count": null,
   "metadata": {},
   "outputs": [],
   "source": [
    "from sklearn.model_selection import train_test_split\n",
    "train_x, test_x = train_test_split(dtm, test_size=0.3, random_state=0)\n",
    "\n",
    "train_y = GT0.iloc[train_x.index]['SentimentHeadline']\n",
    "test_y = GT0.iloc[test_x.index]['SentimentHeadline']"
   ]
  },
  {
   "cell_type": "code",
   "execution_count": null,
   "metadata": {},
   "outputs": [],
   "source": [
    "from sklearn.linear_model import LinearRegression\n"
   ]
  },
  {
   "cell_type": "code",
   "execution_count": null,
   "metadata": {},
   "outputs": [],
   "source": [
    "model=LinearRegression()\n",
    "model.fit(train_x,train_y)"
   ]
  },
  {
   "cell_type": "code",
   "execution_count": null,
   "metadata": {},
   "outputs": [],
   "source": [
    "ypred = model.predict(test_x)"
   ]
  },
  {
   "cell_type": "code",
   "execution_count": null,
   "metadata": {},
   "outputs": [],
   "source": [
    "r2_score(test_y, ypred)  "
   ]
  },
  {
   "cell_type": "code",
   "execution_count": null,
   "metadata": {},
   "outputs": [],
   "source": []
  },
  {
   "cell_type": "markdown",
   "metadata": {},
   "source": [
    "### XG-Boost"
   ]
  },
  {
   "cell_type": "code",
   "execution_count": null,
   "metadata": {},
   "outputs": [],
   "source": [
    "import pandas as pd\n",
    "import numpy as np\n",
    "\n",
    "import seaborn as sns\n",
    "import matplotlib.pyplot as plt\n",
    "%matplotlib inline\n",
    "\n",
    "import warnings\n",
    "warnings.filterwarnings('ignore')\n",
    "\n",
    "from sklearn.linear_model import LogisticRegression\n",
    "from sklearn.neighbors import KNeighborsClassifier\n",
    "from sklearn.naive_bayes import GaussianNB\n",
    "from sklearn.tree import DecisionTreeClassifier\n",
    "\n",
    "from sklearn.ensemble import RandomForestClassifier\n",
    "from sklearn.ensemble import BaggingClassifier\n",
    "from sklearn.ensemble import AdaBoostClassifier\n",
    "from sklearn.ensemble import GradientBoostingClassifier\n",
    "from sklearn.ensemble import VotingClassifier\n",
    "import xgboost as xgb\n",
    "\n",
    "from scipy.stats import randint as sp_randint\n",
    "from sklearn.model_selection import RandomizedSearchCV\n",
    "\n",
    "from sklearn.model_selection import train_test_split\n",
    "from sklearn import model_selection\n",
    "from sklearn.utils import resample\n",
    "\n",
    "from statsmodels.api import add_constant\n",
    "import statsmodels.discrete.discrete_model as smt\n",
    "\n",
    "import seaborn as sns\n",
    "\n",
    "from imblearn.over_sampling import SMOTE\n",
    "\n",
    "from sklearn.model_selection import GridSearchCV\n",
    "from sklearn.preprocessing import StandardScaler\n",
    "\n",
    "from sklearn import metrics"
   ]
  },
  {
   "cell_type": "code",
   "execution_count": null,
   "metadata": {},
   "outputs": [],
   "source": [
    "import xgboost as xgb\n",
    "from scipy.stats import randint as sp_randint\n",
    "xgr = xgb.XGBRegressor()\n",
    "param = {'n_estimators': sp_randint(1, 80)}\n",
    "randomCV = RandomizedSearchCV(xgr, param_distributions=param, n_iter=80)\n",
    "randomCV.fit(X,y)\n",
    "randomCV.best_params_"
   ]
  },
  {
   "cell_type": "code",
   "execution_count": null,
   "metadata": {},
   "outputs": [],
   "source": [
    "xgr = xgb.XGBRegressor(n_estimators=78)\n",
    "xgr.fit(x_train, y_train)"
   ]
  },
  {
   "cell_type": "code",
   "execution_count": null,
   "metadata": {},
   "outputs": [],
   "source": [
    "xgr.score(x_test,y_test)"
   ]
  },
  {
   "cell_type": "markdown",
   "metadata": {},
   "source": [
    "### TF-IDF"
   ]
  },
  {
   "cell_type": "code",
   "execution_count": null,
   "metadata": {},
   "outputs": [],
   "source": [
    "GT0.head()"
   ]
  },
  {
   "cell_type": "code",
   "execution_count": null,
   "metadata": {},
   "outputs": [],
   "source": [
    "GT0.Topic.value_counts()"
   ]
  },
  {
   "cell_type": "code",
   "execution_count": null,
   "metadata": {},
   "outputs": [],
   "source": [
    "GT0 = df[(df.Facebook>0)]\n",
    "GT0=GT0[GT0['Topic']=='microsoft']"
   ]
  },
  {
   "cell_type": "code",
   "execution_count": null,
   "metadata": {},
   "outputs": [],
   "source": [
    "docs = GT0['Headline'].str.lower().str.replace('[^a-z ]','')\n",
    "stopwords = nltk.corpus.stopwords.words('english')\n",
    "stopwords.extend(['palestine','microsoft'])\n",
    "stemmer = nltk.stem.PorterStemmer()\n",
    "\n",
    "def clean_sentence(text):\n",
    "    words = text.split(' ')\n",
    "    words_clean = [stemmer.stem(w) for w in words if w not in stopwords]\n",
    "    return ' '.join(words_clean)\n",
    "\n",
    "docs_clean = docs.apply(clean_sentence)"
   ]
  },
  {
   "cell_type": "code",
   "execution_count": null,
   "metadata": {},
   "outputs": [],
   "source": [
    "GT0.shape"
   ]
  },
  {
   "cell_type": "code",
   "execution_count": null,
   "metadata": {},
   "outputs": [],
   "source": [
    "from sklearn.feature_extraction.text import CountVectorizer\n",
    "from sklearn.feature_extraction.text import TfidfVectorizer\n",
    "\n",
    "tf_idf_vectorizer = CountVectorizer(stop_words=stopwords, ngram_range=(1,1))\n",
    "\n",
    "document_term_matrix = tf_idf_vectorizer.fit_transform(docs_clean)\n",
    "\n",
    "#len(tf_idf_vectorizer.get_feature_names())\n",
    "\n",
    "document_term_matrix.toarray().shape\n",
    "\n",
    "#pd.DataFrame(document_term_matrix.toarray(), \n",
    "             #columns = tf_idf_vectorizer.get_feature_names(), )\n"
   ]
  },
  {
   "cell_type": "code",
   "execution_count": null,
   "metadata": {},
   "outputs": [],
   "source": [
    "temp = pd.DataFrame(document_term_matrix.toarray(),columns=tf_idf_vectorizer.get_feature_names())\n",
    "GT0['Avg-TFIDF'] = temp.mean(axis=1)\n",
    "GT0['Sum-TFIDF'] = temp.sum(axis=1)\n",
    "#GT0.head()"
   ]
  },
  {
   "cell_type": "code",
   "execution_count": null,
   "metadata": {},
   "outputs": [],
   "source": [
    "#columns_list = ['SentimentTitle','SentimentHeadline','month','day','year','time_hour','Avg-TFIDF','Sum-TFIDF']\n",
    "X = temp\n",
    "y = GT0['Facebook']\n",
    "X_train, X_test, y_train, y_test = train_test_split( X, y, test_size=0.2, random_state=100)"
   ]
  },
  {
   "cell_type": "code",
   "execution_count": null,
   "metadata": {},
   "outputs": [],
   "source": [
    "X.head()\n"
   ]
  },
  {
   "cell_type": "code",
   "execution_count": null,
   "metadata": {},
   "outputs": [],
   "source": [
    "X.shape"
   ]
  },
  {
   "cell_type": "code",
   "execution_count": null,
   "metadata": {},
   "outputs": [],
   "source": [
    "GT0[X[X['zuckerberg']==1].index]"
   ]
  },
  {
   "cell_type": "code",
   "execution_count": null,
   "metadata": {},
   "outputs": [],
   "source": [
    "X.shape"
   ]
  },
  {
   "cell_type": "code",
   "execution_count": null,
   "metadata": {},
   "outputs": [],
   "source": [
    "y.shape"
   ]
  },
  {
   "cell_type": "code",
   "execution_count": null,
   "metadata": {},
   "outputs": [],
   "source": [
    "from sklearn.linear_model import LinearRegression\n",
    "model=LinearRegression()\n",
    "model.fit(X_train,y_train)"
   ]
  },
  {
   "cell_type": "code",
   "execution_count": null,
   "metadata": {},
   "outputs": [],
   "source": [
    "r2_score(y_train, model.predict(X_train))  "
   ]
  },
  {
   "cell_type": "code",
   "execution_count": null,
   "metadata": {},
   "outputs": [],
   "source": [
    "#GT0 = GT0[GT0['Facebook']<=8000]"
   ]
  },
  {
   "cell_type": "code",
   "execution_count": null,
   "metadata": {},
   "outputs": [],
   "source": [
    "from sklearn import preprocessing\n",
    "\n",
    "le = preprocessing.LabelEncoder()\n",
    "\n",
    "GT0['Source_Encoded'] = le.fit_transform(GT0['Source'])"
   ]
  },
  {
   "cell_type": "code",
   "execution_count": null,
   "metadata": {},
   "outputs": [],
   "source": [
    "GT0.Source.value_counts()"
   ]
  },
  {
   "cell_type": "code",
   "execution_count": null,
   "metadata": {},
   "outputs": [],
   "source": [
    "#GT0 = GT0[GT0.Source=='WinBeta']\n",
    "#GT0.shape"
   ]
  },
  {
   "cell_type": "code",
   "execution_count": null,
   "metadata": {},
   "outputs": [],
   "source": [
    "GT0.head()"
   ]
  },
  {
   "cell_type": "code",
   "execution_count": null,
   "metadata": {},
   "outputs": [],
   "source": [
    "GT0.isnull().sum()\n",
    "GT0.fillna(0,inplace=True)"
   ]
  },
  {
   "cell_type": "code",
   "execution_count": null,
   "metadata": {},
   "outputs": [],
   "source": [
    "columns_list = ['SentimentTitle','SentimentHeadline','month','day','year','time_hour','Avg-TFIDF','Sum-TFIDF']\n",
    "X = GT0[columns_list]\n",
    "y = GT0['Facebook']\n",
    "X_train, X_test, y_train, y_test = train_test_split( X, y, test_size=0.2, random_state=100)"
   ]
  },
  {
   "cell_type": "code",
   "execution_count": null,
   "metadata": {},
   "outputs": [],
   "source": [
    "from sklearn.linear_model import LinearRegression\n",
    "model=LinearRegression()\n",
    "model.fit(X_train,y_train)"
   ]
  },
  {
   "cell_type": "code",
   "execution_count": null,
   "metadata": {},
   "outputs": [],
   "source": [
    "r2_score(y_train, model.predict(X_train))  "
   ]
  },
  {
   "cell_type": "code",
   "execution_count": null,
   "metadata": {},
   "outputs": [],
   "source": [
    "X.head()"
   ]
  },
  {
   "cell_type": "code",
   "execution_count": null,
   "metadata": {},
   "outputs": [],
   "source": [
    "GT0 = df[(df.GooglePlus>0)]\n",
    "GT0.shape"
   ]
  },
  {
   "cell_type": "code",
   "execution_count": null,
   "metadata": {},
   "outputs": [],
   "source": [
    "columns_list = ['SentimentTitle','SentimentHeadline','month','day','year','time_hour','Avg-TFIDF','Sum-TFIDF']\n",
    "X = GT0[columns_list]\n",
    "y = GT0['GooglePlus']\n",
    "X_train, X_test, y_train, y_test = train_test_split( X, y, test_size=0.2, random_state=100)"
   ]
  },
  {
   "cell_type": "code",
   "execution_count": null,
   "metadata": {},
   "outputs": [],
   "source": [
    "from sklearn.linear_model import LinearRegression\n",
    "model=LinearRegression()\n",
    "model.fit(X_train,y_train)"
   ]
  },
  {
   "cell_type": "code",
   "execution_count": null,
   "metadata": {},
   "outputs": [],
   "source": [
    "r2_score(y_train, model.predict(X_train))  "
   ]
  },
  {
   "cell_type": "code",
   "execution_count": null,
   "metadata": {},
   "outputs": [],
   "source": [
    "GT0 = df[((df.Facebook>0) & (df.Facebook<8000))]"
   ]
  },
  {
   "cell_type": "code",
   "execution_count": null,
   "metadata": {},
   "outputs": [],
   "source": []
  },
  {
   "cell_type": "code",
   "execution_count": null,
   "metadata": {},
   "outputs": [],
   "source": []
  },
  {
   "cell_type": "code",
   "execution_count": null,
   "metadata": {},
   "outputs": [],
   "source": []
  },
  {
   "cell_type": "code",
   "execution_count": null,
   "metadata": {},
   "outputs": [],
   "source": []
  },
  {
   "cell_type": "code",
   "execution_count": null,
   "metadata": {},
   "outputs": [],
   "source": []
  },
  {
   "cell_type": "code",
   "execution_count": null,
   "metadata": {},
   "outputs": [],
   "source": [
    "docs = GT0['Title'].str.lower().str.replace('[^a-z ]','')\n",
    "stopwords = nltk.corpus.stopwords.words('english')\n",
    "stopwords.extend(['palestine','microsoft'])\n",
    "stemmer = nltk.stem.PorterStemmer()\n",
    "\n",
    "def clean_sentence(text):\n",
    "    words = text.split(' ')\n",
    "    words_clean = [stemmer.stem(w) for w in words if w not in stopwords]\n",
    "    return ' '.join(words_clean)\n",
    "\n",
    "docs_clean = docs.apply(clean_sentence)\n",
    "\n",
    "from sklearn.model_selection import train_test_split\n",
    "train, test = train_test_split(docs_clean,test_size=0.2,random_state=100)\n",
    "\n",
    "from sklearn.feature_extraction.text import CountVectorizer\n",
    "vectorizer = CountVectorizer()\n",
    "vectorizer.fit(train)\n",
    "dtm_train = vectorizer.transform(train)\n",
    "dtm_test = vectorizer.transform(test)\n",
    "\n",
    "features = vectorizer.get_feature_names()\n",
    "df_dtm_train = pd.DataFrame(dtm_train.toarray(),columns=features)\n",
    "df_dtm_test = pd.DataFrame(dtm_test.toarray(),columns=features)\n",
    "df_dtm_train.shape, df_dtm_test.shape\n",
    "\n",
    "#train_y = GT0.loc[train.index]['Facebook']\n",
    "#test_y = GT0.loc[test.index]['Facebook']"
   ]
  },
  {
   "cell_type": "code",
   "execution_count": null,
   "metadata": {},
   "outputs": [],
   "source": []
  },
  {
   "cell_type": "code",
   "execution_count": null,
   "metadata": {},
   "outputs": [],
   "source": [
    "docs_clean.head()"
   ]
  },
  {
   "cell_type": "code",
   "execution_count": null,
   "metadata": {},
   "outputs": [],
   "source": []
  },
  {
   "cell_type": "code",
   "execution_count": null,
   "metadata": {},
   "outputs": [],
   "source": [
    "from sklearn.feature_extraction.text import TfidfVectorizer\n",
    "\n",
    "vectorizer = TfidfVectorizer()\n",
    "vectorizer.fit(train)\n",
    "dtm_train = vectorizer.transform(train)\n",
    "dtm_test = vectorizer.transform(test)\n",
    "\n",
    "features = vectorizer.get_feature_names()\n",
    "df_dtm_train = pd.DataFrame(dtm_train.toarray(),columns=features)\n",
    "df_dtm_test = pd.DataFrame(dtm_test.toarray(),columns=features)\n",
    "df_dtm_train.shape, df_dtm_test.shape\n",
    "\n",
    "\n",
    "train_y = GT0.loc[train.index]['Facebook']\n",
    "test_y = GT0.loc[test.index]['Facebook']"
   ]
  },
  {
   "cell_type": "code",
   "execution_count": null,
   "metadata": {},
   "outputs": [],
   "source": [
    "df_dtm_train.head()"
   ]
  },
  {
   "cell_type": "code",
   "execution_count": null,
   "metadata": {},
   "outputs": [],
   "source": [
    "from sklearn.linear_model import LinearRegression\n",
    "model=LinearRegression()\n",
    "model.fit(df_dtm_train,train_y)"
   ]
  },
  {
   "cell_type": "code",
   "execution_count": null,
   "metadata": {},
   "outputs": [],
   "source": [
    "ypred = model.predict(df_dtm_test)"
   ]
  },
  {
   "cell_type": "code",
   "execution_count": null,
   "metadata": {},
   "outputs": [],
   "source": [
    "r2_score(list(test_y), ypred)  "
   ]
  },
  {
   "cell_type": "code",
   "execution_count": null,
   "metadata": {},
   "outputs": [],
   "source": [
    "ypred.shape"
   ]
  },
  {
   "cell_type": "code",
   "execution_count": null,
   "metadata": {},
   "outputs": [],
   "source": [
    "metrics.r2_score(test_y,ypred)"
   ]
  },
  {
   "cell_type": "code",
   "execution_count": null,
   "metadata": {
    "scrolled": true
   },
   "outputs": [],
   "source": [
    "from sklearn import metrics"
   ]
  },
  {
   "cell_type": "code",
   "execution_count": null,
   "metadata": {},
   "outputs": [],
   "source": [
    "from sklearn.metrics import mean_squared_error"
   ]
  },
  {
   "cell_type": "code",
   "execution_count": null,
   "metadata": {},
   "outputs": [],
   "source": [
    "mean_squared_error(test_y, ypred)"
   ]
  },
  {
   "cell_type": "code",
   "execution_count": null,
   "metadata": {},
   "outputs": [],
   "source": [
    "docs = GT0['Headline'].str.lower().str.replace('[^a-z ]','')\n",
    "stopwords = nltk.corpus.stopwords.words('english')\n",
    "stopwords.extend(['palestine','microsoft'])\n",
    "stemmer = nltk.stem.PorterStemmer()\n",
    "\n",
    "def clean_sentence(text):\n",
    "    words = text.split(' ')\n",
    "    words_clean = [stemmer.stem(w) for w in words if w not in stopwords]\n",
    "    return ' '.join(words_clean)\n",
    "\n",
    "docs_clean = docs.apply(clean_sentence)\n",
    "\n",
    "from sklearn.model_selection import train_test_split\n",
    "train, test = train_test_split(docs_clean,test_size=0.2,random_state=100)\n",
    "\n",
    "from sklearn.feature_extraction.text import CountVectorizer\n",
    "vectorizer = CountVectorizer()\n",
    "vectorizer.fit(train)\n",
    "dtm_train = vectorizer.transform(train)\n",
    "dtm_test = vectorizer.transform(test)\n",
    "\n",
    "features = vectorizer.get_feature_names()\n",
    "df_dtm_train = pd.DataFrame(dtm_train.toarray(),columns=features)\n",
    "df_dtm_test = pd.DataFrame(dtm_test.toarray(),columns=features)\n",
    "df_dtm_train.shape, df_dtm_test.shape\n"
   ]
  },
  {
   "cell_type": "code",
   "execution_count": null,
   "metadata": {},
   "outputs": [],
   "source": [
    "from sklearn.feature_extraction.text import TfidfVectorizer\n",
    "\n",
    "vectorizer = TfidfVectorizer()\n",
    "vectorizer.fit(train)\n",
    "dtm_train = vectorizer.transform(train)\n",
    "dtm_test = vectorizer.transform(test)\n",
    "\n",
    "features = vectorizer.get_feature_names()\n",
    "df_dtm_train = pd.DataFrame(dtm_train.toarray(),columns=features)\n",
    "df_dtm_test = pd.DataFrame(dtm_test.toarray(),columns=features)\n",
    "df_dtm_train.shape, df_dtm_test.shape\n",
    "\n",
    "\n",
    "train_y = GT0.loc[train.index]['Facebook']\n",
    "test_y = GT0.loc[test.index]['Facebook']"
   ]
  },
  {
   "cell_type": "code",
   "execution_count": null,
   "metadata": {},
   "outputs": [],
   "source": [
    "from sklearn.linear_model import LinearRegression\n",
    "model=LinearRegression()\n",
    "model.fit(df_dtm_train,train_y)"
   ]
  },
  {
   "cell_type": "code",
   "execution_count": null,
   "metadata": {},
   "outputs": [],
   "source": [
    "ypred = model.predict(df_dtm_test)"
   ]
  },
  {
   "cell_type": "code",
   "execution_count": null,
   "metadata": {},
   "outputs": [],
   "source": [
    "r2_score(test_y, ypred)  "
   ]
  },
  {
   "cell_type": "code",
   "execution_count": null,
   "metadata": {},
   "outputs": [],
   "source": [
    "mean_squared_error(test_y, ypred)"
   ]
  }
 ],
 "metadata": {
  "kernelspec": {
   "display_name": "Python 3",
   "language": "python",
   "name": "python3"
  },
  "language_info": {
   "codemirror_mode": {
    "name": "ipython",
    "version": 3
   },
   "file_extension": ".py",
   "mimetype": "text/x-python",
   "name": "python",
   "nbconvert_exporter": "python",
   "pygments_lexer": "ipython3",
   "version": "3.7.0"
  }
 },
 "nbformat": 4,
 "nbformat_minor": 2
}
