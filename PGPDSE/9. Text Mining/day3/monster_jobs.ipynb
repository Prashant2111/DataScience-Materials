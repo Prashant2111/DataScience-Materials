{
 "cells": [
  {
   "cell_type": "markdown",
   "metadata": {},
   "source": [
    "# Data Science Jobs From Monster"
   ]
  },
  {
   "cell_type": "code",
   "execution_count": 2,
   "metadata": {},
   "outputs": [],
   "source": [
    "import pandas as pd\n",
    "import nltk\n",
    "import numpy as np\n",
    "from bs4 import BeautifulSoup\n",
    "import requests"
   ]
  },
  {
   "cell_type": "code",
   "execution_count": 14,
   "metadata": {},
   "outputs": [
    {
     "data": {
      "text/plain": [
       "str"
      ]
     },
     "execution_count": 14,
     "metadata": {},
     "output_type": "execute_result"
    }
   ],
   "source": [
    "url = 'https://www.monsterindia.com/data-science-jobs.html'\n",
    "page = requests.get(url).text\n",
    "type(page)"
   ]
  },
  {
   "cell_type": "code",
   "execution_count": 17,
   "metadata": {},
   "outputs": [],
   "source": [
    "bs = BeautifulSoup(page, 'html.parser')"
   ]
  },
  {
   "cell_type": "code",
   "execution_count": 22,
   "metadata": {},
   "outputs": [
    {
     "data": {
      "text/plain": [
       "'Data Science Jobs - 118 Data Science Job Vacancies - Monster India'"
      ]
     },
     "execution_count": 22,
     "metadata": {},
     "output_type": "execute_result"
    }
   ],
   "source": [
    "bs.title.text"
   ]
  },
  {
   "cell_type": "code",
   "execution_count": 34,
   "metadata": {},
   "outputs": [],
   "source": [
    "jobs = bs.findAll('div', {'class': 'jobwrap', 'type': 'tuple'})"
   ]
  },
  {
   "cell_type": "code",
   "execution_count": 48,
   "metadata": {},
   "outputs": [],
   "source": [
    "jobs_df = pd.DataFrame(columns=['title', 'company', 'location',\n",
    "                                'exp', 'posted_at', 'skills'])\n",
    "for job in jobs:\n",
    "    title = job.find('span', {'class': 'title_in'}).text\n",
    "    company = job.find('a', {'class': 'jtxt orange'}).get('title')\n",
    "    location = job.find('div', {'class': 'jtxt jico ico1'}).text\n",
    "    exp = job.find('div', {'class': 'jtxt jico ico2'}).text\n",
    "    posted_at = job.find('div', {'class': 'job_optitem ico7',\n",
    "                                 'itemprop':'datePosted'}).text\n",
    "    skills = job.find('div', {'class': 'joblnk serachjoblnk'}).findAll('div')[4].get('title')\n",
    "    #print(skills)\n",
    "    curr_job = {'title': title,\n",
    "                'company': company,\n",
    "                'location': location,\n",
    "                'experience': exp,\n",
    "                'posted_at': posted_at,\n",
    "                'skills': skills\n",
    "               }\n",
    "    jobs_df = jobs_df.append(curr_job, ignore_index=True)\n",
    "jobs_df.to_csv('monster.csv', index=False)"
   ]
  },
  {
   "cell_type": "code",
   "execution_count": 67,
   "metadata": {},
   "outputs": [
    {
     "name": "stdout",
     "output_type": "stream",
     "text": [
      "https://www.monsterindia.com/data-science-jobs-1.html\n",
      "https://www.monsterindia.com/data-science-jobs-2.html\n",
      "https://www.monsterindia.com/data-science-jobs-3.html\n",
      "https://www.monsterindia.com/data-science-jobs-4.html\n",
      "https://www.monsterindia.com/data-science-jobs-5.html\n"
     ]
    },
    {
     "data": {
      "text/plain": [
       "(82, 7)"
      ]
     },
     "execution_count": 67,
     "metadata": {},
     "output_type": "execute_result"
    }
   ],
   "source": [
    "def parse_url(url):\n",
    "    page = requests.get(url).text\n",
    "    bs = BeautifulSoup(page, 'html.parser')\n",
    "    return (bs)\n",
    "\n",
    "def get_parents(bs):\n",
    "    return (bs.findAll('div', {'class': 'jobwrap', 'type': 'tuple'}))\n",
    "\n",
    "def get_attributes(job):\n",
    "    title = job.find('span', {'class': 'title_in'}).text\n",
    "    company = job.find('a', {'class': 'jtxt orange'}).get('title')\n",
    "    location = job.find('div', {'class': 'jtxt jico ico1'}).text\n",
    "    exp = job.find('div', {'class': 'jtxt jico ico2'}).text\n",
    "    posted_at = job.find('div', {'class': 'job_optitem ico7',\n",
    "                                 'itemprop':'datePosted'}).text\n",
    "    skills = job.find('div', {'class': 'joblnk serachjoblnk'}).findAll('div')[4].get('title')\n",
    "    curr_job = {'title': title,\n",
    "                'company': company,\n",
    "                'location': location,\n",
    "                'experience': exp,\n",
    "                'posted_at': posted_at,\n",
    "                'skills': skills\n",
    "               }\n",
    "    return curr_job\n",
    "\n",
    "jobs_df = pd.DataFrame(columns=['title', 'company', 'location',\n",
    "                                'exp', 'posted_at', 'skills'])\n",
    "\n",
    "for i in range(1,6):\n",
    "    url = 'https://www.monsterindia.com/data-science-jobs-%d.html' % i\n",
    "    print(url)\n",
    "    bs = parse_url(url)\n",
    "    parents = get_parents(bs)\n",
    "    for job in parents:\n",
    "        try:\n",
    "            jobs_df = jobs_df.append(get_attributes(job), ignore_index=True)\n",
    "        except AttributeError:\n",
    "            pass\n",
    "jobs_df.shape"
   ]
  }
 ],
 "metadata": {
  "kernelspec": {
   "display_name": "Python 3",
   "language": "python",
   "name": "python3"
  },
  "language_info": {
   "codemirror_mode": {
    "name": "ipython",
    "version": 3
   },
   "file_extension": ".py",
   "mimetype": "text/x-python",
   "name": "python",
   "nbconvert_exporter": "python",
   "pygments_lexer": "ipython3",
   "version": "3.6.5"
  }
 },
 "nbformat": 4,
 "nbformat_minor": 2
}
