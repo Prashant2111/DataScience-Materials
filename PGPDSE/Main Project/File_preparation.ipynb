{
 "cells": [
  {
   "cell_type": "code",
   "execution_count": null,
   "metadata": {},
   "outputs": [],
   "source": []
  },
  {
   "cell_type": "code",
   "execution_count": 1,
   "metadata": {},
   "outputs": [],
   "source": [
    "import os\n",
    "import pandas as pd\n",
    "import numpy as np\n",
    "from datetime import timedelta"
   ]
  },
  {
   "cell_type": "code",
   "execution_count": 2,
   "metadata": {},
   "outputs": [],
   "source": [
    "\n",
    "\n",
    "pd.set_option('display.max_colwidth', -1)\n",
    "news_data =pd.read_csv(\"News_Data_Updated.csv\")"
   ]
  },
  {
   "cell_type": "code",
   "execution_count": 3,
   "metadata": {},
   "outputs": [
    {
     "data": {
      "text/plain": [
       "(30701, 11)"
      ]
     },
     "execution_count": 3,
     "metadata": {},
     "output_type": "execute_result"
    }
   ],
   "source": [
    "news_data.shape"
   ]
  },
  {
   "cell_type": "code",
   "execution_count": 6,
   "metadata": {},
   "outputs": [
    {
     "data": {
      "text/html": [
       "<div>\n",
       "<style scoped>\n",
       "    .dataframe tbody tr th:only-of-type {\n",
       "        vertical-align: middle;\n",
       "    }\n",
       "\n",
       "    .dataframe tbody tr th {\n",
       "        vertical-align: top;\n",
       "    }\n",
       "\n",
       "    .dataframe thead th {\n",
       "        text-align: right;\n",
       "    }\n",
       "</style>\n",
       "<table border=\"1\" class=\"dataframe\">\n",
       "  <thead>\n",
       "    <tr style=\"text-align: right;\">\n",
       "      <th></th>\n",
       "      <th>IDLink</th>\n",
       "      <th>Title</th>\n",
       "      <th>Headline</th>\n",
       "      <th>Source</th>\n",
       "      <th>Topic</th>\n",
       "      <th>PublishDate</th>\n",
       "      <th>SentimentTitle</th>\n",
       "      <th>SentimentHeadline</th>\n",
       "      <th>Facebook</th>\n",
       "      <th>GooglePlus</th>\n",
       "      <th>LinkedIn</th>\n",
       "    </tr>\n",
       "  </thead>\n",
       "  <tbody>\n",
       "    <tr>\n",
       "      <th>0</th>\n",
       "      <td>27790.0</td>\n",
       "      <td>Intellitec Solutions to Host 13th Annual Spring Microsoft Dynamics User Group</td>\n",
       "      <td>Over 100 attendees expected to see latest version of Microsoft Dynamics SL and Dynamics GP (PRWeb February 29, 2016) Read the full story at http://www.prweb.com/releases/2016/03/prweb13238571.htm</td>\n",
       "      <td>PRWeb</td>\n",
       "      <td>microsoft</td>\n",
       "      <td>2015-03-01 00:19:00</td>\n",
       "      <td>-0.075378</td>\n",
       "      <td>0.036773</td>\n",
       "      <td>-1</td>\n",
       "      <td>-1</td>\n",
       "      <td>-1</td>\n",
       "    </tr>\n",
       "    <tr>\n",
       "      <th>1</th>\n",
       "      <td>80690.0</td>\n",
       "      <td>Monday, 29 Feb 2016</td>\n",
       "      <td>RAMALLAH, February 25, 2016 (WAFA) - Palestine Liberation Organization’s Sectretary-General Saeb Erekat Thursday expressed his concerns over Kenyan President Uhuru Kenyatta’s visit to Jerusalem and the Jordan Valley.</td>\n",
       "      <td>NaN</td>\n",
       "      <td>palestine</td>\n",
       "      <td>2016-02-28 14:03:00</td>\n",
       "      <td>0.000000</td>\n",
       "      <td>-0.005906</td>\n",
       "      <td>0</td>\n",
       "      <td>0</td>\n",
       "      <td>0</td>\n",
       "    </tr>\n",
       "    <tr>\n",
       "      <th>2</th>\n",
       "      <td>80771.0</td>\n",
       "      <td>Fire claims more than 100-year-old barn in Hancock County</td>\n",
       "      <td>A Hancock County man lost a barn early Monday morning that had been in his family more than 100 years.</td>\n",
       "      <td>WTHR Indianapolis</td>\n",
       "      <td>palestine</td>\n",
       "      <td>2015-03-01 01:20:00</td>\n",
       "      <td>-0.173925</td>\n",
       "      <td>-0.050185</td>\n",
       "      <td>-1</td>\n",
       "      <td>-1</td>\n",
       "      <td>-1</td>\n",
       "    </tr>\n",
       "    <tr>\n",
       "      <th>3</th>\n",
       "      <td>27803.0</td>\n",
       "      <td>Microsoft's new Windows 10 ad targets Apple</td>\n",
       "      <td>New Delhi, Feb.29 : Technology giant Microsoft has targeted its rival Apple in its new series of ads focusing on Windows 10, gross bugs, and the Windows machines.</td>\n",
       "      <td>New Kerala</td>\n",
       "      <td>microsoft</td>\n",
       "      <td>2015-03-01 01:32:00</td>\n",
       "      <td>-0.059536</td>\n",
       "      <td>-0.081715</td>\n",
       "      <td>-1</td>\n",
       "      <td>-1</td>\n",
       "      <td>-1</td>\n",
       "    </tr>\n",
       "    <tr>\n",
       "      <th>4</th>\n",
       "      <td>27813.0</td>\n",
       "      <td>Microsoft Project Centennial seen with “universal” desktop Office</td>\n",
       "      <td>Microsoft may have burned off one bridge, but it is still building a different, and perhaps more critical build. Redmond has officially declared Project Astoria, the bridge that would let Android developers easily port their apps to Windows 10, dead but Project Centennial seems to be very much alive and kicking. In fact, it might have an rather ambitious demo … Continue reading</td>\n",
       "      <td>SlashGear</td>\n",
       "      <td>microsoft</td>\n",
       "      <td>2015-03-01 02:14:00</td>\n",
       "      <td>0.000000</td>\n",
       "      <td>0.002550</td>\n",
       "      <td>-1</td>\n",
       "      <td>-1</td>\n",
       "      <td>-1</td>\n",
       "    </tr>\n",
       "    <tr>\n",
       "      <th>5</th>\n",
       "      <td>27812.0</td>\n",
       "      <td>Microsoft sneaks onto Android while Android sneaks onto Windows</td>\n",
       "      <td>The platform battles are back MWC16 +Analysis Two parallel trends bubbled away at MWC this year – but without getting much attention. When Android and Microsoft converge, it’s going to be the next big platform battle, and one Microsoft can’t afford to lose.…</td>\n",
       "      <td>The Register</td>\n",
       "      <td>microsoft</td>\n",
       "      <td>2015-03-01 02:15:00</td>\n",
       "      <td>0.000000</td>\n",
       "      <td>0.052670</td>\n",
       "      <td>-1</td>\n",
       "      <td>-1</td>\n",
       "      <td>-1</td>\n",
       "    </tr>\n",
       "    <tr>\n",
       "      <th>6</th>\n",
       "      <td>27814.0</td>\n",
       "      <td>HoloLens dev edition costs £2,000 with new Conker game</td>\n",
       "      <td>Microsoft’s AR headset is being made available to developers, along with three new games – including one based on Conker’s Bad Fur Day.</td>\n",
       "      <td>Metro</td>\n",
       "      <td>microsoft</td>\n",
       "      <td>2015-03-01 02:18:00</td>\n",
       "      <td>0.000000</td>\n",
       "      <td>0.079434</td>\n",
       "      <td>-1</td>\n",
       "      <td>-1</td>\n",
       "      <td>-1</td>\n",
       "    </tr>\n",
       "    <tr>\n",
       "      <th>7</th>\n",
       "      <td>27823.0</td>\n",
       "      <td>Microsoft Word for Mac 2016 review: A subtle yet massive leap forward in usability and features</td>\n",
       "      <td>What is A + B? Welcome to our review of Word for Mac 2016, updated on 29 Feb 2016.</td>\n",
       "      <td>Macworld UK</td>\n",
       "      <td>microsoft</td>\n",
       "      <td>2015-03-01 02:54:00</td>\n",
       "      <td>-0.023883</td>\n",
       "      <td>-0.032275</td>\n",
       "      <td>-1</td>\n",
       "      <td>-1</td>\n",
       "      <td>-1</td>\n",
       "    </tr>\n",
       "    <tr>\n",
       "      <th>8</th>\n",
       "      <td>27827.0</td>\n",
       "      <td>Microsoft Band 2 gains appeal with lower price</td>\n",
       "      <td>The Microsoft Band 2 hit the market in late 2015 and looked much better to the eye than the original wearable from Microsoft. The biggest downside to that wearable was the price tag for many people, when it originally debuted the Band 2 sold for $249.99. Microsoft is aiming to make its device more appealing to buyers not by adding … Continue reading</td>\n",
       "      <td>SlashGear</td>\n",
       "      <td>microsoft</td>\n",
       "      <td>2015-03-01 03:10:00</td>\n",
       "      <td>-0.070868</td>\n",
       "      <td>0.000000</td>\n",
       "      <td>-1</td>\n",
       "      <td>-1</td>\n",
       "      <td>-1</td>\n",
       "    </tr>\n",
       "    <tr>\n",
       "      <th>9</th>\n",
       "      <td>27828.0</td>\n",
       "      <td>Microsoft prepares to unleash Office 2016 full desktop apps on Windows Store?</td>\n",
       "      <td>It seems that Microsoft is getting ready to push out a Project Centennial version of the Office 2016 suite on the Windows Store – or at least, a test version is now available, which certainly points to the possibility of this happening before long. Project Centennial focuses on allowing developers to convert their Win32 desktop apps to ones which are compatible with the Windows Store and</td>\n",
       "      <td>TechRadar</td>\n",
       "      <td>microsoft</td>\n",
       "      <td>2015-03-01 03:10:00</td>\n",
       "      <td>0.000000</td>\n",
       "      <td>0.001367</td>\n",
       "      <td>-1</td>\n",
       "      <td>-1</td>\n",
       "      <td>-1</td>\n",
       "    </tr>\n",
       "  </tbody>\n",
       "</table>\n",
       "</div>"
      ],
      "text/plain": [
       "    IDLink  \\\n",
       "0  27790.0   \n",
       "1  80690.0   \n",
       "2  80771.0   \n",
       "3  27803.0   \n",
       "4  27813.0   \n",
       "5  27812.0   \n",
       "6  27814.0   \n",
       "7  27823.0   \n",
       "8  27827.0   \n",
       "9  27828.0   \n",
       "\n",
       "                                                                                             Title  \\\n",
       "0  Intellitec Solutions to Host 13th Annual Spring Microsoft Dynamics User Group                     \n",
       "1  Monday, 29 Feb 2016                                                                               \n",
       "2  Fire claims more than 100-year-old barn in Hancock County                                         \n",
       "3  Microsoft's new Windows 10 ad targets Apple                                                       \n",
       "4  Microsoft Project Centennial seen with “universal” desktop Office                                 \n",
       "5  Microsoft sneaks onto Android while Android sneaks onto Windows                                   \n",
       "6  HoloLens dev edition costs £2,000 with new Conker game                                            \n",
       "7  Microsoft Word for Mac 2016 review: A subtle yet massive leap forward in usability and features   \n",
       "8  Microsoft Band 2 gains appeal with lower price                                                    \n",
       "9  Microsoft prepares to unleash Office 2016 full desktop apps on Windows Store?                     \n",
       "\n",
       "                                                                                                                                                                                                                                                                                                                                                                                                  Headline  \\\n",
       "0  Over 100 attendees expected to see latest version of Microsoft Dynamics SL and Dynamics GP (PRWeb February 29, 2016) Read the full story at http://www.prweb.com/releases/2016/03/prweb13238571.htm                                                                                                                                                                                                       \n",
       "1  RAMALLAH, February 25, 2016 (WAFA) - Palestine Liberation Organization’s Sectretary-General Saeb Erekat Thursday expressed his concerns over Kenyan President Uhuru Kenyatta’s visit to Jerusalem and the Jordan Valley.                                                                                                                                                                                  \n",
       "2  A Hancock County man lost a barn early Monday morning that had been in his family more than 100 years.                                                                                                                                                                                                                                                                                                    \n",
       "3  New Delhi, Feb.29 : Technology giant Microsoft has targeted its rival Apple in its new series of ads focusing on Windows 10, gross bugs, and the Windows machines.                                                                                                                                                                                                                                        \n",
       "4  Microsoft may have burned off one bridge, but it is still building a different, and perhaps more critical build. Redmond has officially declared Project Astoria, the bridge that would let Android developers easily port their apps to Windows 10, dead but Project Centennial seems to be very much alive and kicking. In fact, it might have an rather ambitious demo … Continue reading              \n",
       "5  The platform battles are back MWC16 +Analysis Two parallel trends bubbled away at MWC this year – but without getting much attention. When Android and Microsoft converge, it’s going to be the next big platform battle, and one Microsoft can’t afford to lose.…                                                                                                                                        \n",
       "6  Microsoft’s AR headset is being made available to developers, along with three new games – including one based on Conker’s Bad Fur Day.                                                                                                                                                                                                                                                                   \n",
       "7  What is A + B? Welcome to our review of Word for Mac 2016, updated on 29 Feb 2016.                                                                                                                                                                                                                                                                                                                        \n",
       "8  The Microsoft Band 2 hit the market in late 2015 and looked much better to the eye than the original wearable from Microsoft. The biggest downside to that wearable was the price tag for many people, when it originally debuted the Band 2 sold for $249.99. Microsoft is aiming to make its device more appealing to buyers not by adding … Continue reading                                           \n",
       "9  It seems that Microsoft is getting ready to push out a Project Centennial version of the Office 2016 suite on the Windows Store – or at least, a test version is now available, which certainly points to the possibility of this happening before long. Project Centennial focuses on allowing developers to convert their Win32 desktop apps to ones which are compatible with the Windows Store and    \n",
       "\n",
       "              Source      Topic          PublishDate  SentimentTitle  \\\n",
       "0  PRWeb              microsoft  2015-03-01 00:19:00 -0.075378         \n",
       "1  NaN                palestine  2016-02-28 14:03:00  0.000000         \n",
       "2  WTHR Indianapolis  palestine  2015-03-01 01:20:00 -0.173925         \n",
       "3  New Kerala         microsoft  2015-03-01 01:32:00 -0.059536         \n",
       "4  SlashGear          microsoft  2015-03-01 02:14:00  0.000000         \n",
       "5  The Register       microsoft  2015-03-01 02:15:00  0.000000         \n",
       "6  Metro              microsoft  2015-03-01 02:18:00  0.000000         \n",
       "7  Macworld UK        microsoft  2015-03-01 02:54:00 -0.023883         \n",
       "8  SlashGear          microsoft  2015-03-01 03:10:00 -0.070868         \n",
       "9  TechRadar          microsoft  2015-03-01 03:10:00  0.000000         \n",
       "\n",
       "   SentimentHeadline  Facebook  GooglePlus  LinkedIn  \n",
       "0  0.036773          -1        -1          -1         \n",
       "1 -0.005906           0         0           0         \n",
       "2 -0.050185          -1        -1          -1         \n",
       "3 -0.081715          -1        -1          -1         \n",
       "4  0.002550          -1        -1          -1         \n",
       "5  0.052670          -1        -1          -1         \n",
       "6  0.079434          -1        -1          -1         \n",
       "7 -0.032275          -1        -1          -1         \n",
       "8  0.000000          -1        -1          -1         \n",
       "9  0.001367          -1        -1          -1         "
      ]
     },
     "execution_count": 6,
     "metadata": {},
     "output_type": "execute_result"
    }
   ],
   "source": [
    "news_data.head(10)"
   ]
  },
  {
   "cell_type": "code",
   "execution_count": 4,
   "metadata": {},
   "outputs": [
    {
     "data": {
      "text/plain": [
       "microsoft    0.620814\n",
       "palestine    0.379186\n",
       "Name: Topic, dtype: float64"
      ]
     },
     "execution_count": 4,
     "metadata": {},
     "output_type": "execute_result"
    }
   ],
   "source": [
    "news_data.loc[news_data['Facebook'] == 0, 'Topic'].value_counts(normalize = True)"
   ]
  },
  {
   "cell_type": "code",
   "execution_count": 43,
   "metadata": {},
   "outputs": [],
   "source": [
    "#news_data['Topic']"
   ]
  },
  {
   "cell_type": "code",
   "execution_count": 5,
   "metadata": {},
   "outputs": [],
   "source": [
    "microsoft = news_data[news_data['Topic'] == \"microsoft\"]\n",
    "#palestine = news_data[news_data['Topic'] == \"palestine\"]\n",
    "\n",
    "Facebook_Microsoft = pd.read_csv(\"Facebook_Microsoft.csv\")\n",
    "GooglePlus_Microsoft = pd.read_csv(\"GooglePlus_Microsoft.csv\")\n",
    "LinkedIn_Microsoft = pd.read_csv(\"LinkedIn_Microsoft.csv\")\n",
    "TimeStamp = pd.read_csv(\"TimeStamp.csv\")"
   ]
  },
  {
   "cell_type": "code",
   "execution_count": 9,
   "metadata": {},
   "outputs": [
    {
     "data": {
      "text/html": [
       "<div>\n",
       "<style scoped>\n",
       "    .dataframe tbody tr th:only-of-type {\n",
       "        vertical-align: middle;\n",
       "    }\n",
       "\n",
       "    .dataframe tbody tr th {\n",
       "        vertical-align: top;\n",
       "    }\n",
       "\n",
       "    .dataframe thead th {\n",
       "        text-align: right;\n",
       "    }\n",
       "</style>\n",
       "<table border=\"1\" class=\"dataframe\">\n",
       "  <thead>\n",
       "    <tr style=\"text-align: right;\">\n",
       "      <th></th>\n",
       "      <th>TimeStamp</th>\n",
       "      <th>Temp</th>\n",
       "      <th>Day</th>\n",
       "      <th>Hour</th>\n",
       "      <th>Minute</th>\n",
       "      <th>NextHour</th>\n",
       "    </tr>\n",
       "  </thead>\n",
       "  <tbody>\n",
       "    <tr>\n",
       "      <th>0</th>\n",
       "      <td>TS1</td>\n",
       "      <td>0</td>\n",
       "      <td>0</td>\n",
       "      <td>0</td>\n",
       "      <td>0</td>\n",
       "      <td>0</td>\n",
       "    </tr>\n",
       "    <tr>\n",
       "      <th>1</th>\n",
       "      <td>TS2</td>\n",
       "      <td>20</td>\n",
       "      <td>0</td>\n",
       "      <td>0</td>\n",
       "      <td>20</td>\n",
       "      <td>0</td>\n",
       "    </tr>\n",
       "    <tr>\n",
       "      <th>2</th>\n",
       "      <td>TS3</td>\n",
       "      <td>40</td>\n",
       "      <td>0</td>\n",
       "      <td>0</td>\n",
       "      <td>40</td>\n",
       "      <td>0</td>\n",
       "    </tr>\n",
       "    <tr>\n",
       "      <th>3</th>\n",
       "      <td>TS4</td>\n",
       "      <td>60</td>\n",
       "      <td>0</td>\n",
       "      <td>1</td>\n",
       "      <td>0</td>\n",
       "      <td>1</td>\n",
       "    </tr>\n",
       "    <tr>\n",
       "      <th>4</th>\n",
       "      <td>TS5</td>\n",
       "      <td>80</td>\n",
       "      <td>0</td>\n",
       "      <td>1</td>\n",
       "      <td>20</td>\n",
       "      <td>1</td>\n",
       "    </tr>\n",
       "  </tbody>\n",
       "</table>\n",
       "</div>"
      ],
      "text/plain": [
       "  TimeStamp  Temp  Day  Hour  Minute  NextHour\n",
       "0  TS1       0     0    0     0       0       \n",
       "1  TS2       20    0    0     20      0       \n",
       "2  TS3       40    0    0     40      0       \n",
       "3  TS4       60    0    1     0       1       \n",
       "4  TS5       80    0    1     20      1       "
      ]
     },
     "execution_count": 9,
     "metadata": {},
     "output_type": "execute_result"
    }
   ],
   "source": [
    "TimeStamp.head()"
   ]
  },
  {
   "cell_type": "code",
   "execution_count": 6,
   "metadata": {},
   "outputs": [
    {
     "data": {
      "text/plain": [
       "IDLink               0\n",
       "Title                0\n",
       "Headline             1\n",
       "Source               6\n",
       "Topic                0\n",
       "PublishDate          0\n",
       "SentimentTitle       0\n",
       "SentimentHeadline    0\n",
       "Facebook             0\n",
       "GooglePlus           0\n",
       "LinkedIn             0\n",
       "dtype: int64"
      ]
     },
     "execution_count": 6,
     "metadata": {},
     "output_type": "execute_result"
    }
   ],
   "source": [
    "microsoft.isnull().sum()"
   ]
  },
  {
   "cell_type": "markdown",
   "metadata": {},
   "source": [
    "#### Merge dataframes"
   ]
  },
  {
   "cell_type": "code",
   "execution_count": 70,
   "metadata": {},
   "outputs": [],
   "source": [
    "Facebook_Microsoft_M = Facebook_Microsoft.merge(microsoft, on=\"IDLink\", how=\"left\")\n",
    "Facebook_Microsoft_M = Facebook_Microsoft_M.melt(id_vars=microsoft.columns)\n",
    "Facebook_Microsoft_M.rename(columns={'variable' : 'TimeStamp', 'value' : 'Popularity'}, inplace=True)\n",
    "Facebook_Microsoft_M = Facebook_Microsoft_M.merge(TimeStamp, on=\"TimeStamp\", how=\"left\")\n",
    "Facebook_Microsoft_M['PublishDate'] = pd.to_datetime(Facebook_Microsoft_M['PublishDate'],format='%Y-%m-%d %H:%M:%S')"
   ]
  },
  {
   "cell_type": "code",
   "execution_count": 71,
   "metadata": {},
   "outputs": [],
   "source": [
    "Facebook_Microsoft_M['NewDay'] = Facebook_Microsoft_M['PublishDate'].dt.day + Facebook_Microsoft_M['Day']"
   ]
  },
  {
   "cell_type": "code",
   "execution_count": 49,
   "metadata": {},
   "outputs": [],
   "source": [
    "# TimeString = (Facebook_Microsoft_M['PublishDate'].dt.date +  pd.to_timedelta(1, unit=\"D\")).map(str) + \" \" + Facebook_Microsoft_M['Hour'].map(\"{:02}\".format).map(str) + \":\" +  Facebook_Microsoft_M['Minute'].map(\"{:02}\".format).map(str)\n",
    "# Facebook_Microsoft_M['Derived_DateTime'] = pd.to_datetime(TimeString, format=\"%Y-%m-%d %H:%M\")"
   ]
  },
  {
   "cell_type": "code",
   "execution_count": 72,
   "metadata": {},
   "outputs": [],
   "source": [
    "TimeString = Facebook_Microsoft_M['Hour'].map(\"{:02}\".format).map(str) + \":\" +  Facebook_Microsoft_M['Minute'].map(\"{:02}\".format).map(str)\n",
    "Facebook_Microsoft_M['Derived_DateTime'] = pd.to_datetime(TimeString, format=\"%H:%M\")"
   ]
  },
  {
   "cell_type": "code",
   "execution_count": 14,
   "metadata": {},
   "outputs": [
    {
     "data": {
      "text/html": [
       "<div>\n",
       "<style scoped>\n",
       "    .dataframe tbody tr th:only-of-type {\n",
       "        vertical-align: middle;\n",
       "    }\n",
       "\n",
       "    .dataframe tbody tr th {\n",
       "        vertical-align: top;\n",
       "    }\n",
       "\n",
       "    .dataframe thead th {\n",
       "        text-align: right;\n",
       "    }\n",
       "</style>\n",
       "<table border=\"1\" class=\"dataframe\">\n",
       "  <thead>\n",
       "    <tr style=\"text-align: right;\">\n",
       "      <th></th>\n",
       "      <th>PublishDate</th>\n",
       "      <th>Derived_DateTime</th>\n",
       "    </tr>\n",
       "  </thead>\n",
       "  <tbody>\n",
       "    <tr>\n",
       "      <th>0</th>\n",
       "      <td>2015-11-09 23:40:16</td>\n",
       "      <td>1900-01-01 00:00:00</td>\n",
       "    </tr>\n",
       "    <tr>\n",
       "      <th>1</th>\n",
       "      <td>2015-11-09 18:40:16</td>\n",
       "      <td>1900-01-01 00:00:00</td>\n",
       "    </tr>\n",
       "    <tr>\n",
       "      <th>2</th>\n",
       "      <td>2015-11-09 14:40:16</td>\n",
       "      <td>1900-01-01 00:00:00</td>\n",
       "    </tr>\n",
       "    <tr>\n",
       "      <th>3</th>\n",
       "      <td>2015-11-09 14:40:16</td>\n",
       "      <td>1900-01-01 00:00:00</td>\n",
       "    </tr>\n",
       "    <tr>\n",
       "      <th>4</th>\n",
       "      <td>2015-11-09 14:40:16</td>\n",
       "      <td>1900-01-01 00:00:00</td>\n",
       "    </tr>\n",
       "    <tr>\n",
       "      <th>5</th>\n",
       "      <td>2015-11-09 17:40:16</td>\n",
       "      <td>1900-01-01 00:00:00</td>\n",
       "    </tr>\n",
       "    <tr>\n",
       "      <th>6</th>\n",
       "      <td>2015-11-09 23:40:16</td>\n",
       "      <td>1900-01-01 00:00:00</td>\n",
       "    </tr>\n",
       "    <tr>\n",
       "      <th>7</th>\n",
       "      <td>2015-11-09 17:40:16</td>\n",
       "      <td>1900-01-01 00:00:00</td>\n",
       "    </tr>\n",
       "    <tr>\n",
       "      <th>8</th>\n",
       "      <td>2015-11-09 18:40:16</td>\n",
       "      <td>1900-01-01 00:00:00</td>\n",
       "    </tr>\n",
       "    <tr>\n",
       "      <th>9</th>\n",
       "      <td>2015-11-09 19:40:16</td>\n",
       "      <td>1900-01-01 00:00:00</td>\n",
       "    </tr>\n",
       "    <tr>\n",
       "      <th>10</th>\n",
       "      <td>2015-11-09 22:40:16</td>\n",
       "      <td>1900-01-01 00:00:00</td>\n",
       "    </tr>\n",
       "    <tr>\n",
       "      <th>11</th>\n",
       "      <td>2015-11-09 13:40:16</td>\n",
       "      <td>1900-01-01 00:00:00</td>\n",
       "    </tr>\n",
       "    <tr>\n",
       "      <th>12</th>\n",
       "      <td>2015-11-09 15:40:16</td>\n",
       "      <td>1900-01-01 00:00:00</td>\n",
       "    </tr>\n",
       "    <tr>\n",
       "      <th>13</th>\n",
       "      <td>2015-11-09 17:40:16</td>\n",
       "      <td>1900-01-01 00:00:00</td>\n",
       "    </tr>\n",
       "    <tr>\n",
       "      <th>14</th>\n",
       "      <td>2015-11-09 22:40:16</td>\n",
       "      <td>1900-01-01 00:00:00</td>\n",
       "    </tr>\n",
       "    <tr>\n",
       "      <th>15</th>\n",
       "      <td>2015-11-09 00:00:00</td>\n",
       "      <td>1900-01-01 00:00:00</td>\n",
       "    </tr>\n",
       "    <tr>\n",
       "      <th>16</th>\n",
       "      <td>2015-11-09 22:40:16</td>\n",
       "      <td>1900-01-01 00:00:00</td>\n",
       "    </tr>\n",
       "    <tr>\n",
       "      <th>17</th>\n",
       "      <td>2015-11-09 16:40:16</td>\n",
       "      <td>1900-01-01 00:00:00</td>\n",
       "    </tr>\n",
       "    <tr>\n",
       "      <th>18</th>\n",
       "      <td>2015-11-09 00:00:00</td>\n",
       "      <td>1900-01-01 00:00:00</td>\n",
       "    </tr>\n",
       "    <tr>\n",
       "      <th>19</th>\n",
       "      <td>2015-11-09 11:40:16</td>\n",
       "      <td>1900-01-01 00:00:00</td>\n",
       "    </tr>\n",
       "    <tr>\n",
       "      <th>20</th>\n",
       "      <td>2015-11-08 00:00:00</td>\n",
       "      <td>1900-01-01 00:00:00</td>\n",
       "    </tr>\n",
       "    <tr>\n",
       "      <th>21</th>\n",
       "      <td>2015-11-09 11:40:17</td>\n",
       "      <td>1900-01-01 00:00:00</td>\n",
       "    </tr>\n",
       "    <tr>\n",
       "      <th>22</th>\n",
       "      <td>2015-11-09 18:40:17</td>\n",
       "      <td>1900-01-01 00:00:00</td>\n",
       "    </tr>\n",
       "    <tr>\n",
       "      <th>23</th>\n",
       "      <td>2015-11-09 05:40:17</td>\n",
       "      <td>1900-01-01 00:00:00</td>\n",
       "    </tr>\n",
       "    <tr>\n",
       "      <th>24</th>\n",
       "      <td>2015-11-09 00:00:00</td>\n",
       "      <td>1900-01-01 00:00:00</td>\n",
       "    </tr>\n",
       "    <tr>\n",
       "      <th>25</th>\n",
       "      <td>2015-11-09 17:40:17</td>\n",
       "      <td>1900-01-01 00:00:00</td>\n",
       "    </tr>\n",
       "    <tr>\n",
       "      <th>26</th>\n",
       "      <td>2015-11-09 00:00:00</td>\n",
       "      <td>1900-01-01 00:00:00</td>\n",
       "    </tr>\n",
       "    <tr>\n",
       "      <th>27</th>\n",
       "      <td>2015-11-09 04:40:17</td>\n",
       "      <td>1900-01-01 00:00:00</td>\n",
       "    </tr>\n",
       "    <tr>\n",
       "      <th>28</th>\n",
       "      <td>2015-11-09 16:40:17</td>\n",
       "      <td>1900-01-01 00:00:00</td>\n",
       "    </tr>\n",
       "    <tr>\n",
       "      <th>29</th>\n",
       "      <td>2015-11-09 22:40:17</td>\n",
       "      <td>1900-01-01 00:00:00</td>\n",
       "    </tr>\n",
       "    <tr>\n",
       "      <th>...</th>\n",
       "      <td>...</td>\n",
       "      <td>...</td>\n",
       "    </tr>\n",
       "    <tr>\n",
       "      <th>2668434</th>\n",
       "      <td>2016-06-20 15:40:14</td>\n",
       "      <td>1900-01-01 23:40:00</td>\n",
       "    </tr>\n",
       "    <tr>\n",
       "      <th>2668435</th>\n",
       "      <td>2016-06-20 08:31:00</td>\n",
       "      <td>1900-01-01 23:40:00</td>\n",
       "    </tr>\n",
       "    <tr>\n",
       "      <th>2668436</th>\n",
       "      <td>2016-06-20 17:15:14</td>\n",
       "      <td>1900-01-01 23:40:00</td>\n",
       "    </tr>\n",
       "    <tr>\n",
       "      <th>2668437</th>\n",
       "      <td>2016-06-20 18:00:14</td>\n",
       "      <td>1900-01-01 23:40:00</td>\n",
       "    </tr>\n",
       "    <tr>\n",
       "      <th>2668438</th>\n",
       "      <td>2016-06-20 18:20:13</td>\n",
       "      <td>1900-01-01 23:40:00</td>\n",
       "    </tr>\n",
       "    <tr>\n",
       "      <th>2668439</th>\n",
       "      <td>2016-06-20 19:04:17</td>\n",
       "      <td>1900-01-01 23:40:00</td>\n",
       "    </tr>\n",
       "    <tr>\n",
       "      <th>2668440</th>\n",
       "      <td>2016-06-20 10:00:12</td>\n",
       "      <td>1900-01-01 23:40:00</td>\n",
       "    </tr>\n",
       "    <tr>\n",
       "      <th>2668441</th>\n",
       "      <td>2016-06-20 18:40:15</td>\n",
       "      <td>1900-01-01 23:40:00</td>\n",
       "    </tr>\n",
       "    <tr>\n",
       "      <th>2668442</th>\n",
       "      <td>2016-06-20 17:20:12</td>\n",
       "      <td>1900-01-01 23:40:00</td>\n",
       "    </tr>\n",
       "    <tr>\n",
       "      <th>2668443</th>\n",
       "      <td>2016-06-20 11:22:00</td>\n",
       "      <td>1900-01-01 23:40:00</td>\n",
       "    </tr>\n",
       "    <tr>\n",
       "      <th>2668444</th>\n",
       "      <td>2016-06-20 15:20:11</td>\n",
       "      <td>1900-01-01 23:40:00</td>\n",
       "    </tr>\n",
       "    <tr>\n",
       "      <th>2668445</th>\n",
       "      <td>2016-06-20 12:07:00</td>\n",
       "      <td>1900-01-01 23:40:00</td>\n",
       "    </tr>\n",
       "    <tr>\n",
       "      <th>2668446</th>\n",
       "      <td>2016-06-20 17:55:17</td>\n",
       "      <td>1900-01-01 23:40:00</td>\n",
       "    </tr>\n",
       "    <tr>\n",
       "      <th>2668447</th>\n",
       "      <td>2016-06-20 16:00:15</td>\n",
       "      <td>1900-01-01 23:40:00</td>\n",
       "    </tr>\n",
       "    <tr>\n",
       "      <th>2668448</th>\n",
       "      <td>2016-06-20 20:17:12</td>\n",
       "      <td>1900-01-01 23:40:00</td>\n",
       "    </tr>\n",
       "    <tr>\n",
       "      <th>2668449</th>\n",
       "      <td>2016-06-20 17:00:16</td>\n",
       "      <td>1900-01-01 23:40:00</td>\n",
       "    </tr>\n",
       "    <tr>\n",
       "      <th>2668450</th>\n",
       "      <td>2016-06-20 18:00:15</td>\n",
       "      <td>1900-01-01 23:40:00</td>\n",
       "    </tr>\n",
       "    <tr>\n",
       "      <th>2668451</th>\n",
       "      <td>2016-06-20 11:00:00</td>\n",
       "      <td>1900-01-01 23:40:00</td>\n",
       "    </tr>\n",
       "    <tr>\n",
       "      <th>2668452</th>\n",
       "      <td>2016-06-20 12:20:00</td>\n",
       "      <td>1900-01-01 23:40:00</td>\n",
       "    </tr>\n",
       "    <tr>\n",
       "      <th>2668453</th>\n",
       "      <td>2016-06-20 18:40:17</td>\n",
       "      <td>1900-01-01 23:40:00</td>\n",
       "    </tr>\n",
       "    <tr>\n",
       "      <th>2668454</th>\n",
       "      <td>2016-06-20 11:00:00</td>\n",
       "      <td>1900-01-01 23:40:00</td>\n",
       "    </tr>\n",
       "    <tr>\n",
       "      <th>2668455</th>\n",
       "      <td>2016-06-20 20:31:15</td>\n",
       "      <td>1900-01-01 23:40:00</td>\n",
       "    </tr>\n",
       "    <tr>\n",
       "      <th>2668456</th>\n",
       "      <td>2016-06-20 20:40:12</td>\n",
       "      <td>1900-01-01 23:40:00</td>\n",
       "    </tr>\n",
       "    <tr>\n",
       "      <th>2668457</th>\n",
       "      <td>2016-06-20 16:40:12</td>\n",
       "      <td>1900-01-01 23:40:00</td>\n",
       "    </tr>\n",
       "    <tr>\n",
       "      <th>2668458</th>\n",
       "      <td>2016-06-22 14:20:11</td>\n",
       "      <td>1900-01-01 23:40:00</td>\n",
       "    </tr>\n",
       "    <tr>\n",
       "      <th>2668459</th>\n",
       "      <td>2016-06-22 15:23:12</td>\n",
       "      <td>1900-01-01 23:40:00</td>\n",
       "    </tr>\n",
       "    <tr>\n",
       "      <th>2668460</th>\n",
       "      <td>2016-06-22 14:40:13</td>\n",
       "      <td>1900-01-01 23:40:00</td>\n",
       "    </tr>\n",
       "    <tr>\n",
       "      <th>2668461</th>\n",
       "      <td>2016-06-22 15:40:12</td>\n",
       "      <td>1900-01-01 23:40:00</td>\n",
       "    </tr>\n",
       "    <tr>\n",
       "      <th>2668462</th>\n",
       "      <td>2016-06-22 07:52:00</td>\n",
       "      <td>1900-01-01 23:40:00</td>\n",
       "    </tr>\n",
       "    <tr>\n",
       "      <th>2668463</th>\n",
       "      <td>2016-06-22 07:48:00</td>\n",
       "      <td>1900-01-01 23:40:00</td>\n",
       "    </tr>\n",
       "  </tbody>\n",
       "</table>\n",
       "<p>2668464 rows × 2 columns</p>\n",
       "</div>"
      ],
      "text/plain": [
       "                PublishDate    Derived_DateTime\n",
       "0       2015-11-09 23:40:16 1900-01-01 00:00:00\n",
       "1       2015-11-09 18:40:16 1900-01-01 00:00:00\n",
       "2       2015-11-09 14:40:16 1900-01-01 00:00:00\n",
       "3       2015-11-09 14:40:16 1900-01-01 00:00:00\n",
       "4       2015-11-09 14:40:16 1900-01-01 00:00:00\n",
       "5       2015-11-09 17:40:16 1900-01-01 00:00:00\n",
       "6       2015-11-09 23:40:16 1900-01-01 00:00:00\n",
       "7       2015-11-09 17:40:16 1900-01-01 00:00:00\n",
       "8       2015-11-09 18:40:16 1900-01-01 00:00:00\n",
       "9       2015-11-09 19:40:16 1900-01-01 00:00:00\n",
       "10      2015-11-09 22:40:16 1900-01-01 00:00:00\n",
       "11      2015-11-09 13:40:16 1900-01-01 00:00:00\n",
       "12      2015-11-09 15:40:16 1900-01-01 00:00:00\n",
       "13      2015-11-09 17:40:16 1900-01-01 00:00:00\n",
       "14      2015-11-09 22:40:16 1900-01-01 00:00:00\n",
       "15      2015-11-09 00:00:00 1900-01-01 00:00:00\n",
       "16      2015-11-09 22:40:16 1900-01-01 00:00:00\n",
       "17      2015-11-09 16:40:16 1900-01-01 00:00:00\n",
       "18      2015-11-09 00:00:00 1900-01-01 00:00:00\n",
       "19      2015-11-09 11:40:16 1900-01-01 00:00:00\n",
       "20      2015-11-08 00:00:00 1900-01-01 00:00:00\n",
       "21      2015-11-09 11:40:17 1900-01-01 00:00:00\n",
       "22      2015-11-09 18:40:17 1900-01-01 00:00:00\n",
       "23      2015-11-09 05:40:17 1900-01-01 00:00:00\n",
       "24      2015-11-09 00:00:00 1900-01-01 00:00:00\n",
       "25      2015-11-09 17:40:17 1900-01-01 00:00:00\n",
       "26      2015-11-09 00:00:00 1900-01-01 00:00:00\n",
       "27      2015-11-09 04:40:17 1900-01-01 00:00:00\n",
       "28      2015-11-09 16:40:17 1900-01-01 00:00:00\n",
       "29      2015-11-09 22:40:17 1900-01-01 00:00:00\n",
       "...                     ...                 ...\n",
       "2668434 2016-06-20 15:40:14 1900-01-01 23:40:00\n",
       "2668435 2016-06-20 08:31:00 1900-01-01 23:40:00\n",
       "2668436 2016-06-20 17:15:14 1900-01-01 23:40:00\n",
       "2668437 2016-06-20 18:00:14 1900-01-01 23:40:00\n",
       "2668438 2016-06-20 18:20:13 1900-01-01 23:40:00\n",
       "2668439 2016-06-20 19:04:17 1900-01-01 23:40:00\n",
       "2668440 2016-06-20 10:00:12 1900-01-01 23:40:00\n",
       "2668441 2016-06-20 18:40:15 1900-01-01 23:40:00\n",
       "2668442 2016-06-20 17:20:12 1900-01-01 23:40:00\n",
       "2668443 2016-06-20 11:22:00 1900-01-01 23:40:00\n",
       "2668444 2016-06-20 15:20:11 1900-01-01 23:40:00\n",
       "2668445 2016-06-20 12:07:00 1900-01-01 23:40:00\n",
       "2668446 2016-06-20 17:55:17 1900-01-01 23:40:00\n",
       "2668447 2016-06-20 16:00:15 1900-01-01 23:40:00\n",
       "2668448 2016-06-20 20:17:12 1900-01-01 23:40:00\n",
       "2668449 2016-06-20 17:00:16 1900-01-01 23:40:00\n",
       "2668450 2016-06-20 18:00:15 1900-01-01 23:40:00\n",
       "2668451 2016-06-20 11:00:00 1900-01-01 23:40:00\n",
       "2668452 2016-06-20 12:20:00 1900-01-01 23:40:00\n",
       "2668453 2016-06-20 18:40:17 1900-01-01 23:40:00\n",
       "2668454 2016-06-20 11:00:00 1900-01-01 23:40:00\n",
       "2668455 2016-06-20 20:31:15 1900-01-01 23:40:00\n",
       "2668456 2016-06-20 20:40:12 1900-01-01 23:40:00\n",
       "2668457 2016-06-20 16:40:12 1900-01-01 23:40:00\n",
       "2668458 2016-06-22 14:20:11 1900-01-01 23:40:00\n",
       "2668459 2016-06-22 15:23:12 1900-01-01 23:40:00\n",
       "2668460 2016-06-22 14:40:13 1900-01-01 23:40:00\n",
       "2668461 2016-06-22 15:40:12 1900-01-01 23:40:00\n",
       "2668462 2016-06-22 07:52:00 1900-01-01 23:40:00\n",
       "2668463 2016-06-22 07:48:00 1900-01-01 23:40:00\n",
       "\n",
       "[2668464 rows x 2 columns]"
      ]
     },
     "execution_count": 14,
     "metadata": {},
     "output_type": "execute_result"
    }
   ],
   "source": [
    "Facebook_Microsoft_M[['PublishDate', 'Derived_DateTime']]"
   ]
  },
  {
   "cell_type": "code",
   "execution_count": 15,
   "metadata": {},
   "outputs": [
    {
     "name": "stdout",
     "output_type": "stream",
     "text": [
      "<class 'pandas.core.frame.DataFrame'>\n",
      "Int64Index: 2668464 entries, 0 to 2668463\n",
      "Data columns (total 20 columns):\n",
      "IDLink               int64\n",
      "Title                object\n",
      "Headline             object\n",
      "Source               object\n",
      "Topic                object\n",
      "PublishDate          datetime64[ns]\n",
      "SentimentTitle       float64\n",
      "SentimentHeadline    float64\n",
      "Facebook             int64\n",
      "GooglePlus           int64\n",
      "LinkedIn             int64\n",
      "TimeStamp            object\n",
      "Popularity           int64\n",
      "Temp                 int64\n",
      "Day                  int64\n",
      "Hour                 int64\n",
      "Minute               int64\n",
      "NextHour             int64\n",
      "NewDay               int64\n",
      "Derived_DateTime     datetime64[ns]\n",
      "dtypes: datetime64[ns](2), float64(2), int64(11), object(5)\n",
      "memory usage: 427.5+ MB\n"
     ]
    }
   ],
   "source": [
    "Facebook_Microsoft_M.info()"
   ]
  },
  {
   "cell_type": "code",
   "execution_count": 16,
   "metadata": {},
   "outputs": [],
   "source": [
    "#Facebook_Microsoft_M['Derived_DateTime'] = Facebook_Microsoft_M['Derived_DateTime'] + \" \"  + Facebook_Microsoft_M['TS']\n",
    "Facebook_Microsoft_M['PublishedHour'] = Facebook_Microsoft_M['PublishDate'].dt.hour\n",
    "Facebook_Microsoft_M['PublishedMinute'] = Facebook_Microsoft_M['PublishDate'].dt.minute"
   ]
  },
  {
   "cell_type": "code",
   "execution_count": 26,
   "metadata": {},
   "outputs": [],
   "source": [
    "import seaborn as sns\n",
    "import matplotlib.pyplot as plt"
   ]
  },
  {
   "cell_type": "code",
   "execution_count": 79,
   "metadata": {},
   "outputs": [
    {
     "name": "stderr",
     "output_type": "stream",
     "text": [
      "C:\\Users\\lenovo\\Anaconda3\\lib\\site-packages\\scipy\\stats\\stats.py:1713: FutureWarning: Using a non-tuple sequence for multidimensional indexing is deprecated; use `arr[tuple(seq)]` instead of `arr[seq]`. In the future this will be interpreted as an array index, `arr[np.array(seq)]`, which will result either in an error or a different result.\n",
      "  return np.add.reduce(sorted[indexer] * weights, axis=axis) / sumval\n"
     ]
    },
    {
     "data": {
      "image/png": "[encoded data removed]",
      "text/plain": [
       "<Figure size 1152x432 with 1 Axes>"
      ]
     },
     "metadata": {
      "needs_background": "light"
     },
     "output_type": "display_data"
    }
   ],
   "source": [
    "plt.figure(figsize=(16, 6))\n",
    "df = Facebook_Microsoft_M[Facebook_Microsoft_M['IDLink'] == 328]\n",
    "ax = sns.lineplot(x='NextHour', \n",
    "                  y ='Popularity', \n",
    "                  data=df)"
   ]
  },
  {
   "cell_type": "code",
   "execution_count": 19,
   "metadata": {},
   "outputs": [],
   "source": [
    "Facebook_Microsoft_M.to_csv(\"Facebook_Microsoft_updated.csv\", index=False)"
   ]
  },
  {
   "cell_type": "code",
   "execution_count": 57,
   "metadata": {},
   "outputs": [
    {
     "data": {
      "text/html": [
       "<div>\n",
       "<style scoped>\n",
       "    .dataframe tbody tr th:only-of-type {\n",
       "        vertical-align: middle;\n",
       "    }\n",
       "\n",
       "    .dataframe tbody tr th {\n",
       "        vertical-align: top;\n",
       "    }\n",
       "\n",
       "    .dataframe thead th {\n",
       "        text-align: right;\n",
       "    }\n",
       "</style>\n",
       "<table border=\"1\" class=\"dataframe\">\n",
       "  <thead>\n",
       "    <tr style=\"text-align: right;\">\n",
       "      <th></th>\n",
       "      <th>IDLink</th>\n",
       "      <th>Title</th>\n",
       "      <th>Headline</th>\n",
       "      <th>Source</th>\n",
       "      <th>Topic</th>\n",
       "      <th>PublishDate</th>\n",
       "      <th>SentimentTitle</th>\n",
       "      <th>SentimentHeadline</th>\n",
       "      <th>Facebook</th>\n",
       "      <th>GooglePlus</th>\n",
       "      <th>LinkedIn</th>\n",
       "    </tr>\n",
       "  </thead>\n",
       "  <tbody>\n",
       "    <tr>\n",
       "      <th>0</th>\n",
       "      <td>27790.0</td>\n",
       "      <td>Intellitec Solutions to Host 13th Annual Sprin...</td>\n",
       "      <td>Over 100 attendees expected to see latest vers...</td>\n",
       "      <td>PRWeb</td>\n",
       "      <td>microsoft</td>\n",
       "      <td>2015-03-01 00:19:00</td>\n",
       "      <td>-0.075378</td>\n",
       "      <td>0.036773</td>\n",
       "      <td>-1</td>\n",
       "      <td>-1</td>\n",
       "      <td>-1</td>\n",
       "    </tr>\n",
       "    <tr>\n",
       "      <th>3</th>\n",
       "      <td>27803.0</td>\n",
       "      <td>Microsoft's new Windows 10 ad targets Apple</td>\n",
       "      <td>New Delhi, Feb.29 : Technology giant Microsoft...</td>\n",
       "      <td>New Kerala</td>\n",
       "      <td>microsoft</td>\n",
       "      <td>2015-03-01 01:32:00</td>\n",
       "      <td>-0.059536</td>\n",
       "      <td>-0.081715</td>\n",
       "      <td>-1</td>\n",
       "      <td>-1</td>\n",
       "      <td>-1</td>\n",
       "    </tr>\n",
       "    <tr>\n",
       "      <th>4</th>\n",
       "      <td>27813.0</td>\n",
       "      <td>Microsoft Project Centennial seen with “univer...</td>\n",
       "      <td>Microsoft may have burned off one bridge, but ...</td>\n",
       "      <td>SlashGear</td>\n",
       "      <td>microsoft</td>\n",
       "      <td>2015-03-01 02:14:00</td>\n",
       "      <td>0.000000</td>\n",
       "      <td>0.002550</td>\n",
       "      <td>-1</td>\n",
       "      <td>-1</td>\n",
       "      <td>-1</td>\n",
       "    </tr>\n",
       "    <tr>\n",
       "      <th>5</th>\n",
       "      <td>27812.0</td>\n",
       "      <td>Microsoft sneaks onto Android while Android sn...</td>\n",
       "      <td>The platform battles are back MWC16 +Analysis ...</td>\n",
       "      <td>The Register</td>\n",
       "      <td>microsoft</td>\n",
       "      <td>2015-03-01 02:15:00</td>\n",
       "      <td>0.000000</td>\n",
       "      <td>0.052670</td>\n",
       "      <td>-1</td>\n",
       "      <td>-1</td>\n",
       "      <td>-1</td>\n",
       "    </tr>\n",
       "    <tr>\n",
       "      <th>6</th>\n",
       "      <td>27814.0</td>\n",
       "      <td>HoloLens dev edition costs £2,000 with new Con...</td>\n",
       "      <td>Microsoft’s AR headset is being made available...</td>\n",
       "      <td>Metro</td>\n",
       "      <td>microsoft</td>\n",
       "      <td>2015-03-01 02:18:00</td>\n",
       "      <td>0.000000</td>\n",
       "      <td>0.079434</td>\n",
       "      <td>-1</td>\n",
       "      <td>-1</td>\n",
       "      <td>-1</td>\n",
       "    </tr>\n",
       "  </tbody>\n",
       "</table>\n",
       "</div>"
      ],
      "text/plain": [
       "    IDLink                                              Title  \\\n",
       "0  27790.0  Intellitec Solutions to Host 13th Annual Sprin...   \n",
       "3  27803.0        Microsoft's new Windows 10 ad targets Apple   \n",
       "4  27813.0  Microsoft Project Centennial seen with “univer...   \n",
       "5  27812.0  Microsoft sneaks onto Android while Android sn...   \n",
       "6  27814.0  HoloLens dev edition costs £2,000 with new Con...   \n",
       "\n",
       "                                            Headline        Source      Topic  \\\n",
       "0  Over 100 attendees expected to see latest vers...         PRWeb  microsoft   \n",
       "3  New Delhi, Feb.29 : Technology giant Microsoft...    New Kerala  microsoft   \n",
       "4  Microsoft may have burned off one bridge, but ...     SlashGear  microsoft   \n",
       "5  The platform battles are back MWC16 +Analysis ...  The Register  microsoft   \n",
       "6  Microsoft’s AR headset is being made available...         Metro  microsoft   \n",
       "\n",
       "           PublishDate  SentimentTitle  SentimentHeadline  Facebook  \\\n",
       "0  2015-03-01 00:19:00       -0.075378           0.036773        -1   \n",
       "3  2015-03-01 01:32:00       -0.059536          -0.081715        -1   \n",
       "4  2015-03-01 02:14:00        0.000000           0.002550        -1   \n",
       "5  2015-03-01 02:15:00        0.000000           0.052670        -1   \n",
       "6  2015-03-01 02:18:00        0.000000           0.079434        -1   \n",
       "\n",
       "   GooglePlus  LinkedIn  \n",
       "0          -1        -1  \n",
       "3          -1        -1  \n",
       "4          -1        -1  \n",
       "5          -1        -1  \n",
       "6          -1        -1  "
      ]
     },
     "execution_count": 57,
     "metadata": {},
     "output_type": "execute_result"
    }
   ],
   "source": [
    "microsoft.head()"
   ]
  },
  {
   "cell_type": "code",
   "execution_count": 62,
   "metadata": {},
   "outputs": [],
   "source": []
  },
  {
   "cell_type": "code",
   "execution_count": 63,
   "metadata": {},
   "outputs": [
    {
     "name": "stdout",
     "output_type": "stream",
     "text": [
      "12440    Microsoft might not make their digital assistant, Cortana, say that you have no friends over a silly question, but it will definitely not take your crap\n",
      "Name: Headline, dtype: object\n"
     ]
    }
   ],
   "source": [
    "print(microsoft.loc[microsoft['IDLink'] == 23208,'Headline'])"
   ]
  },
  {
   "cell_type": "markdown",
   "metadata": {},
   "source": [
    "#### Assignment"
   ]
  },
  {
   "cell_type": "code",
   "execution_count": 36,
   "metadata": {},
   "outputs": [
    {
     "data": {
      "text/plain": [
       "Source\n",
       "WinBeta                                         643\n",
       "ZDNet                                           429\n",
       "MSPoweruser.com                                 382\n",
       "Business Insider                                347\n",
       "The Register                                    284\n",
       "PC World                                        269\n",
       "Neowin                                          254\n",
       "Forbes                                          248\n",
       "Windows Central                                 235\n",
       "The Verge                                       231\n",
       "Softpedia News                                  195\n",
       "VentureBeat                                     189\n",
       "BetaNews                                        181\n",
       "Computerworld                                   158\n",
       "Business Insider via Yahoo! Finance             156\n",
       "CNET                                            148\n",
       "InfoWorld                                       147\n",
       "GeekWire                                        135\n",
       "Motley Fool                                     132\n",
       "eWeek                                           131\n",
       "TechCrunch                                      124\n",
       "PCWorld                                         112\n",
       "Fortune                                         109\n",
       "The Next Web                                    100\n",
       "Times of India                                   99\n",
       "InformationWeek                                  96\n",
       "MIS Asia                                         95\n",
       "Tech Times                                       93\n",
       "Digital Trends                                   90\n",
       "SuperSite for Windows                            89\n",
       "                                               ... \n",
       "Morningstar.com                                   1\n",
       "New York Times (blog)                             1\n",
       "Newham Recorder                                   1\n",
       "Ottawa Citizen                                    1\n",
       "NotebookReview.com                                1\n",
       "Osun Defender                                     1\n",
       "Oregon Daily Emerald                              1\n",
       "Onrec                                             1\n",
       "Only Single Player                                1\n",
       "On Cars India                                     1\n",
       "Olive Press                                       1\n",
       "Obstacle Racing Media (press release) (blog)      1\n",
       "OSNews                                            1\n",
       "OCRegister                                        1\n",
       "NowGamer                                          1\n",
       "Nottingham Post                                   1\n",
       "Notebook Review                                   1\n",
       "News 24 South Africa                              1\n",
       "Northwest Georgia News                            1\n",
       "Northwest Arkansas News                           1\n",
       "Norman Transcript                                 1\n",
       "Noozhawk                                          1\n",
       "Niche Gamer                                       1\n",
       "Newsy                                             1\n",
       "Newscenter1.tv                                    1\n",
       "NewsChannel5.com                                  1\n",
       "News24                                            1\n",
       "News1130                                          1\n",
       "News-Medical.net                                  1\n",
       "12 News Phoenix                                   1\n",
       "Name: Facebook, Length: 1404, dtype: int64"
      ]
     },
     "execution_count": 36,
     "metadata": {},
     "output_type": "execute_result"
    }
   ],
   "source": [
    "microsoft[(microsoft['Facebook'] > 0) & (microsoft['Facebook']< 13000)].groupby('Source').count()['Facebook'].sort_values(ascending = False)"
   ]
  },
  {
   "cell_type": "markdown",
   "metadata": {},
   "source": [
    "# Google Plus - Microsoft"
   ]
  },
  {
   "cell_type": "code",
   "execution_count": 8,
   "metadata": {},
   "outputs": [],
   "source": [
    "GooglePlus_Microsoft_M = GooglePlus_Microsoft.merge(microsoft, on=\"IDLink\", how=\"left\")\n",
    "GooglePlus_Microsoft_M = GooglePlus_Microsoft_M.melt(id_vars=microsoft.columns)\n",
    "GooglePlus_Microsoft_M.rename(columns={'variable' : 'TimeStamp', 'value' : 'Popularity'}, inplace=True)\n",
    "GooglePlus_Microsoft_M = GooglePlus_Microsoft_M.merge(TimeStamp, on=\"TimeStamp\", how=\"left\")\n",
    "GooglePlus_Microsoft_M['PublishDate'] = pd.to_datetime(GooglePlus_Microsoft_M['PublishDate'],format='%Y-%m-%d %H:%M:%S')"
   ]
  },
  {
   "cell_type": "code",
   "execution_count": 25,
   "metadata": {},
   "outputs": [],
   "source": [
    "GooglePlus_Microsoft_M['NewDay'] = Facebook_Microsoft_M['PublishDate'].dt.day + Facebook_Microsoft_M['Day']"
   ]
  },
  {
   "cell_type": "code",
   "execution_count": 26,
   "metadata": {},
   "outputs": [],
   "source": [
    "TimeString = GooglePlus_Microsoft_M['Hour'].map(\"{:02}\".format).map(str) + \":\" +  GooglePlus_Microsoft_M['Minute'].map(\"{:02}\".format).map(str)\n",
    "GooglePlus_Microsoft_M['Derived_DateTime'] = pd.to_datetime(TimeString, format=\"%H:%M\")"
   ]
  },
  {
   "cell_type": "code",
   "execution_count": 27,
   "metadata": {},
   "outputs": [],
   "source": [
    "GooglePlus_Microsoft_M['PublishedHour'] = GooglePlus_Microsoft_M['PublishDate'].dt.hour\n",
    "GooglePlus_Microsoft_M['PublishedMinute'] = GooglePlus_Microsoft_M['PublishDate'].dt.minute"
   ]
  },
  {
   "cell_type": "code",
   "execution_count": 80,
   "metadata": {},
   "outputs": [
    {
     "name": "stderr",
     "output_type": "stream",
     "text": [
      "C:\\Users\\lenovo\\Anaconda3\\lib\\site-packages\\scipy\\stats\\stats.py:1713: FutureWarning: Using a non-tuple sequence for multidimensional indexing is deprecated; use `arr[tuple(seq)]` instead of `arr[seq]`. In the future this will be interpreted as an array index, `arr[np.array(seq)]`, which will result either in an error or a different result.\n",
      "  return np.add.reduce(sorted[indexer] * weights, axis=axis) / sumval\n"
     ]
    },
    {
     "data": {
      "image/png": "[encoded data removed]",
      "text/plain": [
       "<Figure size 1152x432 with 1 Axes>"
      ]
     },
     "metadata": {
      "needs_background": "light"
     },
     "output_type": "display_data"
    }
   ],
   "source": [
    "plt.figure(figsize=(16, 6))\n",
    "df = GooglePlus_Microsoft_M[GooglePlus_Microsoft_M['IDLink'] == 328]\n",
    "ax = sns.lineplot(x='NextHour', \n",
    "                  y ='Popularity', \n",
    "                  data=df)"
   ]
  },
  {
   "cell_type": "markdown",
   "metadata": {},
   "source": [
    "# Linked IN - Microsoft"
   ]
  },
  {
   "cell_type": "code",
   "execution_count": 9,
   "metadata": {},
   "outputs": [],
   "source": [
    "LinkedIn_Microsoft_M = LinkedIn_Microsoft.merge(microsoft, on=\"IDLink\", how=\"left\")\n",
    "LinkedIn_Microsoft_M = LinkedIn_Microsoft_M.melt(id_vars=microsoft.columns)\n",
    "LinkedIn_Microsoft_M.rename(columns={'variable' : 'TimeStamp', 'value' : 'Popularity'}, inplace=True)\n",
    "LinkedIn_Microsoft_M = LinkedIn_Microsoft_M.merge(TimeStamp, on=\"TimeStamp\", how=\"left\")\n",
    "LinkedIn_Microsoft_M['PublishDate'] = pd.to_datetime(LinkedIn_Microsoft_M['PublishDate'],format='%Y-%m-%d %H:%M:%S')"
   ]
  },
  {
   "cell_type": "code",
   "execution_count": 12,
   "metadata": {},
   "outputs": [],
   "source": [
    "LinkedIn_Microsoft_M['NewDay'] = LinkedIn_Microsoft_M['PublishDate'].dt.day + LinkedIn_Microsoft_M['Day']"
   ]
  },
  {
   "cell_type": "code",
   "execution_count": 13,
   "metadata": {},
   "outputs": [],
   "source": [
    "TimeString = LinkedIn_Microsoft_M['Hour'].map(\"{:02}\".format).map(str) + \":\" +  LinkedIn_Microsoft_M['Minute'].map(\"{:02}\".format).map(str)\n",
    "LinkedIn_Microsoft_M['Derived_DateTime'] = pd.to_datetime(TimeString, format=\"%H:%M\")"
   ]
  },
  {
   "cell_type": "code",
   "execution_count": null,
   "metadata": {},
   "outputs": [],
   "source": [
    "LinkedIn_Microsoft_M['PublishedHour'] = LinkedIn_Microsoft_M['PublishDate'].dt.hour\n",
    "LinkedIn_Microsoft_M['PublishedMinute'] = LinkedIn_Microsoft_M['PublishDate'].dt.minute"
   ]
  },
  {
   "cell_type": "code",
   "execution_count": 81,
   "metadata": {},
   "outputs": [
    {
     "name": "stderr",
     "output_type": "stream",
     "text": [
      "C:\\Users\\lenovo\\Anaconda3\\lib\\site-packages\\scipy\\stats\\stats.py:1713: FutureWarning: Using a non-tuple sequence for multidimensional indexing is deprecated; use `arr[tuple(seq)]` instead of `arr[seq]`. In the future this will be interpreted as an array index, `arr[np.array(seq)]`, which will result either in an error or a different result.\n",
      "  return np.add.reduce(sorted[indexer] * weights, axis=axis) / sumval\n"
     ]
    },
    {
     "data": {
      "image/png": "[encoded data removed]",
      "text/plain": [
       "<Figure size 1152x432 with 1 Axes>"
      ]
     },
     "metadata": {
      "needs_background": "light"
     },
     "output_type": "display_data"
    }
   ],
   "source": [
    "plt.figure(figsize=(16, 6))\n",
    "df = LinkedIn_Microsoft_M[LinkedIn_Microsoft_M['IDLink'] == 328]\n",
    "ax = sns.lineplot(x='NextHour', \n",
    "                  y ='Popularity', \n",
    "                  data=df)"
   ]
  },
  {
   "cell_type": "markdown",
   "metadata": {},
   "source": [
    "# Facebook - Palestine"
   ]
  },
  {
   "cell_type": "code",
   "execution_count": 48,
   "metadata": {},
   "outputs": [],
   "source": [
    "palestine = news_data[news_data['Topic'] == \"palestine\"]\n",
    "Facebook_palestine = pd.read_csv(\"Facebook_Palestine.csv\")\n",
    "GooglePlus_palestine = pd.read_csv(\"GooglePlus_Palestine.csv\")\n",
    "LinkedIn_palestine = pd.read_csv(\"LinkedIn_Palestine.csv\")\n",
    "TimeStamp = pd.read_csv(\"TimeStamp.csv\")"
   ]
  },
  {
   "cell_type": "code",
   "execution_count": 49,
   "metadata": {},
   "outputs": [],
   "source": [
    "Facebook_palestine_p = Facebook_palestine.merge(palestine, on=\"IDLink\", how=\"left\")\n",
    "Facebook_palestine_p = Facebook_palestine_p.melt(id_vars=palestine.columns)\n",
    "Facebook_palestine_p.rename(columns={'variable' : 'TimeStamp', 'value' : 'Popularity'}, inplace=True)\n",
    "Facebook_palestine_p = Facebook_palestine_p.merge(TimeStamp, on=\"TimeStamp\", how=\"left\")\n",
    "Facebook_palestine_p['PublishDate'] = pd.to_datetime(Facebook_palestine_p['PublishDate'],format='%Y-%m-%d %H:%M:%S')"
   ]
  },
  {
   "cell_type": "code",
   "execution_count": 50,
   "metadata": {},
   "outputs": [],
   "source": [
    "Facebook_palestine_p['NewDay'] = Facebook_palestine_p['PublishDate'].dt.day + Facebook_palestine_p['Day']"
   ]
  },
  {
   "cell_type": "code",
   "execution_count": 51,
   "metadata": {},
   "outputs": [],
   "source": [
    "TimeString = Facebook_palestine_p['Hour'].map(\"{:02}\".format).map(str) + \":\" +  Facebook_palestine_p['Minute'].map(\"{:02}\".format).map(str)\n",
    "Facebook_palestine_p['Derived_DateTime'] = pd.to_datetime(TimeString, format=\"%H:%M\")"
   ]
  },
  {
   "cell_type": "code",
   "execution_count": 52,
   "metadata": {},
   "outputs": [],
   "source": [
    "Facebook_palestine_p['PublishedHour'] = Facebook_palestine_p['PublishDate'].dt.hour\n",
    "Facebook_palestine_p['PublishedMinute'] = Facebook_palestine_p['PublishDate'].dt.minute"
   ]
  },
  {
   "cell_type": "code",
   "execution_count": null,
   "metadata": {},
   "outputs": [],
   "source": []
  },
  {
   "cell_type": "code",
   "execution_count": 87,
   "metadata": {},
   "outputs": [
    {
     "name": "stderr",
     "output_type": "stream",
     "text": [
      "C:\\Users\\lenovo\\Anaconda3\\lib\\site-packages\\scipy\\stats\\stats.py:1713: FutureWarning: Using a non-tuple sequence for multidimensional indexing is deprecated; use `arr[tuple(seq)]` instead of `arr[seq]`. In the future this will be interpreted as an array index, `arr[np.array(seq)]`, which will result either in an error or a different result.\n",
      "  return np.add.reduce(sorted[indexer] * weights, axis=axis) / sumval\n"
     ]
    },
    {
     "data": {
      "image/png": "[encoded data removed]",
      "text/plain": [
       "<Figure size 1152x432 with 1 Axes>"
      ]
     },
     "metadata": {
      "needs_background": "light"
     },
     "output_type": "display_data"
    }
   ],
   "source": [
    "plt.figure(figsize=(16, 6))\n",
    "df = Facebook_palestine_p[Facebook_palestine_p['IDLink'] == 61978\n",
    "\n",
    "]\n",
    "ax = sns.lineplot(x='NextHour', \n",
    "                  y ='Popularity', \n",
    "                  data=df)"
   ]
  },
  {
   "cell_type": "markdown",
   "metadata": {},
   "source": [
    "# Google Plus - Palestine"
   ]
  },
  {
   "cell_type": "code",
   "execution_count": 54,
   "metadata": {},
   "outputs": [],
   "source": [
    "GooglePlus_palestine_p = GooglePlus_palestine.merge(palestine, on=\"IDLink\", how=\"left\")\n",
    "GooglePlus_palestine_p = GooglePlus_palestine_p.melt(id_vars=palestine.columns)\n",
    "GooglePlus_palestine_p.rename(columns={'variable' : 'TimeStamp', 'value' : 'Popularity'}, inplace=True)\n",
    "GooglePlus_palestine_p = GooglePlus_palestine_p.merge(TimeStamp, on=\"TimeStamp\", how=\"left\")\n",
    "GooglePlus_palestine_p['PublishDate'] = pd.to_datetime(GooglePlus_palestine_p['PublishDate'],format='%Y-%m-%d %H:%M:%S')"
   ]
  },
  {
   "cell_type": "code",
   "execution_count": 55,
   "metadata": {},
   "outputs": [],
   "source": [
    "GooglePlus_palestine_p['NewDay'] = GooglePlus_palestine_p['PublishDate'].dt.day + GooglePlus_palestine_p['Day']"
   ]
  },
  {
   "cell_type": "code",
   "execution_count": null,
   "metadata": {},
   "outputs": [],
   "source": [
    "\n"
   ]
  },
  {
   "cell_type": "code",
   "execution_count": 56,
   "metadata": {},
   "outputs": [],
   "source": [
    "GooglePlus_palestine_p['PublishedHour'] = GooglePlus_palestine_p['PublishDate'].dt.hour\n",
    "GooglePlus_palestine_p['PublishedMinute'] = GooglePlus_palestine_p['PublishDate'].dt.minute"
   ]
  },
  {
   "cell_type": "code",
   "execution_count": 88,
   "metadata": {},
   "outputs": [
    {
     "name": "stderr",
     "output_type": "stream",
     "text": [
      "C:\\Users\\lenovo\\Anaconda3\\lib\\site-packages\\scipy\\stats\\stats.py:1713: FutureWarning: Using a non-tuple sequence for multidimensional indexing is deprecated; use `arr[tuple(seq)]` instead of `arr[seq]`. In the future this will be interpreted as an array index, `arr[np.array(seq)]`, which will result either in an error or a different result.\n",
      "  return np.add.reduce(sorted[indexer] * weights, axis=axis) / sumval\n"
     ]
    },
    {
     "data": {
      "image/png": "[encoded data removed]",
      "text/plain": [
       "<Figure size 1152x432 with 1 Axes>"
      ]
     },
     "metadata": {
      "needs_background": "light"
     },
     "output_type": "display_data"
    }
   ],
   "source": [
    "plt.figure(figsize=(16, 6))\n",
    "df = GooglePlus_palestine_p[GooglePlus_palestine_p['IDLink'] == 61978\n",
    "]\n",
    "ax = sns.lineplot(x='NextHour', \n",
    "                  y ='Popularity', \n",
    "                  data=df)"
   ]
  },
  {
   "cell_type": "markdown",
   "metadata": {},
   "source": [
    "# Linked IN - Palestine"
   ]
  },
  {
   "cell_type": "code",
   "execution_count": 58,
   "metadata": {},
   "outputs": [],
   "source": [
    "LinkedIn_palestine_p = LinkedIn_palestine.merge(palestine, on=\"IDLink\", how=\"left\")\n",
    "LinkedIn_palestine_p = LinkedIn_palestine_p.melt(id_vars=palestine.columns)\n",
    "LinkedIn_palestine_p.rename(columns={'variable' : 'TimeStamp', 'value' : 'Popularity'}, inplace=True)\n",
    "LinkedIn_palestine_p = LinkedIn_palestine_p.merge(TimeStamp, on=\"TimeStamp\", how=\"left\")\n",
    "LinkedIn_palestine_p['PublishDate'] = pd.to_datetime(LinkedIn_palestine_p['PublishDate'],format='%Y-%m-%d %H:%M:%S')"
   ]
  },
  {
   "cell_type": "code",
   "execution_count": 59,
   "metadata": {},
   "outputs": [],
   "source": [
    "LinkedIn_palestine_p['NewDay'] = LinkedIn_palestine_p['PublishDate'].dt.day + LinkedIn_palestine_p['Day']"
   ]
  },
  {
   "cell_type": "code",
   "execution_count": 60,
   "metadata": {},
   "outputs": [],
   "source": [
    "TimeString = LinkedIn_palestine_p['Hour'].map(\"{:02}\".format).map(str) + \":\" +  LinkedIn_palestine_p['Minute'].map(\"{:02}\".format).map(str)\n",
    "LinkedIn_palestine_p['Derived_DateTime'] = pd.to_datetime(TimeString, format=\"%H:%M\")"
   ]
  },
  {
   "cell_type": "code",
   "execution_count": 61,
   "metadata": {},
   "outputs": [],
   "source": [
    "LinkedIn_palestine_p['PublishedHour'] = LinkedIn_palestine_p['PublishDate'].dt.hour\n",
    "LinkedIn_palestine_p['PublishedMinute'] = LinkedIn_palestine_p['PublishDate'].dt.minute"
   ]
  },
  {
   "cell_type": "code",
   "execution_count": 90,
   "metadata": {},
   "outputs": [
    {
     "name": "stderr",
     "output_type": "stream",
     "text": [
      "C:\\Users\\lenovo\\Anaconda3\\lib\\site-packages\\scipy\\stats\\stats.py:1713: FutureWarning: Using a non-tuple sequence for multidimensional indexing is deprecated; use `arr[tuple(seq)]` instead of `arr[seq]`. In the future this will be interpreted as an array index, `arr[np.array(seq)]`, which will result either in an error or a different result.\n",
      "  return np.add.reduce(sorted[indexer] * weights, axis=axis) / sumval\n"
     ]
    },
    {
     "data": {
      "image/png": "[encoded data removed]",
      "text/plain": [
       "<Figure size 1152x432 with 1 Axes>"
      ]
     },
     "metadata": {
      "needs_background": "light"
     },
     "output_type": "display_data"
    }
   ],
   "source": [
    "plt.figure(figsize=(16, 6))\n",
    "df = LinkedIn_palestine_p[LinkedIn_palestine_p['IDLink'] == 61978\n",
    "]\n",
    "ax = sns.lineplot(x='NextHour', \n",
    "                  y ='Popularity', \n",
    "                  data=df)"
   ]
  },
  {
   "cell_type": "code",
   "execution_count": null,
   "metadata": {},
   "outputs": [],
   "source": []
  },
  {
   "cell_type": "code",
   "execution_count": 77,
   "metadata": {},
   "outputs": [],
   "source": []
  },
  {
   "cell_type": "code",
   "execution_count": null,
   "metadata": {},
   "outputs": [],
   "source": []
  },
  {
   "cell_type": "code",
   "execution_count": null,
   "metadata": {},
   "outputs": [],
   "source": []
  },
  {
   "cell_type": "code",
   "execution_count": null,
   "metadata": {},
   "outputs": [],
   "source": []
  }
 ],
 "metadata": {
  "kernelspec": {
   "display_name": "Python 3",
   "language": "python",
   "name": "python3"
  },
  "language_info": {
   "codemirror_mode": {
    "name": "ipython",
    "version": 3
   },
   "file_extension": ".py",
   "mimetype": "text/x-python",
   "name": "python",
   "nbconvert_exporter": "python",
   "pygments_lexer": "ipython3",
   "version": "3.7.0"
  }
 },
 "nbformat": 4,
 "nbformat_minor": 2
}
