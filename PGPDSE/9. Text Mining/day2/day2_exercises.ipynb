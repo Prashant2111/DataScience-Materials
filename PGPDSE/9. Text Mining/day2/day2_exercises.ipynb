{
 "cells": [
  {
   "cell_type": "markdown",
   "metadata": {},
   "source": [
    "# Day 2 Exercises"
   ]
  },
  {
   "cell_type": "markdown",
   "metadata": {},
   "source": [
    "\n",
    "### Document Clustering\n",
    "- For amazon reviews data, get the Document Term Matrix after cleaning\n",
    "- Use K-means clustering for cluster the reviews in to five groups\n",
    "- Plot a bar chart to display no. of documents under each group\n",
    "- Create Word cloud for each group\n",
    "\n",
    "### Predict sentiments for amazon using VADER\n",
    "- Predict sentiment for amazon reviews using VADER packages\n",
    "- Visualize number of positive, negative and neutral reviews\n",
    "### Predict sentiments for hotstar tweets\n",
    "- Scrape tweets for hotstar hashtag\n",
    "- Do text cleaning and build the corpus\n",
    "- Get the Document Term Matrix\n",
    "- Use the existing Random Forest Model to predict the sentiment for new tweets"
   ]
  }
 ],
 "metadata": {
  "kernelspec": {
   "display_name": "Python 3",
   "language": "python",
   "name": "python3"
  },
  "language_info": {
   "codemirror_mode": {
    "name": "ipython",
    "version": 3
   },
   "file_extension": ".py",
   "mimetype": "text/x-python",
   "name": "python",
   "nbconvert_exporter": "python",
   "pygments_lexer": "ipython3",
   "version": "3.6.5"
  }
 },
 "nbformat": 4,
 "nbformat_minor": 2
}
