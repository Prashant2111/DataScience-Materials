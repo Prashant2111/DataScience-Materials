{
 "cells": [
  {
   "cell_type": "code",
   "execution_count": 3,
   "metadata": {},
   "outputs": [
    {
     "name": "stdout",
     "output_type": "stream",
     "text": [
      "1 2 3\n",
      "6\n"
     ]
    }
   ],
   "source": [
    "a,b,c =1,2,3\n",
    "print(a,b,c)\n",
    "\n",
    "sum=a+b+c\n",
    "print(sum)"
   ]
  },
  {
   "cell_type": "code",
   "execution_count": 4,
   "metadata": {},
   "outputs": [
    {
     "name": "stdout",
     "output_type": "stream",
     "text": [
      "4 4 4\n"
     ]
    }
   ],
   "source": [
    "a1=a2=a3=4\n",
    "print(a1,a2,a3)"
   ]
  },
  {
   "cell_type": "code",
   "execution_count": 7,
   "metadata": {},
   "outputs": [
    {
     "name": "stdout",
     "output_type": "stream",
     "text": [
      "15\n"
     ]
    }
   ],
   "source": [
    "l=5\n",
    "w=10\n",
    "t=l+w\n",
    "print(\"%d\"%t)"
   ]
  },
  {
   "cell_type": "code",
   "execution_count": 22,
   "metadata": {},
   "outputs": [
    {
     "name": "stdout",
     "output_type": "stream",
     "text": [
      "2\n"
     ]
    }
   ],
   "source": [
    "a=1\n",
    "a+=a\n",
    "\n",
    "print(a)"
   ]
  },
  {
   "cell_type": "code",
   "execution_count": 14,
   "metadata": {},
   "outputs": [
    {
     "name": "stdout",
     "output_type": "stream",
     "text": [
      "Height?5.8\n",
      "Weight?58\n",
      "17.241379310344826\n"
     ]
    }
   ],
   "source": [
    "h=float(input(\"Height?\"))\n",
    "w=float(input(\"Weight?\"))\n",
    "print((w/h**2)*10)\n"
   ]
  },
  {
   "cell_type": "code",
   "execution_count": 20,
   "metadata": {},
   "outputs": [
    {
     "name": "stdout",
     "output_type": "stream",
     "text": [
      "Principal? 100\n",
      "Rate? 1\n",
      "Time? 1\n",
      "My simple interest is  1.0 for 1.0 of years\n"
     ]
    },
    {
     "data": {
      "text/plain": [
       "float"
      ]
     },
     "execution_count": 20,
     "metadata": {},
     "output_type": "execute_result"
    }
   ],
   "source": [
    "p=float(input(\"Principal? \"))\n",
    "r=float(input(\"Rate? \"))\n",
    "t=float(input(\"Time? \"))\n",
    "print(\"My simple interest is \",p*r*t/100,\"for\",t,\"of years\")\n",
    "type(p*r*t/100)"
   ]
  },
  {
   "cell_type": "code",
   "execution_count": 25,
   "metadata": {},
   "outputs": [
    {
     "data": {
      "text/plain": [
       "True"
      ]
     },
     "execution_count": 25,
     "metadata": {},
     "output_type": "execute_result"
    }
   ],
   "source": [
    "i=10\n",
    "i%2==0\n"
   ]
  },
  {
   "cell_type": "code",
   "execution_count": 44,
   "metadata": {},
   "outputs": [
    {
     "name": "stdout",
     "output_type": "stream",
     "text": [
      "First name:Jithin\n",
      "Last name:James\n"
     ]
    },
    {
     "data": {
      "text/plain": [
       "['James', 'Jithin']"
      ]
     },
     "execution_count": 44,
     "metadata": {},
     "output_type": "execute_result"
    }
   ],
   "source": [
    "name=(\"Jithin\",\"James\")\n",
    "print(\"First name:{}\".format(name[0]))\n",
    "print(\"Last name:{}\".format(name[1]))\n",
    "sorted(name)\n"
   ]
  },
  {
   "cell_type": "code",
   "execution_count": 47,
   "metadata": {},
   "outputs": [
    {
     "name": "stdout",
     "output_type": "stream",
     "text": [
      "(40, 35, 8, 5)\n",
      "(5, 8, 35, 40)\n"
     ]
    }
   ],
   "source": [
    "age=(40,35,8,5)\n",
    "print(age)\n",
    "age=sorted(age)\n",
    "print(tuple(age))"
   ]
  },
  {
   "cell_type": "code",
   "execution_count": 51,
   "metadata": {},
   "outputs": [
    {
     "name": "stdout",
     "output_type": "stream",
     "text": [
      "Jithin\n",
      "('Jithin', 23, 'BTech', 'CS')\n",
      "('Jithin', 23, 'BTech', 'CS')\n",
      "('Jithin', 23, 'BTech')\n",
      "('Jithin', 23, 'BTech')\n"
     ]
    }
   ],
   "source": [
    "tp1=(\"Jithin\",23,\"BTech\",\"CS\")\n",
    "print(tp1[0])\n",
    "print(tp1[0:])\n",
    "print(tp1[:len(tp1)])\n",
    "print(tp1[:-1])\n",
    "print(tp1[0:-1])\n",
    "#tuple only have 2 member functions count and index"
   ]
  },
  {
   "cell_type": "code",
   "execution_count": 61,
   "metadata": {},
   "outputs": [
    {
     "name": "stdout",
     "output_type": "stream",
     "text": [
      "{'banana', 'apple'}\n",
      "{'mango', 'banana', 'apple'}\n",
      "{'mango', 'banana'}\n"
     ]
    }
   ],
   "source": [
    "#set - doesnot support data indexing\n",
    "ss={\"apple\",\"banana\",\"apple\"}  \n",
    "print(ss)\n",
    "ss.add(\"mango\")\n",
    "print(ss)\n",
    "ss.remove(\"apple\") #removes both the apples\n",
    "print(ss)"
   ]
  },
  {
   "cell_type": "code",
   "execution_count": 81,
   "metadata": {},
   "outputs": [
    {
     "name": "stdout",
     "output_type": "stream",
     "text": [
      "['apple', 'banana', 'orange', 'grapes', 'Kiwi']\n",
      "['Kiwi', 'grapes', 'orange', 'banana', 'apple']\n",
      "['Kiwi', 'grapes']\n",
      "['Berry', 'Kiwi', 'apple', 'banana', 'grapes', 'orange']\n",
      "['Berry', 'Kiwi', 'apple', 'banana', 'grapes']\n"
     ]
    }
   ],
   "source": [
    "# List\n",
    "fruits=[\"apple\",\"banana\",\"orange\",\"grapes\",\"Kiwi\"]\n",
    "print(fruits)\n",
    "print(fruits[::-1])\n",
    "print(fruits[:-3:-1])\n",
    "fruits.append(\"Berry\")\n",
    "\n",
    "\n",
    "#to find the index of list\n",
    "fruits.index(\"Berry\")\n",
    "fruits.sort()\n",
    "print(fruits)\n",
    "\n",
    "\n",
    "fruits.pop() #pop\n",
    "print(fruits)"
   ]
  },
  {
   "cell_type": "code",
   "execution_count": 83,
   "metadata": {},
   "outputs": [
    {
     "name": "stdout",
     "output_type": "stream",
     "text": [
      "Berry\n",
      "Kiwi\n",
      "apple\n",
      "banana\n",
      "grapes\n",
      "Berry\tKiwi\tapple\tbanana\tgrapes\n"
     ]
    }
   ],
   "source": [
    "aw=\"\\n\".join(fruits)\n",
    "print(aw)\n",
    "\n",
    "aw=\"\\t\".join(fruits)\n",
    "print(aw)\n",
    "\n",
    "#does not work for integer"
   ]
  },
  {
   "cell_type": "code",
   "execution_count": 85,
   "metadata": {},
   "outputs": [
    {
     "name": "stdout",
     "output_type": "stream",
     "text": [
      "{'Eddy': 22, 'Maria': 23, 'Jack': 28}\n",
      "{'Eddy': 22, 'Maria': 23, 'Jack': 29}\n"
     ]
    }
   ],
   "source": [
    "students={\"Eddy\":22,\"Maria\":23,\"Jack\":28}\n",
    "print(students)\n",
    "students[\"Jack\"]=29\n",
    "print(students)"
   ]
  },
  {
   "cell_type": "code",
   "execution_count": 88,
   "metadata": {},
   "outputs": [
    {
     "data": {
      "text/plain": [
       "['carbon', 'helium', 'hydrogen']"
      ]
     },
     "execution_count": 88,
     "metadata": {},
     "output_type": "execute_result"
    }
   ],
   "source": [
    "elements={\"hydrogen\":1,\"helium\":2,\"carbon\":3}\n",
    "elements[\"hydrogen\"]\n",
    "elements={\"hydrogen\":{\"number\":1,\"weight\":2,\"symbol\":{\"hydrogen\":1}},\"helium\":2,\"carbon\":3}\n",
    "elements[\"hydrogen\"][\"symbol\"][\"hydrogen\"]\n",
    "\n",
    "sorted(elements)"
   ]
  },
  {
   "cell_type": "code",
   "execution_count": 90,
   "metadata": {},
   "outputs": [
    {
     "name": "stdout",
     "output_type": "stream",
     "text": [
      "Success\n"
     ]
    }
   ],
   "source": [
    "password=\"Great Learning\"\n",
    "if(password==\"Great Learning\"):\n",
    "    print(\"Success\")\n",
    "else:\n",
    "    print(\"Failure\")"
   ]
  },
  {
   "cell_type": "code",
   "execution_count": 97,
   "metadata": {},
   "outputs": [
    {
     "name": "stdout",
     "output_type": "stream",
     "text": [
      "[2, 4, 6, 8, 10, 12, 14, 16, 18, 20]\n",
      "[1, 3, 5, 7, 9, 11, 13, 15, 17, 19]\n",
      "110\n"
     ]
    }
   ],
   "source": [
    "\n",
    "l1=list()\n",
    "l2=list()\n",
    "s=0\n",
    "for i in range(1,21):\n",
    "    if i%2==0:\n",
    "        l1.append(i)\n",
    "        s+=i\n",
    "    else:\n",
    "        l2.append(i)\n",
    "        \n",
    "print(l1)\n",
    "print(l2)\n",
    "print(s)"
   ]
  },
  {
   "cell_type": "code",
   "execution_count": 108,
   "metadata": {},
   "outputs": [
    {
     "name": "stdout",
     "output_type": "stream",
     "text": [
      "[2, 4, 6, 8, 10, 12, 14, 16, 18, 20]\n",
      "[1, 3, 5, 7, 9, 11, 13, 15, 17, 19]\n",
      "110\n"
     ]
    }
   ],
   "source": [
    "l1=list()\n",
    "l2=list()\n",
    "\n",
    "for i in range(1,21):\n",
    "    if i%2==0:\n",
    "        l1.append(i)\n",
    "    else:\n",
    "        l2.append(i)\n",
    "        \n",
    "print(l1)\n",
    "print(l2)\n",
    "\n",
    "print(sum(l1))"
   ]
  },
  {
   "cell_type": "code",
   "execution_count": 120,
   "metadata": {},
   "outputs": [
    {
     "name": "stdout",
     "output_type": "stream",
     "text": [
      "10000,20000\n",
      "Silver\n",
      "Gold\n"
     ]
    }
   ],
   "source": [
    "l2=input()\n",
    "l=l2.split(\",\")\n",
    "\n",
    "c=0\n",
    "for i in l:\n",
    "    if c==8:\n",
    "        break\n",
    "    if int(i)>25000 :\n",
    "        t=\"Diamond\"\n",
    "    elif 25000>int(i)>15000:\n",
    "        t=\"Gold\"\n",
    "    elif 5000<int(i)<15000:\n",
    "        t=\"Silver\"\n",
    "    else:\n",
    "        t=\"bronze\"\n",
    "    c+=1\n",
    "    print(t)\n",
    "    \n"
   ]
  },
  {
   "cell_type": "code",
   "execution_count": 125,
   "metadata": {},
   "outputs": [
    {
     "name": "stdout",
     "output_type": "stream",
     "text": [
      "[455, 462, 469, 476, 483, 490, 497, 504, 511, 518, 525, 532, 539, 546, 553, 560, 567, 574, 581, 588, 595, 602, 609, 616, 623, 630, 637, 644, 651, 658, 665, 672, 679, 686, 693, 700, 707, 714, 721, 728, 735, 742, 749, 756, 763, 770, 777, 784, 791, 798, 805, 812, 819, 826, 833, 840, 847] \n",
      " 37107\n"
     ]
    }
   ],
   "source": [
    "l1=list()\n",
    "for i in range(450,850):\n",
    "    if i%7==0:\n",
    "        l1.append(i)\n",
    "\n",
    "print(l1,\"\\n\",sum(l1))"
   ]
  },
  {
   "cell_type": "code",
   "execution_count": 4,
   "metadata": {},
   "outputs": [
    {
     "name": "stdout",
     "output_type": "stream",
     "text": [
      "eng\n",
      "Welcome\n"
     ]
    }
   ],
   "source": [
    "def greet(msg):\n",
    "    if msg==\"eng\":\n",
    "        print(\"Welcome\")\n",
    "    elif msg==\"mal\":\n",
    "        print(\"Namaskaram\")\n",
    "    elif msg==\"french\":\n",
    "        print(\"bonjur\")\n",
    "        \n",
    "msg1= input()\n",
    "greet(msg1)"
   ]
  },
  {
   "cell_type": "code",
   "execution_count": 6,
   "metadata": {},
   "outputs": [
    {
     "name": "stdout",
     "output_type": "stream",
     "text": [
      "[1, 2, 3, 4, 5, 6, 7, 8, 9, 10]\n",
      "[4, 6, 8, 10, 12]\n",
      "[2, 4, 6, 8, 10]\n"
     ]
    }
   ],
   "source": [
    "l1=list()\n",
    "l2=list()\n",
    "def fun1(l):\n",
    "    for i in l:\n",
    "        if i%2==0:\n",
    "            l1.append(i+2)\n",
    "        else:\n",
    "            l2.append(i+1)\n",
    "\n",
    "l3=[i for i in range(1,11)]\n",
    "print(l3)\n",
    "\n",
    "fun1(l3)\n",
    "print(l1)\n",
    "print(l2)"
   ]
  },
  {
   "cell_type": "code",
   "execution_count": 10,
   "metadata": {},
   "outputs": [
    {
     "name": "stdout",
     "output_type": "stream",
     "text": [
      "5\n"
     ]
    }
   ],
   "source": [
    "#class\n",
    "class myclass:\n",
    "    x=5\n",
    "obj=myclass()\n",
    "print(obj.x)\n",
    " "
   ]
  },
  {
   "cell_type": "code",
   "execution_count": 20,
   "metadata": {},
   "outputs": [
    {
     "name": "stdout",
     "output_type": "stream",
     "text": [
      "Jithin\n",
      "None\n",
      "James 5\n",
      "None\n"
     ]
    }
   ],
   "source": [
    "class pr:\n",
    "    def name(self):\n",
    "        print(\"Jithin\")\n",
    "    def age(self,a):\n",
    "        print(\"James\",a)\n",
    "\n",
    "p=pr()\n",
    "print(p.name())\n",
    "print(p.age(5))\n"
   ]
  },
  {
   "cell_type": "code",
   "execution_count": 31,
   "metadata": {},
   "outputs": [
    {
     "name": "stdout",
     "output_type": "stream",
     "text": [
      "Your name is Jithin\n",
      "Your age is 18\n"
     ]
    }
   ],
   "source": [
    "class parent:\n",
    "    def __init__(self,name,age):\n",
    "        self.name = name\n",
    "        self.age = age\n",
    "    def getname(self):\n",
    "        print(\"Your name is \"+self.name)\n",
    "    def getage(self):\n",
    "        print(\"Your age is \"+self.age)\n",
    "\n",
    "p = parent(\"Jithin\",\"18\")\n",
    "p.getname()\n",
    "p.getage()"
   ]
  },
  {
   "cell_type": "code",
   "execution_count": 42,
   "metadata": {},
   "outputs": [
    {
     "name": "stdout",
     "output_type": "stream",
     "text": [
      "Your name is Jithin\n",
      "Your age is 18\n"
     ]
    }
   ],
   "source": [
    "class child(parent):                   #if you dont give the init function, it takes that function from the parent class\n",
    "        def getname(self):\n",
    "            print(\"Your name is \"+self.name)\n",
    "        \n",
    "c = parent(\"Jithin\",\"18\")\n",
    "c.getname()\n",
    "c.getage()"
   ]
  },
  {
   "cell_type": "code",
   "execution_count": 3,
   "metadata": {},
   "outputs": [
    {
     "name": "stdout",
     "output_type": "stream",
     "text": [
      "[1 2 3]\n",
      "(1, 2, 3)\n",
      "<class 'numpy.ndarray'>\n"
     ]
    }
   ],
   "source": [
    "# numpy used for numerical operations\n",
    "import numpy as np\n",
    "tu=(1,2,3)\n",
    "type(tu)\n",
    "out=np.array(tu)\n",
    "print(out)\n",
    "print(tuple(out))\n",
    "print(type(out))"
   ]
  },
  {
   "cell_type": "code",
   "execution_count": 6,
   "metadata": {},
   "outputs": [
    {
     "name": "stdout",
     "output_type": "stream",
     "text": [
      "[ 1  2  3  4  5  6  7  8  9 10]\n",
      "(10,)\n"
     ]
    },
    {
     "data": {
      "text/plain": [
       "numpy.ndarray"
      ]
     },
     "execution_count": 6,
     "metadata": {},
     "output_type": "execute_result"
    }
   ],
   "source": [
    "import numpy as np\n",
    "l=[i for i in range(1,11)]\n",
    "l2=np.array(l)\n",
    "print(l2)\n",
    "print(l2.shape)\n",
    "type(l2)"
   ]
  },
  {
   "cell_type": "code",
   "execution_count": 27,
   "metadata": {},
   "outputs": [
    {
     "name": "stdout",
     "output_type": "stream",
     "text": [
      "[0 1 2 3 4 5 6 7 8]\n",
      "1\n",
      "(9,)\n",
      "9\n",
      "4\n",
      "36\n",
      "9\n",
      "['0' '1' '2' '3' '4' '5' '6' '7' '8']\n",
      "[1 3 5 7 9]\n"
     ]
    }
   ],
   "source": [
    "sq=np.arange(9)\n",
    "print(sq)\n",
    "print(sq.ndim)        # shows the dimension\n",
    "print(sq.shape)       # shows dimension of array rows and colms\n",
    "print(sq.size)        # no of array elements\n",
    "print(sq.itemsize)    # length of one array element in bytes\n",
    "print(sq.nbytes)      # total consumed bytes by the array\n",
    "print(len(sq))        # length of the array\n",
    "print(sq.astype(str))\n",
    "\n",
    "\n",
    "sq1=np.arange(1,11,2) # increment by 2\n",
    "print(sq1)\n",
    "\n",
    "\n"
   ]
  },
  {
   "cell_type": "code",
   "execution_count": 26,
   "metadata": {},
   "outputs": [
    {
     "data": {
      "text/plain": [
       "array([1.        , 1.44444444, 1.88888889, 2.33333333, 2.77777778,\n",
       "       3.22222222, 3.66666667, 4.11111111, 4.55555556, 5.        ])"
      ]
     },
     "execution_count": 26,
     "metadata": {},
     "output_type": "execute_result"
    }
   ],
   "source": [
    "\n",
    "np.linspace(1.0,5.0,num=10)\n"
   ]
  },
  {
   "cell_type": "code",
   "execution_count": 35,
   "metadata": {},
   "outputs": [
    {
     "name": "stdout",
     "output_type": "stream",
     "text": [
      "[ 53.6 109.4  91.4]\n"
     ]
    },
    {
     "data": {
      "text/plain": [
       "numpy.ndarray"
      ]
     },
     "execution_count": 35,
     "metadata": {},
     "output_type": "execute_result"
    }
   ],
   "source": [
    "import numpy as np\n",
    "c=[12,43,33]\n",
    "c1=np.array(c)\n",
    "print(c1*9/5+32)\n",
    "type(c1)"
   ]
  },
  {
   "cell_type": "code",
   "execution_count": 78,
   "metadata": {},
   "outputs": [
    {
     "name": "stdout",
     "output_type": "stream",
     "text": [
      "2\n",
      "(2, 3)\n"
     ]
    },
    {
     "ename": "AttributeError",
     "evalue": "'numpy.ndarray' object has no attribute 'mode'",
     "output_type": "error",
     "traceback": [
      "\u001b[1;31m---------------------------------------------------------------------------\u001b[0m",
      "\u001b[1;31mAttributeError\u001b[0m                            Traceback (most recent call last)",
      "\u001b[1;32m<ipython-input-78-e8229f82e2d5>\u001b[0m in \u001b[0;36m<module>\u001b[1;34m()\u001b[0m\n\u001b[0;32m      4\u001b[0m \u001b[0mprint\u001b[0m\u001b[1;33m(\u001b[0m\u001b[0ma\u001b[0m\u001b[1;33m.\u001b[0m\u001b[0mshape\u001b[0m\u001b[1;33m)\u001b[0m\u001b[1;33m\u001b[0m\u001b[0m\n\u001b[0;32m      5\u001b[0m \u001b[0ma\u001b[0m\u001b[1;33m.\u001b[0m\u001b[0mmean\u001b[0m\u001b[1;33m(\u001b[0m\u001b[1;33m)\u001b[0m\u001b[1;33m\u001b[0m\u001b[0m\n\u001b[1;32m----> 6\u001b[1;33m \u001b[0ma\u001b[0m\u001b[1;33m.\u001b[0m\u001b[0mmode\u001b[0m\u001b[1;33m(\u001b[0m\u001b[1;33m)\u001b[0m\u001b[1;33m\u001b[0m\u001b[0m\n\u001b[0m",
      "\u001b[1;31mAttributeError\u001b[0m: 'numpy.ndarray' object has no attribute 'mode'"
     ]
    }
   ],
   "source": [
    "import numpy as np\n",
    "a=np.array([[1,2,3],[4,5,6]])\n",
    "print(a.ndim)\n",
    "print(a.shape)\n",
    "a.mean()\n"
   ]
  },
  {
   "cell_type": "code",
   "execution_count": 66,
   "metadata": {},
   "outputs": [
    {
     "name": "stdout",
     "output_type": "stream",
     "text": [
      "[[1. 1. 1. 1.]\n",
      " [1. 1. 1. 1.]\n",
      " [1. 1. 1. 1.]]\n",
      "[[0.12858903 0.7480678  0.76425062 0.71477595]]\n",
      "\n",
      "\n",
      "\n",
      " [[1.12858903 1.7480678  1.76425062 1.71477595]\n",
      " [1.12858903 1.7480678  1.76425062 1.71477595]\n",
      " [1.12858903 1.7480678  1.76425062 1.71477595]]\n",
      "\n",
      "\n",
      "\n",
      " [[1.12858903 1.7480678  1.76425062 1.71477595]\n",
      " [1.12858903 1.7480678  1.76425062 1.71477595]\n",
      " [1.12858903 1.7480678  1.76425062 1.71477595]]\n"
     ]
    }
   ],
   "source": [
    "x=np.ones((3,4))\n",
    "print(x)\n",
    "y=np.random.random((1,4))\n",
    "print(y)\n",
    "print(\"\\n\\n\\n\",x+y)   # creates the cartesian product\n",
    "print(\"\\n\\n\\n\",np.add(x,y))"
   ]
  },
  {
   "cell_type": "code",
   "execution_count": 59,
   "metadata": {},
   "outputs": [
    {
     "name": "stdout",
     "output_type": "stream",
     "text": [
      "[[[0.8867576  0.75375896 0.7584047  0.51974062]]\n",
      "\n",
      " [[0.25794765 0.83744896 0.75353477 0.32415075]]\n",
      "\n",
      " [[0.72221834 0.81328402 0.44089927 0.2738772 ]]\n",
      "\n",
      " [[0.82516418 0.37751683 0.03618556 0.31673397]]\n",
      "\n",
      " [[0.09288832 0.81872777 0.09774433 0.32836577]]]\n"
     ]
    }
   ],
   "source": [
    "print(np.random.random((5,1,4)))"
   ]
  },
  {
   "cell_type": "code",
   "execution_count": 75,
   "metadata": {},
   "outputs": [
    {
     "data": {
      "text/plain": [
       "array([[0.19572834, 0.9353533 , 0.78493167, 0.18455458]])"
      ]
     },
     "execution_count": 75,
     "metadata": {},
     "output_type": "execute_result"
    }
   ],
   "source": [
    "np.random.random((1,4))"
   ]
  },
  {
   "cell_type": "code",
   "execution_count": 85,
   "metadata": {},
   "outputs": [
    {
     "name": "stdout",
     "output_type": "stream",
     "text": [
      "[[[1 2 3 4 5]]]\n",
      "3\n"
     ]
    }
   ],
   "source": [
    "a=np.array([1,2,3,4,5],ndmin=3)\n",
    "print(a)\n",
    "print(a.ndim)\n"
   ]
  },
  {
   "cell_type": "code",
   "execution_count": 86,
   "metadata": {},
   "outputs": [
    {
     "name": "stdout",
     "output_type": "stream",
     "text": [
      "[1.+0.j 2.+0.j 3.+0.j 4.+0.j 5.+0.j]\n",
      "1\n"
     ]
    }
   ],
   "source": [
    "a=np.array([1,2,3,4,5],dtype=complex)\n",
    "print(a)\n",
    "print(a.ndim)\n"
   ]
  },
  {
   "cell_type": "code",
   "execution_count": 93,
   "metadata": {},
   "outputs": [
    {
     "name": "stdout",
     "output_type": "stream",
     "text": [
      "[[0 1 2]\n",
      " [3 4 5]\n",
      " [6 7 8]]\n"
     ]
    }
   ],
   "source": [
    "x=np.empty([3,3],dtype=int)\n",
    "print(x)\n"
   ]
  },
  {
   "cell_type": "code",
   "execution_count": 95,
   "metadata": {},
   "outputs": [
    {
     "name": "stdout",
     "output_type": "stream",
     "text": [
      "[1, 2, 3, 4, 1, 2, 3, 4]\n",
      "[1, 2, 3, 4, 1, 2, 3, 4]\n"
     ]
    }
   ],
   "source": [
    "a=[1,2,3,4]\n",
    "b=a\n",
    "a+=a\n",
    "print(a)\n",
    "print(b)"
   ]
  },
  {
   "cell_type": "code",
   "execution_count": 96,
   "metadata": {},
   "outputs": [
    {
     "name": "stdout",
     "output_type": "stream",
     "text": [
      "[1, 2, 3, 4, 1, 2, 3, 4]\n",
      "[1, 2, 3, 4]\n"
     ]
    }
   ],
   "source": [
    "a=[1,2,3,4]\n",
    "b=a\n",
    "a=a+a\n",
    "print(a)\n",
    "print(b)"
   ]
  },
  {
   "cell_type": "code",
   "execution_count": 100,
   "metadata": {},
   "outputs": [
    {
     "name": "stdout",
     "output_type": "stream",
     "text": [
      "[('name', 'S10'), ('age', 'i1'), ('marks', '<f4')]\n"
     ]
    }
   ],
   "source": [
    "student1=np.dtype([(\"name\",\"S10\"),(\"age\",\"i1\"),(\"marks\",\"f4\")])\n",
    "print(student1)\n"
   ]
  },
  {
   "cell_type": "code",
   "execution_count": 101,
   "metadata": {},
   "outputs": [
    {
     "name": "stdout",
     "output_type": "stream",
     "text": [
      "[[5 5]\n",
      " [5 5]]\n"
     ]
    }
   ],
   "source": [
    "c=np.full((2,2),5)\n",
    "print(c)"
   ]
  },
  {
   "cell_type": "code",
   "execution_count": 105,
   "metadata": {},
   "outputs": [
    {
     "name": "stdout",
     "output_type": "stream",
     "text": [
      "[[1. 0. 0.]\n",
      " [0. 1. 0.]\n",
      " [0. 0. 1.]]\n"
     ]
    }
   ],
   "source": [
    "c=np.eye(3,3)\n",
    "print(c)"
   ]
  },
  {
   "cell_type": "code",
   "execution_count": 129,
   "metadata": {},
   "outputs": [
    {
     "name": "stdout",
     "output_type": "stream",
     "text": [
      "[('EMPID', 'S10'), ('FNAME', 'S10'), ('LNAME', 'S10')]\n",
      "[(b'emp10', b'Jithin', b'James') (b'emp11', b'Alexander', b'James')]\n"
     ]
    }
   ],
   "source": [
    "employee=np.dtype([(\"EMPID\",\"S10\"),(\"FNAME\",\"S10\"),(\"LNAME\",\"S10\")])\n",
    "print(employee)\n",
    "\n",
    "a=np.array([('emp10','Jithin','James'),('emp11','Alexander','James')],dtype=employee)\n",
    "print(a)\n"
   ]
  },
  {
   "cell_type": "code",
   "execution_count": 119,
   "metadata": {},
   "outputs": [
    {
     "name": "stdout",
     "output_type": "stream",
     "text": [
      "[('country', 'S20'), ('density', '<i4'), ('area', '<i4'), ('population', '<i4')]\n",
      "<class 'numpy.dtype'>\n"
     ]
    }
   ],
   "source": [
    "dt=np.dtype([('country','S20'),('density','i4'),('area','i4'),('population','i4')])\n",
    "print(dt)\n",
    "print(type(dt))"
   ]
  },
  {
   "cell_type": "code",
   "execution_count": 128,
   "metadata": {},
   "outputs": [
    {
     "name": "stdout",
     "output_type": "stream",
     "text": [
      "[(b'Netherlands', 393, 41526,  1692800) (b'Belguim', 337, 30510, 11007020)]\n",
      "[b'Netherlands' b'Belguim' b'United Kingdom' b'Germany']\n",
      "[393 337 256 233]\n"
     ]
    }
   ],
   "source": [
    "p_table=np.array([\n",
    "('Netherlands',393,41526,1692800),\n",
    "('Belguim',337,30510,11007020),\n",
    "('United Kingdom',256,243610,62262000),\n",
    "('Germany',233,357021,81799600)\n",
    "],dtype=dt)\n",
    "\n",
    "print(p_table[:2])\n",
    "print(p_table['country'])\n",
    "print(p_table['density'])"
   ]
  },
  {
   "cell_type": "code",
   "execution_count": null,
   "metadata": {},
   "outputs": [],
   "source": []
  }
 ],
 "metadata": {
  "kernelspec": {
   "display_name": "Python 3",
   "language": "python",
   "name": "python3"
  },
  "language_info": {
   "codemirror_mode": {
    "name": "ipython",
    "version": 3
   },
   "file_extension": ".py",
   "mimetype": "text/x-python",
   "name": "python",
   "nbconvert_exporter": "python",
   "pygments_lexer": "ipython3",
   "version": "3.7.0"
  }
 },
 "nbformat": 4,
 "nbformat_minor": 2
}
