{
 "cells": [
  {
   "cell_type": "code",
   "execution_count": 173,
   "metadata": {},
   "outputs": [],
   "source": [
    "import pandas as pd\n",
    "import numpy as np\n",
    "import matplotlib.pyplot as plt\n",
    "%matplotlib inline"
   ]
  },
  {
   "cell_type": "code",
   "execution_count": 174,
   "metadata": {},
   "outputs": [],
   "source": [
    "fbm=pd.read_csv('Facebook_Microsoft.csv')"
   ]
  },
  {
   "cell_type": "code",
   "execution_count": 175,
   "metadata": {},
   "outputs": [
    {
     "data": {
      "text/html": [
       "<div>\n",
       "<style scoped>\n",
       "    .dataframe tbody tr th:only-of-type {\n",
       "        vertical-align: middle;\n",
       "    }\n",
       "\n",
       "    .dataframe tbody tr th {\n",
       "        vertical-align: top;\n",
       "    }\n",
       "\n",
       "    .dataframe thead th {\n",
       "        text-align: right;\n",
       "    }\n",
       "</style>\n",
       "<table border=\"1\" class=\"dataframe\">\n",
       "  <thead>\n",
       "    <tr style=\"text-align: right;\">\n",
       "      <th></th>\n",
       "      <th>IDLink</th>\n",
       "      <th>TS1</th>\n",
       "      <th>TS2</th>\n",
       "      <th>TS3</th>\n",
       "      <th>TS4</th>\n",
       "      <th>TS5</th>\n",
       "      <th>TS6</th>\n",
       "      <th>TS7</th>\n",
       "      <th>TS8</th>\n",
       "      <th>TS9</th>\n",
       "      <th>...</th>\n",
       "      <th>TS135</th>\n",
       "      <th>TS136</th>\n",
       "      <th>TS137</th>\n",
       "      <th>TS138</th>\n",
       "      <th>TS139</th>\n",
       "      <th>TS140</th>\n",
       "      <th>TS141</th>\n",
       "      <th>TS142</th>\n",
       "      <th>TS143</th>\n",
       "      <th>TS144</th>\n",
       "    </tr>\n",
       "  </thead>\n",
       "  <tbody>\n",
       "    <tr>\n",
       "      <th>count</th>\n",
       "      <td>18531.000000</td>\n",
       "      <td>18531.000000</td>\n",
       "      <td>18531.000000</td>\n",
       "      <td>18531.000000</td>\n",
       "      <td>18531.000000</td>\n",
       "      <td>18531.000000</td>\n",
       "      <td>18531.000000</td>\n",
       "      <td>18531.000000</td>\n",
       "      <td>18531.000000</td>\n",
       "      <td>18531.000000</td>\n",
       "      <td>...</td>\n",
       "      <td>18531.000000</td>\n",
       "      <td>18531.000000</td>\n",
       "      <td>18531.000000</td>\n",
       "      <td>18531.000000</td>\n",
       "      <td>18531.000000</td>\n",
       "      <td>18531.000000</td>\n",
       "      <td>18531.000000</td>\n",
       "      <td>18531.000000</td>\n",
       "      <td>18531.000000</td>\n",
       "      <td>18531.000000</td>\n",
       "    </tr>\n",
       "    <tr>\n",
       "      <th>mean</th>\n",
       "      <td>27787.249312</td>\n",
       "      <td>-0.404349</td>\n",
       "      <td>0.050888</td>\n",
       "      <td>0.482867</td>\n",
       "      <td>1.030813</td>\n",
       "      <td>1.376073</td>\n",
       "      <td>1.671847</td>\n",
       "      <td>2.145972</td>\n",
       "      <td>2.444390</td>\n",
       "      <td>2.673574</td>\n",
       "      <td>...</td>\n",
       "      <td>36.434623</td>\n",
       "      <td>36.501160</td>\n",
       "      <td>36.614646</td>\n",
       "      <td>36.713237</td>\n",
       "      <td>36.783606</td>\n",
       "      <td>36.843344</td>\n",
       "      <td>36.950785</td>\n",
       "      <td>36.988614</td>\n",
       "      <td>37.045599</td>\n",
       "      <td>37.081863</td>\n",
       "    </tr>\n",
       "    <tr>\n",
       "      <th>std</th>\n",
       "      <td>16773.306005</td>\n",
       "      <td>6.008014</td>\n",
       "      <td>7.880239</td>\n",
       "      <td>9.488771</td>\n",
       "      <td>11.862505</td>\n",
       "      <td>13.479256</td>\n",
       "      <td>14.987492</td>\n",
       "      <td>20.241950</td>\n",
       "      <td>21.704254</td>\n",
       "      <td>22.345765</td>\n",
       "      <td>...</td>\n",
       "      <td>343.225233</td>\n",
       "      <td>343.314145</td>\n",
       "      <td>343.461181</td>\n",
       "      <td>343.624407</td>\n",
       "      <td>343.756029</td>\n",
       "      <td>343.823600</td>\n",
       "      <td>343.912179</td>\n",
       "      <td>343.935359</td>\n",
       "      <td>344.021060</td>\n",
       "      <td>344.050610</td>\n",
       "    </tr>\n",
       "    <tr>\n",
       "      <th>min</th>\n",
       "      <td>101.000000</td>\n",
       "      <td>-1.000000</td>\n",
       "      <td>-1.000000</td>\n",
       "      <td>-1.000000</td>\n",
       "      <td>-1.000000</td>\n",
       "      <td>-1.000000</td>\n",
       "      <td>-1.000000</td>\n",
       "      <td>-1.000000</td>\n",
       "      <td>-1.000000</td>\n",
       "      <td>-1.000000</td>\n",
       "      <td>...</td>\n",
       "      <td>-1.000000</td>\n",
       "      <td>-1.000000</td>\n",
       "      <td>-1.000000</td>\n",
       "      <td>-1.000000</td>\n",
       "      <td>-1.000000</td>\n",
       "      <td>-1.000000</td>\n",
       "      <td>-1.000000</td>\n",
       "      <td>-1.000000</td>\n",
       "      <td>-1.000000</td>\n",
       "      <td>-1.000000</td>\n",
       "    </tr>\n",
       "    <tr>\n",
       "      <th>25%</th>\n",
       "      <td>13123.500000</td>\n",
       "      <td>-1.000000</td>\n",
       "      <td>-1.000000</td>\n",
       "      <td>-1.000000</td>\n",
       "      <td>-1.000000</td>\n",
       "      <td>-1.000000</td>\n",
       "      <td>-1.000000</td>\n",
       "      <td>-1.000000</td>\n",
       "      <td>-1.000000</td>\n",
       "      <td>-1.000000</td>\n",
       "      <td>...</td>\n",
       "      <td>1.000000</td>\n",
       "      <td>1.000000</td>\n",
       "      <td>1.000000</td>\n",
       "      <td>1.000000</td>\n",
       "      <td>1.000000</td>\n",
       "      <td>1.000000</td>\n",
       "      <td>1.000000</td>\n",
       "      <td>1.000000</td>\n",
       "      <td>1.000000</td>\n",
       "      <td>1.000000</td>\n",
       "    </tr>\n",
       "    <tr>\n",
       "      <th>50%</th>\n",
       "      <td>26498.000000</td>\n",
       "      <td>-1.000000</td>\n",
       "      <td>-1.000000</td>\n",
       "      <td>-1.000000</td>\n",
       "      <td>-1.000000</td>\n",
       "      <td>-1.000000</td>\n",
       "      <td>-1.000000</td>\n",
       "      <td>-1.000000</td>\n",
       "      <td>-1.000000</td>\n",
       "      <td>-1.000000</td>\n",
       "      <td>...</td>\n",
       "      <td>5.000000</td>\n",
       "      <td>5.000000</td>\n",
       "      <td>5.000000</td>\n",
       "      <td>5.000000</td>\n",
       "      <td>5.000000</td>\n",
       "      <td>5.000000</td>\n",
       "      <td>5.000000</td>\n",
       "      <td>5.000000</td>\n",
       "      <td>5.000000</td>\n",
       "      <td>5.000000</td>\n",
       "    </tr>\n",
       "    <tr>\n",
       "      <th>75%</th>\n",
       "      <td>43230.500000</td>\n",
       "      <td>-1.000000</td>\n",
       "      <td>-1.000000</td>\n",
       "      <td>-1.000000</td>\n",
       "      <td>0.000000</td>\n",
       "      <td>0.000000</td>\n",
       "      <td>0.000000</td>\n",
       "      <td>0.000000</td>\n",
       "      <td>0.000000</td>\n",
       "      <td>0.000000</td>\n",
       "      <td>...</td>\n",
       "      <td>17.000000</td>\n",
       "      <td>17.000000</td>\n",
       "      <td>17.000000</td>\n",
       "      <td>17.000000</td>\n",
       "      <td>17.000000</td>\n",
       "      <td>17.000000</td>\n",
       "      <td>18.000000</td>\n",
       "      <td>18.000000</td>\n",
       "      <td>18.000000</td>\n",
       "      <td>18.000000</td>\n",
       "    </tr>\n",
       "    <tr>\n",
       "      <th>max</th>\n",
       "      <td>58450.000000</td>\n",
       "      <td>619.000000</td>\n",
       "      <td>642.000000</td>\n",
       "      <td>671.000000</td>\n",
       "      <td>703.000000</td>\n",
       "      <td>706.000000</td>\n",
       "      <td>803.000000</td>\n",
       "      <td>1583.000000</td>\n",
       "      <td>1583.000000</td>\n",
       "      <td>1583.000000</td>\n",
       "      <td>...</td>\n",
       "      <td>22346.000000</td>\n",
       "      <td>22346.000000</td>\n",
       "      <td>22346.000000</td>\n",
       "      <td>22346.000000</td>\n",
       "      <td>22346.000000</td>\n",
       "      <td>22346.000000</td>\n",
       "      <td>22346.000000</td>\n",
       "      <td>22346.000000</td>\n",
       "      <td>22346.000000</td>\n",
       "      <td>22346.000000</td>\n",
       "    </tr>\n",
       "  </tbody>\n",
       "</table>\n",
       "<p>8 rows × 145 columns</p>\n",
       "</div>"
      ],
      "text/plain": [
       "             IDLink           TS1           TS2           TS3           TS4  \\\n",
       "count  18531.000000  18531.000000  18531.000000  18531.000000  18531.000000   \n",
       "mean   27787.249312     -0.404349      0.050888      0.482867      1.030813   \n",
       "std    16773.306005      6.008014      7.880239      9.488771     11.862505   \n",
       "min      101.000000     -1.000000     -1.000000     -1.000000     -1.000000   \n",
       "25%    13123.500000     -1.000000     -1.000000     -1.000000     -1.000000   \n",
       "50%    26498.000000     -1.000000     -1.000000     -1.000000     -1.000000   \n",
       "75%    43230.500000     -1.000000     -1.000000     -1.000000      0.000000   \n",
       "max    58450.000000    619.000000    642.000000    671.000000    703.000000   \n",
       "\n",
       "                TS5           TS6           TS7           TS8           TS9  \\\n",
       "count  18531.000000  18531.000000  18531.000000  18531.000000  18531.000000   \n",
       "mean       1.376073      1.671847      2.145972      2.444390      2.673574   \n",
       "std       13.479256     14.987492     20.241950     21.704254     22.345765   \n",
       "min       -1.000000     -1.000000     -1.000000     -1.000000     -1.000000   \n",
       "25%       -1.000000     -1.000000     -1.000000     -1.000000     -1.000000   \n",
       "50%       -1.000000     -1.000000     -1.000000     -1.000000     -1.000000   \n",
       "75%        0.000000      0.000000      0.000000      0.000000      0.000000   \n",
       "max      706.000000    803.000000   1583.000000   1583.000000   1583.000000   \n",
       "\n",
       "           ...              TS135         TS136         TS137         TS138  \\\n",
       "count      ...       18531.000000  18531.000000  18531.000000  18531.000000   \n",
       "mean       ...          36.434623     36.501160     36.614646     36.713237   \n",
       "std        ...         343.225233    343.314145    343.461181    343.624407   \n",
       "min        ...          -1.000000     -1.000000     -1.000000     -1.000000   \n",
       "25%        ...           1.000000      1.000000      1.000000      1.000000   \n",
       "50%        ...           5.000000      5.000000      5.000000      5.000000   \n",
       "75%        ...          17.000000     17.000000     17.000000     17.000000   \n",
       "max        ...       22346.000000  22346.000000  22346.000000  22346.000000   \n",
       "\n",
       "              TS139         TS140         TS141         TS142         TS143  \\\n",
       "count  18531.000000  18531.000000  18531.000000  18531.000000  18531.000000   \n",
       "mean      36.783606     36.843344     36.950785     36.988614     37.045599   \n",
       "std      343.756029    343.823600    343.912179    343.935359    344.021060   \n",
       "min       -1.000000     -1.000000     -1.000000     -1.000000     -1.000000   \n",
       "25%        1.000000      1.000000      1.000000      1.000000      1.000000   \n",
       "50%        5.000000      5.000000      5.000000      5.000000      5.000000   \n",
       "75%       17.000000     17.000000     18.000000     18.000000     18.000000   \n",
       "max    22346.000000  22346.000000  22346.000000  22346.000000  22346.000000   \n",
       "\n",
       "              TS144  \n",
       "count  18531.000000  \n",
       "mean      37.081863  \n",
       "std      344.050610  \n",
       "min       -1.000000  \n",
       "25%        1.000000  \n",
       "50%        5.000000  \n",
       "75%       18.000000  \n",
       "max    22346.000000  \n",
       "\n",
       "[8 rows x 145 columns]"
      ]
     },
     "execution_count": 175,
     "metadata": {},
     "output_type": "execute_result"
    }
   ],
   "source": [
    "fbm.describe()"
   ]
  },
  {
   "cell_type": "code",
   "execution_count": 176,
   "metadata": {},
   "outputs": [],
   "source": [
    "df=pd.read_csv('News_Final.csv')"
   ]
  },
  {
   "cell_type": "code",
   "execution_count": 177,
   "metadata": {},
   "outputs": [],
   "source": [
    "df = df.drop(df[df.Topic == 'obama'].index)\n",
    "df = df.drop(df[df.Topic == 'economy'].index)"
   ]
  },
  {
   "cell_type": "code",
   "execution_count": 178,
   "metadata": {},
   "outputs": [],
   "source": [
    "mdf=df[df.Topic=='microsoft']"
   ]
  },
  {
   "cell_type": "code",
   "execution_count": 179,
   "metadata": {},
   "outputs": [],
   "source": [
    "pdf=df[df.Topic=='palestine']"
   ]
  },
  {
   "cell_type": "code",
   "execution_count": 181,
   "metadata": {},
   "outputs": [
    {
     "data": {
      "text/plain": [
       "<Figure size 864x864 with 0 Axes>"
      ]
     },
     "metadata": {},
     "output_type": "display_data"
    },
    {
     "data": {
      "image/png": "[encoded data removed]",
      "text/plain": [
       "<Figure size 432x288 with 1 Axes>"
      ]
     },
     "metadata": {
      "needs_background": "light"
     },
     "output_type": "display_data"
    }
   ],
   "source": [
    "plt.figure(figsize=(12,12))\n",
    "df.groupby('Source')['Facebook','GooglePlus','LinkedIn'].agg('mean').sort_values(by=['Facebook'],ascending=False).head().plot(kind=\"bar\")\n",
    "plt.xticks(rotation=0)\n",
    "plt.title('Poularity Score: Top 5 Sources')\n",
    "plt.ylabel('Poularity Score')\n",
    "plt.show()"
   ]
  },
  {
   "cell_type": "code",
   "execution_count": null,
   "metadata": {},
   "outputs": [],
   "source": []
  },
  {
   "cell_type": "code",
   "execution_count": 171,
   "metadata": {
    "scrolled": true
   },
   "outputs": [
    {
     "data": {
      "image/png": "[encoded data removed]",
      "text/plain": [
       "<Figure size 864x576 with 1 Axes>"
      ]
     },
     "metadata": {
      "needs_background": "light"
     },
     "output_type": "display_data"
    }
   ],
   "source": [
    "plt.figure(figsize=(12,8))\n",
    "mdf.groupby('Source')['Facebook'].agg('mean').sort_values(ascending=False).head().plot(kind=\"bar\")   # top 5 sources for microsoft news based on popularity in Facebook \n",
    "plt.xticks(rotation=0)\n",
    "plt.title('Poularity Score : Top 5 Sources')\n",
    "plt.ylabel('Poularity Score')\n",
    "plt.show()"
   ]
  },
  {
   "cell_type": "code",
   "execution_count": 172,
   "metadata": {},
   "outputs": [
    {
     "data": {
      "image/png": "[encoded data removed]",
      "text/plain": [
       "<Figure size 864x576 with 1 Axes>"
      ]
     },
     "metadata": {
      "needs_background": "light"
     },
     "output_type": "display_data"
    }
   ],
   "source": [
    "plt.figure(figsize=(12,8))\n",
    "pdf.groupby('Source')['Facebook'].agg('mean').sort_values(ascending=False).head().plot(kind=\"bar\")     # top 5 sources for palestine news based on popularity in Facebook\n",
    "plt.xticks(rotation=0)\n",
    "plt.title('Poularity Score : Top 5 Sources')\n",
    "plt.ylabel('Poularity Score')\n",
    "plt.show()\n",
    "\n"
   ]
  },
  {
   "cell_type": "code",
   "execution_count": null,
   "metadata": {
    "scrolled": true
   },
   "outputs": [],
   "source": [
    "\n"
   ]
  },
  {
   "cell_type": "code",
   "execution_count": 156,
   "metadata": {},
   "outputs": [
    {
     "data": {
      "image/png": "[encoded data removed]",
      "text/plain": [
       "<Figure size 864x576 with 1 Axes>"
      ]
     },
     "metadata": {
      "needs_background": "light"
     },
     "output_type": "display_data"
    }
   ],
   "source": [
    "plt.figure(figsize=(12,8))\n",
    "mdf.groupby('Source')['GooglePlus'].agg('mean').sort_values(ascending=False).head().plot(kind=\"bar\")      # top 5 sources for palestine news based on popularity in Google Plus\n",
    "plt.xticks(rotation=0)\n",
    "plt.title('Poularity Score: Top 5 Sources')\n",
    "plt.ylabel('Poularity Score')\n",
    "plt.show()"
   ]
  },
  {
   "cell_type": "code",
   "execution_count": 157,
   "metadata": {},
   "outputs": [
    {
     "data": {
      "image/png": "[encoded data removed]",
      "text/plain": [
       "<Figure size 864x576 with 1 Axes>"
      ]
     },
     "metadata": {
      "needs_background": "light"
     },
     "output_type": "display_data"
    }
   ],
   "source": [
    "plt.figure(figsize=(12,8))\n",
    "pdf.groupby('Source')['GooglePlus'].agg('mean').sort_values(ascending=False).head().plot(kind=\"bar\")        # top 5 sources for palestine news based on popularity in Google Plus\n",
    "plt.xticks(rotation=0)\n",
    "plt.title('Poularity Score : Top 5 Sources')\n",
    "plt.ylabel('Poularity Score')\n",
    "plt.show()\n",
    "\n",
    "\n"
   ]
  },
  {
   "cell_type": "code",
   "execution_count": 158,
   "metadata": {},
   "outputs": [
    {
     "data": {
      "image/png": "[encoded data removed]",
      "text/plain": [
       "<Figure size 864x576 with 1 Axes>"
      ]
     },
     "metadata": {
      "needs_background": "light"
     },
     "output_type": "display_data"
    }
   ],
   "source": [
    "plt.figure(figsize=(12,8))\n",
    "mdf.groupby('Source')['LinkedIn'].agg('mean').sort_values(ascending=False).head().plot(kind=\"bar\")        # top 5 sources for palestine news based on popularity in LinkedIN\n",
    "plt.xticks(rotation=0)\n",
    "plt.title('Poularity Score : Top 5 Sources')\n",
    "plt.ylabel('Poularity Score')\n",
    "plt.show()\n",
    "\n"
   ]
  },
  {
   "cell_type": "code",
   "execution_count": 123,
   "metadata": {},
   "outputs": [
    {
     "data": {
      "text/plain": [
       "Source\n",
       "Ars Technica           131.000000\n",
       "ArabianBusiness.com     79.833333\n",
       "DefenseNews.com         77.500000\n",
       "Wamda                   47.833333\n",
       "pv magazine             47.000000\n",
       "Name: LinkedIn, dtype: float64"
      ]
     },
     "execution_count": 123,
     "metadata": {},
     "output_type": "execute_result"
    }
   ],
   "source": [
    "pdf.groupby('Source')['LinkedIn'].agg('mean').sort_values(ascending=False).head()  # top 5 sources for palestine news based on popularity in LinkedIN"
   ]
  },
  {
   "cell_type": "code",
   "execution_count": 124,
   "metadata": {},
   "outputs": [],
   "source": [
    "df=df[(df.Facebook>0)&(df.GooglePlus>0)&(df.LinkedIn>0)]"
   ]
  },
  {
   "cell_type": "code",
   "execution_count": 125,
   "metadata": {},
   "outputs": [
    {
     "data": {
      "text/plain": [
       "array([ 11,   4,  49, ..., 197,   3,   6], dtype=int64)"
      ]
     },
     "execution_count": 125,
     "metadata": {},
     "output_type": "execute_result"
    }
   ],
   "source": [
    "x1=df.Facebook.values\n",
    "x1"
   ]
  },
  {
   "cell_type": "code",
   "execution_count": null,
   "metadata": {},
   "outputs": [],
   "source": []
  },
  {
   "cell_type": "code",
   "execution_count": 126,
   "metadata": {},
   "outputs": [],
   "source": [
    "from sklearn.preprocessing import StandardScaler\n",
    "sc=StandardScaler()\n",
    "x1=sc.fit_transform(x.reshape(-1,1))\n",
    "x1\n",
    "df.Facebook=np.abs(x1)"
   ]
  },
  {
   "cell_type": "code",
   "execution_count": 127,
   "metadata": {},
   "outputs": [
    {
     "name": "stderr",
     "output_type": "stream",
     "text": [
      "C:\\Users\\lenovo\\Anaconda3\\lib\\site-packages\\sklearn\\utils\\validation.py:595: DataConversionWarning: Data with input dtype int64 was converted to float64 by StandardScaler.\n",
      "  warnings.warn(msg, DataConversionWarning)\n",
      "C:\\Users\\lenovo\\Anaconda3\\lib\\site-packages\\sklearn\\utils\\validation.py:595: DataConversionWarning: Data with input dtype int64 was converted to float64 by StandardScaler.\n",
      "  warnings.warn(msg, DataConversionWarning)\n"
     ]
    }
   ],
   "source": [
    "x2=df.GooglePlus.values\n",
    "x2=sc.fit_transform(x2.reshape(-1,1))\n",
    "x2\n",
    "df.GooglePlus=np.abs(x2)"
   ]
  },
  {
   "cell_type": "code",
   "execution_count": 128,
   "metadata": {},
   "outputs": [],
   "source": [
    "x3=df.GooglePlus.values\n",
    "x3=sc.fit_transform(x3.reshape(-1,1))\n",
    "x3\n",
    "df.LinkedIn=np.abs(x3)"
   ]
  },
  {
   "cell_type": "code",
   "execution_count": 145,
   "metadata": {},
   "outputs": [
    {
     "data": {
      "text/plain": [
       "738      0.176501\n",
       "742      0.191440\n",
       "759      0.095403\n",
       "760      0.084733\n",
       "761      0.122279\n",
       "764      0.167964\n",
       "811      0.187172\n",
       "839      0.153025\n",
       "847      0.170098\n",
       "849      0.195708\n",
       "858      0.191440\n",
       "860      0.191440\n",
       "863      0.138086\n",
       "867      0.193574\n",
       "870      0.361303\n",
       "872      0.474413\n",
       "876      0.448803\n",
       "878      0.165830\n",
       "896      0.197842\n",
       "908      0.182903\n",
       "909      0.191440\n",
       "918      0.076196\n",
       "919      0.059123\n",
       "924      0.146623\n",
       "950      0.187172\n",
       "951      0.193574\n",
       "953      0.191440\n",
       "963      0.083865\n",
       "985      0.153025\n",
       "998      0.167964\n",
       "           ...   \n",
       "89837    0.374108\n",
       "89880    1.302461\n",
       "89892    0.138086\n",
       "90032    0.197842\n",
       "90218    0.062523\n",
       "90222    0.156426\n",
       "90242    0.155159\n",
       "90514    0.110342\n",
       "90660    0.095403\n",
       "90710    0.059123\n",
       "90826    0.121013\n",
       "90976    0.176501\n",
       "91279    0.172233\n",
       "91684    0.185037\n",
       "91738    0.012172\n",
       "91781    0.363438\n",
       "91838    0.187172\n",
       "91877    1.518010\n",
       "91913    0.174367\n",
       "91935    0.209779\n",
       "91943    0.197842\n",
       "92032    0.170098\n",
       "92202    0.256730\n",
       "92249    0.640876\n",
       "92432    0.091135\n",
       "92442    0.031379\n",
       "92509    0.020708\n",
       "92801    0.220450\n",
       "93028    0.193574\n",
       "93213    0.187172\n",
       "Name: Facebook, Length: 7758, dtype: float64"
      ]
     },
     "execution_count": 145,
     "metadata": {},
     "output_type": "execute_result"
    }
   ],
   "source": [
    "df[(df.Facebook<3)]['Facebook']"
   ]
  },
  {
   "cell_type": "code",
   "execution_count": 139,
   "metadata": {},
   "outputs": [],
   "source": [
    "\n",
    "df.Facebook=df[(df.Facebook<3) ]['Facebook']\n",
    "df.GooglePlus=df[(df.GooglePlus<3)]['GooglePlus']\n",
    "df.LinkedIn=df[(df.LinkedIn<3) ]['LinkedIn']"
   ]
  },
  {
   "cell_type": "code",
   "execution_count": 144,
   "metadata": {},
   "outputs": [
    {
     "data": {
      "text/plain": [
       "<Figure size 864x576 with 0 Axes>"
      ]
     },
     "metadata": {},
     "output_type": "display_data"
    },
    {
     "data": {
      "image/png": "[encoded data removed]",
      "text/plain": [
       "<Figure size 432x288 with 1 Axes>"
      ]
     },
     "metadata": {
      "needs_background": "light"
     },
     "output_type": "display_data"
    }
   ],
   "source": [
    "plt.figure(figsize=(12,8))\n",
    "df.groupby(['Topic'])['Facebook','GooglePlus','LinkedIn'].agg('mean').plot(kind=\"bar\")  # Average Popularity across different Social Media Platforn\n",
    "plt.show()"
   ]
  },
  {
   "cell_type": "code",
   "execution_count": 132,
   "metadata": {},
   "outputs": [
    {
     "data": {
      "text/html": [
       "<div>\n",
       "<style scoped>\n",
       "    .dataframe tbody tr th:only-of-type {\n",
       "        vertical-align: middle;\n",
       "    }\n",
       "\n",
       "    .dataframe tbody tr th {\n",
       "        vertical-align: top;\n",
       "    }\n",
       "\n",
       "    .dataframe thead th {\n",
       "        text-align: right;\n",
       "    }\n",
       "</style>\n",
       "<table border=\"1\" class=\"dataframe\">\n",
       "  <thead>\n",
       "    <tr style=\"text-align: right;\">\n",
       "      <th></th>\n",
       "      <th>Facebook</th>\n",
       "      <th>GooglePlus</th>\n",
       "      <th>LinkedIn</th>\n",
       "    </tr>\n",
       "    <tr>\n",
       "      <th>Source</th>\n",
       "      <th></th>\n",
       "      <th></th>\n",
       "      <th></th>\n",
       "    </tr>\n",
       "  </thead>\n",
       "  <tbody>\n",
       "    <tr>\n",
       "      <th>Washington Free Beacon</th>\n",
       "      <td>2.435692</td>\n",
       "      <td>0.783763</td>\n",
       "      <td>0.450677</td>\n",
       "    </tr>\n",
       "    <tr>\n",
       "      <th>Memphis Commercial Appeal</th>\n",
       "      <td>2.320448</td>\n",
       "      <td>0.296515</td>\n",
       "      <td>0.072460</td>\n",
       "    </tr>\n",
       "    <tr>\n",
       "      <th>KLTV 7 Tyler</th>\n",
       "      <td>1.955509</td>\n",
       "      <td>0.296515</td>\n",
       "      <td>0.072460</td>\n",
       "    </tr>\n",
       "    <tr>\n",
       "      <th>KOMO News</th>\n",
       "      <td>1.912826</td>\n",
       "      <td>0.241116</td>\n",
       "      <td>0.131939</td>\n",
       "    </tr>\n",
       "    <tr>\n",
       "      <th>The Huffington Post</th>\n",
       "      <td>1.754900</td>\n",
       "      <td>0.102619</td>\n",
       "      <td>0.280637</td>\n",
       "    </tr>\n",
       "  </tbody>\n",
       "</table>\n",
       "</div>"
      ],
      "text/plain": [
       "                           Facebook  GooglePlus  LinkedIn\n",
       "Source                                                   \n",
       "Washington Free Beacon     2.435692    0.783763  0.450677\n",
       "Memphis Commercial Appeal  2.320448    0.296515  0.072460\n",
       "KLTV 7 Tyler               1.955509    0.296515  0.072460\n",
       "KOMO News                  1.912826    0.241116  0.131939\n",
       "The Huffington Post        1.754900    0.102619  0.280637"
      ]
     },
     "execution_count": 132,
     "metadata": {},
     "output_type": "execute_result"
    }
   ],
   "source": [
    "df.groupby(['Source'])['Facebook','GooglePlus','LinkedIn'].agg('mean').sort_values(by='Facebook',ascending=False).head()"
   ]
  },
  {
   "cell_type": "code",
   "execution_count": 133,
   "metadata": {},
   "outputs": [
    {
     "data": {
      "text/html": [
       "<div>\n",
       "<style scoped>\n",
       "    .dataframe tbody tr th:only-of-type {\n",
       "        vertical-align: middle;\n",
       "    }\n",
       "\n",
       "    .dataframe tbody tr th {\n",
       "        vertical-align: top;\n",
       "    }\n",
       "\n",
       "    .dataframe thead th {\n",
       "        text-align: right;\n",
       "    }\n",
       "</style>\n",
       "<table border=\"1\" class=\"dataframe\">\n",
       "  <thead>\n",
       "    <tr style=\"text-align: right;\">\n",
       "      <th></th>\n",
       "      <th>Facebook</th>\n",
       "      <th>GooglePlus</th>\n",
       "      <th>LinkedIn</th>\n",
       "    </tr>\n",
       "    <tr>\n",
       "      <th>Source</th>\n",
       "      <th></th>\n",
       "      <th></th>\n",
       "      <th></th>\n",
       "    </tr>\n",
       "  </thead>\n",
       "  <tbody>\n",
       "    <tr>\n",
       "      <th>Alternative Information Center (AIC)</th>\n",
       "      <td>0.751852</td>\n",
       "      <td>2.279533</td>\n",
       "      <td>2.056618</td>\n",
       "    </tr>\n",
       "    <tr>\n",
       "      <th>MSNBC</th>\n",
       "      <td>NaN</td>\n",
       "      <td>1.365451</td>\n",
       "      <td>1.075210</td>\n",
       "    </tr>\n",
       "    <tr>\n",
       "      <th>Search Engine Land</th>\n",
       "      <td>0.122279</td>\n",
       "      <td>1.261578</td>\n",
       "      <td>0.963686</td>\n",
       "    </tr>\n",
       "    <tr>\n",
       "      <th>Dazeinfo (blog)</th>\n",
       "      <td>0.098071</td>\n",
       "      <td>1.067682</td>\n",
       "      <td>0.959104</td>\n",
       "    </tr>\n",
       "    <tr>\n",
       "      <th>WIRED</th>\n",
       "      <td>0.423054</td>\n",
       "      <td>1.044457</td>\n",
       "      <td>0.819994</td>\n",
       "    </tr>\n",
       "  </tbody>\n",
       "</table>\n",
       "</div>"
      ],
      "text/plain": [
       "                                      Facebook  GooglePlus  LinkedIn\n",
       "Source                                                              \n",
       "Alternative Information Center (AIC)  0.751852    2.279533  2.056618\n",
       "MSNBC                                      NaN    1.365451  1.075210\n",
       "Search Engine Land                    0.122279    1.261578  0.963686\n",
       "Dazeinfo (blog)                       0.098071    1.067682  0.959104\n",
       "WIRED                                 0.423054    1.044457  0.819994"
      ]
     },
     "execution_count": 133,
     "metadata": {},
     "output_type": "execute_result"
    }
   ],
   "source": [
    "df.groupby(['Source'])['Facebook','GooglePlus','LinkedIn'].agg('mean').sort_values(by='GooglePlus',ascending=False).head()"
   ]
  },
  {
   "cell_type": "code",
   "execution_count": 134,
   "metadata": {},
   "outputs": [
    {
     "data": {
      "text/html": [
       "<div>\n",
       "<style scoped>\n",
       "    .dataframe tbody tr th:only-of-type {\n",
       "        vertical-align: middle;\n",
       "    }\n",
       "\n",
       "    .dataframe tbody tr th {\n",
       "        vertical-align: top;\n",
       "    }\n",
       "\n",
       "    .dataframe thead th {\n",
       "        text-align: right;\n",
       "    }\n",
       "</style>\n",
       "<table border=\"1\" class=\"dataframe\">\n",
       "  <thead>\n",
       "    <tr style=\"text-align: right;\">\n",
       "      <th></th>\n",
       "      <th>Facebook</th>\n",
       "      <th>GooglePlus</th>\n",
       "      <th>LinkedIn</th>\n",
       "    </tr>\n",
       "    <tr>\n",
       "      <th>Source</th>\n",
       "      <th></th>\n",
       "      <th></th>\n",
       "      <th></th>\n",
       "    </tr>\n",
       "  </thead>\n",
       "  <tbody>\n",
       "    <tr>\n",
       "      <th>Alternative Information Center (AIC)</th>\n",
       "      <td>0.751852</td>\n",
       "      <td>2.279533</td>\n",
       "      <td>2.056618</td>\n",
       "    </tr>\n",
       "    <tr>\n",
       "      <th>MSNBC</th>\n",
       "      <td>NaN</td>\n",
       "      <td>1.365451</td>\n",
       "      <td>1.075210</td>\n",
       "    </tr>\n",
       "    <tr>\n",
       "      <th>The Unofficial Apple Weblog</th>\n",
       "      <td>0.125915</td>\n",
       "      <td>1.005359</td>\n",
       "      <td>1.040888</td>\n",
       "    </tr>\n",
       "    <tr>\n",
       "      <th>Search Engine Land</th>\n",
       "      <td>0.122279</td>\n",
       "      <td>1.261578</td>\n",
       "      <td>0.963686</td>\n",
       "    </tr>\n",
       "    <tr>\n",
       "      <th>Dazeinfo (blog)</th>\n",
       "      <td>0.098071</td>\n",
       "      <td>1.067682</td>\n",
       "      <td>0.959104</td>\n",
       "    </tr>\n",
       "  </tbody>\n",
       "</table>\n",
       "</div>"
      ],
      "text/plain": [
       "                                      Facebook  GooglePlus  LinkedIn\n",
       "Source                                                              \n",
       "Alternative Information Center (AIC)  0.751852    2.279533  2.056618\n",
       "MSNBC                                      NaN    1.365451  1.075210\n",
       "The Unofficial Apple Weblog           0.125915    1.005359  1.040888\n",
       "Search Engine Land                    0.122279    1.261578  0.963686\n",
       "Dazeinfo (blog)                       0.098071    1.067682  0.959104"
      ]
     },
     "execution_count": 134,
     "metadata": {},
     "output_type": "execute_result"
    }
   ],
   "source": [
    "\n",
    "df.groupby(['Source'])['Facebook','GooglePlus','LinkedIn'].agg('mean').sort_values(by='LinkedIn',ascending=False).head()"
   ]
  },
  {
   "cell_type": "code",
   "execution_count": 135,
   "metadata": {},
   "outputs": [],
   "source": [
    "df['Date'] = pd.to_datetime(df['PublishDate'])"
   ]
  },
  {
   "cell_type": "code",
   "execution_count": 146,
   "metadata": {},
   "outputs": [],
   "source": [
    "df['month'] = df['Date'].dt.month\n",
    "df['day'] = df['Date'].dt.day\n",
    "df['year'] = df['Date'].dt.year\n",
    "df['month_name'] = df['Date'].dt.strftime('%b')\n",
    "df['weekday'] = df['Date'].dt.strftime('%A')"
   ]
  },
  {
   "cell_type": "code",
   "execution_count": 147,
   "metadata": {},
   "outputs": [],
   "source": [
    "mdf=df[df.Topic=='microsoft']\n",
    "pdf=df[df.Topic=='palestine']"
   ]
  },
  {
   "cell_type": "code",
   "execution_count": 148,
   "metadata": {},
   "outputs": [
    {
     "data": {
      "text/plain": [
       "[<matplotlib.lines.Line2D at 0x197f452b978>]"
      ]
     },
     "execution_count": 148,
     "metadata": {},
     "output_type": "execute_result"
    },
    {
     "data": {
      "image/png": "[encoded data removed]",
      "text/plain": [
       "<Figure size 432x288 with 1 Axes>"
      ]
     },
     "metadata": {
      "needs_background": "light"
     },
     "output_type": "display_data"
    }
   ],
   "source": [
    "plt.plot(mdf.Facebook)"
   ]
  },
  {
   "cell_type": "code",
   "execution_count": null,
   "metadata": {},
   "outputs": [],
   "source": []
  },
  {
   "cell_type": "code",
   "execution_count": null,
   "metadata": {},
   "outputs": [],
   "source": []
  },
  {
   "cell_type": "code",
   "execution_count": 152,
   "metadata": {},
   "outputs": [
    {
     "data": {
      "text/plain": [
       "<matplotlib.axes._subplots.AxesSubplot at 0x197f45a2c18>"
      ]
     },
     "execution_count": 152,
     "metadata": {},
     "output_type": "execute_result"
    },
    {
     "data": {
      "image/png": "[encoded data removed]",
      "text/plain": [
       "<Figure size 432x288 with 1 Axes>"
      ]
     },
     "metadata": {
      "needs_background": "light"
     },
     "output_type": "display_data"
    }
   ],
   "source": [
    "df.groupby('Source')['Facebook'].agg('mean').sort_values(ascending=False).head().plot(kind=\"bar\")"
   ]
  },
  {
   "cell_type": "code",
   "execution_count": null,
   "metadata": {},
   "outputs": [],
   "source": []
  }
 ],
 "metadata": {
  "kernelspec": {
   "display_name": "Python 3",
   "language": "python",
   "name": "python3"
  },
  "language_info": {
   "codemirror_mode": {
    "name": "ipython",
    "version": 3
   },
   "file_extension": ".py",
   "mimetype": "text/x-python",
   "name": "python",
   "nbconvert_exporter": "python",
   "pygments_lexer": "ipython3",
   "version": "3.7.0"
  }
 },
 "nbformat": 4,
 "nbformat_minor": 2
}
