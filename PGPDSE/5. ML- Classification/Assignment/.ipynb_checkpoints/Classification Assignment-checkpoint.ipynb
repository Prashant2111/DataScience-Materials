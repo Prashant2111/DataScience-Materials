{
 "cells": [
  {
   "cell_type": "code",
   "execution_count": 224,
   "metadata": {},
   "outputs": [],
   "source": [
    "import numpy as np\n",
    "import pandas as pd\n",
    "import seaborn as sns\n",
    "import matplotlib.pyplot as plt"
   ]
  },
  {
   "cell_type": "code",
   "execution_count": 225,
   "metadata": {},
   "outputs": [
    {
     "data": {
      "text/html": [
       "<div>\n",
       "<style scoped>\n",
       "    .dataframe tbody tr th:only-of-type {\n",
       "        vertical-align: middle;\n",
       "    }\n",
       "\n",
       "    .dataframe tbody tr th {\n",
       "        vertical-align: top;\n",
       "    }\n",
       "\n",
       "    .dataframe thead th {\n",
       "        text-align: right;\n",
       "    }\n",
       "</style>\n",
       "<table border=\"1\" class=\"dataframe\">\n",
       "  <thead>\n",
       "    <tr style=\"text-align: right;\">\n",
       "      <th></th>\n",
       "      <th>Column Name</th>\n",
       "      <th>Description</th>\n",
       "    </tr>\n",
       "  </thead>\n",
       "  <tbody>\n",
       "    <tr>\n",
       "      <th>0</th>\n",
       "      <td>CUST_ID</td>\n",
       "      <td>Customer ID - Unique ID</td>\n",
       "    </tr>\n",
       "    <tr>\n",
       "      <th>1</th>\n",
       "      <td>TARGET</td>\n",
       "      <td>Target Field - 1: Responder, 0: Non-Responder</td>\n",
       "    </tr>\n",
       "    <tr>\n",
       "      <th>2</th>\n",
       "      <td>AGE</td>\n",
       "      <td>Age of the customer in years</td>\n",
       "    </tr>\n",
       "    <tr>\n",
       "      <th>3</th>\n",
       "      <td>GENDER</td>\n",
       "      <td>Gender</td>\n",
       "    </tr>\n",
       "    <tr>\n",
       "      <th>4</th>\n",
       "      <td>BALANCE</td>\n",
       "      <td>Average Monthly Balance</td>\n",
       "    </tr>\n",
       "    <tr>\n",
       "      <th>5</th>\n",
       "      <td>OCCUPATION</td>\n",
       "      <td>Occupation</td>\n",
       "    </tr>\n",
       "    <tr>\n",
       "      <th>6</th>\n",
       "      <td>AGE_BKT</td>\n",
       "      <td>Age Bucket</td>\n",
       "    </tr>\n",
       "    <tr>\n",
       "      <th>7</th>\n",
       "      <td>SCR</td>\n",
       "      <td>Generic Marketing Score</td>\n",
       "    </tr>\n",
       "    <tr>\n",
       "      <th>8</th>\n",
       "      <td>HOLDING_PERIOD</td>\n",
       "      <td>Ability to hold money in the account (Range 0 ...</td>\n",
       "    </tr>\n",
       "    <tr>\n",
       "      <th>9</th>\n",
       "      <td>ACC_TYPE</td>\n",
       "      <td>Account Type - Saving / Current</td>\n",
       "    </tr>\n",
       "    <tr>\n",
       "      <th>10</th>\n",
       "      <td>ACC_OP_DATE</td>\n",
       "      <td>Account Open Date</td>\n",
       "    </tr>\n",
       "    <tr>\n",
       "      <th>11</th>\n",
       "      <td>LEN_OF_RLTN_IN_MNTH</td>\n",
       "      <td>Length of Relationship in Months</td>\n",
       "    </tr>\n",
       "    <tr>\n",
       "      <th>12</th>\n",
       "      <td>NO_OF_L_CR_TXNS</td>\n",
       "      <td>No. of Credit Transactions</td>\n",
       "    </tr>\n",
       "    <tr>\n",
       "      <th>13</th>\n",
       "      <td>NO_OF_L_DR_TXNS</td>\n",
       "      <td>No. of Debit Transactions</td>\n",
       "    </tr>\n",
       "    <tr>\n",
       "      <th>14</th>\n",
       "      <td>TOT_NO_OF_L_TXNS</td>\n",
       "      <td>Total No. of Transaction</td>\n",
       "    </tr>\n",
       "    <tr>\n",
       "      <th>15</th>\n",
       "      <td>NO_OF_BR_CSH_WDL_DR_TXNS</td>\n",
       "      <td>No. of Branch Cash Withdrawal Transactions</td>\n",
       "    </tr>\n",
       "    <tr>\n",
       "      <th>16</th>\n",
       "      <td>NO_OF_ATM_DR_TXNS</td>\n",
       "      <td>No. of ATM Debit Transactions</td>\n",
       "    </tr>\n",
       "    <tr>\n",
       "      <th>17</th>\n",
       "      <td>NO_OF_NET_DR_TXNS</td>\n",
       "      <td>No. of Net Debit Transactions</td>\n",
       "    </tr>\n",
       "    <tr>\n",
       "      <th>18</th>\n",
       "      <td>NO_OF_MOB_DR_TXNS</td>\n",
       "      <td>No. of Mobile Banking Debit Transactions</td>\n",
       "    </tr>\n",
       "    <tr>\n",
       "      <th>19</th>\n",
       "      <td>NO_OF_CHQ_DR_TXNS</td>\n",
       "      <td>No. of Cheque Debit Transactions</td>\n",
       "    </tr>\n",
       "    <tr>\n",
       "      <th>20</th>\n",
       "      <td>FLG_HAS_CC</td>\n",
       "      <td>Has Credit Card - 1: Yes, 0: No</td>\n",
       "    </tr>\n",
       "    <tr>\n",
       "      <th>21</th>\n",
       "      <td>AMT_ATM_DR</td>\n",
       "      <td>Amount Withdrawn from ATM</td>\n",
       "    </tr>\n",
       "    <tr>\n",
       "      <th>22</th>\n",
       "      <td>AMT_BR_CSH_WDL_DR</td>\n",
       "      <td>Amount cash withdrawn from Branch</td>\n",
       "    </tr>\n",
       "    <tr>\n",
       "      <th>23</th>\n",
       "      <td>AMT_CHQ_DR</td>\n",
       "      <td>Amount debited by Cheque Transactions</td>\n",
       "    </tr>\n",
       "    <tr>\n",
       "      <th>24</th>\n",
       "      <td>AMT_NET_DR</td>\n",
       "      <td>Amount debited by Net Transactions</td>\n",
       "    </tr>\n",
       "    <tr>\n",
       "      <th>25</th>\n",
       "      <td>AMT_MOB_DR</td>\n",
       "      <td>Amount debited by Mobile Banking Transactions</td>\n",
       "    </tr>\n",
       "    <tr>\n",
       "      <th>26</th>\n",
       "      <td>AMT_L_DR</td>\n",
       "      <td>Total Amount Debited</td>\n",
       "    </tr>\n",
       "    <tr>\n",
       "      <th>27</th>\n",
       "      <td>FLG_HAS_ANY_CHGS</td>\n",
       "      <td>Has any banking charges</td>\n",
       "    </tr>\n",
       "    <tr>\n",
       "      <th>28</th>\n",
       "      <td>AMT_OTH_BK_ATM_USG_CHGS</td>\n",
       "      <td>Amount charged by way of the Other Bank ATM usage</td>\n",
       "    </tr>\n",
       "    <tr>\n",
       "      <th>29</th>\n",
       "      <td>AMT_MIN_BAL_NMC_CHGS</td>\n",
       "      <td>Amount charged by way Minimum Balance not main...</td>\n",
       "    </tr>\n",
       "    <tr>\n",
       "      <th>30</th>\n",
       "      <td>NO_OF_IW_CHQ_BNC_TXNS</td>\n",
       "      <td>Amount charged by way Inward Cheque Bounce</td>\n",
       "    </tr>\n",
       "    <tr>\n",
       "      <th>31</th>\n",
       "      <td>NO_OF_OW_CHQ_BNC_TXNS</td>\n",
       "      <td>Amount charged by way Outward Cheque Bounce</td>\n",
       "    </tr>\n",
       "    <tr>\n",
       "      <th>32</th>\n",
       "      <td>AVG_AMT_PER_ATM_TXN</td>\n",
       "      <td>Avg. Amt withdrawn per ATM Transaction</td>\n",
       "    </tr>\n",
       "    <tr>\n",
       "      <th>33</th>\n",
       "      <td>AVG_AMT_PER_CSH_WDL_TXN</td>\n",
       "      <td>Avg. Amt withdrawn per Cash Withdrawal Transac...</td>\n",
       "    </tr>\n",
       "    <tr>\n",
       "      <th>34</th>\n",
       "      <td>AVG_AMT_PER_CHQ_TXN</td>\n",
       "      <td>Avg. Amt debited per Cheque Transaction</td>\n",
       "    </tr>\n",
       "    <tr>\n",
       "      <th>35</th>\n",
       "      <td>AVG_AMT_PER_NET_TXN</td>\n",
       "      <td>Avg. Amt debited per Net Transaction</td>\n",
       "    </tr>\n",
       "    <tr>\n",
       "      <th>36</th>\n",
       "      <td>AVG_AMT_PER_MOB_TXN</td>\n",
       "      <td>Avg. Amt debited per Mobile Banking Transaction</td>\n",
       "    </tr>\n",
       "    <tr>\n",
       "      <th>37</th>\n",
       "      <td>FLG_HAS_NOMINEE</td>\n",
       "      <td>Has Nominee - 1: Yes, 0: No</td>\n",
       "    </tr>\n",
       "    <tr>\n",
       "      <th>38</th>\n",
       "      <td>FLG_HAS_OLD_LOAN</td>\n",
       "      <td>Has any earlier loan - 1: Yes, 0: No</td>\n",
       "    </tr>\n",
       "    <tr>\n",
       "      <th>39</th>\n",
       "      <td>random</td>\n",
       "      <td>Random Number</td>\n",
       "    </tr>\n",
       "  </tbody>\n",
       "</table>\n",
       "</div>"
      ],
      "text/plain": [
       "                 Column Name  \\\n",
       "0                    CUST_ID   \n",
       "1                     TARGET   \n",
       "2                        AGE   \n",
       "3                     GENDER   \n",
       "4                    BALANCE   \n",
       "5                 OCCUPATION   \n",
       "6                    AGE_BKT   \n",
       "7                        SCR   \n",
       "8             HOLDING_PERIOD   \n",
       "9                   ACC_TYPE   \n",
       "10               ACC_OP_DATE   \n",
       "11       LEN_OF_RLTN_IN_MNTH   \n",
       "12           NO_OF_L_CR_TXNS   \n",
       "13           NO_OF_L_DR_TXNS   \n",
       "14          TOT_NO_OF_L_TXNS   \n",
       "15  NO_OF_BR_CSH_WDL_DR_TXNS   \n",
       "16         NO_OF_ATM_DR_TXNS   \n",
       "17         NO_OF_NET_DR_TXNS   \n",
       "18         NO_OF_MOB_DR_TXNS   \n",
       "19         NO_OF_CHQ_DR_TXNS   \n",
       "20                FLG_HAS_CC   \n",
       "21                AMT_ATM_DR   \n",
       "22         AMT_BR_CSH_WDL_DR   \n",
       "23                AMT_CHQ_DR   \n",
       "24                AMT_NET_DR   \n",
       "25                AMT_MOB_DR   \n",
       "26                  AMT_L_DR   \n",
       "27          FLG_HAS_ANY_CHGS   \n",
       "28   AMT_OTH_BK_ATM_USG_CHGS   \n",
       "29      AMT_MIN_BAL_NMC_CHGS   \n",
       "30     NO_OF_IW_CHQ_BNC_TXNS   \n",
       "31     NO_OF_OW_CHQ_BNC_TXNS   \n",
       "32       AVG_AMT_PER_ATM_TXN   \n",
       "33   AVG_AMT_PER_CSH_WDL_TXN   \n",
       "34       AVG_AMT_PER_CHQ_TXN   \n",
       "35       AVG_AMT_PER_NET_TXN   \n",
       "36       AVG_AMT_PER_MOB_TXN   \n",
       "37           FLG_HAS_NOMINEE   \n",
       "38          FLG_HAS_OLD_LOAN   \n",
       "39                    random   \n",
       "\n",
       "                                          Description  \n",
       "0                             Customer ID - Unique ID  \n",
       "1       Target Field - 1: Responder, 0: Non-Responder  \n",
       "2                        Age of the customer in years  \n",
       "3                                              Gender  \n",
       "4                             Average Monthly Balance  \n",
       "5                                          Occupation  \n",
       "6                                          Age Bucket  \n",
       "7                             Generic Marketing Score  \n",
       "8   Ability to hold money in the account (Range 0 ...  \n",
       "9                     Account Type - Saving / Current  \n",
       "10                                  Account Open Date  \n",
       "11                   Length of Relationship in Months  \n",
       "12                         No. of Credit Transactions  \n",
       "13                          No. of Debit Transactions  \n",
       "14                           Total No. of Transaction  \n",
       "15         No. of Branch Cash Withdrawal Transactions  \n",
       "16                      No. of ATM Debit Transactions  \n",
       "17                      No. of Net Debit Transactions  \n",
       "18           No. of Mobile Banking Debit Transactions  \n",
       "19                   No. of Cheque Debit Transactions  \n",
       "20                    Has Credit Card - 1: Yes, 0: No  \n",
       "21                          Amount Withdrawn from ATM  \n",
       "22                 Amount cash withdrawn from Branch   \n",
       "23              Amount debited by Cheque Transactions  \n",
       "24                 Amount debited by Net Transactions  \n",
       "25      Amount debited by Mobile Banking Transactions  \n",
       "26                               Total Amount Debited  \n",
       "27                            Has any banking charges  \n",
       "28  Amount charged by way of the Other Bank ATM usage  \n",
       "29  Amount charged by way Minimum Balance not main...  \n",
       "30         Amount charged by way Inward Cheque Bounce  \n",
       "31        Amount charged by way Outward Cheque Bounce  \n",
       "32             Avg. Amt withdrawn per ATM Transaction  \n",
       "33  Avg. Amt withdrawn per Cash Withdrawal Transac...  \n",
       "34            Avg. Amt debited per Cheque Transaction  \n",
       "35               Avg. Amt debited per Net Transaction  \n",
       "36    Avg. Amt debited per Mobile Banking Transaction  \n",
       "37                        Has Nominee - 1: Yes, 0: No  \n",
       "38               Has any earlier loan - 1: Yes, 0: No  \n",
       "39                                      Random Number  "
      ]
     },
     "execution_count": 225,
     "metadata": {},
     "output_type": "execute_result"
    }
   ],
   "source": [
    "metadata=pd.read_excel('PL_XSell_Metadata.xlsx')\n",
    "metadata"
   ]
  },
  {
   "cell_type": "code",
   "execution_count": 226,
   "metadata": {},
   "outputs": [
    {
     "data": {
      "text/html": [
       "<div>\n",
       "<style scoped>\n",
       "    .dataframe tbody tr th:only-of-type {\n",
       "        vertical-align: middle;\n",
       "    }\n",
       "\n",
       "    .dataframe tbody tr th {\n",
       "        vertical-align: top;\n",
       "    }\n",
       "\n",
       "    .dataframe thead th {\n",
       "        text-align: right;\n",
       "    }\n",
       "</style>\n",
       "<table border=\"1\" class=\"dataframe\">\n",
       "  <thead>\n",
       "    <tr style=\"text-align: right;\">\n",
       "      <th></th>\n",
       "      <th>CUST_ID</th>\n",
       "      <th>TARGET</th>\n",
       "      <th>AGE</th>\n",
       "      <th>GENDER</th>\n",
       "      <th>BALANCE</th>\n",
       "      <th>OCCUPATION</th>\n",
       "      <th>AGE_BKT</th>\n",
       "      <th>SCR</th>\n",
       "      <th>HOLDING_PERIOD</th>\n",
       "      <th>ACC_TYPE</th>\n",
       "      <th>...</th>\n",
       "      <th>NO_OF_IW_CHQ_BNC_TXNS</th>\n",
       "      <th>NO_OF_OW_CHQ_BNC_TXNS</th>\n",
       "      <th>AVG_AMT_PER_ATM_TXN</th>\n",
       "      <th>AVG_AMT_PER_CSH_WDL_TXN</th>\n",
       "      <th>AVG_AMT_PER_CHQ_TXN</th>\n",
       "      <th>AVG_AMT_PER_NET_TXN</th>\n",
       "      <th>AVG_AMT_PER_MOB_TXN</th>\n",
       "      <th>FLG_HAS_NOMINEE</th>\n",
       "      <th>FLG_HAS_OLD_LOAN</th>\n",
       "      <th>random</th>\n",
       "    </tr>\n",
       "  </thead>\n",
       "  <tbody>\n",
       "    <tr>\n",
       "      <th>0</th>\n",
       "      <td>C7927</td>\n",
       "      <td>0</td>\n",
       "      <td>27</td>\n",
       "      <td>M</td>\n",
       "      <td>3383.75</td>\n",
       "      <td>SELF-EMP</td>\n",
       "      <td>26-30</td>\n",
       "      <td>776</td>\n",
       "      <td>30</td>\n",
       "      <td>SA</td>\n",
       "      <td>...</td>\n",
       "      <td>0</td>\n",
       "      <td>0</td>\n",
       "      <td>13100.0</td>\n",
       "      <td>0.0</td>\n",
       "      <td>0.0</td>\n",
       "      <td>486778.50</td>\n",
       "      <td>0.0</td>\n",
       "      <td>1</td>\n",
       "      <td>1</td>\n",
       "      <td>0.000011</td>\n",
       "    </tr>\n",
       "    <tr>\n",
       "      <th>1</th>\n",
       "      <td>C6877</td>\n",
       "      <td>0</td>\n",
       "      <td>47</td>\n",
       "      <td>M</td>\n",
       "      <td>287489.04</td>\n",
       "      <td>SAL</td>\n",
       "      <td>46-50</td>\n",
       "      <td>324</td>\n",
       "      <td>28</td>\n",
       "      <td>SA</td>\n",
       "      <td>...</td>\n",
       "      <td>0</td>\n",
       "      <td>0</td>\n",
       "      <td>6600.0</td>\n",
       "      <td>0.0</td>\n",
       "      <td>0.0</td>\n",
       "      <td>799813.00</td>\n",
       "      <td>0.0</td>\n",
       "      <td>1</td>\n",
       "      <td>0</td>\n",
       "      <td>0.000111</td>\n",
       "    </tr>\n",
       "    <tr>\n",
       "      <th>2</th>\n",
       "      <td>C19922</td>\n",
       "      <td>0</td>\n",
       "      <td>40</td>\n",
       "      <td>M</td>\n",
       "      <td>18216.88</td>\n",
       "      <td>SELF-EMP</td>\n",
       "      <td>36-40</td>\n",
       "      <td>603</td>\n",
       "      <td>2</td>\n",
       "      <td>SA</td>\n",
       "      <td>...</td>\n",
       "      <td>0</td>\n",
       "      <td>1</td>\n",
       "      <td>11200.0</td>\n",
       "      <td>561120.0</td>\n",
       "      <td>24660.0</td>\n",
       "      <td>997570.00</td>\n",
       "      <td>0.0</td>\n",
       "      <td>1</td>\n",
       "      <td>1</td>\n",
       "      <td>0.000120</td>\n",
       "    </tr>\n",
       "    <tr>\n",
       "      <th>3</th>\n",
       "      <td>C8183</td>\n",
       "      <td>0</td>\n",
       "      <td>53</td>\n",
       "      <td>M</td>\n",
       "      <td>71720.48</td>\n",
       "      <td>SAL</td>\n",
       "      <td>&gt;50</td>\n",
       "      <td>196</td>\n",
       "      <td>13</td>\n",
       "      <td>CA</td>\n",
       "      <td>...</td>\n",
       "      <td>0</td>\n",
       "      <td>0</td>\n",
       "      <td>13050.0</td>\n",
       "      <td>168397.5</td>\n",
       "      <td>15195.0</td>\n",
       "      <td>247168.67</td>\n",
       "      <td>71388.0</td>\n",
       "      <td>1</td>\n",
       "      <td>0</td>\n",
       "      <td>0.000137</td>\n",
       "    </tr>\n",
       "    <tr>\n",
       "      <th>4</th>\n",
       "      <td>C12123</td>\n",
       "      <td>0</td>\n",
       "      <td>36</td>\n",
       "      <td>M</td>\n",
       "      <td>1671622.89</td>\n",
       "      <td>PROF</td>\n",
       "      <td>36-40</td>\n",
       "      <td>167</td>\n",
       "      <td>24</td>\n",
       "      <td>SA</td>\n",
       "      <td>...</td>\n",
       "      <td>0</td>\n",
       "      <td>0</td>\n",
       "      <td>0.0</td>\n",
       "      <td>808480.0</td>\n",
       "      <td>0.0</td>\n",
       "      <td>0.00</td>\n",
       "      <td>0.0</td>\n",
       "      <td>1</td>\n",
       "      <td>0</td>\n",
       "      <td>0.000174</td>\n",
       "    </tr>\n",
       "  </tbody>\n",
       "</table>\n",
       "<p>5 rows × 40 columns</p>\n",
       "</div>"
      ],
      "text/plain": [
       "  CUST_ID  TARGET  AGE GENDER     BALANCE OCCUPATION AGE_BKT  SCR  \\\n",
       "0   C7927       0   27      M     3383.75   SELF-EMP   26-30  776   \n",
       "1   C6877       0   47      M   287489.04        SAL   46-50  324   \n",
       "2  C19922       0   40      M    18216.88   SELF-EMP   36-40  603   \n",
       "3   C8183       0   53      M    71720.48        SAL     >50  196   \n",
       "4  C12123       0   36      M  1671622.89       PROF   36-40  167   \n",
       "\n",
       "   HOLDING_PERIOD ACC_TYPE    ...    NO_OF_IW_CHQ_BNC_TXNS  \\\n",
       "0              30       SA    ...                        0   \n",
       "1              28       SA    ...                        0   \n",
       "2               2       SA    ...                        0   \n",
       "3              13       CA    ...                        0   \n",
       "4              24       SA    ...                        0   \n",
       "\n",
       "   NO_OF_OW_CHQ_BNC_TXNS  AVG_AMT_PER_ATM_TXN  AVG_AMT_PER_CSH_WDL_TXN  \\\n",
       "0                      0              13100.0                      0.0   \n",
       "1                      0               6600.0                      0.0   \n",
       "2                      1              11200.0                 561120.0   \n",
       "3                      0              13050.0                 168397.5   \n",
       "4                      0                  0.0                 808480.0   \n",
       "\n",
       "   AVG_AMT_PER_CHQ_TXN  AVG_AMT_PER_NET_TXN  AVG_AMT_PER_MOB_TXN  \\\n",
       "0                  0.0            486778.50                  0.0   \n",
       "1                  0.0            799813.00                  0.0   \n",
       "2              24660.0            997570.00                  0.0   \n",
       "3              15195.0            247168.67              71388.0   \n",
       "4                  0.0                 0.00                  0.0   \n",
       "\n",
       "   FLG_HAS_NOMINEE  FLG_HAS_OLD_LOAN    random  \n",
       "0                1                 1  0.000011  \n",
       "1                1                 0  0.000111  \n",
       "2                1                 1  0.000120  \n",
       "3                1                 0  0.000137  \n",
       "4                1                 0  0.000174  \n",
       "\n",
       "[5 rows x 40 columns]"
      ]
     },
     "execution_count": 226,
     "metadata": {},
     "output_type": "execute_result"
    }
   ],
   "source": [
    "df=pd.read_csv('PL_XSELL.csv')\n",
    "df.head()"
   ]
  },
  {
   "cell_type": "code",
   "execution_count": 227,
   "metadata": {},
   "outputs": [
    {
     "name": "stdout",
     "output_type": "stream",
     "text": [
      "<class 'pandas.core.frame.DataFrame'>\n",
      "RangeIndex: 20000 entries, 0 to 19999\n",
      "Data columns (total 40 columns):\n",
      "CUST_ID                     20000 non-null object\n",
      "TARGET                      20000 non-null int64\n",
      "AGE                         20000 non-null int64\n",
      "GENDER                      20000 non-null object\n",
      "BALANCE                     20000 non-null float64\n",
      "OCCUPATION                  20000 non-null object\n",
      "AGE_BKT                     20000 non-null object\n",
      "SCR                         20000 non-null int64\n",
      "HOLDING_PERIOD              20000 non-null int64\n",
      "ACC_TYPE                    20000 non-null object\n",
      "ACC_OP_DATE                 20000 non-null object\n",
      "LEN_OF_RLTN_IN_MNTH         20000 non-null int64\n",
      "NO_OF_L_CR_TXNS             20000 non-null int64\n",
      "NO_OF_L_DR_TXNS             20000 non-null int64\n",
      "TOT_NO_OF_L_TXNS            20000 non-null int64\n",
      "NO_OF_BR_CSH_WDL_DR_TXNS    20000 non-null int64\n",
      "NO_OF_ATM_DR_TXNS           20000 non-null int64\n",
      "NO_OF_NET_DR_TXNS           20000 non-null int64\n",
      "NO_OF_MOB_DR_TXNS           20000 non-null int64\n",
      "NO_OF_CHQ_DR_TXNS           20000 non-null int64\n",
      "FLG_HAS_CC                  20000 non-null int64\n",
      "AMT_ATM_DR                  20000 non-null int64\n",
      "AMT_BR_CSH_WDL_DR           20000 non-null int64\n",
      "AMT_CHQ_DR                  20000 non-null int64\n",
      "AMT_NET_DR                  20000 non-null float64\n",
      "AMT_MOB_DR                  20000 non-null int64\n",
      "AMT_L_DR                    20000 non-null float64\n",
      "FLG_HAS_ANY_CHGS            20000 non-null int64\n",
      "AMT_OTH_BK_ATM_USG_CHGS     20000 non-null int64\n",
      "AMT_MIN_BAL_NMC_CHGS        20000 non-null int64\n",
      "NO_OF_IW_CHQ_BNC_TXNS       20000 non-null int64\n",
      "NO_OF_OW_CHQ_BNC_TXNS       20000 non-null int64\n",
      "AVG_AMT_PER_ATM_TXN         20000 non-null float64\n",
      "AVG_AMT_PER_CSH_WDL_TXN     20000 non-null float64\n",
      "AVG_AMT_PER_CHQ_TXN         20000 non-null float64\n",
      "AVG_AMT_PER_NET_TXN         20000 non-null float64\n",
      "AVG_AMT_PER_MOB_TXN         20000 non-null float64\n",
      "FLG_HAS_NOMINEE             20000 non-null int64\n",
      "FLG_HAS_OLD_LOAN            20000 non-null int64\n",
      "random                      20000 non-null float64\n",
      "dtypes: float64(9), int64(25), object(6)\n",
      "memory usage: 6.1+ MB\n"
     ]
    }
   ],
   "source": [
    "df.info()"
   ]
  },
  {
   "cell_type": "code",
   "execution_count": 228,
   "metadata": {},
   "outputs": [
    {
     "data": {
      "text/plain": [
       "CUST_ID                      object\n",
       "TARGET                        int64\n",
       "AGE                           int64\n",
       "GENDER                       object\n",
       "BALANCE                     float64\n",
       "OCCUPATION                   object\n",
       "AGE_BKT                      object\n",
       "SCR                           int64\n",
       "HOLDING_PERIOD                int64\n",
       "ACC_TYPE                     object\n",
       "ACC_OP_DATE                  object\n",
       "LEN_OF_RLTN_IN_MNTH           int64\n",
       "NO_OF_L_CR_TXNS               int64\n",
       "NO_OF_L_DR_TXNS               int64\n",
       "TOT_NO_OF_L_TXNS              int64\n",
       "NO_OF_BR_CSH_WDL_DR_TXNS      int64\n",
       "NO_OF_ATM_DR_TXNS             int64\n",
       "NO_OF_NET_DR_TXNS             int64\n",
       "NO_OF_MOB_DR_TXNS             int64\n",
       "NO_OF_CHQ_DR_TXNS             int64\n",
       "FLG_HAS_CC                    int64\n",
       "AMT_ATM_DR                    int64\n",
       "AMT_BR_CSH_WDL_DR             int64\n",
       "AMT_CHQ_DR                    int64\n",
       "AMT_NET_DR                  float64\n",
       "AMT_MOB_DR                    int64\n",
       "AMT_L_DR                    float64\n",
       "FLG_HAS_ANY_CHGS              int64\n",
       "AMT_OTH_BK_ATM_USG_CHGS       int64\n",
       "AMT_MIN_BAL_NMC_CHGS          int64\n",
       "NO_OF_IW_CHQ_BNC_TXNS         int64\n",
       "NO_OF_OW_CHQ_BNC_TXNS         int64\n",
       "AVG_AMT_PER_ATM_TXN         float64\n",
       "AVG_AMT_PER_CSH_WDL_TXN     float64\n",
       "AVG_AMT_PER_CHQ_TXN         float64\n",
       "AVG_AMT_PER_NET_TXN         float64\n",
       "AVG_AMT_PER_MOB_TXN         float64\n",
       "FLG_HAS_NOMINEE               int64\n",
       "FLG_HAS_OLD_LOAN              int64\n",
       "random                      float64\n",
       "dtype: object"
      ]
     },
     "execution_count": 228,
     "metadata": {},
     "output_type": "execute_result"
    }
   ],
   "source": [
    "df.dtypes"
   ]
  },
  {
   "cell_type": "code",
   "execution_count": 229,
   "metadata": {},
   "outputs": [],
   "source": [
    "del df['CUST_ID']"
   ]
  },
  {
   "cell_type": "code",
   "execution_count": 230,
   "metadata": {},
   "outputs": [],
   "source": [
    "del df['ACC_OP_DATE']"
   ]
  },
  {
   "cell_type": "code",
   "execution_count": 231,
   "metadata": {},
   "outputs": [],
   "source": [
    "del df['random']"
   ]
  },
  {
   "cell_type": "code",
   "execution_count": 232,
   "metadata": {},
   "outputs": [
    {
     "name": "stdout",
     "output_type": "stream",
     "text": [
      "0    17488\n",
      "1     2512\n",
      "Name: TARGET, dtype: int64\n",
      "28    836\n",
      "31    779\n",
      "30    764\n",
      "32    720\n",
      "41    712\n",
      "36    706\n",
      "29    696\n",
      "43    673\n",
      "35    670\n",
      "51    666\n",
      "53    630\n",
      "34    619\n",
      "45    618\n",
      "33    616\n",
      "55    612\n",
      "27    593\n",
      "52    580\n",
      "44    574\n",
      "37    557\n",
      "38    555\n",
      "54    547\n",
      "50    545\n",
      "26    545\n",
      "46    539\n",
      "40    525\n",
      "25    523\n",
      "47    511\n",
      "42    490\n",
      "49    480\n",
      "39    471\n",
      "48    418\n",
      "24    381\n",
      "23    371\n",
      "22    247\n",
      "21    231\n",
      "Name: AGE, dtype: int64\n",
      "M    14376\n",
      "F     5433\n",
      "O      191\n",
      "Name: GENDER, dtype: int64\n",
      "0.00          76\n",
      "475995.49     36\n",
      "1645982.68    34\n",
      "820931.13     30\n",
      "518086.03     25\n",
      "295709.23     25\n",
      "537015.73     25\n",
      "493387.30     25\n",
      "712086.58     24\n",
      "1585087.83    24\n",
      "321857.71     22\n",
      "283944.02     21\n",
      "1456311.55    20\n",
      "260875.74     19\n",
      "546442.99     19\n",
      "1136890.47    19\n",
      "1464278.95    18\n",
      "905697.11     18\n",
      "893523.05     17\n",
      "1512259.16    17\n",
      "775053.78     16\n",
      "440072.66     15\n",
      "1156848.47    15\n",
      "1044526.80    14\n",
      "1003089.93    13\n",
      "3383.75       13\n",
      "788659.77     13\n",
      "478599.64     11\n",
      "262302.98     11\n",
      "757287.02     11\n",
      "              ..\n",
      "1331454.21     1\n",
      "130777.32      1\n",
      "24764.11       1\n",
      "29786.02       1\n",
      "2565294.51     1\n",
      "27479.02       1\n",
      "7799.47        1\n",
      "967059.97      1\n",
      "86514.60       1\n",
      "2274157.39     1\n",
      "2343515.93     1\n",
      "2109066.72     1\n",
      "293390.78      1\n",
      "843301.87      1\n",
      "250047.18      1\n",
      "1680464.01     1\n",
      "890529.77      1\n",
      "45418.97       1\n",
      "10207.79       1\n",
      "92018.14       1\n",
      "72667.16       1\n",
      "625221.89      1\n",
      "462203.02      1\n",
      "80460.36       1\n",
      "17756.49       1\n",
      "1172472.98     1\n",
      "8878.62        1\n",
      "307236.58      1\n",
      "140294.05      1\n",
      "300967.74      1\n",
      "Name: BALANCE, Length: 9924, dtype: int64\n",
      "SAL         5855\n",
      "PROF        5417\n",
      "SENP        5160\n",
      "SELF-EMP    3568\n",
      "Name: OCCUPATION, dtype: int64\n",
      "26-30    3434\n",
      "31-35    3404\n",
      "41-45    3067\n",
      ">50      3035\n",
      "36-40    2814\n",
      "46-50    2493\n",
      "<25      1753\n",
      "Name: AGE_BKT, dtype: int64\n",
      "209    70\n",
      "221    67\n",
      "164    64\n",
      "119    63\n",
      "319    63\n",
      "214    63\n",
      "151    62\n",
      "179    62\n",
      "325    60\n",
      "222    60\n",
      "304    59\n",
      "199    59\n",
      "233    59\n",
      "298    58\n",
      "282    58\n",
      "295    58\n",
      "148    58\n",
      "208    57\n",
      "178    57\n",
      "309    57\n",
      "231    57\n",
      "277    57\n",
      "272    57\n",
      "366    56\n",
      "146    56\n",
      "205    56\n",
      "216    55\n",
      "167    55\n",
      "213    55\n",
      "185    55\n",
      "       ..\n",
      "427     4\n",
      "507     4\n",
      "921     4\n",
      "905     4\n",
      "987     4\n",
      "979     4\n",
      "928     4\n",
      "880     4\n",
      "727     3\n",
      "918     3\n",
      "985     3\n",
      "965     3\n",
      "467     3\n",
      "749     3\n",
      "512     3\n",
      "859     3\n",
      "812     3\n",
      "974     3\n",
      "433     2\n",
      "920     2\n",
      "469     2\n",
      "988     2\n",
      "927     2\n",
      "942     1\n",
      "993     1\n",
      "986     1\n",
      "972     1\n",
      "949     1\n",
      "976     1\n",
      "959     1\n",
      "Name: SCR, Length: 896, dtype: int64\n",
      "1     1101\n",
      "19     824\n",
      "7      787\n",
      "16     737\n",
      "9      734\n",
      "22     734\n",
      "18     715\n",
      "21     712\n",
      "14     709\n",
      "6      704\n",
      "10     693\n",
      "4      693\n",
      "13     687\n",
      "3      681\n",
      "15     678\n",
      "20     647\n",
      "12     642\n",
      "17     639\n",
      "11     630\n",
      "25     626\n",
      "8      608\n",
      "23     605\n",
      "5      562\n",
      "24     562\n",
      "26     510\n",
      "2      495\n",
      "30     493\n",
      "27     490\n",
      "28     469\n",
      "29     453\n",
      "31     380\n",
      "Name: HOLDING_PERIOD, dtype: int64\n",
      "SA    15759\n",
      "CA     4241\n",
      "Name: ACC_TYPE, dtype: int64\n",
      "163    162\n",
      "117    158\n",
      "98     148\n",
      "115    142\n",
      "159    140\n",
      "205    137\n",
      "189    136\n",
      "132    134\n",
      "88     133\n",
      "81     132\n",
      "142    131\n",
      "197    130\n",
      "156    129\n",
      "53     129\n",
      "62     129\n",
      "48     128\n",
      "129    128\n",
      "114    128\n",
      "173    127\n",
      "145    127\n",
      "217    127\n",
      "79     127\n",
      "169    125\n",
      "182    125\n",
      "50     124\n",
      "103    124\n",
      "116    124\n",
      "141    123\n",
      "110    122\n",
      "85     122\n",
      "      ... \n",
      "149     87\n",
      "194     87\n",
      "123     87\n",
      "36      86\n",
      "107     86\n",
      "158     86\n",
      "216     86\n",
      "218     85\n",
      "192     85\n",
      "215     85\n",
      "56      85\n",
      "106     84\n",
      "34      83\n",
      "180     81\n",
      "109     80\n",
      "152     79\n",
      "33      79\n",
      "101     78\n",
      "170     78\n",
      "99      77\n",
      "188     77\n",
      "102     76\n",
      "134     75\n",
      "118     75\n",
      "139     75\n",
      "65      72\n",
      "58      68\n",
      "221     64\n",
      "186     64\n",
      "29      58\n",
      "Name: LEN_OF_RLTN_IN_MNTH, Length: 193, dtype: int64\n",
      "6     2099\n",
      "8     1351\n",
      "10    1302\n",
      "14    1162\n",
      "12    1158\n",
      "4     1112\n",
      "7     1092\n",
      "0     1080\n",
      "2     1079\n",
      "11    1055\n",
      "5     1011\n",
      "16     768\n",
      "18     522\n",
      "9      499\n",
      "20     435\n",
      "13     403\n",
      "3      396\n",
      "15     348\n",
      "17     326\n",
      "19     281\n",
      "1      217\n",
      "22     104\n",
      "21     102\n",
      "24     102\n",
      "29      83\n",
      "23      74\n",
      "34      74\n",
      "30      72\n",
      "28      70\n",
      "32      68\n",
      "      ... \n",
      "59      37\n",
      "45      37\n",
      "53      35\n",
      "49      34\n",
      "43      33\n",
      "36      33\n",
      "52      31\n",
      "46      30\n",
      "66      30\n",
      "44      29\n",
      "56      28\n",
      "54      28\n",
      "58      26\n",
      "61      25\n",
      "63      25\n",
      "62      24\n",
      "67      21\n",
      "64      21\n",
      "41      19\n",
      "69      18\n",
      "70      18\n",
      "71      18\n",
      "65      17\n",
      "47      17\n",
      "74      16\n",
      "73      16\n",
      "60      15\n",
      "68      11\n",
      "72      10\n",
      "75       9\n",
      "Name: NO_OF_L_CR_TXNS, Length: 76, dtype: int64\n",
      "6     2883\n",
      "5     2599\n",
      "2     2456\n",
      "4     2188\n",
      "3     2018\n",
      "1     1966\n",
      "7     1115\n",
      "14     889\n",
      "0      750\n",
      "15     477\n",
      "8      434\n",
      "16     260\n",
      "21     201\n",
      "18     184\n",
      "9      134\n",
      "19     127\n",
      "10     127\n",
      "17     124\n",
      "22     123\n",
      "20     112\n",
      "27     111\n",
      "26      90\n",
      "25      85\n",
      "23      81\n",
      "13      58\n",
      "24      49\n",
      "29      42\n",
      "31      41\n",
      "28      40\n",
      "30      39\n",
      "32      29\n",
      "11      26\n",
      "65      23\n",
      "62      15\n",
      "61      11\n",
      "69      10\n",
      "60      10\n",
      "63      10\n",
      "73       9\n",
      "67       9\n",
      "12       8\n",
      "74       7\n",
      "66       7\n",
      "72       6\n",
      "68       6\n",
      "64       5\n",
      "70       3\n",
      "71       3\n",
      "Name: NO_OF_L_DR_TXNS, dtype: int64\n",
      "14     1462\n",
      "11     1229\n",
      "12     1140\n",
      "18     1032\n",
      "10      984\n",
      "7       911\n",
      "15      891\n",
      "9       779\n",
      "13      770\n",
      "0       747\n",
      "4       744\n",
      "16      647\n",
      "21      620\n",
      "20      562\n",
      "31      527\n",
      "17      519\n",
      "8       479\n",
      "5       438\n",
      "3       355\n",
      "23      321\n",
      "6       309\n",
      "32      301\n",
      "22      254\n",
      "2       252\n",
      "34      227\n",
      "30      221\n",
      "19      193\n",
      "36      168\n",
      "26      154\n",
      "56      129\n",
      "       ... \n",
      "81       23\n",
      "131      23\n",
      "75       19\n",
      "73       18\n",
      "43       17\n",
      "79       17\n",
      "45       16\n",
      "83       16\n",
      "125      15\n",
      "65       14\n",
      "40       13\n",
      "123      11\n",
      "121      10\n",
      "47       10\n",
      "71       10\n",
      "127      10\n",
      "139      10\n",
      "135       9\n",
      "147       9\n",
      "80        8\n",
      "133       7\n",
      "149       7\n",
      "84        7\n",
      "145       6\n",
      "137       6\n",
      "129       5\n",
      "61        5\n",
      "141       3\n",
      "143       3\n",
      "68        1\n",
      "Name: TOT_NO_OF_L_TXNS, Length: 98, dtype: int64\n",
      "1     6659\n",
      "0     4941\n",
      "2     3786\n",
      "3     1964\n",
      "4      718\n",
      "5      471\n",
      "6      330\n",
      "7      322\n",
      "8      199\n",
      "9      171\n",
      "11     156\n",
      "10     140\n",
      "12      74\n",
      "13      34\n",
      "14      26\n",
      "15       9\n",
      "Name: NO_OF_BR_CSH_WDL_DR_TXNS, dtype: int64\n",
      "1     9734\n",
      "0     6188\n",
      "2     3158\n",
      "3      713\n",
      "4       65\n",
      "20      25\n",
      "10      14\n",
      "11      12\n",
      "8       10\n",
      "12       8\n",
      "23       7\n",
      "16       6\n",
      "13       6\n",
      "7        6\n",
      "18       6\n",
      "14       6\n",
      "21       6\n",
      "15       5\n",
      "22       5\n",
      "6        5\n",
      "17       4\n",
      "25       4\n",
      "19       3\n",
      "9        2\n",
      "5        1\n",
      "24       1\n",
      "Name: NO_OF_ATM_DR_TXNS, dtype: int64\n",
      "0     10578\n",
      "1      6466\n",
      "4      1238\n",
      "6       418\n",
      "8       320\n",
      "7       256\n",
      "3       211\n",
      "2       203\n",
      "9       110\n",
      "20       45\n",
      "5        37\n",
      "19       30\n",
      "10       29\n",
      "22       22\n",
      "18       20\n",
      "21       16\n",
      "17        1\n",
      "Name: NO_OF_NET_DR_TXNS, dtype: int64\n",
      "0     15451\n",
      "1      3842\n",
      "2       558\n",
      "24      118\n",
      "25       16\n",
      "3        15\n",
      "Name: NO_OF_MOB_DR_TXNS, dtype: int64\n",
      "0     6551\n",
      "2     3893\n",
      "4     3666\n",
      "1     3255\n",
      "5      616\n",
      "3      464\n",
      "6      405\n",
      "7      373\n",
      "8      259\n",
      "9      147\n",
      "10     139\n",
      "11     118\n",
      "12      67\n",
      "13      21\n",
      "14      17\n",
      "15       9\n",
      "Name: NO_OF_CHQ_DR_TXNS, dtype: int64\n",
      "0    13892\n",
      "1     6108\n",
      "Name: FLG_HAS_CC, dtype: int64\n",
      "0         6279\n",
      "10300       95\n",
      "10500       92\n",
      "11600       90\n",
      "5400        85\n",
      "17500       85\n",
      "7000        82\n",
      "8600        82\n",
      "15100       76\n",
      "10200       76\n",
      "13400       74\n",
      "18400       73\n",
      "18800       72\n",
      "400         72\n",
      "10400       72\n",
      "19500       72\n",
      "1500        71\n",
      "7400        71\n",
      "15800       71\n",
      "16800       71\n",
      "17000       71\n",
      "17900       71\n",
      "10700       71\n",
      "4200        70\n",
      "13200       70\n",
      "3400        69\n",
      "13900       69\n",
      "14300       69\n",
      "2200        69\n",
      "5700        68\n",
      "          ... \n",
      "46300        1\n",
      "63100        1\n",
      "70600        1\n",
      "30300        1\n",
      "28900        1\n",
      "24000        1\n",
      "44900        1\n",
      "90000        1\n",
      "68400        1\n",
      "174500       1\n",
      "115200       1\n",
      "73600        1\n",
      "66200        1\n",
      "25300        1\n",
      "57000        1\n",
      "41900        1\n",
      "67100        1\n",
      "65100        1\n",
      "148400       1\n",
      "28300        1\n",
      "58400        1\n",
      "52200        1\n",
      "50100        1\n",
      "67400        1\n",
      "56600        1\n",
      "64700        1\n",
      "59300        1\n",
      "174300       1\n",
      "49100        1\n",
      "180200       1\n",
      "Name: AMT_ATM_DR, Length: 646, dtype: int64\n",
      "0         4973\n",
      "869200      15\n",
      "156100      11\n",
      "204750      11\n",
      "66410       11\n",
      "501160      11\n",
      "548520      10\n",
      "686180      10\n",
      "856340      10\n",
      "389680       9\n",
      "378270       9\n",
      "696840       9\n",
      "22220        9\n",
      "174700       9\n",
      "780420       9\n",
      "909570       9\n",
      "792140       9\n",
      "274530       8\n",
      "106920       8\n",
      "885010       8\n",
      "136450       8\n",
      "850040       8\n",
      "582270       8\n",
      "477330       8\n",
      "739080       8\n",
      "534240       8\n",
      "893250       8\n",
      "410650       8\n",
      "150610       8\n",
      "896200       8\n",
      "          ... \n",
      "634160       1\n",
      "771120       1\n",
      "331220       1\n",
      "97860        1\n",
      "89550        1\n",
      "85230        1\n",
      "749000       1\n",
      "976360       1\n",
      "789010       1\n",
      "232070       1\n",
      "48620        1\n",
      "626100       1\n",
      "929200       1\n",
      "856450       1\n",
      "73110        1\n",
      "167300       1\n",
      "417150       1\n",
      "167450       1\n",
      "724340       1\n",
      "708130       1\n",
      "94010        1\n",
      "699760       1\n",
      "576190       1\n",
      "109920       1\n",
      "56880        1\n",
      "491060       1\n",
      "285590       1\n",
      "777550       1\n",
      "686200       1\n",
      "517240       1\n",
      "Name: AMT_BR_CSH_WDL_DR, Length: 7369, dtype: int64\n",
      "0         8508\n",
      "91080       21\n",
      "73720       15\n",
      "68910       14\n",
      "23840       13\n",
      "33970       13\n",
      "92640       13\n",
      "18990       12\n",
      "92450       12\n",
      "60050       12\n",
      "89210       11\n",
      "35250       11\n",
      "19200       11\n",
      "24760       11\n",
      "23010       10\n",
      "42640       10\n",
      "13340       10\n",
      "58740       10\n",
      "74470       10\n",
      "22190       10\n",
      "68970       10\n",
      "81430        9\n",
      "30480        9\n",
      "85840        9\n",
      "33650        9\n",
      "13850        9\n",
      "90660        9\n",
      "27320        9\n",
      "12550        9\n",
      "20050        9\n",
      "          ... \n",
      "256790       1\n",
      "436990       1\n",
      "72070        1\n",
      "60150        1\n",
      "39640        1\n",
      "260820       1\n",
      "740050       1\n",
      "55710        1\n",
      "80290        1\n",
      "47820        1\n",
      "14770        1\n",
      "23200        1\n",
      "80540        1\n",
      "72150        1\n",
      "507890       1\n",
      "125400       1\n",
      "96300        1\n",
      "72280        1\n",
      "55790        1\n",
      "92680        1\n",
      "51740        1\n",
      "19010        1\n",
      "399910       1\n",
      "35380        1\n",
      "96820        1\n",
      "80450        1\n",
      "19020        1\n",
      "43600        1\n",
      "39510        1\n",
      "122900       1\n",
      "Name: AMT_CHQ_DR, Length: 4891, dtype: int64\n",
      "0.0         10578\n",
      "973557.0       13\n",
      "629456.0       11\n",
      "697693.0        9\n",
      "461389.0        9\n",
      "488865.0        9\n",
      "191234.0        8\n",
      "59800.0         8\n",
      "65303.0         8\n",
      "706860.0        8\n",
      "472761.0        8\n",
      "898236.0        8\n",
      "127610.0        8\n",
      "827841.8        8\n",
      "899171.0        8\n",
      "822726.0        8\n",
      "662392.0        8\n",
      "325480.0        8\n",
      "666346.0        8\n",
      "374221.0        8\n",
      "500020.0        8\n",
      "315332.0        8\n",
      "626941.0        7\n",
      "157202.0        7\n",
      "20412.0         7\n",
      "840778.0        7\n",
      "720528.0        7\n",
      "465442.0        7\n",
      "291470.0        7\n",
      "344525.0        7\n",
      "            ...  \n",
      "166754.0        1\n",
      "25336.0         1\n",
      "18271.0         1\n",
      "745220.0        1\n",
      "436760.0        1\n",
      "843601.0        1\n",
      "896338.0        1\n",
      "795116.0        1\n",
      "178143.0        1\n",
      "32508.0         1\n",
      "535994.0        1\n",
      "22894.0         1\n",
      "734198.0        1\n",
      "366308.0        1\n",
      "58085.0         1\n",
      "62949.0         1\n",
      "503600.0        1\n",
      "372559.0        1\n",
      "207755.0        1\n",
      "468384.0        1\n",
      "896525.0        1\n",
      "199554.0        1\n",
      "896517.0        1\n",
      "481026.0        1\n",
      "16056.0         1\n",
      "388966.0        1\n",
      "699884.0        1\n",
      "60126.0         1\n",
      "152168.0        1\n",
      "96211.0         1\n",
      "Name: AMT_NET_DR, Length: 4847, dtype: int64\n",
      "0         15451\n",
      "177483       10\n",
      "52635        10\n",
      "74504         9\n",
      "95981         9\n",
      "65889         8\n",
      "6308          8\n",
      "129692        8\n",
      "191374        8\n",
      "107327        8\n",
      "21780         8\n",
      "196321        8\n",
      "104170        8\n",
      "21198         8\n",
      "137966        7\n",
      "170332        7\n",
      "114004        7\n",
      "70153         7\n",
      "24100         7\n",
      "65064         7\n",
      "50189         7\n",
      "45314         7\n",
      "66304         7\n",
      "142952        7\n",
      "78104         7\n",
      "77411         7\n",
      "51112         7\n",
      "73704         7\n",
      "21220         7\n",
      "43895         6\n",
      "          ...  \n",
      "184342        1\n",
      "28600         1\n",
      "153585        1\n",
      "49132         1\n",
      "108497        1\n",
      "51139         1\n",
      "2021          1\n",
      "120831        1\n",
      "143278        1\n",
      "112673        1\n",
      "175904        1\n",
      "10281         1\n",
      "89598         1\n",
      "143104        1\n",
      "10425         1\n",
      "138790        1\n",
      "131244        1\n",
      "30251         1\n",
      "116301        1\n",
      "7766          1\n",
      "153767        1\n",
      "71287         1\n",
      "181885        1\n",
      "51333         1\n",
      "134788        1\n",
      "91817         1\n",
      "65226         1\n",
      "143056        1\n",
      "98010         1\n",
      "141299        1\n",
      "Name: AMT_MOB_DR, Length: 2312, dtype: int64\n",
      "0.0          750\n",
      "986657.0      13\n",
      "18100.0       13\n",
      "10100.0       12\n",
      "17900.0       11\n",
      "204750.0      11\n",
      "10200.0       11\n",
      "10500.0       11\n",
      "670096.0      11\n",
      "1034625.0     10\n",
      "16500.0       10\n",
      "625490.0      10\n",
      "5600.0        10\n",
      "83450.0        9\n",
      "768380.0       9\n",
      "67170.0        9\n",
      "270430.0       9\n",
      "13700.0        9\n",
      "980070.0       9\n",
      "2109007.0      9\n",
      "30460.0        9\n",
      "892601.0       9\n",
      "66410.0        9\n",
      "33790.0        8\n",
      "755780.0       8\n",
      "234650.0       8\n",
      "371090.0       8\n",
      "980510.0       8\n",
      "1764374.0      8\n",
      "824510.0       8\n",
      "            ... \n",
      "145380.0       1\n",
      "2432023.0      1\n",
      "258500.0       1\n",
      "608020.0       1\n",
      "500623.0       1\n",
      "1001270.0      1\n",
      "1477868.0      1\n",
      "542310.0       1\n",
      "968290.0       1\n",
      "706134.0       1\n",
      "1739751.0      1\n",
      "1412077.0      1\n",
      "336640.0       1\n",
      "706050.0       1\n",
      "2800.0         1\n",
      "1149965.0      1\n",
      "250243.0       1\n",
      "516871.0       1\n",
      "1149987.0      1\n",
      "771604.0       1\n",
      "706070.0       1\n",
      "363760.0       1\n",
      "869920.0       1\n",
      "1805396.0      1\n",
      "2002015.0      1\n",
      "968251.0       1\n",
      "1103241.0      1\n",
      "467743.0       1\n",
      "484129.0       1\n",
      "384910.0       1\n",
      "Name: AMT_L_DR, Length: 9596, dtype: int64\n",
      "0    17788\n",
      "1     2212\n",
      "Name: FLG_HAS_ANY_CHGS, dtype: int64\n",
      "0      19859\n",
      "200       44\n",
      "140       37\n",
      "70        26\n",
      "250       23\n",
      "40        11\n",
      "Name: AMT_OTH_BK_ATM_USG_CHGS, dtype: int64\n",
      "0      19848\n",
      "170      152\n",
      "Name: AMT_MIN_BAL_NMC_CHGS, dtype: int64\n",
      "0    19148\n",
      "1      849\n",
      "2        3\n",
      "Name: NO_OF_IW_CHQ_BNC_TXNS, dtype: int64\n",
      "0    19113\n",
      "1      886\n",
      "2        1\n",
      "Name: NO_OF_OW_CHQ_BNC_TXNS, dtype: int64\n",
      "0.00        6279\n",
      "10300.00     101\n",
      "8600.00       90\n",
      "10500.00      90\n",
      "17500.00      83\n",
      "4200.00       79\n",
      "11600.00      77\n",
      "10400.00      77\n",
      "11200.00      76\n",
      "13200.00      76\n",
      "5400.00       76\n",
      "6500.00       74\n",
      "10800.00      74\n",
      "7000.00       73\n",
      "12100.00      73\n",
      "17000.00      73\n",
      "2700.00       72\n",
      "13900.00      72\n",
      "15200.00      72\n",
      "16900.00      71\n",
      "10700.00      71\n",
      "18400.00      71\n",
      "14300.00      70\n",
      "7900.00       70\n",
      "2400.00       70\n",
      "18200.00      69\n",
      "4600.00       69\n",
      "14700.00      69\n",
      "2900.00       69\n",
      "13600.00      69\n",
      "            ... \n",
      "7166.67        1\n",
      "530.00         1\n",
      "10033.33       1\n",
      "6505.56        1\n",
      "1435.29        1\n",
      "10133.33       1\n",
      "13814.29       1\n",
      "23533.33       1\n",
      "7685.71        1\n",
      "7133.33        1\n",
      "21433.33       1\n",
      "4833.33        1\n",
      "3345.45        1\n",
      "6233.33        1\n",
      "9733.33        1\n",
      "11415.38       1\n",
      "22066.67       1\n",
      "1650.00        1\n",
      "17733.33       1\n",
      "20666.67       1\n",
      "7266.67        1\n",
      "16566.67       1\n",
      "12525.00       1\n",
      "3866.67        1\n",
      "2742.11        1\n",
      "24533.33       1\n",
      "15150.00       1\n",
      "17966.67       1\n",
      "20433.33       1\n",
      "18033.33       1\n",
      "Name: AVG_AMT_PER_ATM_TXN, Length: 752, dtype: int64\n",
      "0.00         4973\n",
      "204750.00      11\n",
      "448100.00      11\n",
      "228726.67      10\n",
      "548520.00      10\n",
      "77849.09       10\n",
      "156100.00      10\n",
      "87350.00        9\n",
      "696840.00       9\n",
      "66410.00        9\n",
      "129893.33       9\n",
      "109015.00       9\n",
      "7406.67         9\n",
      "454785.00       9\n",
      "390210.00       9\n",
      "45755.00        9\n",
      "78436.67        8\n",
      "648920.00       8\n",
      "175568.00       8\n",
      "425020.00       8\n",
      "755780.00       8\n",
      "150610.00       8\n",
      "218950.00       8\n",
      "378270.00       8\n",
      "180950.00       8\n",
      "739080.00       8\n",
      "534240.00       8\n",
      "302720.00       8\n",
      "53460.00        8\n",
      "56720.00        8\n",
      "             ... \n",
      "120805.00       1\n",
      "225230.00       1\n",
      "56016.67        1\n",
      "64123.33        1\n",
      "259236.67       1\n",
      "966260.00       1\n",
      "268420.00       1\n",
      "89100.00        1\n",
      "65762.00        1\n",
      "573300.00       1\n",
      "27630.00        1\n",
      "78997.14        1\n",
      "434060.00       1\n",
      "11730.00        1\n",
      "112610.00       1\n",
      "434055.00       1\n",
      "335750.00       1\n",
      "241310.00       1\n",
      "583960.00       1\n",
      "460560.00       1\n",
      "117345.71       1\n",
      "395640.00       1\n",
      "165640.00       1\n",
      "103220.00       1\n",
      "104396.67       1\n",
      "241575.00       1\n",
      "426420.00       1\n",
      "573060.00       1\n",
      "213413.33       1\n",
      "449590.00       1\n",
      "Name: AVG_AMT_PER_CSH_WDL_TXN, Length: 7514, dtype: int64\n",
      "0.00         8508\n",
      "5960.00        20\n",
      "22770.00       13\n",
      "14975.00       12\n",
      "8492.50        12\n",
      "46320.00       11\n",
      "12030.00       11\n",
      "30460.00       11\n",
      "23112.50       10\n",
      "6670.00        10\n",
      "17242.50       10\n",
      "8750.00        10\n",
      "46280.00       10\n",
      "36860.00       10\n",
      "13660.00       10\n",
      "34455.00       10\n",
      "8812.50         9\n",
      "15605.00        9\n",
      "63230.00        9\n",
      "24125.00        9\n",
      "3165.00         9\n",
      "15300.00        9\n",
      "20357.50        9\n",
      "71540.00        9\n",
      "8770.00         9\n",
      "20120.00        9\n",
      "6190.00         9\n",
      "5012.50         9\n",
      "188846.00       9\n",
      "17920.00        9\n",
      "             ... \n",
      "28425.00        1\n",
      "74905.00        1\n",
      "41810.00        1\n",
      "5612.86         1\n",
      "4451.25         1\n",
      "99790.00        1\n",
      "18022.50        1\n",
      "34340.00        1\n",
      "9972.50         1\n",
      "2685.00         1\n",
      "12165.00        1\n",
      "5342.00         1\n",
      "20460.00        1\n",
      "35810.00        1\n",
      "15556.67        1\n",
      "22455.00        1\n",
      "10410.00        1\n",
      "21662.50        1\n",
      "6565.00         1\n",
      "40145.00        1\n",
      "14492.50        1\n",
      "13735.00        1\n",
      "44530.00        1\n",
      "38415.00        1\n",
      "28536.67        1\n",
      "45170.00        1\n",
      "24167.50        1\n",
      "20525.00        1\n",
      "346094.55       1\n",
      "158266.67       1\n",
      "Name: AVG_AMT_PER_CHQ_TXN, Length: 5346, dtype: int64\n",
      "0.00         10578\n",
      "486778.50       13\n",
      "629456.00       11\n",
      "174423.25        9\n",
      "274242.00        8\n",
      "325480.00        8\n",
      "666346.00        8\n",
      "191234.00        8\n",
      "16325.75         8\n",
      "472761.00        8\n",
      "899171.00        8\n",
      "374221.00        8\n",
      "662392.00        8\n",
      "706860.00        8\n",
      "500020.00        8\n",
      "3147.37          8\n",
      "39416.50         8\n",
      "127610.00        8\n",
      "5897.86          7\n",
      "460570.00        7\n",
      "291470.00        7\n",
      "277818.00        7\n",
      "420389.00        7\n",
      "891202.00        7\n",
      "196981.75        7\n",
      "720528.00        7\n",
      "190008.75        7\n",
      "979838.00        7\n",
      "626941.00        7\n",
      "108150.17        7\n",
      "             ...  \n",
      "49888.50         1\n",
      "285679.00        1\n",
      "3247.00          1\n",
      "16056.00         1\n",
      "741157.00        1\n",
      "699884.00        1\n",
      "60126.00         1\n",
      "54426.00         1\n",
      "366308.00        1\n",
      "734198.00        1\n",
      "14521.25         1\n",
      "52860.80         1\n",
      "581540.00        1\n",
      "536180.00        1\n",
      "843601.00        1\n",
      "79326.75         1\n",
      "60143.25         1\n",
      "586988.00        1\n",
      "421804.00        1\n",
      "896738.00        1\n",
      "199606.75        1\n",
      "178143.00        1\n",
      "32508.00         1\n",
      "438215.00        1\n",
      "39231.29         1\n",
      "482022.00        1\n",
      "25972.75         1\n",
      "48633.00         1\n",
      "896643.00        1\n",
      "439067.00        1\n",
      "Name: AVG_AMT_PER_NET_TXN, Length: 4857, dtype: int64\n",
      "0.00         15451\n",
      "52635.00        10\n",
      "177483.00       10\n",
      "74504.00         9\n",
      "95981.00         9\n",
      "21198.00         8\n",
      "104170.00        8\n",
      "196321.00        8\n",
      "7973.92          8\n",
      "21780.00         8\n",
      "65889.00         8\n",
      "3154.00          8\n",
      "107327.00        8\n",
      "129692.00        8\n",
      "78104.00         7\n",
      "73704.00         7\n",
      "50189.00         7\n",
      "137966.00        7\n",
      "70153.00         7\n",
      "170332.00        7\n",
      "114004.00        7\n",
      "77411.00         7\n",
      "51112.00         7\n",
      "33152.00         7\n",
      "65064.00         7\n",
      "45314.00         7\n",
      "24100.00         7\n",
      "71476.00         7\n",
      "21220.00         7\n",
      "76587.00         6\n",
      "             ...  \n",
      "14174.00         1\n",
      "191510.00        1\n",
      "113614.00        1\n",
      "8559.50          1\n",
      "95756.50         1\n",
      "60902.50         1\n",
      "178072.00        1\n",
      "175142.00        1\n",
      "26354.00         1\n",
      "183345.00        1\n",
      "72647.00         1\n",
      "97240.50         1\n",
      "71164.00         1\n",
      "166899.00        1\n",
      "183236.00        1\n",
      "34675.00         1\n",
      "142246.00        1\n",
      "141556.00        1\n",
      "39661.00         1\n",
      "53997.50         1\n",
      "116188.00        1\n",
      "37620.00         1\n",
      "169910.00        1\n",
      "29050.50         1\n",
      "35576.00         1\n",
      "31968.00         1\n",
      "9596.00          1\n",
      "125918.00        1\n",
      "71157.00         1\n",
      "118781.00        1\n",
      "Name: AVG_AMT_PER_MOB_TXN, Length: 2316, dtype: int64\n",
      "1    18023\n",
      "0     1977\n",
      "Name: FLG_HAS_NOMINEE, dtype: int64\n",
      "0    10141\n",
      "1     9859\n",
      "Name: FLG_HAS_OLD_LOAN, dtype: int64\n"
     ]
    }
   ],
   "source": [
    "for i in df.columns:\n",
    "    print(df[i].value_counts())"
   ]
  },
  {
   "cell_type": "code",
   "execution_count": 233,
   "metadata": {},
   "outputs": [
    {
     "data": {
      "text/plain": [
       "dtype('int64')"
      ]
     },
     "execution_count": 233,
     "metadata": {},
     "output_type": "execute_result"
    }
   ],
   "source": [
    "df['FLG_HAS_CC'].dtype"
   ]
  },
  {
   "cell_type": "code",
   "execution_count": null,
   "metadata": {},
   "outputs": [],
   "source": []
  },
  {
   "cell_type": "code",
   "execution_count": 234,
   "metadata": {},
   "outputs": [],
   "source": [
    "for i in df.columns:\n",
    "    if df[i].dtype == 'object':\n",
    "        df[i]=df[i].astype('category')\n",
    "        \n",
    "df.dtypes\n",
    "\n",
    "df.TARGET = df.TARGET.astype('category')"
   ]
  },
  {
   "cell_type": "code",
   "execution_count": 235,
   "metadata": {},
   "outputs": [
    {
     "data": {
      "image/png": "[encoded data removed]",
      "text/plain": [
       "<Figure size 432x288 with 1 Axes>"
      ]
     },
     "metadata": {
      "needs_background": "light"
     },
     "output_type": "display_data"
    },
    {
     "data": {
      "image/png": "[encoded data removed]",
      "text/plain": [
       "<Figure size 432x288 with 1 Axes>"
      ]
     },
     "metadata": {
      "needs_background": "light"
     },
     "output_type": "display_data"
    },
    {
     "data": {
      "image/png": "[encoded data removed]",
      "text/plain": [
       "<Figure size 432x288 with 1 Axes>"
      ]
     },
     "metadata": {
      "needs_background": "light"
     },
     "output_type": "display_data"
    },
    {
     "data": {
      "image/png": "[encoded data removed]",
      "text/plain": [
       "<Figure size 432x288 with 1 Axes>"
      ]
     },
     "metadata": {
      "needs_background": "light"
     },
     "output_type": "display_data"
    },
    {
     "data": {
      "image/png": "[encoded data removed]",
      "text/plain": [
       "<Figure size 432x288 with 1 Axes>"
      ]
     },
     "metadata": {
      "needs_background": "light"
     },
     "output_type": "display_data"
    },
    {
     "data": {
      "image/png": "[encoded data removed]",
      "text/plain": [
       "<Figure size 432x288 with 1 Axes>"
      ]
     },
     "metadata": {
      "needs_background": "light"
     },
     "output_type": "display_data"
    },
    {
     "data": {
      "image/png": "[encoded data removed]",
      "text/plain": [
       "<Figure size 432x288 with 1 Axes>"
      ]
     },
     "metadata": {
      "needs_background": "light"
     },
     "output_type": "display_data"
    },
    {
     "data": {
      "image/png": "[encoded data removed]",
      "text/plain": [
       "<Figure size 432x288 with 1 Axes>"
      ]
     },
     "metadata": {
      "needs_background": "light"
     },
     "output_type": "display_data"
    },
    {
     "data": {
      "image/png": "[encoded data removed]",
      "text/plain": [
       "<Figure size 432x288 with 1 Axes>"
      ]
     },
     "metadata": {
      "needs_background": "light"
     },
     "output_type": "display_data"
    },
    {
     "data": {
      "image/png": "[encoded data removed]",
      "text/plain": [
       "<Figure size 432x288 with 1 Axes>"
      ]
     },
     "metadata": {
      "needs_background": "light"
     },
     "output_type": "display_data"
    },
    {
     "data": {
      "image/png": "[encoded data removed]",
      "text/plain": [
       "<Figure size 432x288 with 1 Axes>"
      ]
     },
     "metadata": {
      "needs_background": "light"
     },
     "output_type": "display_data"
    },
    {
     "data": {
      "image/png": "[encoded data removed]",
      "text/plain": [
       "<Figure size 432x288 with 1 Axes>"
      ]
     },
     "metadata": {
      "needs_background": "light"
     },
     "output_type": "display_data"
    },
    {
     "data": {
      "image/png": "[encoded data removed]",
      "text/plain": [
       "<Figure size 432x288 with 1 Axes>"
      ]
     },
     "metadata": {
      "needs_background": "light"
     },
     "output_type": "display_data"
    },
    {
     "data": {
      "image/png": "[encoded data removed]",
      "text/plain": [
       "<Figure size 432x288 with 1 Axes>"
      ]
     },
     "metadata": {
      "needs_background": "light"
     },
     "output_type": "display_data"
    },
    {
     "data": {
      "image/png": "[encoded data removed]",
      "text/plain": [
       "<Figure size 432x288 with 1 Axes>"
      ]
     },
     "metadata": {
      "needs_background": "light"
     },
     "output_type": "display_data"
    },
    {
     "data": {
      "image/png": "[encoded data removed]",
      "text/plain": [
       "<Figure size 432x288 with 1 Axes>"
      ]
     },
     "metadata": {
      "needs_background": "light"
     },
     "output_type": "display_data"
    },
    {
     "data": {
      "image/png": "[encoded data removed]",
      "text/plain": [
       "<Figure size 432x288 with 1 Axes>"
      ]
     },
     "metadata": {
      "needs_background": "light"
     },
     "output_type": "display_data"
    },
    {
     "data": {
      "image/png": "[encoded data removed]",
      "text/plain": [
       "<Figure size 432x288 with 1 Axes>"
      ]
     },
     "metadata": {
      "needs_background": "light"
     },
     "output_type": "display_data"
    },
    {
     "data": {
      "image/png": "[encoded data removed]",
      "text/plain": [
       "<Figure size 432x288 with 1 Axes>"
      ]
     },
     "metadata": {
      "needs_background": "light"
     },
     "output_type": "display_data"
    },
    {
     "data": {
      "image/png": "[encoded data removed]",
      "text/plain": [
       "<Figure size 432x288 with 1 Axes>"
      ]
     },
     "metadata": {
      "needs_background": "light"
     },
     "output_type": "display_data"
    },
    {
     "data": {
      "image/png": "[encoded data removed]",
      "text/plain": [
       "<Figure size 432x288 with 1 Axes>"
      ]
     },
     "metadata": {
      "needs_background": "light"
     },
     "output_type": "display_data"
    },
    {
     "data": {
      "image/png": "[encoded data removed]",
      "text/plain": [
       "<Figure size 432x288 with 1 Axes>"
      ]
     },
     "metadata": {
      "needs_background": "light"
     },
     "output_type": "display_data"
    },
    {
     "data": {
      "image/png": "[encoded data removed]",
      "text/plain": [
       "<Figure size 432x288 with 1 Axes>"
      ]
     },
     "metadata": {
      "needs_background": "light"
     },
     "output_type": "display_data"
    },
    {
     "data": {
      "image/png": "[encoded data removed]",
      "text/plain": [
       "<Figure size 432x288 with 1 Axes>"
      ]
     },
     "metadata": {
      "needs_background": "light"
     },
     "output_type": "display_data"
    },
    {
     "data": {
      "image/png": "[encoded data removed]",
      "text/plain": [
       "<Figure size 432x288 with 1 Axes>"
      ]
     },
     "metadata": {
      "needs_background": "light"
     },
     "output_type": "display_data"
    },
    {
     "data": {
      "image/png": "[encoded data removed]",
      "text/plain": [
       "<Figure size 432x288 with 1 Axes>"
      ]
     },
     "metadata": {
      "needs_background": "light"
     },
     "output_type": "display_data"
    },
    {
     "data": {
      "image/png": "[encoded data removed]",
      "text/plain": [
       "<Figure size 432x288 with 1 Axes>"
      ]
     },
     "metadata": {
      "needs_background": "light"
     },
     "output_type": "display_data"
    },
    {
     "data": {
      "image/png": "[encoded data removed]",
      "text/plain": [
       "<Figure size 432x288 with 1 Axes>"
      ]
     },
     "metadata": {
      "needs_background": "light"
     },
     "output_type": "display_data"
    },
    {
     "data": {
      "image/png": "[encoded data removed]",
      "text/plain": [
       "<Figure size 432x288 with 1 Axes>"
      ]
     },
     "metadata": {
      "needs_background": "light"
     },
     "output_type": "display_data"
    },
    {
     "data": {
      "image/png": "[encoded data removed]",
      "text/plain": [
       "<Figure size 432x288 with 1 Axes>"
      ]
     },
     "metadata": {
      "needs_background": "light"
     },
     "output_type": "display_data"
    },
    {
     "data": {
      "image/png": "[encoded data removed]",
      "text/plain": [
       "<Figure size 432x288 with 1 Axes>"
      ]
     },
     "metadata": {
      "needs_background": "light"
     },
     "output_type": "display_data"
    },
    {
     "data": {
      "image/png": "[encoded data removed]",
      "text/plain": [
       "<Figure size 432x288 with 1 Axes>"
      ]
     },
     "metadata": {
      "needs_background": "light"
     },
     "output_type": "display_data"
    }
   ],
   "source": [
    "for i in df.columns:\n",
    "    if df[i].dtype in ('float64','int64'):\n",
    "        sns.boxplot(df[i].dropna())\n",
    "        plt.show()"
   ]
  },
  {
   "cell_type": "code",
   "execution_count": 236,
   "metadata": {},
   "outputs": [
    {
     "name": "stderr",
     "output_type": "stream",
     "text": [
      "C:\\Users\\lenovo\\Anaconda3\\lib\\site-packages\\scipy\\stats\\stats.py:1713: FutureWarning: Using a non-tuple sequence for multidimensional indexing is deprecated; use `arr[tuple(seq)]` instead of `arr[seq]`. In the future this will be interpreted as an array index, `arr[np.array(seq)]`, which will result either in an error or a different result.\n",
      "  return np.add.reduce(sorted[indexer] * weights, axis=axis) / sumval\n"
     ]
    },
    {
     "data": {
      "image/png": "[encoded data removed]",
      "text/plain": [
       "<Figure size 432x288 with 1 Axes>"
      ]
     },
     "metadata": {
      "needs_background": "light"
     },
     "output_type": "display_data"
    },
    {
     "data": {
      "image/png": "[encoded data removed]",
      "text/plain": [
       "<Figure size 432x288 with 1 Axes>"
      ]
     },
     "metadata": {
      "needs_background": "light"
     },
     "output_type": "display_data"
    },
    {
     "data": {
      "image/png": "[encoded data removed]",
      "text/plain": [
       "<Figure size 432x288 with 1 Axes>"
      ]
     },
     "metadata": {
      "needs_background": "light"
     },
     "output_type": "display_data"
    },
    {
     "data": {
      "image/png": "[encoded data removed]",
      "text/plain": [
       "<Figure size 432x288 with 1 Axes>"
      ]
     },
     "metadata": {
      "needs_background": "light"
     },
     "output_type": "display_data"
    },
    {
     "data": {
      "image/png": "[encoded data removed]",
      "text/plain": [
       "<Figure size 432x288 with 1 Axes>"
      ]
     },
     "metadata": {
      "needs_background": "light"
     },
     "output_type": "display_data"
    },
    {
     "data": {
      "image/png": "[encoded data removed]",
      "text/plain": [
       "<Figure size 432x288 with 1 Axes>"
      ]
     },
     "metadata": {
      "needs_background": "light"
     },
     "output_type": "display_data"
    },
    {
     "data": {
      "image/png": "[encoded data removed]",
      "text/plain": [
       "<Figure size 432x288 with 1 Axes>"
      ]
     },
     "metadata": {
      "needs_background": "light"
     },
     "output_type": "display_data"
    },
    {
     "data": {
      "image/png": "[encoded data removed]",
      "text/plain": [
       "<Figure size 432x288 with 1 Axes>"
      ]
     },
     "metadata": {
      "needs_background": "light"
     },
     "output_type": "display_data"
    },
    {
     "data": {
      "image/png": "[encoded data removed]",
      "text/plain": [
       "<Figure size 432x288 with 1 Axes>"
      ]
     },
     "metadata": {
      "needs_background": "light"
     },
     "output_type": "display_data"
    },
    {
     "data": {
      "image/png": "[encoded data removed]",
      "text/plain": [
       "<Figure size 432x288 with 1 Axes>"
      ]
     },
     "metadata": {
      "needs_background": "light"
     },
     "output_type": "display_data"
    },
    {
     "data": {
      "image/png": "[encoded data removed]",
      "text/plain": [
       "<Figure size 432x288 with 1 Axes>"
      ]
     },
     "metadata": {
      "needs_background": "light"
     },
     "output_type": "display_data"
    },
    {
     "data": {
      "image/png": "[encoded data removed]",
      "text/plain": [
       "<Figure size 432x288 with 1 Axes>"
      ]
     },
     "metadata": {
      "needs_background": "light"
     },
     "output_type": "display_data"
    },
    {
     "data": {
      "image/png": "[encoded data removed]",
      "text/plain": [
       "<Figure size 432x288 with 1 Axes>"
      ]
     },
     "metadata": {
      "needs_background": "light"
     },
     "output_type": "display_data"
    },
    {
     "data": {
      "image/png": "[encoded data removed]",
      "text/plain": [
       "<Figure size 432x288 with 1 Axes>"
      ]
     },
     "metadata": {
      "needs_background": "light"
     },
     "output_type": "display_data"
    },
    {
     "data": {
      "image/png": "[encoded data removed]",
      "text/plain": [
       "<Figure size 432x288 with 1 Axes>"
      ]
     },
     "metadata": {
      "needs_background": "light"
     },
     "output_type": "display_data"
    },
    {
     "data": {
      "image/png": "[encoded data removed]",
      "text/plain": [
       "<Figure size 432x288 with 1 Axes>"
      ]
     },
     "metadata": {
      "needs_background": "light"
     },
     "output_type": "display_data"
    },
    {
     "data": {
      "image/png": "[encoded data removed]",
      "text/plain": [
       "<Figure size 432x288 with 1 Axes>"
      ]
     },
     "metadata": {
      "needs_background": "light"
     },
     "output_type": "display_data"
    },
    {
     "data": {
      "image/png": "[encoded data removed]",
      "text/plain": [
       "<Figure size 432x288 with 1 Axes>"
      ]
     },
     "metadata": {
      "needs_background": "light"
     },
     "output_type": "display_data"
    },
    {
     "data": {
      "image/png": "[encoded data removed]",
      "text/plain": [
       "<Figure size 432x288 with 1 Axes>"
      ]
     },
     "metadata": {
      "needs_background": "light"
     },
     "output_type": "display_data"
    },
    {
     "data": {
      "image/png": "[encoded data removed]",
      "text/plain": [
       "<Figure size 432x288 with 1 Axes>"
      ]
     },
     "metadata": {
      "needs_background": "light"
     },
     "output_type": "display_data"
    },
    {
     "data": {
      "image/png": "[encoded data removed]",
      "text/plain": [
       "<Figure size 432x288 with 1 Axes>"
      ]
     },
     "metadata": {
      "needs_background": "light"
     },
     "output_type": "display_data"
    },
    {
     "data": {
      "image/png": "[encoded data removed]",
      "text/plain": [
       "<Figure size 432x288 with 1 Axes>"
      ]
     },
     "metadata": {
      "needs_background": "light"
     },
     "output_type": "display_data"
    },
    {
     "data": {
      "image/png": "[encoded data removed]",
      "text/plain": [
       "<Figure size 432x288 with 1 Axes>"
      ]
     },
     "metadata": {
      "needs_background": "light"
     },
     "output_type": "display_data"
    },
    {
     "data": {
      "image/png": "[encoded data removed]",
      "text/plain": [
       "<Figure size 432x288 with 1 Axes>"
      ]
     },
     "metadata": {
      "needs_background": "light"
     },
     "output_type": "display_data"
    },
    {
     "data": {
      "image/png": "[encoded data removed]",
      "text/plain": [
       "<Figure size 432x288 with 1 Axes>"
      ]
     },
     "metadata": {
      "needs_background": "light"
     },
     "output_type": "display_data"
    },
    {
     "data": {
      "image/png": "[encoded data removed]",
      "text/plain": [
       "<Figure size 432x288 with 1 Axes>"
      ]
     },
     "metadata": {
      "needs_background": "light"
     },
     "output_type": "display_data"
    },
    {
     "data": {
      "image/png": "[encoded data removed]",
      "text/plain": [
       "<Figure size 432x288 with 1 Axes>"
      ]
     },
     "metadata": {
      "needs_background": "light"
     },
     "output_type": "display_data"
    },
    {
     "data": {
      "image/png": "[encoded data removed]",
      "text/plain": [
       "<Figure size 432x288 with 1 Axes>"
      ]
     },
     "metadata": {
      "needs_background": "light"
     },
     "output_type": "display_data"
    },
    {
     "data": {
      "image/png": "[encoded data removed]",
      "text/plain": [
       "<Figure size 432x288 with 1 Axes>"
      ]
     },
     "metadata": {
      "needs_background": "light"
     },
     "output_type": "display_data"
    },
    {
     "data": {
      "image/png": "[encoded data removed]",
      "text/plain": [
       "<Figure size 432x288 with 1 Axes>"
      ]
     },
     "metadata": {
      "needs_background": "light"
     },
     "output_type": "display_data"
    },
    {
     "data": {
      "image/png": "[encoded data removed]",
      "text/plain": [
       "<Figure size 432x288 with 1 Axes>"
      ]
     },
     "metadata": {
      "needs_background": "light"
     },
     "output_type": "display_data"
    },
    {
     "data": {
      "image/png": "[encoded data removed]",
      "text/plain": [
       "<Figure size 432x288 with 1 Axes>"
      ]
     },
     "metadata": {
      "needs_background": "light"
     },
     "output_type": "display_data"
    }
   ],
   "source": [
    "for i in df.columns:\n",
    "    if df[i].dtype in ('float64','int64'):\n",
    "        sns.distplot(df[i].dropna())\n",
    "        plt.show()"
   ]
  },
  {
   "cell_type": "code",
   "execution_count": 237,
   "metadata": {},
   "outputs": [
    {
     "data": {
      "image/png": "[encoded data removed]",
      "text/plain": [
       "<Figure size 432x288 with 1 Axes>"
      ]
     },
     "metadata": {
      "needs_background": "light"
     },
     "output_type": "display_data"
    },
    {
     "data": {
      "image/png": "[encoded data removed]",
      "text/plain": [
       "<Figure size 432x288 with 1 Axes>"
      ]
     },
     "metadata": {
      "needs_background": "light"
     },
     "output_type": "display_data"
    },
    {
     "data": {
      "image/png": "[encoded data removed]",
      "text/plain": [
       "<Figure size 432x288 with 1 Axes>"
      ]
     },
     "metadata": {
      "needs_background": "light"
     },
     "output_type": "display_data"
    },
    {
     "data": {
      "image/png": "[encoded data removed]",
      "text/plain": [
       "<Figure size 432x288 with 1 Axes>"
      ]
     },
     "metadata": {
      "needs_background": "light"
     },
     "output_type": "display_data"
    },
    {
     "data": {
      "image/png": "[encoded data removed]",
      "text/plain": [
       "<Figure size 432x288 with 1 Axes>"
      ]
     },
     "metadata": {
      "needs_background": "light"
     },
     "output_type": "display_data"
    }
   ],
   "source": [
    "for i in df.columns:\n",
    "    if df[i].dtype not in ('float64','int64'):\n",
    "        sns.countplot(df[i].dropna())\n",
    "        plt.show()"
   ]
  },
  {
   "cell_type": "code",
   "execution_count": 238,
   "metadata": {},
   "outputs": [
    {
     "data": {
      "text/plain": [
       "TARGET\n",
       "0    87.44\n",
       "1    12.56\n",
       "Name: TARGET, dtype: float64"
      ]
     },
     "execution_count": 238,
     "metadata": {},
     "output_type": "execute_result"
    }
   ],
   "source": [
    "df.groupby('TARGET')['TARGET'].count()/20000*100"
   ]
  },
  {
   "cell_type": "code",
   "execution_count": 239,
   "metadata": {},
   "outputs": [
    {
     "data": {
      "text/plain": [
       "\"for i in df.columns:\\n    for j in df.columns:\\n        plt.figure(figsize=(10,7))\\n        plt.subplot(121)\\n        sns.scatterplot( i, j, data=df)\\n        #plt.subplot(122)\\n       # sns.scatterplot( j, i , data=df ,color='r')\\n        plt.show()\""
      ]
     },
     "execution_count": 239,
     "metadata": {},
     "output_type": "execute_result"
    }
   ],
   "source": [
    "'''for i in df.columns:\n",
    "    for j in df.columns:\n",
    "        plt.figure(figsize=(10,7))\n",
    "        plt.subplot(121)\n",
    "        sns.scatterplot( i, j, data=df)\n",
    "        #plt.subplot(122)\n",
    "       # sns.scatterplot( j, i , data=df ,color='r')\n",
    "        plt.show()'''\n",
    "        "
   ]
  },
  {
   "cell_type": "code",
   "execution_count": 240,
   "metadata": {},
   "outputs": [
    {
     "data": {
      "text/plain": [
       "TARGET                      0\n",
       "AGE                         0\n",
       "GENDER                      0\n",
       "BALANCE                     0\n",
       "OCCUPATION                  0\n",
       "AGE_BKT                     0\n",
       "SCR                         0\n",
       "HOLDING_PERIOD              0\n",
       "ACC_TYPE                    0\n",
       "LEN_OF_RLTN_IN_MNTH         0\n",
       "NO_OF_L_CR_TXNS             0\n",
       "NO_OF_L_DR_TXNS             0\n",
       "TOT_NO_OF_L_TXNS            0\n",
       "NO_OF_BR_CSH_WDL_DR_TXNS    0\n",
       "NO_OF_ATM_DR_TXNS           0\n",
       "NO_OF_NET_DR_TXNS           0\n",
       "NO_OF_MOB_DR_TXNS           0\n",
       "NO_OF_CHQ_DR_TXNS           0\n",
       "FLG_HAS_CC                  0\n",
       "AMT_ATM_DR                  0\n",
       "AMT_BR_CSH_WDL_DR           0\n",
       "AMT_CHQ_DR                  0\n",
       "AMT_NET_DR                  0\n",
       "AMT_MOB_DR                  0\n",
       "AMT_L_DR                    0\n",
       "FLG_HAS_ANY_CHGS            0\n",
       "AMT_OTH_BK_ATM_USG_CHGS     0\n",
       "AMT_MIN_BAL_NMC_CHGS        0\n",
       "NO_OF_IW_CHQ_BNC_TXNS       0\n",
       "NO_OF_OW_CHQ_BNC_TXNS       0\n",
       "AVG_AMT_PER_ATM_TXN         0\n",
       "AVG_AMT_PER_CSH_WDL_TXN     0\n",
       "AVG_AMT_PER_CHQ_TXN         0\n",
       "AVG_AMT_PER_NET_TXN         0\n",
       "AVG_AMT_PER_MOB_TXN         0\n",
       "FLG_HAS_NOMINEE             0\n",
       "FLG_HAS_OLD_LOAN            0\n",
       "dtype: int64"
      ]
     },
     "execution_count": 240,
     "metadata": {},
     "output_type": "execute_result"
    }
   ],
   "source": [
    "df.isnull().sum()"
   ]
  },
  {
   "cell_type": "code",
   "execution_count": 241,
   "metadata": {},
   "outputs": [],
   "source": [
    "from sklearn.tree import DecisionTreeClassifier\n",
    "from sklearn.ensemble import RandomForestClassifier\n",
    "from sklearn.model_selection import GridSearchCV\n",
    "from sklearn.preprocessing import StandardScaler\n",
    "from sklearn.model_selection import train_test_split"
   ]
  },
  {
   "cell_type": "code",
   "execution_count": 242,
   "metadata": {},
   "outputs": [
    {
     "data": {
      "text/html": [
       "<div>\n",
       "<style scoped>\n",
       "    .dataframe tbody tr th:only-of-type {\n",
       "        vertical-align: middle;\n",
       "    }\n",
       "\n",
       "    .dataframe tbody tr th {\n",
       "        vertical-align: top;\n",
       "    }\n",
       "\n",
       "    .dataframe thead th {\n",
       "        text-align: right;\n",
       "    }\n",
       "</style>\n",
       "<table border=\"1\" class=\"dataframe\">\n",
       "  <thead>\n",
       "    <tr style=\"text-align: right;\">\n",
       "      <th></th>\n",
       "      <th>TARGET</th>\n",
       "      <th>AGE</th>\n",
       "      <th>GENDER</th>\n",
       "      <th>BALANCE</th>\n",
       "      <th>OCCUPATION</th>\n",
       "      <th>AGE_BKT</th>\n",
       "      <th>SCR</th>\n",
       "      <th>HOLDING_PERIOD</th>\n",
       "      <th>ACC_TYPE</th>\n",
       "      <th>LEN_OF_RLTN_IN_MNTH</th>\n",
       "      <th>...</th>\n",
       "      <th>AMT_MIN_BAL_NMC_CHGS</th>\n",
       "      <th>NO_OF_IW_CHQ_BNC_TXNS</th>\n",
       "      <th>NO_OF_OW_CHQ_BNC_TXNS</th>\n",
       "      <th>AVG_AMT_PER_ATM_TXN</th>\n",
       "      <th>AVG_AMT_PER_CSH_WDL_TXN</th>\n",
       "      <th>AVG_AMT_PER_CHQ_TXN</th>\n",
       "      <th>AVG_AMT_PER_NET_TXN</th>\n",
       "      <th>AVG_AMT_PER_MOB_TXN</th>\n",
       "      <th>FLG_HAS_NOMINEE</th>\n",
       "      <th>FLG_HAS_OLD_LOAN</th>\n",
       "    </tr>\n",
       "  </thead>\n",
       "  <tbody>\n",
       "    <tr>\n",
       "      <th>0</th>\n",
       "      <td>0</td>\n",
       "      <td>27</td>\n",
       "      <td>M</td>\n",
       "      <td>3383.75</td>\n",
       "      <td>SELF-EMP</td>\n",
       "      <td>26-30</td>\n",
       "      <td>776</td>\n",
       "      <td>30</td>\n",
       "      <td>SA</td>\n",
       "      <td>146</td>\n",
       "      <td>...</td>\n",
       "      <td>0</td>\n",
       "      <td>0</td>\n",
       "      <td>0</td>\n",
       "      <td>13100.0</td>\n",
       "      <td>0.0</td>\n",
       "      <td>0.0</td>\n",
       "      <td>486778.50</td>\n",
       "      <td>0.0</td>\n",
       "      <td>1</td>\n",
       "      <td>1</td>\n",
       "    </tr>\n",
       "    <tr>\n",
       "      <th>1</th>\n",
       "      <td>0</td>\n",
       "      <td>47</td>\n",
       "      <td>M</td>\n",
       "      <td>287489.04</td>\n",
       "      <td>SAL</td>\n",
       "      <td>46-50</td>\n",
       "      <td>324</td>\n",
       "      <td>28</td>\n",
       "      <td>SA</td>\n",
       "      <td>104</td>\n",
       "      <td>...</td>\n",
       "      <td>0</td>\n",
       "      <td>0</td>\n",
       "      <td>0</td>\n",
       "      <td>6600.0</td>\n",
       "      <td>0.0</td>\n",
       "      <td>0.0</td>\n",
       "      <td>799813.00</td>\n",
       "      <td>0.0</td>\n",
       "      <td>1</td>\n",
       "      <td>0</td>\n",
       "    </tr>\n",
       "    <tr>\n",
       "      <th>2</th>\n",
       "      <td>0</td>\n",
       "      <td>40</td>\n",
       "      <td>M</td>\n",
       "      <td>18216.88</td>\n",
       "      <td>SELF-EMP</td>\n",
       "      <td>36-40</td>\n",
       "      <td>603</td>\n",
       "      <td>2</td>\n",
       "      <td>SA</td>\n",
       "      <td>61</td>\n",
       "      <td>...</td>\n",
       "      <td>0</td>\n",
       "      <td>0</td>\n",
       "      <td>1</td>\n",
       "      <td>11200.0</td>\n",
       "      <td>561120.0</td>\n",
       "      <td>24660.0</td>\n",
       "      <td>997570.00</td>\n",
       "      <td>0.0</td>\n",
       "      <td>1</td>\n",
       "      <td>1</td>\n",
       "    </tr>\n",
       "    <tr>\n",
       "      <th>3</th>\n",
       "      <td>0</td>\n",
       "      <td>53</td>\n",
       "      <td>M</td>\n",
       "      <td>71720.48</td>\n",
       "      <td>SAL</td>\n",
       "      <td>&gt;50</td>\n",
       "      <td>196</td>\n",
       "      <td>13</td>\n",
       "      <td>CA</td>\n",
       "      <td>107</td>\n",
       "      <td>...</td>\n",
       "      <td>0</td>\n",
       "      <td>0</td>\n",
       "      <td>0</td>\n",
       "      <td>13050.0</td>\n",
       "      <td>168397.5</td>\n",
       "      <td>15195.0</td>\n",
       "      <td>247168.67</td>\n",
       "      <td>71388.0</td>\n",
       "      <td>1</td>\n",
       "      <td>0</td>\n",
       "    </tr>\n",
       "    <tr>\n",
       "      <th>4</th>\n",
       "      <td>0</td>\n",
       "      <td>36</td>\n",
       "      <td>M</td>\n",
       "      <td>1671622.89</td>\n",
       "      <td>PROF</td>\n",
       "      <td>36-40</td>\n",
       "      <td>167</td>\n",
       "      <td>24</td>\n",
       "      <td>SA</td>\n",
       "      <td>185</td>\n",
       "      <td>...</td>\n",
       "      <td>0</td>\n",
       "      <td>0</td>\n",
       "      <td>0</td>\n",
       "      <td>0.0</td>\n",
       "      <td>808480.0</td>\n",
       "      <td>0.0</td>\n",
       "      <td>0.00</td>\n",
       "      <td>0.0</td>\n",
       "      <td>1</td>\n",
       "      <td>0</td>\n",
       "    </tr>\n",
       "  </tbody>\n",
       "</table>\n",
       "<p>5 rows × 37 columns</p>\n",
       "</div>"
      ],
      "text/plain": [
       "  TARGET  AGE GENDER     BALANCE OCCUPATION AGE_BKT  SCR  HOLDING_PERIOD  \\\n",
       "0      0   27      M     3383.75   SELF-EMP   26-30  776              30   \n",
       "1      0   47      M   287489.04        SAL   46-50  324              28   \n",
       "2      0   40      M    18216.88   SELF-EMP   36-40  603               2   \n",
       "3      0   53      M    71720.48        SAL     >50  196              13   \n",
       "4      0   36      M  1671622.89       PROF   36-40  167              24   \n",
       "\n",
       "  ACC_TYPE  LEN_OF_RLTN_IN_MNTH        ...         AMT_MIN_BAL_NMC_CHGS  \\\n",
       "0       SA                  146        ...                            0   \n",
       "1       SA                  104        ...                            0   \n",
       "2       SA                   61        ...                            0   \n",
       "3       CA                  107        ...                            0   \n",
       "4       SA                  185        ...                            0   \n",
       "\n",
       "   NO_OF_IW_CHQ_BNC_TXNS  NO_OF_OW_CHQ_BNC_TXNS  AVG_AMT_PER_ATM_TXN  \\\n",
       "0                      0                      0              13100.0   \n",
       "1                      0                      0               6600.0   \n",
       "2                      0                      1              11200.0   \n",
       "3                      0                      0              13050.0   \n",
       "4                      0                      0                  0.0   \n",
       "\n",
       "   AVG_AMT_PER_CSH_WDL_TXN  AVG_AMT_PER_CHQ_TXN  AVG_AMT_PER_NET_TXN  \\\n",
       "0                      0.0                  0.0            486778.50   \n",
       "1                      0.0                  0.0            799813.00   \n",
       "2                 561120.0              24660.0            997570.00   \n",
       "3                 168397.5              15195.0            247168.67   \n",
       "4                 808480.0                  0.0                 0.00   \n",
       "\n",
       "   AVG_AMT_PER_MOB_TXN  FLG_HAS_NOMINEE  FLG_HAS_OLD_LOAN  \n",
       "0                  0.0                1                 1  \n",
       "1                  0.0                1                 0  \n",
       "2                  0.0                1                 1  \n",
       "3              71388.0                1                 0  \n",
       "4                  0.0                1                 0  \n",
       "\n",
       "[5 rows x 37 columns]"
      ]
     },
     "execution_count": 242,
     "metadata": {},
     "output_type": "execute_result"
    }
   ],
   "source": [
    "df.head()"
   ]
  },
  {
   "cell_type": "code",
   "execution_count": 243,
   "metadata": {},
   "outputs": [
    {
     "data": {
      "text/plain": [
       "dtype('int64')"
      ]
     },
     "execution_count": 243,
     "metadata": {},
     "output_type": "execute_result"
    }
   ],
   "source": [
    "df.TARGET =df.TARGET.astype('int64')\n",
    "df.TARGET.dtype"
   ]
  },
  {
   "cell_type": "code",
   "execution_count": 244,
   "metadata": {},
   "outputs": [],
   "source": [
    "y=df.TARGET\n",
    "df.drop(columns='TARGET',inplace=True)"
   ]
  },
  {
   "cell_type": "code",
   "execution_count": null,
   "metadata": {},
   "outputs": [],
   "source": []
  },
  {
   "cell_type": "code",
   "execution_count": 245,
   "metadata": {},
   "outputs": [
    {
     "data": {
      "text/plain": [
       "(20000, 36)"
      ]
     },
     "execution_count": 245,
     "metadata": {},
     "output_type": "execute_result"
    }
   ],
   "source": [
    "df.shape"
   ]
  },
  {
   "cell_type": "code",
   "execution_count": 246,
   "metadata": {
    "scrolled": false
   },
   "outputs": [],
   "source": [
    "df=pd.get_dummies(df,drop_first=True)"
   ]
  },
  {
   "cell_type": "code",
   "execution_count": 247,
   "metadata": {},
   "outputs": [
    {
     "data": {
      "text/plain": [
       "(20000, 44)"
      ]
     },
     "execution_count": 247,
     "metadata": {},
     "output_type": "execute_result"
    }
   ],
   "source": [
    "df.shape"
   ]
  },
  {
   "cell_type": "code",
   "execution_count": 248,
   "metadata": {},
   "outputs": [
    {
     "data": {
      "text/html": [
       "<div>\n",
       "<style scoped>\n",
       "    .dataframe tbody tr th:only-of-type {\n",
       "        vertical-align: middle;\n",
       "    }\n",
       "\n",
       "    .dataframe tbody tr th {\n",
       "        vertical-align: top;\n",
       "    }\n",
       "\n",
       "    .dataframe thead th {\n",
       "        text-align: right;\n",
       "    }\n",
       "</style>\n",
       "<table border=\"1\" class=\"dataframe\">\n",
       "  <thead>\n",
       "    <tr style=\"text-align: right;\">\n",
       "      <th></th>\n",
       "      <th>AGE</th>\n",
       "      <th>BALANCE</th>\n",
       "      <th>SCR</th>\n",
       "      <th>HOLDING_PERIOD</th>\n",
       "      <th>LEN_OF_RLTN_IN_MNTH</th>\n",
       "      <th>NO_OF_L_CR_TXNS</th>\n",
       "      <th>NO_OF_L_DR_TXNS</th>\n",
       "      <th>TOT_NO_OF_L_TXNS</th>\n",
       "      <th>NO_OF_BR_CSH_WDL_DR_TXNS</th>\n",
       "      <th>NO_OF_ATM_DR_TXNS</th>\n",
       "      <th>...</th>\n",
       "      <th>OCCUPATION_SAL</th>\n",
       "      <th>OCCUPATION_SELF-EMP</th>\n",
       "      <th>OCCUPATION_SENP</th>\n",
       "      <th>AGE_BKT_31-35</th>\n",
       "      <th>AGE_BKT_36-40</th>\n",
       "      <th>AGE_BKT_41-45</th>\n",
       "      <th>AGE_BKT_46-50</th>\n",
       "      <th>AGE_BKT_&lt;25</th>\n",
       "      <th>AGE_BKT_&gt;50</th>\n",
       "      <th>ACC_TYPE_SA</th>\n",
       "    </tr>\n",
       "  </thead>\n",
       "  <tbody>\n",
       "    <tr>\n",
       "      <th>0</th>\n",
       "      <td>27</td>\n",
       "      <td>3383.75</td>\n",
       "      <td>776</td>\n",
       "      <td>30</td>\n",
       "      <td>146</td>\n",
       "      <td>7</td>\n",
       "      <td>3</td>\n",
       "      <td>10</td>\n",
       "      <td>0</td>\n",
       "      <td>1</td>\n",
       "      <td>...</td>\n",
       "      <td>0</td>\n",
       "      <td>1</td>\n",
       "      <td>0</td>\n",
       "      <td>0</td>\n",
       "      <td>0</td>\n",
       "      <td>0</td>\n",
       "      <td>0</td>\n",
       "      <td>0</td>\n",
       "      <td>0</td>\n",
       "      <td>1</td>\n",
       "    </tr>\n",
       "    <tr>\n",
       "      <th>1</th>\n",
       "      <td>47</td>\n",
       "      <td>287489.04</td>\n",
       "      <td>324</td>\n",
       "      <td>28</td>\n",
       "      <td>104</td>\n",
       "      <td>8</td>\n",
       "      <td>2</td>\n",
       "      <td>10</td>\n",
       "      <td>0</td>\n",
       "      <td>1</td>\n",
       "      <td>...</td>\n",
       "      <td>1</td>\n",
       "      <td>0</td>\n",
       "      <td>0</td>\n",
       "      <td>0</td>\n",
       "      <td>0</td>\n",
       "      <td>0</td>\n",
       "      <td>1</td>\n",
       "      <td>0</td>\n",
       "      <td>0</td>\n",
       "      <td>1</td>\n",
       "    </tr>\n",
       "  </tbody>\n",
       "</table>\n",
       "<p>2 rows × 44 columns</p>\n",
       "</div>"
      ],
      "text/plain": [
       "   AGE    BALANCE  SCR  HOLDING_PERIOD  LEN_OF_RLTN_IN_MNTH  NO_OF_L_CR_TXNS  \\\n",
       "0   27    3383.75  776              30                  146                7   \n",
       "1   47  287489.04  324              28                  104                8   \n",
       "\n",
       "   NO_OF_L_DR_TXNS  TOT_NO_OF_L_TXNS  NO_OF_BR_CSH_WDL_DR_TXNS  \\\n",
       "0                3                10                         0   \n",
       "1                2                10                         0   \n",
       "\n",
       "   NO_OF_ATM_DR_TXNS     ...       OCCUPATION_SAL  OCCUPATION_SELF-EMP  \\\n",
       "0                  1     ...                    0                    1   \n",
       "1                  1     ...                    1                    0   \n",
       "\n",
       "   OCCUPATION_SENP  AGE_BKT_31-35  AGE_BKT_36-40  AGE_BKT_41-45  \\\n",
       "0                0              0              0              0   \n",
       "1                0              0              0              0   \n",
       "\n",
       "   AGE_BKT_46-50  AGE_BKT_<25  AGE_BKT_>50  ACC_TYPE_SA  \n",
       "0              0            0            0            1  \n",
       "1              1            0            0            1  \n",
       "\n",
       "[2 rows x 44 columns]"
      ]
     },
     "execution_count": 248,
     "metadata": {},
     "output_type": "execute_result"
    }
   ],
   "source": [
    "df.head(2)"
   ]
  },
  {
   "cell_type": "code",
   "execution_count": 249,
   "metadata": {},
   "outputs": [
    {
     "data": {
      "text/plain": [
       "AGE                           int64\n",
       "BALANCE                     float64\n",
       "SCR                           int64\n",
       "HOLDING_PERIOD                int64\n",
       "LEN_OF_RLTN_IN_MNTH           int64\n",
       "NO_OF_L_CR_TXNS               int64\n",
       "NO_OF_L_DR_TXNS               int64\n",
       "TOT_NO_OF_L_TXNS              int64\n",
       "NO_OF_BR_CSH_WDL_DR_TXNS      int64\n",
       "NO_OF_ATM_DR_TXNS             int64\n",
       "NO_OF_NET_DR_TXNS             int64\n",
       "NO_OF_MOB_DR_TXNS             int64\n",
       "NO_OF_CHQ_DR_TXNS             int64\n",
       "FLG_HAS_CC                    int64\n",
       "AMT_ATM_DR                    int64\n",
       "AMT_BR_CSH_WDL_DR             int64\n",
       "AMT_CHQ_DR                    int64\n",
       "AMT_NET_DR                  float64\n",
       "AMT_MOB_DR                    int64\n",
       "AMT_L_DR                    float64\n",
       "FLG_HAS_ANY_CHGS              int64\n",
       "AMT_OTH_BK_ATM_USG_CHGS       int64\n",
       "AMT_MIN_BAL_NMC_CHGS          int64\n",
       "NO_OF_IW_CHQ_BNC_TXNS         int64\n",
       "NO_OF_OW_CHQ_BNC_TXNS         int64\n",
       "AVG_AMT_PER_ATM_TXN         float64\n",
       "AVG_AMT_PER_CSH_WDL_TXN     float64\n",
       "AVG_AMT_PER_CHQ_TXN         float64\n",
       "AVG_AMT_PER_NET_TXN         float64\n",
       "AVG_AMT_PER_MOB_TXN         float64\n",
       "FLG_HAS_NOMINEE               int64\n",
       "FLG_HAS_OLD_LOAN              int64\n",
       "GENDER_M                      uint8\n",
       "GENDER_O                      uint8\n",
       "OCCUPATION_SAL                uint8\n",
       "OCCUPATION_SELF-EMP           uint8\n",
       "OCCUPATION_SENP               uint8\n",
       "AGE_BKT_31-35                 uint8\n",
       "AGE_BKT_36-40                 uint8\n",
       "AGE_BKT_41-45                 uint8\n",
       "AGE_BKT_46-50                 uint8\n",
       "AGE_BKT_<25                   uint8\n",
       "AGE_BKT_>50                   uint8\n",
       "ACC_TYPE_SA                   uint8\n",
       "dtype: object"
      ]
     },
     "execution_count": 249,
     "metadata": {},
     "output_type": "execute_result"
    }
   ],
   "source": [
    "df.dtypes"
   ]
  },
  {
   "cell_type": "code",
   "execution_count": null,
   "metadata": {},
   "outputs": [],
   "source": []
  },
  {
   "cell_type": "code",
   "execution_count": 250,
   "metadata": {},
   "outputs": [
    {
     "name": "stderr",
     "output_type": "stream",
     "text": [
      "C:\\Users\\lenovo\\Anaconda3\\lib\\site-packages\\sklearn\\preprocessing\\data.py:625: DataConversionWarning: Data with input dtype uint8, int64, float64 were all converted to float64 by StandardScaler.\n",
      "  return self.partial_fit(X, y)\n",
      "C:\\Users\\lenovo\\Anaconda3\\lib\\site-packages\\sklearn\\base.py:462: DataConversionWarning: Data with input dtype uint8, int64, float64 were all converted to float64 by StandardScaler.\n",
      "  return self.fit(X, **fit_params).transform(X)\n"
     ]
    }
   ],
   "source": [
    "\n",
    "x=df\n",
    "sc=StandardScaler()\n",
    "x_std=sc.fit_transform(x)      \n",
    "# scaling of Input, don't scale output(because it is categorical), we can also use Z score, this is another method\n",
    "\n",
    "\n",
    "x_train,x_test,y_train,y_test= train_test_split(x_std,y,test_size=0.3,random_state=0)"
   ]
  },
  {
   "cell_type": "code",
   "execution_count": 251,
   "metadata": {},
   "outputs": [],
   "source": [
    "rfmodel=RandomForestClassifier(n_estimators=50,criterion='entropy',random_state=0)\n",
    "dtmodel=DecisionTreeClassifier(criterion='entropy',random_state=0)\n",
    "\n"
   ]
  },
  {
   "cell_type": "code",
   "execution_count": 252,
   "metadata": {},
   "outputs": [
    {
     "data": {
      "text/plain": [
       "RandomForestClassifier(bootstrap=True, class_weight=None, criterion='entropy',\n",
       "            max_depth=None, max_features='auto', max_leaf_nodes=None,\n",
       "            min_impurity_decrease=0.0, min_impurity_split=None,\n",
       "            min_samples_leaf=1, min_samples_split=2,\n",
       "            min_weight_fraction_leaf=0.0, n_estimators=50, n_jobs=None,\n",
       "            oob_score=False, random_state=0, verbose=0, warm_start=False)"
      ]
     },
     "execution_count": 252,
     "metadata": {},
     "output_type": "execute_result"
    }
   ],
   "source": [
    "dtmodel.fit(x_train,y_train)\n",
    "rfmodel.fit(x_train,y_train)"
   ]
  },
  {
   "cell_type": "code",
   "execution_count": 253,
   "metadata": {},
   "outputs": [],
   "source": [
    "models=[]\n",
    "models.append(('Decision Tree',dtmodel))\n",
    "models.append(('Random Forest',rfmodel))\n"
   ]
  },
  {
   "cell_type": "code",
   "execution_count": 254,
   "metadata": {},
   "outputs": [
    {
     "name": "stdout",
     "output_type": "stream",
     "text": [
      "Decision Tree: 0.942450 ,(variance error is 0.004176)\n",
      "Random Forest: 0.969600 ,(variance error is 0.003797)\n"
     ]
    },
    {
     "data": {
      "image/png": "[encoded data removed]",
      "text/plain": [
       "<Figure size 432x288 with 1 Axes>"
      ]
     },
     "metadata": {
      "needs_background": "light"
     },
     "output_type": "display_data"
    }
   ],
   "source": [
    "from sklearn import model_selection\n",
    "\n",
    "results=[]\n",
    "names=[]\n",
    "scoring='accuracy'\n",
    "for name, model in models:\n",
    "    kfold=model_selection.KFold(n_splits=5,random_state=2)\n",
    "    cv_results=model_selection.cross_val_score(model,x_std,y,cv=kfold,scoring=scoring)\n",
    "    results.append(cv_results)\n",
    "    names.append(name)\n",
    "    msg=\"%s: %f ,(variance error is %f)\"%(name,cv_results.mean(),cv_results.std())\n",
    "    print(msg)\n",
    "\n",
    "fig=plt.figure()\n",
    "fig.suptitle(\"Algorithm Comparison\")\n",
    "ax=fig.add_subplot(111)\n",
    "plt.boxplot(results)\n",
    "ax.set_xticklabels(names)\n",
    "plt.show()"
   ]
  },
  {
   "cell_type": "markdown",
   "metadata": {},
   "source": [
    "# Random Forest has a low variance error than Decision Tree and high accuracy than Decision Tree"
   ]
  },
  {
   "cell_type": "code",
   "execution_count": 255,
   "metadata": {},
   "outputs": [],
   "source": [
    "params= { 'max_depth':np.arange(1,20)}"
   ]
  },
  {
   "cell_type": "code",
   "execution_count": 256,
   "metadata": {},
   "outputs": [],
   "source": [
    "rfmodel=RandomForestClassifier(n_estimators=50,criterion='entropy',random_state=0)"
   ]
  },
  {
   "cell_type": "code",
   "execution_count": 257,
   "metadata": {},
   "outputs": [
    {
     "data": {
      "text/plain": [
       "GridSearchCV(cv=5, error_score='raise-deprecating',\n",
       "       estimator=RandomForestClassifier(bootstrap=True, class_weight=None, criterion='entropy',\n",
       "            max_depth=None, max_features='auto', max_leaf_nodes=None,\n",
       "            min_impurity_decrease=0.0, min_impurity_split=None,\n",
       "            min_samples_leaf=1, min_samples_split=2,\n",
       "            min_weight_fraction_leaf=0.0, n_estimators=50, n_jobs=None,\n",
       "            oob_score=False, random_state=0, verbose=0, warm_start=False),\n",
       "       fit_params=None, iid='warn', n_jobs=None,\n",
       "       param_grid={'max_depth': array([ 1,  2,  3,  4,  5,  6,  7,  8,  9, 10, 11, 12, 13, 14, 15, 16, 17,\n",
       "       18, 19])},\n",
       "       pre_dispatch='2*n_jobs', refit=True, return_train_score='warn',\n",
       "       scoring=None, verbose=0)"
      ]
     },
     "execution_count": 257,
     "metadata": {},
     "output_type": "execute_result"
    }
   ],
   "source": [
    "GS=GridSearchCV(rfmodel,params,cv=5)\n",
    "GS.fit(x_train,y_train)"
   ]
  },
  {
   "cell_type": "code",
   "execution_count": 258,
   "metadata": {},
   "outputs": [
    {
     "data": {
      "text/plain": [
       "{'max_depth': 19}"
      ]
     },
     "execution_count": 258,
     "metadata": {},
     "output_type": "execute_result"
    }
   ],
   "source": [
    "GS.best_params_"
   ]
  },
  {
   "cell_type": "code",
   "execution_count": 259,
   "metadata": {},
   "outputs": [],
   "source": [
    "rfmodel=RandomForestClassifier(n_estimators=50,criterion='entropy',max_depth= 19,random_state=0)"
   ]
  },
  {
   "cell_type": "code",
   "execution_count": 260,
   "metadata": {},
   "outputs": [
    {
     "data": {
      "text/plain": [
       "RandomForestClassifier(bootstrap=True, class_weight=None, criterion='entropy',\n",
       "            max_depth=19, max_features='auto', max_leaf_nodes=None,\n",
       "            min_impurity_decrease=0.0, min_impurity_split=None,\n",
       "            min_samples_leaf=1, min_samples_split=2,\n",
       "            min_weight_fraction_leaf=0.0, n_estimators=50, n_jobs=None,\n",
       "            oob_score=False, random_state=0, verbose=0, warm_start=False)"
      ]
     },
     "execution_count": 260,
     "metadata": {},
     "output_type": "execute_result"
    }
   ],
   "source": [
    "rfmodel.fit(x_train,y_train)"
   ]
  },
  {
   "cell_type": "code",
   "execution_count": 263,
   "metadata": {},
   "outputs": [
    {
     "name": "stdout",
     "output_type": "stream",
     "text": [
      "                               IMP\n",
      "AGE                       0.045577\n",
      "BALANCE                   0.065465\n",
      "SCR                       0.065034\n",
      "HOLDING_PERIOD            0.059584\n",
      "LEN_OF_RLTN_IN_MNTH       0.058096\n",
      "NO_OF_L_CR_TXNS           0.044701\n",
      "NO_OF_L_DR_TXNS           0.027826\n",
      "TOT_NO_OF_L_TXNS          0.047619\n",
      "NO_OF_BR_CSH_WDL_DR_TXNS  0.018261\n",
      "NO_OF_ATM_DR_TXNS         0.011030\n",
      "NO_OF_NET_DR_TXNS         0.007859\n",
      "NO_OF_MOB_DR_TXNS         0.003931\n",
      "NO_OF_CHQ_DR_TXNS         0.016716\n",
      "FLG_HAS_CC                0.018083\n",
      "AMT_ATM_DR                0.043417\n",
      "AMT_BR_CSH_WDL_DR         0.045256\n",
      "AMT_CHQ_DR                0.037672\n",
      "AMT_NET_DR                0.030991\n",
      "AMT_MOB_DR                0.017647\n",
      "AMT_L_DR                  0.057484\n",
      "FLG_HAS_ANY_CHGS          0.006138\n",
      "AMT_OTH_BK_ATM_USG_CHGS   0.000361\n",
      "AMT_MIN_BAL_NMC_CHGS      0.000419\n",
      "NO_OF_IW_CHQ_BNC_TXNS     0.003303\n",
      "NO_OF_OW_CHQ_BNC_TXNS     0.002815\n",
      "AVG_AMT_PER_ATM_TXN       0.040367\n",
      "AVG_AMT_PER_CSH_WDL_TXN   0.043323\n",
      "AVG_AMT_PER_CHQ_TXN       0.036172\n",
      "AVG_AMT_PER_NET_TXN       0.029393\n",
      "AVG_AMT_PER_MOB_TXN       0.015774\n",
      "FLG_HAS_NOMINEE           0.004595\n",
      "FLG_HAS_OLD_LOAN          0.010694\n",
      "GENDER_M                  0.009136\n",
      "GENDER_O                  0.001944\n",
      "OCCUPATION_SAL            0.008596\n",
      "OCCUPATION_SELF-EMP       0.015123\n",
      "OCCUPATION_SENP           0.007641\n",
      "AGE_BKT_31-35             0.006247\n",
      "AGE_BKT_36-40             0.005456\n",
      "AGE_BKT_41-45             0.008518\n",
      "AGE_BKT_46-50             0.006083\n",
      "AGE_BKT_<25               0.004166\n",
      "AGE_BKT_>50               0.004898\n",
      "ACC_TYPE_SA               0.006592\n"
     ]
    }
   ],
   "source": [
    "print(pd.DataFrame(rfmodel.feature_importances_,columns=[\"IMP\"],index=df.columns)) \n",
    "featuresimp=pd.DataFrame(rfmodel.feature_importances_,columns=[\"IMP\"],index=df.columns)"
   ]
  },
  {
   "cell_type": "code",
   "execution_count": 264,
   "metadata": {},
   "outputs": [
    {
     "data": {
      "text/html": [
       "<div>\n",
       "<style scoped>\n",
       "    .dataframe tbody tr th:only-of-type {\n",
       "        vertical-align: middle;\n",
       "    }\n",
       "\n",
       "    .dataframe tbody tr th {\n",
       "        vertical-align: top;\n",
       "    }\n",
       "\n",
       "    .dataframe thead th {\n",
       "        text-align: right;\n",
       "    }\n",
       "</style>\n",
       "<table border=\"1\" class=\"dataframe\">\n",
       "  <thead>\n",
       "    <tr style=\"text-align: right;\">\n",
       "      <th></th>\n",
       "      <th>IMP</th>\n",
       "    </tr>\n",
       "  </thead>\n",
       "  <tbody>\n",
       "    <tr>\n",
       "      <th>BALANCE</th>\n",
       "      <td>0.065465</td>\n",
       "    </tr>\n",
       "    <tr>\n",
       "      <th>SCR</th>\n",
       "      <td>0.065034</td>\n",
       "    </tr>\n",
       "    <tr>\n",
       "      <th>HOLDING_PERIOD</th>\n",
       "      <td>0.059584</td>\n",
       "    </tr>\n",
       "    <tr>\n",
       "      <th>LEN_OF_RLTN_IN_MNTH</th>\n",
       "      <td>0.058096</td>\n",
       "    </tr>\n",
       "    <tr>\n",
       "      <th>AMT_L_DR</th>\n",
       "      <td>0.057484</td>\n",
       "    </tr>\n",
       "    <tr>\n",
       "      <th>TOT_NO_OF_L_TXNS</th>\n",
       "      <td>0.047619</td>\n",
       "    </tr>\n",
       "    <tr>\n",
       "      <th>AGE</th>\n",
       "      <td>0.045577</td>\n",
       "    </tr>\n",
       "    <tr>\n",
       "      <th>AMT_BR_CSH_WDL_DR</th>\n",
       "      <td>0.045256</td>\n",
       "    </tr>\n",
       "    <tr>\n",
       "      <th>NO_OF_L_CR_TXNS</th>\n",
       "      <td>0.044701</td>\n",
       "    </tr>\n",
       "    <tr>\n",
       "      <th>AMT_ATM_DR</th>\n",
       "      <td>0.043417</td>\n",
       "    </tr>\n",
       "    <tr>\n",
       "      <th>AVG_AMT_PER_CSH_WDL_TXN</th>\n",
       "      <td>0.043323</td>\n",
       "    </tr>\n",
       "    <tr>\n",
       "      <th>AVG_AMT_PER_ATM_TXN</th>\n",
       "      <td>0.040367</td>\n",
       "    </tr>\n",
       "    <tr>\n",
       "      <th>AMT_CHQ_DR</th>\n",
       "      <td>0.037672</td>\n",
       "    </tr>\n",
       "    <tr>\n",
       "      <th>AVG_AMT_PER_CHQ_TXN</th>\n",
       "      <td>0.036172</td>\n",
       "    </tr>\n",
       "    <tr>\n",
       "      <th>AMT_NET_DR</th>\n",
       "      <td>0.030991</td>\n",
       "    </tr>\n",
       "    <tr>\n",
       "      <th>AVG_AMT_PER_NET_TXN</th>\n",
       "      <td>0.029393</td>\n",
       "    </tr>\n",
       "    <tr>\n",
       "      <th>NO_OF_L_DR_TXNS</th>\n",
       "      <td>0.027826</td>\n",
       "    </tr>\n",
       "    <tr>\n",
       "      <th>NO_OF_BR_CSH_WDL_DR_TXNS</th>\n",
       "      <td>0.018261</td>\n",
       "    </tr>\n",
       "    <tr>\n",
       "      <th>FLG_HAS_CC</th>\n",
       "      <td>0.018083</td>\n",
       "    </tr>\n",
       "    <tr>\n",
       "      <th>AMT_MOB_DR</th>\n",
       "      <td>0.017647</td>\n",
       "    </tr>\n",
       "    <tr>\n",
       "      <th>NO_OF_CHQ_DR_TXNS</th>\n",
       "      <td>0.016716</td>\n",
       "    </tr>\n",
       "    <tr>\n",
       "      <th>AVG_AMT_PER_MOB_TXN</th>\n",
       "      <td>0.015774</td>\n",
       "    </tr>\n",
       "    <tr>\n",
       "      <th>OCCUPATION_SELF-EMP</th>\n",
       "      <td>0.015123</td>\n",
       "    </tr>\n",
       "    <tr>\n",
       "      <th>NO_OF_ATM_DR_TXNS</th>\n",
       "      <td>0.011030</td>\n",
       "    </tr>\n",
       "    <tr>\n",
       "      <th>FLG_HAS_OLD_LOAN</th>\n",
       "      <td>0.010694</td>\n",
       "    </tr>\n",
       "    <tr>\n",
       "      <th>GENDER_M</th>\n",
       "      <td>0.009136</td>\n",
       "    </tr>\n",
       "    <tr>\n",
       "      <th>OCCUPATION_SAL</th>\n",
       "      <td>0.008596</td>\n",
       "    </tr>\n",
       "    <tr>\n",
       "      <th>AGE_BKT_41-45</th>\n",
       "      <td>0.008518</td>\n",
       "    </tr>\n",
       "    <tr>\n",
       "      <th>NO_OF_NET_DR_TXNS</th>\n",
       "      <td>0.007859</td>\n",
       "    </tr>\n",
       "    <tr>\n",
       "      <th>OCCUPATION_SENP</th>\n",
       "      <td>0.007641</td>\n",
       "    </tr>\n",
       "    <tr>\n",
       "      <th>ACC_TYPE_SA</th>\n",
       "      <td>0.006592</td>\n",
       "    </tr>\n",
       "    <tr>\n",
       "      <th>AGE_BKT_31-35</th>\n",
       "      <td>0.006247</td>\n",
       "    </tr>\n",
       "    <tr>\n",
       "      <th>FLG_HAS_ANY_CHGS</th>\n",
       "      <td>0.006138</td>\n",
       "    </tr>\n",
       "    <tr>\n",
       "      <th>AGE_BKT_46-50</th>\n",
       "      <td>0.006083</td>\n",
       "    </tr>\n",
       "    <tr>\n",
       "      <th>AGE_BKT_36-40</th>\n",
       "      <td>0.005456</td>\n",
       "    </tr>\n",
       "    <tr>\n",
       "      <th>AGE_BKT_&gt;50</th>\n",
       "      <td>0.004898</td>\n",
       "    </tr>\n",
       "    <tr>\n",
       "      <th>FLG_HAS_NOMINEE</th>\n",
       "      <td>0.004595</td>\n",
       "    </tr>\n",
       "    <tr>\n",
       "      <th>AGE_BKT_&lt;25</th>\n",
       "      <td>0.004166</td>\n",
       "    </tr>\n",
       "    <tr>\n",
       "      <th>NO_OF_MOB_DR_TXNS</th>\n",
       "      <td>0.003931</td>\n",
       "    </tr>\n",
       "    <tr>\n",
       "      <th>NO_OF_IW_CHQ_BNC_TXNS</th>\n",
       "      <td>0.003303</td>\n",
       "    </tr>\n",
       "    <tr>\n",
       "      <th>NO_OF_OW_CHQ_BNC_TXNS</th>\n",
       "      <td>0.002815</td>\n",
       "    </tr>\n",
       "    <tr>\n",
       "      <th>GENDER_O</th>\n",
       "      <td>0.001944</td>\n",
       "    </tr>\n",
       "    <tr>\n",
       "      <th>AMT_MIN_BAL_NMC_CHGS</th>\n",
       "      <td>0.000419</td>\n",
       "    </tr>\n",
       "    <tr>\n",
       "      <th>AMT_OTH_BK_ATM_USG_CHGS</th>\n",
       "      <td>0.000361</td>\n",
       "    </tr>\n",
       "  </tbody>\n",
       "</table>\n",
       "</div>"
      ],
      "text/plain": [
       "                               IMP\n",
       "BALANCE                   0.065465\n",
       "SCR                       0.065034\n",
       "HOLDING_PERIOD            0.059584\n",
       "LEN_OF_RLTN_IN_MNTH       0.058096\n",
       "AMT_L_DR                  0.057484\n",
       "TOT_NO_OF_L_TXNS          0.047619\n",
       "AGE                       0.045577\n",
       "AMT_BR_CSH_WDL_DR         0.045256\n",
       "NO_OF_L_CR_TXNS           0.044701\n",
       "AMT_ATM_DR                0.043417\n",
       "AVG_AMT_PER_CSH_WDL_TXN   0.043323\n",
       "AVG_AMT_PER_ATM_TXN       0.040367\n",
       "AMT_CHQ_DR                0.037672\n",
       "AVG_AMT_PER_CHQ_TXN       0.036172\n",
       "AMT_NET_DR                0.030991\n",
       "AVG_AMT_PER_NET_TXN       0.029393\n",
       "NO_OF_L_DR_TXNS           0.027826\n",
       "NO_OF_BR_CSH_WDL_DR_TXNS  0.018261\n",
       "FLG_HAS_CC                0.018083\n",
       "AMT_MOB_DR                0.017647\n",
       "NO_OF_CHQ_DR_TXNS         0.016716\n",
       "AVG_AMT_PER_MOB_TXN       0.015774\n",
       "OCCUPATION_SELF-EMP       0.015123\n",
       "NO_OF_ATM_DR_TXNS         0.011030\n",
       "FLG_HAS_OLD_LOAN          0.010694\n",
       "GENDER_M                  0.009136\n",
       "OCCUPATION_SAL            0.008596\n",
       "AGE_BKT_41-45             0.008518\n",
       "NO_OF_NET_DR_TXNS         0.007859\n",
       "OCCUPATION_SENP           0.007641\n",
       "ACC_TYPE_SA               0.006592\n",
       "AGE_BKT_31-35             0.006247\n",
       "FLG_HAS_ANY_CHGS          0.006138\n",
       "AGE_BKT_46-50             0.006083\n",
       "AGE_BKT_36-40             0.005456\n",
       "AGE_BKT_>50               0.004898\n",
       "FLG_HAS_NOMINEE           0.004595\n",
       "AGE_BKT_<25               0.004166\n",
       "NO_OF_MOB_DR_TXNS         0.003931\n",
       "NO_OF_IW_CHQ_BNC_TXNS     0.003303\n",
       "NO_OF_OW_CHQ_BNC_TXNS     0.002815\n",
       "GENDER_O                  0.001944\n",
       "AMT_MIN_BAL_NMC_CHGS      0.000419\n",
       "AMT_OTH_BK_ATM_USG_CHGS   0.000361"
      ]
     },
     "execution_count": 264,
     "metadata": {},
     "output_type": "execute_result"
    }
   ],
   "source": [
    "featuresimp=featuresimp.sort_values('IMP',ascending=False)\n",
    "featuresimp"
   ]
  },
  {
   "cell_type": "code",
   "execution_count": 265,
   "metadata": {},
   "outputs": [],
   "source": [
    "for i in range(0,11):\n",
    "    col=featuresimp.index"
   ]
  },
  {
   "cell_type": "code",
   "execution_count": 267,
   "metadata": {},
   "outputs": [
    {
     "data": {
      "text/plain": [
       "Index(['BALANCE', 'SCR', 'HOLDING_PERIOD', 'LEN_OF_RLTN_IN_MNTH', 'AMT_L_DR',\n",
       "       'TOT_NO_OF_L_TXNS', 'AGE', 'AMT_BR_CSH_WDL_DR', 'NO_OF_L_CR_TXNS',\n",
       "       'AMT_ATM_DR', 'AVG_AMT_PER_CSH_WDL_TXN', 'AVG_AMT_PER_ATM_TXN',\n",
       "       'AMT_CHQ_DR', 'AVG_AMT_PER_CHQ_TXN', 'AMT_NET_DR',\n",
       "       'AVG_AMT_PER_NET_TXN', 'NO_OF_L_DR_TXNS', 'NO_OF_BR_CSH_WDL_DR_TXNS',\n",
       "       'FLG_HAS_CC', 'AMT_MOB_DR', 'NO_OF_CHQ_DR_TXNS', 'AVG_AMT_PER_MOB_TXN',\n",
       "       'OCCUPATION_SELF-EMP', 'NO_OF_ATM_DR_TXNS', 'FLG_HAS_OLD_LOAN',\n",
       "       'GENDER_M', 'OCCUPATION_SAL', 'AGE_BKT_41-45', 'NO_OF_NET_DR_TXNS',\n",
       "       'OCCUPATION_SENP', 'ACC_TYPE_SA', 'AGE_BKT_31-35', 'FLG_HAS_ANY_CHGS',\n",
       "       'AGE_BKT_46-50', 'AGE_BKT_36-40', 'AGE_BKT_>50', 'FLG_HAS_NOMINEE',\n",
       "       'AGE_BKT_<25', 'NO_OF_MOB_DR_TXNS', 'NO_OF_IW_CHQ_BNC_TXNS',\n",
       "       'NO_OF_OW_CHQ_BNC_TXNS', 'GENDER_O', 'AMT_MIN_BAL_NMC_CHGS',\n",
       "       'AMT_OTH_BK_ATM_USG_CHGS'],\n",
       "      dtype='object')"
      ]
     },
     "execution_count": 267,
     "metadata": {},
     "output_type": "execute_result"
    }
   ],
   "source": [
    "col"
   ]
  },
  {
   "cell_type": "code",
   "execution_count": 268,
   "metadata": {},
   "outputs": [
    {
     "name": "stderr",
     "output_type": "stream",
     "text": [
      "C:\\Users\\lenovo\\Anaconda3\\lib\\site-packages\\sklearn\\preprocessing\\data.py:625: DataConversionWarning: Data with input dtype uint8, int64, float64 were all converted to float64 by StandardScaler.\n",
      "  return self.partial_fit(X, y)\n",
      "C:\\Users\\lenovo\\Anaconda3\\lib\\site-packages\\sklearn\\base.py:462: DataConversionWarning: Data with input dtype uint8, int64, float64 were all converted to float64 by StandardScaler.\n",
      "  return self.fit(X, **fit_params).transform(X)\n"
     ]
    }
   ],
   "source": [
    "x=df.loc[:,col]\n",
    "\n",
    "sc=StandardScaler()\n",
    "x_std=sc.fit_transform(x)   \n",
    "x_train,x_test,y_train,y_test= train_test_split(x_std,y,test_size=0.3,random_state=0)"
   ]
  },
  {
   "cell_type": "code",
   "execution_count": 269,
   "metadata": {},
   "outputs": [
    {
     "data": {
      "text/plain": [
       "GridSearchCV(cv=5, error_score='raise-deprecating',\n",
       "       estimator=RandomForestClassifier(bootstrap=True, class_weight=None, criterion='entropy',\n",
       "            max_depth=None, max_features='auto', max_leaf_nodes=None,\n",
       "            min_impurity_decrease=0.0, min_impurity_split=None,\n",
       "            min_samples_leaf=1, min_samples_split=2,\n",
       "            min_weight_fraction_leaf=0.0, n_estimators=50, n_jobs=None,\n",
       "            oob_score=False, random_state=0, verbose=0, warm_start=False),\n",
       "       fit_params=None, iid='warn', n_jobs=None,\n",
       "       param_grid={'max_depth': array([ 1,  2,  3,  4,  5,  6,  7,  8,  9, 10, 11, 12, 13, 14, 15, 16, 17,\n",
       "       18, 19])},\n",
       "       pre_dispatch='2*n_jobs', refit=True, return_train_score='warn',\n",
       "       scoring=None, verbose=0)"
      ]
     },
     "execution_count": 269,
     "metadata": {},
     "output_type": "execute_result"
    }
   ],
   "source": [
    "params= { 'max_depth':np.arange(1,20)}\n",
    "rfmodel=RandomForestClassifier(n_estimators=50,criterion='entropy',random_state=0)\n",
    "GS=GridSearchCV(rfmodel,params,cv=5)\n",
    "GS.fit(x_train,y_train)\n"
   ]
  },
  {
   "cell_type": "code",
   "execution_count": 270,
   "metadata": {},
   "outputs": [
    {
     "data": {
      "text/plain": [
       "{'max_depth': 19}"
      ]
     },
     "execution_count": 270,
     "metadata": {},
     "output_type": "execute_result"
    }
   ],
   "source": [
    "GS.best_params_\n"
   ]
  },
  {
   "cell_type": "code",
   "execution_count": 271,
   "metadata": {},
   "outputs": [
    {
     "data": {
      "text/plain": [
       "RandomForestClassifier(bootstrap=True, class_weight=None, criterion='entropy',\n",
       "            max_depth=19, max_features='auto', max_leaf_nodes=None,\n",
       "            min_impurity_decrease=0.0, min_impurity_split=None,\n",
       "            min_samples_leaf=1, min_samples_split=2,\n",
       "            min_weight_fraction_leaf=0.0, n_estimators=50, n_jobs=None,\n",
       "            oob_score=False, random_state=0, verbose=0, warm_start=False)"
      ]
     },
     "execution_count": 271,
     "metadata": {},
     "output_type": "execute_result"
    }
   ],
   "source": [
    "rfmodel=RandomForestClassifier(n_estimators=50,criterion='entropy',max_depth= 19,random_state=0)\n",
    "rfmodel.fit(x_train,y_train)"
   ]
  },
  {
   "cell_type": "code",
   "execution_count": 272,
   "metadata": {},
   "outputs": [],
   "source": [
    "kfold=model_selection.KFold(n_splits=5,random_state=0)\n",
    "cv_results=model_selection.cross_val_score(rfmodel,x_std,y,cv=kfold,scoring='accuracy')"
   ]
  },
  {
   "cell_type": "code",
   "execution_count": 273,
   "metadata": {},
   "outputs": [
    {
     "data": {
      "text/plain": [
       "0.96595"
      ]
     },
     "execution_count": 273,
     "metadata": {},
     "output_type": "execute_result"
    }
   ],
   "source": [
    "cv_results.mean()    # Mean Accuraccy score"
   ]
  },
  {
   "cell_type": "code",
   "execution_count": 274,
   "metadata": {},
   "outputs": [
    {
     "data": {
      "text/plain": [
       "Index(['BALANCE', 'SCR', 'HOLDING_PERIOD', 'LEN_OF_RLTN_IN_MNTH', 'AMT_L_DR',\n",
       "       'TOT_NO_OF_L_TXNS', 'AGE', 'AMT_BR_CSH_WDL_DR', 'NO_OF_L_CR_TXNS',\n",
       "       'AMT_ATM_DR', 'AVG_AMT_PER_CSH_WDL_TXN'],\n",
       "      dtype='object')"
      ]
     },
     "execution_count": 274,
     "metadata": {},
     "output_type": "execute_result"
    }
   ],
   "source": [
    "# From the above the colums to be considered are \n",
    "col[:11]"
   ]
  },
  {
   "cell_type": "code",
   "execution_count": 275,
   "metadata": {},
   "outputs": [],
   "source": [
    "ypred=rfmodel.predict(x_test)"
   ]
  },
  {
   "cell_type": "code",
   "execution_count": 276,
   "metadata": {},
   "outputs": [
    {
     "name": "stderr",
     "output_type": "stream",
     "text": [
      "C:\\Users\\lenovo\\Anaconda3\\lib\\site-packages\\matplotlib\\cbook\\deprecation.py:107: MatplotlibDeprecationWarning: Adding an axes using the same arguments as a previous axes currently reuses the earlier instance.  In a future version, a new instance will always be created and returned.  Meanwhile, this warning can be suppressed, and the future behavior ensured, by passing a unique label to each axes instance.\n",
      "  warnings.warn(message, mplDeprecation, stacklevel=1)\n"
     ]
    },
    {
     "data": {
      "text/plain": [
       "(-0.05, 1.05)"
      ]
     },
     "execution_count": 276,
     "metadata": {},
     "output_type": "execute_result"
    },
    {
     "data": {
      "image/png": "[encoded data removed]",
      "text/plain": [
       "<Figure size 432x288 with 1 Axes>"
      ]
     },
     "metadata": {
      "needs_background": "light"
     },
     "output_type": "display_data"
    }
   ],
   "source": [
    "fpr,tpr,threshold=metrics.roc_curve(y_test,ypred)   # fpr -False posititve Ratio, tpr- True positive ratio\n",
    "plt.plot(fpr,tpr,label=\"ROC curve\",color=\"b\")\n",
    "plt.axes().set_aspect(\"equal\")\n",
    "plt.xlim([-0.05,1.05])  # if we donot mention this the graph will start from 0 and end in 1\n",
    "plt.ylim([-0.05,1.05]) "
   ]
  },
  {
   "cell_type": "code",
   "execution_count": 277,
   "metadata": {},
   "outputs": [
    {
     "data": {
      "text/plain": [
       "0.8541585183007354"
      ]
     },
     "execution_count": 277,
     "metadata": {},
     "output_type": "execute_result"
    }
   ],
   "source": [
    "metrics.auc(fpr,tpr) "
   ]
  },
  {
   "cell_type": "code",
   "execution_count": null,
   "metadata": {},
   "outputs": [],
   "source": []
  }
 ],
 "metadata": {
  "kernelspec": {
   "display_name": "Python 3",
   "language": "python",
   "name": "python3"
  },
  "language_info": {
   "codemirror_mode": {
    "name": "ipython",
    "version": 3
   },
   "file_extension": ".py",
   "mimetype": "text/x-python",
   "name": "python",
   "nbconvert_exporter": "python",
   "pygments_lexer": "ipython3",
   "version": "3.7.0"
  }
 },
 "nbformat": 4,
 "nbformat_minor": 2
}
