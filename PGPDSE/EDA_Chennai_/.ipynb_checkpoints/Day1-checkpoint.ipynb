{
 "cells": [
  {
   "cell_type": "markdown",
   "metadata": {},
   "source": [
    "**Python Session 1**\n",
    "\n",
    "**Course Plan**\n",
    "\n",
    "+ We will learn Python from basics and will cover advanced concepts\n",
    "+ Language constructs, programming in Python, data cleaning and manipulation, data analysis, plotting, web scraping, textual analysis.\n",
    "+ First session will focus on building blocks of the language\n",
    "+ Completely hands-on approach"
   ]
  },
  {
   "cell_type": "markdown",
   "metadata": {},
   "source": [
    "**What is Python**\n",
    "\n",
    "+ High level, general purpose programming language\n",
    "+ First introduced in 1991\n",
    "+ Dynamic, interpreted language\n",
    "+ Language of choice of web programming, and scripting purposes\n",
    "+ Great tool for scientific computing community, explosive growth in the scientific computing and data analytics capabilities\n",
    "+ Fairly large scientific community and is used in a variety of settings such as financial research, algorithms development, options and derivatives pricing, financial modeling, trading systems, network analysis, and machine learning.\n",
    "+ No type declarations thus making coding short\n",
    "\n",
    "**Why Python?**\n",
    "\n",
    "+ Simple to understand, easy to learn\n",
    "+ Object oriented structure makes programming very easy\n",
    "+ Platform independent \n",
    "+ Open source and has support from a huge scientific community that contributes actively to Python development\n",
    "+ A number of libraries for research tasks and the capabilities are growing by the day\n",
    "+ De facto choice for textual data analytics"
   ]
  },
  {
   "cell_type": "markdown",
   "metadata": {},
   "source": [
    "**Important Packages**\n",
    "\n",
    "+ NumPy: Numerical Python (NumPy) is the foundation package. Other packages and libraries are built on top of NumPy. \n",
    "+ pandas: Provides data structures and processing capabilities similar to ones found in R and Excel. Also provides time series capabilities.\n",
    "+ SciPy: Collection of packages to tackle a number of computing problems in data analytics, statistics, and linear algebra.\n",
    "+ matplotlib: Plotting library. Allows to plot a number of 2D graphs and will serve as primary graphics library.\n",
    "+ IPython: Interactive Python shell that allows quick prototyping of code. \n",
    "+ Statsmodels: Allows data analysis, statistical model estimation, statistical tests, and regressions, and function plotting. \n",
    "+ BeautifulSoup: Python library for crawling the web. Allows you to pull data from HTML and XML pages. \n",
    "+ Scikits: A number of packages for running simulations, machine learning, data mining, optimization, and time series models. \n",
    "+ RPy: Integrates Python with R, allows calling of R commands from Python code"
   ]
  },
  {
   "cell_type": "markdown",
   "metadata": {},
   "source": [
    "## Installation\n",
    "\n",
    "**Installing on Windows**\n",
    "\n",
    "1. [Download the Anaconda installer](https://www.continuum.io/downloads).\n",
    "\n",
    "2. Optional: Verify data integrity with MD5 or SHA-256. More info on hashes\n",
    "\n",
    "3. Double click the installer to launch.\n",
    "\n",
    "  NOTE: If you encounter any issues during installation, temporarily disable your anti-virus software during install, then re-enable it after the installation concludes. If you have installed for all users, uninstall Anaconda and re-install it for your user only and try again.\n",
    "\n",
    "4. Click Next.\n",
    "\n",
    "5. Read the licensing terms and click I Agree.\n",
    "\n",
    "6. Select an install for “Just Me” unless you’re installing for all users (which requires Windows Administrator privileges).\n",
    "\n",
    "7. Select a destination folder to install Anaconda and click Next.\n",
    "\n",
    "  NOTE: Install Anaconda to a directory path that does not contain spaces or unicode characters.\n",
    "\n",
    "  NOTE: Do not install as Administrator unless admin privileges are required.\n",
    "\n",
    "8. Choose whether to add Anaconda to your PATH environment variable. We recommend not adding Anaconda to the PATH environment variable, since this can interfere with other software. Instead, use Anaconda software by opening Anaconda Navigator or the Anaconda Command Prompt from the Start Menu.\n",
    "\n",
    "9. Choose whether to register Anaconda as your default Python 3.6. Unless you plan on installing and running multiple versions of Anaconda, or multiple versions of Python, you should accept the default and leave this box checked.\n",
    "\n",
    "10. Click Install. You can click Show Details if you want to see all the packages Anaconda is installing.\n",
    "\n",
    "11. Click Next.\n",
    "\n",
    "12. After a successful installation you will see the “Thanks for installing Anaconda” image:\n",
    " <img src=\"Images/anaconda-install-win.png\">\n",
    " \n",
    "13. You can leave the boxes checked “Learn more about Anaconda Cloud” and “Learn more about Anaconda Support” if you wish to read more about this cloud package management service and Anaconda support. Click Finish.\n",
    "\n",
    "14. After your install is complete, verify it by opening Anaconda Navigator, a program that is included with Anaconda. From your Windows Start menu, select the shortcut Anaconda Navigator. If Navigator opens, you have successfully installed Anaconda.\n"
   ]
  },
  {
   "cell_type": "markdown",
   "metadata": {},
   "source": [
    "**Programming in Python**\n",
    "\n",
    "Two basic modes:\n",
    "\n",
    "+ Interactive: Quick way of writing and testing code. Interactive in nature and gives results on the fly.\n",
    "+ Interactive mode is recommended when some idea/result is to be quickly tested.\n",
    "+ Script: Write complete code just like in any other language. Run all or some part of the code.\n",
    "+ Code can be stored in scripts and run at a later time. \n",
    "+ Python scripts end with a .py extension\n",
    "\n",
    "**IPython notebook**\n",
    "\n",
    "IPython is a software package in Python that serves as a research notebook. IPython has a seamless interface using which you can write notes as well as perform data analysis in the same file. The data analysis part allows you to write the code and run it from within the notebook itself. The results also are displayed in the notebook. Among other things, IPython provides:\n",
    "\n",
    "1. An interactive shell\n",
    "2. Notebook that is browser based. The notebook supports text, code, expressions, graphs and interactive data visualization, embed images and videos, and also links to web pages on the Internet. \n",
    "3. Tools for parallel computing.\n",
    "4. Import external code and run it.\n",
    "5. Export the notebook in a number of formats.\n",
    "\n",
    "**Downloading and installing IPython notebook**\n",
    "\n",
    "Ipython notebook can be installed (if it is not already installed) on using Jupyter notebook. To install IPython notebook, go to Package Manager and search IPython. A list of options will come up detailing if IPython is already installed or if there is a newer version available. Click on Install. Once IPython is installed, it can be launched from Enthough Canopy.\n",
    "\n",
    "**Creating an IPython notebook**\n",
    "\n",
    "In order to create an IPython notebook, choose File -> New -> IPython notebook. \n",
    "\n",
    "Hitting Alt-Enter creates a new cell. A cell is nothing but a placeholder where you can write some text or execute code."
   ]
  },
  {
   "cell_type": "code",
   "execution_count": null,
   "metadata": {},
   "outputs": [],
   "source": [
    "print (\"An example of code execution in IPython\")\n",
    "23*543"
   ]
  },
  {
   "cell_type": "markdown",
   "metadata": {},
   "source": [
    "In order to find help on some concept, make use of ? If you want to find a function or make use of wildcard entry, make use of followed by ? A quickref command gives you a quick reference to the most commonly used commands in Python."
   ]
  },
  {
   "cell_type": "code",
   "execution_count": null,
   "metadata": {},
   "outputs": [],
   "source": [
    "import collections\n",
    "collections.namedtuple?"
   ]
  },
  {
   "cell_type": "code",
   "execution_count": null,
   "metadata": {},
   "outputs": [],
   "source": [
    "import numpy as np\n",
    "np.*mean*?"
   ]
  },
  {
   "cell_type": "markdown",
   "metadata": {},
   "source": [
    "Tab is a very handy feature in Python. It gives you a list of all the functions and commands that are associated with a package (such as NumPy). For example, if you type np. and then press tab, a dropdown will come up with the list of all the functions associate with np. By using this, you do not have to rememeber the functions specifics and can just use tab completion."
   ]
  },
  {
   "cell_type": "markdown",
   "metadata": {},
   "source": [
    "If you want to know the histroy of commands, make use of history command. This feature also allows you to extract code from a IPython notebook to a separate file. "
   ]
  },
  {
   "cell_type": "code",
   "execution_count": null,
   "metadata": {},
   "outputs": [],
   "source": [
    "%history"
   ]
  },
  {
   "cell_type": "markdown",
   "metadata": {},
   "source": [
    "**Running external code files in IPython**\n",
    "\n",
    "If you want to run external code files in Python, make use of %run command followed by the path of the file. IPython shell will execute the code and will display the results."
   ]
  },
  {
   "cell_type": "code",
   "execution_count": null,
   "metadata": {},
   "outputs": [],
   "source": [
    "%run \"D:\\fibonacci.py\""
   ]
  },
  {
   "cell_type": "markdown",
   "metadata": {},
   "source": [
    "**Syntax Formalities**\n",
    "\n",
    "+ Python is case sensitive\n",
    "+ Python makes use of whitespace for code structuring and marking logical breaks in the code (In contrast to other programming languages that use braces)\n",
    "+ End of line marks end of a statement, so does not require a semicolon at end of each statement\n",
    "+ Whitespace at the beginning of the line is important. This is called indentation.\n",
    "+ Leading whitespace (spaces and tabs) at the beginning of the logical line is used to determine the indentation level of the logical line.\n",
    "+ Statements which go together must have the same indentation. Each such set of statements is called a block."
   ]
  },
  {
   "cell_type": "code",
   "execution_count": null,
   "metadata": {},
   "outputs": [],
   "source": [
    "i = 5\n",
    "a =7 \n",
    "i ='text'\n",
    "print ('Value is ', i) # Error! Notice a single space at the start of the li\n",
    "print ('I repeat, the value is ', i)"
   ]
  },
  {
   "cell_type": "markdown",
   "metadata": {},
   "source": [
    "**Comments** \n",
    "\n",
    "One line comments are denoted by (#) at the start of line\n",
    "Multiple line comments start with ''' and end with '''"
   ]
  },
  {
   "cell_type": "code",
   "execution_count": null,
   "metadata": {},
   "outputs": [],
   "source": [
    "# this is a single line comment\n",
    "'''\n",
    "print(\"We are in a comment\")\n",
    "print (\"We are still in a comment\")\n",
    "'''\n",
    "print(\"We are out of the comment\")"
   ]
  },
  {
   "cell_type": "code",
   "execution_count": null,
   "metadata": {},
   "outputs": [],
   "source": [
    "#Example of indentation\n",
    "'''\n",
    "for x in alist:\n",
    "    if x < anumber:\n",
    "            print(x)\n",
    "    else:\n",
    "        print(-x)\n",
    "        \n",
    "is similar to\n",
    "\n",
    "for x in alist \n",
    "{if x < anumber  {\n",
    "        print(x)\n",
    "    }\n",
    "    else\n",
    "    {\n",
    "        print(-x)\n",
    "    }\n",
    "}\n",
    "'''"
   ]
  },
  {
   "cell_type": "code",
   "execution_count": null,
   "metadata": {},
   "outputs": [],
   "source": [
    "if x < 5:\n",
    "    print x\n",
    "print 5"
   ]
  },
  {
   "cell_type": "code",
   "execution_count": null,
   "metadata": {},
   "outputs": [],
   "source": [
    "x = 21\n",
    "y =25\n",
    "print x\n",
    "if x<10:\n",
    "    print x\n",
    "    \n",
    "    print y"
   ]
  },
  {
   "cell_type": "markdown",
   "metadata": {},
   "source": [
    "**Variables and Data Structures**\n",
    "\n",
    "+ Built-in data types:\n",
    "Integer, Floating point, String, Boolean Values, Date and Time\n",
    "\n",
    "+ Additional data structures:\n",
    "Tuples, Lists, Dictionary\n",
    "\n",
    "+ A variable is a name that refers to a value.\n",
    "+ No need to specify type to a variable; Python automatically assigns.\n"
   ]
  },
  {
   "cell_type": "code",
   "execution_count": null,
   "metadata": {},
   "outputs": [],
   "source": [
    "counter = 100          # An integer assignment\n",
    "miles   = 1000.0       # A floating point\n",
    "name    = 'Ajay'        # A string\n",
    "\n",
    "print counter\n",
    "print miles\n",
    "print name\n",
    "\n",
    "a = 11111\n",
    "b = 2.0\n",
    "c = \"0\"\n",
    "d = \"2\"\n",
    "print(b + a)\n",
    "print(c  + d)"
   ]
  },
  {
   "cell_type": "markdown",
   "metadata": {},
   "source": [
    "**Strings**\n",
    "\n",
    "+ Built-in string class named \"str\" with many handy features\n",
    "+ In addition to numerical data processing, Python has very strong string processing capabilities. \n",
    "+ Subsets of strings can be taken using the slice operator ( [ ] and [ : ] ) with indexes starting at 0 in the beginning of the string and working their way from -1 at the end.\n",
    "+ The plus ( + ) sign is the string concatenation operator and the asterisk ( * ) is the repetition operator.\n",
    "+ Strings in Python are immutable. Unlike other datasets such as lists, you cannot manipulate individual string values. In order to do so, you have to take subsets of strings and form a new string. \n",
    "+ A string can be converted to a numerical type and vice versa (wherever applicable). Many a times, raw data, although numeric, is coded in string format. This feature provides a clean way to make sure all of the data is in numeric form.\n",
    "+ Strings are sequence of characters and can be tokenized.\n",
    "+ Strings and numbers can also be formatted.\n",
    "\n"
   ]
  },
  {
   "cell_type": "code",
   "execution_count": null,
   "metadata": {},
   "outputs": [],
   "source": [
    "str = 'Hello World' \n",
    "print str    # prints complete string\n",
    "print str[0]  # prints first character of string\n",
    "print str[2:5]   #prints characters starting from 3rd to 5th \n",
    "print str[2:]    #prints string starting from 3rd character\n",
    "print str*2    #prints string two times\n",
    "print str + \"TEST\"   # prints concatenated string"
   ]
  },
  {
   "cell_type": "code",
   "execution_count": null,
   "metadata": {},
   "outputs": [],
   "source": [
    "str =\"hello\"\n",
    "print(str[-1])\n",
    "\n",
    "a = 'this is a string'\n",
    "b = a.replace('string','longer string')\n",
    "print a \n",
    "print b\n",
    "\n",
    "a = '20'\n",
    "anum = int(a)\n",
    "print anum + anum\n",
    "\n",
    "a = \"hi\"\n",
    "anum = int(a)\n",
    "print anum\n",
    "\n"
   ]
  },
  {
   "cell_type": "code",
   "execution_count": null,
   "metadata": {},
   "outputs": [],
   "source": [
    "a = \"hi\"\n",
    "print a\n",
    "print len(a)\n"
   ]
  },
  {
   "cell_type": "code",
   "execution_count": null,
   "metadata": {},
   "outputs": [],
   "source": [
    "a + len(a)"
   ]
  },
  {
   "cell_type": "code",
   "execution_count": null,
   "metadata": {},
   "outputs": [],
   "source": [
    "a + str(len(a))"
   ]
  },
  {
   "cell_type": "code",
   "execution_count": null,
   "metadata": {},
   "outputs": [],
   "source": [
    "string = \"This is python\"\n",
    "strlist = list(string)\n",
    "print(strlist)\n",
    "\n",
    "format = '%.2f %s is $%d'\n",
    "format %(4.5560,'Argentine Pesos',1)"
   ]
  },
  {
   "cell_type": "code",
   "execution_count": null,
   "metadata": {},
   "outputs": [],
   "source": [
    "print string.count('s')\n",
    "print string.split(' ')\n",
    "print string.upper()\n",
    "print string.lower()\n",
    "print string.swapcase()"
   ]
  },
  {
   "cell_type": "code",
   "execution_count": null,
   "metadata": {},
   "outputs": [],
   "source": [
    "str1 = \"    This is a bright, sunny day      \"\n",
    "print str1.strip()\n",
    "print str1.lstrip()\n",
    "print str1.rstrip()\n",
    "print \":\".join(str1)\n",
    "print len(str1)"
   ]
  },
  {
   "cell_type": "code",
   "execution_count": null,
   "metadata": {},
   "outputs": [],
   "source": [
    "school = 'ISB'\n",
    "print ('S' in school)\n",
    "'L' in school"
   ]
  },
  {
   "cell_type": "code",
   "execution_count": null,
   "metadata": {},
   "outputs": [],
   "source": [
    "x='X-DSPAM-Confidence:   0.9032'\n",
    "pos = x.find(':')\n",
    "num=float(x[pos+1:])\n",
    "print num, type(num)"
   ]
  },
  {
   "cell_type": "code",
   "execution_count": null,
   "metadata": {},
   "outputs": [],
   "source": [
    "#Let us do some exercises\n",
    "#1\n",
    "#Given below string, get first 10 characters, and last 10 characters.\n",
    "#Now join them to form a new string\n",
    "str = 'Hey how are you doing. We are doing good'\n"
   ]
  },
  {
   "cell_type": "code",
   "execution_count": null,
   "metadata": {},
   "outputs": [],
   "source": [
    "#Consider two strings x and y\n",
    "x = 'Confusing'\n",
    "y = 'Strings'\n",
    "#Swap first three characters of each string and join them by an _\n"
   ]
  },
  {
   "cell_type": "markdown",
   "metadata": {},
   "source": [
    "**Lists**\n",
    "\n",
    "+ Lists, along with dictionary, are perhaps most important data types.\n",
    "+ A list contains items separated by commas and enclosed within square brackets ([]).\n",
    "+ All the items belonging to a list can be of different data type.\n",
    "+ Lists are similar to arrays in C language.\n",
    "+ The plus ( + ) sign is the list concatenation operator, and the asterisk ( * ) is the repetition operator.\n"
   ]
  },
  {
   "cell_type": "code",
   "execution_count": null,
   "metadata": {},
   "outputs": [],
   "source": [
    "list = [ 'abcd', 786 , 2.23, 'ISB', 70.2 ]\n",
    "tinylist = [123, 'ISB']\n",
    "\n",
    "print list          # Prints complete list\n",
    "print list[0]       # Prints first element of the list\n",
    "print list[1:3]     # Prints elements starting from 2nd till 3rd \n",
    "print list[2:]      # Prints elements starting from 3rd element\n",
    "print tinylist * 2  # Prints list two times\n",
    "print list + tinylist # Prints concatenated lists\n",
    "print len(list)"
   ]
  },
  {
   "cell_type": "code",
   "execution_count": null,
   "metadata": {},
   "outputs": [],
   "source": [
    "alist = [ 'abcd', 786 , 2.23, 'ISB', 70.2 ]\n",
    "blist = alist\n",
    "alist = alist*2\n",
    "print alist"
   ]
  },
  {
   "cell_type": "code",
   "execution_count": null,
   "metadata": {},
   "outputs": [],
   "source": [
    "#Check the behavior\n",
    "print blist"
   ]
  },
  {
   "cell_type": "code",
   "execution_count": null,
   "metadata": {},
   "outputs": [],
   "source": [
    "blist = alist\n",
    "print blist"
   ]
  },
  {
   "cell_type": "code",
   "execution_count": null,
   "metadata": {},
   "outputs": [],
   "source": [
    "list = ['Ajay', 'Vijay', 'Ramesh']\n",
    "list.append('Sujay')         \n",
    "list.insert(0, 'NewGuy')       \n",
    "list.extend(['Guy1', 'Guy2']) \n",
    "print list  \n",
    "print list.index('Guy1') \n",
    "list.remove('Guy1')\n",
    "list.pop(1)\n",
    "print list"
   ]
  },
  {
   "cell_type": "code",
   "execution_count": null,
   "metadata": {},
   "outputs": [],
   "source": [
    "#Sorting\n",
    "numberlist = [1, 5, 23, 1 ,54,2, 54,23, 54,76, 76,34,87]\n",
    "numberlist.sort()\n",
    "print(numberlist)\n",
    "print len(numberlist)\n",
    "print max(numberlist)\n",
    "print min(numberlist)"
   ]
  },
  {
   "cell_type": "code",
   "execution_count": null,
   "metadata": {},
   "outputs": [],
   "source": [
    "string = ['abcd', 'efg', 'hijk', 'lmn']\n",
    "print sorted(string, key=len)"
   ]
  },
  {
   "cell_type": "code",
   "execution_count": null,
   "metadata": {},
   "outputs": [],
   "source": [
    "#You can even pass your own function\n",
    "string = ['abcg', 'eff', 'hijd', 'lmi']\n",
    "\n",
    "def func1(l):\n",
    "    return l[-1]\n",
    "\n",
    "print sorted(string, key=func1)"
   ]
  },
  {
   "cell_type": "markdown",
   "metadata": {},
   "source": [
    "**Dictionary**\n",
    "\n",
    "+ One of the most important built-in data structure.\n",
    "+ Python's dictionaries are kind of hash tables.\n",
    "+ They work like associative arrays and consist of key-value pairs. \n",
    "+ A dictionary key can be almost any Python type, but are usually numbers or strings. \n",
    "+ Values, on the other hand, can be any arbitrary Python object.\n",
    "+ Dictionaries are enclosed by curly braces ( { } ) and values can be assigned and accessed using square braces ( [] ).\n"
   ]
  },
  {
   "cell_type": "code",
   "execution_count": null,
   "metadata": {},
   "outputs": [],
   "source": [
    "dict = {}\n",
    "dict['one'] = \"This is one\"\n",
    "dict[2]     = \"This is two\"\n",
    "tinydict = {'name': 'isb','code':6734, 'dept': 'sales'}\n",
    "\n",
    "print dict['one']       # Prints value for 'one' key\n",
    "print dict[2]           # Prints value for 2 key\n",
    "print tinydict          # Prints complete dictionary\n",
    "print tinydict.keys()   # Prints all the keys\n",
    "print tinydict.values() # Prints all the values\n"
   ]
  },
  {
   "cell_type": "markdown",
   "metadata": {},
   "source": [
    "**Data type conversion**\n",
    "\n",
    "+ Data from one type can be converted into another type using conversion operators.\n",
    "+ Comes in handy when data is not coded in proper format (number coded as string, date coded as string)\n",
    "+ int(variable) - converts variable to integer \n",
    "+ str(variable) - converts variable to string \n",
    "+ float(variable) - converts variable to float (number with decimal) \n"
   ]
  },
  {
   "cell_type": "markdown",
   "metadata": {},
   "source": [
    "**Operators**\n",
    "\n",
    "+ + (plus) : Adds two objects \n",
    "+ - (minus) Gives the subtraction of one number from the other; if the first operand is absent it is assumed to be zero.\n",
    "+ * (multiply) Gives the multiplication of the two numbers or returns the string repeated that many times.\n",
    "+ ** (power) Returns x to the power of y\n",
    "+ / (divide) Divide x by y\n",
    "+ // (floor division) Returns the floor of the quotient\n",
    "+ % (modulo) Returns the remainder of the division\n",
    "+ < (less than) Returns whether x is less than y. All comparison operators return True or False. Note the capitalization of these names.\n",
    "+ > (greater than) Returns whether x is greater than y\n",
    "+ <= (less than or equal to) Returns whether x is less than or equal to y\n",
    "+ >= (greater than or equal to) Returns whether x is greater than or equal to y\n",
    "+ == (equal to) Compares if the objects are equal\n",
    "+ != (not equal to) Compares if the objects are not equal\n",
    "+ not (boolean NOT) If x is True, it returns False. If x is False, it returns True.\n",
    "+ and (boolean AND) x and y returns False if x is False, else it returns evaluation of y\n",
    "+ or (boolean OR) If x is True, it returns True, else it returns evaluation of y"
   ]
  },
  {
   "cell_type": "code",
   "execution_count": null,
   "metadata": {},
   "outputs": [],
   "source": [
    "a = 6\n",
    "b = 7\n",
    "c = 42\n",
    "print 1, a == 6\n",
    "print 2, a == 7\n",
    "print 3, a == 6 and b == 7\n",
    "print 4, a == 7 and b == 7\n",
    "print 5, not a == 7 and b == 7\n",
    "print 6, a == 7 or b == 7\n",
    "print 7, a == 7 or b == 6\n",
    "print 8, not (a == 7 and b == 6)\n",
    "print 9, not a == 7 and b == 6\n"
   ]
  },
  {
   "cell_type": "markdown",
   "metadata": {},
   "source": [
    "**Conditional Statements**\n",
    "\n",
    "**If-statement**\n",
    "\n",
    "The if statement is used to check a condition: if the condition is true, we run a block of statements (called the if-block), else we process another block of statements (called the else-block). The else clause is optional."
   ]
  },
  {
   "cell_type": "code",
   "execution_count": null,
   "metadata": {},
   "outputs": [],
   "source": [
    "a = 20\n",
    "if a >= 22:\n",
    "\n",
    "   print(\"if\")\n",
    "elif a >= 21:\n",
    "   print(\"elif\")\n",
    "else:\n",
    "   print(\"else\")\n"
   ]
  },
  {
   "cell_type": "code",
   "execution_count": null,
   "metadata": {},
   "outputs": [],
   "source": [
    "#Testing for an element in list\n",
    "list = ['Ajay', 'Vijay', 'Ramesh']\n",
    "if 'Vijay' in list:\n",
    "    print 'Found Vijay'"
   ]
  },
  {
   "cell_type": "markdown",
   "metadata": {},
   "source": [
    "**While-statement**\n",
    "\n",
    "The while statement allows you to repeatedly execute a block of statements as long as a condition is true. A while statement is an example of what is called a looping statement. A while statement can have an optional else clause."
   ]
  },
  {
   "cell_type": "code",
   "execution_count": null,
   "metadata": {},
   "outputs": [],
   "source": [
    "count = 0\n",
    "while (count < 9):\n",
    "   print 'The count is:', count\n",
    "   count = count + 1\n",
    "\n",
    "print \"End of while loop!\"\n"
   ]
  },
  {
   "cell_type": "markdown",
   "metadata": {},
   "source": [
    "**For-statement**\n",
    "\n",
    "The for..in statement is another looping statement which iterates over a sequence of objects i.e. go through each item in a sequence. A sequence is just an ordered collection of items."
   ]
  },
  {
   "cell_type": "code",
   "execution_count": null,
   "metadata": {},
   "outputs": [],
   "source": [
    "for i in range(1,5,2):\n",
    "    print (i)\n",
    "#else:\n",
    "#   print \"The for loop is over\""
   ]
  },
  {
   "cell_type": "code",
   "execution_count": null,
   "metadata": {},
   "outputs": [],
   "source": [
    "#Traversing a list\n",
    "#What is the output\n",
    "numbers = [2, 3, 5]\n",
    "sum = 0\n",
    "for num in numbers:\n",
    "    sum += num\n",
    "print sum"
   ]
  },
  {
   "cell_type": "code",
   "execution_count": null,
   "metadata": {},
   "outputs": [],
   "source": [
    "numbers = [2, 3, 5]\n",
    "getsum = [ i+2 for i in numbers ]\n",
    "print getsum"
   ]
  },
  {
   "cell_type": "code",
   "execution_count": null,
   "metadata": {},
   "outputs": [],
   "source": [
    "numbers = [2, 3, 5]\n",
    "getnum = [ i+2 for i in numbers if i<5]\n",
    "print getnum"
   ]
  },
  {
   "cell_type": "markdown",
   "metadata": {},
   "source": [
    "**Break statement**\n",
    "\n",
    "The break statement is used to break out of a loop statement i.e. stop the execution of a looping statement, even if the loop condition has not become False or the sequence of items has not been completely iterated over.\n",
    "\n",
    "An important note is that if you break out of a for or while loop, any corresponding loop else block is not executed."
   ]
  },
  {
   "cell_type": "code",
   "execution_count": null,
   "metadata": {},
   "outputs": [],
   "source": [
    "for i in range(1,10):\n",
    "       if i == 5:\n",
    "           break\n",
    "       print i\n",
    "print('Done')"
   ]
  },
  {
   "cell_type": "markdown",
   "metadata": {},
   "source": [
    "**Functions**\n",
    "\n",
    "+ Functions are reusable piece of software.\n",
    "+ Block of statements that accepts some arguments, perform some functionality, and provide the output.\n",
    "+ Defined using def keyword\n",
    "+ Similar to functions in R.\n",
    "+ For example, implement code to perform two way clustering once and can be used again in the same program. \n",
    "+ We will look at functions for a number of features (Fama Mac Beth regression, two way clustering, industry code classification) in subsequent sessions. \n",
    "+ A function can take arguments.\n",
    "+ Arguments are specified within parentheses in function definition separated by commas.\n",
    "+ It is also possible to assign default values to parameters in order to make the program flexible and not behave in an unexpected manner.\n",
    "+ One of the most powerful feature of functions is that it allows you to pass any number of arguments and you do not have to worry about specifying the number when writing the function. This feature becomes extremely important when dealing with lists or input data where you do not know number of data observations before hand.\n",
    "+ Scope of variables defined inside a function is local i.e. they cannot be used outside of a function.\n"
   ]
  },
  {
   "cell_type": "code",
   "execution_count": null,
   "metadata": {},
   "outputs": [],
   "source": [
    "def sayHello():\n",
    "    print('Hello World!') # block belonging to the function\n",
    "# End of function #\n",
    "\n",
    "sayHello()"
   ]
  },
  {
   "cell_type": "code",
   "execution_count": null,
   "metadata": {},
   "outputs": [],
   "source": [
    "def printMax(a, b):\n",
    "   if a > b:\n",
    "       print(a, 'is maximum')\n",
    "   elif a == b:\n",
    "       print(a, 'is equal to', b)\n",
    "   else:\n",
    "       print(b, 'is maximum')\n",
    "\n",
    "printMax(3, 4) "
   ]
  },
  {
   "cell_type": "code",
   "execution_count": null,
   "metadata": {},
   "outputs": [],
   "source": [
    "def say(message, times = 1):\n",
    "   print(message * times)\n",
    "\n",
    "say('Hello')\n",
    "say('World', 5)"
   ]
  },
  {
   "cell_type": "code",
   "execution_count": null,
   "metadata": {},
   "outputs": [],
   "source": [
    "def func(a, b=5, c=10):\n",
    "   print('a is', a, 'and b is', b, 'and c is', c)\n",
    "func(3, 7)\n",
    "func(25, c=24)\n",
    "func(c=50, a=100)"
   ]
  },
  {
   "cell_type": "code",
   "execution_count": null,
   "metadata": {},
   "outputs": [],
   "source": [
    "x = 50\n",
    "def func(x):\n",
    "   print('x is', x)\n",
    "   x = 2\n",
    "   print('Changed local x to', x)\n",
    "func(x)\n",
    "print('x is still', x)"
   ]
  },
  {
   "cell_type": "code",
   "execution_count": null,
   "metadata": {},
   "outputs": [],
   "source": [
    "def total(initial=5, *numbers, **keywords):\n",
    "   count = initial\n",
    "   for number in numbers:\n",
    "       count += number\n",
    "   for key in keywords:\n",
    "       count += keywords[key]\n",
    "   return count\n",
    "\n",
    "print(total(10, 1, 2, 3, vegetables=50, fruits=100))"
   ]
  },
  {
   "cell_type": "markdown",
   "metadata": {},
   "source": [
    "**Modules**\n",
    "\n",
    "+ Functions can be used in the same program. \n",
    "+ If you want to use function (s) in other programs, make use of modules.\n",
    "+ Modules can be imported in other programs and functions contained in those modules can be used.\n",
    "+ Simplest way to create a module is to write a .py file with functions defined in that file.\n",
    "+ Other way is to import using byte-compiled .pyc files. "
   ]
  },
  {
   "cell_type": "code",
   "execution_count": null,
   "metadata": {},
   "outputs": [],
   "source": [
    "import os\n",
    "print os.getcwd()\n",
    "import math\n",
    "x = -25\n",
    "print(math.fabs(x))\n",
    "print(math.factorial(abs(x)))"
   ]
  },
  {
   "cell_type": "code",
   "execution_count": null,
   "metadata": {},
   "outputs": [],
   "source": [
    "from mymodule import *\n",
    "print(sayhi())\n",
    "\n",
    "\n",
    "numb = input(\"Enter a non negative number\")\n",
    "num_factorial = factorial(numb)\n",
    "print(num_factorial)\n"
   ]
  },
  {
   "cell_type": "markdown",
   "metadata": {},
   "source": [
    "**Writing first program**\n",
    "\n",
    "+ Source files .py extension, and can be run from command prompt by using python filename.py (optional arguments) command. \n",
    "+ Examine name.py. \n",
    "+ First line imports modules\n",
    "+ Next line defines a main() function. We can specify command line arguments. Command line args are in sys.argv[1], sys.argv[2]\n",
    "+ sys.argv[0] is the script name itself and can be ignored\n",
    "+ name = 'main' starts the program. \n",
    "+ When a Python file is run directly, the special variable \"__name__\" is set to \"__main__\". Therefore, it's common to have the boilerplate if __name__ ==... shown above to call a main() function when the module is run directly, but not when the module is imported by some other module."
   ]
  },
  {
   "cell_type": "code",
   "execution_count": null,
   "metadata": {},
   "outputs": [],
   "source": [
    "#Run name.py"
   ]
  },
  {
   "cell_type": "markdown",
   "metadata": {},
   "source": [
    "** Exception Handling**\n",
    "\n",
    "**Exceptions**\n",
    "\n",
    "+ An exception is an event that interrupts the ordinary sequential processing of a program.\n",
    "+ For example, what if you are going to read a file and the file does not exist? Or what if you accidentally deleted it when the program was running? Similarly, what if your program had some invalid statements? Such situations are handled using exceptions.\n",
    "\n",
    "**Handling Exceptions**\n",
    "\n",
    "+ We can handle exceptions using the try..except statement. \n",
    "+ We basically put our usual statements within the try-block and put all our error handlers in the except-block."
   ]
  },
  {
   "cell_type": "code",
   "execution_count": null,
   "metadata": {},
   "outputs": [],
   "source": [
    "def avg( numList ):\n",
    "    \"\"\"Raises TypeError or ZeroDivisionError exceptions.\"\"\"\n",
    "    sum= 0\n",
    "    for v in numList:\n",
    "        sum = sum + v\n",
    "    return float(sum)/len(numList)\n",
    "\n",
    "def avgReport(numList):\n",
    "     try:\n",
    "         m= avg(numList)\n",
    "         print \"Average = \", m\n",
    "     except TypeError, ex:\n",
    "         print \"TypeError:\", ex\n",
    "     except ZeroDivisionError, ex:\n",
    "         print \"ZeroDivisionError:\", ex\n",
    "\n",
    "                    \n",
    "list1 = [10,20,30,40]\n",
    "list2 = []\n",
    "list3 = [10,20,30,'abc']\n",
    "\n",
    "avgReport(list1)\n",
    "print avgReport(list2)\n",
    "print avgReport(list3)"
   ]
  },
  {
   "cell_type": "markdown",
   "metadata": {},
   "source": [
    "**Try..Finally**\n",
    "\n",
    "+ Suppose you are reading a file in your program. How do you ensure that the file object is closed properly whether or not an exception was raised? This can be done using the finally block.\n",
    "+ This final step will be performed before the try block is finished, either normally or by any exception.\n",
    "+ The finally clause is always executed. \n",
    "+ This includes all three possible cases: if the try block finishes with no exceptions; if an exception is raised and handled; and if an exception is raised but not handled. \n",
    "+ This last case means that every nested try statement with a finally clause will have that finally clause executed.\n",
    "+ Use a finally clause to close files, release locks, close database connections, write final log messages, and other kinds of final operations. \n",
    "+ In the following example, we use the finally clause to write a final log message.\n"
   ]
  },
  {
   "cell_type": "code",
   "execution_count": null,
   "metadata": {},
   "outputs": [],
   "source": [
    "def avgReport( numList ):\n",
    "    try:\n",
    "        print \"Start avgReport\"\n",
    "        m= avg(numList)\n",
    "        print \"Average = \", m\n",
    "    except TypeError, ex:\n",
    "        print \"TypeError: \", ex\n",
    "    except ZeroDivisionError, ex:\n",
    "        print \"ZeroDivisionError: \", ex\n",
    "    finally:\n",
    "         print \"Finish avgReport\"\n",
    "\n",
    "list1 = [10,20,30,40]\n",
    "list2 = []\n",
    "list3 = [10,20,30,'abc']\n",
    "\n",
    "avgReport(list2)"
   ]
  },
  {
   "cell_type": "markdown",
   "metadata": {},
   "source": [
    "**pandas**\n",
    "\n",
    "pandas is the primary package for performing data analysis tasks in Python. pandas derives its name from panel data analysis and is the fundamental package that provides relational data structures (think Excel, SQL type) and a host of capabilities to play with those data structures. It is the most widely used package in Python for data analysis tasks, and is very good to work with cross sectional, time series, and panel data analysis. Python sits on top of NumPy and can be used with NumPy arrays and the functions in NumPy. How is pandas suited for a researcher’s needs:\n",
    "\n",
    "+ Has a tabular data structure that can hold both homogenous and heterogenous data.\n",
    "+ Very good indexing capabilities that makes data alignment and merging easy.\n",
    "+ Good time series functionality. No need to use different data structures for time series and cross sectional data. Allows for both ordered and unordered time-series data.\n",
    "+ A host of statistical functions developed around NumPy and pandas that makes a researcher’s task easy and fast.\n",
    "+ Programming is lot simpler and faster.\n",
    "+ Easily handles data manipulation and cleaning.\n",
    "+ Easy to expand and shorten data sets. Comprehensive merging, joins, and group by functionality to join multiple data sets.\n",
    "\n",
    "**Installing pandas** \n",
    "\n",
    "In order to check if pandas is installed, go to Package Manager and type pandas. By default, pandas already comes installed with a distribution of Canopy. If the package is not installed, click on Install.\n",
    "\n",
    "**Importing pandas**\n",
    "\n",
    "In order to be able to use NumPy, first import it using import statement\n"
   ]
  },
  {
   "cell_type": "code",
   "execution_count": null,
   "metadata": {},
   "outputs": [],
   "source": [
    "import pandas as pd #this will import pandas into your workspace"
   ]
  },
  {
   "cell_type": "code",
   "execution_count": null,
   "metadata": {},
   "outputs": [],
   "source": [
    "import numpy as np  #we will be using numpy functions so import numpy"
   ]
  },
  {
   "cell_type": "markdown",
   "metadata": {},
   "source": [
    "**Data Structures in pandas**\n",
    "\n",
    "There are two basic data structures in pandas: Series and DataFrame\n",
    "\n",
    "**Series:** It is similar to a NumPy 1-dimensional array. In addition to the values that are specified by the programmer, pandas attaches a label to each of the values. If the labels are not provided by the programmer, then pandas assigns labels ( 0 for first element, 1 for second element and so on). A benefit of assigning labels to data values is that it becomes easier to perform manipulations on the dataset as the whole dataset becomes more of a dictionary where each value is associated with a label. \n"
   ]
  },
  {
   "cell_type": "code",
   "execution_count": null,
   "metadata": {},
   "outputs": [],
   "source": [
    "series1 = pd.Series([10,20,30,40])\n",
    "series1"
   ]
  },
  {
   "cell_type": "code",
   "execution_count": null,
   "metadata": {},
   "outputs": [],
   "source": [
    "series1.values"
   ]
  },
  {
   "cell_type": "code",
   "execution_count": null,
   "metadata": {},
   "outputs": [],
   "source": [
    "series1.index"
   ]
  },
  {
   "cell_type": "markdown",
   "metadata": {},
   "source": [
    "If you want to specify custom index values rather than the default ones provided, you can do so using the following command"
   ]
  },
  {
   "cell_type": "code",
   "execution_count": null,
   "metadata": {},
   "outputs": [],
   "source": [
    "series2 = pd.Series([10,20,30,40,50], index=['one','two','three','four','five'])\n",
    "series2"
   ]
  },
  {
   "cell_type": "markdown",
   "metadata": {},
   "source": [
    "The ways of accesing elements in a Series object are similar to what we have seen in NumPy, and you can perform NumPy operations on Series data arrays."
   ]
  },
  {
   "cell_type": "code",
   "execution_count": null,
   "metadata": {},
   "outputs": [],
   "source": [
    "series2[2]"
   ]
  },
  {
   "cell_type": "code",
   "execution_count": null,
   "metadata": {},
   "outputs": [],
   "source": [
    "series2['three']"
   ]
  },
  {
   "cell_type": "code",
   "execution_count": null,
   "metadata": {},
   "outputs": [],
   "source": [
    "series2[['one', 'three', 'five']]"
   ]
  },
  {
   "cell_type": "code",
   "execution_count": null,
   "metadata": {},
   "outputs": [],
   "source": [
    "series2[[0,1,3]]"
   ]
  },
  {
   "cell_type": "code",
   "execution_count": null,
   "metadata": {},
   "outputs": [],
   "source": [
    "series2 + 4"
   ]
  },
  {
   "cell_type": "code",
   "execution_count": null,
   "metadata": {},
   "outputs": [],
   "source": [
    "series2 ** 3"
   ]
  },
  {
   "cell_type": "code",
   "execution_count": null,
   "metadata": {},
   "outputs": [],
   "source": [
    "series2[series2>30]"
   ]
  },
  {
   "cell_type": "code",
   "execution_count": null,
   "metadata": {},
   "outputs": [],
   "source": [
    "np.sqrt(series2)"
   ]
  },
  {
   "cell_type": "markdown",
   "metadata": {},
   "source": [
    "If you have a dictionary, you can create a Series data structure from that dictionary. Suppose you are interested in EPS values for firms and the values come from different sources and is not clean. In that case you dont have to worry about cleaning and aligning those values."
   ]
  },
  {
   "cell_type": "code",
   "execution_count": null,
   "metadata": {},
   "outputs": [],
   "source": [
    "years = [90, 91, 92, 93, 94, 95]\n",
    "f1 = {90:8, 91:9, 92:7, 93:8, 94:9, 95:11}\n",
    "firm1 = pd.Series(f1,index=years)\n",
    "firm1"
   ]
  },
  {
   "cell_type": "code",
   "execution_count": null,
   "metadata": {},
   "outputs": [],
   "source": [
    "f2 = {90:14,92:9, 93:13, 94:5}\n",
    "firm2 = pd.Series(f2,index=years)\n",
    "firm2"
   ]
  },
  {
   "cell_type": "code",
   "execution_count": null,
   "metadata": {},
   "outputs": [],
   "source": [
    "f3 = {93:10, 94:12, 95: 13}\n",
    "firm3 = pd.Series(f3,index=years)\n",
    "firm3"
   ]
  },
  {
   "cell_type": "markdown",
   "metadata": {},
   "source": [
    "NaN stands for missing or NA values in pandas. Make use of isnull() function to find out if there are any missing values in the data structure."
   ]
  },
  {
   "cell_type": "code",
   "execution_count": null,
   "metadata": {},
   "outputs": [],
   "source": [
    "pd.isnull(firm3)"
   ]
  },
  {
   "cell_type": "markdown",
   "metadata": {},
   "source": [
    "A key feature of Series data is structures is that you don't have to worry about data alignment. For example, if we have run a word count program on two different files and we have the following data structures"
   ]
  },
  {
   "cell_type": "code",
   "execution_count": null,
   "metadata": {},
   "outputs": [],
   "source": [
    "dict1 = {'finance': 10, 'earning': 5, 'debt':8}\n",
    "dict2 = {'finance' : 8, 'compensation':4, 'earning': 9}\n",
    "count1 = pd.Series(dict1)\n",
    "count2 = pd.Series(dict2)\n",
    "print count1\n",
    "count2"
   ]
  },
  {
   "cell_type": "markdown",
   "metadata": {},
   "source": [
    "If we want to calculate the sum of common words in combined files, then we dont have to worry about data alignment. If we want to include all words, then we can take care of NaN values and compute the sum. By default, Series data structure ignores NaN values. NaN values stand for missing data values."
   ]
  },
  {
   "cell_type": "code",
   "execution_count": null,
   "metadata": {},
   "outputs": [],
   "source": [
    "count1+count2"
   ]
  },
  {
   "cell_type": "markdown",
   "metadata": {},
   "source": [
    "**Data Frame**\n",
    "\n",
    "DataFrame is a tabular data structure in which data is laid out in rows and column format (similar to a CSV and SQL file), but it can also be used for higher dimensional data sets. The DataFrame object can contain homogenous and heterogenous values, and can be thought of as a logical extension of Series data structures. In contrast to Series, where there is one index, a DataFrame object has one index for column and one index for rows. This allows flexibility in accessing and manipulating data."
   ]
  },
  {
   "cell_type": "code",
   "execution_count": null,
   "metadata": {},
   "outputs": [],
   "source": [
    "data = pd.DataFrame({'price':[95, 25, 85, 41, 78],\n",
    "                     'ticker':['AXP', 'CSCO', 'DIS', 'MSFT', 'WMT'],\n",
    "                     'company':['American Express', 'Cisco', 'Walt Disney','Microsoft', 'Walmart']})\n",
    "data"
   ]
  },
  {
   "cell_type": "markdown",
   "metadata": {},
   "source": [
    "If a column is passed with no values, it will simply have NaN values"
   ]
  },
  {
   "cell_type": "markdown",
   "metadata": {},
   "source": [
    "In order to access a column, simply mention the column name"
   ]
  },
  {
   "cell_type": "code",
   "execution_count": null,
   "metadata": {},
   "outputs": [],
   "source": [
    "data['company']"
   ]
  },
  {
   "cell_type": "code",
   "execution_count": null,
   "metadata": {},
   "outputs": [],
   "source": [
    "data.company"
   ]
  },
  {
   "cell_type": "code",
   "execution_count": null,
   "metadata": {},
   "outputs": [],
   "source": [
    "data.ix[2]"
   ]
  },
  {
   "cell_type": "code",
   "execution_count": null,
   "metadata": {},
   "outputs": [],
   "source": [
    "data.ix[data.ticker=='DIS']"
   ]
  },
  {
   "cell_type": "markdown",
   "metadata": {},
   "source": [
    "In order to add additional columns"
   ]
  },
  {
   "cell_type": "code",
   "execution_count": null,
   "metadata": {},
   "outputs": [],
   "source": [
    "data['Year'] = 2014\n",
    "data"
   ]
  },
  {
   "cell_type": "code",
   "execution_count": null,
   "metadata": {},
   "outputs": [],
   "source": [
    "data['pricesquared'] = data.price**2\n",
    "data"
   ]
  },
  {
   "cell_type": "code",
   "execution_count": null,
   "metadata": {},
   "outputs": [],
   "source": [
    "del data['pricesquared']\n",
    "data"
   ]
  },
  {
   "cell_type": "code",
   "execution_count": null,
   "metadata": {},
   "outputs": [],
   "source": [
    "data['pricesquared'] = NaN\n",
    "data"
   ]
  },
  {
   "cell_type": "code",
   "execution_count": null,
   "metadata": {},
   "outputs": [],
   "source": [
    "data['sequence'] = arange(1,6)\n",
    "data"
   ]
  },
  {
   "cell_type": "code",
   "execution_count": null,
   "metadata": {},
   "outputs": [],
   "source": [
    "data.values"
   ]
  },
  {
   "cell_type": "code",
   "execution_count": null,
   "metadata": {},
   "outputs": [],
   "source": [
    "newdata = data.drop(2)"
   ]
  },
  {
   "cell_type": "code",
   "execution_count": null,
   "metadata": {},
   "outputs": [],
   "source": [
    "newdata"
   ]
  },
  {
   "cell_type": "code",
   "execution_count": null,
   "metadata": {},
   "outputs": [],
   "source": [
    "years = [90, 91, 92, 93, 94, 95]\n",
    "f1 = {90:8, 91:9, 92:7, 93:8, 94:9, 95:11}\n",
    "firm1 = pd.Series(f1,index=years)\n",
    "firm1\n",
    "f2 = {90:14,92:9, 93:13, 94:5}\n",
    "firm2 = pd.Series(f2,index=years)\n",
    "firm2\n",
    "f3 = {93:10, 94:12, 95: 13}\n",
    "firm3 = pd.Series(f3,index=years)\n",
    "firm3\n",
    "df1 = pd.DataFrame(columns=['Firm1','Firm2','Firm3'],index=years)\n",
    "df1\n",
    "df1.Firm1 = firm1\n",
    "df1.Firm2 = firm2\n",
    "df1.Firm3 = firm3\n",
    "df1"
   ]
  },
  {
   "cell_type": "code",
   "execution_count": null,
   "metadata": {},
   "outputs": [],
   "source": [
    "dft = df1.T\n",
    "dft\n",
    "del dft[90]\n",
    "dft\n"
   ]
  },
  {
   "cell_type": "markdown",
   "metadata": {},
   "source": [
    "You can pass a number of data structures to DataFrame such as a ndarray, lists, dict, Series, and another DataFrame. You can also reindex to confirm to data to a new index. Reindexing is a powerful feature that allows you to access data in a number of different ways, and also to confirm data to some new time series or other index."
   ]
  },
  {
   "cell_type": "code",
   "execution_count": null,
   "metadata": {},
   "outputs": [],
   "source": [
    "reindexdf1 = df1.reindex([88,89,90,91,92,93,94,95,96,97,98])\n",
    "reindexdf1"
   ]
  },
  {
   "cell_type": "code",
   "execution_count": null,
   "metadata": {},
   "outputs": [],
   "source": [
    "reindexdf1 = df1.reindex(arange(1988,2008))\n",
    "reindexdf1"
   ]
  },
  {
   "cell_type": "code",
   "execution_count": null,
   "metadata": {},
   "outputs": [],
   "source": [
    "years1 = [90, 91, 92, 93, 94, 95]\n",
    "f4 = {90:8, 91:9, 92:7, 93:8, 94:9, 95:11}\n",
    "firm4 = pd.Series(f4,index=years)\n",
    "f5 = {90:14,91:12, 92:9, 93:13, 94:5, 95:8}\n",
    "firm5 = pd.Series(f5,index=years)\n",
    "f6 = {90:8, 91: 9, 92:9,93:10, 94:12, 95: 13}\n",
    "firm6 = pd.Series(f6,index=years)\n",
    "df2 = pd.DataFrame(columns=['Firm1','Firm2','Firm3'],index=years1)\n",
    "df2.Firm1 = firm4\n",
    "df2.Firm2 = firm5\n",
    "df2.Firm3 = firm6\n",
    "df2"
   ]
  },
  {
   "cell_type": "code",
   "execution_count": null,
   "metadata": {},
   "outputs": [],
   "source": [
    "reindexdf2 = df2.reindex([88,89,90,91,92,93,94,95,96,97,98], fill_value=0)\n",
    "reindexdf2"
   ]
  },
  {
   "cell_type": "markdown",
   "metadata": {},
   "source": [
    "Similarly, you have backfill (bfill) method to fill values backwards."
   ]
  },
  {
   "cell_type": "code",
   "execution_count": null,
   "metadata": {},
   "outputs": [],
   "source": [
    "df2"
   ]
  },
  {
   "cell_type": "code",
   "execution_count": null,
   "metadata": {},
   "outputs": [],
   "source": [
    "reindexdf3 = df2.reindex([88,89,90,91,92,93,94,95,96,97,98], method='ffill')\n",
    "reindexdf3"
   ]
  },
  {
   "cell_type": "code",
   "execution_count": null,
   "metadata": {},
   "outputs": [],
   "source": [
    "reindexdf1"
   ]
  },
  {
   "cell_type": "code",
   "execution_count": null,
   "metadata": {},
   "outputs": [],
   "source": [
    "reindexdf3"
   ]
  },
  {
   "cell_type": "code",
   "execution_count": null,
   "metadata": {},
   "outputs": [],
   "source": [
    "reindexdf1+reindexdf3"
   ]
  },
  {
   "cell_type": "code",
   "execution_count": null,
   "metadata": {},
   "outputs": [],
   "source": [
    "reindexdf1.add(reindexdf3, fill_value=0)"
   ]
  },
  {
   "cell_type": "markdown",
   "metadata": {},
   "source": [
    "**Exercise to Solve**"
   ]
  },
  {
   "cell_type": "markdown",
   "metadata": {},
   "source": [
    "1). Write code to print first and last element from the given (or in general any) list:"
   ]
  },
  {
   "cell_type": "markdown",
   "metadata": {},
   "source": [
    "2).  Write code to print a dictionary where the keys are numbers between 1 and 15 (both included) and the values are square of keys.\n",
    "#Sample Dictionary {1: 1, 2: 4, 3: 9, 4: 16, 5: 25, 6: 36, 7: 49, 8: 64, 9: 81, 10: 100, 11: 121, 12: 144, 13: 169, 14: 196, 15: 225}"
   ]
  },
  {
   "cell_type": "markdown",
   "metadata": {},
   "source": [
    "3). In cryptography, a Caesar cipher is a very simple encryption techniques in which each letter in the plain text is replaced by a letter some fixed number of positions down the alphabet. For example, with a shift of 3, A would be replaced by D, B would become E, and so on. The method is named after Julius Caesar, who used it to communicate with his generals. ROT-13 (\"rotate by 13 places\") is a widely used example of a Caesar cipher where the shift is 13. In Python, the key for ROT-13 may be represented by means of the following dictionary:\n",
    "key = {'a':'n', 'b':'o', 'c':'p', 'd':'q', 'e':'r', 'f':'s', 'g':'t', 'h':'u', \n",
    "       'i':'v', 'j':'w', 'k':'x', 'l':'y', 'm':'z', 'n':'a', 'o':'b', 'p':'c', \n",
    "       'q':'d', 'r':'e', 's':'f', 't':'g', 'u':'h', 'v':'i', 'w':'j', 'x':'k',\n",
    "       'y':'l', 'z':'m', 'A':'N', 'B':'O', 'C':'P', 'D':'Q', 'E':'R', 'F':'S', \n",
    "       'G':'T', 'H':'U', 'I':'V', 'J':'W', 'K':'X', 'L':'Y', 'M':'Z', 'N':'A', \n",
    "       'O':'B', 'P':'C', 'Q':'D', 'R':'E', 'S':'F', 'T':'G', 'U':'H', 'V':'I', \n",
    "       'W':'J', 'X':'K', 'Y':'L', 'Z':'M'}\n",
    "Your task in this exercise is to implement an encoder/decoder of ROT-13. Once you're done, you will be able to read the following secret message:\n",
    "\n",
    "   Pnrfne pvcure zrgubq vf anzrq nsgre Whyvhf Pnrfne!\n",
    "\n",
    "Note that since English has 26 characters, your ROT-13 program will be able to both encode and decode texts written in English.\n"
   ]
  },
  {
   "cell_type": "code",
   "execution_count": null,
   "metadata": {},
   "outputs": [],
   "source": []
  }
 ],
 "metadata": {
  "kernelspec": {
   "display_name": "Python 3",
   "language": "python",
   "name": "python3"
  },
  "language_info": {
   "codemirror_mode": {
    "name": "ipython",
    "version": 3
   },
   "file_extension": ".py",
   "mimetype": "text/x-python",
   "name": "python",
   "nbconvert_exporter": "python",
   "pygments_lexer": "ipython3",
   "version": "3.6.4"
  }
 },
 "nbformat": 4,
 "nbformat_minor": 1
}
