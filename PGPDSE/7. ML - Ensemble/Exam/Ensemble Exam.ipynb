{
 "cells": [
  {
   "cell_type": "code",
   "execution_count": 1,
   "metadata": {},
   "outputs": [],
   "source": [
    "import numpy as np\n",
    "import pandas as pd\n",
    "from sklearn.model_selection import train_test_split\n",
    "from sklearn.linear_model import LinearRegression\n",
    "from sklearn.ensemble import AdaBoostClassifier\n",
    "from sklearn.ensemble import GradientBoostingClassifier\n",
    "from sklearn.ensemble import RandomForestClassifier\n",
    "from sklearn.ensemble import BaggingClassifier\n",
    "from sklearn.model_selection import RandomizedSearchCV\n",
    "\n",
    "from sklearn.model_selection import GridSearchCV\n",
    "from sklearn.tree import DecisionTreeClassifier\n",
    "from imblearn.over_sampling import SMOTE\n",
    "import matplotlib.pyplot as plt\n",
    "from sklearn.metrics import mean_squared_error\n",
    "from sklearn import metrics\n",
    "import seaborn as sns\n",
    "import xgboost as xgb\n",
    "\n",
    "import sys\n",
    "import warnings\n",
    "\n",
    "if not sys.warnoptions:\n",
    "    warnings.simplefilter(\"ignore\")"
   ]
  },
  {
   "cell_type": "code",
   "execution_count": 2,
   "metadata": {},
   "outputs": [],
   "source": [
    "columns=['age','sex','cp','trestbps','chol','fbs','restecg','thalach','exang','oldpeak','slope','ca','thal','num']\n",
    "\n",
    "df=pd.read_csv(\"heart_disease.data\",names=columns)\n",
    "\n"
   ]
  },
  {
   "cell_type": "code",
   "execution_count": null,
   "metadata": {},
   "outputs": [],
   "source": []
  },
  {
   "cell_type": "code",
   "execution_count": 3,
   "metadata": {},
   "outputs": [
    {
     "data": {
      "text/html": [
       "<div>\n",
       "<style scoped>\n",
       "    .dataframe tbody tr th:only-of-type {\n",
       "        vertical-align: middle;\n",
       "    }\n",
       "\n",
       "    .dataframe tbody tr th {\n",
       "        vertical-align: top;\n",
       "    }\n",
       "\n",
       "    .dataframe thead th {\n",
       "        text-align: right;\n",
       "    }\n",
       "</style>\n",
       "<table border=\"1\" class=\"dataframe\">\n",
       "  <thead>\n",
       "    <tr style=\"text-align: right;\">\n",
       "      <th></th>\n",
       "      <th>age</th>\n",
       "      <th>sex</th>\n",
       "      <th>cp</th>\n",
       "      <th>trestbps</th>\n",
       "      <th>chol</th>\n",
       "      <th>fbs</th>\n",
       "      <th>restecg</th>\n",
       "      <th>thalach</th>\n",
       "      <th>exang</th>\n",
       "      <th>oldpeak</th>\n",
       "      <th>slope</th>\n",
       "      <th>ca</th>\n",
       "      <th>thal</th>\n",
       "      <th>num</th>\n",
       "    </tr>\n",
       "  </thead>\n",
       "  <tbody>\n",
       "    <tr>\n",
       "      <th>0</th>\n",
       "      <td>28</td>\n",
       "      <td>1</td>\n",
       "      <td>2</td>\n",
       "      <td>130</td>\n",
       "      <td>132</td>\n",
       "      <td>0</td>\n",
       "      <td>2</td>\n",
       "      <td>185</td>\n",
       "      <td>0</td>\n",
       "      <td>0.0</td>\n",
       "      <td>?</td>\n",
       "      <td>?</td>\n",
       "      <td>?</td>\n",
       "      <td>0</td>\n",
       "    </tr>\n",
       "    <tr>\n",
       "      <th>1</th>\n",
       "      <td>29</td>\n",
       "      <td>1</td>\n",
       "      <td>2</td>\n",
       "      <td>120</td>\n",
       "      <td>243</td>\n",
       "      <td>0</td>\n",
       "      <td>0</td>\n",
       "      <td>160</td>\n",
       "      <td>0</td>\n",
       "      <td>0.0</td>\n",
       "      <td>?</td>\n",
       "      <td>?</td>\n",
       "      <td>?</td>\n",
       "      <td>0</td>\n",
       "    </tr>\n",
       "    <tr>\n",
       "      <th>2</th>\n",
       "      <td>29</td>\n",
       "      <td>1</td>\n",
       "      <td>2</td>\n",
       "      <td>140</td>\n",
       "      <td>?</td>\n",
       "      <td>0</td>\n",
       "      <td>0</td>\n",
       "      <td>170</td>\n",
       "      <td>0</td>\n",
       "      <td>0.0</td>\n",
       "      <td>?</td>\n",
       "      <td>?</td>\n",
       "      <td>?</td>\n",
       "      <td>0</td>\n",
       "    </tr>\n",
       "    <tr>\n",
       "      <th>3</th>\n",
       "      <td>30</td>\n",
       "      <td>0</td>\n",
       "      <td>1</td>\n",
       "      <td>170</td>\n",
       "      <td>237</td>\n",
       "      <td>0</td>\n",
       "      <td>1</td>\n",
       "      <td>170</td>\n",
       "      <td>0</td>\n",
       "      <td>0.0</td>\n",
       "      <td>?</td>\n",
       "      <td>?</td>\n",
       "      <td>6</td>\n",
       "      <td>0</td>\n",
       "    </tr>\n",
       "    <tr>\n",
       "      <th>4</th>\n",
       "      <td>31</td>\n",
       "      <td>0</td>\n",
       "      <td>2</td>\n",
       "      <td>100</td>\n",
       "      <td>219</td>\n",
       "      <td>0</td>\n",
       "      <td>1</td>\n",
       "      <td>150</td>\n",
       "      <td>0</td>\n",
       "      <td>0.0</td>\n",
       "      <td>?</td>\n",
       "      <td>?</td>\n",
       "      <td>?</td>\n",
       "      <td>0</td>\n",
       "    </tr>\n",
       "  </tbody>\n",
       "</table>\n",
       "</div>"
      ],
      "text/plain": [
       "   age  sex  cp trestbps chol fbs restecg thalach exang  oldpeak slope ca  \\\n",
       "0   28    1   2      130  132   0       2     185     0      0.0     ?  ?   \n",
       "1   29    1   2      120  243   0       0     160     0      0.0     ?  ?   \n",
       "2   29    1   2      140    ?   0       0     170     0      0.0     ?  ?   \n",
       "3   30    0   1      170  237   0       1     170     0      0.0     ?  ?   \n",
       "4   31    0   2      100  219   0       1     150     0      0.0     ?  ?   \n",
       "\n",
       "  thal  num  \n",
       "0    ?    0  \n",
       "1    ?    0  \n",
       "2    ?    0  \n",
       "3    6    0  \n",
       "4    ?    0  "
      ]
     },
     "execution_count": 3,
     "metadata": {},
     "output_type": "execute_result"
    }
   ],
   "source": [
    "df.head()"
   ]
  },
  {
   "cell_type": "code",
   "execution_count": 4,
   "metadata": {},
   "outputs": [
    {
     "name": "stdout",
     "output_type": "stream",
     "text": [
      "<class 'pandas.core.frame.DataFrame'>\n",
      "RangeIndex: 294 entries, 0 to 293\n",
      "Data columns (total 14 columns):\n",
      "age         294 non-null int64\n",
      "sex         294 non-null int64\n",
      "cp          294 non-null int64\n",
      "trestbps    294 non-null object\n",
      "chol        294 non-null object\n",
      "fbs         294 non-null object\n",
      "restecg     294 non-null object\n",
      "thalach     294 non-null object\n",
      "exang       294 non-null object\n",
      "oldpeak     294 non-null float64\n",
      "slope       294 non-null object\n",
      "ca          294 non-null object\n",
      "thal        294 non-null object\n",
      "num         294 non-null int64\n",
      "dtypes: float64(1), int64(4), object(9)\n",
      "memory usage: 32.2+ KB\n"
     ]
    }
   ],
   "source": [
    "df.info()"
   ]
  },
  {
   "cell_type": "code",
   "execution_count": 5,
   "metadata": {},
   "outputs": [
    {
     "data": {
      "text/plain": [
       "age           int64\n",
       "sex           int64\n",
       "cp            int64\n",
       "trestbps     object\n",
       "chol         object\n",
       "fbs          object\n",
       "restecg      object\n",
       "thalach      object\n",
       "exang        object\n",
       "oldpeak     float64\n",
       "slope        object\n",
       "ca           object\n",
       "thal         object\n",
       "num           int64\n",
       "dtype: object"
      ]
     },
     "execution_count": 5,
     "metadata": {},
     "output_type": "execute_result"
    }
   ],
   "source": [
    "df.dtypes"
   ]
  },
  {
   "cell_type": "code",
   "execution_count": 6,
   "metadata": {},
   "outputs": [],
   "source": [
    "df = df.replace('?',np.nan)"
   ]
  },
  {
   "cell_type": "code",
   "execution_count": 7,
   "metadata": {},
   "outputs": [],
   "source": [
    "# Decision tree in Python can take only numerical / categorical colums. It cannot take string / obeject types. \n",
    "# The following code loops through each column and checks if the column type is object then converts those columns\n",
    "# into categorical with each distinct value becoming a category or code.\n",
    "\n",
    "#for feature in df.columns: # Loop through all columns in the dataframe\n",
    "#    if df[feature].dtype == 'object': # Only apply for columns with categorical strings\n",
    "#          df[feature] =   df[feature].astype('category')"
   ]
  },
  {
   "cell_type": "code",
   "execution_count": 8,
   "metadata": {},
   "outputs": [
    {
     "name": "stdout",
     "output_type": "stream",
     "text": [
      "<class 'pandas.core.frame.DataFrame'>\n",
      "RangeIndex: 294 entries, 0 to 293\n",
      "Data columns (total 14 columns):\n",
      "age         294 non-null int64\n",
      "sex         294 non-null int64\n",
      "cp          294 non-null int64\n",
      "trestbps    293 non-null object\n",
      "chol        271 non-null object\n",
      "fbs         286 non-null object\n",
      "restecg     293 non-null object\n",
      "thalach     293 non-null object\n",
      "exang       293 non-null object\n",
      "oldpeak     294 non-null float64\n",
      "slope       104 non-null object\n",
      "ca          3 non-null object\n",
      "thal        28 non-null object\n",
      "num         294 non-null int64\n",
      "dtypes: float64(1), int64(4), object(9)\n",
      "memory usage: 32.2+ KB\n"
     ]
    }
   ],
   "source": [
    "df.info()"
   ]
  },
  {
   "cell_type": "code",
   "execution_count": 9,
   "metadata": {},
   "outputs": [
    {
     "data": {
      "text/html": [
       "<div>\n",
       "<style scoped>\n",
       "    .dataframe tbody tr th:only-of-type {\n",
       "        vertical-align: middle;\n",
       "    }\n",
       "\n",
       "    .dataframe tbody tr th {\n",
       "        vertical-align: top;\n",
       "    }\n",
       "\n",
       "    .dataframe thead th {\n",
       "        text-align: right;\n",
       "    }\n",
       "</style>\n",
       "<table border=\"1\" class=\"dataframe\">\n",
       "  <thead>\n",
       "    <tr style=\"text-align: right;\">\n",
       "      <th></th>\n",
       "      <th>age</th>\n",
       "      <th>sex</th>\n",
       "      <th>cp</th>\n",
       "      <th>trestbps</th>\n",
       "      <th>chol</th>\n",
       "      <th>fbs</th>\n",
       "      <th>restecg</th>\n",
       "      <th>thalach</th>\n",
       "      <th>exang</th>\n",
       "      <th>oldpeak</th>\n",
       "      <th>slope</th>\n",
       "      <th>ca</th>\n",
       "      <th>thal</th>\n",
       "      <th>num</th>\n",
       "    </tr>\n",
       "  </thead>\n",
       "  <tbody>\n",
       "    <tr>\n",
       "      <th>0</th>\n",
       "      <td>28</td>\n",
       "      <td>1</td>\n",
       "      <td>2</td>\n",
       "      <td>130</td>\n",
       "      <td>132</td>\n",
       "      <td>0</td>\n",
       "      <td>2</td>\n",
       "      <td>185</td>\n",
       "      <td>0</td>\n",
       "      <td>0.0</td>\n",
       "      <td>NaN</td>\n",
       "      <td>NaN</td>\n",
       "      <td>NaN</td>\n",
       "      <td>0</td>\n",
       "    </tr>\n",
       "    <tr>\n",
       "      <th>1</th>\n",
       "      <td>29</td>\n",
       "      <td>1</td>\n",
       "      <td>2</td>\n",
       "      <td>120</td>\n",
       "      <td>243</td>\n",
       "      <td>0</td>\n",
       "      <td>0</td>\n",
       "      <td>160</td>\n",
       "      <td>0</td>\n",
       "      <td>0.0</td>\n",
       "      <td>NaN</td>\n",
       "      <td>NaN</td>\n",
       "      <td>NaN</td>\n",
       "      <td>0</td>\n",
       "    </tr>\n",
       "    <tr>\n",
       "      <th>2</th>\n",
       "      <td>29</td>\n",
       "      <td>1</td>\n",
       "      <td>2</td>\n",
       "      <td>140</td>\n",
       "      <td>NaN</td>\n",
       "      <td>0</td>\n",
       "      <td>0</td>\n",
       "      <td>170</td>\n",
       "      <td>0</td>\n",
       "      <td>0.0</td>\n",
       "      <td>NaN</td>\n",
       "      <td>NaN</td>\n",
       "      <td>NaN</td>\n",
       "      <td>0</td>\n",
       "    </tr>\n",
       "    <tr>\n",
       "      <th>3</th>\n",
       "      <td>30</td>\n",
       "      <td>0</td>\n",
       "      <td>1</td>\n",
       "      <td>170</td>\n",
       "      <td>237</td>\n",
       "      <td>0</td>\n",
       "      <td>1</td>\n",
       "      <td>170</td>\n",
       "      <td>0</td>\n",
       "      <td>0.0</td>\n",
       "      <td>NaN</td>\n",
       "      <td>NaN</td>\n",
       "      <td>6</td>\n",
       "      <td>0</td>\n",
       "    </tr>\n",
       "    <tr>\n",
       "      <th>4</th>\n",
       "      <td>31</td>\n",
       "      <td>0</td>\n",
       "      <td>2</td>\n",
       "      <td>100</td>\n",
       "      <td>219</td>\n",
       "      <td>0</td>\n",
       "      <td>1</td>\n",
       "      <td>150</td>\n",
       "      <td>0</td>\n",
       "      <td>0.0</td>\n",
       "      <td>NaN</td>\n",
       "      <td>NaN</td>\n",
       "      <td>NaN</td>\n",
       "      <td>0</td>\n",
       "    </tr>\n",
       "  </tbody>\n",
       "</table>\n",
       "</div>"
      ],
      "text/plain": [
       "   age  sex  cp trestbps chol fbs restecg thalach exang  oldpeak slope   ca  \\\n",
       "0   28    1   2      130  132   0       2     185     0      0.0   NaN  NaN   \n",
       "1   29    1   2      120  243   0       0     160     0      0.0   NaN  NaN   \n",
       "2   29    1   2      140  NaN   0       0     170     0      0.0   NaN  NaN   \n",
       "3   30    0   1      170  237   0       1     170     0      0.0   NaN  NaN   \n",
       "4   31    0   2      100  219   0       1     150     0      0.0   NaN  NaN   \n",
       "\n",
       "  thal  num  \n",
       "0  NaN    0  \n",
       "1  NaN    0  \n",
       "2  NaN    0  \n",
       "3    6    0  \n",
       "4  NaN    0  "
      ]
     },
     "execution_count": 9,
     "metadata": {},
     "output_type": "execute_result"
    }
   ],
   "source": [
    "df.head()"
   ]
  },
  {
   "cell_type": "code",
   "execution_count": 10,
   "metadata": {},
   "outputs": [
    {
     "data": {
      "text/html": [
       "<div>\n",
       "<style scoped>\n",
       "    .dataframe tbody tr th:only-of-type {\n",
       "        vertical-align: middle;\n",
       "    }\n",
       "\n",
       "    .dataframe tbody tr th {\n",
       "        vertical-align: top;\n",
       "    }\n",
       "\n",
       "    .dataframe thead th {\n",
       "        text-align: right;\n",
       "    }\n",
       "</style>\n",
       "<table border=\"1\" class=\"dataframe\">\n",
       "  <thead>\n",
       "    <tr style=\"text-align: right;\">\n",
       "      <th></th>\n",
       "      <th>count</th>\n",
       "      <th>mean</th>\n",
       "      <th>std</th>\n",
       "      <th>min</th>\n",
       "      <th>25%</th>\n",
       "      <th>50%</th>\n",
       "      <th>75%</th>\n",
       "      <th>max</th>\n",
       "    </tr>\n",
       "  </thead>\n",
       "  <tbody>\n",
       "    <tr>\n",
       "      <th>age</th>\n",
       "      <td>294.0</td>\n",
       "      <td>47.826531</td>\n",
       "      <td>7.811812</td>\n",
       "      <td>28.0</td>\n",
       "      <td>42.0</td>\n",
       "      <td>49.0</td>\n",
       "      <td>54.0</td>\n",
       "      <td>66.0</td>\n",
       "    </tr>\n",
       "    <tr>\n",
       "      <th>sex</th>\n",
       "      <td>294.0</td>\n",
       "      <td>0.724490</td>\n",
       "      <td>0.447533</td>\n",
       "      <td>0.0</td>\n",
       "      <td>0.0</td>\n",
       "      <td>1.0</td>\n",
       "      <td>1.0</td>\n",
       "      <td>1.0</td>\n",
       "    </tr>\n",
       "    <tr>\n",
       "      <th>cp</th>\n",
       "      <td>294.0</td>\n",
       "      <td>2.982993</td>\n",
       "      <td>0.965117</td>\n",
       "      <td>1.0</td>\n",
       "      <td>2.0</td>\n",
       "      <td>3.0</td>\n",
       "      <td>4.0</td>\n",
       "      <td>4.0</td>\n",
       "    </tr>\n",
       "    <tr>\n",
       "      <th>oldpeak</th>\n",
       "      <td>294.0</td>\n",
       "      <td>0.586054</td>\n",
       "      <td>0.908648</td>\n",
       "      <td>0.0</td>\n",
       "      <td>0.0</td>\n",
       "      <td>0.0</td>\n",
       "      <td>1.0</td>\n",
       "      <td>5.0</td>\n",
       "    </tr>\n",
       "    <tr>\n",
       "      <th>num</th>\n",
       "      <td>294.0</td>\n",
       "      <td>0.360544</td>\n",
       "      <td>0.480977</td>\n",
       "      <td>0.0</td>\n",
       "      <td>0.0</td>\n",
       "      <td>0.0</td>\n",
       "      <td>1.0</td>\n",
       "      <td>1.0</td>\n",
       "    </tr>\n",
       "  </tbody>\n",
       "</table>\n",
       "</div>"
      ],
      "text/plain": [
       "         count       mean       std   min   25%   50%   75%   max\n",
       "age      294.0  47.826531  7.811812  28.0  42.0  49.0  54.0  66.0\n",
       "sex      294.0   0.724490  0.447533   0.0   0.0   1.0   1.0   1.0\n",
       "cp       294.0   2.982993  0.965117   1.0   2.0   3.0   4.0   4.0\n",
       "oldpeak  294.0   0.586054  0.908648   0.0   0.0   0.0   1.0   5.0\n",
       "num      294.0   0.360544  0.480977   0.0   0.0   0.0   1.0   1.0"
      ]
     },
     "execution_count": 10,
     "metadata": {},
     "output_type": "execute_result"
    }
   ],
   "source": [
    "df.describe().T"
   ]
  },
  {
   "cell_type": "code",
   "execution_count": 11,
   "metadata": {},
   "outputs": [
    {
     "name": "stdout",
     "output_type": "stream",
     "text": [
      "38 \t age\n",
      "2 \t sex\n",
      "4 \t cp\n",
      "31 \t trestbps\n",
      "153 \t chol\n",
      "2 \t fbs\n",
      "3 \t restecg\n",
      "71 \t thalach\n",
      "2 \t exang\n",
      "10 \t oldpeak\n",
      "3 \t slope\n",
      "1 \t ca\n",
      "3 \t thal\n",
      "2 \t num\n"
     ]
    }
   ],
   "source": [
    "for i,columns in enumerate(df.columns):\n",
    "        print(\"{} \\t {}\".format(df[columns].nunique(),columns))\n",
    "        "
   ]
  },
  {
   "cell_type": "code",
   "execution_count": null,
   "metadata": {},
   "outputs": [],
   "source": []
  },
  {
   "cell_type": "code",
   "execution_count": 62,
   "metadata": {},
   "outputs": [
    {
     "name": "stdout",
     "output_type": "stream",
     "text": [
      "\n",
      "54    25\n",
      "48    19\n",
      "52    17\n",
      "55    15\n",
      "49    15\n",
      "46    13\n",
      "53    12\n",
      "43    12\n",
      "50    12\n",
      "39    11\n",
      "41    11\n",
      "47    10\n",
      "56    10\n",
      "51     9\n",
      "58     9\n",
      "59     8\n",
      "37     8\n",
      "45     8\n",
      "44     7\n",
      "42     7\n",
      "40     7\n",
      "38     7\n",
      "35     5\n",
      "57     5\n",
      "36     5\n",
      "32     4\n",
      "34     4\n",
      "65     3\n",
      "60     2\n",
      "33     2\n",
      "31     2\n",
      "61     2\n",
      "62     2\n",
      "29     2\n",
      "30     1\n",
      "66     1\n",
      "63     1\n",
      "28     1\n",
      "Name: age, dtype: int64 \t age\n",
      "\n",
      "1    213\n",
      "0     81\n",
      "Name: sex, dtype: int64 \t sex\n",
      "\n",
      "4    123\n",
      "2    106\n",
      "3     54\n",
      "1     11\n",
      "Name: cp, dtype: int64 \t cp\n",
      "\n",
      "120.0    65\n",
      "130.0    55\n",
      "140.0    50\n",
      "150.0    23\n",
      "110.0    21\n",
      "160.0    20\n",
      "125.0     8\n",
      "100.0     6\n",
      "180.0     6\n",
      "145.0     5\n",
      "135.0     5\n",
      "170.0     5\n",
      "112.0     3\n",
      "118.0     2\n",
      "122.0     2\n",
      "124.0     2\n",
      "115.0     2\n",
      "105.0     1\n",
      "98.0      1\n",
      "155.0     1\n",
      "190.0     1\n",
      "128.0     1\n",
      "132.0     1\n",
      "108.0     1\n",
      "113.0     1\n",
      "92.0      1\n",
      "106.0     1\n",
      "200.0     1\n",
      "138.0     1\n",
      "136.0     1\n",
      "142.0     1\n",
      "Name: trestbps, dtype: int64 \t trestbps\n",
      "\n",
      "243.0    25\n",
      "246.0     5\n",
      "275.0     5\n",
      "230.0     5\n",
      "216.0     4\n",
      "263.0     4\n",
      "238.0     4\n",
      "260.0     4\n",
      "224.0     4\n",
      "211.0     4\n",
      "215.0     4\n",
      "196.0     4\n",
      "237.0     4\n",
      "207.0     3\n",
      "288.0     3\n",
      "248.0     3\n",
      "182.0     3\n",
      "292.0     3\n",
      "223.0     3\n",
      "193.0     3\n",
      "268.0     3\n",
      "297.0     3\n",
      "213.0     3\n",
      "184.0     3\n",
      "291.0     3\n",
      "160.0     3\n",
      "308.0     3\n",
      "219.0     3\n",
      "198.0     3\n",
      "225.0     3\n",
      "         ..\n",
      "251.0     1\n",
      "468.0     1\n",
      "274.0     1\n",
      "221.0     1\n",
      "312.0     1\n",
      "171.0     1\n",
      "208.0     1\n",
      "393.0     1\n",
      "344.0     1\n",
      "394.0     1\n",
      "256.0     1\n",
      "326.0     1\n",
      "229.0     1\n",
      "85.0      1\n",
      "318.0     1\n",
      "172.0     1\n",
      "156.0     1\n",
      "282.0     1\n",
      "117.0     1\n",
      "466.0     1\n",
      "247.0     1\n",
      "226.0     1\n",
      "206.0     1\n",
      "338.0     1\n",
      "306.0     1\n",
      "392.0     1\n",
      "233.0     1\n",
      "242.0     1\n",
      "255.0     1\n",
      "132.0     1\n",
      "Name: chol, Length: 153, dtype: int64 \t chol\n",
      "\n",
      "0.0    274\n",
      "1.0     20\n",
      "Name: fbs, dtype: int64 \t fbs\n",
      "\n",
      "0.0    236\n",
      "1.0     52\n",
      "2.0      6\n",
      "Name: restecg, dtype: int64 \t restecg\n",
      "\n",
      "150.0    29\n",
      "140.0    22\n",
      "130.0    17\n",
      "170.0    14\n",
      "160.0    13\n",
      "120.0    11\n",
      "110.0     9\n",
      "142.0     8\n",
      "125.0     8\n",
      "155.0     7\n",
      "100.0     7\n",
      "135.0     7\n",
      "138.0     6\n",
      "145.0     6\n",
      "180.0     6\n",
      "115.0     6\n",
      "175.0     6\n",
      "122.0     5\n",
      "118.0     5\n",
      "98.0      4\n",
      "137.0     4\n",
      "134.0     4\n",
      "165.0     4\n",
      "124.0     4\n",
      "116.0     4\n",
      "144.0     3\n",
      "152.0     3\n",
      "168.0     3\n",
      "172.0     3\n",
      "132.0     3\n",
      "         ..\n",
      "128.0     2\n",
      "158.0     2\n",
      "136.0     2\n",
      "154.0     2\n",
      "164.0     2\n",
      "87.0      1\n",
      "190.0     1\n",
      "121.0     1\n",
      "108.0     1\n",
      "82.0      1\n",
      "105.0     1\n",
      "178.0     1\n",
      "143.0     1\n",
      "102.0     1\n",
      "91.0      1\n",
      "90.0      1\n",
      "156.0     1\n",
      "129.0     1\n",
      "103.0     1\n",
      "106.0     1\n",
      "153.0     1\n",
      "167.0     1\n",
      "188.0     1\n",
      "114.0     1\n",
      "162.0     1\n",
      "127.0     1\n",
      "176.0     1\n",
      "139.0     1\n",
      "119.0     1\n",
      "166.0     1\n",
      "Name: thalach, Length: 71, dtype: int64 \t thalach\n",
      "\n",
      "0.0    205\n",
      "1.0     89\n",
      "Name: exang, dtype: int64 \t exang\n",
      "\n",
      "0.0    189\n",
      "1.0     41\n",
      "2.0     31\n",
      "1.5     16\n",
      "3.0      9\n",
      "2.5      3\n",
      "0.5      2\n",
      "0.8      1\n",
      "5.0      1\n",
      "4.0      1\n",
      "Name: oldpeak, dtype: int64 \t oldpeak\n",
      "\n",
      "0    188\n",
      "1    106\n",
      "Name: num, dtype: int64 \t num\n"
     ]
    }
   ],
   "source": [
    "\n",
    "for i,columns in enumerate(df.columns):\n",
    "        print(\"\\n{} \\t {}\".format(df[columns].value_counts(),columns))"
   ]
  },
  {
   "cell_type": "code",
   "execution_count": null,
   "metadata": {},
   "outputs": [],
   "source": []
  },
  {
   "cell_type": "code",
   "execution_count": 13,
   "metadata": {},
   "outputs": [],
   "source": [
    "sns.pairplot(df,diag_kind='kde',hue='num')\n",
    "plt.show()"
   ]
  },
  {
   "cell_type": "code",
   "execution_count": null,
   "metadata": {},
   "outputs": [],
   "source": []
  },
  {
   "cell_type": "code",
   "execution_count": 14,
   "metadata": {},
   "outputs": [
    {
     "data": {
      "image/png": "[encoded data removed]",
      "text/plain": [
       "<Figure size 432x288 with 1 Axes>"
      ]
     },
     "metadata": {
      "needs_background": "light"
     },
     "output_type": "display_data"
    },
    {
     "data": {
      "image/png": "[encoded data removed]",
      "text/plain": [
       "<Figure size 432x288 with 1 Axes>"
      ]
     },
     "metadata": {
      "needs_background": "light"
     },
     "output_type": "display_data"
    },
    {
     "data": {
      "image/png": "[encoded data removed]",
      "text/plain": [
       "<Figure size 432x288 with 1 Axes>"
      ]
     },
     "metadata": {
      "needs_background": "light"
     },
     "output_type": "display_data"
    },
    {
     "data": {
      "image/png": "[encoded data removed]",
      "text/plain": [
       "<Figure size 432x288 with 1 Axes>"
      ]
     },
     "metadata": {
      "needs_background": "light"
     },
     "output_type": "display_data"
    },
    {
     "data": {
      "image/png": "[encoded data removed]",
      "text/plain": [
       "<Figure size 432x288 with 1 Axes>"
      ]
     },
     "metadata": {
      "needs_background": "light"
     },
     "output_type": "display_data"
    }
   ],
   "source": [
    "for c in df.columns:\n",
    "    if df[c].dtype in ['int64', 'float64']:\n",
    "        sns.distplot(df[c].dropna(), kde=True)\n",
    "        plt.show()"
   ]
  },
  {
   "cell_type": "code",
   "execution_count": 15,
   "metadata": {},
   "outputs": [
    {
     "data": {
      "image/png": "[encoded data removed]",
      "text/plain": [
       "<Figure size 1080x1080 with 1 Axes>"
      ]
     },
     "metadata": {
      "needs_background": "light"
     },
     "output_type": "display_data"
    },
    {
     "data": {
      "image/png": "[encoded data removed]",
      "text/plain": [
       "<Figure size 1080x1080 with 1 Axes>"
      ]
     },
     "metadata": {
      "needs_background": "light"
     },
     "output_type": "display_data"
    },
    {
     "data": {
      "image/png": "[encoded data removed]",
      "text/plain": [
       "<Figure size 1080x1080 with 1 Axes>"
      ]
     },
     "metadata": {
      "needs_background": "light"
     },
     "output_type": "display_data"
    },
    {
     "data": {
      "image/png": "[encoded data removed]",
      "text/plain": [
       "<Figure size 1080x1080 with 1 Axes>"
      ]
     },
     "metadata": {
      "needs_background": "light"
     },
     "output_type": "display_data"
    },
    {
     "data": {
      "image/png": "[encoded data removed]",
      "text/plain": [
       "<Figure size 1080x1080 with 1 Axes>"
      ]
     },
     "metadata": {
      "needs_background": "light"
     },
     "output_type": "display_data"
    },
    {
     "data": {
      "image/png": "[encoded data removed]",
      "text/plain": [
       "<Figure size 1080x1080 with 1 Axes>"
      ]
     },
     "metadata": {
      "needs_background": "light"
     },
     "output_type": "display_data"
    },
    {
     "data": {
      "image/png": "[encoded data removed]",
      "text/plain": [
       "<Figure size 1080x1080 with 1 Axes>"
      ]
     },
     "metadata": {
      "needs_background": "light"
     },
     "output_type": "display_data"
    },
    {
     "data": {
      "image/png": "[encoded data removed]",
      "text/plain": [
       "<Figure size 1080x1080 with 1 Axes>"
      ]
     },
     "metadata": {
      "needs_background": "light"
     },
     "output_type": "display_data"
    },
    {
     "data": {
      "image/png": "[encoded data removed]",
      "text/plain": [
       "<Figure size 1080x1080 with 1 Axes>"
      ]
     },
     "metadata": {
      "needs_background": "light"
     },
     "output_type": "display_data"
    },
    {
     "data": {
      "image/png": "[encoded data removed]",
      "text/plain": [
       "<Figure size 1080x1080 with 1 Axes>"
      ]
     },
     "metadata": {
      "needs_background": "light"
     },
     "output_type": "display_data"
    },
    {
     "data": {
      "image/png": "[encoded data removed]",
      "text/plain": [
       "<Figure size 1080x1080 with 1 Axes>"
      ]
     },
     "metadata": {
      "needs_background": "light"
     },
     "output_type": "display_data"
    },
    {
     "data": {
      "image/png": "[encoded data removed]",
      "text/plain": [
       "<Figure size 1080x1080 with 1 Axes>"
      ]
     },
     "metadata": {
      "needs_background": "light"
     },
     "output_type": "display_data"
    },
    {
     "data": {
      "image/png": "[encoded data removed]",
      "text/plain": [
       "<Figure size 1080x1080 with 1 Axes>"
      ]
     },
     "metadata": {
      "needs_background": "light"
     },
     "output_type": "display_data"
    },
    {
     "data": {
      "image/png": "[encoded data removed]",
      "text/plain": [
       "<Figure size 1080x1080 with 1 Axes>"
      ]
     },
     "metadata": {
      "needs_background": "light"
     },
     "output_type": "display_data"
    }
   ],
   "source": [
    "\n",
    "for c in df.columns:\n",
    "  #  if df[c].dtype not in ['int64', 'float64']:\n",
    "        plt.figure(figsize=(15,15))\n",
    "        sns.countplot(df[c].dropna())\n",
    "        plt.show()"
   ]
  },
  {
   "cell_type": "code",
   "execution_count": 16,
   "metadata": {},
   "outputs": [
    {
     "data": {
      "image/png": "[encoded data removed]",
      "text/plain": [
       "<Figure size 432x288 with 1 Axes>"
      ]
     },
     "metadata": {
      "needs_background": "light"
     },
     "output_type": "display_data"
    }
   ],
   "source": [
    "sns.countplot(df.num)\n",
    "plt.show()"
   ]
  },
  {
   "cell_type": "markdown",
   "metadata": {},
   "source": [
    "#### from the above plot we can understand that class 0 is having more obersvations than class 1 , class 0 is the higher class"
   ]
  },
  {
   "cell_type": "code",
   "execution_count": 17,
   "metadata": {
    "scrolled": true
   },
   "outputs": [
    {
     "data": {
      "text/plain": [
       "age           0\n",
       "sex           0\n",
       "cp            0\n",
       "trestbps      1\n",
       "chol         23\n",
       "fbs           8\n",
       "restecg       1\n",
       "thalach       1\n",
       "exang         1\n",
       "oldpeak       0\n",
       "slope       190\n",
       "ca          291\n",
       "thal        266\n",
       "num           0\n",
       "dtype: int64"
      ]
     },
     "execution_count": 17,
     "metadata": {},
     "output_type": "execute_result"
    }
   ],
   "source": [
    "df.isnull().sum()        # checking for null Values"
   ]
  },
  {
   "cell_type": "code",
   "execution_count": 18,
   "metadata": {},
   "outputs": [],
   "source": [
    "# delete slope,ca,thal because it has a lot of null values\n",
    "\n",
    "del df['slope']       \n",
    "del df['ca']           \n",
    "del df['thal']        "
   ]
  },
  {
   "cell_type": "code",
   "execution_count": 19,
   "metadata": {
    "scrolled": true
   },
   "outputs": [
    {
     "data": {
      "text/plain": [
       "age          0\n",
       "sex          0\n",
       "cp           0\n",
       "trestbps     1\n",
       "chol        23\n",
       "fbs          8\n",
       "restecg      1\n",
       "thalach      1\n",
       "exang        1\n",
       "oldpeak      0\n",
       "num          0\n",
       "dtype: int64"
      ]
     },
     "execution_count": 19,
     "metadata": {},
     "output_type": "execute_result"
    }
   ],
   "source": [
    "df.isnull().sum()  \n"
   ]
  },
  {
   "cell_type": "code",
   "execution_count": 20,
   "metadata": {},
   "outputs": [
    {
     "name": "stdout",
     "output_type": "stream",
     "text": [
      "\n",
      "120    65\n",
      "130    54\n",
      "140    50\n",
      "150    23\n",
      "110    21\n",
      "160    20\n",
      "125     8\n",
      "100     6\n",
      "180     6\n",
      "135     5\n",
      "170     5\n",
      "145     5\n",
      "112     3\n",
      "122     2\n",
      "115     2\n",
      "118     2\n",
      "124     2\n",
      "113     1\n",
      "200     1\n",
      "138     1\n",
      "142     1\n",
      "106     1\n",
      "98      1\n",
      "155     1\n",
      "105     1\n",
      "136     1\n",
      "132     1\n",
      "190     1\n",
      "92      1\n",
      "128     1\n",
      "108     1\n",
      "Name: trestbps, dtype: int64 \t trestbps\n",
      "\n",
      "230    5\n",
      "275    5\n",
      "246    5\n",
      "216    4\n",
      "211    4\n",
      "215    4\n",
      "237    4\n",
      "238    4\n",
      "263    4\n",
      "260    4\n",
      "224    4\n",
      "196    4\n",
      "198    3\n",
      "225    3\n",
      "308    3\n",
      "219    3\n",
      "292    3\n",
      "297    3\n",
      "223    3\n",
      "264    3\n",
      "222    3\n",
      "291    3\n",
      "193    3\n",
      "220    3\n",
      "207    3\n",
      "184    3\n",
      "288    3\n",
      "201    3\n",
      "268    3\n",
      "182    3\n",
      "      ..\n",
      "228    1\n",
      "233    1\n",
      "309    1\n",
      "168    1\n",
      "305    1\n",
      "518    1\n",
      "204    1\n",
      "221    1\n",
      "208    1\n",
      "173    1\n",
      "358    1\n",
      "306    1\n",
      "271    1\n",
      "529    1\n",
      "267    1\n",
      "388    1\n",
      "466    1\n",
      "287    1\n",
      "241    1\n",
      "175    1\n",
      "338    1\n",
      "85     1\n",
      "491    1\n",
      "365    1\n",
      "393    1\n",
      "392    1\n",
      "259    1\n",
      "234    1\n",
      "164    1\n",
      "307    1\n",
      "Name: chol, Length: 153, dtype: int64 \t chol\n",
      "\n",
      "0    266\n",
      "1     20\n",
      "Name: fbs, dtype: int64 \t fbs\n",
      "\n",
      "0    235\n",
      "1     52\n",
      "2      6\n",
      "Name: restecg, dtype: int64 \t restecg\n",
      "\n",
      "150    29\n",
      "140    21\n",
      "130    17\n",
      "170    14\n",
      "160    13\n",
      "120    11\n",
      "110     9\n",
      "142     8\n",
      "125     8\n",
      "155     7\n",
      "135     7\n",
      "100     7\n",
      "115     6\n",
      "180     6\n",
      "138     6\n",
      "175     6\n",
      "145     6\n",
      "122     5\n",
      "118     5\n",
      "116     4\n",
      "134     4\n",
      "137     4\n",
      "165     4\n",
      "98      4\n",
      "124     4\n",
      "132     3\n",
      "172     3\n",
      "144     3\n",
      "96      3\n",
      "168     3\n",
      "       ..\n",
      "99      2\n",
      "158     2\n",
      "146     2\n",
      "128     2\n",
      "174     2\n",
      "82      1\n",
      "127     1\n",
      "105     1\n",
      "121     1\n",
      "90      1\n",
      "106     1\n",
      "139     1\n",
      "91      1\n",
      "129     1\n",
      "162     1\n",
      "87      1\n",
      "188     1\n",
      "156     1\n",
      "176     1\n",
      "190     1\n",
      "114     1\n",
      "167     1\n",
      "119     1\n",
      "178     1\n",
      "143     1\n",
      "103     1\n",
      "108     1\n",
      "102     1\n",
      "166     1\n",
      "153     1\n",
      "Name: thalach, Length: 71, dtype: int64 \t thalach\n",
      "\n",
      "0    204\n",
      "1     89\n",
      "Name: exang, dtype: int64 \t exang\n"
     ]
    }
   ],
   "source": [
    "col=['trestbps','chol','fbs','restecg','thalach','exang']  \n",
    "for  columns in col:\n",
    "        print(\"\\n{} \\t {}\".format(df[columns].value_counts(),columns))"
   ]
  },
  {
   "cell_type": "code",
   "execution_count": 21,
   "metadata": {},
   "outputs": [],
   "source": [
    "\n",
    "df.trestbps=df.trestbps.astype('float64')\n",
    "df.chol=df.chol.astype('float64')\n",
    "df.fbs=df.fbs.astype('float64')\n",
    "df.restecg=df.restecg.astype('float64')\n",
    "df.thalach=df.thalach.astype('float64')\n",
    "df.exang=df.exang.astype('float64')"
   ]
  },
  {
   "cell_type": "code",
   "execution_count": null,
   "metadata": {},
   "outputs": [],
   "source": []
  },
  {
   "cell_type": "code",
   "execution_count": null,
   "metadata": {},
   "outputs": [],
   "source": [
    "\n"
   ]
  },
  {
   "cell_type": "code",
   "execution_count": 22,
   "metadata": {},
   "outputs": [
    {
     "name": "stdout",
     "output_type": "stream",
     "text": [
      "\n",
      "120.0    65\n",
      "130.0    54\n",
      "140.0    50\n",
      "150.0    23\n",
      "110.0    21\n",
      "160.0    20\n",
      "125.0     8\n",
      "100.0     6\n",
      "180.0     6\n",
      "145.0     5\n",
      "135.0     5\n",
      "170.0     5\n",
      "112.0     3\n",
      "118.0     2\n",
      "122.0     2\n",
      "124.0     2\n",
      "115.0     2\n",
      "105.0     1\n",
      "98.0      1\n",
      "155.0     1\n",
      "190.0     1\n",
      "128.0     1\n",
      "132.0     1\n",
      "108.0     1\n",
      "113.0     1\n",
      "92.0      1\n",
      "106.0     1\n",
      "200.0     1\n",
      "138.0     1\n",
      "136.0     1\n",
      "142.0     1\n",
      "Name: trestbps, dtype: int64 \t trestbps\n",
      "\n",
      "275.0    5\n",
      "230.0    5\n",
      "246.0    5\n",
      "238.0    4\n",
      "216.0    4\n",
      "263.0    4\n",
      "211.0    4\n",
      "224.0    4\n",
      "260.0    4\n",
      "215.0    4\n",
      "196.0    4\n",
      "237.0    4\n",
      "207.0    3\n",
      "288.0    3\n",
      "291.0    3\n",
      "182.0    3\n",
      "292.0    3\n",
      "223.0    3\n",
      "248.0    3\n",
      "297.0    3\n",
      "193.0    3\n",
      "268.0    3\n",
      "213.0    3\n",
      "184.0    3\n",
      "201.0    3\n",
      "219.0    3\n",
      "198.0    3\n",
      "264.0    3\n",
      "308.0    3\n",
      "195.0    3\n",
      "        ..\n",
      "251.0    1\n",
      "468.0    1\n",
      "274.0    1\n",
      "221.0    1\n",
      "312.0    1\n",
      "171.0    1\n",
      "208.0    1\n",
      "393.0    1\n",
      "344.0    1\n",
      "394.0    1\n",
      "256.0    1\n",
      "326.0    1\n",
      "229.0    1\n",
      "85.0     1\n",
      "318.0    1\n",
      "172.0    1\n",
      "156.0    1\n",
      "282.0    1\n",
      "117.0    1\n",
      "466.0    1\n",
      "247.0    1\n",
      "226.0    1\n",
      "206.0    1\n",
      "338.0    1\n",
      "306.0    1\n",
      "392.0    1\n",
      "233.0    1\n",
      "242.0    1\n",
      "255.0    1\n",
      "132.0    1\n",
      "Name: chol, Length: 153, dtype: int64 \t chol\n",
      "\n",
      "0.0    266\n",
      "1.0     20\n",
      "Name: fbs, dtype: int64 \t fbs\n",
      "\n",
      "0.0    235\n",
      "1.0     52\n",
      "2.0      6\n",
      "Name: restecg, dtype: int64 \t restecg\n",
      "\n",
      "150.0    29\n",
      "140.0    21\n",
      "130.0    17\n",
      "170.0    14\n",
      "160.0    13\n",
      "120.0    11\n",
      "110.0     9\n",
      "142.0     8\n",
      "125.0     8\n",
      "155.0     7\n",
      "100.0     7\n",
      "135.0     7\n",
      "138.0     6\n",
      "145.0     6\n",
      "180.0     6\n",
      "115.0     6\n",
      "175.0     6\n",
      "122.0     5\n",
      "118.0     5\n",
      "98.0      4\n",
      "137.0     4\n",
      "134.0     4\n",
      "165.0     4\n",
      "124.0     4\n",
      "116.0     4\n",
      "144.0     3\n",
      "152.0     3\n",
      "168.0     3\n",
      "172.0     3\n",
      "132.0     3\n",
      "         ..\n",
      "128.0     2\n",
      "158.0     2\n",
      "136.0     2\n",
      "154.0     2\n",
      "164.0     2\n",
      "87.0      1\n",
      "190.0     1\n",
      "121.0     1\n",
      "108.0     1\n",
      "82.0      1\n",
      "105.0     1\n",
      "178.0     1\n",
      "143.0     1\n",
      "102.0     1\n",
      "91.0      1\n",
      "90.0      1\n",
      "156.0     1\n",
      "129.0     1\n",
      "103.0     1\n",
      "106.0     1\n",
      "153.0     1\n",
      "167.0     1\n",
      "188.0     1\n",
      "114.0     1\n",
      "162.0     1\n",
      "127.0     1\n",
      "176.0     1\n",
      "139.0     1\n",
      "119.0     1\n",
      "166.0     1\n",
      "Name: thalach, Length: 71, dtype: int64 \t thalach\n",
      "\n",
      "0.0    204\n",
      "1.0     89\n",
      "Name: exang, dtype: int64 \t exang\n"
     ]
    }
   ],
   "source": [
    "col=['trestbps','chol','fbs','restecg','thalach','exang']  \n",
    "for  columns in col:\n",
    "        print(\"\\n{} \\t {}\".format(df[columns].value_counts(),columns))"
   ]
  },
  {
   "cell_type": "code",
   "execution_count": 23,
   "metadata": {},
   "outputs": [
    {
     "data": {
      "text/html": [
       "<div>\n",
       "<style scoped>\n",
       "    .dataframe tbody tr th:only-of-type {\n",
       "        vertical-align: middle;\n",
       "    }\n",
       "\n",
       "    .dataframe tbody tr th {\n",
       "        vertical-align: top;\n",
       "    }\n",
       "\n",
       "    .dataframe thead th {\n",
       "        text-align: right;\n",
       "    }\n",
       "</style>\n",
       "<table border=\"1\" class=\"dataframe\">\n",
       "  <thead>\n",
       "    <tr style=\"text-align: right;\">\n",
       "      <th></th>\n",
       "      <th>age</th>\n",
       "      <th>sex</th>\n",
       "      <th>cp</th>\n",
       "      <th>trestbps</th>\n",
       "      <th>chol</th>\n",
       "      <th>fbs</th>\n",
       "      <th>restecg</th>\n",
       "      <th>thalach</th>\n",
       "      <th>exang</th>\n",
       "      <th>oldpeak</th>\n",
       "      <th>num</th>\n",
       "    </tr>\n",
       "  </thead>\n",
       "  <tbody>\n",
       "    <tr>\n",
       "      <th>0</th>\n",
       "      <td>28</td>\n",
       "      <td>1</td>\n",
       "      <td>2</td>\n",
       "      <td>130.0</td>\n",
       "      <td>132.0</td>\n",
       "      <td>0.0</td>\n",
       "      <td>2.0</td>\n",
       "      <td>185.0</td>\n",
       "      <td>0.0</td>\n",
       "      <td>0.0</td>\n",
       "      <td>0</td>\n",
       "    </tr>\n",
       "    <tr>\n",
       "      <th>1</th>\n",
       "      <td>29</td>\n",
       "      <td>1</td>\n",
       "      <td>2</td>\n",
       "      <td>120.0</td>\n",
       "      <td>243.0</td>\n",
       "      <td>0.0</td>\n",
       "      <td>0.0</td>\n",
       "      <td>160.0</td>\n",
       "      <td>0.0</td>\n",
       "      <td>0.0</td>\n",
       "      <td>0</td>\n",
       "    </tr>\n",
       "    <tr>\n",
       "      <th>2</th>\n",
       "      <td>29</td>\n",
       "      <td>1</td>\n",
       "      <td>2</td>\n",
       "      <td>140.0</td>\n",
       "      <td>NaN</td>\n",
       "      <td>0.0</td>\n",
       "      <td>0.0</td>\n",
       "      <td>170.0</td>\n",
       "      <td>0.0</td>\n",
       "      <td>0.0</td>\n",
       "      <td>0</td>\n",
       "    </tr>\n",
       "    <tr>\n",
       "      <th>3</th>\n",
       "      <td>30</td>\n",
       "      <td>0</td>\n",
       "      <td>1</td>\n",
       "      <td>170.0</td>\n",
       "      <td>237.0</td>\n",
       "      <td>0.0</td>\n",
       "      <td>1.0</td>\n",
       "      <td>170.0</td>\n",
       "      <td>0.0</td>\n",
       "      <td>0.0</td>\n",
       "      <td>0</td>\n",
       "    </tr>\n",
       "    <tr>\n",
       "      <th>4</th>\n",
       "      <td>31</td>\n",
       "      <td>0</td>\n",
       "      <td>2</td>\n",
       "      <td>100.0</td>\n",
       "      <td>219.0</td>\n",
       "      <td>0.0</td>\n",
       "      <td>1.0</td>\n",
       "      <td>150.0</td>\n",
       "      <td>0.0</td>\n",
       "      <td>0.0</td>\n",
       "      <td>0</td>\n",
       "    </tr>\n",
       "  </tbody>\n",
       "</table>\n",
       "</div>"
      ],
      "text/plain": [
       "   age  sex  cp  trestbps   chol  fbs  restecg  thalach  exang  oldpeak  num\n",
       "0   28    1   2     130.0  132.0  0.0      2.0    185.0    0.0      0.0    0\n",
       "1   29    1   2     120.0  243.0  0.0      0.0    160.0    0.0      0.0    0\n",
       "2   29    1   2     140.0    NaN  0.0      0.0    170.0    0.0      0.0    0\n",
       "3   30    0   1     170.0  237.0  0.0      1.0    170.0    0.0      0.0    0\n",
       "4   31    0   2     100.0  219.0  0.0      1.0    150.0    0.0      0.0    0"
      ]
     },
     "execution_count": 23,
     "metadata": {},
     "output_type": "execute_result"
    }
   ],
   "source": [
    "df.head()"
   ]
  },
  {
   "cell_type": "code",
   "execution_count": 24,
   "metadata": {
    "scrolled": true
   },
   "outputs": [
    {
     "name": "stdout",
     "output_type": "stream",
     "text": [
      "<class 'pandas.core.frame.DataFrame'>\n",
      "RangeIndex: 294 entries, 0 to 293\n",
      "Data columns (total 11 columns):\n",
      "age         294 non-null int64\n",
      "sex         294 non-null int64\n",
      "cp          294 non-null int64\n",
      "trestbps    293 non-null float64\n",
      "chol        271 non-null float64\n",
      "fbs         286 non-null float64\n",
      "restecg     293 non-null float64\n",
      "thalach     293 non-null float64\n",
      "exang       293 non-null float64\n",
      "oldpeak     294 non-null float64\n",
      "num         294 non-null int64\n",
      "dtypes: float64(7), int64(4)\n",
      "memory usage: 25.3 KB\n"
     ]
    }
   ],
   "source": [
    "df.info()"
   ]
  },
  {
   "cell_type": "code",
   "execution_count": null,
   "metadata": {},
   "outputs": [],
   "source": []
  },
  {
   "cell_type": "code",
   "execution_count": 25,
   "metadata": {},
   "outputs": [
    {
     "data": {
      "text/plain": [
       "age           int64\n",
       "sex           int64\n",
       "cp            int64\n",
       "trestbps    float64\n",
       "chol        float64\n",
       "fbs         float64\n",
       "restecg     float64\n",
       "thalach     float64\n",
       "exang       float64\n",
       "oldpeak     float64\n",
       "num           int64\n",
       "dtype: object"
      ]
     },
     "execution_count": 25,
     "metadata": {},
     "output_type": "execute_result"
    }
   ],
   "source": [
    "df.dtypes"
   ]
  },
  {
   "cell_type": "code",
   "execution_count": 26,
   "metadata": {},
   "outputs": [
    {
     "data": {
      "text/html": [
       "<div>\n",
       "<style scoped>\n",
       "    .dataframe tbody tr th:only-of-type {\n",
       "        vertical-align: middle;\n",
       "    }\n",
       "\n",
       "    .dataframe tbody tr th {\n",
       "        vertical-align: top;\n",
       "    }\n",
       "\n",
       "    .dataframe thead th {\n",
       "        text-align: right;\n",
       "    }\n",
       "</style>\n",
       "<table border=\"1\" class=\"dataframe\">\n",
       "  <thead>\n",
       "    <tr style=\"text-align: right;\">\n",
       "      <th></th>\n",
       "      <th>age</th>\n",
       "      <th>sex</th>\n",
       "      <th>cp</th>\n",
       "      <th>trestbps</th>\n",
       "      <th>chol</th>\n",
       "      <th>fbs</th>\n",
       "      <th>restecg</th>\n",
       "      <th>thalach</th>\n",
       "      <th>exang</th>\n",
       "      <th>oldpeak</th>\n",
       "      <th>num</th>\n",
       "    </tr>\n",
       "  </thead>\n",
       "  <tbody>\n",
       "    <tr>\n",
       "      <th>0</th>\n",
       "      <td>28</td>\n",
       "      <td>1</td>\n",
       "      <td>2</td>\n",
       "      <td>130.0</td>\n",
       "      <td>132.0</td>\n",
       "      <td>0.0</td>\n",
       "      <td>2.0</td>\n",
       "      <td>185.0</td>\n",
       "      <td>0.0</td>\n",
       "      <td>0.0</td>\n",
       "      <td>0</td>\n",
       "    </tr>\n",
       "    <tr>\n",
       "      <th>1</th>\n",
       "      <td>29</td>\n",
       "      <td>1</td>\n",
       "      <td>2</td>\n",
       "      <td>120.0</td>\n",
       "      <td>243.0</td>\n",
       "      <td>0.0</td>\n",
       "      <td>0.0</td>\n",
       "      <td>160.0</td>\n",
       "      <td>0.0</td>\n",
       "      <td>0.0</td>\n",
       "      <td>0</td>\n",
       "    </tr>\n",
       "    <tr>\n",
       "      <th>2</th>\n",
       "      <td>29</td>\n",
       "      <td>1</td>\n",
       "      <td>2</td>\n",
       "      <td>140.0</td>\n",
       "      <td>NaN</td>\n",
       "      <td>0.0</td>\n",
       "      <td>0.0</td>\n",
       "      <td>170.0</td>\n",
       "      <td>0.0</td>\n",
       "      <td>0.0</td>\n",
       "      <td>0</td>\n",
       "    </tr>\n",
       "    <tr>\n",
       "      <th>3</th>\n",
       "      <td>30</td>\n",
       "      <td>0</td>\n",
       "      <td>1</td>\n",
       "      <td>170.0</td>\n",
       "      <td>237.0</td>\n",
       "      <td>0.0</td>\n",
       "      <td>1.0</td>\n",
       "      <td>170.0</td>\n",
       "      <td>0.0</td>\n",
       "      <td>0.0</td>\n",
       "      <td>0</td>\n",
       "    </tr>\n",
       "    <tr>\n",
       "      <th>4</th>\n",
       "      <td>31</td>\n",
       "      <td>0</td>\n",
       "      <td>2</td>\n",
       "      <td>100.0</td>\n",
       "      <td>219.0</td>\n",
       "      <td>0.0</td>\n",
       "      <td>1.0</td>\n",
       "      <td>150.0</td>\n",
       "      <td>0.0</td>\n",
       "      <td>0.0</td>\n",
       "      <td>0</td>\n",
       "    </tr>\n",
       "  </tbody>\n",
       "</table>\n",
       "</div>"
      ],
      "text/plain": [
       "   age  sex  cp  trestbps   chol  fbs  restecg  thalach  exang  oldpeak  num\n",
       "0   28    1   2     130.0  132.0  0.0      2.0    185.0    0.0      0.0    0\n",
       "1   29    1   2     120.0  243.0  0.0      0.0    160.0    0.0      0.0    0\n",
       "2   29    1   2     140.0    NaN  0.0      0.0    170.0    0.0      0.0    0\n",
       "3   30    0   1     170.0  237.0  0.0      1.0    170.0    0.0      0.0    0\n",
       "4   31    0   2     100.0  219.0  0.0      1.0    150.0    0.0      0.0    0"
      ]
     },
     "execution_count": 26,
     "metadata": {},
     "output_type": "execute_result"
    }
   ],
   "source": [
    "df.head()"
   ]
  },
  {
   "cell_type": "code",
   "execution_count": null,
   "metadata": {},
   "outputs": [],
   "source": []
  },
  {
   "cell_type": "code",
   "execution_count": 27,
   "metadata": {},
   "outputs": [
    {
     "name": "stdout",
     "output_type": "stream",
     "text": [
      "130.0\n",
      "243.0\n",
      "0    0.0\n",
      "dtype: float64\n",
      "0    0.0\n",
      "dtype: float64\n",
      "140.0\n",
      "0    0.0\n",
      "dtype: float64\n"
     ]
    }
   ],
   "source": [
    "\n",
    "print(df.trestbps.median())\n",
    "print(df.chol.median())\n",
    "print(df.fbs.mode())\n",
    "print(df.restecg.mode())\n",
    "print(df.thalach.median())\n",
    "print(df.exang.mode())"
   ]
  },
  {
   "cell_type": "code",
   "execution_count": null,
   "metadata": {},
   "outputs": [],
   "source": []
  },
  {
   "cell_type": "code",
   "execution_count": 28,
   "metadata": {},
   "outputs": [],
   "source": [
    "#Replacing null values\n",
    "\n",
    "df.trestbps.fillna(df.trestbps.median(),inplace=True)\n",
    "df.chol.fillna(df.chol.median(),inplace=True)\n",
    "df.fbs.fillna(0.0,inplace=True)\n",
    "df.restecg.fillna(0.0,inplace=True)\n",
    "df.thalach.fillna(df.thalach.median(),inplace=True)\n",
    "df.exang.fillna(0.0,inplace=True)"
   ]
  },
  {
   "cell_type": "code",
   "execution_count": null,
   "metadata": {},
   "outputs": [],
   "source": []
  },
  {
   "cell_type": "code",
   "execution_count": 29,
   "metadata": {},
   "outputs": [
    {
     "data": {
      "text/plain": [
       "age         0\n",
       "sex         0\n",
       "cp          0\n",
       "trestbps    0\n",
       "chol        0\n",
       "fbs         0\n",
       "restecg     0\n",
       "thalach     0\n",
       "exang       0\n",
       "oldpeak     0\n",
       "num         0\n",
       "dtype: int64"
      ]
     },
     "execution_count": 29,
     "metadata": {},
     "output_type": "execute_result"
    }
   ],
   "source": [
    "df.isnull().sum()"
   ]
  },
  {
   "cell_type": "code",
   "execution_count": 30,
   "metadata": {},
   "outputs": [
    {
     "name": "stdout",
     "output_type": "stream",
     "text": [
      "\n",
      "120.0    65\n",
      "130.0    55\n",
      "140.0    50\n",
      "150.0    23\n",
      "110.0    21\n",
      "160.0    20\n",
      "125.0     8\n",
      "100.0     6\n",
      "180.0     6\n",
      "145.0     5\n",
      "135.0     5\n",
      "170.0     5\n",
      "112.0     3\n",
      "118.0     2\n",
      "122.0     2\n",
      "124.0     2\n",
      "115.0     2\n",
      "105.0     1\n",
      "98.0      1\n",
      "155.0     1\n",
      "190.0     1\n",
      "128.0     1\n",
      "132.0     1\n",
      "108.0     1\n",
      "113.0     1\n",
      "92.0      1\n",
      "106.0     1\n",
      "200.0     1\n",
      "138.0     1\n",
      "136.0     1\n",
      "142.0     1\n",
      "Name: trestbps, dtype: int64 \t trestbps\n",
      "\n",
      "243.0    25\n",
      "246.0     5\n",
      "275.0     5\n",
      "230.0     5\n",
      "216.0     4\n",
      "263.0     4\n",
      "238.0     4\n",
      "260.0     4\n",
      "224.0     4\n",
      "211.0     4\n",
      "215.0     4\n",
      "196.0     4\n",
      "237.0     4\n",
      "207.0     3\n",
      "288.0     3\n",
      "248.0     3\n",
      "182.0     3\n",
      "292.0     3\n",
      "223.0     3\n",
      "193.0     3\n",
      "268.0     3\n",
      "297.0     3\n",
      "213.0     3\n",
      "184.0     3\n",
      "291.0     3\n",
      "160.0     3\n",
      "308.0     3\n",
      "219.0     3\n",
      "198.0     3\n",
      "225.0     3\n",
      "         ..\n",
      "251.0     1\n",
      "468.0     1\n",
      "274.0     1\n",
      "221.0     1\n",
      "312.0     1\n",
      "171.0     1\n",
      "208.0     1\n",
      "393.0     1\n",
      "344.0     1\n",
      "394.0     1\n",
      "256.0     1\n",
      "326.0     1\n",
      "229.0     1\n",
      "85.0      1\n",
      "318.0     1\n",
      "172.0     1\n",
      "156.0     1\n",
      "282.0     1\n",
      "117.0     1\n",
      "466.0     1\n",
      "247.0     1\n",
      "226.0     1\n",
      "206.0     1\n",
      "338.0     1\n",
      "306.0     1\n",
      "392.0     1\n",
      "233.0     1\n",
      "242.0     1\n",
      "255.0     1\n",
      "132.0     1\n",
      "Name: chol, Length: 153, dtype: int64 \t chol\n",
      "\n",
      "0.0    274\n",
      "1.0     20\n",
      "Name: fbs, dtype: int64 \t fbs\n",
      "\n",
      "0.0    236\n",
      "1.0     52\n",
      "2.0      6\n",
      "Name: restecg, dtype: int64 \t restecg\n",
      "\n",
      "150.0    29\n",
      "140.0    22\n",
      "130.0    17\n",
      "170.0    14\n",
      "160.0    13\n",
      "120.0    11\n",
      "110.0     9\n",
      "142.0     8\n",
      "125.0     8\n",
      "155.0     7\n",
      "100.0     7\n",
      "135.0     7\n",
      "138.0     6\n",
      "145.0     6\n",
      "180.0     6\n",
      "115.0     6\n",
      "175.0     6\n",
      "122.0     5\n",
      "118.0     5\n",
      "98.0      4\n",
      "137.0     4\n",
      "134.0     4\n",
      "165.0     4\n",
      "124.0     4\n",
      "116.0     4\n",
      "144.0     3\n",
      "152.0     3\n",
      "168.0     3\n",
      "172.0     3\n",
      "132.0     3\n",
      "         ..\n",
      "128.0     2\n",
      "158.0     2\n",
      "136.0     2\n",
      "154.0     2\n",
      "164.0     2\n",
      "87.0      1\n",
      "190.0     1\n",
      "121.0     1\n",
      "108.0     1\n",
      "82.0      1\n",
      "105.0     1\n",
      "178.0     1\n",
      "143.0     1\n",
      "102.0     1\n",
      "91.0      1\n",
      "90.0      1\n",
      "156.0     1\n",
      "129.0     1\n",
      "103.0     1\n",
      "106.0     1\n",
      "153.0     1\n",
      "167.0     1\n",
      "188.0     1\n",
      "114.0     1\n",
      "162.0     1\n",
      "127.0     1\n",
      "176.0     1\n",
      "139.0     1\n",
      "119.0     1\n",
      "166.0     1\n",
      "Name: thalach, Length: 71, dtype: int64 \t thalach\n",
      "\n",
      "0.0    205\n",
      "1.0     89\n",
      "Name: exang, dtype: int64 \t exang\n"
     ]
    }
   ],
   "source": [
    "col=['trestbps','chol','fbs','restecg','thalach','exang']  \n",
    "for  columns in col:\n",
    "        print(\"\\n{} \\t {}\".format(df[columns].value_counts(),columns))"
   ]
  },
  {
   "cell_type": "code",
   "execution_count": null,
   "metadata": {},
   "outputs": [],
   "source": []
  },
  {
   "cell_type": "code",
   "execution_count": null,
   "metadata": {},
   "outputs": [],
   "source": []
  },
  {
   "cell_type": "code",
   "execution_count": 31,
   "metadata": {},
   "outputs": [
    {
     "data": {
      "text/plain": [
       "Text(0.5,1,'Number of Heart Disease Cases by Gender')"
      ]
     },
     "execution_count": 31,
     "metadata": {},
     "output_type": "execute_result"
    },
    {
     "data": {
      "image/png": "[encoded data removed]",
      "text/plain": [
       "<Figure size 576x432 with 1 Axes>"
      ]
     },
     "metadata": {},
     "output_type": "display_data"
    }
   ],
   "source": [
    "# Visualize the number of disease cases by sex (male =1 and female =0)\n",
    "sns.set_style('whitegrid')\n",
    "plt.figure(figsize=(8,6))\n",
    "sns.countplot(x='num', data=df,hue='sex')\n",
    "plt.title('Number of Heart Disease Cases by Gender',fontsize=16)"
   ]
  },
  {
   "cell_type": "code",
   "execution_count": 32,
   "metadata": {},
   "outputs": [
    {
     "name": "stdout",
     "output_type": "stream",
     "text": [
      "The min age for men diagnosed with heart disease is: 31 years\n",
      "The max age for men diagnosed with heart disease is: 66 years\n",
      "The average age for men diagnosed with heart disease is: 49.5 years\n",
      "\n",
      "The min age for wonmen diagnosed with heart disease is: 33 years\n",
      "The max age for women diagnosed with heart disease is: 59 years\n",
      "The average age for women diagnosed with heart disease is: 49.333333333333336 years\n"
     ]
    }
   ],
   "source": [
    "\n",
    "print('The min age for men diagnosed with heart disease is: %s years'%df[(df['num']==1) & (df['sex']==1)]['age'].min())\n",
    "print('The max age for men diagnosed with heart disease is: %s years'%df[(df['num']==1) & (df['sex']==1)]['age'].max())\n",
    "print('The average age for men diagnosed with heart disease is: %s years'%df[(df['num']==1) & (df['sex']==1)]['age'].mean())\n",
    "\n",
    "\n",
    "\n",
    "print( '\\nThe min age for wonmen diagnosed with heart disease is: %s years'%df[(df['num']==1) & (df['sex']==0)]['age'].min())\n",
    "print( 'The max age for women diagnosed with heart disease is: %s years'%df[(df['num']==1) & (df['sex']==0)]['age'].max())\n",
    "print( 'The average age for women diagnosed with heart disease is: %s years'%df[(df['num']==1) & (df['sex']==0)]['age'].mean())"
   ]
  },
  {
   "cell_type": "code",
   "execution_count": 33,
   "metadata": {},
   "outputs": [],
   "source": [
    "###  we can see that men has higher probability of heart disease compared to females"
   ]
  },
  {
   "cell_type": "code",
   "execution_count": 34,
   "metadata": {
    "scrolled": true
   },
   "outputs": [
    {
     "data": {
      "text/html": [
       "<div>\n",
       "<style scoped>\n",
       "    .dataframe tbody tr th:only-of-type {\n",
       "        vertical-align: middle;\n",
       "    }\n",
       "\n",
       "    .dataframe tbody tr th {\n",
       "        vertical-align: top;\n",
       "    }\n",
       "\n",
       "    .dataframe thead th {\n",
       "        text-align: right;\n",
       "    }\n",
       "</style>\n",
       "<table border=\"1\" class=\"dataframe\">\n",
       "  <thead>\n",
       "    <tr style=\"text-align: right;\">\n",
       "      <th></th>\n",
       "      <th>age</th>\n",
       "      <th>sex</th>\n",
       "      <th>cp</th>\n",
       "      <th>trestbps</th>\n",
       "      <th>chol</th>\n",
       "      <th>fbs</th>\n",
       "      <th>restecg</th>\n",
       "      <th>thalach</th>\n",
       "      <th>exang</th>\n",
       "      <th>oldpeak</th>\n",
       "      <th>num</th>\n",
       "    </tr>\n",
       "  </thead>\n",
       "  <tbody>\n",
       "    <tr>\n",
       "      <th>0</th>\n",
       "      <td>28</td>\n",
       "      <td>1</td>\n",
       "      <td>2</td>\n",
       "      <td>130.0</td>\n",
       "      <td>132.0</td>\n",
       "      <td>0.0</td>\n",
       "      <td>2.0</td>\n",
       "      <td>185.0</td>\n",
       "      <td>0.0</td>\n",
       "      <td>0.0</td>\n",
       "      <td>0</td>\n",
       "    </tr>\n",
       "    <tr>\n",
       "      <th>1</th>\n",
       "      <td>29</td>\n",
       "      <td>1</td>\n",
       "      <td>2</td>\n",
       "      <td>120.0</td>\n",
       "      <td>243.0</td>\n",
       "      <td>0.0</td>\n",
       "      <td>0.0</td>\n",
       "      <td>160.0</td>\n",
       "      <td>0.0</td>\n",
       "      <td>0.0</td>\n",
       "      <td>0</td>\n",
       "    </tr>\n",
       "    <tr>\n",
       "      <th>2</th>\n",
       "      <td>29</td>\n",
       "      <td>1</td>\n",
       "      <td>2</td>\n",
       "      <td>140.0</td>\n",
       "      <td>243.0</td>\n",
       "      <td>0.0</td>\n",
       "      <td>0.0</td>\n",
       "      <td>170.0</td>\n",
       "      <td>0.0</td>\n",
       "      <td>0.0</td>\n",
       "      <td>0</td>\n",
       "    </tr>\n",
       "    <tr>\n",
       "      <th>3</th>\n",
       "      <td>30</td>\n",
       "      <td>0</td>\n",
       "      <td>1</td>\n",
       "      <td>170.0</td>\n",
       "      <td>237.0</td>\n",
       "      <td>0.0</td>\n",
       "      <td>1.0</td>\n",
       "      <td>170.0</td>\n",
       "      <td>0.0</td>\n",
       "      <td>0.0</td>\n",
       "      <td>0</td>\n",
       "    </tr>\n",
       "    <tr>\n",
       "      <th>4</th>\n",
       "      <td>31</td>\n",
       "      <td>0</td>\n",
       "      <td>2</td>\n",
       "      <td>100.0</td>\n",
       "      <td>219.0</td>\n",
       "      <td>0.0</td>\n",
       "      <td>1.0</td>\n",
       "      <td>150.0</td>\n",
       "      <td>0.0</td>\n",
       "      <td>0.0</td>\n",
       "      <td>0</td>\n",
       "    </tr>\n",
       "  </tbody>\n",
       "</table>\n",
       "</div>"
      ],
      "text/plain": [
       "   age  sex  cp  trestbps   chol  fbs  restecg  thalach  exang  oldpeak  num\n",
       "0   28    1   2     130.0  132.0  0.0      2.0    185.0    0.0      0.0    0\n",
       "1   29    1   2     120.0  243.0  0.0      0.0    160.0    0.0      0.0    0\n",
       "2   29    1   2     140.0  243.0  0.0      0.0    170.0    0.0      0.0    0\n",
       "3   30    0   1     170.0  237.0  0.0      1.0    170.0    0.0      0.0    0\n",
       "4   31    0   2     100.0  219.0  0.0      1.0    150.0    0.0      0.0    0"
      ]
     },
     "execution_count": 34,
     "metadata": {},
     "output_type": "execute_result"
    }
   ],
   "source": [
    "df.head()"
   ]
  },
  {
   "cell_type": "code",
   "execution_count": 35,
   "metadata": {},
   "outputs": [
    {
     "data": {
      "text/html": [
       "<div>\n",
       "<style scoped>\n",
       "    .dataframe tbody tr th:only-of-type {\n",
       "        vertical-align: middle;\n",
       "    }\n",
       "\n",
       "    .dataframe tbody tr th {\n",
       "        vertical-align: top;\n",
       "    }\n",
       "\n",
       "    .dataframe thead th {\n",
       "        text-align: right;\n",
       "    }\n",
       "</style>\n",
       "<table border=\"1\" class=\"dataframe\">\n",
       "  <thead>\n",
       "    <tr style=\"text-align: right;\">\n",
       "      <th></th>\n",
       "      <th>age</th>\n",
       "      <th>sex</th>\n",
       "      <th>cp</th>\n",
       "      <th>trestbps</th>\n",
       "      <th>chol</th>\n",
       "      <th>fbs</th>\n",
       "      <th>restecg</th>\n",
       "      <th>thalach</th>\n",
       "      <th>exang</th>\n",
       "      <th>oldpeak</th>\n",
       "      <th>num</th>\n",
       "    </tr>\n",
       "  </thead>\n",
       "  <tbody>\n",
       "    <tr>\n",
       "      <th>0</th>\n",
       "      <td>28</td>\n",
       "      <td>1</td>\n",
       "      <td>2</td>\n",
       "      <td>130.0</td>\n",
       "      <td>132.0</td>\n",
       "      <td>0.0</td>\n",
       "      <td>2.0</td>\n",
       "      <td>185.0</td>\n",
       "      <td>0.0</td>\n",
       "      <td>0.0</td>\n",
       "      <td>0</td>\n",
       "    </tr>\n",
       "    <tr>\n",
       "      <th>1</th>\n",
       "      <td>29</td>\n",
       "      <td>1</td>\n",
       "      <td>2</td>\n",
       "      <td>120.0</td>\n",
       "      <td>243.0</td>\n",
       "      <td>0.0</td>\n",
       "      <td>0.0</td>\n",
       "      <td>160.0</td>\n",
       "      <td>0.0</td>\n",
       "      <td>0.0</td>\n",
       "      <td>0</td>\n",
       "    </tr>\n",
       "    <tr>\n",
       "      <th>2</th>\n",
       "      <td>29</td>\n",
       "      <td>1</td>\n",
       "      <td>2</td>\n",
       "      <td>140.0</td>\n",
       "      <td>243.0</td>\n",
       "      <td>0.0</td>\n",
       "      <td>0.0</td>\n",
       "      <td>170.0</td>\n",
       "      <td>0.0</td>\n",
       "      <td>0.0</td>\n",
       "      <td>0</td>\n",
       "    </tr>\n",
       "    <tr>\n",
       "      <th>3</th>\n",
       "      <td>30</td>\n",
       "      <td>0</td>\n",
       "      <td>1</td>\n",
       "      <td>170.0</td>\n",
       "      <td>237.0</td>\n",
       "      <td>0.0</td>\n",
       "      <td>1.0</td>\n",
       "      <td>170.0</td>\n",
       "      <td>0.0</td>\n",
       "      <td>0.0</td>\n",
       "      <td>0</td>\n",
       "    </tr>\n",
       "    <tr>\n",
       "      <th>4</th>\n",
       "      <td>31</td>\n",
       "      <td>0</td>\n",
       "      <td>2</td>\n",
       "      <td>100.0</td>\n",
       "      <td>219.0</td>\n",
       "      <td>0.0</td>\n",
       "      <td>1.0</td>\n",
       "      <td>150.0</td>\n",
       "      <td>0.0</td>\n",
       "      <td>0.0</td>\n",
       "      <td>0</td>\n",
       "    </tr>\n",
       "  </tbody>\n",
       "</table>\n",
       "</div>"
      ],
      "text/plain": [
       "   age  sex  cp  trestbps   chol  fbs  restecg  thalach  exang  oldpeak  num\n",
       "0   28    1   2     130.0  132.0  0.0      2.0    185.0    0.0      0.0    0\n",
       "1   29    1   2     120.0  243.0  0.0      0.0    160.0    0.0      0.0    0\n",
       "2   29    1   2     140.0  243.0  0.0      0.0    170.0    0.0      0.0    0\n",
       "3   30    0   1     170.0  237.0  0.0      1.0    170.0    0.0      0.0    0\n",
       "4   31    0   2     100.0  219.0  0.0      1.0    150.0    0.0      0.0    0"
      ]
     },
     "execution_count": 35,
     "metadata": {},
     "output_type": "execute_result"
    }
   ],
   "source": [
    "df=pd.get_dummies(df)\n",
    "df.head()\n"
   ]
  },
  {
   "cell_type": "code",
   "execution_count": 36,
   "metadata": {},
   "outputs": [
    {
     "data": {
      "text/plain": [
       "(294, 11)"
      ]
     },
     "execution_count": 36,
     "metadata": {},
     "output_type": "execute_result"
    }
   ],
   "source": [
    "df.shape"
   ]
  },
  {
   "cell_type": "code",
   "execution_count": 37,
   "metadata": {},
   "outputs": [
    {
     "data": {
      "text/plain": [
       "((143, 10), (143,), (89, 10), (89,))"
      ]
     },
     "execution_count": 37,
     "metadata": {},
     "output_type": "execute_result"
    }
   ],
   "source": [
    "\n",
    "\n",
    "# Perform scaling to standardize the values\n",
    "from sklearn.preprocessing import StandardScaler\n",
    "sc=StandardScaler()\n",
    "dfs=sc.fit_transform(df.drop(columns='num'))\n",
    "x= dfs\n",
    "\n",
    "y= df['num']\n",
    "\n",
    "x_temp, x_test, y_temp, y_test = train_test_split(x,y, test_size=0.3, random_state=5)                  # spliting it into train and test\n",
    "x_train, x_val, y_train, y_val = train_test_split(x_temp,y_temp, test_size=0.3, random_state=5)\n",
    "\n",
    "x_train.shape, y_train.shape, x_test.shape, y_test.shape"
   ]
  },
  {
   "cell_type": "code",
   "execution_count": null,
   "metadata": {},
   "outputs": [],
   "source": []
  },
  {
   "cell_type": "code",
   "execution_count": 38,
   "metadata": {},
   "outputs": [
    {
     "data": {
      "text/plain": [
       "LogisticRegression(C=1.0, class_weight=None, dual=False, fit_intercept=True,\n",
       "          intercept_scaling=1, max_iter=100, multi_class='warn',\n",
       "          n_jobs=None, penalty='l2', random_state=None, solver='warn',\n",
       "          tol=0.0001, verbose=0, warm_start=False)"
      ]
     },
     "execution_count": 38,
     "metadata": {},
     "output_type": "execute_result"
    }
   ],
   "source": [
    "# train a logistic regression model on the training set\n",
    "from sklearn.linear_model import LogisticRegression\n",
    "logreg = LogisticRegression()\n",
    "logreg.fit(x_train, y_train)"
   ]
  },
  {
   "cell_type": "code",
   "execution_count": 39,
   "metadata": {},
   "outputs": [],
   "source": [
    "ypred1=logreg.predict(x_val)"
   ]
  },
  {
   "cell_type": "code",
   "execution_count": 40,
   "metadata": {},
   "outputs": [
    {
     "data": {
      "text/plain": [
       "0.8531468531468531"
      ]
     },
     "execution_count": 40,
     "metadata": {},
     "output_type": "execute_result"
    }
   ],
   "source": [
    "logreg.score(x_train, y_train)"
   ]
  },
  {
   "cell_type": "code",
   "execution_count": 41,
   "metadata": {},
   "outputs": [
    {
     "data": {
      "text/plain": [
       "0.8225806451612904"
      ]
     },
     "execution_count": 41,
     "metadata": {},
     "output_type": "execute_result"
    }
   ],
   "source": [
    "logreg.score(x_val, y_val)"
   ]
  },
  {
   "cell_type": "code",
   "execution_count": 42,
   "metadata": {
    "scrolled": true
   },
   "outputs": [],
   "source": [
    "### There is drop in accuracy in test when compared with train"
   ]
  },
  {
   "cell_type": "code",
   "execution_count": 43,
   "metadata": {},
   "outputs": [
    {
     "name": "stdout",
     "output_type": "stream",
     "text": [
      "              precision    recall  f1-score   support\n",
      "\n",
      "           0       0.78      0.97      0.87        37\n",
      "           1       0.94      0.60      0.73        25\n",
      "\n",
      "   micro avg       0.82      0.82      0.82        62\n",
      "   macro avg       0.86      0.79      0.80        62\n",
      "weighted avg       0.85      0.82      0.81        62\n",
      "\n"
     ]
    }
   ],
   "source": [
    "print(metrics.classification_report(y_val,ypred1))"
   ]
  },
  {
   "cell_type": "code",
   "execution_count": 44,
   "metadata": {},
   "outputs": [
    {
     "name": "stdout",
     "output_type": "stream",
     "text": [
      "Logistic Regression:\n",
      "Train 0.8531468531468531\n",
      "Valid 0.8225806451612904\n",
      "Test 0.8539325842696629\n",
      "\n",
      "\n",
      "\n",
      "Decision Tree:\n",
      "Train 1.0\n",
      "Valid 0.5967741935483871\n",
      "Test 0.7078651685393258\n",
      "\n",
      "\n",
      "\n",
      "Random Forest:\n",
      "Train 0.9790209790209791\n",
      "Valid 0.7580645161290323\n",
      "Test 0.7528089887640449\n",
      "\n",
      "\n",
      "\n"
     ]
    }
   ],
   "source": [
    "logreg = LogisticRegression()\n",
    "logreg.fit(x_train, y_train)\n",
    "\n",
    "dt = DecisionTreeClassifier(random_state=1)\n",
    "dt.fit(x_train,y_train)\n",
    "\n",
    "rf = RandomForestClassifier(random_state=1)\n",
    "rf.fit(x_train,y_train)\n",
    "\n",
    "\n",
    "\n",
    "print('Logistic Regression:')\n",
    "print('Train',logreg.score(x_train,y_train))\n",
    "print('Valid',logreg.score(x_val,y_val))\n",
    "print('Test',logreg.score(x_test,y_test))\n",
    "print('\\n\\n')\n",
    "\n",
    "print('Decision Tree:')\n",
    "print('Train',dt.score(x_train,y_train))\n",
    "print('Valid',dt.score(x_val,y_val))\n",
    "print('Test',dt.score(x_test,y_test))\n",
    "print('\\n\\n')\n",
    "\n",
    "print('Random Forest:')\n",
    "print('Train',rf.score(x_train,y_train))\n",
    "print('Valid',rf.score(x_val,y_val))\n",
    "print('Test',rf.score(x_test,y_test))\n",
    "print('\\n\\n')\n",
    "\n"
   ]
  },
  {
   "cell_type": "code",
   "execution_count": null,
   "metadata": {},
   "outputs": [],
   "source": []
  },
  {
   "cell_type": "code",
   "execution_count": null,
   "metadata": {},
   "outputs": [],
   "source": []
  },
  {
   "cell_type": "code",
   "execution_count": 45,
   "metadata": {},
   "outputs": [],
   "source": [
    "sm=SMOTE(k_neighbors=5,random_state=1)      # used for Oversampling\n",
    "x_os,y_os=sm.fit_sample(x,y)\n",
    "x=x_os\n",
    "y=y_os\n",
    "x_temp,x_test,y_temp,y_test = train_test_split(x,y,test_size=0.3,random_state=1)\n",
    "x_train,x_val,y_train,y_val = train_test_split(x_temp,y_temp,test_size=0.3,random_state=1)"
   ]
  },
  {
   "cell_type": "code",
   "execution_count": 46,
   "metadata": {},
   "outputs": [
    {
     "data": {
      "text/plain": [
       "RandomForestClassifier(bootstrap=True, class_weight=None, criterion='gini',\n",
       "            max_depth=None, max_features='auto', max_leaf_nodes=None,\n",
       "            min_impurity_decrease=0.0, min_impurity_split=None,\n",
       "            min_samples_leaf=1, min_samples_split=2,\n",
       "            min_weight_fraction_leaf=0.0, n_estimators=10, n_jobs=None,\n",
       "            oob_score=False, random_state=1, verbose=0, warm_start=False)"
      ]
     },
     "execution_count": 46,
     "metadata": {},
     "output_type": "execute_result"
    }
   ],
   "source": [
    "logreg = LogisticRegression()\n",
    "logreg.fit(x_train, y_train)\n",
    "\n",
    "dt = DecisionTreeClassifier(random_state=1)\n",
    "dt.fit(x_train,y_train)\n",
    "\n",
    "rf = RandomForestClassifier(random_state=1)\n",
    "rf.fit(x_train,y_train)\n",
    "\n",
    "\n",
    "\n"
   ]
  },
  {
   "cell_type": "code",
   "execution_count": 47,
   "metadata": {},
   "outputs": [
    {
     "data": {
      "text/plain": [
       "0.8097826086956522"
      ]
     },
     "execution_count": 47,
     "metadata": {},
     "output_type": "execute_result"
    }
   ],
   "source": [
    "bc = BaggingClassifier(oob_score=True,random_state=1)\n",
    "bc.fit(x_train,y_train)\n",
    "bc.oob_score_\n"
   ]
  },
  {
   "cell_type": "code",
   "execution_count": 48,
   "metadata": {},
   "outputs": [
    {
     "data": {
      "text/plain": [
       "0.7848101265822784"
      ]
     },
     "execution_count": 48,
     "metadata": {},
     "output_type": "execute_result"
    }
   ],
   "source": [
    "from sklearn.ensemble import AdaBoostClassifier\n",
    "\n",
    "abcl = AdaBoostClassifier(n_estimators=50)\n",
    "abcl = abcl.fit(x_train,y_train)\n",
    "\n",
    "\n",
    "test_pred = abcl.predict(x_val)\n",
    "abcl.score(x_val,y_val)\n"
   ]
  },
  {
   "cell_type": "code",
   "execution_count": 49,
   "metadata": {},
   "outputs": [
    {
     "data": {
      "text/plain": [
       "0.8354430379746836"
      ]
     },
     "execution_count": 49,
     "metadata": {},
     "output_type": "execute_result"
    }
   ],
   "source": [
    "gb = GradientBoostingClassifier(max_depth=5)\n",
    "gb.fit(x_train,y_train)\n",
    "gb.score(x_val,y_val)"
   ]
  },
  {
   "cell_type": "code",
   "execution_count": 50,
   "metadata": {},
   "outputs": [
    {
     "name": "stdout",
     "output_type": "stream",
     "text": [
      "Logistic Regression:\n",
      "Train 0.8532608695652174\n",
      "Valid 0.8354430379746836\n",
      "Test 0.7522123893805309\n",
      "\n",
      "\n",
      "\n",
      "Decision Tree:\n",
      "Train 1.0\n",
      "Valid 0.7721518987341772\n",
      "Test 0.7079646017699115\n",
      "\n",
      "\n",
      "\n",
      "Random Forest:\n",
      "Train 0.9945652173913043\n",
      "Valid 0.8481012658227848\n",
      "Test 0.6991150442477876\n",
      "\n",
      "\n",
      "\n",
      "Gradient Descent:\n",
      "Train 1.0\n",
      "Valid 0.8354430379746836\n",
      "Test 0.7787610619469026\n",
      "\n",
      "\n",
      "\n"
     ]
    }
   ],
   "source": [
    "print('Logistic Regression:')\n",
    "print('Train',logreg.score(x_train,y_train))\n",
    "print('Valid',logreg.score(x_val,y_val))\n",
    "print('Test',logreg.score(x_test,y_test))\n",
    "print('\\n\\n')\n",
    "\n",
    "print('Decision Tree:')\n",
    "print('Train',dt.score(x_train,y_train))\n",
    "print('Valid',dt.score(x_val,y_val))\n",
    "print('Test',dt.score(x_test,y_test))\n",
    "print('\\n\\n')\n",
    "\n",
    "print('Random Forest:')\n",
    "print('Train',rf.score(x_train,y_train))\n",
    "print('Valid',rf.score(x_val,y_val))\n",
    "print('Test',rf.score(x_test,y_test))\n",
    "print('\\n\\n')\n",
    "\n",
    "print('Gradient Descent:')\n",
    "print('Train',gb.score(x_train,y_train))\n",
    "print('Valid',gb.score(x_val,y_val))\n",
    "print('Test',gb.score(x_test,y_test))\n",
    "print('\\n\\n')\n"
   ]
  },
  {
   "cell_type": "code",
   "execution_count": 51,
   "metadata": {},
   "outputs": [
    {
     "name": "stdout",
     "output_type": "stream",
     "text": [
      "{'bootstrap': False, 'criterion': 'entropy', 'max_depth': 8, 'min_samples_leaf': 2, 'min_samples_split': 8, 'n_estimators': 50, 'random_state': 42}\n"
     ]
    }
   ],
   "source": [
    "from sklearn.model_selection import RandomizedSearchCV\n",
    "from scipy.stats import randint as sp_randint\n",
    "from imblearn.ensemble import BalancedRandomForestClassifier\n",
    "\n",
    "clf = BalancedRandomForestClassifier(n_estimators=50)\n",
    "\n",
    "param_dist = {\"max_depth\": range(1,20),\n",
    "              \"min_samples_split\": sp_randint(2, 11),\n",
    "              \"min_samples_leaf\": sp_randint(1, 11),\n",
    "              \"bootstrap\": [True, False],\n",
    "              'n_estimators': range(1,100),\n",
    "              'random_state':range(1,100),\n",
    "              \"criterion\": [\"gini\", \"entropy\"]}\n",
    "\n",
    "samples = 10  # number of random samples \n",
    "randomCV = RandomizedSearchCV(clf, param_distributions=param_dist, n_iter=samples) \n",
    "\n",
    "randomCV.fit(x_train, y_train)\n",
    "\n",
    "print(randomCV.best_params_)"
   ]
  },
  {
   "cell_type": "code",
   "execution_count": 52,
   "metadata": {},
   "outputs": [
    {
     "name": "stdout",
     "output_type": "stream",
     "text": [
      "0.8690715552927262\n",
      "0.7729285262492094\n"
     ]
    },
    {
     "data": {
      "text/plain": [
       "array([0.02567822, 0.00924916, 0.33741102, 0.04343932, 0.03950203,\n",
       "       0.        , 0.0004226 , 0.13744276, 0.23475737, 0.17209754])"
      ]
     },
     "execution_count": 52,
     "metadata": {},
     "output_type": "execute_result"
    }
   ],
   "source": [
    "from imblearn.ensemble import BalancedRandomForestClassifier\n",
    "from sklearn.metrics import balanced_accuracy_score\n",
    "brf = BalancedRandomForestClassifier(bootstrap=True,n_estimators=69, random_state=78,criterion='gini', max_depth=17, min_samples_leaf= 10, min_samples_split = 4)\n",
    "brf.fit(x_train, y_train) \n",
    "y_trainpred=brf.predict(x_train)\n",
    "y_pred = brf.predict(x_test)\n",
    "print(balanced_accuracy_score(y_train,y_trainpred)  )\n",
    "print(balanced_accuracy_score(y_test, y_pred)  )\n",
    "\n",
    "brf.feature_importances_  "
   ]
  },
  {
   "cell_type": "code",
   "execution_count": null,
   "metadata": {},
   "outputs": [],
   "source": []
  },
  {
   "cell_type": "code",
   "execution_count": 53,
   "metadata": {},
   "outputs": [
    {
     "data": {
      "image/png": "[encoded data removed]",
      "text/plain": [
       "<Figure size 432x288 with 1 Axes>"
      ]
     },
     "metadata": {},
     "output_type": "display_data"
    }
   ],
   "source": [
    "\n",
    "y_pred_class = logreg.predict(x_test)\n",
    "y_pred_prob = logreg.predict_proba(x_test)[:, 1]\n",
    "import matplotlib.pyplot as plt\n",
    "fpr, tpr, thresholds = metrics.roc_curve(y_test, y_pred_prob)\n",
    "plt.plot(fpr, tpr)\n",
    "plt.xlim([0.0, 1.0])\n",
    "plt.ylim([0.0, 1.0])\n",
    "plt.title('ROC curve for diabetes classifier')\n",
    "plt.xlabel('False Positive Rate (1 - Specificity)')\n",
    "plt.ylabel('True Positive Rate (Sensitivity)')\n",
    "plt.grid(True)"
   ]
  },
  {
   "cell_type": "code",
   "execution_count": 54,
   "metadata": {},
   "outputs": [],
   "source": [
    "data=pd.concat([pd.DataFrame(x),pd.DataFrame(y)],axis=1)"
   ]
  },
  {
   "cell_type": "code",
   "execution_count": 55,
   "metadata": {},
   "outputs": [
    {
     "name": "stdout",
     "output_type": "stream",
     "text": [
      "{'max_depth': 8}\n"
     ]
    }
   ],
   "source": [
    "clf = RandomForestClassifier(n_estimators=50)\n",
    "\n",
    "param_dist = {\"max_depth\": range(1,20)}\n",
    "\n",
    "samples = 100  # number of random samples \n",
    "randomCV = RandomizedSearchCV(clf, param_distributions=param_dist, n_iter=samples) \n",
    "randomCV.fit(x_train, y_train)\n",
    "print(randomCV.best_params_)"
   ]
  },
  {
   "cell_type": "code",
   "execution_count": 60,
   "metadata": {},
   "outputs": [
    {
     "name": "stdout",
     "output_type": "stream",
     "text": [
      "0.8296296296296296\n",
      "0.837037037037037\n",
      "0.8040540540540541\n",
      "0.8613138686131386\n",
      "0.8740740740740741\n",
      "0.8257575757575758\n",
      "0.8636363636363636\n",
      "0.8102189781021898\n",
      "0.7730496453900709\n",
      "0.7987012987012987\n",
      "0.8231292517006803\n",
      "0.828125\n",
      "0.8137931034482758\n",
      "0.8357142857142857\n",
      "0.8203125\n",
      "0.8396946564885496\n",
      "0.8449612403100775\n",
      "0.8441558441558441\n",
      "0.8527131782945736\n",
      "0.8513513513513513\n",
      "0.8561151079136691\n",
      "0.84251968503937\n",
      "0.7862595419847328\n",
      "0.8062015503875969\n",
      "0.8698630136986302\n",
      "0.8428571428571429\n",
      "0.8435374149659864\n",
      "0.8333333333333334\n",
      "0.8156028368794326\n",
      "0.8283582089552238\n",
      "0.795774647887324\n",
      "0.8285714285714286\n",
      "0.8345323741007195\n",
      "0.7571428571428571\n",
      "0.8\n",
      "0.8285714285714286\n",
      "0.8333333333333334\n",
      "0.8345323741007195\n",
      "0.8251748251748252\n",
      "0.7709923664122137\n",
      "0.8235294117647058\n",
      "0.8478260869565217\n",
      "0.8333333333333334\n",
      "0.8014705882352942\n",
      "0.8251748251748252\n",
      "0.851063829787234\n",
      "0.8380281690140845\n",
      "0.8489208633093526\n",
      "0.8450704225352113\n",
      "0.816793893129771\n",
      "0.8428571428571429\n",
      "0.7846153846153846\n",
      "0.8518518518518519\n",
      "0.8391608391608392\n",
      "0.7755102040816326\n",
      "0.8074074074074075\n",
      "0.8321167883211679\n",
      "0.8740740740740741\n",
      "0.7716535433070866\n",
      "0.7872340425531915\n",
      "0.8714285714285714\n",
      "0.821917808219178\n",
      "0.8137931034482758\n",
      "0.7841726618705036\n",
      "0.8257575757575758\n",
      "0.7941176470588235\n",
      "0.8299319727891157\n",
      "0.8322147651006712\n",
      "0.8248175182481752\n",
      "0.8222222222222222\n",
      "0.8275862068965517\n",
      "0.8455882352941176\n",
      "0.824\n",
      "0.8287671232876712\n",
      "0.7943262411347518\n",
      "0.7913669064748201\n",
      "0.813953488372093\n",
      "0.8120300751879699\n",
      "0.875\n",
      "0.7857142857142857\n",
      "0.8394160583941606\n",
      "0.7588652482269503\n",
      "0.8243243243243243\n",
      "0.8222222222222222\n",
      "0.8201438848920863\n",
      "0.7720588235294118\n",
      "0.8518518518518519\n",
      "0.8299319727891157\n",
      "0.7954545454545454\n",
      "0.7847222222222222\n",
      "0.8188405797101449\n",
      "0.8085106382978723\n",
      "0.8296296296296296\n",
      "0.8489208633093526\n",
      "0.8181818181818182\n",
      "0.875\n",
      "0.8285714285714286\n",
      "0.8473282442748091\n",
      "0.7835820895522388\n",
      "0.7945205479452054\n"
     ]
    }
   ],
   "source": [
    "data=np.asarray(data,dtype='float64')\n",
    "\n",
    "from sklearn.utils import resample\n",
    "import numpy as np\n",
    "\n",
    "values = data\n",
    "n_iterations = 100              \n",
    "n_size = int(len(values) *  1)   \n",
    "stats = list()\n",
    "\n",
    "for i in range(n_iterations):\n",
    "\n",
    "    train = resample(values, n_samples=n_size) \n",
    "    test = np.array([x for x in values if x.tolist() not in train.tolist()])\n",
    "    model = RandomForestClassifier(max_depth=8)\n",
    "    model.fit(train[:,:-1], train[:,-1])\n",
    "    score = model.score(test[:,:-1], test[:,-1])  \n",
    "    print(score)\n",
    "    stats.append(score)"
   ]
  },
  {
   "cell_type": "code",
   "execution_count": 61,
   "metadata": {},
   "outputs": [
    {
     "data": {
      "image/png": "[encoded data removed]",
      "text/plain": [
       "<Figure size 432x288 with 1 Axes>"
      ]
     },
     "metadata": {},
     "output_type": "display_data"
    },
    {
     "name": "stdout",
     "output_type": "stream",
     "text": [
      "95.0 confidence interval 77.1% and 87.4%\n"
     ]
    }
   ],
   "source": [
    "from matplotlib import pyplot\n",
    "\n",
    "# plot scores\n",
    "pyplot.hist(stats)\n",
    "pyplot.show()\n",
    "# confidence intervals\n",
    "alpha = 0.95                             # for 95% confidence \n",
    "p = ((1.0-alpha)/2.0) * 100              # tail regions on right and left .25 on each side indicated by P value (border)\n",
    "lower = max(0.0, np.percentile(stats, p))  \n",
    "p = (alpha+((1.0-alpha)/2.0)) * 100\n",
    "upper = min(1.0, np.percentile(stats, p))\n",
    "print('%.1f confidence interval %.1f%% and %.1f%%' % (alpha*100, lower*100, upper*100))"
   ]
  },
  {
   "cell_type": "code",
   "execution_count": null,
   "metadata": {},
   "outputs": [],
   "source": []
  },
  {
   "cell_type": "code",
   "execution_count": 58,
   "metadata": {},
   "outputs": [
    {
     "name": "stdout",
     "output_type": "stream",
     "text": [
      "0.8125\n",
      "0.8085106382978723\n",
      "0.8285714285714286\n",
      "0.8307692307692308\n",
      "0.7692307692307693\n",
      "0.8561151079136691\n",
      "0.8321167883211679\n",
      "0.7571428571428571\n",
      "0.8321167883211679\n",
      "0.8074074074074075\n",
      "0.8321167883211679\n",
      "0.8111888111888111\n",
      "0.8518518518518519\n",
      "0.7482517482517482\n",
      "0.8231292517006803\n",
      "0.7956204379562044\n",
      "0.7786259541984732\n",
      "0.7952755905511811\n",
      "0.7943262411347518\n",
      "0.8169014084507042\n",
      "0.816793893129771\n",
      "0.8211382113821138\n",
      "0.7559055118110236\n",
      "0.7943262411347518\n",
      "0.7986111111111112\n",
      "0.8015873015873016\n",
      "0.8321167883211679\n",
      "0.8175182481751825\n",
      "0.7536231884057971\n",
      "0.7152777777777778\n",
      "0.796875\n",
      "0.8333333333333334\n",
      "0.8602941176470589\n",
      "0.8175182481751825\n",
      "0.7928571428571428\n",
      "0.8\n",
      "0.8321678321678322\n",
      "0.7769230769230769\n",
      "0.7692307692307693\n",
      "0.8206896551724138\n",
      "0.8461538461538461\n",
      "0.8695652173913043\n",
      "0.8410596026490066\n",
      "0.7985074626865671\n",
      "0.8013698630136986\n",
      "0.8201438848920863\n",
      "0.8057553956834532\n",
      "0.8549618320610687\n",
      "0.7872340425531915\n",
      "0.7793103448275862\n",
      "0.8248175182481752\n",
      "0.8085106382978723\n",
      "0.7847222222222222\n",
      "0.8285714285714286\n",
      "0.8493150684931506\n",
      "0.7887323943661971\n",
      "0.722972972972973\n",
      "0.7841726618705036\n",
      "0.8297872340425532\n",
      "0.7761194029850746\n",
      "0.8187919463087249\n",
      "0.7777777777777778\n",
      "0.78125\n",
      "0.8214285714285714\n",
      "0.7692307692307693\n",
      "0.7633587786259542\n",
      "0.7785714285714286\n",
      "0.7878787878787878\n",
      "0.8287671232876712\n",
      "0.7727272727272727\n",
      "0.8175182481751825\n",
      "0.8294573643410853\n",
      "0.8321678321678322\n",
      "0.7847222222222222\n",
      "0.7709923664122137\n",
      "0.708029197080292\n",
      "0.7985611510791367\n",
      "0.8082191780821918\n",
      "0.8071428571428572\n",
      "0.7676056338028169\n",
      "0.8098591549295775\n",
      "0.8540145985401459\n",
      "0.8380281690140845\n",
      "0.8604651162790697\n",
      "0.8074074074074075\n",
      "0.8413793103448276\n",
      "0.7847222222222222\n",
      "0.7746478873239436\n",
      "0.8041958041958042\n",
      "0.795774647887324\n",
      "0.7333333333333333\n",
      "0.7677419354838709\n",
      "0.7986577181208053\n",
      "0.8148148148148148\n",
      "0.8142857142857143\n",
      "0.837037037037037\n",
      "0.8102189781021898\n",
      "0.8623188405797102\n",
      "0.8157894736842105\n",
      "0.8409090909090909\n"
     ]
    }
   ],
   "source": [
    "data=np.asarray(data,dtype='float64')\n",
    "\n",
    "from sklearn.utils import resample\n",
    "import numpy as np\n",
    "\n",
    "values = data\n",
    "n_iterations = 100              \n",
    "n_size = int(len(values) *  1)   \n",
    "stats = list()\n",
    "\n",
    "for i in range(n_iterations):\n",
    "\n",
    "    train = resample(values, n_samples=n_size) \n",
    "    test = np.array([x for x in values if x.tolist() not in train.tolist()])\n",
    "    model = AdaBoostClassifier(n_estimators=50)\n",
    "    model.fit(train[:,:-1], train[:,-1])\n",
    "    score = model.score(test[:,:-1], test[:,-1])  \n",
    "    print(score)\n",
    "    stats.append(score)"
   ]
  },
  {
   "cell_type": "code",
   "execution_count": 59,
   "metadata": {},
   "outputs": [
    {
     "data": {
      "image/png": "[encoded data removed]",
      "text/plain": [
       "<Figure size 432x288 with 1 Axes>"
      ]
     },
     "metadata": {},
     "output_type": "display_data"
    },
    {
     "name": "stdout",
     "output_type": "stream",
     "text": [
      "95.0 confidence interval 72.8% and 86.0%\n"
     ]
    }
   ],
   "source": [
    "from matplotlib import pyplot\n",
    "\n",
    "# plot scores\n",
    "pyplot.hist(stats)\n",
    "pyplot.show()\n",
    "# confidence intervals\n",
    "alpha = 0.95                             # for 95% confidence \n",
    "p = ((1.0-alpha)/2.0) * 100              # tail regions on right and left .25 on each side indicated by P value (border)\n",
    "lower = max(0.0, np.percentile(stats, p))  \n",
    "p = (alpha+((1.0-alpha)/2.0)) * 100\n",
    "upper = min(1.0, np.percentile(stats, p))\n",
    "print('%.1f confidence interval %.1f%% and %.1f%%' % (alpha*100, lower*100, upper*100))"
   ]
  },
  {
   "cell_type": "markdown",
   "metadata": {},
   "source": [
    "#### from the above observations we can see that random forest is the best ensemble method"
   ]
  },
  {
   "cell_type": "code",
   "execution_count": null,
   "metadata": {},
   "outputs": [],
   "source": []
  }
 ],
 "metadata": {
  "kernelspec": {
   "display_name": "Python 3",
   "language": "python",
   "name": "python3"
  },
  "language_info": {
   "codemirror_mode": {
    "name": "ipython",
    "version": 3
   },
   "file_extension": ".py",
   "mimetype": "text/x-python",
   "name": "python",
   "nbconvert_exporter": "python",
   "pygments_lexer": "ipython3",
   "version": "3.7.0"
  }
 },
 "nbformat": 4,
 "nbformat_minor": 2
}
