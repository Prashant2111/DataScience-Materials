{
 "cells": [
  {
   "cell_type": "code",
   "execution_count": 1,
   "metadata": {},
   "outputs": [
    {
     "name": "stdout",
     "output_type": "stream",
     "text": [
      "Train_data -> [90, 30, 40, 20, 90, 40, 70, 10, 90, 30]   Test_data -> [ 50  60  80 100]\n",
      "Train_data -> [70, 100, 30, 30, 20, 10, 100, 60, 90, 40]   Test_data -> [50 80]\n",
      "Train_data -> [30, 40, 80, 30, 90, 100, 40, 100, 80, 60]   Test_data -> [10 20 50 70]\n",
      "Train_data -> [60, 20, 10, 20, 40, 50, 100, 90, 80, 70]   Test_data -> [30]\n",
      "Train_data -> [60, 20, 60, 30, 80, 30, 40, 100, 60, 40]   Test_data -> [10 50 70 90]\n",
      "Train_data -> [10, 50, 70, 90, 60, 10, 100, 80, 10, 40]   Test_data -> [20 30]\n",
      "Train_data -> [20, 40, 80, 30, 20, 60, 90, 60, 80, 100]   Test_data -> [10 50 70]\n",
      "Train_data -> [40, 30, 100, 40, 70, 100, 100, 10, 30, 70]   Test_data -> [20 50 60 80 90]\n",
      "Train_data -> [20, 50, 40, 40, 20, 40, 80, 70, 40, 70]   Test_data -> [ 10  30  60  90 100]\n",
      "Train_data -> [80, 50, 80, 50, 60, 10, 80, 80, 70, 80]   Test_data -> [ 20  30  40  90 100]\n",
      "Train_data -> [40, 60, 100, 30, 20, 40, 80, 90, 20, 40]   Test_data -> [10 50 70]\n",
      "Train_data -> [70, 100, 100, 90, 20, 70, 90, 30, 50, 90]   Test_data -> [10 40 60 80]\n",
      "Train_data -> [60, 40, 60, 20, 30, 10, 100, 20, 90, 80]   Test_data -> [50 70]\n",
      "Train_data -> [40, 60, 80, 60, 70, 100, 60, 90, 20, 90]   Test_data -> [10 30 50]\n",
      "Train_data -> [70, 100, 100, 30, 30, 90, 40, 50, 80, 90]   Test_data -> [10 20 60]\n",
      "Train_data -> [10, 50, 40, 20, 90, 70, 70, 50, 50, 100]   Test_data -> [30 60 80]\n",
      "Train_data -> [70, 50, 30, 80, 70, 10, 20, 60, 60, 70]   Test_data -> [ 40  90 100]\n",
      "Train_data -> [30, 30, 80, 60, 10, 20, 80, 100, 10, 40]   Test_data -> [50 70 90]\n",
      "Train_data -> [40, 20, 60, 70, 30, 40, 100, 60, 30, 30]   Test_data -> [10 50 80 90]\n",
      "Train_data -> [70, 80, 70, 10, 90, 30, 40, 70, 80, 10]   Test_data -> [ 20  50  60 100]\n",
      "Train_data -> [30, 100, 20, 60, 50, 100, 50, 50, 80, 10]   Test_data -> [40 70 90]\n",
      "Train_data -> [40, 30, 20, 70, 90, 80, 20, 80, 90, 80]   Test_data -> [ 10  50  60 100]\n",
      "Train_data -> [50, 10, 40, 90, 70, 80, 80, 90, 10, 40]   Test_data -> [ 20  30  60 100]\n",
      "Train_data -> [30, 30, 70, 50, 50, 100, 70, 80, 50, 60]   Test_data -> [10 20 40 90]\n",
      "Train_data -> [100, 80, 30, 80, 80, 10, 80, 60, 20, 90]   Test_data -> [40 50 70]\n",
      "Train_data -> [90, 90, 100, 40, 70, 50, 90, 50, 30, 100]   Test_data -> [10 20 60 80]\n",
      "Train_data -> [20, 100, 30, 30, 90, 70, 100, 90, 50, 30]   Test_data -> [10 40 60 80]\n",
      "Train_data -> [40, 10, 80, 10, 90, 60, 70, 50, 30, 10]   Test_data -> [ 20 100]\n",
      "Train_data -> [60, 30, 90, 30, 30, 60, 10, 40, 80, 30]   Test_data -> [ 20  50  70 100]\n",
      "Train_data -> [40, 70, 50, 50, 80, 30, 40, 20, 50, 100]   Test_data -> [10 60 90]\n",
      "Train_data -> [50, 40, 70, 70, 90, 60, 30, 30, 70, 100]   Test_data -> [10 20 80]\n",
      "Train_data -> [20, 40, 90, 20, 60, 100, 10, 70, 80, 10]   Test_data -> [30 50]\n",
      "Train_data -> [100, 10, 10, 80, 60, 30, 70, 30, 10, 50]   Test_data -> [20 40 90]\n",
      "Train_data -> [80, 20, 40, 60, 80, 50, 80, 20, 30, 20]   Test_data -> [ 10  70  90 100]\n",
      "Train_data -> [50, 50, 80, 60, 70, 40, 70, 60, 50, 10]   Test_data -> [ 20  30  90 100]\n",
      "Train_data -> [70, 60, 60, 50, 10, 90, 90, 80, 100, 90]   Test_data -> [20 30 40]\n",
      "Train_data -> [90, 100, 80, 70, 40, 20, 80, 30, 100, 40]   Test_data -> [10 50 60]\n",
      "Train_data -> [30, 40, 10, 90, 10, 10, 30, 70, 90, 80]   Test_data -> [ 20  50  60 100]\n",
      "Train_data -> [80, 10, 100, 50, 70, 10, 30, 20, 50, 30]   Test_data -> [40 60 90]\n",
      "Train_data -> [80, 50, 30, 80, 60, 90, 80, 80, 10, 70]   Test_data -> [ 20  40 100]\n",
      "Train_data -> [40, 60, 30, 50, 30, 30, 40, 100, 100, 40]   Test_data -> [10 20 70 80 90]\n",
      "Train_data -> [100, 50, 70, 70, 50, 70, 100, 10, 70, 10]   Test_data -> [20 30 40 60 80 90]\n",
      "Train_data -> [10, 90, 70, 40, 10, 10, 80, 50, 90, 10]   Test_data -> [ 20  30  60 100]\n",
      "Train_data -> [20, 100, 30, 70, 50, 70, 100, 40, 80, 90]   Test_data -> [10 60]\n",
      "Train_data -> [50, 60, 100, 90, 60, 100, 20, 50, 70, 90]   Test_data -> [10 30 40 80]\n",
      "Train_data -> [80, 40, 50, 70, 100, 100, 30, 80, 40, 50]   Test_data -> [10 20 60 90]\n",
      "Train_data -> [20, 80, 80, 60, 90, 90, 20, 100, 100, 10]   Test_data -> [30 40 50 70]\n",
      "Train_data -> [80, 40, 10, 80, 70, 100, 30, 80, 20, 70]   Test_data -> [50 60 90]\n",
      "Train_data -> [20, 70, 30, 40, 20, 40, 50, 70, 100, 80]   Test_data -> [10 60 90]\n",
      "Train_data -> [100, 60, 70, 60, 100, 50, 20, 90, 10, 30]   Test_data -> [40 80]\n"
     ]
    }
   ],
   "source": [
    "from sklearn.utils import resample\n",
    "import numpy as np\n",
    "\n",
    "# load dataset\n",
    "data = [10,20,30,40,50,60,70,80,90,100]   # original data with 10 data points\n",
    "\n",
    "# configure bootstrap\n",
    "n_iterations = 50              # pickin g only 50 % of the given data in every bootstrap sample\n",
    "n_size = int(len(data) * 1)    # Number of bootstrap samples to create = 10\n",
    "\n",
    "# run bootstrap\n",
    "stats = list()\n",
    "for i in range(n_iterations):\n",
    "\t# prepare train and test sets\n",
    "\ttrain = resample(data, n_samples=n_size)  # Sampling with replacement # resample has inbuild random function\n",
    "\ttest = np.array([x for x in data if x not in train])  # picking rest of the data not considered in sample - out of bag data\n",
    "\tprint(\"Train_data ->\", train, \" \" , \"Test_data ->\", test)\n"
   ]
  },
  {
   "cell_type": "code",
   "execution_count": null,
   "metadata": {},
   "outputs": [],
   "source": []
  },
  {
   "cell_type": "code",
   "execution_count": null,
   "metadata": {},
   "outputs": [],
   "source": []
  }
 ],
 "metadata": {
  "kernelspec": {
   "display_name": "Python 3",
   "language": "python",
   "name": "python3"
  },
  "language_info": {
   "codemirror_mode": {
    "name": "ipython",
    "version": 3
   },
   "file_extension": ".py",
   "mimetype": "text/x-python",
   "name": "python",
   "nbconvert_exporter": "python",
   "pygments_lexer": "ipython3",
   "version": "3.7.0"
  }
 },
 "nbformat": 4,
 "nbformat_minor": 2
}
