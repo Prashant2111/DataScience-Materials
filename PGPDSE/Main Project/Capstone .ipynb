{
 "cells": [
  {
   "cell_type": "code",
   "execution_count": 344,
   "metadata": {},
   "outputs": [],
   "source": [
    "#Import Libraries \n",
    "import pandas as pd \n",
    "import numpy as np \n",
    "import matplotlib.pyplot as plt \n",
    "%matplotlib inline "
   ]
  },
  {
   "cell_type": "code",
   "execution_count": 345,
   "metadata": {},
   "outputs": [],
   "source": [
    "df = pd.read_csv('News_Final.csv')"
   ]
  },
  {
   "cell_type": "code",
   "execution_count": 346,
   "metadata": {},
   "outputs": [
    {
     "data": {
      "text/html": [
       "<div>\n",
       "<style scoped>\n",
       "    .dataframe tbody tr th:only-of-type {\n",
       "        vertical-align: middle;\n",
       "    }\n",
       "\n",
       "    .dataframe tbody tr th {\n",
       "        vertical-align: top;\n",
       "    }\n",
       "\n",
       "    .dataframe thead th {\n",
       "        text-align: right;\n",
       "    }\n",
       "</style>\n",
       "<table border=\"1\" class=\"dataframe\">\n",
       "  <thead>\n",
       "    <tr style=\"text-align: right;\">\n",
       "      <th></th>\n",
       "      <th>IDLink</th>\n",
       "      <th>Title</th>\n",
       "      <th>Headline</th>\n",
       "      <th>Source</th>\n",
       "      <th>Topic</th>\n",
       "      <th>PublishDate</th>\n",
       "      <th>SentimentTitle</th>\n",
       "      <th>SentimentHeadline</th>\n",
       "      <th>Facebook</th>\n",
       "      <th>GooglePlus</th>\n",
       "      <th>LinkedIn</th>\n",
       "    </tr>\n",
       "  </thead>\n",
       "  <tbody>\n",
       "    <tr>\n",
       "      <th>0</th>\n",
       "      <td>99248.0</td>\n",
       "      <td>Obama Lays Wreath at Arlington National Cemetery</td>\n",
       "      <td>Obama Lays Wreath at Arlington National Cemete...</td>\n",
       "      <td>USA TODAY</td>\n",
       "      <td>obama</td>\n",
       "      <td>2002-04-02 00:00:00</td>\n",
       "      <td>0.000000</td>\n",
       "      <td>-0.053300</td>\n",
       "      <td>-1</td>\n",
       "      <td>-1</td>\n",
       "      <td>-1</td>\n",
       "    </tr>\n",
       "    <tr>\n",
       "      <th>1</th>\n",
       "      <td>10423.0</td>\n",
       "      <td>A Look at the Health of the Chinese Economy</td>\n",
       "      <td>Tim Haywood, investment director business-unit...</td>\n",
       "      <td>Bloomberg</td>\n",
       "      <td>economy</td>\n",
       "      <td>2008-09-20 00:00:00</td>\n",
       "      <td>0.208333</td>\n",
       "      <td>-0.156386</td>\n",
       "      <td>-1</td>\n",
       "      <td>-1</td>\n",
       "      <td>-1</td>\n",
       "    </tr>\n",
       "    <tr>\n",
       "      <th>2</th>\n",
       "      <td>18828.0</td>\n",
       "      <td>Nouriel Roubini: Global Economy Not Back to 2008</td>\n",
       "      <td>Nouriel Roubini, NYU professor and chairman at...</td>\n",
       "      <td>Bloomberg</td>\n",
       "      <td>economy</td>\n",
       "      <td>2012-01-28 00:00:00</td>\n",
       "      <td>-0.425210</td>\n",
       "      <td>0.139754</td>\n",
       "      <td>-1</td>\n",
       "      <td>-1</td>\n",
       "      <td>-1</td>\n",
       "    </tr>\n",
       "    <tr>\n",
       "      <th>3</th>\n",
       "      <td>27788.0</td>\n",
       "      <td>Finland GDP Expands In Q4</td>\n",
       "      <td>Finland's economy expanded marginally in the t...</td>\n",
       "      <td>RTT News</td>\n",
       "      <td>economy</td>\n",
       "      <td>2015-03-01 00:06:00</td>\n",
       "      <td>0.000000</td>\n",
       "      <td>0.026064</td>\n",
       "      <td>-1</td>\n",
       "      <td>-1</td>\n",
       "      <td>-1</td>\n",
       "    </tr>\n",
       "    <tr>\n",
       "      <th>4</th>\n",
       "      <td>27789.0</td>\n",
       "      <td>Tourism, govt spending buoys Thai economy in J...</td>\n",
       "      <td>Tourism and public spending continued to boost...</td>\n",
       "      <td>The Nation - Thailand&amp;#39;s English news</td>\n",
       "      <td>economy</td>\n",
       "      <td>2015-03-01 00:11:00</td>\n",
       "      <td>0.000000</td>\n",
       "      <td>0.141084</td>\n",
       "      <td>-1</td>\n",
       "      <td>-1</td>\n",
       "      <td>-1</td>\n",
       "    </tr>\n",
       "  </tbody>\n",
       "</table>\n",
       "</div>"
      ],
      "text/plain": [
       "    IDLink                                              Title  \\\n",
       "0  99248.0   Obama Lays Wreath at Arlington National Cemetery   \n",
       "1  10423.0        A Look at the Health of the Chinese Economy   \n",
       "2  18828.0   Nouriel Roubini: Global Economy Not Back to 2008   \n",
       "3  27788.0                          Finland GDP Expands In Q4   \n",
       "4  27789.0  Tourism, govt spending buoys Thai economy in J...   \n",
       "\n",
       "                                            Headline  \\\n",
       "0  Obama Lays Wreath at Arlington National Cemete...   \n",
       "1  Tim Haywood, investment director business-unit...   \n",
       "2  Nouriel Roubini, NYU professor and chairman at...   \n",
       "3  Finland's economy expanded marginally in the t...   \n",
       "4  Tourism and public spending continued to boost...   \n",
       "\n",
       "                                     Source    Topic          PublishDate  \\\n",
       "0                                 USA TODAY    obama  2002-04-02 00:00:00   \n",
       "1                                 Bloomberg  economy  2008-09-20 00:00:00   \n",
       "2                                 Bloomberg  economy  2012-01-28 00:00:00   \n",
       "3                                  RTT News  economy  2015-03-01 00:06:00   \n",
       "4  The Nation - Thailand&#39;s English news  economy  2015-03-01 00:11:00   \n",
       "\n",
       "   SentimentTitle  SentimentHeadline  Facebook  GooglePlus  LinkedIn  \n",
       "0        0.000000          -0.053300        -1          -1        -1  \n",
       "1        0.208333          -0.156386        -1          -1        -1  \n",
       "2       -0.425210           0.139754        -1          -1        -1  \n",
       "3        0.000000           0.026064        -1          -1        -1  \n",
       "4        0.000000           0.141084        -1          -1        -1  "
      ]
     },
     "execution_count": 346,
     "metadata": {},
     "output_type": "execute_result"
    }
   ],
   "source": [
    "df.head()"
   ]
  },
  {
   "cell_type": "code",
   "execution_count": 347,
   "metadata": {},
   "outputs": [
    {
     "name": "stdout",
     "output_type": "stream",
     "text": [
      "<class 'pandas.core.frame.DataFrame'>\n",
      "RangeIndex: 93239 entries, 0 to 93238\n",
      "Data columns (total 11 columns):\n",
      "IDLink               93239 non-null float64\n",
      "Title                93239 non-null object\n",
      "Headline             93224 non-null object\n",
      "Source               92960 non-null object\n",
      "Topic                93239 non-null object\n",
      "PublishDate          93239 non-null object\n",
      "SentimentTitle       93239 non-null float64\n",
      "SentimentHeadline    93239 non-null float64\n",
      "Facebook             93239 non-null int64\n",
      "GooglePlus           93239 non-null int64\n",
      "LinkedIn             93239 non-null int64\n",
      "dtypes: float64(3), int64(3), object(5)\n",
      "memory usage: 7.8+ MB\n"
     ]
    }
   ],
   "source": [
    "df.info()"
   ]
  },
  {
   "cell_type": "markdown",
   "metadata": {},
   "source": [
    "#### EDA"
   ]
  },
  {
   "cell_type": "code",
   "execution_count": 348,
   "metadata": {},
   "outputs": [
    {
     "data": {
      "text/plain": [
       "IDLink                 0\n",
       "Title                  0\n",
       "Headline              15\n",
       "Source               279\n",
       "Topic                  0\n",
       "PublishDate            0\n",
       "SentimentTitle         0\n",
       "SentimentHeadline      0\n",
       "Facebook               0\n",
       "GooglePlus             0\n",
       "LinkedIn               0\n",
       "dtype: int64"
      ]
     },
     "execution_count": 348,
     "metadata": {},
     "output_type": "execute_result"
    }
   ],
   "source": [
    "df.isnull().sum()"
   ]
  },
  {
   "cell_type": "code",
   "execution_count": 349,
   "metadata": {},
   "outputs": [
    {
     "data": {
      "text/plain": [
       "Bloomberg                                      1732\n",
       "Reuters                                        1321\n",
       "ABC News                                       1098\n",
       "New York Times                                  992\n",
       "The Guardian                                    933\n",
       "Business Insider                                884\n",
       "Economic Times                                  787\n",
       "Forbes                                          781\n",
       "Washington Post                                 774\n",
       "CNN                                             742\n",
       "Wall Street Journal                             730\n",
       "WinBeta                                         707\n",
       "CNBC                                            682\n",
       "Huffington Post                                 676\n",
       "Breitbart News                                  605\n",
       "Reuters via Yahoo! Finance                      551\n",
       "The Hill                                        548\n",
       "Financial Times                                 544\n",
       "USA TODAY                                       530\n",
       "ZDNet                                           526\n",
       "MSPoweruser.com                                 516\n",
       "Daily Mail                                      510\n",
       "Fox News                                        505\n",
       "AFP via Yahoo! News                             501\n",
       "NPR                                             481\n",
       "BBC News                                        481\n",
       "Washington Times                                448\n",
       "The Hill (blog)                                 442\n",
       "Associated Press via Yahoo! News                437\n",
       "Reuters via Yahoo! News                         409\n",
       "                                               ... \n",
       "Kokomo Tribune                                    1\n",
       "Outer Places                                      1\n",
       "Sunday Leader                                     1\n",
       "CU Columbia Spectator                             1\n",
       "Marketing magazine Australia (registration)       1\n",
       "XãLun.com tin tc vit nam 24h cp nht               1\n",
       "Technical.ly Brooklyn                             1\n",
       "www.breakbulk.com                                 1\n",
       "KXLH Helena News                                  1\n",
       "Memphis Daily News (blog)                         1\n",
       "The Marijuana Times                               1\n",
       "Youth Health Magzine                              1\n",
       "Mobile Burn                                       1\n",
       "Burlington Times News                             1\n",
       "The Takeaway (blog)                               1\n",
       "Hypergrid Business                                1\n",
       "Yahoo Celebrity UK                                1\n",
       "19 Action News Cleveland                          1\n",
       "Waikato Times                                     1\n",
       "Salisbury Journal                                 1\n",
       "WCAV Charlottesville                              1\n",
       "FOX 46 Charlotte                                  1\n",
       "Oxfam America (press release) (blog)              1\n",
       "Crookston Daily Times                             1\n",
       "Twice                                             1\n",
       "Robohub                                           1\n",
       "Loudwire                                          1\n",
       "Bristol Post                                      1\n",
       "BILD                                              1\n",
       "The Fort Campbell Courier                         1\n",
       "Name: Source, Length: 5756, dtype: int64"
      ]
     },
     "execution_count": 349,
     "metadata": {},
     "output_type": "execute_result"
    }
   ],
   "source": [
    "df['Source'].value_counts()"
   ]
  },
  {
   "cell_type": "markdown",
   "metadata": {},
   "source": [
    "#### Drop the rows containing Obama and Economy as per objective we need only Microsoft and Palestine "
   ]
  },
  {
   "cell_type": "code",
   "execution_count": 350,
   "metadata": {},
   "outputs": [],
   "source": [
    "df = df.drop(df[df.Topic == 'obama'].index)"
   ]
  },
  {
   "cell_type": "code",
   "execution_count": 351,
   "metadata": {},
   "outputs": [],
   "source": [
    "df = df.drop(df[df.Topic == 'economy'].index)"
   ]
  },
  {
   "cell_type": "code",
   "execution_count": 352,
   "metadata": {},
   "outputs": [
    {
     "data": {
      "text/html": [
       "<div>\n",
       "<style scoped>\n",
       "    .dataframe tbody tr th:only-of-type {\n",
       "        vertical-align: middle;\n",
       "    }\n",
       "\n",
       "    .dataframe tbody tr th {\n",
       "        vertical-align: top;\n",
       "    }\n",
       "\n",
       "    .dataframe thead th {\n",
       "        text-align: right;\n",
       "    }\n",
       "</style>\n",
       "<table border=\"1\" class=\"dataframe\">\n",
       "  <thead>\n",
       "    <tr style=\"text-align: right;\">\n",
       "      <th></th>\n",
       "      <th>IDLink</th>\n",
       "      <th>Title</th>\n",
       "      <th>Headline</th>\n",
       "      <th>Source</th>\n",
       "      <th>Topic</th>\n",
       "      <th>PublishDate</th>\n",
       "      <th>SentimentTitle</th>\n",
       "      <th>SentimentHeadline</th>\n",
       "      <th>Facebook</th>\n",
       "      <th>GooglePlus</th>\n",
       "      <th>LinkedIn</th>\n",
       "    </tr>\n",
       "  </thead>\n",
       "  <tbody>\n",
       "    <tr>\n",
       "      <th>5</th>\n",
       "      <td>27790.0</td>\n",
       "      <td>Intellitec Solutions to Host 13th Annual Sprin...</td>\n",
       "      <td>Over 100 attendees expected to see latest vers...</td>\n",
       "      <td>PRWeb</td>\n",
       "      <td>microsoft</td>\n",
       "      <td>2015-03-01 00:19:00</td>\n",
       "      <td>-0.075378</td>\n",
       "      <td>0.036773</td>\n",
       "      <td>-1</td>\n",
       "      <td>-1</td>\n",
       "      <td>-1</td>\n",
       "    </tr>\n",
       "    <tr>\n",
       "      <th>6</th>\n",
       "      <td>80690.0</td>\n",
       "      <td>Monday, 29 Feb 2016</td>\n",
       "      <td>RAMALLAH, February 25, 2016 (WAFA) - Palestine...</td>\n",
       "      <td>NaN</td>\n",
       "      <td>palestine</td>\n",
       "      <td>2016-02-28 14:03:00</td>\n",
       "      <td>0.000000</td>\n",
       "      <td>-0.005906</td>\n",
       "      <td>0</td>\n",
       "      <td>0</td>\n",
       "      <td>0</td>\n",
       "    </tr>\n",
       "    <tr>\n",
       "      <th>8</th>\n",
       "      <td>80771.0</td>\n",
       "      <td>Fire claims more than 100-year-old barn in Han...</td>\n",
       "      <td>A Hancock County man lost a barn early Monday ...</td>\n",
       "      <td>WTHR Indianapolis</td>\n",
       "      <td>palestine</td>\n",
       "      <td>2015-03-01 01:20:00</td>\n",
       "      <td>-0.173925</td>\n",
       "      <td>-0.050185</td>\n",
       "      <td>-1</td>\n",
       "      <td>-1</td>\n",
       "      <td>-1</td>\n",
       "    </tr>\n",
       "    <tr>\n",
       "      <th>9</th>\n",
       "      <td>27803.0</td>\n",
       "      <td>Microsoft's new Windows 10 ad targets Apple</td>\n",
       "      <td>New Delhi, Feb.29 : Technology giant Microsoft...</td>\n",
       "      <td>New Kerala</td>\n",
       "      <td>microsoft</td>\n",
       "      <td>2015-03-01 01:32:00</td>\n",
       "      <td>-0.059536</td>\n",
       "      <td>-0.081715</td>\n",
       "      <td>-1</td>\n",
       "      <td>-1</td>\n",
       "      <td>-1</td>\n",
       "    </tr>\n",
       "    <tr>\n",
       "      <th>10</th>\n",
       "      <td>27813.0</td>\n",
       "      <td>Microsoft Project Centennial seen with “univer...</td>\n",
       "      <td>Microsoft may have burned off one bridge, but ...</td>\n",
       "      <td>SlashGear</td>\n",
       "      <td>microsoft</td>\n",
       "      <td>2015-03-01 02:14:00</td>\n",
       "      <td>0.000000</td>\n",
       "      <td>0.002550</td>\n",
       "      <td>-1</td>\n",
       "      <td>-1</td>\n",
       "      <td>-1</td>\n",
       "    </tr>\n",
       "  </tbody>\n",
       "</table>\n",
       "</div>"
      ],
      "text/plain": [
       "     IDLink                                              Title  \\\n",
       "5   27790.0  Intellitec Solutions to Host 13th Annual Sprin...   \n",
       "6   80690.0                                Monday, 29 Feb 2016   \n",
       "8   80771.0  Fire claims more than 100-year-old barn in Han...   \n",
       "9   27803.0        Microsoft's new Windows 10 ad targets Apple   \n",
       "10  27813.0  Microsoft Project Centennial seen with “univer...   \n",
       "\n",
       "                                             Headline             Source  \\\n",
       "5   Over 100 attendees expected to see latest vers...              PRWeb   \n",
       "6   RAMALLAH, February 25, 2016 (WAFA) - Palestine...                NaN   \n",
       "8   A Hancock County man lost a barn early Monday ...  WTHR Indianapolis   \n",
       "9   New Delhi, Feb.29 : Technology giant Microsoft...         New Kerala   \n",
       "10  Microsoft may have burned off one bridge, but ...          SlashGear   \n",
       "\n",
       "        Topic          PublishDate  SentimentTitle  SentimentHeadline  \\\n",
       "5   microsoft  2015-03-01 00:19:00       -0.075378           0.036773   \n",
       "6   palestine  2016-02-28 14:03:00        0.000000          -0.005906   \n",
       "8   palestine  2015-03-01 01:20:00       -0.173925          -0.050185   \n",
       "9   microsoft  2015-03-01 01:32:00       -0.059536          -0.081715   \n",
       "10  microsoft  2015-03-01 02:14:00        0.000000           0.002550   \n",
       "\n",
       "    Facebook  GooglePlus  LinkedIn  \n",
       "5         -1          -1        -1  \n",
       "6          0           0         0  \n",
       "8         -1          -1        -1  \n",
       "9         -1          -1        -1  \n",
       "10        -1          -1        -1  "
      ]
     },
     "execution_count": 352,
     "metadata": {},
     "output_type": "execute_result"
    }
   ],
   "source": [
    "df.head()"
   ]
  },
  {
   "cell_type": "code",
   "execution_count": 353,
   "metadata": {},
   "outputs": [
    {
     "data": {
      "text/plain": [
       "IDLink                 0\n",
       "Title                  0\n",
       "Headline               4\n",
       "Source               239\n",
       "Topic                  0\n",
       "PublishDate            0\n",
       "SentimentTitle         0\n",
       "SentimentHeadline      0\n",
       "Facebook               0\n",
       "GooglePlus             0\n",
       "LinkedIn               0\n",
       "dtype: int64"
      ]
     },
     "execution_count": 353,
     "metadata": {},
     "output_type": "execute_result"
    }
   ],
   "source": [
    "df.isnull().sum()"
   ]
  },
  {
   "cell_type": "markdown",
   "metadata": {},
   "source": [
    "#### Fill the Null values "
   ]
  },
  {
   "cell_type": "code",
   "execution_count": 354,
   "metadata": {},
   "outputs": [],
   "source": [
    "df.Source.fillna(df.Source.mode()[0],inplace = True) #Replace the null values of the Source with the mode "
   ]
  },
  {
   "cell_type": "code",
   "execution_count": 355,
   "metadata": {},
   "outputs": [
    {
     "data": {
      "text/plain": [
       "IDLink               0\n",
       "Title                0\n",
       "Headline             4\n",
       "Source               0\n",
       "Topic                0\n",
       "PublishDate          0\n",
       "SentimentTitle       0\n",
       "SentimentHeadline    0\n",
       "Facebook             0\n",
       "GooglePlus           0\n",
       "LinkedIn             0\n",
       "dtype: int64"
      ]
     },
     "execution_count": 355,
     "metadata": {},
     "output_type": "execute_result"
    }
   ],
   "source": [
    "df.isnull().sum()"
   ]
  },
  {
   "cell_type": "code",
   "execution_count": 356,
   "metadata": {},
   "outputs": [],
   "source": [
    "df.dropna(axis=0,inplace=True)"
   ]
  },
  {
   "cell_type": "code",
   "execution_count": 357,
   "metadata": {},
   "outputs": [
    {
     "name": "stdout",
     "output_type": "stream",
     "text": [
      "<class 'pandas.core.frame.DataFrame'>\n",
      "Int64Index: 30697 entries, 5 to 93238\n",
      "Data columns (total 11 columns):\n",
      "IDLink               30697 non-null float64\n",
      "Title                30697 non-null object\n",
      "Headline             30697 non-null object\n",
      "Source               30697 non-null object\n",
      "Topic                30697 non-null object\n",
      "PublishDate          30697 non-null object\n",
      "SentimentTitle       30697 non-null float64\n",
      "SentimentHeadline    30697 non-null float64\n",
      "Facebook             30697 non-null int64\n",
      "GooglePlus           30697 non-null int64\n",
      "LinkedIn             30697 non-null int64\n",
      "dtypes: float64(3), int64(3), object(5)\n",
      "memory usage: 2.8+ MB\n"
     ]
    }
   ],
   "source": [
    "df.info()"
   ]
  },
  {
   "cell_type": "code",
   "execution_count": 358,
   "metadata": {},
   "outputs": [
    {
     "data": {
      "text/html": [
       "<div>\n",
       "<style scoped>\n",
       "    .dataframe tbody tr th:only-of-type {\n",
       "        vertical-align: middle;\n",
       "    }\n",
       "\n",
       "    .dataframe tbody tr th {\n",
       "        vertical-align: top;\n",
       "    }\n",
       "\n",
       "    .dataframe thead th {\n",
       "        text-align: right;\n",
       "    }\n",
       "</style>\n",
       "<table border=\"1\" class=\"dataframe\">\n",
       "  <thead>\n",
       "    <tr style=\"text-align: right;\">\n",
       "      <th></th>\n",
       "      <th>count</th>\n",
       "      <th>mean</th>\n",
       "      <th>std</th>\n",
       "      <th>min</th>\n",
       "      <th>25%</th>\n",
       "      <th>50%</th>\n",
       "      <th>75%</th>\n",
       "      <th>max</th>\n",
       "    </tr>\n",
       "  </thead>\n",
       "  <tbody>\n",
       "    <tr>\n",
       "      <th>IDLink</th>\n",
       "      <td>30697.0</td>\n",
       "      <td>45491.104831</td>\n",
       "      <td>28776.234078</td>\n",
       "      <td>101.000000</td>\n",
       "      <td>20623.000000</td>\n",
       "      <td>44461.000000</td>\n",
       "      <td>66310.000000</td>\n",
       "      <td>104800.000000</td>\n",
       "    </tr>\n",
       "    <tr>\n",
       "      <th>SentimentTitle</th>\n",
       "      <td>30697.0</td>\n",
       "      <td>-0.004101</td>\n",
       "      <td>0.124857</td>\n",
       "      <td>-0.950694</td>\n",
       "      <td>-0.068041</td>\n",
       "      <td>0.000000</td>\n",
       "      <td>0.061688</td>\n",
       "      <td>0.714610</td>\n",
       "    </tr>\n",
       "    <tr>\n",
       "      <th>SentimentHeadline</th>\n",
       "      <td>30697.0</td>\n",
       "      <td>-0.023314</td>\n",
       "      <td>0.136817</td>\n",
       "      <td>-0.732337</td>\n",
       "      <td>-0.108333</td>\n",
       "      <td>-0.024116</td>\n",
       "      <td>0.060697</td>\n",
       "      <td>0.964646</td>\n",
       "    </tr>\n",
       "    <tr>\n",
       "      <th>Facebook</th>\n",
       "      <td>30697.0</td>\n",
       "      <td>36.072906</td>\n",
       "      <td>307.763498</td>\n",
       "      <td>-1.000000</td>\n",
       "      <td>0.000000</td>\n",
       "      <td>2.000000</td>\n",
       "      <td>14.000000</td>\n",
       "      <td>22346.000000</td>\n",
       "    </tr>\n",
       "    <tr>\n",
       "      <th>GooglePlus</th>\n",
       "      <td>30697.0</td>\n",
       "      <td>3.714728</td>\n",
       "      <td>20.283135</td>\n",
       "      <td>-1.000000</td>\n",
       "      <td>0.000000</td>\n",
       "      <td>0.000000</td>\n",
       "      <td>2.000000</td>\n",
       "      <td>1016.000000</td>\n",
       "    </tr>\n",
       "    <tr>\n",
       "      <th>LinkedIn</th>\n",
       "      <td>30697.0</td>\n",
       "      <td>24.653810</td>\n",
       "      <td>246.613707</td>\n",
       "      <td>-1.000000</td>\n",
       "      <td>0.000000</td>\n",
       "      <td>0.000000</td>\n",
       "      <td>5.000000</td>\n",
       "      <td>20341.000000</td>\n",
       "    </tr>\n",
       "  </tbody>\n",
       "</table>\n",
       "</div>"
      ],
      "text/plain": [
       "                     count          mean           std         min  \\\n",
       "IDLink             30697.0  45491.104831  28776.234078  101.000000   \n",
       "SentimentTitle     30697.0     -0.004101      0.124857   -0.950694   \n",
       "SentimentHeadline  30697.0     -0.023314      0.136817   -0.732337   \n",
       "Facebook           30697.0     36.072906    307.763498   -1.000000   \n",
       "GooglePlus         30697.0      3.714728     20.283135   -1.000000   \n",
       "LinkedIn           30697.0     24.653810    246.613707   -1.000000   \n",
       "\n",
       "                            25%           50%           75%            max  \n",
       "IDLink             20623.000000  44461.000000  66310.000000  104800.000000  \n",
       "SentimentTitle        -0.068041      0.000000      0.061688       0.714610  \n",
       "SentimentHeadline     -0.108333     -0.024116      0.060697       0.964646  \n",
       "Facebook               0.000000      2.000000     14.000000   22346.000000  \n",
       "GooglePlus             0.000000      0.000000      2.000000    1016.000000  \n",
       "LinkedIn               0.000000      0.000000      5.000000   20341.000000  "
      ]
     },
     "execution_count": 358,
     "metadata": {},
     "output_type": "execute_result"
    }
   ],
   "source": [
    "df.describe().T"
   ]
  },
  {
   "cell_type": "code",
   "execution_count": 359,
   "metadata": {},
   "outputs": [
    {
     "data": {
      "text/plain": [
       "microsoft    21857\n",
       "palestine     8840\n",
       "Name: Topic, dtype: int64"
      ]
     },
     "execution_count": 359,
     "metadata": {},
     "output_type": "execute_result"
    }
   ],
   "source": [
    "df['Topic'].value_counts()"
   ]
  },
  {
   "cell_type": "code",
   "execution_count": 360,
   "metadata": {},
   "outputs": [],
   "source": [
    "max_sen_title = df.groupby(['Title','SentimentTitle'], as_index=False).max()  "
   ]
  },
  {
   "cell_type": "code",
   "execution_count": 361,
   "metadata": {},
   "outputs": [
    {
     "data": {
      "text/html": [
       "<div>\n",
       "<style scoped>\n",
       "    .dataframe tbody tr th:only-of-type {\n",
       "        vertical-align: middle;\n",
       "    }\n",
       "\n",
       "    .dataframe tbody tr th {\n",
       "        vertical-align: top;\n",
       "    }\n",
       "\n",
       "    .dataframe thead th {\n",
       "        text-align: right;\n",
       "    }\n",
       "</style>\n",
       "<table border=\"1\" class=\"dataframe\">\n",
       "  <thead>\n",
       "    <tr style=\"text-align: right;\">\n",
       "      <th></th>\n",
       "      <th>Title</th>\n",
       "      <th>SentimentTitle</th>\n",
       "      <th>IDLink</th>\n",
       "      <th>Headline</th>\n",
       "      <th>Source</th>\n",
       "      <th>Topic</th>\n",
       "      <th>PublishDate</th>\n",
       "      <th>SentimentHeadline</th>\n",
       "      <th>Facebook</th>\n",
       "      <th>GooglePlus</th>\n",
       "      <th>LinkedIn</th>\n",
       "    </tr>\n",
       "  </thead>\n",
       "  <tbody>\n",
       "    <tr>\n",
       "      <th>0</th>\n",
       "      <td>!8-year-old Palestine woman killed in wreck on...</td>\n",
       "      <td>-0.014657</td>\n",
       "      <td>98543.0</td>\n",
       "      <td>DPS Trooper Jean Dark confirmed that a two-veh...</td>\n",
       "      <td>KXXV News Channel 25</td>\n",
       "      <td>palestine</td>\n",
       "      <td>2016-05-27 00:05:35</td>\n",
       "      <td>-0.179148</td>\n",
       "      <td>1</td>\n",
       "      <td>0</td>\n",
       "      <td>0</td>\n",
       "    </tr>\n",
       "    <tr>\n",
       "      <th>1</th>\n",
       "      <td>!8-year-old Palestine woman killed in wreck on...</td>\n",
       "      <td>-0.033501</td>\n",
       "      <td>98546.0</td>\n",
       "      <td>An 18-year-old Palestine woman was killed in a...</td>\n",
       "      <td>KLTV 7 Tyler</td>\n",
       "      <td>palestine</td>\n",
       "      <td>2016-05-26 16:14:00</td>\n",
       "      <td>-0.121528</td>\n",
       "      <td>0</td>\n",
       "      <td>0</td>\n",
       "      <td>0</td>\n",
       "    </tr>\n",
       "    <tr>\n",
       "      <th>2</th>\n",
       "      <td>#14. Palestine</td>\n",
       "      <td>0.000000</td>\n",
       "      <td>102518.0</td>\n",
       "      <td>In 2014, Palestine received a total of $497,26...</td>\n",
       "      <td>Winona Daily News</td>\n",
       "      <td>palestine</td>\n",
       "      <td>2016-06-17 04:31:48</td>\n",
       "      <td>0.016549</td>\n",
       "      <td>0</td>\n",
       "      <td>0</td>\n",
       "      <td>0</td>\n",
       "    </tr>\n",
       "    <tr>\n",
       "      <th>3</th>\n",
       "      <td>#4. Palestine</td>\n",
       "      <td>0.000000</td>\n",
       "      <td>100025.0</td>\n",
       "      <td>Palestine. Updated 18 hrs ago; 0 &amp;middot; Pale...</td>\n",
       "      <td>Mason City Globe Gazette</td>\n",
       "      <td>palestine</td>\n",
       "      <td>2016-06-04 01:55:36</td>\n",
       "      <td>0.129046</td>\n",
       "      <td>0</td>\n",
       "      <td>0</td>\n",
       "      <td>0</td>\n",
       "    </tr>\n",
       "    <tr>\n",
       "      <th>4</th>\n",
       "      <td>#GivingTuesday Founder 92Y and Founding Partne...</td>\n",
       "      <td>-0.047246</td>\n",
       "      <td>5733.0</td>\n",
       "      <td>92nd Street Y (92Y), the nonprofit cultural an...</td>\n",
       "      <td>Stockhouse</td>\n",
       "      <td>microsoft</td>\n",
       "      <td>2015-11-30 20:20:18</td>\n",
       "      <td>0.057354</td>\n",
       "      <td>1</td>\n",
       "      <td>0</td>\n",
       "      <td>0</td>\n",
       "    </tr>\n",
       "    <tr>\n",
       "      <th>5</th>\n",
       "      <td>#GivingTuesday Founder 92Y and Founding Partne...</td>\n",
       "      <td>-0.064550</td>\n",
       "      <td>5709.0</td>\n",
       "      <td>92nd Street Y, the nonprofit cultural and comm...</td>\n",
       "      <td>GlobeNewswire via Yahoo! Finance</td>\n",
       "      <td>microsoft</td>\n",
       "      <td>2015-11-30 11:53:00</td>\n",
       "      <td>0.021554</td>\n",
       "      <td>0</td>\n",
       "      <td>0</td>\n",
       "      <td>30</td>\n",
       "    </tr>\n",
       "    <tr>\n",
       "      <th>6</th>\n",
       "      <td>#Microsoft Corporation's Senior Director of Gl...</td>\n",
       "      <td>-0.028646</td>\n",
       "      <td>59492.0</td>\n",
       "      <td>With over 15 years of corporate security exper...</td>\n",
       "      <td>InvestorIdeas.com (press release)</td>\n",
       "      <td>microsoft</td>\n",
       "      <td>2016-06-27 14:40:12</td>\n",
       "      <td>-0.119338</td>\n",
       "      <td>-1</td>\n",
       "      <td>0</td>\n",
       "      <td>43</td>\n",
       "    </tr>\n",
       "    <tr>\n",
       "      <th>7</th>\n",
       "      <td>#Nakba Marked on Twitter on its 68th Anniversary</td>\n",
       "      <td>0.088388</td>\n",
       "      <td>98358.0</td>\n",
       "      <td>Palestinians all over the world mark May 15 as...</td>\n",
       "      <td>The</td>\n",
       "      <td>palestine</td>\n",
       "      <td>2016-05-16 06:17:00</td>\n",
       "      <td>0.178221</td>\n",
       "      <td>-1</td>\n",
       "      <td>-1</td>\n",
       "      <td>-1</td>\n",
       "    </tr>\n",
       "    <tr>\n",
       "      <th>8</th>\n",
       "      <td>#PulseList 2015: Microsoft Bing's top searches...</td>\n",
       "      <td>0.000000</td>\n",
       "      <td>11875.0</td>\n",
       "      <td>Just as Facebook and Google have both released...</td>\n",
       "      <td>Pulse Nigeria</td>\n",
       "      <td>microsoft</td>\n",
       "      <td>2015-12-26 07:10:26</td>\n",
       "      <td>-0.150967</td>\n",
       "      <td>7</td>\n",
       "      <td>1</td>\n",
       "      <td>0</td>\n",
       "    </tr>\n",
       "    <tr>\n",
       "      <th>9</th>\n",
       "      <td>#Sphere 3D's (NASDAQ: $ANY) Collaboration with...</td>\n",
       "      <td>0.000000</td>\n",
       "      <td>15768.0</td>\n",
       "      <td>#Sphere 3D's (NASDAQ: $ANY) Collaboration with...</td>\n",
       "      <td>InvestorIdeas.com (press release)</td>\n",
       "      <td>microsoft</td>\n",
       "      <td>2016-01-11 17:00:26</td>\n",
       "      <td>-0.117851</td>\n",
       "      <td>0</td>\n",
       "      <td>0</td>\n",
       "      <td>0</td>\n",
       "    </tr>\n",
       "    <tr>\n",
       "      <th>10</th>\n",
       "      <td>#dnaEdit: India for Palestine</td>\n",
       "      <td>0.000000</td>\n",
       "      <td>73177.0</td>\n",
       "      <td>Sushma Swaraj stated India's support for Pales...</td>\n",
       "      <td>DNA India</td>\n",
       "      <td>palestine</td>\n",
       "      <td>2016-01-18 17:32:00</td>\n",
       "      <td>-0.049176</td>\n",
       "      <td>2</td>\n",
       "      <td>0</td>\n",
       "      <td>0</td>\n",
       "    </tr>\n",
       "    <tr>\n",
       "      <th>11</th>\n",
       "      <td>#microsoft landing</td>\n",
       "      <td>0.000000</td>\n",
       "      <td>29233.0</td>\n",
       "      <td>#microsoft landing. # microsoft-landing - Toda...</td>\n",
       "      <td>thejournal.ie</td>\n",
       "      <td>microsoft</td>\n",
       "      <td>2016-03-05 11:18:36</td>\n",
       "      <td>0.023719</td>\n",
       "      <td>0</td>\n",
       "      <td>0</td>\n",
       "      <td>0</td>\n",
       "    </tr>\n",
       "    <tr>\n",
       "      <th>12</th>\n",
       "      <td>#shareyourwarmth campaign launched to assist P...</td>\n",
       "      <td>0.070868</td>\n",
       "      <td>66447.0</td>\n",
       "      <td>\"\"\"Palestine refugees face great uncertainty, ...</td>\n",
       "      <td>Palestine News Network</td>\n",
       "      <td>palestine</td>\n",
       "      <td>2015-12-11 07:47:45</td>\n",
       "      <td>-0.341000</td>\n",
       "      <td>19</td>\n",
       "      <td>0</td>\n",
       "      <td>0</td>\n",
       "    </tr>\n",
       "    <tr>\n",
       "      <th>13</th>\n",
       "      <td>$159 million in aid to Palestinian Authority b...</td>\n",
       "      <td>0.000000</td>\n",
       "      <td>85453.0</td>\n",
       "      <td>Demonstrators take part in a National March on...</td>\n",
       "      <td>Al-Bawaba</td>\n",
       "      <td>palestine</td>\n",
       "      <td>2016-03-21 00:00:00</td>\n",
       "      <td>-0.193793</td>\n",
       "      <td>16</td>\n",
       "      <td>10</td>\n",
       "      <td>0</td>\n",
       "    </tr>\n",
       "    <tr>\n",
       "      <th>14</th>\n",
       "      <td>$175 will get you the Microsoft Band 2 from th...</td>\n",
       "      <td>-0.025377</td>\n",
       "      <td>27677.0</td>\n",
       "      <td>Microsoft's fitness tracking wearable, the Mic...</td>\n",
       "      <td>Phone Arena</td>\n",
       "      <td>microsoft</td>\n",
       "      <td>2016-02-28 18:15:32</td>\n",
       "      <td>0.374228</td>\n",
       "      <td>9</td>\n",
       "      <td>13</td>\n",
       "      <td>1</td>\n",
       "    </tr>\n",
       "    <tr>\n",
       "      <th>15</th>\n",
       "      <td>$2.8M Microsoft contract for WV schools sparks...</td>\n",
       "      <td>-0.166667</td>\n",
       "      <td>53014.0</td>\n",
       "      <td>\"\"\"Softchoice was determined to have been a Mi...</td>\n",
       "      <td>Charleston Gazette-Mail (subscription)</td>\n",
       "      <td>microsoft</td>\n",
       "      <td>2016-05-31 02:40:11</td>\n",
       "      <td>-0.223607</td>\n",
       "      <td>3</td>\n",
       "      <td>0</td>\n",
       "      <td>0</td>\n",
       "    </tr>\n",
       "    <tr>\n",
       "      <th>16</th>\n",
       "      <td>$3,000 Microsoft HoloLens dev kit opens for pr...</td>\n",
       "      <td>-0.039528</td>\n",
       "      <td>27938.0</td>\n",
       "      <td>Microsoft is giving HoloLens developers a bet...</td>\n",
       "      <td>PC World</td>\n",
       "      <td>microsoft</td>\n",
       "      <td>2015-03-01 07:56:00</td>\n",
       "      <td>0.062552</td>\n",
       "      <td>-1</td>\n",
       "      <td>-1</td>\n",
       "      <td>-1</td>\n",
       "    </tr>\n",
       "    <tr>\n",
       "      <th>17</th>\n",
       "      <td>$571 million funding appeal launched to addres...</td>\n",
       "      <td>0.000000</td>\n",
       "      <td>77392.0</td>\n",
       "      <td>Palestinian authorities and the United Nations...</td>\n",
       "      <td>Middle East Monitor</td>\n",
       "      <td>palestine</td>\n",
       "      <td>2016-02-11 14:17:10</td>\n",
       "      <td>-0.215077</td>\n",
       "      <td>43</td>\n",
       "      <td>0</td>\n",
       "      <td>0</td>\n",
       "    </tr>\n",
       "    <tr>\n",
       "      <th>18</th>\n",
       "      <td>$58.00 donated in past month</td>\n",
       "      <td>0.000000</td>\n",
       "      <td>77738.0</td>\n",
       "      <td>Welcome to this Week in Palestine, a service o...</td>\n",
       "      <td>Bay Area Indymedia</td>\n",
       "      <td>palestine</td>\n",
       "      <td>2016-02-13 14:56:09</td>\n",
       "      <td>-0.052129</td>\n",
       "      <td>2</td>\n",
       "      <td>0</td>\n",
       "      <td>0</td>\n",
       "    </tr>\n",
       "    <tr>\n",
       "      <th>19</th>\n",
       "      <td>$8,000 Xbox Bill From FIFA Purchases Refunded ...</td>\n",
       "      <td>-0.176777</td>\n",
       "      <td>19466.0</td>\n",
       "      <td>A father had the credit card bill his son rack...</td>\n",
       "      <td>GameSpot via Yahoo! News</td>\n",
       "      <td>microsoft</td>\n",
       "      <td>2016-01-25 14:43:00</td>\n",
       "      <td>-0.047328</td>\n",
       "      <td>3</td>\n",
       "      <td>0</td>\n",
       "      <td>1</td>\n",
       "    </tr>\n",
       "    <tr>\n",
       "      <th>20</th>\n",
       "      <td>$8000 Xbox Bill From FIFA Purchases Refunded b...</td>\n",
       "      <td>-0.176777</td>\n",
       "      <td>19457.0</td>\n",
       "      <td>However, when looking for a refund, Perkins di...</td>\n",
       "      <td>GameSpot</td>\n",
       "      <td>microsoft</td>\n",
       "      <td>2016-01-25 22:44:27</td>\n",
       "      <td>-0.171003</td>\n",
       "      <td>234</td>\n",
       "      <td>18</td>\n",
       "      <td>1</td>\n",
       "    </tr>\n",
       "    <tr>\n",
       "      <th>21</th>\n",
       "      <td>&amp;quot; ARRIVE EN PALESTINE DE LA MISSION SIO...</td>\n",
       "      <td>0.000000</td>\n",
       "      <td>73490.0</td>\n",
       "      <td>En avril 1918, le gouvernement britannique d\"\"...</td>\n",
       "      <td>Mediapart</td>\n",
       "      <td>palestine</td>\n",
       "      <td>2016-01-20 14:05:18</td>\n",
       "      <td>-0.076547</td>\n",
       "      <td>4</td>\n",
       "      <td>0</td>\n",
       "      <td>0</td>\n",
       "    </tr>\n",
       "    <tr>\n",
       "      <th>22</th>\n",
       "      <td>&amp;quot;Absolutely Not&amp;quot; True That Microsoft...</td>\n",
       "      <td>0.007016</td>\n",
       "      <td>28784.0</td>\n",
       "      <td>Following Microsoft's announcement last month ...</td>\n",
       "      <td>GameSpot</td>\n",
       "      <td>microsoft</td>\n",
       "      <td>2016-03-03 16:19:34</td>\n",
       "      <td>0.075440</td>\n",
       "      <td>68</td>\n",
       "      <td>9</td>\n",
       "      <td>1</td>\n",
       "    </tr>\n",
       "    <tr>\n",
       "      <th>23</th>\n",
       "      <td>&amp;quot;Day of Anger&amp;quot; on next Friday in Occ...</td>\n",
       "      <td>0.075378</td>\n",
       "      <td>62395.0</td>\n",
       "      <td>The national and Islamic factions have announc...</td>\n",
       "      <td>Ahlul Bayt News Agency (press release)</td>\n",
       "      <td>palestine</td>\n",
       "      <td>2015-11-18 00:00:00</td>\n",
       "      <td>-0.093955</td>\n",
       "      <td>-1</td>\n",
       "      <td>-1</td>\n",
       "      <td>-1</td>\n",
       "    </tr>\n",
       "    <tr>\n",
       "      <th>24</th>\n",
       "      <td>&amp;quot;Discriminatory&amp;quot; bank shuts Palestin...</td>\n",
       "      <td>0.132583</td>\n",
       "      <td>69265.0</td>\n",
       "      <td>Oxford University's Students' Palestine Societ...</td>\n",
       "      <td>Cherwell Online</td>\n",
       "      <td>palestine</td>\n",
       "      <td>2015-12-11 00:00:00</td>\n",
       "      <td>-0.054554</td>\n",
       "      <td>-1</td>\n",
       "      <td>-1</td>\n",
       "      <td>-1</td>\n",
       "    </tr>\n",
       "    <tr>\n",
       "      <th>25</th>\n",
       "      <td>&amp;quot;Economic peace&amp;quot; for Palestine?</td>\n",
       "      <td>0.000000</td>\n",
       "      <td>86776.0</td>\n",
       "      <td>One of the most persistent and constant themes...</td>\n",
       "      <td>Open Democracy</td>\n",
       "      <td>palestine</td>\n",
       "      <td>2016-03-29 22:15:24</td>\n",
       "      <td>0.102062</td>\n",
       "      <td>3</td>\n",
       "      <td>0</td>\n",
       "      <td>0</td>\n",
       "    </tr>\n",
       "    <tr>\n",
       "      <th>26</th>\n",
       "      <td>&amp;quot;Hack Productivity&amp;quot; with Office 365 ...</td>\n",
       "      <td>-0.046409</td>\n",
       "      <td>16413.0</td>\n",
       "      <td>For some time now, Microsoft has been building...</td>\n",
       "      <td>WinBeta</td>\n",
       "      <td>microsoft</td>\n",
       "      <td>2016-01-13 17:29:26</td>\n",
       "      <td>0.067680</td>\n",
       "      <td>5</td>\n",
       "      <td>5</td>\n",
       "      <td>1</td>\n",
       "    </tr>\n",
       "    <tr>\n",
       "      <th>27</th>\n",
       "      <td>&amp;quot;La Palestine deviendrait un autre Etat a...</td>\n",
       "      <td>0.000000</td>\n",
       "      <td>85307.0</td>\n",
       "      <td>Selon Tamim, le r\"\"ve d'un tel Etat ne se r\"\"a...</td>\n",
       "      <td>i24news</td>\n",
       "      <td>palestine</td>\n",
       "      <td>2016-03-22 06:55:20</td>\n",
       "      <td>-0.072169</td>\n",
       "      <td>76</td>\n",
       "      <td>1</td>\n",
       "      <td>0</td>\n",
       "    </tr>\n",
       "    <tr>\n",
       "      <th>28</th>\n",
       "      <td>&amp;quot;Not True&amp;quot; That Microsoft Will Turn ...</td>\n",
       "      <td>-0.062757</td>\n",
       "      <td>17455.0</td>\n",
       "      <td>The Xbox 360 is more than 10 years old, but Mi...</td>\n",
       "      <td>GameSpot via Yahoo! News</td>\n",
       "      <td>microsoft</td>\n",
       "      <td>2016-01-16 06:02:00</td>\n",
       "      <td>0.160357</td>\n",
       "      <td>0</td>\n",
       "      <td>0</td>\n",
       "      <td>0</td>\n",
       "    </tr>\n",
       "    <tr>\n",
       "      <th>29</th>\n",
       "      <td>&amp;quot;Reel 'Em In&amp;quot; Foundation: Brian Robi...</td>\n",
       "      <td>-0.028296</td>\n",
       "      <td>88957.0</td>\n",
       "      <td>Familiar names such as Palestine native Adrian...</td>\n",
       "      <td>Toledo News Now</td>\n",
       "      <td>palestine</td>\n",
       "      <td>2016-04-06 15:08:00</td>\n",
       "      <td>0.316912</td>\n",
       "      <td>53</td>\n",
       "      <td>0</td>\n",
       "      <td>0</td>\n",
       "    </tr>\n",
       "    <tr>\n",
       "      <th>...</th>\n",
       "      <td>...</td>\n",
       "      <td>...</td>\n",
       "      <td>...</td>\n",
       "      <td>...</td>\n",
       "      <td>...</td>\n",
       "      <td>...</td>\n",
       "      <td>...</td>\n",
       "      <td>...</td>\n",
       "      <td>...</td>\n",
       "      <td>...</td>\n",
       "      <td>...</td>\n",
       "    </tr>\n",
       "    <tr>\n",
       "      <th>26635</th>\n",
       "      <td>Teachers Could Change The World, Says Pa...</td>\n",
       "      <td>0.018046</td>\n",
       "      <td>97039.0</td>\n",
       "      <td>The 43-year-old teacher grew up in a Palestini...</td>\n",
       "      <td>malaysiandigest.com</td>\n",
       "      <td>palestine</td>\n",
       "      <td>2016-05-16 00:00:00</td>\n",
       "      <td>-0.068096</td>\n",
       "      <td>0</td>\n",
       "      <td>0</td>\n",
       "      <td>0</td>\n",
       "    </tr>\n",
       "    <tr>\n",
       "      <th>26636</th>\n",
       "      <td>The international community must work to en...</td>\n",
       "      <td>-0.014757</td>\n",
       "      <td>90906.0</td>\n",
       "      <td>Statement by the PLO Executive Committee Membe...</td>\n",
       "      <td>Palestine News Network</td>\n",
       "      <td>palestine</td>\n",
       "      <td>2016-04-18 07:55:17</td>\n",
       "      <td>-0.008541</td>\n",
       "      <td>10</td>\n",
       "      <td>0</td>\n",
       "      <td>0</td>\n",
       "    </tr>\n",
       "    <tr>\n",
       "      <th>26637</th>\n",
       "      <td>Trans-Tasman first as Softsource seals Micr...</td>\n",
       "      <td>0.072917</td>\n",
       "      <td>29679.0</td>\n",
       "      <td>Softsource has launched its next generation In...</td>\n",
       "      <td>Reseller News</td>\n",
       "      <td>microsoft</td>\n",
       "      <td>2016-03-07 21:00:39</td>\n",
       "      <td>0.110485</td>\n",
       "      <td>1</td>\n",
       "      <td>0</td>\n",
       "      <td>12</td>\n",
       "    </tr>\n",
       "    <tr>\n",
       "      <th>26638</th>\n",
       "      <td>UAE, Palestine in deal to boost farming rel...</td>\n",
       "      <td>0.088388</td>\n",
       "      <td>66847.0</td>\n",
       "      <td>He pointed out that the collaboration aims to ...</td>\n",
       "      <td>Trade Arabia</td>\n",
       "      <td>palestine</td>\n",
       "      <td>2015-12-14 14:32:46</td>\n",
       "      <td>0.159901</td>\n",
       "      <td>0</td>\n",
       "      <td>0</td>\n",
       "      <td>0</td>\n",
       "    </tr>\n",
       "    <tr>\n",
       "      <th>26639</th>\n",
       "      <td>VMware, Cisco and Microsoft go-to vendors a...</td>\n",
       "      <td>-0.039528</td>\n",
       "      <td>31149.0</td>\n",
       "      <td>VMware, Cisco and Microsoft top the list of cu...</td>\n",
       "      <td>Reseller News</td>\n",
       "      <td>microsoft</td>\n",
       "      <td>2016-03-13 21:40:41</td>\n",
       "      <td>0.081832</td>\n",
       "      <td>0</td>\n",
       "      <td>0</td>\n",
       "      <td>2</td>\n",
       "    </tr>\n",
       "    <tr>\n",
       "      <th>26640</th>\n",
       "      <td>Vodafone NZ partners with Microsoft OneDriv...</td>\n",
       "      <td>0.000000</td>\n",
       "      <td>5771.0</td>\n",
       "      <td>Microsoft OneDrive for Business is now availab...</td>\n",
       "      <td>Computerworld New Zealand</td>\n",
       "      <td>microsoft</td>\n",
       "      <td>2015-11-30 23:40:18</td>\n",
       "      <td>0.148726</td>\n",
       "      <td>0</td>\n",
       "      <td>0</td>\n",
       "      <td>9</td>\n",
       "    </tr>\n",
       "    <tr>\n",
       "      <th>26641</th>\n",
       "      <td>What is Israel supposed to do?</td>\n",
       "      <td>0.000000</td>\n",
       "      <td>69599.0</td>\n",
       "      <td>Get the hell out of Palestinian towns, village...</td>\n",
       "      <td>Intifada Palestine</td>\n",
       "      <td>palestine</td>\n",
       "      <td>2015-12-30 18:24:48</td>\n",
       "      <td>-0.141923</td>\n",
       "      <td>85</td>\n",
       "      <td>39</td>\n",
       "      <td>1</td>\n",
       "    </tr>\n",
       "    <tr>\n",
       "      <th>26642</th>\n",
       "      <td>Why Microsoft vs. US Govt is a huge deal fo...</td>\n",
       "      <td>-0.234097</td>\n",
       "      <td>123.0</td>\n",
       "      <td>Microsoft's insistence on safe guarding inform...</td>\n",
       "      <td>Computerworld New Zealand</td>\n",
       "      <td>microsoft</td>\n",
       "      <td>2015-11-09 18:40:17</td>\n",
       "      <td>0.127578</td>\n",
       "      <td>7</td>\n",
       "      <td>0</td>\n",
       "      <td>7</td>\n",
       "    </tr>\n",
       "    <tr>\n",
       "      <th>26643</th>\n",
       "      <td>Why Microsoft's Xamarin purchase is a blunder</td>\n",
       "      <td>-0.283473</td>\n",
       "      <td>27456.0</td>\n",
       "      <td>At long last, Microsoft has bought Xamarin, Th...</td>\n",
       "      <td>ZDNet</td>\n",
       "      <td>microsoft</td>\n",
       "      <td>2016-02-26 21:40:34</td>\n",
       "      <td>-0.060417</td>\n",
       "      <td>28</td>\n",
       "      <td>24</td>\n",
       "      <td>174</td>\n",
       "    </tr>\n",
       "    <tr>\n",
       "      <th>26644</th>\n",
       "      <td>Windows 10 mix hits enterprise as Hewlett P...</td>\n",
       "      <td>0.220971</td>\n",
       "      <td>3854.0</td>\n",
       "      <td>\"\"\"Hewlett Packard Enterprise and Microsoft sh...</td>\n",
       "      <td>Reseller News</td>\n",
       "      <td>microsoft</td>\n",
       "      <td>2015-11-22 19:29:17</td>\n",
       "      <td>-0.162902</td>\n",
       "      <td>0</td>\n",
       "      <td>0</td>\n",
       "      <td>8</td>\n",
       "    </tr>\n",
       "    <tr>\n",
       "      <th>26645</th>\n",
       "      <td>Windows becomes premium OS as Microsoft and...</td>\n",
       "      <td>0.171027</td>\n",
       "      <td>4181.0</td>\n",
       "      <td>\"\"\"As the enterprise market becomes increasing...</td>\n",
       "      <td>Reseller News</td>\n",
       "      <td>microsoft</td>\n",
       "      <td>2015-11-23 19:20:17</td>\n",
       "      <td>-0.114909</td>\n",
       "      <td>0</td>\n",
       "      <td>0</td>\n",
       "      <td>3</td>\n",
       "    </tr>\n",
       "    <tr>\n",
       "      <th>26646</th>\n",
       "      <td>Witnessing Palestine with Eve Spangler</td>\n",
       "      <td>0.000000</td>\n",
       "      <td>66008.0</td>\n",
       "      <td>Spangler delivered her lecture, \"\"\"Witnessing ...</td>\n",
       "      <td>The Daily Gazette</td>\n",
       "      <td>palestine</td>\n",
       "      <td>2015-11-15 00:00:00</td>\n",
       "      <td>-0.139754</td>\n",
       "      <td>-1</td>\n",
       "      <td>-1</td>\n",
       "      <td>-1</td>\n",
       "    </tr>\n",
       "    <tr>\n",
       "      <th>26647</th>\n",
       "      <td>Xero partners with Microsoft to enable big ...</td>\n",
       "      <td>0.164931</td>\n",
       "      <td>23443.0</td>\n",
       "      <td>Cloud accounting firm Xero has teamed up with ...</td>\n",
       "      <td>ZDNet</td>\n",
       "      <td>microsoft</td>\n",
       "      <td>2016-02-10 00:40:28</td>\n",
       "      <td>0.073438</td>\n",
       "      <td>19</td>\n",
       "      <td>7</td>\n",
       "      <td>360</td>\n",
       "    </tr>\n",
       "    <tr>\n",
       "      <th>26648</th>\n",
       "      <td>Your Town Friday returns to New Palestine!</td>\n",
       "      <td>-0.055120</td>\n",
       "      <td>101249.0</td>\n",
       "      <td>As the temperatures warm up and the kids are o...</td>\n",
       "      <td>Fox 59</td>\n",
       "      <td>palestine</td>\n",
       "      <td>2016-06-14 13:12:48</td>\n",
       "      <td>0.027272</td>\n",
       "      <td>31</td>\n",
       "      <td>0</td>\n",
       "      <td>0</td>\n",
       "    </tr>\n",
       "    <tr>\n",
       "      <th>26649</th>\n",
       "      <td>‘Baird you are not welcome in Palestine’: Prot...</td>\n",
       "      <td>-0.257694</td>\n",
       "      <td>87747.0</td>\n",
       "      <td>Activists from Palestinian President Mahmoud A...</td>\n",
       "      <td>Vancouver Sun</td>\n",
       "      <td>palestine</td>\n",
       "      <td>2016-03-17 11:22:00</td>\n",
       "      <td>-0.050000</td>\n",
       "      <td>-1</td>\n",
       "      <td>-1</td>\n",
       "      <td>-1</td>\n",
       "    </tr>\n",
       "    <tr>\n",
       "      <th>26650</th>\n",
       "      <td>‘City of Secret’: a labyrinthine plot in post-...</td>\n",
       "      <td>0.000000</td>\n",
       "      <td>91574.0</td>\n",
       "      <td>Stewart O’Nan’s slim but complex novel “City o...</td>\n",
       "      <td>Seattle Times</td>\n",
       "      <td>palestine</td>\n",
       "      <td>2016-04-21 11:05:00</td>\n",
       "      <td>-0.231455</td>\n",
       "      <td>0</td>\n",
       "      <td>0</td>\n",
       "      <td>0</td>\n",
       "    </tr>\n",
       "    <tr>\n",
       "      <th>26651</th>\n",
       "      <td>‘Don’t waste World Cup qualifying chance,’ UAE...</td>\n",
       "      <td>0.175898</td>\n",
       "      <td>62984.0</td>\n",
       "      <td>The UAE have been urged not to waste their cha...</td>\n",
       "      <td>Gulf News via Yahoo Maktoob News</td>\n",
       "      <td>palestine</td>\n",
       "      <td>2015-11-10 22:46:00</td>\n",
       "      <td>-0.254771</td>\n",
       "      <td>-1</td>\n",
       "      <td>-1</td>\n",
       "      <td>-1</td>\n",
       "    </tr>\n",
       "    <tr>\n",
       "      <th>26652</th>\n",
       "      <td>‘Having lived in Dublin all my life, I’m not u...</td>\n",
       "      <td>-0.057354</td>\n",
       "      <td>83496.0</td>\n",
       "      <td>Katie O’Kelly writes about her time in Palesti...</td>\n",
       "      <td>TheJournal.ie via Yahoo UK &amp; Ireland News</td>\n",
       "      <td>palestine</td>\n",
       "      <td>2016-03-11 07:49:00</td>\n",
       "      <td>0.312500</td>\n",
       "      <td>-1</td>\n",
       "      <td>-1</td>\n",
       "      <td>-1</td>\n",
       "    </tr>\n",
       "    <tr>\n",
       "      <th>26653</th>\n",
       "      <td>‘How can you build values of resistance withou...</td>\n",
       "      <td>-0.108253</td>\n",
       "      <td>72343.0</td>\n",
       "      <td>“People in your country know what it means to ...</td>\n",
       "      <td>The Hindu</td>\n",
       "      <td>palestine</td>\n",
       "      <td>2016-01-13 16:43:00</td>\n",
       "      <td>0.024772</td>\n",
       "      <td>0</td>\n",
       "      <td>0</td>\n",
       "      <td>0</td>\n",
       "    </tr>\n",
       "    <tr>\n",
       "      <th>26654</th>\n",
       "      <td>‘I don’t want to help Israelis’: Academic refu...</td>\n",
       "      <td>0.014558</td>\n",
       "      <td>64950.0</td>\n",
       "      <td>Dr. Marsha Levine, a retired researcher Univer...</td>\n",
       "      <td>National Post</td>\n",
       "      <td>palestine</td>\n",
       "      <td>2015-12-02 08:17:00</td>\n",
       "      <td>-0.100678</td>\n",
       "      <td>34</td>\n",
       "      <td>10</td>\n",
       "      <td>3</td>\n",
       "    </tr>\n",
       "    <tr>\n",
       "      <th>26655</th>\n",
       "      <td>‘It’s Palestine, Not Israel,’ Belgian Hotline ...</td>\n",
       "      <td>-0.273245</td>\n",
       "      <td>87155.0</td>\n",
       "      <td>An operator in Belgium’s federal hotline on th...</td>\n",
       "      <td>The Forward</td>\n",
       "      <td>palestine</td>\n",
       "      <td>2016-03-31 04:09:00</td>\n",
       "      <td>-0.135831</td>\n",
       "      <td>22</td>\n",
       "      <td>2</td>\n",
       "      <td>0</td>\n",
       "    </tr>\n",
       "    <tr>\n",
       "      <th>26656</th>\n",
       "      <td>‘I’m an Irishman in the West Bank helping kids...</td>\n",
       "      <td>0.139643</td>\n",
       "      <td>74017.0</td>\n",
       "      <td>Alex Dunne has been in the West Bank for over ...</td>\n",
       "      <td>TheJournal.ie via Yahoo UK &amp; Ireland News</td>\n",
       "      <td>palestine</td>\n",
       "      <td>2016-01-23 03:32:00</td>\n",
       "      <td>0.102062</td>\n",
       "      <td>0</td>\n",
       "      <td>0</td>\n",
       "      <td>0</td>\n",
       "    </tr>\n",
       "    <tr>\n",
       "      <th>26657</th>\n",
       "      <td>‘Jew haters’ spread fear at CUNY colleges</td>\n",
       "      <td>-0.047246</td>\n",
       "      <td>79781.0</td>\n",
       "      <td>Jewish students at four City University of New...</td>\n",
       "      <td>New York Post</td>\n",
       "      <td>palestine</td>\n",
       "      <td>2016-02-23 23:22:00</td>\n",
       "      <td>-0.142249</td>\n",
       "      <td>868</td>\n",
       "      <td>18</td>\n",
       "      <td>2</td>\n",
       "    </tr>\n",
       "    <tr>\n",
       "      <th>26658</th>\n",
       "      <td>‘Order to Kill’: Prominent Rabbi Calls for Poi...</td>\n",
       "      <td>-0.019764</td>\n",
       "      <td>102037.0</td>\n",
       "      <td>The Palestine Liberation Organisation (PLO) ha...</td>\n",
       "      <td>The</td>\n",
       "      <td>palestine</td>\n",
       "      <td>2016-06-19 11:47:00</td>\n",
       "      <td>-0.004410</td>\n",
       "      <td>135</td>\n",
       "      <td>1</td>\n",
       "      <td>0</td>\n",
       "    </tr>\n",
       "    <tr>\n",
       "      <th>26659</th>\n",
       "      <td>‘Palestine’s Call’ for statehood support sent ...</td>\n",
       "      <td>0.069338</td>\n",
       "      <td>100399.0</td>\n",
       "      <td>EVERY TD AND SENATOR in the new Dáil is being ...</td>\n",
       "      <td>An Phoblacht</td>\n",
       "      <td>palestine</td>\n",
       "      <td>2016-06-08 02:04:00</td>\n",
       "      <td>-0.120035</td>\n",
       "      <td>38</td>\n",
       "      <td>0</td>\n",
       "      <td>0</td>\n",
       "    </tr>\n",
       "    <tr>\n",
       "      <th>26660</th>\n",
       "      <td>‘The day Israelis rained bombs on us’</td>\n",
       "      <td>0.091866</td>\n",
       "      <td>88044.0</td>\n",
       "      <td>JEDDAH: Saud bin Badi Al-Ramali, a 90-year-old...</td>\n",
       "      <td>Arab News</td>\n",
       "      <td>palestine</td>\n",
       "      <td>2016-03-21 13:51:00</td>\n",
       "      <td>-0.096806</td>\n",
       "      <td>-1</td>\n",
       "      <td>-1</td>\n",
       "      <td>-1</td>\n",
       "    </tr>\n",
       "    <tr>\n",
       "      <th>26661</th>\n",
       "      <td>‘Unrelenting’ Israeli-Palestinian violence lea...</td>\n",
       "      <td>0.028489</td>\n",
       "      <td>67119.0</td>\n",
       "      <td>Although international attention has waned reg...</td>\n",
       "      <td>United Nations</td>\n",
       "      <td>palestine</td>\n",
       "      <td>2015-12-15 08:17:00</td>\n",
       "      <td>0.080850</td>\n",
       "      <td>1</td>\n",
       "      <td>17</td>\n",
       "      <td>0</td>\n",
       "    </tr>\n",
       "    <tr>\n",
       "      <th>26662</th>\n",
       "      <td>‘We do design cloud solutions for hospitals as...</td>\n",
       "      <td>0.052607</td>\n",
       "      <td>15247.0</td>\n",
       "      <td>Microsoft, in a bid to leverage the opportunit...</td>\n",
       "      <td>The Financial Express via Yahoo! Finance India</td>\n",
       "      <td>microsoft</td>\n",
       "      <td>2016-01-09 08:56:00</td>\n",
       "      <td>0.057232</td>\n",
       "      <td>0</td>\n",
       "      <td>0</td>\n",
       "      <td>0</td>\n",
       "    </tr>\n",
       "    <tr>\n",
       "      <th>26663</th>\n",
       "      <td>“Dialogue” isn’t enough to address the Israel-...</td>\n",
       "      <td>-0.095754</td>\n",
       "      <td>63326.0</td>\n",
       "      <td>The American Anthropological Association has t...</td>\n",
       "      <td>Salon.com</td>\n",
       "      <td>palestine</td>\n",
       "      <td>2015-11-24 05:16:00</td>\n",
       "      <td>-0.179122</td>\n",
       "      <td>116</td>\n",
       "      <td>0</td>\n",
       "      <td>0</td>\n",
       "    </tr>\n",
       "    <tr>\n",
       "      <th>26664</th>\n",
       "      <td>“We Cannot Go There Now My Dear” Shows Plight ...</td>\n",
       "      <td>0.094222</td>\n",
       "      <td>89785.0</td>\n",
       "      <td>On Thursday April 7, the Wesleyan Refugee Proj...</td>\n",
       "      <td>The Wesleyan Argus</td>\n",
       "      <td>palestine</td>\n",
       "      <td>2016-04-11 20:16:00</td>\n",
       "      <td>-0.024835</td>\n",
       "      <td>1</td>\n",
       "      <td>0</td>\n",
       "      <td>0</td>\n",
       "    </tr>\n",
       "  </tbody>\n",
       "</table>\n",
       "<p>26665 rows × 11 columns</p>\n",
       "</div>"
      ],
      "text/plain": [
       "                                                   Title  SentimentTitle  \\\n",
       "0      !8-year-old Palestine woman killed in wreck on...       -0.014657   \n",
       "1      !8-year-old Palestine woman killed in wreck on...       -0.033501   \n",
       "2                                         #14. Palestine        0.000000   \n",
       "3                                          #4. Palestine        0.000000   \n",
       "4      #GivingTuesday Founder 92Y and Founding Partne...       -0.047246   \n",
       "5      #GivingTuesday Founder 92Y and Founding Partne...       -0.064550   \n",
       "6      #Microsoft Corporation's Senior Director of Gl...       -0.028646   \n",
       "7       #Nakba Marked on Twitter on its 68th Anniversary        0.088388   \n",
       "8      #PulseList 2015: Microsoft Bing's top searches...        0.000000   \n",
       "9      #Sphere 3D's (NASDAQ: $ANY) Collaboration with...        0.000000   \n",
       "10                         #dnaEdit: India for Palestine        0.000000   \n",
       "11                                    #microsoft landing        0.000000   \n",
       "12     #shareyourwarmth campaign launched to assist P...        0.070868   \n",
       "13     $159 million in aid to Palestinian Authority b...        0.000000   \n",
       "14     $175 will get you the Microsoft Band 2 from th...       -0.025377   \n",
       "15     $2.8M Microsoft contract for WV schools sparks...       -0.166667   \n",
       "16     $3,000 Microsoft HoloLens dev kit opens for pr...       -0.039528   \n",
       "17     $571 million funding appeal launched to addres...        0.000000   \n",
       "18                          $58.00 donated in past month        0.000000   \n",
       "19     $8,000 Xbox Bill From FIFA Purchases Refunded ...       -0.176777   \n",
       "20     $8000 Xbox Bill From FIFA Purchases Refunded b...       -0.176777   \n",
       "21     &quot; ARRIVE EN PALESTINE DE LA MISSION SIO...        0.000000   \n",
       "22     &quot;Absolutely Not&quot; True That Microsoft...        0.007016   \n",
       "23     &quot;Day of Anger&quot; on next Friday in Occ...        0.075378   \n",
       "24     &quot;Discriminatory&quot; bank shuts Palestin...        0.132583   \n",
       "25             &quot;Economic peace&quot; for Palestine?        0.000000   \n",
       "26     &quot;Hack Productivity&quot; with Office 365 ...       -0.046409   \n",
       "27     &quot;La Palestine deviendrait un autre Etat a...        0.000000   \n",
       "28     &quot;Not True&quot; That Microsoft Will Turn ...       -0.062757   \n",
       "29     &quot;Reel 'Em In&quot; Foundation: Brian Robi...       -0.028296   \n",
       "...                                                  ...             ...   \n",
       "26635  Teachers Could Change The World, Says Pa...        0.018046   \n",
       "26636  The international community must work to en...       -0.014757   \n",
       "26637  Trans-Tasman first as Softsource seals Micr...        0.072917   \n",
       "26638  UAE, Palestine in deal to boost farming rel...        0.088388   \n",
       "26639  VMware, Cisco and Microsoft go-to vendors a...       -0.039528   \n",
       "26640  Vodafone NZ partners with Microsoft OneDriv...        0.000000   \n",
       "26641                  What is Israel supposed to do?        0.000000   \n",
       "26642  Why Microsoft vs. US Govt is a huge deal fo...       -0.234097   \n",
       "26643   Why Microsoft's Xamarin purchase is a blunder       -0.283473   \n",
       "26644  Windows 10 mix hits enterprise as Hewlett P...        0.220971   \n",
       "26645  Windows becomes premium OS as Microsoft and...        0.171027   \n",
       "26646       Witnessing Palestine with Eve Spangler        0.000000   \n",
       "26647  Xero partners with Microsoft to enable big ...        0.164931   \n",
       "26648   Your Town Friday returns to New Palestine!       -0.055120   \n",
       "26649  ‘Baird you are not welcome in Palestine’: Prot...       -0.257694   \n",
       "26650  ‘City of Secret’: a labyrinthine plot in post-...        0.000000   \n",
       "26651  ‘Don’t waste World Cup qualifying chance,’ UAE...        0.175898   \n",
       "26652  ‘Having lived in Dublin all my life, I’m not u...       -0.057354   \n",
       "26653  ‘How can you build values of resistance withou...       -0.108253   \n",
       "26654  ‘I don’t want to help Israelis’: Academic refu...        0.014558   \n",
       "26655  ‘It’s Palestine, Not Israel,’ Belgian Hotline ...       -0.273245   \n",
       "26656  ‘I’m an Irishman in the West Bank helping kids...        0.139643   \n",
       "26657          ‘Jew haters’ spread fear at CUNY colleges       -0.047246   \n",
       "26658  ‘Order to Kill’: Prominent Rabbi Calls for Poi...       -0.019764   \n",
       "26659  ‘Palestine’s Call’ for statehood support sent ...        0.069338   \n",
       "26660              ‘The day Israelis rained bombs on us’        0.091866   \n",
       "26661  ‘Unrelenting’ Israeli-Palestinian violence lea...        0.028489   \n",
       "26662  ‘We do design cloud solutions for hospitals as...        0.052607   \n",
       "26663  “Dialogue” isn’t enough to address the Israel-...       -0.095754   \n",
       "26664  “We Cannot Go There Now My Dear” Shows Plight ...        0.094222   \n",
       "\n",
       "         IDLink                                           Headline  \\\n",
       "0       98543.0  DPS Trooper Jean Dark confirmed that a two-veh...   \n",
       "1       98546.0  An 18-year-old Palestine woman was killed in a...   \n",
       "2      102518.0  In 2014, Palestine received a total of $497,26...   \n",
       "3      100025.0  Palestine. Updated 18 hrs ago; 0 &middot; Pale...   \n",
       "4        5733.0  92nd Street Y (92Y), the nonprofit cultural an...   \n",
       "5        5709.0  92nd Street Y, the nonprofit cultural and comm...   \n",
       "6       59492.0  With over 15 years of corporate security exper...   \n",
       "7       98358.0  Palestinians all over the world mark May 15 as...   \n",
       "8       11875.0  Just as Facebook and Google have both released...   \n",
       "9       15768.0  #Sphere 3D's (NASDAQ: $ANY) Collaboration with...   \n",
       "10      73177.0  Sushma Swaraj stated India's support for Pales...   \n",
       "11      29233.0  #microsoft landing. # microsoft-landing - Toda...   \n",
       "12      66447.0  \"\"\"Palestine refugees face great uncertainty, ...   \n",
       "13      85453.0  Demonstrators take part in a National March on...   \n",
       "14      27677.0  Microsoft's fitness tracking wearable, the Mic...   \n",
       "15      53014.0  \"\"\"Softchoice was determined to have been a Mi...   \n",
       "16      27938.0   Microsoft is giving HoloLens developers a bet...   \n",
       "17      77392.0  Palestinian authorities and the United Nations...   \n",
       "18      77738.0  Welcome to this Week in Palestine, a service o...   \n",
       "19      19466.0  A father had the credit card bill his son rack...   \n",
       "20      19457.0  However, when looking for a refund, Perkins di...   \n",
       "21      73490.0  En avril 1918, le gouvernement britannique d\"\"...   \n",
       "22      28784.0  Following Microsoft's announcement last month ...   \n",
       "23      62395.0  The national and Islamic factions have announc...   \n",
       "24      69265.0  Oxford University's Students' Palestine Societ...   \n",
       "25      86776.0  One of the most persistent and constant themes...   \n",
       "26      16413.0  For some time now, Microsoft has been building...   \n",
       "27      85307.0  Selon Tamim, le r\"\"ve d'un tel Etat ne se r\"\"a...   \n",
       "28      17455.0  The Xbox 360 is more than 10 years old, but Mi...   \n",
       "29      88957.0  Familiar names such as Palestine native Adrian...   \n",
       "...         ...                                                ...   \n",
       "26635   97039.0  The 43-year-old teacher grew up in a Palestini...   \n",
       "26636   90906.0  Statement by the PLO Executive Committee Membe...   \n",
       "26637   29679.0  Softsource has launched its next generation In...   \n",
       "26638   66847.0  He pointed out that the collaboration aims to ...   \n",
       "26639   31149.0  VMware, Cisco and Microsoft top the list of cu...   \n",
       "26640    5771.0  Microsoft OneDrive for Business is now availab...   \n",
       "26641   69599.0  Get the hell out of Palestinian towns, village...   \n",
       "26642     123.0  Microsoft's insistence on safe guarding inform...   \n",
       "26643   27456.0  At long last, Microsoft has bought Xamarin, Th...   \n",
       "26644    3854.0  \"\"\"Hewlett Packard Enterprise and Microsoft sh...   \n",
       "26645    4181.0  \"\"\"As the enterprise market becomes increasing...   \n",
       "26646   66008.0  Spangler delivered her lecture, \"\"\"Witnessing ...   \n",
       "26647   23443.0  Cloud accounting firm Xero has teamed up with ...   \n",
       "26648  101249.0  As the temperatures warm up and the kids are o...   \n",
       "26649   87747.0  Activists from Palestinian President Mahmoud A...   \n",
       "26650   91574.0  Stewart O’Nan’s slim but complex novel “City o...   \n",
       "26651   62984.0  The UAE have been urged not to waste their cha...   \n",
       "26652   83496.0  Katie O’Kelly writes about her time in Palesti...   \n",
       "26653   72343.0  “People in your country know what it means to ...   \n",
       "26654   64950.0  Dr. Marsha Levine, a retired researcher Univer...   \n",
       "26655   87155.0  An operator in Belgium’s federal hotline on th...   \n",
       "26656   74017.0  Alex Dunne has been in the West Bank for over ...   \n",
       "26657   79781.0  Jewish students at four City University of New...   \n",
       "26658  102037.0  The Palestine Liberation Organisation (PLO) ha...   \n",
       "26659  100399.0  EVERY TD AND SENATOR in the new Dáil is being ...   \n",
       "26660   88044.0  JEDDAH: Saud bin Badi Al-Ramali, a 90-year-old...   \n",
       "26661   67119.0  Although international attention has waned reg...   \n",
       "26662   15247.0  Microsoft, in a bid to leverage the opportunit...   \n",
       "26663   63326.0  The American Anthropological Association has t...   \n",
       "26664   89785.0  On Thursday April 7, the Wesleyan Refugee Proj...   \n",
       "\n",
       "                                               Source      Topic  \\\n",
       "0                                KXXV News Channel 25  palestine   \n",
       "1                                        KLTV 7 Tyler  palestine   \n",
       "2                                   Winona Daily News  palestine   \n",
       "3                            Mason City Globe Gazette  palestine   \n",
       "4                                          Stockhouse  microsoft   \n",
       "5                    GlobeNewswire via Yahoo! Finance  microsoft   \n",
       "6                   InvestorIdeas.com (press release)  microsoft   \n",
       "7                                                The   palestine   \n",
       "8                                       Pulse Nigeria  microsoft   \n",
       "9                   InvestorIdeas.com (press release)  microsoft   \n",
       "10                                          DNA India  palestine   \n",
       "11                                      thejournal.ie  microsoft   \n",
       "12                             Palestine News Network  palestine   \n",
       "13                                          Al-Bawaba  palestine   \n",
       "14                                        Phone Arena  microsoft   \n",
       "15             Charleston Gazette-Mail (subscription)  microsoft   \n",
       "16                                           PC World  microsoft   \n",
       "17                                Middle East Monitor  palestine   \n",
       "18                                 Bay Area Indymedia  palestine   \n",
       "19                           GameSpot via Yahoo! News  microsoft   \n",
       "20                                           GameSpot  microsoft   \n",
       "21                                          Mediapart  palestine   \n",
       "22                                           GameSpot  microsoft   \n",
       "23             Ahlul Bayt News Agency (press release)  palestine   \n",
       "24                                    Cherwell Online  palestine   \n",
       "25                                     Open Democracy  palestine   \n",
       "26                                            WinBeta  microsoft   \n",
       "27                                            i24news  palestine   \n",
       "28                           GameSpot via Yahoo! News  microsoft   \n",
       "29                                    Toledo News Now  palestine   \n",
       "...                                               ...        ...   \n",
       "26635                             malaysiandigest.com  palestine   \n",
       "26636                          Palestine News Network  palestine   \n",
       "26637                                   Reseller News  microsoft   \n",
       "26638                                    Trade Arabia  palestine   \n",
       "26639                                   Reseller News  microsoft   \n",
       "26640                       Computerworld New Zealand  microsoft   \n",
       "26641                              Intifada Palestine  palestine   \n",
       "26642                       Computerworld New Zealand  microsoft   \n",
       "26643                                           ZDNet  microsoft   \n",
       "26644                                   Reseller News  microsoft   \n",
       "26645                                   Reseller News  microsoft   \n",
       "26646                               The Daily Gazette  palestine   \n",
       "26647                                           ZDNet  microsoft   \n",
       "26648                                          Fox 59  palestine   \n",
       "26649                                   Vancouver Sun  palestine   \n",
       "26650                                   Seattle Times  palestine   \n",
       "26651                Gulf News via Yahoo Maktoob News  palestine   \n",
       "26652       TheJournal.ie via Yahoo UK & Ireland News  palestine   \n",
       "26653                                       The Hindu  palestine   \n",
       "26654                                   National Post  palestine   \n",
       "26655                                     The Forward  palestine   \n",
       "26656       TheJournal.ie via Yahoo UK & Ireland News  palestine   \n",
       "26657                                   New York Post  palestine   \n",
       "26658                                            The   palestine   \n",
       "26659                                    An Phoblacht  palestine   \n",
       "26660                                       Arab News  palestine   \n",
       "26661                                  United Nations  palestine   \n",
       "26662  The Financial Express via Yahoo! Finance India  microsoft   \n",
       "26663                                       Salon.com  palestine   \n",
       "26664                              The Wesleyan Argus  palestine   \n",
       "\n",
       "               PublishDate  SentimentHeadline  Facebook  GooglePlus  LinkedIn  \n",
       "0      2016-05-27 00:05:35          -0.179148         1           0         0  \n",
       "1      2016-05-26 16:14:00          -0.121528         0           0         0  \n",
       "2      2016-06-17 04:31:48           0.016549         0           0         0  \n",
       "3      2016-06-04 01:55:36           0.129046         0           0         0  \n",
       "4      2015-11-30 20:20:18           0.057354         1           0         0  \n",
       "5      2015-11-30 11:53:00           0.021554         0           0        30  \n",
       "6      2016-06-27 14:40:12          -0.119338        -1           0        43  \n",
       "7      2016-05-16 06:17:00           0.178221        -1          -1        -1  \n",
       "8      2015-12-26 07:10:26          -0.150967         7           1         0  \n",
       "9      2016-01-11 17:00:26          -0.117851         0           0         0  \n",
       "10     2016-01-18 17:32:00          -0.049176         2           0         0  \n",
       "11     2016-03-05 11:18:36           0.023719         0           0         0  \n",
       "12     2015-12-11 07:47:45          -0.341000        19           0         0  \n",
       "13     2016-03-21 00:00:00          -0.193793        16          10         0  \n",
       "14     2016-02-28 18:15:32           0.374228         9          13         1  \n",
       "15     2016-05-31 02:40:11          -0.223607         3           0         0  \n",
       "16     2015-03-01 07:56:00           0.062552        -1          -1        -1  \n",
       "17     2016-02-11 14:17:10          -0.215077        43           0         0  \n",
       "18     2016-02-13 14:56:09          -0.052129         2           0         0  \n",
       "19     2016-01-25 14:43:00          -0.047328         3           0         1  \n",
       "20     2016-01-25 22:44:27          -0.171003       234          18         1  \n",
       "21     2016-01-20 14:05:18          -0.076547         4           0         0  \n",
       "22     2016-03-03 16:19:34           0.075440        68           9         1  \n",
       "23     2015-11-18 00:00:00          -0.093955        -1          -1        -1  \n",
       "24     2015-12-11 00:00:00          -0.054554        -1          -1        -1  \n",
       "25     2016-03-29 22:15:24           0.102062         3           0         0  \n",
       "26     2016-01-13 17:29:26           0.067680         5           5         1  \n",
       "27     2016-03-22 06:55:20          -0.072169        76           1         0  \n",
       "28     2016-01-16 06:02:00           0.160357         0           0         0  \n",
       "29     2016-04-06 15:08:00           0.316912        53           0         0  \n",
       "...                    ...                ...       ...         ...       ...  \n",
       "26635  2016-05-16 00:00:00          -0.068096         0           0         0  \n",
       "26636  2016-04-18 07:55:17          -0.008541        10           0         0  \n",
       "26637  2016-03-07 21:00:39           0.110485         1           0        12  \n",
       "26638  2015-12-14 14:32:46           0.159901         0           0         0  \n",
       "26639  2016-03-13 21:40:41           0.081832         0           0         2  \n",
       "26640  2015-11-30 23:40:18           0.148726         0           0         9  \n",
       "26641  2015-12-30 18:24:48          -0.141923        85          39         1  \n",
       "26642  2015-11-09 18:40:17           0.127578         7           0         7  \n",
       "26643  2016-02-26 21:40:34          -0.060417        28          24       174  \n",
       "26644  2015-11-22 19:29:17          -0.162902         0           0         8  \n",
       "26645  2015-11-23 19:20:17          -0.114909         0           0         3  \n",
       "26646  2015-11-15 00:00:00          -0.139754        -1          -1        -1  \n",
       "26647  2016-02-10 00:40:28           0.073438        19           7       360  \n",
       "26648  2016-06-14 13:12:48           0.027272        31           0         0  \n",
       "26649  2016-03-17 11:22:00          -0.050000        -1          -1        -1  \n",
       "26650  2016-04-21 11:05:00          -0.231455         0           0         0  \n",
       "26651  2015-11-10 22:46:00          -0.254771        -1          -1        -1  \n",
       "26652  2016-03-11 07:49:00           0.312500        -1          -1        -1  \n",
       "26653  2016-01-13 16:43:00           0.024772         0           0         0  \n",
       "26654  2015-12-02 08:17:00          -0.100678        34          10         3  \n",
       "26655  2016-03-31 04:09:00          -0.135831        22           2         0  \n",
       "26656  2016-01-23 03:32:00           0.102062         0           0         0  \n",
       "26657  2016-02-23 23:22:00          -0.142249       868          18         2  \n",
       "26658  2016-06-19 11:47:00          -0.004410       135           1         0  \n",
       "26659  2016-06-08 02:04:00          -0.120035        38           0         0  \n",
       "26660  2016-03-21 13:51:00          -0.096806        -1          -1        -1  \n",
       "26661  2015-12-15 08:17:00           0.080850         1          17         0  \n",
       "26662  2016-01-09 08:56:00           0.057232         0           0         0  \n",
       "26663  2015-11-24 05:16:00          -0.179122       116           0         0  \n",
       "26664  2016-04-11 20:16:00          -0.024835         1           0         0  \n",
       "\n",
       "[26665 rows x 11 columns]"
      ]
     },
     "execution_count": 361,
     "metadata": {},
     "output_type": "execute_result"
    }
   ],
   "source": [
    "max_sen_title"
   ]
  },
  {
   "cell_type": "code",
   "execution_count": 362,
   "metadata": {},
   "outputs": [],
   "source": [
    "ndf=df[(df.Topic=='microsoft')&(df.Facebook>0)&(df.GooglePlus>0)&(df.LinkedIn>0) ]"
   ]
  },
  {
   "cell_type": "code",
   "execution_count": null,
   "metadata": {},
   "outputs": [],
   "source": []
  },
  {
   "cell_type": "code",
   "execution_count": 363,
   "metadata": {},
   "outputs": [
    {
     "data": {
      "image/png": "[encoded data removed]",
      "text/plain": [
       "<Figure size 432x288 with 1 Axes>"
      ]
     },
     "metadata": {
      "needs_background": "light"
     },
     "output_type": "display_data"
    }
   ],
   "source": [
    "ndf.Facebook.plot()\n",
    "plt.show()"
   ]
  },
  {
   "cell_type": "code",
   "execution_count": 364,
   "metadata": {},
   "outputs": [
    {
     "data": {
      "image/png": "[encoded data removed]",
      "text/plain": [
       "<Figure size 432x288 with 1 Axes>"
      ]
     },
     "metadata": {
      "needs_background": "light"
     },
     "output_type": "display_data"
    }
   ],
   "source": [
    "ndf.GooglePlus.plot()\n",
    "plt.show()"
   ]
  },
  {
   "cell_type": "code",
   "execution_count": 365,
   "metadata": {},
   "outputs": [
    {
     "data": {
      "image/png": "[encoded data removed]",
      "text/plain": [
       "<Figure size 432x288 with 1 Axes>"
      ]
     },
     "metadata": {
      "needs_background": "light"
     },
     "output_type": "display_data"
    }
   ],
   "source": [
    "ndf.LinkedIn.plot()\n",
    "plt.show()"
   ]
  },
  {
   "cell_type": "code",
   "execution_count": 366,
   "metadata": {},
   "outputs": [],
   "source": [
    "mdf=df[(df.Topic=='palestine')&(df.Facebook>0)&(df.GooglePlus>0)&(df.LinkedIn>0) ]"
   ]
  },
  {
   "cell_type": "code",
   "execution_count": 367,
   "metadata": {},
   "outputs": [
    {
     "data": {
      "image/png": "[encoded data removed]",
      "text/plain": [
       "<Figure size 432x288 with 1 Axes>"
      ]
     },
     "metadata": {
      "needs_background": "light"
     },
     "output_type": "display_data"
    }
   ],
   "source": [
    "mdf.Facebook.plot()\n",
    "plt.show()"
   ]
  },
  {
   "cell_type": "code",
   "execution_count": 368,
   "metadata": {},
   "outputs": [
    {
     "data": {
      "image/png": "[encoded data removed]",
      "text/plain": [
       "<Figure size 432x288 with 1 Axes>"
      ]
     },
     "metadata": {
      "needs_background": "light"
     },
     "output_type": "display_data"
    }
   ],
   "source": [
    "mdf.GooglePlus.plot()\n",
    "plt.show()"
   ]
  },
  {
   "cell_type": "code",
   "execution_count": 369,
   "metadata": {},
   "outputs": [
    {
     "data": {
      "text/plain": [
       "<matplotlib.axes._subplots.AxesSubplot at 0x1acdbb89518>"
      ]
     },
     "execution_count": 369,
     "metadata": {},
     "output_type": "execute_result"
    },
    {
     "data": {
      "image/png": "[encoded data removed]",
      "text/plain": [
       "<Figure size 432x288 with 1 Axes>"
      ]
     },
     "metadata": {
      "needs_background": "light"
     },
     "output_type": "display_data"
    }
   ],
   "source": [
    "mdf.LinkedIn.plot()"
   ]
  },
  {
   "cell_type": "code",
   "execution_count": 370,
   "metadata": {},
   "outputs": [
    {
     "data": {
      "text/plain": [
       "(array([7.067e+03, 1.300e+01, 1.000e+00, 0.000e+00, 1.000e+00, 0.000e+00,\n",
       "        1.000e+00, 0.000e+00, 0.000e+00, 1.000e+00]),\n",
       " array([1.00000e+00, 2.23550e+03, 4.47000e+03, 6.70450e+03, 8.93900e+03,\n",
       "        1.11735e+04, 1.34080e+04, 1.56425e+04, 1.78770e+04, 2.01115e+04,\n",
       "        2.23460e+04]),\n",
       " <a list of 10 Patch objects>)"
      ]
     },
     "execution_count": 370,
     "metadata": {},
     "output_type": "execute_result"
    },
    {
     "data": {
      "image/png": "[encoded data removed]",
      "text/plain": [
       "<Figure size 432x288 with 1 Axes>"
      ]
     },
     "metadata": {
      "needs_background": "light"
     },
     "output_type": "display_data"
    }
   ],
   "source": [
    "import matplotlib.pyplot as plt\n",
    "plt.hist(ndf.Facebook, bins=10)"
   ]
  },
  {
   "cell_type": "code",
   "execution_count": 371,
   "metadata": {},
   "outputs": [
    {
     "data": {
      "text/plain": [
       "(array([6.973e+03, 6.700e+01, 2.800e+01, 4.000e+00, 7.000e+00, 1.000e+00,\n",
       "        0.000e+00, 1.000e+00, 0.000e+00, 3.000e+00]),\n",
       " array([1.000e+00, 1.025e+02, 2.040e+02, 3.055e+02, 4.070e+02, 5.085e+02,\n",
       "        6.100e+02, 7.115e+02, 8.130e+02, 9.145e+02, 1.016e+03]),\n",
       " <a list of 10 Patch objects>)"
      ]
     },
     "execution_count": 371,
     "metadata": {},
     "output_type": "execute_result"
    },
    {
     "data": {
      "image/png": "[encoded data removed]",
      "text/plain": [
       "<Figure size 432x288 with 1 Axes>"
      ]
     },
     "metadata": {
      "needs_background": "light"
     },
     "output_type": "display_data"
    }
   ],
   "source": [
    "\n",
    "plt.hist(ndf.GooglePlus, bins=10)"
   ]
  },
  {
   "cell_type": "code",
   "execution_count": 372,
   "metadata": {},
   "outputs": [
    {
     "data": {
      "text/plain": [
       "(array([6.821e+03, 1.820e+02, 4.400e+01, 2.300e+01, 9.000e+00, 2.000e+00,\n",
       "        0.000e+00, 1.000e+00, 1.000e+00, 1.000e+00]),\n",
       " array([1.0000e+00, 3.6610e+02, 7.3120e+02, 1.0963e+03, 1.4614e+03,\n",
       "        1.8265e+03, 2.1916e+03, 2.5567e+03, 2.9218e+03, 3.2869e+03,\n",
       "        3.6520e+03]),\n",
       " <a list of 10 Patch objects>)"
      ]
     },
     "execution_count": 372,
     "metadata": {},
     "output_type": "execute_result"
    },
    {
     "data": {
      "image/png": "[encoded data removed]",
      "text/plain": [
       "<Figure size 432x288 with 1 Axes>"
      ]
     },
     "metadata": {
      "needs_background": "light"
     },
     "output_type": "display_data"
    }
   ],
   "source": [
    "\n",
    "plt.hist(ndf.LinkedIn, bins=10)"
   ]
  },
  {
   "cell_type": "code",
   "execution_count": 373,
   "metadata": {},
   "outputs": [
    {
     "data": {
      "text/plain": [
       "(array([731.,   4.,   0.,   0.,   0.,   0.,   0.,   0.,   0.,   1.]),\n",
       " array([  1. ,  99.2, 197.4, 295.6, 393.8, 492. , 590.2, 688.4, 786.6,\n",
       "        884.8, 983. ]),\n",
       " <a list of 10 Patch objects>)"
      ]
     },
     "execution_count": 373,
     "metadata": {},
     "output_type": "execute_result"
    },
    {
     "data": {
      "image/png": "[encoded data removed]",
      "text/plain": [
       "<Figure size 432x288 with 1 Axes>"
      ]
     },
     "metadata": {
      "needs_background": "light"
     },
     "output_type": "display_data"
    }
   ],
   "source": [
    "\n",
    "plt.hist(mdf.LinkedIn, bins=10)"
   ]
  },
  {
   "cell_type": "code",
   "execution_count": 374,
   "metadata": {},
   "outputs": [
    {
     "data": {
      "text/plain": [
       "(array([698.,  26.,   3.,   3.,   2.,   2.,   1.,   0.,   0.,   1.]),\n",
       " array([1.00000e+00, 1.31550e+03, 2.63000e+03, 3.94450e+03, 5.25900e+03,\n",
       "        6.57350e+03, 7.88800e+03, 9.20250e+03, 1.05170e+04, 1.18315e+04,\n",
       "        1.31460e+04]),\n",
       " <a list of 10 Patch objects>)"
      ]
     },
     "execution_count": 374,
     "metadata": {},
     "output_type": "execute_result"
    },
    {
     "data": {
      "image/png": "[encoded data removed]",
      "text/plain": [
       "<Figure size 432x288 with 1 Axes>"
      ]
     },
     "metadata": {
      "needs_background": "light"
     },
     "output_type": "display_data"
    }
   ],
   "source": [
    "\n",
    "plt.hist(mdf.Facebook, bins=10)"
   ]
  },
  {
   "cell_type": "code",
   "execution_count": 375,
   "metadata": {},
   "outputs": [
    {
     "data": {
      "text/plain": [
       "(array([681.,  40.,   8.,   2.,   1.,   2.,   1.,   0.,   0.,   1.]),\n",
       " array([  1. ,  40.1,  79.2, 118.3, 157.4, 196.5, 235.6, 274.7, 313.8,\n",
       "        352.9, 392. ]),\n",
       " <a list of 10 Patch objects>)"
      ]
     },
     "execution_count": 375,
     "metadata": {},
     "output_type": "execute_result"
    },
    {
     "data": {
      "image/png": "[encoded data removed]",
      "text/plain": [
       "<Figure size 432x288 with 1 Axes>"
      ]
     },
     "metadata": {
      "needs_background": "light"
     },
     "output_type": "display_data"
    }
   ],
   "source": [
    "\n",
    "plt.hist(mdf.GooglePlus, bins=10)"
   ]
  },
  {
   "cell_type": "markdown",
   "metadata": {},
   "source": [
    "#### High to Low SentimentTitle score based on Source"
   ]
  },
  {
   "cell_type": "code",
   "execution_count": null,
   "metadata": {},
   "outputs": [],
   "source": []
  },
  {
   "cell_type": "code",
   "execution_count": 376,
   "metadata": {},
   "outputs": [
    {
     "data": {
      "text/html": [
       "<div>\n",
       "<style scoped>\n",
       "    .dataframe tbody tr th:only-of-type {\n",
       "        vertical-align: middle;\n",
       "    }\n",
       "\n",
       "    .dataframe tbody tr th {\n",
       "        vertical-align: top;\n",
       "    }\n",
       "\n",
       "    .dataframe thead th {\n",
       "        text-align: right;\n",
       "    }\n",
       "</style>\n",
       "<table border=\"1\" class=\"dataframe\">\n",
       "  <thead>\n",
       "    <tr style=\"text-align: right;\">\n",
       "      <th></th>\n",
       "      <th>SentimentTitle</th>\n",
       "    </tr>\n",
       "    <tr>\n",
       "      <th>Source</th>\n",
       "      <th></th>\n",
       "    </tr>\n",
       "  </thead>\n",
       "  <tbody>\n",
       "    <tr>\n",
       "      <th>Yahoo Tech via Yahoo! News</th>\n",
       "      <td>0.714610</td>\n",
       "    </tr>\n",
       "    <tr>\n",
       "      <th>Focus News</th>\n",
       "      <td>0.500000</td>\n",
       "    </tr>\n",
       "    <tr>\n",
       "      <th>ChinaTopix</th>\n",
       "      <td>0.474342</td>\n",
       "    </tr>\n",
       "    <tr>\n",
       "      <th>Mensquare</th>\n",
       "      <td>0.395292</td>\n",
       "    </tr>\n",
       "    <tr>\n",
       "      <th>4k</th>\n",
       "      <td>0.376889</td>\n",
       "    </tr>\n",
       "  </tbody>\n",
       "</table>\n",
       "</div>"
      ],
      "text/plain": [
       "                            SentimentTitle\n",
       "Source                                    \n",
       "Yahoo Tech via Yahoo! News        0.714610\n",
       "Focus News                        0.500000\n",
       "ChinaTopix                        0.474342\n",
       "Mensquare                         0.395292\n",
       "4k                                0.376889"
      ]
     },
     "execution_count": 376,
     "metadata": {},
     "output_type": "execute_result"
    }
   ],
   "source": [
    "df[['Source','SentimentTitle']].groupby('Source').agg('median').sort_values(by='SentimentTitle',ascending=False).head()"
   ]
  },
  {
   "cell_type": "code",
   "execution_count": 377,
   "metadata": {},
   "outputs": [
    {
     "data": {
      "text/html": [
       "<div>\n",
       "<style scoped>\n",
       "    .dataframe tbody tr th:only-of-type {\n",
       "        vertical-align: middle;\n",
       "    }\n",
       "\n",
       "    .dataframe tbody tr th {\n",
       "        vertical-align: top;\n",
       "    }\n",
       "\n",
       "    .dataframe thead th {\n",
       "        text-align: right;\n",
       "    }\n",
       "</style>\n",
       "<table border=\"1\" class=\"dataframe\">\n",
       "  <thead>\n",
       "    <tr style=\"text-align: right;\">\n",
       "      <th></th>\n",
       "      <th>SentimentTitle</th>\n",
       "      <th>SentimentHeadline</th>\n",
       "    </tr>\n",
       "    <tr>\n",
       "      <th>Topic</th>\n",
       "      <th></th>\n",
       "      <th></th>\n",
       "    </tr>\n",
       "  </thead>\n",
       "  <tbody>\n",
       "    <tr>\n",
       "      <th>microsoft</th>\n",
       "      <td>0.002363</td>\n",
       "      <td>-0.014745</td>\n",
       "    </tr>\n",
       "    <tr>\n",
       "      <th>palestine</th>\n",
       "      <td>-0.020081</td>\n",
       "      <td>-0.044500</td>\n",
       "    </tr>\n",
       "  </tbody>\n",
       "</table>\n",
       "</div>"
      ],
      "text/plain": [
       "           SentimentTitle  SentimentHeadline\n",
       "Topic                                       \n",
       "microsoft        0.002363          -0.014745\n",
       "palestine       -0.020081          -0.044500"
      ]
     },
     "execution_count": 377,
     "metadata": {},
     "output_type": "execute_result"
    }
   ],
   "source": [
    "df[['Topic','SentimentTitle','SentimentHeadline']].groupby('Topic').agg('mean').sort_values(by='SentimentTitle',ascending=False)"
   ]
  },
  {
   "cell_type": "markdown",
   "metadata": {},
   "source": [
    "#### Convert Published Date to Datetime"
   ]
  },
  {
   "cell_type": "code",
   "execution_count": 378,
   "metadata": {},
   "outputs": [],
   "source": [
    "df['Date'] = pd.to_datetime(df['PublishDate'])"
   ]
  },
  {
   "cell_type": "code",
   "execution_count": 379,
   "metadata": {},
   "outputs": [
    {
     "data": {
      "text/plain": [
       "(Timestamp('2015-03-01 00:19:00'), Timestamp('2016-07-07 16:16:11'))"
      ]
     },
     "execution_count": 379,
     "metadata": {},
     "output_type": "execute_result"
    }
   ],
   "source": [
    "df['Date'].min(),df['Date'].max()"
   ]
  },
  {
   "cell_type": "code",
   "execution_count": 380,
   "metadata": {},
   "outputs": [],
   "source": [
    "df['month'] = df['Date'].dt.month\n",
    "df['day'] = df['Date'].dt.day\n",
    "df['year'] = df['Date'].dt.year\n",
    "df['month_name'] = df['Date'].dt.strftime('%b')\n",
    "df['weekday'] = df['Date'].dt.strftime('%A')"
   ]
  },
  {
   "cell_type": "markdown",
   "metadata": {},
   "source": [
    "#### Monday is having the Highest number of News Published"
   ]
  },
  {
   "cell_type": "code",
   "execution_count": 381,
   "metadata": {},
   "outputs": [
    {
     "data": {
      "text/plain": [
       "Monday       5671\n",
       "Tuesday      5638\n",
       "Wednesday    5421\n",
       "Thursday     5126\n",
       "Friday       4287\n",
       "Sunday       2320\n",
       "Saturday     2234\n",
       "Name: weekday, dtype: int64"
      ]
     },
     "execution_count": 381,
     "metadata": {},
     "output_type": "execute_result"
    }
   ],
   "source": [
    "df.weekday.value_counts()"
   ]
  },
  {
   "cell_type": "markdown",
   "metadata": {},
   "source": [
    "#### March is having the Highest number of News Published, while it is coming 2 times in 2015 and 2016. "
   ]
  },
  {
   "cell_type": "code",
   "execution_count": 382,
   "metadata": {},
   "outputs": [
    {
     "data": {
      "text/plain": [
       "Mar    4282\n",
       "Jan    4210\n",
       "Dec    3857\n",
       "May    3678\n",
       "Jun    3639\n",
       "Apr    3597\n",
       "Feb    3510\n",
       "Nov    3021\n",
       "Jul     680\n",
       "Oct     219\n",
       "Sep       3\n",
       "Aug       1\n",
       "Name: month_name, dtype: int64"
      ]
     },
     "execution_count": 382,
     "metadata": {},
     "output_type": "execute_result"
    }
   ],
   "source": [
    "df.month_name.value_counts()"
   ]
  },
  {
   "cell_type": "markdown",
   "metadata": {},
   "source": [
    "#### News published based on Month and Topic "
   ]
  },
  {
   "cell_type": "code",
   "execution_count": 383,
   "metadata": {},
   "outputs": [
    {
     "data": {
      "text/html": [
       "<div>\n",
       "<style scoped>\n",
       "    .dataframe tbody tr th:only-of-type {\n",
       "        vertical-align: middle;\n",
       "    }\n",
       "\n",
       "    .dataframe tbody tr th {\n",
       "        vertical-align: top;\n",
       "    }\n",
       "\n",
       "    .dataframe thead th {\n",
       "        text-align: right;\n",
       "    }\n",
       "</style>\n",
       "<table border=\"1\" class=\"dataframe\">\n",
       "  <thead>\n",
       "    <tr style=\"text-align: right;\">\n",
       "      <th></th>\n",
       "      <th></th>\n",
       "      <th>IDLink</th>\n",
       "    </tr>\n",
       "    <tr>\n",
       "      <th>month_name</th>\n",
       "      <th>Topic</th>\n",
       "      <th></th>\n",
       "    </tr>\n",
       "  </thead>\n",
       "  <tbody>\n",
       "    <tr>\n",
       "      <th>Mar</th>\n",
       "      <th>microsoft</th>\n",
       "      <td>3027</td>\n",
       "    </tr>\n",
       "    <tr>\n",
       "      <th>Jan</th>\n",
       "      <th>microsoft</th>\n",
       "      <td>2864</td>\n",
       "    </tr>\n",
       "    <tr>\n",
       "      <th>May</th>\n",
       "      <th>microsoft</th>\n",
       "      <td>2719</td>\n",
       "    </tr>\n",
       "    <tr>\n",
       "      <th>Jun</th>\n",
       "      <th>microsoft</th>\n",
       "      <td>2703</td>\n",
       "    </tr>\n",
       "    <tr>\n",
       "      <th>Dec</th>\n",
       "      <th>microsoft</th>\n",
       "      <td>2664</td>\n",
       "    </tr>\n",
       "    <tr>\n",
       "      <th>Apr</th>\n",
       "      <th>microsoft</th>\n",
       "      <td>2609</td>\n",
       "    </tr>\n",
       "    <tr>\n",
       "      <th>Feb</th>\n",
       "      <th>microsoft</th>\n",
       "      <td>2396</td>\n",
       "    </tr>\n",
       "    <tr>\n",
       "      <th>Nov</th>\n",
       "      <th>microsoft</th>\n",
       "      <td>2259</td>\n",
       "    </tr>\n",
       "    <tr>\n",
       "      <th>Jan</th>\n",
       "      <th>palestine</th>\n",
       "      <td>1346</td>\n",
       "    </tr>\n",
       "    <tr>\n",
       "      <th>Mar</th>\n",
       "      <th>palestine</th>\n",
       "      <td>1255</td>\n",
       "    </tr>\n",
       "    <tr>\n",
       "      <th>Dec</th>\n",
       "      <th>palestine</th>\n",
       "      <td>1193</td>\n",
       "    </tr>\n",
       "    <tr>\n",
       "      <th>Feb</th>\n",
       "      <th>palestine</th>\n",
       "      <td>1114</td>\n",
       "    </tr>\n",
       "    <tr>\n",
       "      <th>Apr</th>\n",
       "      <th>palestine</th>\n",
       "      <td>988</td>\n",
       "    </tr>\n",
       "    <tr>\n",
       "      <th>May</th>\n",
       "      <th>palestine</th>\n",
       "      <td>959</td>\n",
       "    </tr>\n",
       "    <tr>\n",
       "      <th>Jun</th>\n",
       "      <th>palestine</th>\n",
       "      <td>936</td>\n",
       "    </tr>\n",
       "    <tr>\n",
       "      <th>Nov</th>\n",
       "      <th>palestine</th>\n",
       "      <td>762</td>\n",
       "    </tr>\n",
       "    <tr>\n",
       "      <th rowspan=\"2\" valign=\"top\">Jul</th>\n",
       "      <th>microsoft</th>\n",
       "      <td>492</td>\n",
       "    </tr>\n",
       "    <tr>\n",
       "      <th>palestine</th>\n",
       "      <td>188</td>\n",
       "    </tr>\n",
       "    <tr>\n",
       "      <th rowspan=\"2\" valign=\"top\">Oct</th>\n",
       "      <th>microsoft</th>\n",
       "      <td>123</td>\n",
       "    </tr>\n",
       "    <tr>\n",
       "      <th>palestine</th>\n",
       "      <td>96</td>\n",
       "    </tr>\n",
       "    <tr>\n",
       "      <th>Sep</th>\n",
       "      <th>palestine</th>\n",
       "      <td>3</td>\n",
       "    </tr>\n",
       "    <tr>\n",
       "      <th>Aug</th>\n",
       "      <th>microsoft</th>\n",
       "      <td>1</td>\n",
       "    </tr>\n",
       "  </tbody>\n",
       "</table>\n",
       "</div>"
      ],
      "text/plain": [
       "                      IDLink\n",
       "month_name Topic            \n",
       "Mar        microsoft    3027\n",
       "Jan        microsoft    2864\n",
       "May        microsoft    2719\n",
       "Jun        microsoft    2703\n",
       "Dec        microsoft    2664\n",
       "Apr        microsoft    2609\n",
       "Feb        microsoft    2396\n",
       "Nov        microsoft    2259\n",
       "Jan        palestine    1346\n",
       "Mar        palestine    1255\n",
       "Dec        palestine    1193\n",
       "Feb        palestine    1114\n",
       "Apr        palestine     988\n",
       "May        palestine     959\n",
       "Jun        palestine     936\n",
       "Nov        palestine     762\n",
       "Jul        microsoft     492\n",
       "           palestine     188\n",
       "Oct        microsoft     123\n",
       "           palestine      96\n",
       "Sep        palestine       3\n",
       "Aug        microsoft       1"
      ]
     },
     "execution_count": 383,
     "metadata": {},
     "output_type": "execute_result"
    }
   ],
   "source": [
    "df[['month_name','Topic','IDLink']].groupby(['month_name','Topic']).agg('count').sort_values(by='IDLink',ascending=False)"
   ]
  },
  {
   "cell_type": "code",
   "execution_count": 384,
   "metadata": {},
   "outputs": [
    {
     "data": {
      "text/plain": [
       " 0    15924\n",
       " 1     3590\n",
       "-1     2690\n",
       " 2     1980\n",
       " 3     1257\n",
       "Name: GooglePlus, dtype: int64"
      ]
     },
     "execution_count": 384,
     "metadata": {},
     "output_type": "execute_result"
    }
   ],
   "source": [
    "df['GooglePlus'].value_counts().head()"
   ]
  },
  {
   "cell_type": "code",
   "execution_count": 385,
   "metadata": {},
   "outputs": [
    {
     "data": {
      "text/plain": [
       " 0    15356\n",
       "-1     2690\n",
       " 1     2295\n",
       " 2     1140\n",
       " 3      778\n",
       "Name: LinkedIn, dtype: int64"
      ]
     },
     "execution_count": 385,
     "metadata": {},
     "output_type": "execute_result"
    }
   ],
   "source": [
    "df['LinkedIn'].value_counts().head()"
   ]
  },
  {
   "cell_type": "code",
   "execution_count": 386,
   "metadata": {},
   "outputs": [
    {
     "data": {
      "text/plain": [
       " 0    6388\n",
       "-1    5037\n",
       " 1    2260\n",
       " 2    1667\n",
       " 3    1330\n",
       "Name: Facebook, dtype: int64"
      ]
     },
     "execution_count": 386,
     "metadata": {},
     "output_type": "execute_result"
    }
   ],
   "source": [
    "df['Facebook'].value_counts().head()"
   ]
  },
  {
   "cell_type": "code",
   "execution_count": 387,
   "metadata": {},
   "outputs": [],
   "source": [
    "df.PublishDate = df.PublishDate.astype('datetime64[ns]')"
   ]
  },
  {
   "cell_type": "code",
   "execution_count": 388,
   "metadata": {},
   "outputs": [
    {
     "data": {
      "text/plain": [
       "IDLink                      float64\n",
       "Title                        object\n",
       "Headline                     object\n",
       "Source                       object\n",
       "Topic                        object\n",
       "PublishDate          datetime64[ns]\n",
       "SentimentTitle              float64\n",
       "SentimentHeadline           float64\n",
       "Facebook                      int64\n",
       "GooglePlus                    int64\n",
       "LinkedIn                      int64\n",
       "Date                 datetime64[ns]\n",
       "month                         int64\n",
       "day                           int64\n",
       "year                          int64\n",
       "month_name                   object\n",
       "weekday                      object\n",
       "dtype: object"
      ]
     },
     "execution_count": 388,
     "metadata": {},
     "output_type": "execute_result"
    }
   ],
   "source": [
    "df.dtypes"
   ]
  },
  {
   "cell_type": "code",
   "execution_count": 389,
   "metadata": {},
   "outputs": [],
   "source": [
    "x=df.iloc[:,[6,7]]\n",
    "y=df.Facebook"
   ]
  },
  {
   "cell_type": "code",
   "execution_count": 390,
   "metadata": {},
   "outputs": [],
   "source": [
    "from sklearn.linear_model import LinearRegression\n",
    "from sklearn.model_selection import train_test_split"
   ]
  },
  {
   "cell_type": "code",
   "execution_count": 391,
   "metadata": {},
   "outputs": [
    {
     "name": "stderr",
     "output_type": "stream",
     "text": [
      "C:\\Users\\lenovo\\Anaconda3\\lib\\site-packages\\sklearn\\model_selection\\_split.py:2179: FutureWarning: From version 0.21, test_size will always complement train_size unless both are specified.\n",
      "  FutureWarning)\n"
     ]
    }
   ],
   "source": [
    "x_train,x_test,y_train,y_test=train_test_split(x,y,train_size=0.7,random_state=1)"
   ]
  },
  {
   "cell_type": "code",
   "execution_count": null,
   "metadata": {},
   "outputs": [],
   "source": []
  },
  {
   "cell_type": "code",
   "execution_count": 392,
   "metadata": {},
   "outputs": [
    {
     "data": {
      "text/plain": [
       "-0.00015967209599554444"
      ]
     },
     "execution_count": 392,
     "metadata": {},
     "output_type": "execute_result"
    }
   ],
   "source": [
    "lrmodel=LinearRegression()\n",
    "lrmodel.fit(x_train,y_train)\n",
    "lrmodel.score(x_test,y_test)\n"
   ]
  },
  {
   "cell_type": "markdown",
   "metadata": {},
   "source": [
    "#### Making of wordCloud from Title"
   ]
  },
  {
   "cell_type": "code",
   "execution_count": 393,
   "metadata": {},
   "outputs": [
    {
     "data": {
      "text/plain": [
       "<matplotlib.image.AxesImage at 0x1ac82427278>"
      ]
     },
     "execution_count": 393,
     "metadata": {},
     "output_type": "execute_result"
    },
    {
     "data": {
      "image/png": "[encoded data removed]",
      "text/plain": [
       "<Figure size 864x432 with 1 Axes>"
      ]
     },
     "metadata": {
      "needs_background": "light"
     },
     "output_type": "display_data"
    }
   ],
   "source": [
    "import nltk\n",
    "from wordcloud import WordCloud\n",
    "stopwords = nltk.corpus.stopwords.words('english')\n",
    "stopwords\n",
    "plt.figure(figsize=(12,6))\n",
    "text = ' '.join(df.Title[df['Topic']=='palestine'])\n",
    "wc = WordCloud(background_color='white',stopwords=stopwords).generate(text)\n",
    "plt.imshow(wc)"
   ]
  },
  {
   "cell_type": "code",
   "execution_count": 394,
   "metadata": {},
   "outputs": [
    {
     "data": {
      "text/plain": [
       "<matplotlib.image.AxesImage at 0x1ac832947f0>"
      ]
     },
     "execution_count": 394,
     "metadata": {},
     "output_type": "execute_result"
    },
    {
     "data": {
      "image/png": "[encoded data removed]",
      "text/plain": [
       "<Figure size 864x432 with 1 Axes>"
      ]
     },
     "metadata": {
      "needs_background": "light"
     },
     "output_type": "display_data"
    }
   ],
   "source": [
    "plt.figure(figsize=(12,6))\n",
    "text = ' '.join(df.Title[df['Topic']=='microsoft'])\n",
    "wc = WordCloud(background_color='white',stopwords=stopwords).generate(text)\n",
    "plt.imshow(wc)"
   ]
  },
  {
   "cell_type": "code",
   "execution_count": 395,
   "metadata": {},
   "outputs": [
    {
     "data": {
      "text/plain": [
       "IDLink                      float64\n",
       "Title                        object\n",
       "Headline                     object\n",
       "Source                       object\n",
       "Topic                        object\n",
       "PublishDate          datetime64[ns]\n",
       "SentimentTitle              float64\n",
       "SentimentHeadline           float64\n",
       "Facebook                      int64\n",
       "GooglePlus                    int64\n",
       "LinkedIn                      int64\n",
       "Date                 datetime64[ns]\n",
       "month                         int64\n",
       "day                           int64\n",
       "year                          int64\n",
       "month_name                   object\n",
       "weekday                      object\n",
       "dtype: object"
      ]
     },
     "execution_count": 395,
     "metadata": {},
     "output_type": "execute_result"
    }
   ],
   "source": [
    "df.dtypes"
   ]
  },
  {
   "cell_type": "code",
   "execution_count": 396,
   "metadata": {},
   "outputs": [],
   "source": [
    "df.Headline = df.Headline.apply(str)"
   ]
  },
  {
   "cell_type": "code",
   "execution_count": 397,
   "metadata": {},
   "outputs": [
    {
     "data": {
      "text/plain": [
       "5      attende expect see latest version microsoft d...\n",
       "6     ramallah februari   wafa  palestin liber organ...\n",
       "8     hancock counti man lost barn earli monday morn...\n",
       "9     new delhi feb  technolog giant microsoft targe...\n",
       "10    microsoft may burn one bridg still build diffe...\n",
       "Name: Headline, dtype: object"
      ]
     },
     "execution_count": 397,
     "metadata": {},
     "output_type": "execute_result"
    }
   ],
   "source": [
    "docs = df['Headline'].str.lower().str.replace('[^a-z@# ]','')\n",
    "stopwords = nltk.corpus.stopwords.words('english')\n",
    "#stopwords.extend(['amp','rt'])\n",
    "stemmer = nltk.stem.PorterStemmer()\n",
    "\n",
    "def clean_sentence(text):\n",
    "    words = text.split(' ')\n",
    "    words_clean = [stemmer.stem(w) for w in words if w not in stopwords]\n",
    "    return ' '.join(words_clean)\n",
    "docs_clean = docs.apply(clean_sentence)\n",
    "docs_clean.head()"
   ]
  },
  {
   "cell_type": "code",
   "execution_count": 398,
   "metadata": {},
   "outputs": [
    {
     "data": {
      "text/plain": [
       "IDLink                      float64\n",
       "Title                        object\n",
       "Headline                     object\n",
       "Source                       object\n",
       "Topic                        object\n",
       "PublishDate          datetime64[ns]\n",
       "SentimentTitle              float64\n",
       "SentimentHeadline           float64\n",
       "Facebook                      int64\n",
       "GooglePlus                    int64\n",
       "LinkedIn                      int64\n",
       "Date                 datetime64[ns]\n",
       "month                         int64\n",
       "day                           int64\n",
       "year                          int64\n",
       "month_name                   object\n",
       "weekday                      object\n",
       "dtype: object"
      ]
     },
     "execution_count": 398,
     "metadata": {},
     "output_type": "execute_result"
    }
   ],
   "source": [
    "df.dtypes"
   ]
  },
  {
   "cell_type": "code",
   "execution_count": null,
   "metadata": {},
   "outputs": [],
   "source": []
  },
  {
   "cell_type": "code",
   "execution_count": null,
   "metadata": {},
   "outputs": [],
   "source": []
  },
  {
   "cell_type": "code",
   "execution_count": 399,
   "metadata": {},
   "outputs": [
    {
     "data": {
      "text/plain": [
       "<matplotlib.image.AxesImage at 0x1ace4157a20>"
      ]
     },
     "execution_count": 399,
     "metadata": {},
     "output_type": "execute_result"
    },
    {
     "data": {
      "image/png": "[encoded data removed]",
      "text/plain": [
       "<Figure size 432x288 with 1 Axes>"
      ]
     },
     "metadata": {
      "needs_background": "light"
     },
     "output_type": "display_data"
    }
   ],
   "source": [
    "text = ' '.join(df['Headline'])\n",
    "wc = WordCloud(background_color='white').generate(text)\n",
    "plt.imshow(wc)"
   ]
  },
  {
   "cell_type": "code",
   "execution_count": 401,
   "metadata": {},
   "outputs": [],
   "source": [
    "from nltk.stem import WordNetLemmatizer \n",
    "  \n",
    "lemmatizer = WordNetLemmatizer() "
   ]
  },
  {
   "cell_type": "code",
   "execution_count": 431,
   "metadata": {},
   "outputs": [
    {
     "data": {
      "text/plain": [
       "5      attendee expected see latest version dynamic ...\n",
       "9     delhi feb  technology giant targeted rival app...\n",
       "10    may burned bridge still building different per...\n",
       "11    platform battle back mwc analysis two parallel...\n",
       "14    ar headset made available developer along thre...\n",
       "Name: Headline, dtype: object"
      ]
     },
     "execution_count": 431,
     "metadata": {},
     "output_type": "execute_result"
    }
   ],
   "source": [
    "ndf1=df[df['Topic']=='microsoft']\n",
    "docs = ndf1['Headline'].str.lower().str.replace('[^a-z@# ]','')\n",
    "stopwords = nltk.corpus.stopwords.words('english')\n",
    "stopwords.extend(['amp','rt','microsoft','new','today','busi','use','said','year','one','week','microsofts'])\n",
    "#stemmer = nltk.stem.PorterStemmer()\n",
    "\n",
    "def clean_sentence(text):\n",
    "    words = text.split(' ')\n",
    "    words_clean = [lemmatizer.lemmatize(w) for w in words if w not in stopwords]\n",
    "    return ' '.join(words_clean)\n",
    "docs_clean = docs.apply(clean_sentence)\n",
    "docs_clean.head()"
   ]
  },
  {
   "cell_type": "code",
   "execution_count": 432,
   "metadata": {},
   "outputs": [],
   "source": [
    "from sklearn.feature_extraction.text import CountVectorizer\n",
    "\n",
    "vectorizer = CountVectorizer(min_df=4, ngram_range=(1,1)) \n",
    "# min frequency for a term to appear, ngram is for specifing uni,bigram, inside brackets of ngram range the value is unigram, bigram, tri etc\n",
    "vectorizer.fit(docs_clean)\n",
    "dtm=vectorizer.transform(docs_clean)\n"
   ]
  },
  {
   "cell_type": "code",
   "execution_count": 433,
   "metadata": {},
   "outputs": [
    {
     "data": {
      "text/plain": [
       "99.81330420217844"
      ]
     },
     "execution_count": 433,
     "metadata": {},
     "output_type": "execute_result"
    }
   ],
   "source": [
    "nrows = dtm.shape[0]\n",
    "ncols = dtm.shape[1]\n",
    "total_values = nrows * ncols\n",
    "sparsity = (total_values - dtm.size)/total_values*100\n",
    "sparsity"
   ]
  },
  {
   "cell_type": "code",
   "execution_count": 434,
   "metadata": {},
   "outputs": [],
   "source": [
    "df_dtm= pd.DataFrame(dtm.toarray(),columns=vectorizer.get_feature_names())\n"
   ]
  },
  {
   "cell_type": "code",
   "execution_count": null,
   "metadata": {},
   "outputs": [],
   "source": []
  },
  {
   "cell_type": "code",
   "execution_count": 435,
   "metadata": {},
   "outputs": [
    {
     "data": {
      "image/png": "[encoded data removed]",
      "text/plain": [
       "<Figure size 864x432 with 1 Axes>"
      ]
     },
     "metadata": {
      "needs_background": "light"
     },
     "output_type": "display_data"
    }
   ],
   "source": [
    "%matplotlib inline\n",
    "df_dtm.sum().sort_values(ascending=False).head(20).plot.bar(figsize=(12,6))\n",
    "plt.show()"
   ]
  },
  {
   "cell_type": "code",
   "execution_count": 436,
   "metadata": {},
   "outputs": [],
   "source": [
    "wdf=pd.DataFrame(df_dtm.sum().sort_values(ascending=False).head(20).reset_index())\n",
    "wdf.columns=['Words','Count']\n"
   ]
  },
  {
   "cell_type": "code",
   "execution_count": 437,
   "metadata": {},
   "outputs": [],
   "source": [
    "import seaborn as sns"
   ]
  },
  {
   "cell_type": "code",
   "execution_count": 438,
   "metadata": {},
   "outputs": [
    {
     "data": {
      "image/png": "[encoded data removed]",
      "text/plain": [
       "<Figure size 576x576 with 1 Axes>"
      ]
     },
     "metadata": {
      "needs_background": "light"
     },
     "output_type": "display_data"
    }
   ],
   "source": [
    "plt.figure(figsize=(8,8))\n",
    "sns.barplot(x=wdf.Count,y=wdf.Words)\n",
    "plt.show()"
   ]
  },
  {
   "cell_type": "code",
   "execution_count": 439,
   "metadata": {},
   "outputs": [],
   "source": [
    "ndf2=df[df['Topic']=='microsoft']\n",
    "docs =ndf2['Title'].str.lower().str.replace('[^a-z@# ]','')\n",
    "stopwords = nltk.corpus.stopwords.words('english')\n",
    "stopwords.extend(['amp','rt','microsoft','new','today','busi','use','said','year','one','week','microsofts'])\n",
    "#stemmer = nltk.stem.PorterStemmer()\n",
    "\n",
    "def clean_sentence(text):\n",
    "    words = text.split(' ')\n",
    "    words_clean = [lemmatizer.lemmatize(w) for w in words if w not in stopwords]\n",
    "    return ' '.join(words_clean)\n",
    "docs_clean = docs.apply(clean_sentence)\n",
    "docs_clean.head()\n",
    "\n",
    "\n",
    "from sklearn.feature_extraction.text import CountVectorizer\n",
    "\n",
    "vectorizer = CountVectorizer(min_df=4, ngram_range=(1,1)) \n",
    "# min frequency for a term to appear, ngram is for specifing uni,bigram, inside brackets of ngram range the value is unigram, bigram, tri etc\n",
    "vectorizer.fit(docs_clean)\n",
    "dtm=vectorizer.transform(docs_clean)\n",
    "\n",
    "\n",
    "nrows = dtm.shape[0]\n",
    "ncols = dtm.shape[1]\n",
    "total_values = nrows * ncols\n",
    "sparsity = (total_values - dtm.size)/total_values*100\n",
    "sparsity\n",
    "\n",
    "df_dtm= pd.DataFrame(dtm.toarray(),columns=vectorizer.get_feature_names())"
   ]
  },
  {
   "cell_type": "code",
   "execution_count": 440,
   "metadata": {},
   "outputs": [
    {
     "data": {
      "text/plain": [
       "<matplotlib.axes._subplots.AxesSubplot at 0x1ac8de44f28>"
      ]
     },
     "execution_count": 440,
     "metadata": {},
     "output_type": "execute_result"
    },
    {
     "data": {
      "image/png": "[encoded data removed]",
      "text/plain": [
       "<Figure size 864x432 with 1 Axes>"
      ]
     },
     "metadata": {
      "needs_background": "light"
     },
     "output_type": "display_data"
    }
   ],
   "source": [
    "%matplotlib inline\n",
    "df_dtm.sum().sort_values(ascending=False).head(20).plot.bar(figsize=(12,6))"
   ]
  },
  {
   "cell_type": "code",
   "execution_count": 441,
   "metadata": {},
   "outputs": [
    {
     "data": {
      "text/html": [
       "<div>\n",
       "<style scoped>\n",
       "    .dataframe tbody tr th:only-of-type {\n",
       "        vertical-align: middle;\n",
       "    }\n",
       "\n",
       "    .dataframe tbody tr th {\n",
       "        vertical-align: top;\n",
       "    }\n",
       "\n",
       "    .dataframe thead th {\n",
       "        text-align: right;\n",
       "    }\n",
       "</style>\n",
       "<table border=\"1\" class=\"dataframe\">\n",
       "  <thead>\n",
       "    <tr style=\"text-align: right;\">\n",
       "      <th></th>\n",
       "      <th>Words</th>\n",
       "      <th>Count</th>\n",
       "    </tr>\n",
       "  </thead>\n",
       "  <tbody>\n",
       "    <tr>\n",
       "      <th>0</th>\n",
       "      <td>window</td>\n",
       "      <td>2742</td>\n",
       "    </tr>\n",
       "    <tr>\n",
       "      <th>1</th>\n",
       "      <td>surface</td>\n",
       "      <td>1263</td>\n",
       "    </tr>\n",
       "    <tr>\n",
       "      <th>2</th>\n",
       "      <td>xbox</td>\n",
       "      <td>1250</td>\n",
       "    </tr>\n",
       "    <tr>\n",
       "      <th>3</th>\n",
       "      <td>cloud</td>\n",
       "      <td>990</td>\n",
       "    </tr>\n",
       "    <tr>\n",
       "      <th>4</th>\n",
       "      <td>update</td>\n",
       "      <td>820</td>\n",
       "    </tr>\n",
       "    <tr>\n",
       "      <th>5</th>\n",
       "      <td>apple</td>\n",
       "      <td>746</td>\n",
       "    </tr>\n",
       "    <tr>\n",
       "      <th>6</th>\n",
       "      <td>office</td>\n",
       "      <td>736</td>\n",
       "    </tr>\n",
       "    <tr>\n",
       "      <th>7</th>\n",
       "      <td>google</td>\n",
       "      <td>730</td>\n",
       "    </tr>\n",
       "    <tr>\n",
       "      <th>8</th>\n",
       "      <td>app</td>\n",
       "      <td>703</td>\n",
       "    </tr>\n",
       "    <tr>\n",
       "      <th>9</th>\n",
       "      <td>pro</td>\n",
       "      <td>640</td>\n",
       "    </tr>\n",
       "    <tr>\n",
       "      <th>10</th>\n",
       "      <td>lumia</td>\n",
       "      <td>575</td>\n",
       "    </tr>\n",
       "    <tr>\n",
       "      <th>11</th>\n",
       "      <td>data</td>\n",
       "      <td>567</td>\n",
       "    </tr>\n",
       "    <tr>\n",
       "      <th>12</th>\n",
       "      <td>azure</td>\n",
       "      <td>559</td>\n",
       "    </tr>\n",
       "    <tr>\n",
       "      <th>13</th>\n",
       "      <td>hololens</td>\n",
       "      <td>537</td>\n",
       "    </tr>\n",
       "    <tr>\n",
       "      <th>14</th>\n",
       "      <td>launch</td>\n",
       "      <td>520</td>\n",
       "    </tr>\n",
       "    <tr>\n",
       "      <th>15</th>\n",
       "      <td>get</td>\n",
       "      <td>485</td>\n",
       "    </tr>\n",
       "    <tr>\n",
       "      <th>16</th>\n",
       "      <td>support</td>\n",
       "      <td>483</td>\n",
       "    </tr>\n",
       "    <tr>\n",
       "      <th>17</th>\n",
       "      <td>release</td>\n",
       "      <td>483</td>\n",
       "    </tr>\n",
       "    <tr>\n",
       "      <th>18</th>\n",
       "      <td>mobile</td>\n",
       "      <td>481</td>\n",
       "    </tr>\n",
       "    <tr>\n",
       "      <th>19</th>\n",
       "      <td>phone</td>\n",
       "      <td>480</td>\n",
       "    </tr>\n",
       "  </tbody>\n",
       "</table>\n",
       "</div>"
      ],
      "text/plain": [
       "       Words  Count\n",
       "0     window   2742\n",
       "1    surface   1263\n",
       "2       xbox   1250\n",
       "3      cloud    990\n",
       "4     update    820\n",
       "5      apple    746\n",
       "6     office    736\n",
       "7     google    730\n",
       "8        app    703\n",
       "9        pro    640\n",
       "10     lumia    575\n",
       "11      data    567\n",
       "12     azure    559\n",
       "13  hololens    537\n",
       "14    launch    520\n",
       "15       get    485\n",
       "16   support    483\n",
       "17   release    483\n",
       "18    mobile    481\n",
       "19     phone    480"
      ]
     },
     "execution_count": 441,
     "metadata": {},
     "output_type": "execute_result"
    }
   ],
   "source": [
    "wdf=pd.DataFrame(df_dtm.sum().sort_values(ascending=False).head(20).reset_index())\n",
    "wdf.columns=['Words','Count']\n",
    "wdf"
   ]
  },
  {
   "cell_type": "code",
   "execution_count": 442,
   "metadata": {},
   "outputs": [
    {
     "data": {
      "image/png": "[encoded data removed]",
      "text/plain": [
       "<Figure size 576x576 with 1 Axes>"
      ]
     },
     "metadata": {
      "needs_background": "light"
     },
     "output_type": "display_data"
    }
   ],
   "source": [
    "plt.figure(figsize=(8,8))\n",
    "sns.barplot(x=wdf.Count,y=wdf.Words)\n",
    "plt.show()"
   ]
  },
  {
   "cell_type": "code",
   "execution_count": 472,
   "metadata": {},
   "outputs": [
    {
     "data": {
      "text/plain": [
       "6      ramallah february   wafa  liberation organizat...\n",
       "8      hancock county man lost barn early monday morn...\n",
       "56     ramallah february   wafa  government japan con...\n",
       "111    ramallah february   wafa  government japan con...\n",
       "140    forced eviction farmer land jordan valley hebr...\n",
       "Name: Headline, dtype: object"
      ]
     },
     "execution_count": 472,
     "metadata": {},
     "output_type": "execute_result"
    }
   ],
   "source": [
    "ndf2=df[df['Topic']=='palestine']\n",
    "docs =ndf2['Headline'].str.lower().str.replace('[^a-z@# ]','')\n",
    "stopwords = nltk.corpus.stopwords.words('english')\n",
    "stopwords.extend(['amp','rt','palestine','palestinian','isra','intern','one','said','israeli','new','year','de','two','first'])\n",
    "stemmer = nltk.stem.PorterStemmer()\n",
    "\n",
    "def clean_sentence(text):\n",
    "    words = text.split(' ')\n",
    "    words_clean = [lemmatizer.lemmatize(w) for w in words if w not in stopwords]\n",
    "    return ' '.join(words_clean)\n",
    "docs_clean = docs.apply(clean_sentence)\n",
    "docs_clean.head()"
   ]
  },
  {
   "cell_type": "code",
   "execution_count": 473,
   "metadata": {},
   "outputs": [],
   "source": [
    "from sklearn.feature_extraction.text import CountVectorizer\n",
    "\n",
    "vectorizer = CountVectorizer(min_df=4, ngram_range=(1,1)) \n",
    "# min frequency for a term to appear, ngram is for specifing uni,bigram, inside brackets of ngram range the value is unigram, bigram, tri etc\n",
    "vectorizer.fit(docs_clean)\n",
    "dtm=vectorizer.transform(docs_clean)\n"
   ]
  },
  {
   "cell_type": "code",
   "execution_count": 474,
   "metadata": {},
   "outputs": [
    {
     "data": {
      "text/plain": [
       "99.74080954449205"
      ]
     },
     "execution_count": 474,
     "metadata": {},
     "output_type": "execute_result"
    }
   ],
   "source": [
    "nrows = dtm.shape[0]\n",
    "ncols = dtm.shape[1]\n",
    "total_values = nrows * ncols\n",
    "sparsity = (total_values - dtm.size)/total_values*100\n",
    "sparsity"
   ]
  },
  {
   "cell_type": "code",
   "execution_count": 475,
   "metadata": {},
   "outputs": [],
   "source": [
    "df_dtm= pd.DataFrame(dtm.toarray(),columns=vectorizer.get_feature_names())\n"
   ]
  },
  {
   "cell_type": "code",
   "execution_count": 476,
   "metadata": {},
   "outputs": [
    {
     "data": {
      "text/plain": [
       "<matplotlib.axes._subplots.AxesSubplot at 0x1ac8ff022e8>"
      ]
     },
     "execution_count": 476,
     "metadata": {},
     "output_type": "execute_result"
    },
    {
     "data": {
      "image/png": "[encoded data removed]",
      "text/plain": [
       "<Figure size 864x432 with 1 Axes>"
      ]
     },
     "metadata": {
      "needs_background": "light"
     },
     "output_type": "display_data"
    }
   ],
   "source": [
    "%matplotlib inline\n",
    "df_dtm.sum().sort_values(ascending=False).head(20).plot.bar(figsize=(12,6))"
   ]
  },
  {
   "cell_type": "code",
   "execution_count": 477,
   "metadata": {},
   "outputs": [],
   "source": [
    "wdf=pd.DataFrame(df_dtm.sum().sort_values(ascending=False).head(20).reset_index())\n",
    "wdf.columns=['Words','Count']\n"
   ]
  },
  {
   "cell_type": "code",
   "execution_count": 478,
   "metadata": {},
   "outputs": [
    {
     "data": {
      "image/png": "[encoded data removed]",
      "text/plain": [
       "<Figure size 576x576 with 1 Axes>"
      ]
     },
     "metadata": {
      "needs_background": "light"
     },
     "output_type": "display_data"
    }
   ],
   "source": [
    "plt.figure(figsize=(8,8))\n",
    "sns.barplot(x=wdf.Count,y=wdf.Words)\n",
    "plt.show()"
   ]
  },
  {
   "cell_type": "code",
   "execution_count": 479,
   "metadata": {},
   "outputs": [],
   "source": [
    "ndf2=df[df['Topic']=='palestine']\n",
    "docs =ndf2['Title'].str.lower().str.replace('[^a-z@# ]','')\n",
    "stopwords = nltk.corpus.stopwords.words('english')\n",
    "stopwords.extend(['amp','rt','palestine','palestinian','isra','intern','one','said','israeli','new','year','de','two','first'])\n",
    "#stemmer = nltk.stem.PorterStemmer()\n",
    "\n",
    "def clean_sentence(text):\n",
    "    words = text.split(' ')\n",
    "    words_clean = [lemmatizer.lemmatize(w) for w in words if w not in stopwords]\n",
    "    return ' '.join(words_clean)\n",
    "docs_clean = docs.apply(clean_sentence)\n",
    "docs_clean.head()\n",
    "\n",
    "\n",
    "from sklearn.feature_extraction.text import CountVectorizer\n",
    "\n",
    "vectorizer = CountVectorizer(min_df=4, ngram_range=(1,1)) \n",
    "# min frequency for a term to appear, ngram is for specifing uni,bigram, inside brackets of ngram range the value is unigram, bigram, tri etc\n",
    "vectorizer.fit(docs_clean)\n",
    "dtm=vectorizer.transform(docs_clean)\n",
    "\n",
    "\n",
    "nrows = dtm.shape[0]\n",
    "ncols = dtm.shape[1]\n",
    "total_values = nrows * ncols\n",
    "sparsity = (total_values - dtm.size)/total_values*100\n",
    "sparsity\n",
    "\n",
    "df_dtm= pd.DataFrame(dtm.toarray(),columns=vectorizer.get_feature_names())"
   ]
  },
  {
   "cell_type": "code",
   "execution_count": 480,
   "metadata": {},
   "outputs": [
    {
     "data": {
      "text/plain": [
       "<matplotlib.axes._subplots.AxesSubplot at 0x1ac9b6f0d30>"
      ]
     },
     "execution_count": 480,
     "metadata": {},
     "output_type": "execute_result"
    },
    {
     "data": {
      "image/png": "[encoded data removed]",
      "text/plain": [
       "<Figure size 864x432 with 1 Axes>"
      ]
     },
     "metadata": {
      "needs_background": "light"
     },
     "output_type": "display_data"
    }
   ],
   "source": [
    "%matplotlib inline\n",
    "df_dtm.sum().sort_values(ascending=False).head(20).plot.bar(figsize=(12,6))"
   ]
  },
  {
   "cell_type": "code",
   "execution_count": 481,
   "metadata": {},
   "outputs": [
    {
     "data": {
      "text/html": [
       "<div>\n",
       "<style scoped>\n",
       "    .dataframe tbody tr th:only-of-type {\n",
       "        vertical-align: middle;\n",
       "    }\n",
       "\n",
       "    .dataframe tbody tr th {\n",
       "        vertical-align: top;\n",
       "    }\n",
       "\n",
       "    .dataframe thead th {\n",
       "        text-align: right;\n",
       "    }\n",
       "</style>\n",
       "<table border=\"1\" class=\"dataframe\">\n",
       "  <thead>\n",
       "    <tr style=\"text-align: right;\">\n",
       "      <th></th>\n",
       "      <th>Words</th>\n",
       "      <th>Count</th>\n",
       "    </tr>\n",
       "  </thead>\n",
       "  <tbody>\n",
       "    <tr>\n",
       "      <th>0</th>\n",
       "      <td>israel</td>\n",
       "      <td>1081</td>\n",
       "    </tr>\n",
       "    <tr>\n",
       "      <th>1</th>\n",
       "      <td>israelpalestine</td>\n",
       "      <td>284</td>\n",
       "    </tr>\n",
       "    <tr>\n",
       "      <th>2</th>\n",
       "      <td>un</td>\n",
       "      <td>273</td>\n",
       "    </tr>\n",
       "    <tr>\n",
       "      <th>3</th>\n",
       "      <td>peace</td>\n",
       "      <td>265</td>\n",
       "    </tr>\n",
       "    <tr>\n",
       "      <th>4</th>\n",
       "      <td>palestinian</td>\n",
       "      <td>251</td>\n",
       "    </tr>\n",
       "    <tr>\n",
       "      <th>5</th>\n",
       "      <td>state</td>\n",
       "      <td>239</td>\n",
       "    </tr>\n",
       "    <tr>\n",
       "      <th>6</th>\n",
       "      <td>east</td>\n",
       "      <td>218</td>\n",
       "    </tr>\n",
       "    <tr>\n",
       "      <th>7</th>\n",
       "      <td>say</td>\n",
       "      <td>197</td>\n",
       "    </tr>\n",
       "    <tr>\n",
       "      <th>8</th>\n",
       "      <td>palestine</td>\n",
       "      <td>191</td>\n",
       "    </tr>\n",
       "    <tr>\n",
       "      <th>9</th>\n",
       "      <td>support</td>\n",
       "      <td>190</td>\n",
       "    </tr>\n",
       "    <tr>\n",
       "      <th>10</th>\n",
       "      <td>call</td>\n",
       "      <td>187</td>\n",
       "    </tr>\n",
       "    <tr>\n",
       "      <th>11</th>\n",
       "      <td>gaza</td>\n",
       "      <td>172</td>\n",
       "    </tr>\n",
       "    <tr>\n",
       "      <th>12</th>\n",
       "      <td>conflict</td>\n",
       "      <td>164</td>\n",
       "    </tr>\n",
       "    <tr>\n",
       "      <th>13</th>\n",
       "      <td>bank</td>\n",
       "      <td>163</td>\n",
       "    </tr>\n",
       "    <tr>\n",
       "      <th>14</th>\n",
       "      <td>talk</td>\n",
       "      <td>155</td>\n",
       "    </tr>\n",
       "    <tr>\n",
       "      <th>15</th>\n",
       "      <td>student</td>\n",
       "      <td>151</td>\n",
       "    </tr>\n",
       "    <tr>\n",
       "      <th>16</th>\n",
       "      <td>visit</td>\n",
       "      <td>148</td>\n",
       "    </tr>\n",
       "    <tr>\n",
       "      <th>17</th>\n",
       "      <td>world</td>\n",
       "      <td>142</td>\n",
       "    </tr>\n",
       "    <tr>\n",
       "      <th>18</th>\n",
       "      <td>west</td>\n",
       "      <td>142</td>\n",
       "    </tr>\n",
       "    <tr>\n",
       "      <th>19</th>\n",
       "      <td>texas</td>\n",
       "      <td>141</td>\n",
       "    </tr>\n",
       "  </tbody>\n",
       "</table>\n",
       "</div>"
      ],
      "text/plain": [
       "              Words  Count\n",
       "0            israel   1081\n",
       "1   israelpalestine    284\n",
       "2                un    273\n",
       "3             peace    265\n",
       "4       palestinian    251\n",
       "5             state    239\n",
       "6              east    218\n",
       "7               say    197\n",
       "8         palestine    191\n",
       "9           support    190\n",
       "10             call    187\n",
       "11             gaza    172\n",
       "12         conflict    164\n",
       "13             bank    163\n",
       "14             talk    155\n",
       "15          student    151\n",
       "16            visit    148\n",
       "17            world    142\n",
       "18             west    142\n",
       "19            texas    141"
      ]
     },
     "execution_count": 481,
     "metadata": {},
     "output_type": "execute_result"
    }
   ],
   "source": [
    "wdf=pd.DataFrame(df_dtm.sum().sort_values(ascending=False).head(20).reset_index())\n",
    "wdf.columns=['Words','Count']\n",
    "wdf"
   ]
  },
  {
   "cell_type": "code",
   "execution_count": 482,
   "metadata": {},
   "outputs": [
    {
     "data": {
      "image/png": "[encoded data removed]",
      "text/plain": [
       "<Figure size 576x576 with 1 Axes>"
      ]
     },
     "metadata": {
      "needs_background": "light"
     },
     "output_type": "display_data"
    }
   ],
   "source": [
    "plt.figure(figsize=(8,8))\n",
    "sns.barplot(x=wdf.Count,y=wdf.Words)\n",
    "plt.show()"
   ]
  },
  {
   "cell_type": "markdown",
   "metadata": {},
   "source": [
    "# Topic Modelling for Palestine"
   ]
  },
  {
   "cell_type": "code",
   "execution_count": 316,
   "metadata": {},
   "outputs": [],
   "source": [
    "import gensim\n",
    "import nltk"
   ]
  },
  {
   "cell_type": "code",
   "execution_count": 317,
   "metadata": {},
   "outputs": [],
   "source": [
    "data=df[df['Topic']=='palestine']"
   ]
  },
  {
   "cell_type": "code",
   "execution_count": 318,
   "metadata": {},
   "outputs": [
    {
     "data": {
      "text/plain": [
       "6                                           monday  feb \n",
       "8      fire claims more than yearold barn in hancock ...\n",
       "56                                          monday  feb \n",
       "111                                        tuesday  mar \n",
       "140    the british must formally  and swiftly  recogn...\n",
       "Name: Title, dtype: object"
      ]
     },
     "execution_count": 318,
     "metadata": {},
     "output_type": "execute_result"
    }
   ],
   "source": [
    "docs=data['Title'].fillna('').str.lower()\n",
    "docs=docs.str.replace('[^a-z ]','')\n",
    "docs.head()"
   ]
  },
  {
   "cell_type": "code",
   "execution_count": 319,
   "metadata": {},
   "outputs": [],
   "source": [
    "stopwords=nltk.corpus.stopwords.words('english')\n",
    "stopwords.extend(['use','','will','one','good'])\n",
    "stemmer=nltk.stem.PorterStemmer()\n",
    "\n",
    "docs_clean=[]\n",
    "for doc in docs:\n",
    "    words=doc.split(' ')\n",
    "    words_clean= [stemmer.stem(word) for word in words if word not in stopwords]\n",
    "    words_clean=[word for word in words_clean if word not in stopwords]\n",
    "    docs_clean.append(words_clean)"
   ]
  },
  {
   "cell_type": "code",
   "execution_count": 320,
   "metadata": {},
   "outputs": [],
   "source": [
    "dictionary = gensim.corpora.Dictionary(docs_clean) # to get the id for every single word"
   ]
  },
  {
   "cell_type": "code",
   "execution_count": null,
   "metadata": {},
   "outputs": [],
   "source": []
  },
  {
   "cell_type": "code",
   "execution_count": 321,
   "metadata": {},
   "outputs": [],
   "source": [
    "# bag of words\n",
    "docs_bow=[]\n",
    "for doc in docs_clean:\n",
    "    bow=dictionary.doc2bow(doc)\n",
    "    docs_bow.append(bow)"
   ]
  },
  {
   "cell_type": "code",
   "execution_count": 322,
   "metadata": {},
   "outputs": [],
   "source": [
    "lda_model=gensim.models.LdaMulticore(docs_bow,id2word=dictionary,num_topics=4,random_state=100)\n"
   ]
  },
  {
   "cell_type": "markdown",
   "metadata": {},
   "source": [
    "# Document to topic Relationship"
   ]
  },
  {
   "cell_type": "code",
   "execution_count": 323,
   "metadata": {},
   "outputs": [
    {
     "data": {
      "text/plain": [
       "[(0, 0.89032835), (1, 0.03616782), (2, 0.036793802), (3, 0.036709998)]"
      ]
     },
     "execution_count": 323,
     "metadata": {},
     "output_type": "execute_result"
    }
   ],
   "source": [
    "lda_model.get_document_topics(docs_bow[1])"
   ]
  },
  {
   "cell_type": "code",
   "execution_count": 324,
   "metadata": {},
   "outputs": [
    {
     "data": {
      "text/plain": [
       "0.0"
      ]
     },
     "execution_count": 324,
     "metadata": {},
     "output_type": "execute_result"
    }
   ],
   "source": [
    "new_df=pd.DataFrame(lda_model.get_document_topics(docs_bow[1]),columns=['topics','probs'])\n",
    "new_df.sort_values(by='probs').iloc[-1]['topics']"
   ]
  },
  {
   "cell_type": "code",
   "execution_count": null,
   "metadata": {},
   "outputs": [],
   "source": []
  },
  {
   "cell_type": "code",
   "execution_count": 325,
   "metadata": {},
   "outputs": [],
   "source": [
    "topics=[]\n",
    "for doc in docs_bow:\n",
    "    new_df=pd.DataFrame(lda_model.get_document_topics(doc),columns=['topics','probs'])\n",
    "    topic=new_df.sort_values(by='probs').iloc[-1]['topics']\n",
    "    topics.append(topic)\n",
    "#data['topics']=topics"
   ]
  },
  {
   "cell_type": "code",
   "execution_count": 326,
   "metadata": {},
   "outputs": [
    {
     "data": {
      "text/plain": [
       "[(0,\n",
       "  '0.094*\"palestin\" + 0.014*\"palestinian\" + 0.007*\"israel\" + 0.006*\"week\" + 0.006*\"support\" + 0.005*\"polic\" + 0.005*\"gaza\" + 0.005*\"peac\" + 0.005*\"call\" + 0.005*\"kill\"'),\n",
       " (1,\n",
       "  '0.042*\"palestinian\" + 0.037*\"palestin\" + 0.013*\"isra\" + 0.013*\"israel\" + 0.009*\"flood\" + 0.008*\"israelpalestin\" + 0.007*\"texa\" + 0.006*\"new\" + 0.006*\"kill\" + 0.005*\"peac\"'),\n",
       " (2,\n",
       "  '0.069*\"palestin\" + 0.043*\"palestinian\" + 0.031*\"israel\" + 0.012*\"isra\" + 0.006*\"un\" + 0.006*\"visit\" + 0.005*\"bank\" + 0.005*\"east\" + 0.005*\"kill\" + 0.004*\"new\"'),\n",
       " (3,\n",
       "  '0.066*\"palestin\" + 0.016*\"israel\" + 0.012*\"palestinian\" + 0.012*\"state\" + 0.008*\"flood\" + 0.006*\"new\" + 0.006*\"israelpalestin\" + 0.006*\"today\" + 0.005*\"peac\" + 0.005*\"us\"')]"
      ]
     },
     "execution_count": 326,
     "metadata": {},
     "output_type": "execute_result"
    }
   ],
   "source": [
    "lda_model.print_topics()"
   ]
  },
  {
   "cell_type": "code",
   "execution_count": 327,
   "metadata": {},
   "outputs": [],
   "source": [
    "# coherence\n",
    "from gensim.models.coherencemodel import CoherenceModel"
   ]
  },
  {
   "cell_type": "code",
   "execution_count": 328,
   "metadata": {},
   "outputs": [],
   "source": [
    "\n",
    "c_scores=[]\n",
    "for i in range(4,20):\n",
    "    lda_model=gensim.models.LdaMulticore(docs_bow,id2word=dictionary,num_topics=i,random_state=100,iterations=300)\n",
    "    coher_model=CoherenceModel(lda_model,corpus=docs_bow,coherence='u_mass')\n",
    "    score=coher_model.get_coherence()\n",
    "    c_scores.append(score)"
   ]
  },
  {
   "cell_type": "code",
   "execution_count": 329,
   "metadata": {},
   "outputs": [
    {
     "data": {
      "image/png": "[encoded data removed]",
      "text/plain": [
       "<Figure size 432x288 with 1 Axes>"
      ]
     },
     "metadata": {
      "needs_background": "light"
     },
     "output_type": "display_data"
    }
   ],
   "source": [
    "plt.plot(c_scores)\n",
    "plt.show()"
   ]
  },
  {
   "cell_type": "markdown",
   "metadata": {},
   "source": [
    "# Topic Modelling for Microsoft"
   ]
  },
  {
   "cell_type": "code",
   "execution_count": 330,
   "metadata": {},
   "outputs": [],
   "source": [
    "data=df[df['Topic']=='microsoft']"
   ]
  },
  {
   "cell_type": "code",
   "execution_count": 331,
   "metadata": {},
   "outputs": [
    {
     "data": {
      "text/plain": [
       "5     intellitec solutions to host th annual spring ...\n",
       "9              microsofts new windows  ad targets apple\n",
       "10    microsoft project centennial seen with univers...\n",
       "11    microsoft sneaks onto android while android sn...\n",
       "14     hololens dev edition costs  with new conker game\n",
       "Name: Title, dtype: object"
      ]
     },
     "execution_count": 331,
     "metadata": {},
     "output_type": "execute_result"
    }
   ],
   "source": [
    "docs=data['Title'].fillna('').str.lower()\n",
    "docs=docs.str.replace('[^a-z ]','')\n",
    "docs.head()"
   ]
  },
  {
   "cell_type": "code",
   "execution_count": 332,
   "metadata": {},
   "outputs": [],
   "source": [
    "stopwords=nltk.corpus.stopwords.words('english')\n",
    "stopwords.extend(['use','','will','one','good'])\n",
    "stemmer=nltk.stem.PorterStemmer()\n",
    "\n",
    "docs_clean=[]\n",
    "for doc in docs:\n",
    "    words=doc.split(' ')\n",
    "    words_clean= [stemmer.stem(word) for word in words if word not in stopwords]\n",
    "    words_clean=[word for word in words_clean if word not in stopwords]\n",
    "    docs_clean.append(words_clean)"
   ]
  },
  {
   "cell_type": "code",
   "execution_count": 333,
   "metadata": {},
   "outputs": [],
   "source": [
    "dictionary = gensim.corpora.Dictionary(docs_clean) # to get the id for every single word"
   ]
  },
  {
   "cell_type": "code",
   "execution_count": 334,
   "metadata": {},
   "outputs": [],
   "source": [
    "# bag of words\n",
    "docs_bow=[]\n",
    "for doc in docs_clean:\n",
    "    bow=dictionary.doc2bow(doc)\n",
    "    docs_bow.append(bow)"
   ]
  },
  {
   "cell_type": "code",
   "execution_count": 335,
   "metadata": {},
   "outputs": [],
   "source": [
    "lda_model=gensim.models.LdaMulticore(docs_bow,id2word=dictionary,num_topics=4,random_state=100)"
   ]
  },
  {
   "cell_type": "code",
   "execution_count": 336,
   "metadata": {},
   "outputs": [
    {
     "data": {
      "text/plain": [
       "3.0"
      ]
     },
     "execution_count": 336,
     "metadata": {},
     "output_type": "execute_result"
    }
   ],
   "source": [
    "new_df=pd.DataFrame(lda_model.get_document_topics(docs_bow[1]),columns=['topics','probs'])\n",
    "new_df.sort_values(by='probs').iloc[-1]['topics']"
   ]
  },
  {
   "cell_type": "code",
   "execution_count": null,
   "metadata": {},
   "outputs": [],
   "source": []
  },
  {
   "cell_type": "code",
   "execution_count": 337,
   "metadata": {},
   "outputs": [],
   "source": [
    "topics=[]\n",
    "for doc in docs_bow:\n",
    "    new_df=pd.DataFrame(lda_model.get_document_topics(doc),columns=['topics','probs'])\n",
    "    topic=new_df.sort_values(by='probs').iloc[-1]['topics']\n",
    "    topics.append(topic)\n",
    "#data['topics']=topics"
   ]
  },
  {
   "cell_type": "code",
   "execution_count": 338,
   "metadata": {},
   "outputs": [
    {
     "data": {
      "text/plain": [
       "[(0,\n",
       "  '0.139*\"microsoft\" + 0.030*\"window\" + 0.019*\"new\" + 0.012*\"app\" + 0.012*\"updat\" + 0.008*\"mobil\" + 0.008*\"build\" + 0.008*\"offic\" + 0.008*\"lumia\" + 0.007*\"cloud\"'),\n",
       " (1,\n",
       "  '0.137*\"microsoft\" + 0.024*\"surfac\" + 0.012*\"pro\" + 0.009*\"window\" + 0.007*\"hololen\" + 0.006*\"appl\" + 0.006*\"app\" + 0.006*\"launch\" + 0.005*\"power\" + 0.005*\"secur\"'),\n",
       " (2,\n",
       "  '0.138*\"microsoft\" + 0.019*\"xbox\" + 0.014*\"window\" + 0.011*\"linkedin\" + 0.009*\"cloud\" + 0.008*\"game\" + 0.007*\"new\" + 0.006*\"make\" + 0.005*\"buy\" + 0.005*\"band\"'),\n",
       " (3,\n",
       "  '0.108*\"microsoft\" + 0.016*\"window\" + 0.012*\"offic\" + 0.010*\"new\" + 0.009*\"googl\" + 0.008*\"appl\" + 0.007*\"user\" + 0.006*\"updat\" + 0.006*\"busi\" + 0.005*\"us\"')]"
      ]
     },
     "execution_count": 338,
     "metadata": {},
     "output_type": "execute_result"
    }
   ],
   "source": [
    "lda_model.print_topics()"
   ]
  },
  {
   "cell_type": "code",
   "execution_count": 339,
   "metadata": {},
   "outputs": [],
   "source": [
    "# coherence\n",
    "from gensim.models.coherencemodel import CoherenceModel"
   ]
  },
  {
   "cell_type": "code",
   "execution_count": 340,
   "metadata": {},
   "outputs": [],
   "source": [
    "\n",
    "c_scores=[]\n",
    "for i in range(4,20):\n",
    "    lda_model=gensim.models.LdaMulticore(docs_bow,id2word=dictionary,num_topics=i,random_state=100,iterations=300)\n",
    "    coher_model=CoherenceModel(lda_model,corpus=docs_bow,coherence='u_mass')\n",
    "    score=coher_model.get_coherence()\n",
    "    c_scores.append(score)"
   ]
  },
  {
   "cell_type": "code",
   "execution_count": 341,
   "metadata": {},
   "outputs": [
    {
     "data": {
      "image/png": "[encoded data removed]",
      "text/plain": [
       "<Figure size 432x288 with 1 Axes>"
      ]
     },
     "metadata": {
      "needs_background": "light"
     },
     "output_type": "display_data"
    }
   ],
   "source": [
    "plt.plot(c_scores)\n",
    "plt.show()"
   ]
  },
  {
   "cell_type": "code",
   "execution_count": null,
   "metadata": {},
   "outputs": [],
   "source": []
  }
 ],
 "metadata": {
  "kernelspec": {
   "display_name": "Python 3",
   "language": "python",
   "name": "python3"
  },
  "language_info": {
   "codemirror_mode": {
    "name": "ipython",
    "version": 3
   },
   "file_extension": ".py",
   "mimetype": "text/x-python",
   "name": "python",
   "nbconvert_exporter": "python",
   "pygments_lexer": "ipython3",
   "version": "3.7.0"
  }
 },
 "nbformat": 4,
 "nbformat_minor": 2
}
