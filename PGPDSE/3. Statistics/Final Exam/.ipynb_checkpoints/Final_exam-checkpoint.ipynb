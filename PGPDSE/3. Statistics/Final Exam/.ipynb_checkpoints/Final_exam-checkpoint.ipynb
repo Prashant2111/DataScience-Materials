{
 "cells": [
  {
   "cell_type": "markdown",
   "metadata": {},
   "source": [
    "# Statistics"
   ]
  },
  {
   "cell_type": "markdown",
   "metadata": {},
   "source": [
    "## 1. Explain Variance, Standard Deviation with example.\n"
   ]
  },
  {
   "cell_type": "markdown",
   "metadata": {},
   "source": [
    "Variance measures the spread around the mean, the unit of variance is the squared value of the original unit\n",
    "\n",
    "\n",
    "Standard deviation is square root of Variance, also measures the spread around the mean but in the same units as the original values(instead of square units)\n",
    "\n"
   ]
  },
  {
   "cell_type": "code",
   "execution_count": 120,
   "metadata": {},
   "outputs": [
    {
     "name": "stdout",
     "output_type": "stream",
     "text": [
      "Variance 6.0\n",
      "Standard deviation 2.449489742783178\n"
     ]
    }
   ],
   "source": [
    "# Example\n",
    "\n",
    "import numpy as np\n",
    "\n",
    "a=[11,12,15,14,18]\n",
    "\n",
    "x=np.mean(a)\n",
    "\n",
    "print(\"Variance\",np.var(a))\n",
    "print(\"Standard deviation\",np.std(a))"
   ]
  },
  {
   "cell_type": "markdown",
   "metadata": {},
   "source": [
    "## 2. Explain Bayes Theorem.\n",
    "\n",
    "Bayes theorem gives the probability of an event, based on previous knowledge of conditions that might be related to the event. Example:  if cancer is related to age, using Bayes theorem, a person's age can be used to more accurately calculate the probability that they have cancer, compared to the calculation of the probability of cancer made without knowing  the person's age.\n",
    "\n",
    "P(Bi∣A) = P(A∣Bi)P(Bi) / P(A∣B1)P(B1)+P(A∣B2)P(B2)+P(A∣B3)P(B3)+..+P(A∣Bk)P(Bk)\n",
    "\n",
    "where Bi is the ith event of k mutually exclusive and collectively exhaustive events A is the new event that might impact P(Bi)"
   ]
  },
  {
   "cell_type": "markdown",
   "metadata": {},
   "source": [
    "## 3. Answer in true/false\n",
    "    \n",
    "    I. If a fair coin is tossed many times and the last eight tosses are all heads, then the chance that the next toss will be heads is somewhat less than 50%\n",
    "    II. Drawing a face card and drawing an ace from a full deck of playing cards are mutually exclusive events.\n",
    "  \n",
    "  \n",
    "Answer  \n",
    "    \n",
    "I.  False\n",
    "\n",
    "II. True"
   ]
  },
  {
   "cell_type": "markdown",
   "metadata": {},
   "source": [
    "## 4. N( mean= 1500, standard deviation = 300)\n",
    "    \n",
    "#### Shannon is a randomly selected SAT taker, and nothing is known about Shannon’s SAT Aptitude. What is the probability Shannon scores at least 1630 on her SATs?\n"
   ]
  },
  {
   "cell_type": "code",
   "execution_count": 121,
   "metadata": {},
   "outputs": [
    {
     "data": {
      "text/plain": [
       "0.43333333333333335"
      ]
     },
     "execution_count": 121,
     "metadata": {},
     "output_type": "execute_result"
    }
   ],
   "source": [
    "Z=(1630-1500)/300\n",
    "Z"
   ]
  },
  {
   "cell_type": "code",
   "execution_count": 122,
   "metadata": {},
   "outputs": [
    {
     "data": {
      "text/plain": [
       "0.33238631262667506"
      ]
     },
     "execution_count": 122,
     "metadata": {},
     "output_type": "execute_result"
    }
   ],
   "source": [
    "import scipy.stats as stats\n",
    "P = 1- stats.norm.cdf(Z)\n",
    "P"
   ]
  },
  {
   "cell_type": "markdown",
   "metadata": {},
   "source": [
    " 4. Answer: The probability Shannon scores at least 1630 is 0.33"
   ]
  },
  {
   "cell_type": "code",
   "execution_count": 25,
   "metadata": {},
   "outputs": [],
   "source": [
    "import numpy       as np\n",
    "import pandas      as pd\n",
    "from scipy.stats             import ttest_1samp,ttest_ind, wilcoxon\n",
    "from statsmodels.stats.power import ttest_power\n",
    "import matplotlib.pyplot     as     plt\n",
    "%matplotlib inline\n",
    "import seaborn as sns"
   ]
  },
  {
   "cell_type": "markdown",
   "metadata": {},
   "source": [
    "## 5. For the given quantitative samples, compute the following.  \n",
    "34,67,40,72,37,33,42,62,49,32,52,40,31,19,68,55,57,54,37,32,\n",
    "54,38,20,50,56,48,35,52,29,56,68,65,45,44,54,39,29,56,43,42.\n",
    "\n",
    "    a) First Quartile\n",
    "    b) Third Quartile\n",
    "    c) Inter Quartile Range (IQR)\n",
    "    d) Inner fence \n",
    "    e) Outer fence"
   ]
  },
  {
   "cell_type": "code",
   "execution_count": 123,
   "metadata": {},
   "outputs": [],
   "source": [
    "l=[34,67,40,72,37,33,42,62,49,32,52,40,31,19,68,55,57,54,37,32,54,38,20,50,56,48,35,52,29,56,68,65,45,44,54,39,29,56,43,42]\n",
    "\n",
    "a=pd.DataFrame(l)\n",
    "a.columns=['Value']"
   ]
  },
  {
   "cell_type": "code",
   "execution_count": 124,
   "metadata": {},
   "outputs": [
    {
     "data": {
      "text/html": [
       "<div>\n",
       "<style scoped>\n",
       "    .dataframe tbody tr th:only-of-type {\n",
       "        vertical-align: middle;\n",
       "    }\n",
       "\n",
       "    .dataframe tbody tr th {\n",
       "        vertical-align: top;\n",
       "    }\n",
       "\n",
       "    .dataframe thead th {\n",
       "        text-align: right;\n",
       "    }\n",
       "</style>\n",
       "<table border=\"1\" class=\"dataframe\">\n",
       "  <thead>\n",
       "    <tr style=\"text-align: right;\">\n",
       "      <th></th>\n",
       "      <th>Value</th>\n",
       "    </tr>\n",
       "  </thead>\n",
       "  <tbody>\n",
       "    <tr>\n",
       "      <th>0</th>\n",
       "      <td>34</td>\n",
       "    </tr>\n",
       "    <tr>\n",
       "      <th>1</th>\n",
       "      <td>67</td>\n",
       "    </tr>\n",
       "    <tr>\n",
       "      <th>2</th>\n",
       "      <td>40</td>\n",
       "    </tr>\n",
       "    <tr>\n",
       "      <th>3</th>\n",
       "      <td>72</td>\n",
       "    </tr>\n",
       "    <tr>\n",
       "      <th>4</th>\n",
       "      <td>37</td>\n",
       "    </tr>\n",
       "  </tbody>\n",
       "</table>\n",
       "</div>"
      ],
      "text/plain": [
       "   Value\n",
       "0     34\n",
       "1     67\n",
       "2     40\n",
       "3     72\n",
       "4     37"
      ]
     },
     "execution_count": 124,
     "metadata": {},
     "output_type": "execute_result"
    }
   ],
   "source": [
    "a.head()"
   ]
  },
  {
   "cell_type": "code",
   "execution_count": 125,
   "metadata": {},
   "outputs": [
    {
     "data": {
      "text/html": [
       "<div>\n",
       "<style scoped>\n",
       "    .dataframe tbody tr th:only-of-type {\n",
       "        vertical-align: middle;\n",
       "    }\n",
       "\n",
       "    .dataframe tbody tr th {\n",
       "        vertical-align: top;\n",
       "    }\n",
       "\n",
       "    .dataframe thead th {\n",
       "        text-align: right;\n",
       "    }\n",
       "</style>\n",
       "<table border=\"1\" class=\"dataframe\">\n",
       "  <thead>\n",
       "    <tr style=\"text-align: right;\">\n",
       "      <th></th>\n",
       "      <th>count</th>\n",
       "      <th>mean</th>\n",
       "      <th>std</th>\n",
       "      <th>min</th>\n",
       "      <th>25%</th>\n",
       "      <th>50%</th>\n",
       "      <th>75%</th>\n",
       "      <th>max</th>\n",
       "    </tr>\n",
       "  </thead>\n",
       "  <tbody>\n",
       "    <tr>\n",
       "      <th>Value</th>\n",
       "      <td>40.0</td>\n",
       "      <td>45.9</td>\n",
       "      <td>13.323971</td>\n",
       "      <td>19.0</td>\n",
       "      <td>36.5</td>\n",
       "      <td>44.5</td>\n",
       "      <td>55.25</td>\n",
       "      <td>72.0</td>\n",
       "    </tr>\n",
       "  </tbody>\n",
       "</table>\n",
       "</div>"
      ],
      "text/plain": [
       "       count  mean        std   min   25%   50%    75%   max\n",
       "Value   40.0  45.9  13.323971  19.0  36.5  44.5  55.25  72.0"
      ]
     },
     "execution_count": 125,
     "metadata": {},
     "output_type": "execute_result"
    }
   ],
   "source": [
    "a.describe().T"
   ]
  },
  {
   "cell_type": "code",
   "execution_count": null,
   "metadata": {},
   "outputs": [],
   "source": []
  },
  {
   "cell_type": "code",
   "execution_count": 165,
   "metadata": {},
   "outputs": [
    {
     "data": {
      "text/plain": [
       "28.125"
      ]
     },
     "execution_count": 165,
     "metadata": {},
     "output_type": "execute_result"
    }
   ],
   "source": [
    "18.75*1.5"
   ]
  },
  {
   "cell_type": "code",
   "execution_count": 166,
   "metadata": {},
   "outputs": [
    {
     "data": {
      "text/plain": [
       "56.25"
      ]
     },
     "execution_count": 166,
     "metadata": {},
     "output_type": "execute_result"
    }
   ],
   "source": [
    "18.75*3"
   ]
  },
  {
   "cell_type": "code",
   "execution_count": 127,
   "metadata": {},
   "outputs": [
    {
     "data": {
      "text/plain": [
       "-18.75"
      ]
     },
     "execution_count": 127,
     "metadata": {},
     "output_type": "execute_result"
    }
   ],
   "source": [
    "36.5 - 55.25"
   ]
  },
  {
   "cell_type": "markdown",
   "metadata": {},
   "source": [
    "a) First Quartile is **36.5**             \n",
    "b) Third Quartile  is **55.25**    \n",
    "c) Inter Quartile Range (IQR) is **18.75**    \n",
    "d) Inner fence is **28.125**    \n",
    "e) Outer fence is **56.25**    "
   ]
  },
  {
   "cell_type": "markdown",
   "metadata": {},
   "source": [
    "## 6. In the sample of 100 students from the 2013 YRBSS survey, the average number of days per week that students lifted weights was 2.78 days with a standard deviation of 2.56 days (coincidentally the same as days active). Compute a 95% confidence interval for the average for all students from the survey.\n",
    "Assume that conditions for normal model are met.\n",
    "\n"
   ]
  },
  {
   "cell_type": "code",
   "execution_count": 161,
   "metadata": {},
   "outputs": [
    {
     "name": "stdout",
     "output_type": "stream",
     "text": [
      "95 % confidence interval for Average of all students is 2.2782  to 3.2818\n"
     ]
    }
   ],
   "source": [
    "x=2.78\n",
    "std=2.56\n",
    "n=100\n",
    "ci = 0.95\n",
    "s  = std / np.sqrt(n)\n",
    "LCI, UCI = stats.norm.interval(ci, loc = x, scale = s)\n",
    "print('95 %s confidence interval for Average of all students is %1.4f  to %1.4f' % ('%', LCI , UCI)) "
   ]
  },
  {
   "cell_type": "markdown",
   "metadata": {},
   "source": [
    "## 7. A health drink manufacturing company claims their average fill volume of their bottle is 235ml across their factories with a standard deviation of 5ml. \n",
    "\n",
    "    a) What is the probability of randomly picked bottle measuring less than 230ml? \n",
    "    \n",
    "    b) What is the probability of randomly picked bottle measuring more than 235ml?\n",
    "    \n",
    "    c) Give an inference and comments based on the results of a & b."
   ]
  },
  {
   "cell_type": "markdown",
   "metadata": {},
   "source": [
    "    a) What is the probability of randomly picked bottle measuring less than 230ml? "
   ]
  },
  {
   "cell_type": "code",
   "execution_count": 163,
   "metadata": {},
   "outputs": [
    {
     "name": "stdout",
     "output_type": "stream",
     "text": [
      "probability of randomly picked bottle measuring less than 230ml: 0.15865525393145707\n"
     ]
    }
   ],
   "source": [
    "x=235\n",
    "std=5\n",
    "z1=(230 - x)/std\n",
    "\n",
    "prob1=stats.norm.cdf(z1)\n",
    "print(\"probability of randomly picked bottle measuring less than 230ml:\",prob1)\n"
   ]
  },
  {
   "cell_type": "markdown",
   "metadata": {},
   "source": [
    "b) What is the probability of randomly picked bottle measuring more than 235ml?"
   ]
  },
  {
   "cell_type": "code",
   "execution_count": 164,
   "metadata": {},
   "outputs": [
    {
     "name": "stdout",
     "output_type": "stream",
     "text": [
      "probability of randomly picked bottle measuring more than 235ml: 0.5\n"
     ]
    }
   ],
   "source": [
    "z2=(235 - x)/std\n",
    "\n",
    "prob2=1-stats.norm.cdf(z2)\n",
    "print(\"probability of randomly picked bottle measuring more than 235ml:\",prob2)"
   ]
  },
  {
   "cell_type": "markdown",
   "metadata": {},
   "source": [
    "    c) Give an inference and comments based on the results of a & b."
   ]
  },
  {
   "cell_type": "markdown",
   "metadata": {},
   "source": [
    "from the above we can see that probability of randomly picking a bottle measuring more than 235ml is greater than \n",
    "probability of randomly picking a bottle measuring less than 230ml\n",
    "\n",
    "therefore we can say that the company is producing less number of bottle with capacity less than 230\n",
    "\n",
    "half the number bottles produced have capacity greater than 235ml \n",
    "\n",
    "Claim of the company is vaild"
   ]
  },
  {
   "cell_type": "markdown",
   "metadata": {},
   "source": [
    "## 8. Play the piano. Georgianna claims that in a small city renowned for its music school, the average child takes at least 5 years of piano lessons. We have a random sample of 20 children from the city, with a mean of 4.6 years of piano lessons and standard deviation of 2.2 years\n",
    "\n",
    "    a) Evaluate Georgianna’s claim using hypothesis test\n",
    "    \n",
    "    b) Construct a 95 % confidence interval for the number of years students in this city take piano lessons, and interpret it in the context of data.\n",
    "    \n",
    "    c) Do your results from the hypothesis test and the confidence interval agree? Explain your reasoning."
   ]
  },
  {
   "cell_type": "markdown",
   "metadata": {},
   "source": [
    "a) Evaluate Georgianna’s claim using hypothesis test"
   ]
  },
  {
   "cell_type": "markdown",
   "metadata": {},
   "source": [
    "Ho, Null Hypothesis = mean_years>= 5\n",
    "\n",
    "HA, Aleternate Hypothesis = mean_years<5\n"
   ]
  },
  {
   "cell_type": "code",
   "execution_count": 128,
   "metadata": {},
   "outputs": [],
   "source": [
    "Alpha=0.05\n",
    "ci=0.95\n",
    "n=20\n",
    "X=4.6\n",
    "std=2.2"
   ]
  },
  {
   "cell_type": "markdown",
   "metadata": {},
   "source": [
    "b) Construct a 95 % confidence interval for the number of years students in this city take piano lessons, and interpret it in the context of data."
   ]
  },
  {
   "cell_type": "code",
   "execution_count": 129,
   "metadata": {},
   "outputs": [
    {
     "name": "stdout",
     "output_type": "stream",
     "text": [
      "95 % confidence interval for Average Number of years is 3.6358  to 5.5642\n"
     ]
    }
   ],
   "source": [
    "\n",
    "s  = std / np.sqrt(n)\n",
    "LCI, UCI = stats.norm.interval(ci, loc = X, scale = s) # Give confidence interval 95%, mean and std as arguments to get CI\n",
    "print('95 %s confidence interval for Average Number of years is %1.4f  to %1.4f' % ('%', LCI , UCI))"
   ]
  },
  {
   "cell_type": "markdown",
   "metadata": {},
   "source": [
    "c) Do your results from the hypothesis test and the confidence interval agree? Explain your reasoning."
   ]
  },
  {
   "cell_type": "code",
   "execution_count": 130,
   "metadata": {},
   "outputs": [
    {
     "name": "stdout",
     "output_type": "stream",
     "text": [
      "Value of Z is 0.81312\n",
      "Value of Z critical is 1.640000\n"
     ]
    }
   ],
   "source": [
    "z2=(5 - X)/(std/np.sqrt(n))\n",
    "print('Value of Z is %2.5f' %z2)\n",
    "Zcrit = round(stats.norm.isf(q = 0.05),2)\n",
    "print('Value of Z critical is %3.6f' %Zcrit)  "
   ]
  },
  {
   "cell_type": "markdown",
   "metadata": {},
   "source": [
    "From the above we can say that hypothesis test and the confidence interval agree because the value of zstatistic falls inside the acceptance region and there is confidence interval of 3.6358  to 5.5642 , with 5.5642 as the upper limit"
   ]
  },
  {
   "cell_type": "markdown",
   "metadata": {},
   "source": [
    "## 9. Air quality measurements were collected in a random sample of 25 country capitals in 2013, and then again in the same cities in 2014. We would like to use these data to compare average air quality between the two years.\n",
    "    I. Should we use a one-sided test or a two-sided test? Explain your reasoning.\n",
    "    II. Should we use a paired or non-paired test? Explain your reasoning.\n",
    "    III. Should we use t-test or z-test ? Explain your reasoning."
   ]
  },
  {
   "cell_type": "markdown",
   "metadata": {},
   "source": [
    "**I. Should we use a one-sided test or a two-sided test? Explain your reasoning.**\n",
    "\n",
    "we should use two-sided test because our H0 and HA are the following\n",
    "\n",
    "H0 :  μAfter  -  μBefore  = 0\n",
    "\n",
    "HA :  μAfter  -  μBefore   ≠  0\n",
    "\n",
    "this will lead to a 2 tailed test\n",
    "    \n",
    "    \n",
    "    \n",
    "**II. Should we use a paired or non-paired test? Explain your reasoning.**\n",
    "\n",
    "We should use a paired test because we are considering the same sample with the same size, non-paired  test should be conducted only when samples are different\n",
    "\n",
    "\n",
    "\n",
    "\n",
    "**III. Should we use t-test or z-test ? Explain your reasoning.**\n",
    "    \n",
    " We should be using a t test because the population parameters(mean,std etc) are not know to us, also paired test can only be done in t test."
   ]
  },
  {
   "cell_type": "markdown",
   "metadata": {},
   "source": [
    "## 10. Load the data (recruitment_data.csv) file and perform the following, [7 Marks]\n",
    "\n",
    "    a) Delete all missing value rows and report the reduced data frame \n",
    "    \n",
    "    b) Check the variable ‘sales_quota_pct’, for its normality, justify with suitable plots\n",
    "    \n",
    "    c) Check whether the sales_quota_pct vary significantly with respect to the mode of requirement (Referral candidates Vs Applied Online)\n",
    "    \n",
    "    d) Check the proportion of Attrition vary significantly or not, with respect to all mode of recruitment"
   ]
  },
  {
   "cell_type": "markdown",
   "metadata": {},
   "source": [
    "a) Delete all missing value rows and report the reduced data frame "
   ]
  },
  {
   "cell_type": "code",
   "execution_count": 131,
   "metadata": {},
   "outputs": [
    {
     "data": {
      "text/html": [
       "<div>\n",
       "<style scoped>\n",
       "    .dataframe tbody tr th:only-of-type {\n",
       "        vertical-align: middle;\n",
       "    }\n",
       "\n",
       "    .dataframe tbody tr th {\n",
       "        vertical-align: top;\n",
       "    }\n",
       "\n",
       "    .dataframe thead th {\n",
       "        text-align: right;\n",
       "    }\n",
       "</style>\n",
       "<table border=\"1\" class=\"dataframe\">\n",
       "  <thead>\n",
       "    <tr style=\"text-align: right;\">\n",
       "      <th></th>\n",
       "      <th>attrition</th>\n",
       "      <th>performance_rating</th>\n",
       "      <th>sales_quota_pct</th>\n",
       "      <th>recruiting_source</th>\n",
       "    </tr>\n",
       "  </thead>\n",
       "  <tbody>\n",
       "    <tr>\n",
       "      <th>0</th>\n",
       "      <td>1</td>\n",
       "      <td>3</td>\n",
       "      <td>1.088190</td>\n",
       "      <td>Applied Online</td>\n",
       "    </tr>\n",
       "    <tr>\n",
       "      <th>1</th>\n",
       "      <td>0</td>\n",
       "      <td>3</td>\n",
       "      <td>2.394173</td>\n",
       "      <td>NaN</td>\n",
       "    </tr>\n",
       "    <tr>\n",
       "      <th>2</th>\n",
       "      <td>1</td>\n",
       "      <td>2</td>\n",
       "      <td>0.497530</td>\n",
       "      <td>Campus</td>\n",
       "    </tr>\n",
       "    <tr>\n",
       "      <th>3</th>\n",
       "      <td>0</td>\n",
       "      <td>2</td>\n",
       "      <td>2.513958</td>\n",
       "      <td>NaN</td>\n",
       "    </tr>\n",
       "    <tr>\n",
       "      <th>4</th>\n",
       "      <td>0</td>\n",
       "      <td>3</td>\n",
       "      <td>1.424789</td>\n",
       "      <td>Applied Online</td>\n",
       "    </tr>\n",
       "  </tbody>\n",
       "</table>\n",
       "</div>"
      ],
      "text/plain": [
       "   attrition  performance_rating  sales_quota_pct recruiting_source\n",
       "0          1                   3         1.088190    Applied Online\n",
       "1          0                   3         2.394173               NaN\n",
       "2          1                   2         0.497530            Campus\n",
       "3          0                   2         2.513958               NaN\n",
       "4          0                   3         1.424789    Applied Online"
      ]
     },
     "execution_count": 131,
     "metadata": {},
     "output_type": "execute_result"
    }
   ],
   "source": [
    "df=pd.read_csv('recruitment_data.csv')\n",
    "df.head()"
   ]
  },
  {
   "cell_type": "code",
   "execution_count": null,
   "metadata": {},
   "outputs": [],
   "source": []
  },
  {
   "cell_type": "code",
   "execution_count": 133,
   "metadata": {},
   "outputs": [
    {
     "name": "stdout",
     "output_type": "stream",
     "text": [
      "<class 'pandas.core.frame.DataFrame'>\n",
      "RangeIndex: 446 entries, 0 to 445\n",
      "Data columns (total 4 columns):\n",
      "attrition             446 non-null int64\n",
      "performance_rating    446 non-null int64\n",
      "sales_quota_pct       446 non-null float64\n",
      "recruiting_source     241 non-null object\n",
      "dtypes: float64(1), int64(2), object(1)\n",
      "memory usage: 14.0+ KB\n"
     ]
    }
   ],
   "source": [
    "df.info()"
   ]
  },
  {
   "cell_type": "code",
   "execution_count": 134,
   "metadata": {},
   "outputs": [
    {
     "data": {
      "text/html": [
       "<div>\n",
       "<style scoped>\n",
       "    .dataframe tbody tr th:only-of-type {\n",
       "        vertical-align: middle;\n",
       "    }\n",
       "\n",
       "    .dataframe tbody tr th {\n",
       "        vertical-align: top;\n",
       "    }\n",
       "\n",
       "    .dataframe thead th {\n",
       "        text-align: right;\n",
       "    }\n",
       "</style>\n",
       "<table border=\"1\" class=\"dataframe\">\n",
       "  <thead>\n",
       "    <tr style=\"text-align: right;\">\n",
       "      <th></th>\n",
       "      <th>count</th>\n",
       "      <th>mean</th>\n",
       "      <th>std</th>\n",
       "      <th>min</th>\n",
       "      <th>25%</th>\n",
       "      <th>50%</th>\n",
       "      <th>75%</th>\n",
       "      <th>max</th>\n",
       "    </tr>\n",
       "  </thead>\n",
       "  <tbody>\n",
       "    <tr>\n",
       "      <th>attrition</th>\n",
       "      <td>446.0</td>\n",
       "      <td>0.213004</td>\n",
       "      <td>0.409891</td>\n",
       "      <td>0.000000</td>\n",
       "      <td>0.000000</td>\n",
       "      <td>0.000000</td>\n",
       "      <td>0.000000</td>\n",
       "      <td>1.00000</td>\n",
       "    </tr>\n",
       "    <tr>\n",
       "      <th>performance_rating</th>\n",
       "      <td>446.0</td>\n",
       "      <td>2.894619</td>\n",
       "      <td>0.683755</td>\n",
       "      <td>1.000000</td>\n",
       "      <td>2.000000</td>\n",
       "      <td>3.000000</td>\n",
       "      <td>3.000000</td>\n",
       "      <td>5.00000</td>\n",
       "    </tr>\n",
       "    <tr>\n",
       "      <th>sales_quota_pct</th>\n",
       "      <td>446.0</td>\n",
       "      <td>1.082607</td>\n",
       "      <td>0.710042</td>\n",
       "      <td>-0.710827</td>\n",
       "      <td>0.584444</td>\n",
       "      <td>1.070143</td>\n",
       "      <td>1.532488</td>\n",
       "      <td>3.66674</td>\n",
       "    </tr>\n",
       "  </tbody>\n",
       "</table>\n",
       "</div>"
      ],
      "text/plain": [
       "                    count      mean       std       min       25%       50%  \\\n",
       "attrition           446.0  0.213004  0.409891  0.000000  0.000000  0.000000   \n",
       "performance_rating  446.0  2.894619  0.683755  1.000000  2.000000  3.000000   \n",
       "sales_quota_pct     446.0  1.082607  0.710042 -0.710827  0.584444  1.070143   \n",
       "\n",
       "                         75%      max  \n",
       "attrition           0.000000  1.00000  \n",
       "performance_rating  3.000000  5.00000  \n",
       "sales_quota_pct     1.532488  3.66674  "
      ]
     },
     "execution_count": 134,
     "metadata": {},
     "output_type": "execute_result"
    }
   ],
   "source": [
    "df.describe().T"
   ]
  },
  {
   "cell_type": "code",
   "execution_count": 135,
   "metadata": {},
   "outputs": [
    {
     "data": {
      "text/plain": [
       "attrition               0\n",
       "performance_rating      0\n",
       "sales_quota_pct         0\n",
       "recruiting_source     205\n",
       "dtype: int64"
      ]
     },
     "execution_count": 135,
     "metadata": {},
     "output_type": "execute_result"
    }
   ],
   "source": [
    "df.isnull().sum()"
   ]
  },
  {
   "cell_type": "code",
   "execution_count": 136,
   "metadata": {},
   "outputs": [],
   "source": [
    "df.dropna(axis=0,inplace=True)"
   ]
  },
  {
   "cell_type": "code",
   "execution_count": 137,
   "metadata": {},
   "outputs": [
    {
     "data": {
      "text/plain": [
       "attrition             0\n",
       "performance_rating    0\n",
       "sales_quota_pct       0\n",
       "recruiting_source     0\n",
       "dtype: int64"
      ]
     },
     "execution_count": 137,
     "metadata": {},
     "output_type": "execute_result"
    }
   ],
   "source": [
    "df.isnull().sum()"
   ]
  },
  {
   "cell_type": "code",
   "execution_count": 138,
   "metadata": {},
   "outputs": [
    {
     "name": "stdout",
     "output_type": "stream",
     "text": [
      "<class 'pandas.core.frame.DataFrame'>\n",
      "Int64Index: 241 entries, 0 to 444\n",
      "Data columns (total 4 columns):\n",
      "attrition             241 non-null int64\n",
      "performance_rating    241 non-null int64\n",
      "sales_quota_pct       241 non-null float64\n",
      "recruiting_source     241 non-null object\n",
      "dtypes: float64(1), int64(2), object(1)\n",
      "memory usage: 9.4+ KB\n"
     ]
    }
   ],
   "source": [
    "df.info()"
   ]
  },
  {
   "cell_type": "code",
   "execution_count": 157,
   "metadata": {},
   "outputs": [
    {
     "data": {
      "text/html": [
       "<div>\n",
       "<style scoped>\n",
       "    .dataframe tbody tr th:only-of-type {\n",
       "        vertical-align: middle;\n",
       "    }\n",
       "\n",
       "    .dataframe tbody tr th {\n",
       "        vertical-align: top;\n",
       "    }\n",
       "\n",
       "    .dataframe thead th {\n",
       "        text-align: right;\n",
       "    }\n",
       "</style>\n",
       "<table border=\"1\" class=\"dataframe\">\n",
       "  <thead>\n",
       "    <tr style=\"text-align: right;\">\n",
       "      <th></th>\n",
       "      <th>attrition</th>\n",
       "      <th>performance_rating</th>\n",
       "      <th>sales_quota_pct</th>\n",
       "      <th>recruiting_source</th>\n",
       "    </tr>\n",
       "  </thead>\n",
       "  <tbody>\n",
       "    <tr>\n",
       "      <th>0</th>\n",
       "      <td>1</td>\n",
       "      <td>3</td>\n",
       "      <td>1.088190</td>\n",
       "      <td>Applied Online</td>\n",
       "    </tr>\n",
       "    <tr>\n",
       "      <th>1</th>\n",
       "      <td>1</td>\n",
       "      <td>2</td>\n",
       "      <td>0.497530</td>\n",
       "      <td>Campus</td>\n",
       "    </tr>\n",
       "    <tr>\n",
       "      <th>2</th>\n",
       "      <td>0</td>\n",
       "      <td>3</td>\n",
       "      <td>1.424789</td>\n",
       "      <td>Applied Online</td>\n",
       "    </tr>\n",
       "    <tr>\n",
       "      <th>3</th>\n",
       "      <td>1</td>\n",
       "      <td>3</td>\n",
       "      <td>0.548123</td>\n",
       "      <td>Referral</td>\n",
       "    </tr>\n",
       "    <tr>\n",
       "      <th>4</th>\n",
       "      <td>1</td>\n",
       "      <td>3</td>\n",
       "      <td>0.794213</td>\n",
       "      <td>Applied Online</td>\n",
       "    </tr>\n",
       "  </tbody>\n",
       "</table>\n",
       "</div>"
      ],
      "text/plain": [
       "   attrition  performance_rating  sales_quota_pct recruiting_source\n",
       "0          1                   3         1.088190    Applied Online\n",
       "1          1                   2         0.497530            Campus\n",
       "2          0                   3         1.424789    Applied Online\n",
       "3          1                   3         0.548123          Referral\n",
       "4          1                   3         0.794213    Applied Online"
      ]
     },
     "execution_count": 157,
     "metadata": {},
     "output_type": "execute_result"
    }
   ],
   "source": [
    "# Final DataFrame is df\n",
    "df.head()"
   ]
  },
  {
   "cell_type": "code",
   "execution_count": null,
   "metadata": {},
   "outputs": [],
   "source": []
  },
  {
   "cell_type": "code",
   "execution_count": 141,
   "metadata": {},
   "outputs": [],
   "source": [
    "df.index= range(0,241)"
   ]
  },
  {
   "cell_type": "code",
   "execution_count": 142,
   "metadata": {},
   "outputs": [
    {
     "name": "stdout",
     "output_type": "stream",
     "text": [
      "<class 'pandas.core.frame.DataFrame'>\n",
      "RangeIndex: 241 entries, 0 to 240\n",
      "Data columns (total 4 columns):\n",
      "attrition             241 non-null int64\n",
      "performance_rating    241 non-null int64\n",
      "sales_quota_pct       241 non-null float64\n",
      "recruiting_source     241 non-null object\n",
      "dtypes: float64(1), int64(2), object(1)\n",
      "memory usage: 7.6+ KB\n"
     ]
    }
   ],
   "source": [
    "df.info()"
   ]
  },
  {
   "cell_type": "markdown",
   "metadata": {},
   "source": [
    "b) Check the variable ‘sales_quota_pct’, for its normality, justify with suitable plots"
   ]
  },
  {
   "cell_type": "code",
   "execution_count": 160,
   "metadata": {},
   "outputs": [
    {
     "data": {
      "text/plain": [
       "Applied Online    130\n",
       "Campus             56\n",
       "Referral           45\n",
       "Search Firm        10\n",
       "Name: recruiting_source, dtype: int64"
      ]
     },
     "execution_count": 160,
     "metadata": {},
     "output_type": "execute_result"
    }
   ],
   "source": [
    "df.recruiting_source.value_counts()"
   ]
  },
  {
   "cell_type": "code",
   "execution_count": null,
   "metadata": {},
   "outputs": [],
   "source": []
  },
  {
   "cell_type": "code",
   "execution_count": 144,
   "metadata": {},
   "outputs": [
    {
     "name": "stderr",
     "output_type": "stream",
     "text": [
      "C:\\Users\\lenovo\\Anaconda3\\lib\\site-packages\\scipy\\stats\\stats.py:1713: FutureWarning: Using a non-tuple sequence for multidimensional indexing is deprecated; use `arr[tuple(seq)]` instead of `arr[seq]`. In the future this will be interpreted as an array index, `arr[np.array(seq)]`, which will result either in an error or a different result.\n",
      "  return np.add.reduce(sorted[indexer] * weights, axis=axis) / sumval\n"
     ]
    },
    {
     "data": {
      "image/png": "[encoded data removed]",
      "text/plain": [
       "<Figure size 432x288 with 1 Axes>"
      ]
     },
     "metadata": {
      "needs_background": "light"
     },
     "output_type": "display_data"
    }
   ],
   "source": [
    "sns.distplot(df.sales_quota_pct,kde=True)\n",
    "plt.show()"
   ]
  },
  {
   "cell_type": "markdown",
   "metadata": {},
   "source": [
    "**From the above graph we can understand that sales_quota_pct follow a normal distribution**"
   ]
  },
  {
   "cell_type": "markdown",
   "metadata": {},
   "source": [
    "c) Check whether the sales_quota_pct vary significantly with respect to the mode of requirement (Referral candidates Vs Applied Online)"
   ]
  },
  {
   "cell_type": "markdown",
   "metadata": {},
   "source": [
    "H0 :  μ1  =  μ2  =  μ3 \n",
    "\n",
    "HA : At least one  μ  differs\n",
    "\n",
    "Alpha = 0.05"
   ]
  },
  {
   "cell_type": "code",
   "execution_count": 146,
   "metadata": {},
   "outputs": [
    {
     "data": {
      "text/plain": [
       "Applied Online    130\n",
       "Campus             56\n",
       "Referral           45\n",
       "Search Firm        10\n",
       "Name: recruiting_source, dtype: int64"
      ]
     },
     "execution_count": 146,
     "metadata": {},
     "output_type": "execute_result"
    }
   ],
   "source": [
    "df.recruiting_source.value_counts()"
   ]
  },
  {
   "cell_type": "code",
   "execution_count": null,
   "metadata": {},
   "outputs": [],
   "source": []
  },
  {
   "cell_type": "code",
   "execution_count": null,
   "metadata": {},
   "outputs": [],
   "source": []
  },
  {
   "cell_type": "code",
   "execution_count": 147,
   "metadata": {},
   "outputs": [],
   "source": [
    "A = df['sales_quota_pct'][df['recruiting_source']=='Applied Online']\n",
    "B = df['sales_quota_pct'][df['recruiting_source']=='Campus']\n",
    "C  =df['sales_quota_pct'][df['recruiting_source']=='Referral']\n",
    "D  = df['sales_quota_pct'][df['recruiting_source']=='Search Firm']"
   ]
  },
  {
   "cell_type": "code",
   "execution_count": 148,
   "metadata": {},
   "outputs": [],
   "source": [
    "ndf = pd.DataFrame()\n",
    "\n",
    "df1            = pd.DataFrame({'recruiting_source': 'Applied Online ', 'sales_quota_pct':A})\n",
    "df2            = pd.DataFrame({'recruiting_source': 'Campus', 'sales_quota_pct':B})\n",
    "df3            = pd.DataFrame({'recruiting_source': 'Referral', 'sales_quota_pct':C})\n",
    "df4            =  pd.DataFrame({'recruiting_source': 'Search Firm', 'sales_quota_pct':D})\n",
    "\n",
    "ndf = ndf.append(df1) \n",
    "ndf = ndf.append(df2) \n",
    "ndf = ndf.append(df3) \n",
    "ndf = ndf.append(df4) "
   ]
  },
  {
   "cell_type": "code",
   "execution_count": null,
   "metadata": {},
   "outputs": [],
   "source": []
  },
  {
   "cell_type": "code",
   "execution_count": 150,
   "metadata": {},
   "outputs": [
    {
     "name": "stdout",
     "output_type": "stream",
     "text": [
      "                       sum_sq     df         F    PR(>F)\n",
      "recruiting_source    1.048373    3.0  0.710243  0.546737\n",
      "Residual           116.610078  237.0       NaN       NaN\n"
     ]
    }
   ],
   "source": [
    "import statsmodels.api         as     sm\n",
    "from   statsmodels.formula.api import ols\n",
    "from   statsmodels.stats.anova import anova_lm\n",
    "\n",
    "formula = 'sales_quota_pct ~ recruiting_source'\n",
    "model = ols(formula, ndf).fit()\n",
    "aov_table = anova_lm(model, typ=2)\n",
    "\n",
    "print(aov_table)"
   ]
  },
  {
   "cell_type": "markdown",
   "metadata": {},
   "source": [
    "Since p values is greater than 0.05 the we cannot reject null hypothesis,.i.e there is no significant difference in means"
   ]
  },
  {
   "cell_type": "code",
   "execution_count": 152,
   "metadata": {},
   "outputs": [
    {
     "name": "stdout",
     "output_type": "stream",
     "text": [
      "    Multiple Comparison of Means - Tukey HSD,FWER=0.05    \n",
      "==========================================================\n",
      "     group1        group2   meandiff  lower  upper  reject\n",
      "----------------------------------------------------------\n",
      "Applied Online     Campus   -0.1506  -0.4407 0.1396 False \n",
      "Applied Online    Referral  -0.0354  -0.3493 0.2785 False \n",
      "Applied Online  Search Firm -0.1716  -0.7672 0.424  False \n",
      "     Campus       Referral   0.1152  -0.2482 0.4785 False \n",
      "     Campus     Search Firm -0.0211  -0.6442 0.602  False \n",
      "    Referral    Search Firm -0.1362  -0.7708 0.4983 False \n",
      "----------------------------------------------------------\n"
     ]
    }
   ],
   "source": [
    "from statsmodels.stats.multicomp import pairwise_tukeyhsd\n",
    "print(pairwise_tukeyhsd(ndf['sales_quota_pct'], ndf['recruiting_source']))"
   ]
  },
  {
   "cell_type": "markdown",
   "metadata": {},
   "source": [
    "from the above we can see that sales_quota_pct does not vary significantly with respect to the mode of requirement (Referral candidates Vs Applied Online)\n",
    "\n"
   ]
  },
  {
   "cell_type": "markdown",
   "metadata": {},
   "source": [
    "d) Check the proportion of Attrition vary significantly or not, with respect to all mode of recruitment"
   ]
  },
  {
   "cell_type": "code",
   "execution_count": 86,
   "metadata": {},
   "outputs": [
    {
     "data": {
      "text/html": [
       "<div>\n",
       "<style scoped>\n",
       "    .dataframe tbody tr th:only-of-type {\n",
       "        vertical-align: middle;\n",
       "    }\n",
       "\n",
       "    .dataframe tbody tr th {\n",
       "        vertical-align: top;\n",
       "    }\n",
       "\n",
       "    .dataframe thead th {\n",
       "        text-align: right;\n",
       "    }\n",
       "</style>\n",
       "<table border=\"1\" class=\"dataframe\">\n",
       "  <thead>\n",
       "    <tr style=\"text-align: right;\">\n",
       "      <th></th>\n",
       "      <th>attrition</th>\n",
       "    </tr>\n",
       "    <tr>\n",
       "      <th>recruiting_source</th>\n",
       "      <th></th>\n",
       "    </tr>\n",
       "  </thead>\n",
       "  <tbody>\n",
       "    <tr>\n",
       "      <th>Applied Online</th>\n",
       "      <td>130</td>\n",
       "    </tr>\n",
       "    <tr>\n",
       "      <th>Campus</th>\n",
       "      <td>56</td>\n",
       "    </tr>\n",
       "    <tr>\n",
       "      <th>Referral</th>\n",
       "      <td>45</td>\n",
       "    </tr>\n",
       "    <tr>\n",
       "      <th>Search Firm</th>\n",
       "      <td>10</td>\n",
       "    </tr>\n",
       "  </tbody>\n",
       "</table>\n",
       "</div>"
      ],
      "text/plain": [
       "                   attrition\n",
       "recruiting_source           \n",
       "Applied Online           130\n",
       "Campus                    56\n",
       "Referral                  45\n",
       "Search Firm               10"
      ]
     },
     "execution_count": 86,
     "metadata": {},
     "output_type": "execute_result"
    }
   ],
   "source": [
    "df[['attrition','recruiting_source']].groupby('recruiting_source').agg('count')"
   ]
  },
  {
   "cell_type": "code",
   "execution_count": 153,
   "metadata": {},
   "outputs": [
    {
     "name": "stdout",
     "output_type": "stream",
     "text": [
      "                      sum_sq     df         F    PR(>F)\n",
      "recruiting_source   0.761630    3.0  1.252168  0.291552\n",
      "Residual           48.051648  237.0       NaN       NaN\n"
     ]
    }
   ],
   "source": [
    "import statsmodels.api         as     sm\n",
    "from   statsmodels.formula.api import ols\n",
    " \n",
    "mod = ols('attrition ~ recruiting_source', data = df).fit()\n",
    "aov_table = sm.stats.anova_lm(mod, typ=2)\n",
    "print(aov_table)\n"
   ]
  },
  {
   "cell_type": "markdown",
   "metadata": {},
   "source": []
  },
  {
   "cell_type": "code",
   "execution_count": 155,
   "metadata": {},
   "outputs": [
    {
     "name": "stdout",
     "output_type": "stream",
     "text": [
      "    Multiple Comparison of Means - Tukey HSD,FWER=0.05   \n",
      "=========================================================\n",
      "    group1        group2   meandiff  lower  upper  reject\n",
      "---------------------------------------------------------\n",
      "Applied Online    Campus    0.0396  -0.1467 0.2258 False \n",
      "Applied Online   Referral   0.0872  -0.1143 0.2887 False \n",
      "Applied Online Search Firm  0.2538  -0.1285 0.6362 False \n",
      "    Campus       Referral   0.0476  -0.1856 0.2809 False \n",
      "    Campus     Search Firm  0.2143  -0.1857 0.6143 False \n",
      "   Referral    Search Firm  0.1667  -0.2406 0.574  False \n",
      "---------------------------------------------------------\n"
     ]
    }
   ],
   "source": [
    "from statsmodels.stats.multicomp import pairwise_tukeyhsd\n",
    "print(pairwise_tukeyhsd(df['attrition'], df['recruiting_source']))"
   ]
  },
  {
   "cell_type": "markdown",
   "metadata": {},
   "source": [
    "P value is greater than 0.05 therefore we can say that proportion of Attrition do not vary significantly, with respect to all mode of recruitment"
   ]
  },
  {
   "cell_type": "code",
   "execution_count": null,
   "metadata": {},
   "outputs": [],
   "source": []
  },
  {
   "cell_type": "code",
   "execution_count": null,
   "metadata": {},
   "outputs": [],
   "source": []
  }
 ],
 "metadata": {
  "kernelspec": {
   "display_name": "Python 3",
   "language": "python",
   "name": "python3"
  },
  "language_info": {
   "codemirror_mode": {
    "name": "ipython",
    "version": 3
   },
   "file_extension": ".py",
   "mimetype": "text/x-python",
   "name": "python",
   "nbconvert_exporter": "python",
   "pygments_lexer": "ipython3",
   "version": "3.7.0"
  }
 },
 "nbformat": 4,
 "nbformat_minor": 2
}
