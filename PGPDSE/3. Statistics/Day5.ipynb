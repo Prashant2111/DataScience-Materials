{
 "cells": [
  {
   "cell_type": "code",
   "execution_count": 21,
   "metadata": {},
   "outputs": [],
   "source": [
    "import pandas as pd\n",
    "import numpy as np\n",
    "import scipy.stats as stats\n",
    "import matplotlib.pyplot as plt\n",
    "%matplotlib inline\n",
    "import seaborn as sns"
   ]
  },
  {
   "cell_type": "code",
   "execution_count": 30,
   "metadata": {},
   "outputs": [],
   "source": [
    "sales=pd.read_csv('Store.csv',index_col='Observation')"
   ]
  },
  {
   "cell_type": "code",
   "execution_count": 31,
   "metadata": {},
   "outputs": [
    {
     "data": {
      "text/html": [
       "<div>\n",
       "<style scoped>\n",
       "    .dataframe tbody tr th:only-of-type {\n",
       "        vertical-align: middle;\n",
       "    }\n",
       "\n",
       "    .dataframe tbody tr th {\n",
       "        vertical-align: top;\n",
       "    }\n",
       "\n",
       "    .dataframe thead th {\n",
       "        text-align: right;\n",
       "    }\n",
       "</style>\n",
       "<table border=\"1\" class=\"dataframe\">\n",
       "  <thead>\n",
       "    <tr style=\"text-align: right;\">\n",
       "      <th></th>\n",
       "      <th>Dist_Taxi</th>\n",
       "      <th>Dist_Market</th>\n",
       "      <th>Dist_Metro</th>\n",
       "      <th>Store_Area</th>\n",
       "      <th>Items_Available</th>\n",
       "      <th>Parking</th>\n",
       "      <th>Coupon_Category</th>\n",
       "      <th>Daily_Customer_Count</th>\n",
       "      <th>Store_Sales</th>\n",
       "    </tr>\n",
       "    <tr>\n",
       "      <th>Observation</th>\n",
       "      <th></th>\n",
       "      <th></th>\n",
       "      <th></th>\n",
       "      <th></th>\n",
       "      <th></th>\n",
       "      <th></th>\n",
       "      <th></th>\n",
       "      <th></th>\n",
       "      <th></th>\n",
       "    </tr>\n",
       "  </thead>\n",
       "  <tbody>\n",
       "    <tr>\n",
       "      <th>1</th>\n",
       "      <td>9796.0</td>\n",
       "      <td>5250.0</td>\n",
       "      <td>10703.0</td>\n",
       "      <td>1659.0</td>\n",
       "      <td>1961.0</td>\n",
       "      <td>Open</td>\n",
       "      <td>CAT B</td>\n",
       "      <td>530</td>\n",
       "      <td>66490</td>\n",
       "    </tr>\n",
       "    <tr>\n",
       "      <th>2</th>\n",
       "      <td>8294.0</td>\n",
       "      <td>8186.0</td>\n",
       "      <td>12694.0</td>\n",
       "      <td>1461.0</td>\n",
       "      <td>1752.0</td>\n",
       "      <td>Not Provided</td>\n",
       "      <td>CAT B</td>\n",
       "      <td>210</td>\n",
       "      <td>39820</td>\n",
       "    </tr>\n",
       "    <tr>\n",
       "      <th>3</th>\n",
       "      <td>11001.0</td>\n",
       "      <td>14399.0</td>\n",
       "      <td>16991.0</td>\n",
       "      <td>1340.0</td>\n",
       "      <td>1609.0</td>\n",
       "      <td>Not Provided</td>\n",
       "      <td>CAT A</td>\n",
       "      <td>720</td>\n",
       "      <td>54010</td>\n",
       "    </tr>\n",
       "    <tr>\n",
       "      <th>4</th>\n",
       "      <td>8301.0</td>\n",
       "      <td>11188.0</td>\n",
       "      <td>12289.0</td>\n",
       "      <td>1451.0</td>\n",
       "      <td>1748.0</td>\n",
       "      <td>Covered</td>\n",
       "      <td>CAT B</td>\n",
       "      <td>620</td>\n",
       "      <td>53730</td>\n",
       "    </tr>\n",
       "    <tr>\n",
       "      <th>5</th>\n",
       "      <td>10510.0</td>\n",
       "      <td>12629.0</td>\n",
       "      <td>13921.0</td>\n",
       "      <td>1770.0</td>\n",
       "      <td>2111.0</td>\n",
       "      <td>Not Provided</td>\n",
       "      <td>CAT B</td>\n",
       "      <td>450</td>\n",
       "      <td>46620</td>\n",
       "    </tr>\n",
       "  </tbody>\n",
       "</table>\n",
       "</div>"
      ],
      "text/plain": [
       "             Dist_Taxi  Dist_Market  Dist_Metro  Store_Area  Items_Available  \\\n",
       "Observation                                                                    \n",
       "1               9796.0       5250.0     10703.0      1659.0           1961.0   \n",
       "2               8294.0       8186.0     12694.0      1461.0           1752.0   \n",
       "3              11001.0      14399.0     16991.0      1340.0           1609.0   \n",
       "4               8301.0      11188.0     12289.0      1451.0           1748.0   \n",
       "5              10510.0      12629.0     13921.0      1770.0           2111.0   \n",
       "\n",
       "                  Parking Coupon_Category  Daily_Customer_Count  Store_Sales  \n",
       "Observation                                                                   \n",
       "1                    Open           CAT B                   530        66490  \n",
       "2            Not Provided           CAT B                   210        39820  \n",
       "3            Not Provided           CAT A                   720        54010  \n",
       "4                 Covered           CAT B                   620        53730  \n",
       "5            Not Provided           CAT B                   450        46620  "
      ]
     },
     "execution_count": 31,
     "metadata": {},
     "output_type": "execute_result"
    }
   ],
   "source": [
    "sales.head()"
   ]
  },
  {
   "cell_type": "code",
   "execution_count": null,
   "metadata": {},
   "outputs": [],
   "source": []
  },
  {
   "cell_type": "code",
   "execution_count": 32,
   "metadata": {},
   "outputs": [
    {
     "name": "stdout",
     "output_type": "stream",
     "text": [
      "<class 'pandas.core.frame.DataFrame'>\n",
      "Int64Index: 932 entries, 1 to 932\n",
      "Data columns (total 9 columns):\n",
      "Dist_Taxi               919 non-null float64\n",
      "Dist_Market             919 non-null float64\n",
      "Dist_Metro              931 non-null float64\n",
      "Store_Area              924 non-null float64\n",
      "Items_Available         917 non-null float64\n",
      "Parking                 932 non-null object\n",
      "Coupon_Category         932 non-null object\n",
      "Daily_Customer_Count    932 non-null int64\n",
      "Store_Sales             932 non-null int64\n",
      "dtypes: float64(5), int64(2), object(2)\n",
      "memory usage: 72.8+ KB\n"
     ]
    }
   ],
   "source": [
    "sales.info()"
   ]
  },
  {
   "cell_type": "code",
   "execution_count": 38,
   "metadata": {},
   "outputs": [
    {
     "data": {
      "text/plain": [
       "Dist_Taxi               float64\n",
       "Dist_Market             float64\n",
       "Dist_Metro              float64\n",
       "Store_Area              float64\n",
       "Items_Available         float64\n",
       "Parking                  object\n",
       "Coupon_Category          object\n",
       "Daily_Customer_Count      int64\n",
       "Store_Sales               int64\n",
       "dtype: object"
      ]
     },
     "execution_count": 38,
     "metadata": {},
     "output_type": "execute_result"
    }
   ],
   "source": [
    "sales.dtypes"
   ]
  },
  {
   "cell_type": "code",
   "execution_count": 33,
   "metadata": {},
   "outputs": [
    {
     "data": {
      "text/plain": [
       "(932, 9)"
      ]
     },
     "execution_count": 33,
     "metadata": {},
     "output_type": "execute_result"
    }
   ],
   "source": [
    "sales.shape"
   ]
  },
  {
   "cell_type": "code",
   "execution_count": 34,
   "metadata": {},
   "outputs": [
    {
     "data": {
      "text/plain": [
       "Dist_Taxi               13\n",
       "Dist_Market             13\n",
       "Dist_Metro               1\n",
       "Store_Area               8\n",
       "Items_Available         15\n",
       "Parking                  0\n",
       "Coupon_Category          0\n",
       "Daily_Customer_Count     0\n",
       "Store_Sales              0\n",
       "dtype: int64"
      ]
     },
     "execution_count": 34,
     "metadata": {},
     "output_type": "execute_result"
    }
   ],
   "source": [
    "sales.isnull().sum()"
   ]
  },
  {
   "cell_type": "code",
   "execution_count": 35,
   "metadata": {},
   "outputs": [],
   "source": [
    "sales.fillna(sales.median(),inplace=True)"
   ]
  },
  {
   "cell_type": "code",
   "execution_count": 36,
   "metadata": {},
   "outputs": [
    {
     "data": {
      "text/plain": [
       "Dist_Taxi               0\n",
       "Dist_Market             0\n",
       "Dist_Metro              0\n",
       "Store_Area              0\n",
       "Items_Available         0\n",
       "Parking                 0\n",
       "Coupon_Category         0\n",
       "Daily_Customer_Count    0\n",
       "Store_Sales             0\n",
       "dtype: int64"
      ]
     },
     "execution_count": 36,
     "metadata": {},
     "output_type": "execute_result"
    }
   ],
   "source": [
    "sales.isnull().sum()"
   ]
  },
  {
   "cell_type": "code",
   "execution_count": 47,
   "metadata": {},
   "outputs": [
    {
     "data": {
      "image/png": "[encoded data removed]",
      "text/plain": [
       "<Figure size 432x288 with 1 Axes>"
      ]
     },
     "metadata": {
      "needs_background": "light"
     },
     "output_type": "display_data"
    },
    {
     "data": {
      "image/png": "[encoded data removed]",
      "text/plain": [
       "<Figure size 432x288 with 1 Axes>"
      ]
     },
     "metadata": {
      "needs_background": "light"
     },
     "output_type": "display_data"
    },
    {
     "data": {
      "image/png": "[encoded data removed]",
      "text/plain": [
       "<Figure size 432x288 with 1 Axes>"
      ]
     },
     "metadata": {
      "needs_background": "light"
     },
     "output_type": "display_data"
    },
    {
     "data": {
      "image/png": "[encoded data removed]",
      "text/plain": [
       "<Figure size 432x288 with 1 Axes>"
      ]
     },
     "metadata": {
      "needs_background": "light"
     },
     "output_type": "display_data"
    },
    {
     "data": {
      "image/png": "[encoded data removed]",
      "text/plain": [
       "<Figure size 432x288 with 1 Axes>"
      ]
     },
     "metadata": {
      "needs_background": "light"
     },
     "output_type": "display_data"
    },
    {
     "data": {
      "image/png": "[encoded data removed]",
      "text/plain": [
       "<Figure size 432x288 with 1 Axes>"
      ]
     },
     "metadata": {
      "needs_background": "light"
     },
     "output_type": "display_data"
    },
    {
     "data": {
      "image/png": "[encoded data removed]",
      "text/plain": [
       "<Figure size 432x288 with 1 Axes>"
      ]
     },
     "metadata": {
      "needs_background": "light"
     },
     "output_type": "display_data"
    }
   ],
   "source": [
    "for i in sales.columns:\n",
    "    if (sales[i].dtype != 'object'):\n",
    "        sns.boxplot(sales[i])\n",
    "        plt.show()"
   ]
  },
  {
   "cell_type": "code",
   "execution_count": 39,
   "metadata": {},
   "outputs": [],
   "source": [
    "# let's create 2 datasets , one with oultiers and one without outliers"
   ]
  },
  {
   "cell_type": "code",
   "execution_count": 67,
   "metadata": {},
   "outputs": [],
   "source": [
    "df1=sales    # with outliers"
   ]
  },
  {
   "cell_type": "code",
   "execution_count": 42,
   "metadata": {},
   "outputs": [
    {
     "data": {
      "text/html": [
       "<div>\n",
       "<style scoped>\n",
       "    .dataframe tbody tr th:only-of-type {\n",
       "        vertical-align: middle;\n",
       "    }\n",
       "\n",
       "    .dataframe tbody tr th {\n",
       "        vertical-align: top;\n",
       "    }\n",
       "\n",
       "    .dataframe thead th {\n",
       "        text-align: right;\n",
       "    }\n",
       "</style>\n",
       "<table border=\"1\" class=\"dataframe\">\n",
       "  <thead>\n",
       "    <tr style=\"text-align: right;\">\n",
       "      <th></th>\n",
       "      <th>Dist_Taxi</th>\n",
       "      <th>Dist_Market</th>\n",
       "      <th>Dist_Metro</th>\n",
       "      <th>Store_Area</th>\n",
       "      <th>Items_Available</th>\n",
       "      <th>Parking</th>\n",
       "      <th>Coupon_Category</th>\n",
       "      <th>Daily_Customer_Count</th>\n",
       "      <th>Store_Sales</th>\n",
       "    </tr>\n",
       "    <tr>\n",
       "      <th>Observation</th>\n",
       "      <th></th>\n",
       "      <th></th>\n",
       "      <th></th>\n",
       "      <th></th>\n",
       "      <th></th>\n",
       "      <th></th>\n",
       "      <th></th>\n",
       "      <th></th>\n",
       "      <th></th>\n",
       "    </tr>\n",
       "  </thead>\n",
       "  <tbody>\n",
       "    <tr>\n",
       "      <th>361</th>\n",
       "      <td>20662.0</td>\n",
       "      <td>20945.0</td>\n",
       "      <td>23294.0</td>\n",
       "      <td>24300.0</td>\n",
       "      <td>12730.0</td>\n",
       "      <td>Covered</td>\n",
       "      <td>CAT B</td>\n",
       "      <td>1130</td>\n",
       "      <td>1500000</td>\n",
       "    </tr>\n",
       "  </tbody>\n",
       "</table>\n",
       "</div>"
      ],
      "text/plain": [
       "             Dist_Taxi  Dist_Market  Dist_Metro  Store_Area  Items_Available  \\\n",
       "Observation                                                                    \n",
       "361            20662.0      20945.0     23294.0     24300.0          12730.0   \n",
       "\n",
       "             Parking Coupon_Category  Daily_Customer_Count  Store_Sales  \n",
       "Observation                                                              \n",
       "361          Covered           CAT B                  1130      1500000  "
      ]
     },
     "execution_count": 42,
     "metadata": {},
     "output_type": "execute_result"
    }
   ],
   "source": [
    "sales[sales['Store_Sales']==max(sales['Store_Sales'])]"
   ]
  },
  {
   "cell_type": "code",
   "execution_count": 45,
   "metadata": {},
   "outputs": [],
   "source": [
    "sales.drop(index=361,inplace=True)"
   ]
  },
  {
   "cell_type": "code",
   "execution_count": 46,
   "metadata": {},
   "outputs": [
    {
     "data": {
      "text/plain": [
       "(931, 9)"
      ]
     },
     "execution_count": 46,
     "metadata": {},
     "output_type": "execute_result"
    }
   ],
   "source": [
    "sales.shape"
   ]
  },
  {
   "cell_type": "code",
   "execution_count": 49,
   "metadata": {},
   "outputs": [
    {
     "data": {
      "text/plain": [
       "Open            372\n",
       "Not Provided    227\n",
       "Covered         187\n",
       "No Parking      145\n",
       "Name: Parking, dtype: int64"
      ]
     },
     "execution_count": 49,
     "metadata": {},
     "output_type": "execute_result"
    }
   ],
   "source": [
    "sales.Parking.value_counts()"
   ]
  },
  {
   "cell_type": "code",
   "execution_count": 51,
   "metadata": {},
   "outputs": [
    {
     "name": "stderr",
     "output_type": "stream",
     "text": [
      "C:\\Users\\lenovo\\Anaconda3\\lib\\site-packages\\scipy\\stats\\stats.py:1713: FutureWarning: Using a non-tuple sequence for multidimensional indexing is deprecated; use `arr[tuple(seq)]` instead of `arr[seq]`. In the future this will be interpreted as an array index, `arr[np.array(seq)]`, which will result either in an error or a different result.\n",
      "  return np.add.reduce(sorted[indexer] * weights, axis=axis) / sumval\n"
     ]
    },
    {
     "data": {
      "image/png": "[encoded data removed]",
      "text/plain": [
       "<Figure size 432x288 with 1 Axes>"
      ]
     },
     "metadata": {
      "needs_background": "light"
     },
     "output_type": "display_data"
    }
   ],
   "source": [
    "sns.barplot(sales.Parking,sales.Store_Sales)\n",
    "plt.show()              # black bar is the confidence interval around the mean"
   ]
  },
  {
   "cell_type": "code",
   "execution_count": 61,
   "metadata": {},
   "outputs": [
    {
     "data": {
      "text/html": [
       "<div>\n",
       "<style scoped>\n",
       "    .dataframe tbody tr th:only-of-type {\n",
       "        vertical-align: middle;\n",
       "    }\n",
       "\n",
       "    .dataframe tbody tr th {\n",
       "        vertical-align: top;\n",
       "    }\n",
       "\n",
       "    .dataframe thead th {\n",
       "        text-align: right;\n",
       "    }\n",
       "</style>\n",
       "<table border=\"1\" class=\"dataframe\">\n",
       "  <thead>\n",
       "    <tr style=\"text-align: right;\">\n",
       "      <th></th>\n",
       "      <th>Store_Sales</th>\n",
       "    </tr>\n",
       "    <tr>\n",
       "      <th>Parking</th>\n",
       "      <th></th>\n",
       "    </tr>\n",
       "  </thead>\n",
       "  <tbody>\n",
       "    <tr>\n",
       "      <th>Covered</th>\n",
       "      <td>63109.732620</td>\n",
       "    </tr>\n",
       "    <tr>\n",
       "      <th>No Parking</th>\n",
       "      <td>56994.620690</td>\n",
       "    </tr>\n",
       "    <tr>\n",
       "      <th>Not Provided</th>\n",
       "      <td>57747.048458</td>\n",
       "    </tr>\n",
       "    <tr>\n",
       "      <th>Open</th>\n",
       "      <td>59233.978495</td>\n",
       "    </tr>\n",
       "  </tbody>\n",
       "</table>\n",
       "</div>"
      ],
      "text/plain": [
       "               Store_Sales\n",
       "Parking                   \n",
       "Covered       63109.732620\n",
       "No Parking    56994.620690\n",
       "Not Provided  57747.048458\n",
       "Open          59233.978495"
      ]
     },
     "execution_count": 61,
     "metadata": {},
     "output_type": "execute_result"
    }
   ],
   "source": [
    "sales[['Parking','Store_Sales']].groupby('Parking').agg('mean')"
   ]
  },
  {
   "cell_type": "markdown",
   "metadata": {},
   "source": [
    "# Anova TEST"
   ]
  },
  {
   "cell_type": "code",
   "execution_count": 70,
   "metadata": {},
   "outputs": [
    {
     "name": "stdout",
     "output_type": "stream",
     "text": [
      "             df        sum_sq       mean_sq         F    PR(>F)\n",
      "Parking     3.0  4.033839e+09  1.344613e+09  4.553203  0.003557\n",
      "Residual  927.0  2.737537e+11  2.953114e+08       NaN       NaN\n"
     ]
    }
   ],
   "source": [
    "import statsmodels.api         as     sm\n",
    "from   statsmodels.formula.api import ols\n",
    " \n",
    "mod = ols('Store_Sales ~ Parking', data = sales).fit()\n",
    "aov_table = sm.stats.anova_lm(mod, typ=1)\n",
    "print(aov_table)\n"
   ]
  },
  {
   "cell_type": "code",
   "execution_count": 74,
   "metadata": {},
   "outputs": [
    {
     "name": "stdout",
     "output_type": "stream",
     "text": [
      "             df        sum_sq       mean_sq         F    PR(>F)\n",
      "Parking     3.0  4.033839e+09  1.344613e+09  4.553203  0.003557\n",
      "Residual  927.0  2.737537e+11  2.953114e+08       NaN       NaN\n"
     ]
    }
   ],
   "source": [
    "import statsmodels.api         as     sm\n",
    "from   statsmodels.formula.api import ols\n",
    " \n",
    "mod = ols('Store_Sales ~ Parking', data = df1).fit()\n",
    "aov_table = sm.stats.anova_lm(mod, typ=1)\n",
    "print(aov_table)\n"
   ]
  },
  {
   "cell_type": "code",
   "execution_count": 75,
   "metadata": {},
   "outputs": [
    {
     "name": "stdout",
     "output_type": "stream",
     "text": [
      "        Multiple Comparison of Means - Tukey HSD,FWER=0.05        \n",
      "==================================================================\n",
      "   group1       group2     meandiff     lower      upper    reject\n",
      "------------------------------------------------------------------\n",
      "  Covered     No Parking  -6115.1119 -11009.1371 -1221.0868  True \n",
      "  Covered    Not Provided -5362.6842  -9730.541  -994.8273   True \n",
      "  Covered        Open     -3875.7541  -7840.5021  88.9939   False \n",
      " No Parking  Not Provided  752.4278   -3949.5059 5454.3614  False \n",
      " No Parking      Open     2239.3578   -2090.6807 6569.3963  False \n",
      "Not Provided     Open      1486.93    -2238.1102 5211.9703  False \n",
      "------------------------------------------------------------------\n"
     ]
    }
   ],
   "source": [
    "from statsmodels.stats.multicomp import pairwise_tukeyhsd\n",
    "print(pairwise_tukeyhsd(sales['Store_Sales'], sales['Parking']))"
   ]
  },
  {
   "cell_type": "code",
   "execution_count": 80,
   "metadata": {},
   "outputs": [],
   "source": [
    "# to check whether the there is a difference between Parking not provided and covered parking"
   ]
  },
  {
   "cell_type": "code",
   "execution_count": 82,
   "metadata": {},
   "outputs": [],
   "source": [
    "data1=sales.Store_Sales[sales['Parking']=='Not Provided']\n",
    "data2=sales.Store_Sales[sales['Parking']=='Covered']"
   ]
  },
  {
   "cell_type": "code",
   "execution_count": 97,
   "metadata": {},
   "outputs": [
    {
     "name": "stdout",
     "output_type": "stream",
     "text": [
      "P Value 0.002\n"
     ]
    },
    {
     "data": {
      "text/plain": [
       "0.0008751761474936644"
      ]
     },
     "execution_count": 97,
     "metadata": {},
     "output_type": "execute_result"
    }
   ],
   "source": [
    "t_statistic, p_value  =  stats.ttest_ind(data1,data2)\n",
    "print('P Value %1.3f' % p_value)     #by default it will give result of the 2 sided t test ,\n",
    "p_value/2 # result for one sided test"
   ]
  },
  {
   "cell_type": "code",
   "execution_count": 85,
   "metadata": {},
   "outputs": [
    {
     "data": {
      "text/plain": [
       "Ttest_indResult(statistic=-3.1502380424373726, pvalue=0.0017503522949873288)"
      ]
     },
     "execution_count": 85,
     "metadata": {},
     "output_type": "execute_result"
    }
   ],
   "source": [
    "stats.ttest_ind(data1,data2)"
   ]
  },
  {
   "cell_type": "code",
   "execution_count": 110,
   "metadata": {},
   "outputs": [],
   "source": [
    "# now checking for coupon and parking\n",
    "# H0=Coupon and parking are independent\n",
    "# H1=coupon and parking are dependent\n",
    "arr=pd.crosstab(sales['Coupon_Category'],sales['Parking']).values"
   ]
  },
  {
   "cell_type": "code",
   "execution_count": 111,
   "metadata": {},
   "outputs": [
    {
     "data": {
      "text/html": [
       "<div>\n",
       "<style scoped>\n",
       "    .dataframe tbody tr th:only-of-type {\n",
       "        vertical-align: middle;\n",
       "    }\n",
       "\n",
       "    .dataframe tbody tr th {\n",
       "        vertical-align: top;\n",
       "    }\n",
       "\n",
       "    .dataframe thead th {\n",
       "        text-align: right;\n",
       "    }\n",
       "</style>\n",
       "<table border=\"1\" class=\"dataframe\">\n",
       "  <thead>\n",
       "    <tr style=\"text-align: right;\">\n",
       "      <th>Parking</th>\n",
       "      <th>Covered</th>\n",
       "      <th>No Parking</th>\n",
       "      <th>Not Provided</th>\n",
       "      <th>Open</th>\n",
       "    </tr>\n",
       "    <tr>\n",
       "      <th>Coupon_Category</th>\n",
       "      <th></th>\n",
       "      <th></th>\n",
       "      <th></th>\n",
       "      <th></th>\n",
       "    </tr>\n",
       "  </thead>\n",
       "  <tbody>\n",
       "    <tr>\n",
       "      <th>CAT A</th>\n",
       "      <td>75</td>\n",
       "      <td>51</td>\n",
       "      <td>82</td>\n",
       "      <td>121</td>\n",
       "    </tr>\n",
       "    <tr>\n",
       "      <th>CAT B</th>\n",
       "      <td>63</td>\n",
       "      <td>53</td>\n",
       "      <td>89</td>\n",
       "      <td>159</td>\n",
       "    </tr>\n",
       "    <tr>\n",
       "      <th>CAT C</th>\n",
       "      <td>49</td>\n",
       "      <td>41</td>\n",
       "      <td>56</td>\n",
       "      <td>92</td>\n",
       "    </tr>\n",
       "  </tbody>\n",
       "</table>\n",
       "</div>"
      ],
      "text/plain": [
       "Parking          Covered  No Parking  Not Provided  Open\n",
       "Coupon_Category                                         \n",
       "CAT A                 75          51            82   121\n",
       "CAT B                 63          53            89   159\n",
       "CAT C                 49          41            56    92"
      ]
     },
     "execution_count": 111,
     "metadata": {},
     "output_type": "execute_result"
    }
   ],
   "source": [
    "pd.crosstab(sales['Coupon_Category'],sales['Parking'])"
   ]
  },
  {
   "cell_type": "code",
   "execution_count": 113,
   "metadata": {},
   "outputs": [
    {
     "data": {
      "text/plain": [
       "(5.598509055616617,\n",
       " 0.4696314046542073,\n",
       " 6,\n",
       " array([[ 66.08270677,  51.2406015 ,  80.21804511, 131.45864662],\n",
       "        [ 73.11278195,  56.69172932,  88.7518797 , 145.44360902],\n",
       "        [ 47.80451128,  37.06766917,  58.03007519,  95.09774436]]))"
      ]
     },
     "execution_count": 113,
     "metadata": {},
     "output_type": "execute_result"
    }
   ],
   "source": [
    "stats.chi2_contingency(arr)"
   ]
  },
  {
   "cell_type": "code",
   "execution_count": 124,
   "metadata": {},
   "outputs": [
    {
     "name": "stdout",
     "output_type": "stream",
     "text": [
      "Chi-square statistic 5.59851 P value 0.469631 Degrees of freedom 6\n"
     ]
    }
   ],
   "source": [
    "chi_sq_Stat, p_value, deg_freedom, exp_freq = stats.chi2_contingency(arr)\n",
    "\n",
    "print('Chi-square statistic %3.5f P value %1.6f Degrees of freedom %d' %(chi_sq_Stat, p_value,deg_freedom))"
   ]
  },
  {
   "cell_type": "code",
   "execution_count": 115,
   "metadata": {},
   "outputs": [
    {
     "data": {
      "text/html": [
       "<div>\n",
       "<style scoped>\n",
       "    .dataframe tbody tr th:only-of-type {\n",
       "        vertical-align: middle;\n",
       "    }\n",
       "\n",
       "    .dataframe tbody tr th {\n",
       "        vertical-align: top;\n",
       "    }\n",
       "\n",
       "    .dataframe thead th {\n",
       "        text-align: right;\n",
       "    }\n",
       "</style>\n",
       "<table border=\"1\" class=\"dataframe\">\n",
       "  <thead>\n",
       "    <tr style=\"text-align: right;\">\n",
       "      <th></th>\n",
       "      <th>Store_Sales</th>\n",
       "    </tr>\n",
       "    <tr>\n",
       "      <th>Coupon_Category</th>\n",
       "      <th></th>\n",
       "    </tr>\n",
       "  </thead>\n",
       "  <tbody>\n",
       "    <tr>\n",
       "      <th>CAT A</th>\n",
       "      <td>73998.662614</td>\n",
       "    </tr>\n",
       "    <tr>\n",
       "      <th>CAT B</th>\n",
       "      <td>55233.214286</td>\n",
       "    </tr>\n",
       "    <tr>\n",
       "      <th>CAT C</th>\n",
       "      <td>45205.504202</td>\n",
       "    </tr>\n",
       "  </tbody>\n",
       "</table>\n",
       "</div>"
      ],
      "text/plain": [
       "                  Store_Sales\n",
       "Coupon_Category              \n",
       "CAT A            73998.662614\n",
       "CAT B            55233.214286\n",
       "CAT C            45205.504202"
      ]
     },
     "execution_count": 115,
     "metadata": {},
     "output_type": "execute_result"
    }
   ],
   "source": [
    "sales[['Coupon_Category','Store_Sales']].groupby('Coupon_Category').agg('mean')"
   ]
  },
  {
   "cell_type": "markdown",
   "metadata": {},
   "source": [
    "# 2 way anova"
   ]
  },
  {
   "cell_type": "code",
   "execution_count": 122,
   "metadata": {},
   "outputs": [
    {
     "name": "stdout",
     "output_type": "stream",
     "text": [
      "                               sum_sq     df           F         PR(>F)\n",
      "Parking                  3.023414e+09    3.0    6.161800   3.792762e-04\n",
      "Coupon_Category          1.233702e+11    2.0  377.147746  2.581362e-120\n",
      "Parking:Coupon_Category  7.474572e+07    6.0    0.076167   9.983139e-01\n",
      "Residual                 1.503087e+11  919.0         NaN            NaN\n"
     ]
    }
   ],
   "source": [
    "# H0 = u1 =u2=u3\n",
    "# H1 = not H0\n",
    "mod = ols('Store_Sales ~ Parking + Coupon_Category + Parking:Coupon_Category', data = sales).fit()\n",
    "aov_table = sm.stats.anova_lm(mod, typ=2)\n",
    "print(aov_table)"
   ]
  },
  {
   "cell_type": "code",
   "execution_count": 123,
   "metadata": {},
   "outputs": [],
   "source": [
    "# from the above we can understand that there is no interaction term as the p value is less than 0.05"
   ]
  },
  {
   "cell_type": "code",
   "execution_count": 129,
   "metadata": {},
   "outputs": [
    {
     "data": {
      "text/html": [
       "<div>\n",
       "<style scoped>\n",
       "    .dataframe tbody tr th:only-of-type {\n",
       "        vertical-align: middle;\n",
       "    }\n",
       "\n",
       "    .dataframe tbody tr th {\n",
       "        vertical-align: top;\n",
       "    }\n",
       "\n",
       "    .dataframe thead th {\n",
       "        text-align: right;\n",
       "    }\n",
       "</style>\n",
       "<table border=\"1\" class=\"dataframe\">\n",
       "  <thead>\n",
       "    <tr style=\"text-align: right;\">\n",
       "      <th></th>\n",
       "      <th></th>\n",
       "      <th>Store_Sales</th>\n",
       "    </tr>\n",
       "    <tr>\n",
       "      <th>Coupon_Category</th>\n",
       "      <th>Parking</th>\n",
       "      <th></th>\n",
       "    </tr>\n",
       "  </thead>\n",
       "  <tbody>\n",
       "    <tr>\n",
       "      <th rowspan=\"4\" valign=\"top\">CAT A</th>\n",
       "      <th>Covered</th>\n",
       "      <td>77047.333333</td>\n",
       "    </tr>\n",
       "    <tr>\n",
       "      <th>No Parking</th>\n",
       "      <td>71999.607843</td>\n",
       "    </tr>\n",
       "    <tr>\n",
       "      <th>Not Provided</th>\n",
       "      <td>72015.975610</td>\n",
       "    </tr>\n",
       "    <tr>\n",
       "      <th>Open</th>\n",
       "      <td>74295.206612</td>\n",
       "    </tr>\n",
       "    <tr>\n",
       "      <th rowspan=\"4\" valign=\"top\">CAT B</th>\n",
       "      <th>Covered</th>\n",
       "      <td>58140.793651</td>\n",
       "    </tr>\n",
       "    <tr>\n",
       "      <th>No Parking</th>\n",
       "      <td>53021.886792</td>\n",
       "    </tr>\n",
       "    <tr>\n",
       "      <th>Not Provided</th>\n",
       "      <td>53213.595506</td>\n",
       "    </tr>\n",
       "    <tr>\n",
       "      <th>Open</th>\n",
       "      <td>55948.742138</td>\n",
       "    </tr>\n",
       "    <tr>\n",
       "      <th rowspan=\"4\" valign=\"top\">CAT C</th>\n",
       "      <th>Covered</th>\n",
       "      <td>48165.306122</td>\n",
       "    </tr>\n",
       "    <tr>\n",
       "      <th>No Parking</th>\n",
       "      <td>43465.365854</td>\n",
       "    </tr>\n",
       "    <tr>\n",
       "      <th>Not Provided</th>\n",
       "      <td>44058.214286</td>\n",
       "    </tr>\n",
       "    <tr>\n",
       "      <th>Open</th>\n",
       "      <td>45102.934783</td>\n",
       "    </tr>\n",
       "  </tbody>\n",
       "</table>\n",
       "</div>"
      ],
      "text/plain": [
       "                               Store_Sales\n",
       "Coupon_Category Parking                   \n",
       "CAT A           Covered       77047.333333\n",
       "                No Parking    71999.607843\n",
       "                Not Provided  72015.975610\n",
       "                Open          74295.206612\n",
       "CAT B           Covered       58140.793651\n",
       "                No Parking    53021.886792\n",
       "                Not Provided  53213.595506\n",
       "                Open          55948.742138\n",
       "CAT C           Covered       48165.306122\n",
       "                No Parking    43465.365854\n",
       "                Not Provided  44058.214286\n",
       "                Open          45102.934783"
      ]
     },
     "execution_count": 129,
     "metadata": {},
     "output_type": "execute_result"
    }
   ],
   "source": [
    "sales[['Parking','Coupon_Category','Store_Sales']].groupby(['Coupon_Category','Parking']).agg('mean')"
   ]
  },
  {
   "cell_type": "code",
   "execution_count": 141,
   "metadata": {},
   "outputs": [
    {
     "data": {
      "text/html": [
       "<div>\n",
       "<style scoped>\n",
       "    .dataframe tbody tr th:only-of-type {\n",
       "        vertical-align: middle;\n",
       "    }\n",
       "\n",
       "    .dataframe tbody tr th {\n",
       "        vertical-align: top;\n",
       "    }\n",
       "\n",
       "    .dataframe thead th {\n",
       "        text-align: right;\n",
       "    }\n",
       "</style>\n",
       "<table border=\"1\" class=\"dataframe\">\n",
       "  <thead>\n",
       "    <tr style=\"text-align: right;\">\n",
       "      <th>Parking</th>\n",
       "      <th>Covered</th>\n",
       "      <th>No Parking</th>\n",
       "      <th>Not Provided</th>\n",
       "      <th>Open</th>\n",
       "    </tr>\n",
       "    <tr>\n",
       "      <th>Coupon_Category</th>\n",
       "      <th></th>\n",
       "      <th></th>\n",
       "      <th></th>\n",
       "      <th></th>\n",
       "    </tr>\n",
       "  </thead>\n",
       "  <tbody>\n",
       "    <tr>\n",
       "      <th>CAT A</th>\n",
       "      <td>77047.333333</td>\n",
       "      <td>71999.607843</td>\n",
       "      <td>72015.975610</td>\n",
       "      <td>74295.206612</td>\n",
       "    </tr>\n",
       "    <tr>\n",
       "      <th>CAT B</th>\n",
       "      <td>58140.793651</td>\n",
       "      <td>53021.886792</td>\n",
       "      <td>53213.595506</td>\n",
       "      <td>55948.742138</td>\n",
       "    </tr>\n",
       "    <tr>\n",
       "      <th>CAT C</th>\n",
       "      <td>48165.306122</td>\n",
       "      <td>43465.365854</td>\n",
       "      <td>44058.214286</td>\n",
       "      <td>45102.934783</td>\n",
       "    </tr>\n",
       "  </tbody>\n",
       "</table>\n",
       "</div>"
      ],
      "text/plain": [
       "Parking               Covered    No Parking  Not Provided          Open\n",
       "Coupon_Category                                                        \n",
       "CAT A            77047.333333  71999.607843  72015.975610  74295.206612\n",
       "CAT B            58140.793651  53021.886792  53213.595506  55948.742138\n",
       "CAT C            48165.306122  43465.365854  44058.214286  45102.934783"
      ]
     },
     "execution_count": 141,
     "metadata": {},
     "output_type": "execute_result"
    }
   ],
   "source": [
    "pd.crosstab(sales['Coupon_Category'],sales['Parking'],aggfunc='mean',values=sales['Store_Sales'])"
   ]
  },
  {
   "cell_type": "code",
   "execution_count": 146,
   "metadata": {},
   "outputs": [
    {
     "data": {
      "text/plain": [
       "<matplotlib.axes._subplots.AxesSubplot at 0x27b05ae0898>"
      ]
     },
     "execution_count": 146,
     "metadata": {},
     "output_type": "execute_result"
    },
    {
     "data": {
      "image/png": "[encoded data removed]",
      "text/plain": [
       "<Figure size 864x432 with 1 Axes>"
      ]
     },
     "metadata": {
      "needs_background": "light"
     },
     "output_type": "display_data"
    }
   ],
   "source": [
    "plt.figure(figsize=(12,6))\n",
    "sns.scatterplot(sales['Items_Available'],sales['Store_Sales'])"
   ]
  },
  {
   "cell_type": "code",
   "execution_count": 138,
   "metadata": {},
   "outputs": [
    {
     "data": {
      "text/plain": [
       "1774.0"
      ]
     },
     "execution_count": 138,
     "metadata": {},
     "output_type": "execute_result"
    }
   ],
   "source": [
    "sales['Items_Available'].median()"
   ]
  },
  {
   "cell_type": "code",
   "execution_count": 144,
   "metadata": {},
   "outputs": [],
   "source": [
    "sales_le=sales[sales['Items_Available']>=1774].Store_Sales\n",
    "sale_ge=sales[sales['Items_Available']<1774].Store_Sales"
   ]
  },
  {
   "cell_type": "code",
   "execution_count": 148,
   "metadata": {},
   "outputs": [
    {
     "name": "stdout",
     "output_type": "stream",
     "text": [
      "P Value 0.146\n"
     ]
    }
   ],
   "source": [
    "# T Test for items available\n",
    "# H0=sales doesnot depends on items\n",
    "# H1=sales depends on items\n",
    "t_statistic, p_value  =  stats.ttest_ind(sales_le,sale_ge)\n",
    "print('P Value %1.3f' % p_value)    \n"
   ]
  },
  {
   "cell_type": "code",
   "execution_count": 149,
   "metadata": {},
   "outputs": [
    {
     "data": {
      "text/plain": [
       "<matplotlib.collections.PathCollection at 0x27b05af6b38>"
      ]
     },
     "execution_count": 149,
     "metadata": {},
     "output_type": "execute_result"
    },
    {
     "data": {
      "image/png": "[encoded data removed]",
      "text/plain": [
       "<Figure size 432x288 with 1 Axes>"
      ]
     },
     "metadata": {
      "needs_background": "light"
     },
     "output_type": "display_data"
    }
   ],
   "source": [
    "plt.scatter(sales.Store_Area,sales.Store_Sales)"
   ]
  },
  {
   "cell_type": "code",
   "execution_count": 151,
   "metadata": {},
   "outputs": [
    {
     "data": {
      "text/plain": [
       "1480.5"
      ]
     },
     "execution_count": 151,
     "metadata": {},
     "output_type": "execute_result"
    }
   ],
   "source": [
    "sales['Store_Area'].median()"
   ]
  },
  {
   "cell_type": "code",
   "execution_count": 164,
   "metadata": {},
   "outputs": [],
   "source": [
    "sales_le=sales[sales['Store_Area']>=1480.5].Store_Sales\n",
    "sale_ge=sales[sales['Store_Area']<1480.5].Store_Sales"
   ]
  },
  {
   "cell_type": "code",
   "execution_count": 165,
   "metadata": {},
   "outputs": [
    {
     "data": {
      "text/plain": [
       "<matplotlib.collections.PathCollection at 0x27b060b2518>"
      ]
     },
     "execution_count": 165,
     "metadata": {},
     "output_type": "execute_result"
    },
    {
     "data": {
      "image/png": "[encoded data removed]",
      "text/plain": [
       "<Figure size 432x288 with 1 Axes>"
      ]
     },
     "metadata": {
      "needs_background": "light"
     },
     "output_type": "display_data"
    }
   ],
   "source": [
    "plt.scatter(sales.Store_Area,sales.Items_Available)"
   ]
  },
  {
   "cell_type": "code",
   "execution_count": 166,
   "metadata": {},
   "outputs": [
    {
     "name": "stdout",
     "output_type": "stream",
     "text": [
      "P Value 0.055\n"
     ]
    }
   ],
   "source": [
    "t_statistic, p_value  =  stats.ttest_ind(sales_le,sale_ge)\n",
    "print('P Value %1.3f' % p_value)    \n"
   ]
  },
  {
   "cell_type": "code",
   "execution_count": 167,
   "metadata": {},
   "outputs": [],
   "source": [
    "from sklearn.linear_model import LinearRegression"
   ]
  },
  {
   "cell_type": "code",
   "execution_count": 174,
   "metadata": {},
   "outputs": [],
   "source": [
    "x=sales.Store_Area\n",
    "y=sales.Store_Sales"
   ]
  },
  {
   "cell_type": "code",
   "execution_count": 176,
   "metadata": {},
   "outputs": [
    {
     "data": {
      "text/plain": [
       "LinearRegression(copy_X=True, fit_intercept=True, n_jobs=None,\n",
       "         normalize=False)"
      ]
     },
     "execution_count": 176,
     "metadata": {},
     "output_type": "execute_result"
    }
   ],
   "source": [
    "lr=LinearRegression()\n",
    "lr.fit(pd.DataFrame(x),y)"
   ]
  },
  {
   "cell_type": "code",
   "execution_count": 177,
   "metadata": {},
   "outputs": [],
   "source": [
    "from statsmodels.api import add_constant"
   ]
  },
  {
   "cell_type": "code",
   "execution_count": 178,
   "metadata": {},
   "outputs": [
    {
     "name": "stdout",
     "output_type": "stream",
     "text": [
      "                            OLS Regression Results                            \n",
      "==============================================================================\n",
      "Dep. Variable:                      y   R-squared:                       0.010\n",
      "Model:                            OLS   Adj. R-squared:                  0.009\n",
      "Method:                 Least Squares   F-statistic:                     9.568\n",
      "Date:                Thu, 21 Feb 2019   Prob (F-statistic):            0.00204\n",
      "Time:                        15:14:09   Log-Likelihood:                -10400.\n",
      "No. Observations:                 931   AIC:                         2.080e+04\n",
      "Df Residuals:                     929   BIC:                         2.081e+04\n",
      "Df Model:                           1                                         \n",
      "Covariance Type:            nonrobust                                         \n",
      "==============================================================================\n",
      "                 coef    std err          t      P>|t|      [0.025      0.975]\n",
      "------------------------------------------------------------------------------\n",
      "const       4.887e+04   3417.878     14.299      0.000    4.22e+04    5.56e+04\n",
      "x1             7.0120      2.267      3.093      0.002       2.563      11.461\n",
      "==============================================================================\n",
      "Omnibus:                        8.400   Durbin-Watson:                   1.916\n",
      "Prob(Omnibus):                  0.015   Jarque-Bera (JB):                6.611\n",
      "Skew:                           0.110   Prob(JB):                       0.0367\n",
      "Kurtosis:                       2.651   Cond. No.                     9.14e+03\n",
      "==============================================================================\n",
      "\n",
      "Warnings:\n",
      "[1] Standard Errors assume that the covariance matrix of the errors is correctly specified.\n",
      "[2] The condition number is large, 9.14e+03. This might indicate that there are\n",
      "strong multicollinearity or other numerical problems.\n"
     ]
    }
   ],
   "source": [
    "x2=add_constant(x)\n",
    "log=sm.OLS(y,x2)\n",
    "result=log.fit()\n",
    "print(result.summary())"
   ]
  },
  {
   "cell_type": "code",
   "execution_count": 179,
   "metadata": {},
   "outputs": [],
   "source": [
    "# Since P value is 0.002 is less than 0.05,therefore, it(Store_Area) is a significant variable\n",
    "# if area goes up by one unit then sales would go up by 7 units"
   ]
  },
  {
   "cell_type": "code",
   "execution_count": 180,
   "metadata": {
    "scrolled": true
   },
   "outputs": [
    {
     "data": {
      "text/html": [
       "<div>\n",
       "<style scoped>\n",
       "    .dataframe tbody tr th:only-of-type {\n",
       "        vertical-align: middle;\n",
       "    }\n",
       "\n",
       "    .dataframe tbody tr th {\n",
       "        vertical-align: top;\n",
       "    }\n",
       "\n",
       "    .dataframe thead th {\n",
       "        text-align: right;\n",
       "    }\n",
       "</style>\n",
       "<table border=\"1\" class=\"dataframe\">\n",
       "  <thead>\n",
       "    <tr style=\"text-align: right;\">\n",
       "      <th></th>\n",
       "      <th>Dist_Taxi</th>\n",
       "      <th>Dist_Market</th>\n",
       "      <th>Dist_Metro</th>\n",
       "      <th>Store_Area</th>\n",
       "      <th>Items_Available</th>\n",
       "      <th>Parking</th>\n",
       "      <th>Coupon_Category</th>\n",
       "      <th>Daily_Customer_Count</th>\n",
       "      <th>Store_Sales</th>\n",
       "    </tr>\n",
       "    <tr>\n",
       "      <th>Observation</th>\n",
       "      <th></th>\n",
       "      <th></th>\n",
       "      <th></th>\n",
       "      <th></th>\n",
       "      <th></th>\n",
       "      <th></th>\n",
       "      <th></th>\n",
       "      <th></th>\n",
       "      <th></th>\n",
       "    </tr>\n",
       "  </thead>\n",
       "  <tbody>\n",
       "    <tr>\n",
       "      <th>1</th>\n",
       "      <td>9796.0</td>\n",
       "      <td>5250.0</td>\n",
       "      <td>10703.0</td>\n",
       "      <td>1659.0</td>\n",
       "      <td>1961.0</td>\n",
       "      <td>Open</td>\n",
       "      <td>CAT B</td>\n",
       "      <td>530</td>\n",
       "      <td>66490</td>\n",
       "    </tr>\n",
       "    <tr>\n",
       "      <th>2</th>\n",
       "      <td>8294.0</td>\n",
       "      <td>8186.0</td>\n",
       "      <td>12694.0</td>\n",
       "      <td>1461.0</td>\n",
       "      <td>1752.0</td>\n",
       "      <td>Not Provided</td>\n",
       "      <td>CAT B</td>\n",
       "      <td>210</td>\n",
       "      <td>39820</td>\n",
       "    </tr>\n",
       "    <tr>\n",
       "      <th>3</th>\n",
       "      <td>11001.0</td>\n",
       "      <td>14399.0</td>\n",
       "      <td>16991.0</td>\n",
       "      <td>1340.0</td>\n",
       "      <td>1609.0</td>\n",
       "      <td>Not Provided</td>\n",
       "      <td>CAT A</td>\n",
       "      <td>720</td>\n",
       "      <td>54010</td>\n",
       "    </tr>\n",
       "    <tr>\n",
       "      <th>4</th>\n",
       "      <td>8301.0</td>\n",
       "      <td>11188.0</td>\n",
       "      <td>12289.0</td>\n",
       "      <td>1451.0</td>\n",
       "      <td>1748.0</td>\n",
       "      <td>Covered</td>\n",
       "      <td>CAT B</td>\n",
       "      <td>620</td>\n",
       "      <td>53730</td>\n",
       "    </tr>\n",
       "    <tr>\n",
       "      <th>5</th>\n",
       "      <td>10510.0</td>\n",
       "      <td>12629.0</td>\n",
       "      <td>13921.0</td>\n",
       "      <td>1770.0</td>\n",
       "      <td>2111.0</td>\n",
       "      <td>Not Provided</td>\n",
       "      <td>CAT B</td>\n",
       "      <td>450</td>\n",
       "      <td>46620</td>\n",
       "    </tr>\n",
       "  </tbody>\n",
       "</table>\n",
       "</div>"
      ],
      "text/plain": [
       "             Dist_Taxi  Dist_Market  Dist_Metro  Store_Area  Items_Available  \\\n",
       "Observation                                                                    \n",
       "1               9796.0       5250.0     10703.0      1659.0           1961.0   \n",
       "2               8294.0       8186.0     12694.0      1461.0           1752.0   \n",
       "3              11001.0      14399.0     16991.0      1340.0           1609.0   \n",
       "4               8301.0      11188.0     12289.0      1451.0           1748.0   \n",
       "5              10510.0      12629.0     13921.0      1770.0           2111.0   \n",
       "\n",
       "                  Parking Coupon_Category  Daily_Customer_Count  Store_Sales  \n",
       "Observation                                                                   \n",
       "1                    Open           CAT B                   530        66490  \n",
       "2            Not Provided           CAT B                   210        39820  \n",
       "3            Not Provided           CAT A                   720        54010  \n",
       "4                 Covered           CAT B                   620        53730  \n",
       "5            Not Provided           CAT B                   450        46620  "
      ]
     },
     "execution_count": 180,
     "metadata": {},
     "output_type": "execute_result"
    }
   ],
   "source": [
    "sales.head()"
   ]
  },
  {
   "cell_type": "code",
   "execution_count": 190,
   "metadata": {},
   "outputs": [],
   "source": [
    "sales=pd.get_dummies(sales,drop_first=True)"
   ]
  },
  {
   "cell_type": "code",
   "execution_count": null,
   "metadata": {},
   "outputs": [],
   "source": []
  },
  {
   "cell_type": "code",
   "execution_count": 192,
   "metadata": {},
   "outputs": [],
   "source": [
    "x=sales.Items_Available\n",
    "y=sales.Store_Sales"
   ]
  },
  {
   "cell_type": "code",
   "execution_count": 193,
   "metadata": {},
   "outputs": [
    {
     "data": {
      "text/plain": [
       "LinearRegression(copy_X=True, fit_intercept=True, n_jobs=None,\n",
       "         normalize=False)"
      ]
     },
     "execution_count": 193,
     "metadata": {},
     "output_type": "execute_result"
    }
   ],
   "source": [
    "lr=LinearRegression()\n",
    "lr.fit(pd.DataFrame(x),y)"
   ]
  },
  {
   "cell_type": "code",
   "execution_count": 194,
   "metadata": {},
   "outputs": [
    {
     "name": "stdout",
     "output_type": "stream",
     "text": [
      "                            OLS Regression Results                            \n",
      "==============================================================================\n",
      "Dep. Variable:            Store_Sales   R-squared:                       0.009\n",
      "Model:                            OLS   Adj. R-squared:                  0.008\n",
      "Method:                 Least Squares   F-statistic:                     8.157\n",
      "Date:                Thu, 21 Feb 2019   Prob (F-statistic):            0.00439\n",
      "Time:                        15:47:21   Log-Likelihood:                -10401.\n",
      "No. Observations:                 931   AIC:                         2.081e+04\n",
      "Df Residuals:                     929   BIC:                         2.082e+04\n",
      "Df Model:                           1                                         \n",
      "Covariance Type:            nonrobust                                         \n",
      "===================================================================================\n",
      "                      coef    std err          t      P>|t|      [0.025      0.975]\n",
      "-----------------------------------------------------------------------------------\n",
      "const            4.956e+04   3455.688     14.343      0.000    4.28e+04    5.63e+04\n",
      "Items_Available     5.4615      1.912      2.856      0.004       1.709       9.214\n",
      "==============================================================================\n",
      "Omnibus:                        8.234   Durbin-Watson:                   1.915\n",
      "Prob(Omnibus):                  0.016   Jarque-Bera (JB):                6.521\n",
      "Skew:                           0.110   Prob(JB):                       0.0384\n",
      "Kurtosis:                       2.654   Cond. No.                     1.11e+04\n",
      "==============================================================================\n",
      "\n",
      "Warnings:\n",
      "[1] Standard Errors assume that the covariance matrix of the errors is correctly specified.\n",
      "[2] The condition number is large, 1.11e+04. This might indicate that there are\n",
      "strong multicollinearity or other numerical problems.\n"
     ]
    }
   ],
   "source": [
    "x2=add_constant(x)\n",
    "log=sm.OLS(y,x2)\n",
    "result=log.fit()\n",
    "print(result.summary())"
   ]
  },
  {
   "cell_type": "code",
   "execution_count": 184,
   "metadata": {},
   "outputs": [],
   "source": [
    "# Since P value is 0.004 is less than 0.05,therefore, it(Items_Available) is a significant variable\n",
    "# if Items_Available goes up by one unit then sales would go up by 5 units"
   ]
  },
  {
   "cell_type": "code",
   "execution_count": 195,
   "metadata": {},
   "outputs": [
    {
     "data": {
      "text/plain": [
       "<matplotlib.collections.PathCollection at 0x27b07b9b9e8>"
      ]
     },
     "execution_count": 195,
     "metadata": {},
     "output_type": "execute_result"
    },
    {
     "data": {
      "image/png": "[encoded data removed]",
      "text/plain": [
       "<Figure size 432x288 with 1 Axes>"
      ]
     },
     "metadata": {
      "needs_background": "light"
     },
     "output_type": "display_data"
    }
   ],
   "source": [
    "plt.scatter(sales.Daily_Customer_Count,sales.Store_Sales)"
   ]
  },
  {
   "cell_type": "code",
   "execution_count": 188,
   "metadata": {},
   "outputs": [
    {
     "name": "stdout",
     "output_type": "stream",
     "text": [
      "                            OLS Regression Results                            \n",
      "==============================================================================\n",
      "Dep. Variable:            Store_Sales   R-squared:                       0.019\n",
      "Model:                            OLS   Adj. R-squared:                  0.016\n",
      "Method:                 Least Squares   F-statistic:                     6.074\n",
      "Date:                Thu, 21 Feb 2019   Prob (F-statistic):           0.000428\n",
      "Time:                        15:30:38   Log-Likelihood:                -10396.\n",
      "No. Observations:                 931   AIC:                         2.080e+04\n",
      "Df Residuals:                     927   BIC:                         2.082e+04\n",
      "Df Model:                           3                                         \n",
      "Covariance Type:            nonrobust                                         \n",
      "===============================================================================\n",
      "                  coef    std err          t      P>|t|      [0.025      0.975]\n",
      "-------------------------------------------------------------------------------\n",
      "const        4.685e+04   3117.325     15.028      0.000    4.07e+04     5.3e+04\n",
      "Dist_Taxi       0.1551      0.369      0.421      0.674      -0.568       0.878\n",
      "Dist_Market     0.4308      0.286      1.507      0.132      -0.130       0.992\n",
      "Dist_Metro      0.4929      0.410      1.203      0.229      -0.311       1.297\n",
      "==============================================================================\n",
      "Omnibus:                        5.654   Durbin-Watson:                   1.931\n",
      "Prob(Omnibus):                  0.059   Jarque-Bera (JB):                4.814\n",
      "Skew:                           0.099   Prob(JB):                       0.0901\n",
      "Kurtosis:                       2.709   Cond. No.                     1.07e+05\n",
      "==============================================================================\n",
      "\n",
      "Warnings:\n",
      "[1] Standard Errors assume that the covariance matrix of the errors is correctly specified.\n",
      "[2] The condition number is large, 1.07e+05. This might indicate that there are\n",
      "strong multicollinearity or other numerical problems.\n"
     ]
    }
   ],
   "source": [
    "x=sales.iloc[:,0:3]\n",
    "y=sales.Store_Sales\n",
    "lr=LinearRegression()\n",
    "lr.fit(pd.DataFrame(x),y)\n",
    "x2=add_constant(x)\n",
    "log=sm.OLS(y,x2)\n",
    "result=log.fit()\n",
    "print(result.summary())"
   ]
  },
  {
   "cell_type": "code",
   "execution_count": 196,
   "metadata": {},
   "outputs": [
    {
     "name": "stdout",
     "output_type": "stream",
     "text": [
      "                            OLS Regression Results                            \n",
      "==============================================================================\n",
      "Dep. Variable:            Store_Sales   R-squared:                       0.487\n",
      "Model:                            OLS   Adj. R-squared:                  0.481\n",
      "Method:                 Least Squares   F-statistic:                     79.28\n",
      "Date:                Thu, 21 Feb 2019   Prob (F-statistic):          5.04e-125\n",
      "Time:                        15:47:32   Log-Likelihood:                -10094.\n",
      "No. Observations:                 931   AIC:                         2.021e+04\n",
      "Df Residuals:                     919   BIC:                         2.027e+04\n",
      "Df Model:                          11                                         \n",
      "Covariance Type:            nonrobust                                         \n",
      "=========================================================================================\n",
      "                            coef    std err          t      P>|t|      [0.025      0.975]\n",
      "-----------------------------------------------------------------------------------------\n",
      "const                  5.599e+04   3710.082     15.093      0.000    4.87e+04    6.33e+04\n",
      "Dist_Taxi                 0.3661      0.268      1.365      0.173      -0.160       0.893\n",
      "Dist_Market               0.1332      0.209      0.638      0.524      -0.277       0.543\n",
      "Dist_Metro                0.3998      0.298      1.341      0.180      -0.186       0.985\n",
      "Store_Area               13.6919      9.934      1.378      0.168      -5.804      33.188\n",
      "Items_Available          -4.7507      8.367     -0.568      0.570     -21.171      11.670\n",
      "Daily_Customer_Count     -0.9155      1.550     -0.591      0.555      -3.957       2.126\n",
      "Parking_No Parking    -5407.5900   1389.229     -3.893      0.000   -8134.019   -2681.161\n",
      "Parking_Not Provided  -4709.3105   1238.760     -3.802      0.000   -7140.436   -2278.184\n",
      "Parking_Open          -2376.8439   1124.343     -2.114      0.035   -4583.422    -170.266\n",
      "Coupon_Category_CAT B -1.861e+04    957.333    -19.437      0.000   -2.05e+04   -1.67e+04\n",
      "Coupon_Category_CAT C -2.874e+04   1062.710    -27.048      0.000   -3.08e+04   -2.67e+04\n",
      "==============================================================================\n",
      "Omnibus:                       30.037   Durbin-Watson:                   1.900\n",
      "Prob(Omnibus):                  0.000   Jarque-Bera (JB):               73.090\n",
      "Skew:                          -0.043   Prob(JB):                     1.34e-16\n",
      "Kurtosis:                       4.370   Cond. No.                     1.79e+05\n",
      "==============================================================================\n",
      "\n",
      "Warnings:\n",
      "[1] Standard Errors assume that the covariance matrix of the errors is correctly specified.\n",
      "[2] The condition number is large, 1.79e+05. This might indicate that there are\n",
      "strong multicollinearity or other numerical problems.\n"
     ]
    }
   ],
   "source": [
    "x=sales.drop(columns='Store_Sales',axis=1)\n",
    "y=sales.Store_Sales\n",
    "lr=LinearRegression()\n",
    "lr.fit(pd.DataFrame(x),y)\n",
    "x2=add_constant(x)\n",
    "log=sm.OLS(y,x2)\n",
    "result=log.fit()\n",
    "print(result.summary())"
   ]
  },
  {
   "cell_type": "code",
   "execution_count": null,
   "metadata": {},
   "outputs": [],
   "source": []
  }
 ],
 "metadata": {
  "kernelspec": {
   "display_name": "Python 3",
   "language": "python",
   "name": "python3"
  },
  "language_info": {
   "codemirror_mode": {
    "name": "ipython",
    "version": 3
   },
   "file_extension": ".py",
   "mimetype": "text/x-python",
   "name": "python",
   "nbconvert_exporter": "python",
   "pygments_lexer": "ipython3",
   "version": "3.7.0"
  }
 },
 "nbformat": 4,
 "nbformat_minor": 2
}
