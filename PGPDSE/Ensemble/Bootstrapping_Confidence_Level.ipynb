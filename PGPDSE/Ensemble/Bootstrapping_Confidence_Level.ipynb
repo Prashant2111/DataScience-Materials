{
 "cells": [
  {
   "cell_type": "code",
   "execution_count": 3,
   "metadata": {},
   "outputs": [],
   "source": [
    "from pandas import read_csv\n",
    "from sklearn.utils import resample\n",
    "from sklearn.tree import DecisionTreeClassifier\n",
    "from sklearn.metrics import accuracy_score\n",
    "from matplotlib import pyplot\n",
    "import numpy as np\n",
    "\n",
    "# load dataset\n",
    "data = read_csv('pima-indians-diabetes-1.data', header=None)\n",
    "values = data.values\n"
   ]
  },
  {
   "cell_type": "code",
   "execution_count": null,
   "metadata": {},
   "outputs": [],
   "source": []
  },
  {
   "cell_type": "code",
   "execution_count": 11,
   "metadata": {},
   "outputs": [
    {
     "name": "stdout",
     "output_type": "stream",
     "text": [
      "0.6488222698072805\n",
      "0.6958333333333333\n",
      "0.6962025316455697\n",
      "0.7120879120879121\n",
      "0.6580645161290323\n",
      "0.6974248927038627\n",
      "0.6739606126914661\n",
      "0.7043478260869566\n",
      "0.6514161220043573\n",
      "0.6886993603411514\n",
      "0.674468085106383\n",
      "0.6989010989010989\n",
      "0.6673913043478261\n",
      "0.70042194092827\n",
      "0.7006507592190889\n",
      "0.6851441241685144\n",
      "0.7029914529914529\n",
      "0.6797385620915033\n",
      "0.6997792494481236\n",
      "0.7068965517241379\n",
      "0.6788008565310493\n",
      "0.6708595387840671\n",
      "0.674468085106383\n",
      "0.69593147751606\n",
      "0.6802575107296137\n",
      "0.6630669546436285\n",
      "0.7188841201716738\n",
      "0.6361702127659574\n",
      "0.6908315565031983\n",
      "0.7033898305084746\n",
      "0.6853932584269663\n",
      "0.6932773109243697\n",
      "0.6961206896551724\n",
      "0.68\n",
      "0.6687898089171974\n",
      "0.7225806451612903\n",
      "0.6950959488272921\n",
      "0.7029914529914529\n",
      "0.6816239316239316\n",
      "0.6758474576271186\n",
      "0.7155172413793104\n",
      "0.6673819742489271\n",
      "0.6890756302521008\n",
      "0.7229437229437229\n",
      "0.7212765957446808\n",
      "0.7290322580645161\n",
      "0.7025862068965517\n",
      "0.6923076923076923\n",
      "0.6809421841541756\n",
      "0.6856540084388185\n",
      "0.6936170212765957\n",
      "0.6745689655172413\n",
      "0.708779443254818\n",
      "0.6896551724137931\n",
      "0.6543478260869565\n",
      "0.7040169133192389\n",
      "0.6849894291754757\n",
      "0.6967741935483871\n",
      "0.7077922077922078\n",
      "0.7010526315789474\n",
      "0.6616379310344828\n",
      "0.6769911504424779\n",
      "0.6963123644251626\n",
      "0.6949891067538126\n",
      "0.693304535637149\n",
      "0.6355748373101953\n",
      "0.6813186813186813\n",
      "0.6823027718550106\n",
      "0.687089715536105\n",
      "0.6666666666666666\n",
      "0.6297872340425532\n",
      "0.6926315789473684\n",
      "0.7008547008547008\n",
      "0.7105831533477321\n",
      "0.7419354838709677\n",
      "0.7130434782608696\n",
      "0.7155361050328227\n",
      "0.7027027027027027\n",
      "0.7105831533477321\n",
      "0.6645299145299145\n",
      "0.7010752688172043\n",
      "0.6336206896551724\n",
      "0.6978260869565217\n",
      "0.6573275862068966\n",
      "0.6794871794871795\n",
      "0.6568421052631579\n",
      "0.6823027718550106\n",
      "0.6911447084233261\n",
      "0.6961206896551724\n",
      "0.7036247334754797\n",
      "0.6950959488272921\n",
      "0.6468085106382979\n",
      "0.6745182012847966\n",
      "0.702819956616052\n",
      "0.7182795698924731\n",
      "0.6987179487179487\n",
      "0.693304535637149\n",
      "0.723175965665236\n",
      "0.7097457627118644\n",
      "0.6638115631691649\n"
     ]
    }
   ],
   "source": [
    "# configure bootstrap\n",
    "n_iterations = 100            # Number of bootstrap samples to create\n",
    "n_size = int(len(data) * 0.50)    # picking only 50 % of the given data in every bootstrap sample\n",
    "\n",
    "# run bootstrap\n",
    "stats = list()\n",
    "for i in range(n_iterations):\n",
    "\t# prepare train and test sets\n",
    "\ttrain = resample(values, n_samples=n_size)  # Sampling with replacement \n",
    "\ttest = np.array([x for x in values if x.tolist() not in train.tolist()])  # picking rest of the data not considered in sample\n",
    "    # fit model\n",
    "\tmodel = DecisionTreeClassifier()\n",
    "\tmodel.fit(train[:,:-1], train[:,-1])\n",
    "    # evaluate model\n",
    "\tpredictions = model.predict(test[:,:-1])\n",
    "\tscore = accuracy_score(test[:,-1], predictions)    # caution, overall accuracy score can mislead when classes are imbalanced\n",
    "\tprint(score)\n",
    "\tstats.append(score)\n"
   ]
  },
  {
   "cell_type": "code",
   "execution_count": 13,
   "metadata": {},
   "outputs": [
    {
     "data": {
      "image/png": "[encoded data removed]",
      "text/plain": [
       "<Figure size 432x288 with 1 Axes>"
      ]
     },
     "metadata": {
      "needs_background": "light"
     },
     "output_type": "display_data"
    },
    {
     "name": "stdout",
     "output_type": "stream",
     "text": [
      "95.0 confidence interval 63.6% and 72.3%\n"
     ]
    }
   ],
   "source": [
    "# plot scores\n",
    "pyplot.hist(stats)\n",
    "pyplot.show()\n",
    "# confidence intervals\n",
    "alpha = 0.95                             # for 95% confidence \n",
    "p = ((1.0-alpha)/2.0) * 100           # tail regions on right and left .25 on each side indicated by P value (border)\n",
    "lower = max(0.0, np.percentile(stats, p))  \n",
    "p = (alpha+((1.0-alpha)/2.0)) * 100\n",
    "upper = min(1.0, np.percentile(stats, p))\n",
    "print('%.1f confidence interval %.1f%% and %.1f%%' % (alpha*100, lower*100, upper*100))"
   ]
  },
  {
   "cell_type": "code",
   "execution_count": null,
   "metadata": {},
   "outputs": [],
   "source": []
  },
  {
   "cell_type": "code",
   "execution_count": null,
   "metadata": {},
   "outputs": [],
   "source": []
  }
 ],
 "metadata": {
  "kernelspec": {
   "display_name": "Python 3",
   "language": "python",
   "name": "python3"
  },
  "language_info": {
   "codemirror_mode": {
    "name": "ipython",
    "version": 3
   },
   "file_extension": ".py",
   "mimetype": "text/x-python",
   "name": "python",
   "nbconvert_exporter": "python",
   "pygments_lexer": "ipython3",
   "version": "3.7.0"
  }
 },
 "nbformat": 4,
 "nbformat_minor": 2
}
