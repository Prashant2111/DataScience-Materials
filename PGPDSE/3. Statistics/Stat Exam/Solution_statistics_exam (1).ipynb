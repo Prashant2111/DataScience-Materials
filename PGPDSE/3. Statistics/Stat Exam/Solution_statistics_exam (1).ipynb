{
 "cells": [
  {
   "cell_type": "code",
   "execution_count": 1,
   "metadata": {},
   "outputs": [],
   "source": [
    "import numpy as np\n",
    "import pandas as pd\n",
    "import scipy.stats as stats \n",
    "from scipy.stats import  ttest_1samp,ttest_ind, wilcoxon, ttest_ind_from_stats\n",
    "from statsmodels.stats.power import ttest_power \n",
    "import seaborn as sns\n"
   ]
  },
  {
   "cell_type": "code",
   "execution_count": 2,
   "metadata": {},
   "outputs": [],
   "source": [
    "### Old and New Scheme data as numpy arrays\n",
    "\n",
    "oldScheme = np.array([57,103,59,75,84,73,35,110,44,82,67,64,78,53,41,39,80,87,73,65,28,62,49,84,63,77,67,101,91,50])\n",
    "newScheme = np.array([62,122,54,82,84,86,32,104,38,107,84,85,99,39,34,58,73,53,66,78,41,71,38,95,81,58,75,94,100,68])"
   ]
  },
  {
   "cell_type": "code",
   "execution_count": 3,
   "metadata": {},
   "outputs": [
    {
     "data": {
      "text/plain": [
       "<matplotlib.axes._subplots.AxesSubplot at 0x1f69d6e4a90>"
      ]
     },
     "execution_count": 3,
     "metadata": {},
     "output_type": "execute_result"
    },
    {
     "data": {
      "image/png": "[encoded data removed]",
      "text/plain": [
       "<Figure size 432x288 with 1 Axes>"
      ]
     },
     "metadata": {
      "needs_background": "light"
     },
     "output_type": "display_data"
    }
   ],
   "source": [
    "## Distribution of New scheme and Old scheme\n",
    "\n",
    "sns.distplot(oldScheme, hist = False, kde = True,\n",
    "                 kde_kws = {'shade': True, 'linewidth': 3})\n",
    "\n",
    "sns.distplot(newScheme, hist = False, kde = True,\n",
    "                 kde_kws = {'shade': True, 'linewidth': 3})"
   ]
  },
  {
   "cell_type": "markdown",
   "metadata": {},
   "source": [
    "## Q1  Mean of Old and New Schemes"
   ]
  },
  {
   "cell_type": "code",
   "execution_count": 4,
   "metadata": {},
   "outputs": [
    {
     "name": "stdout",
     "output_type": "stream",
     "text": [
      "Mean of old Scheme:  68.03333333333333\n"
     ]
    }
   ],
   "source": [
    "print('Mean of old Scheme: ', oldScheme.mean())"
   ]
  },
  {
   "cell_type": "code",
   "execution_count": 5,
   "metadata": {},
   "outputs": [
    {
     "name": "stdout",
     "output_type": "stream",
     "text": [
      "mean of new scheme:  72.03333333333333\n"
     ]
    }
   ],
   "source": [
    "print('mean of new scheme: ',newScheme.mean())"
   ]
  },
  {
   "cell_type": "markdown",
   "metadata": {},
   "source": [
    "## Q2 Define Null and Alternative Hypothesis"
   ]
  },
  {
   "cell_type": "markdown",
   "metadata": {},
   "source": [
    "### H0 : newMean - oldMean = 0 (Null Hypothesis)\n",
    "### H1 : newMean - oldMean != 0 (Alternate Hypothesis)"
   ]
  },
  {
   "cell_type": "markdown",
   "metadata": {},
   "source": [
    "## Significance Level alpha = 0.05"
   ]
  },
  {
   "cell_type": "markdown",
   "metadata": {},
   "source": [
    "## Test we can use here is T-Test"
   ]
  },
  {
   "cell_type": "code",
   "execution_count": 6,
   "metadata": {},
   "outputs": [
    {
     "name": "stdout",
     "output_type": "stream",
     "text": [
      "P Value 0.13057553961337662\n"
     ]
    }
   ],
   "source": [
    "tValue, pValue  =  stats.ttest_1samp(newScheme - oldScheme, 0)\n",
    "print('P Value',  pValue)"
   ]
  },
  {
   "cell_type": "markdown",
   "metadata": {},
   "source": [
    "## Q3 Inference: P value is greater than 0.05 the significane level we considered. Hence we can say that we do not have enough evidence to reject the null hypothesis. That means, at this moment we consider that there is no significant rise in the values in new scheme when compared to old ones"
   ]
  },
  {
   "cell_type": "markdown",
   "metadata": {},
   "source": [
    "## Q4B) "
   ]
  },
  {
   "cell_type": "code",
   "execution_count": 7,
   "metadata": {},
   "outputs": [
    {
     "name": "stdout",
     "output_type": "stream",
     "text": [
      "P Value 0.002\n"
     ]
    }
   ],
   "source": [
    "tValueNew, pValueNew  =  stats.ttest_1samp((newScheme - oldScheme) + 5, 0)\n",
    "print('P Value %1.3f' % pValueNew)"
   ]
  },
  {
   "cell_type": "markdown",
   "metadata": {},
   "source": [
    "###  After adding 5000, we get the actual value to make break even, pvalue for the same is 0.002, our alpha value is 0.05\n",
    "### which means for all the value above 0.002 the null hypothesis should be true\n",
    "### The type I error is when null hypothesis is true but we reject the null hypothsis \n",
    "### we are rejecting the null hypothesis after 5% level of significance when it should be 0.2%"
   ]
  },
  {
   "cell_type": "markdown",
   "metadata": {},
   "source": [
    "## Q4A) The probability of type1 Error is in general the alpha value = 0.05. However, in this case, after adding the 5000:"
   ]
  },
  {
   "cell_type": "code",
   "execution_count": 10,
   "metadata": {},
   "outputs": [
    {
     "name": "stdout",
     "output_type": "stream",
     "text": [
      "The probability of making type 1 error is 0.9695757073666479\n"
     ]
    }
   ],
   "source": [
    "alpha = 0.05\n",
    "\n",
    "type1Error = (alpha-pValueNew)/ alpha\n",
    "\n",
    "print('The probability of making type 1 error is', type1Error)"
   ]
  }
 ],
 "metadata": {
  "kernelspec": {
   "display_name": "Python 3",
   "language": "python",
   "name": "python3"
  },
  "language_info": {
   "codemirror_mode": {
    "name": "ipython",
    "version": 3
   },
   "file_extension": ".py",
   "mimetype": "text/x-python",
   "name": "python",
   "nbconvert_exporter": "python",
   "pygments_lexer": "ipython3",
   "version": "3.6.5"
  }
 },
 "nbformat": 4,
 "nbformat_minor": 2
}
