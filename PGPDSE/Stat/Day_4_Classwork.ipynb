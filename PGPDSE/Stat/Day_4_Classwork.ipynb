{
 "cells": [
  {
   "cell_type": "code",
   "execution_count": 1,
   "metadata": {},
   "outputs": [],
   "source": [
    "import numpy as np\n"
   ]
  },
  {
   "cell_type": "code",
   "execution_count": 17,
   "metadata": {},
   "outputs": [
    {
     "data": {
      "text/plain": [
       "15.716937354988401"
      ]
     },
     "execution_count": 17,
     "metadata": {},
     "output_type": "execute_result"
    }
   ],
   "source": [
    "a1=np.array([15,12,14,11])\n",
    "a2=np.array([39,45,48,60])\n",
    "a3=np.array([65,45,32,38])\n",
    "ma1=a1.mean()\n",
    "ma2=a2.mean()\n",
    "ma3=a3.mean()\n",
    "\n",
    "xg=(ma1+ma2+ma3)/3\n",
    "\n",
    "ssb=4*((ma1-xg)**2+(ma2-xg)**2+(ma3-xg)**2)\n",
    "dfb=2\n",
    "dfw=(len(a1)+len(a2)+len(a3))-3\n",
    "ssw=0\n",
    "for i in a1:\n",
    "    ssw+=(i-ma1)**2\n",
    "for i in a2:\n",
    "    ssw+=(i-ma2)**2\n",
    "for i in a3:\n",
    "    ssw+=(i-ma3)**2\n",
    "\n",
    "f=(ssb/dfb) /(ssw/dfw)\n",
    "f\n",
    "\n"
   ]
  },
  {
   "cell_type": "code",
   "execution_count": 32,
   "metadata": {},
   "outputs": [
    {
     "name": "stdout",
     "output_type": "stream",
     "text": [
      "SS Total 4086.9841269841268\n",
      "Eta Square 1.6299090116980548\n"
     ]
    }
   ],
   "source": [
    "Gym_1 = np.array([60, 66, 65, 55, 62, 70, 51, 72, 58, 61, 71, 41, 70, 57, 55, 63, 64, 76, 74, 54, 58, 73])\n",
    "Gym_2 = np.array([56, 65, 65, 63, 57, 47, 72, 56, 52, 75, 66, 62, 68, 75, 60, 73, 63, 64])\n",
    "Gym_3 = np.array([67, 56, 65, 61, 63, 59, 42, 53, 63, 65, 60, 57, 62, 70, 73, 63, 55, 52, 58, 68, 70, 72, 45])  \n",
    "NofSample=3\n",
    "m1=Gym_1.mean()\n",
    "m2=Gym_2.mean()\n",
    "m3=Gym_3.mean()\n",
    "xg=(len(Gym_1)*m1+len(Gym_2)*m2+len(Gym_3)*m3)/(len(Gym_1)+len(Gym_2)+len(Gym_3))\n",
    "\n",
    "dfb=NofSample-1\n",
    "dfw=(len(Gym_1)+len(Gym_2)+len(Gym_3))- NofSample\n",
    "ssb=(len(Gym_1)*((m1-xg)**2)+len(Gym_2)*((m2-xg)**2)+len(Gym_3)*((m3-xg)**2))\n",
    "\n",
    "ssw=0\n",
    "for i in Gym_1:\n",
    "    ssw+=(i-m1)**2\n",
    "for i in Gym_2:\n",
    "    ssw+=(i-m2)**2\n",
    "for i in Gym_3:\n",
    "    ssw+=(i-m3)**2\n",
    "    \n",
    "f=(ssb/dfb) /(ssw/dfw)\n",
    "f\n",
    "sst=0\n",
    "for i in Gym_1:\n",
    "    sst+=(i-xg)**2\n",
    "for i in Gym_2:\n",
    "    sst+=(i-xg)**2\n",
    "for i in Gym_3:\n",
    "    sst+=(i-xg)**2\n",
    "    \n",
    "print(\"SS Total\",sst)\n",
    "eta=ssb/sst\n",
    "print(\"Eta Square\",eta*100)"
   ]
  },
  {
   "cell_type": "code",
   "execution_count": 37,
   "metadata": {},
   "outputs": [
    {
     "data": {
      "text/html": [
       "<div>\n",
       "<style scoped>\n",
       "    .dataframe tbody tr th:only-of-type {\n",
       "        vertical-align: middle;\n",
       "    }\n",
       "\n",
       "    .dataframe tbody tr th {\n",
       "        vertical-align: top;\n",
       "    }\n",
       "\n",
       "    .dataframe thead th {\n",
       "        text-align: right;\n",
       "    }\n",
       "</style>\n",
       "<table border=\"1\" class=\"dataframe\">\n",
       "  <thead>\n",
       "    <tr style=\"text-align: right;\">\n",
       "      <th></th>\n",
       "      <th>Brand</th>\n",
       "      <th>Price</th>\n",
       "    </tr>\n",
       "  </thead>\n",
       "  <tbody>\n",
       "    <tr>\n",
       "      <th>0</th>\n",
       "      <td>A</td>\n",
       "      <td>15</td>\n",
       "    </tr>\n",
       "    <tr>\n",
       "      <th>1</th>\n",
       "      <td>A</td>\n",
       "      <td>12</td>\n",
       "    </tr>\n",
       "    <tr>\n",
       "      <th>2</th>\n",
       "      <td>A</td>\n",
       "      <td>14</td>\n",
       "    </tr>\n",
       "    <tr>\n",
       "      <th>3</th>\n",
       "      <td>A</td>\n",
       "      <td>11</td>\n",
       "    </tr>\n",
       "    <tr>\n",
       "      <th>0</th>\n",
       "      <td>B</td>\n",
       "      <td>39</td>\n",
       "    </tr>\n",
       "    <tr>\n",
       "      <th>1</th>\n",
       "      <td>B</td>\n",
       "      <td>45</td>\n",
       "    </tr>\n",
       "    <tr>\n",
       "      <th>2</th>\n",
       "      <td>B</td>\n",
       "      <td>48</td>\n",
       "    </tr>\n",
       "    <tr>\n",
       "      <th>3</th>\n",
       "      <td>B</td>\n",
       "      <td>60</td>\n",
       "    </tr>\n",
       "    <tr>\n",
       "      <th>0</th>\n",
       "      <td>C</td>\n",
       "      <td>65</td>\n",
       "    </tr>\n",
       "    <tr>\n",
       "      <th>1</th>\n",
       "      <td>C</td>\n",
       "      <td>45</td>\n",
       "    </tr>\n",
       "    <tr>\n",
       "      <th>2</th>\n",
       "      <td>C</td>\n",
       "      <td>32</td>\n",
       "    </tr>\n",
       "    <tr>\n",
       "      <th>3</th>\n",
       "      <td>C</td>\n",
       "      <td>38</td>\n",
       "    </tr>\n",
       "  </tbody>\n",
       "</table>\n",
       "</div>"
      ],
      "text/plain": [
       "  Brand  Price\n",
       "0     A     15\n",
       "1     A     12\n",
       "2     A     14\n",
       "3     A     11\n",
       "0     B     39\n",
       "1     B     45\n",
       "2     B     48\n",
       "3     B     60\n",
       "0     C     65\n",
       "1     C     45\n",
       "2     C     32\n",
       "3     C     38"
      ]
     },
     "execution_count": 37,
     "metadata": {},
     "output_type": "execute_result"
    }
   ],
   "source": [
    "import pandas as pd\n",
    "\n",
    "a1=np.array([15,12,14,11])\n",
    "a2=np.array([39,45,48,60])\n",
    "a3=np.array([65,45,32,38])\n",
    "prices_df = pd.DataFrame()\n",
    "\n",
    "df1 = pd.DataFrame({'Brand': 'A', 'Price':a1})\n",
    "df2 = pd.DataFrame({'Brand': 'B', 'Price':a2})\n",
    "df3 = pd.DataFrame({'Brand': 'C', 'Price':a3})\n",
    "\n",
    "prices_df = prices_df.append(df1) \n",
    "prices_df = prices_df.append(df2) \n",
    "prices_df = prices_df.append(df3) \n",
    "prices_df"
   ]
  },
  {
   "cell_type": "code",
   "execution_count": 43,
   "metadata": {},
   "outputs": [
    {
     "name": "stdout",
     "output_type": "stream",
     "text": [
      "               sum_sq   df          F    PR(>F)\n",
      "Brand     3010.666667  2.0  15.716937  0.001158\n",
      "Residual   862.000000  9.0        NaN       NaN\n",
      "15.716937354988396\n"
     ]
    }
   ],
   "source": [
    "import statsmodels.api         as     sm\n",
    "from   statsmodels.formula.api import ols\n",
    " \n",
    "mod = ols('Price ~ Brand', data = prices_df).fit()\n",
    "aov_table = sm.stats.anova_lm(mod, typ=2)\n",
    "print(aov_table)\n",
    "print(aov_table[\"F\"][\"Brand\"])"
   ]
  },
  {
   "cell_type": "code",
   "execution_count": null,
   "metadata": {},
   "outputs": [],
   "source": []
  },
  {
   "cell_type": "code",
   "execution_count": null,
   "metadata": {},
   "outputs": [],
   "source": []
  },
  {
   "cell_type": "code",
   "execution_count": null,
   "metadata": {},
   "outputs": [],
   "source": []
  },
  {
   "cell_type": "code",
   "execution_count": null,
   "metadata": {},
   "outputs": [],
   "source": []
  },
  {
   "cell_type": "code",
   "execution_count": null,
   "metadata": {},
   "outputs": [],
   "source": []
  },
  {
   "cell_type": "code",
   "execution_count": null,
   "metadata": {},
   "outputs": [],
   "source": []
  }
 ],
 "metadata": {
  "kernelspec": {
   "display_name": "Python 3",
   "language": "python",
   "name": "python3"
  },
  "language_info": {
   "codemirror_mode": {
    "name": "ipython",
    "version": 3
   },
   "file_extension": ".py",
   "mimetype": "text/x-python",
   "name": "python",
   "nbconvert_exporter": "python",
   "pygments_lexer": "ipython3",
   "version": "3.7.0"
  }
 },
 "nbformat": 4,
 "nbformat_minor": 2
}
