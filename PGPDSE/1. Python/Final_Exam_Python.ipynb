{
 "cells": [
  {
   "cell_type": "code",
   "execution_count": 20,
   "metadata": {},
   "outputs": [],
   "source": [
    "import numpy as np\n"
   ]
  },
  {
   "cell_type": "code",
   "execution_count": 9,
   "metadata": {},
   "outputs": [
    {
     "name": "stdout",
     "output_type": "stream",
     "text": [
      "\n",
      "apple \tType: <class 'str'> \tIndex: 0\n",
      "\n",
      "2 \tType: <class 'int'> \tIndex: 1\n",
      "\n",
      "4.5 \tType: <class 'float'> \tIndex: 2\n",
      "\n",
      "('a', 'b', 'c') \tType: <class 'tuple'> \tIndex: 3\n"
     ]
    }
   ],
   "source": [
    "# 1. Consider a list containing 4 objects: l1 = [‘apple’, 2, 4.5, (‘a’, ‘b’, ‘c’)]\n",
    "# For each object, please state its type and index.\n",
    "\n",
    "l1 = ['apple', 2, 4.5, ('a', 'b', 'c')]\n",
    "for i in l1:\n",
    "    print(\"\\n{}\".format(i),\"\\tType:\",type(i),\"\\tIndex:\",l1.index(i))\n"
   ]
  },
  {
   "cell_type": "code",
   "execution_count": 11,
   "metadata": {},
   "outputs": [],
   "source": [
    "# 2. What is the difference in the output between the following statements in Python?\n",
    "# a. int(9.0)\n",
    "# b. int(‘9’)\n"
   ]
  },
  {
   "cell_type": "code",
   "execution_count": null,
   "metadata": {},
   "outputs": [],
   "source": [
    "int(9.0)  \n",
    "int('9')"
   ]
  },
  {
   "cell_type": "code",
   "execution_count": 12,
   "metadata": {},
   "outputs": [],
   "source": [
    "# There is no difference in output as both of them prints an integer value"
   ]
  },
  {
   "cell_type": "code",
   "execution_count": null,
   "metadata": {},
   "outputs": [],
   "source": []
  },
  {
   "cell_type": "code",
   "execution_count": 16,
   "metadata": {},
   "outputs": [],
   "source": []
  },
  {
   "cell_type": "code",
   "execution_count": 13,
   "metadata": {},
   "outputs": [
    {
     "data": {
      "text/plain": [
       "5.0"
      ]
     },
     "execution_count": 13,
     "metadata": {},
     "output_type": "execute_result"
    }
   ],
   "source": [
    "# 3. Rewrite the following in python:\n",
    "# 4 × (35 ÷ 7)/√16\n",
    "\n",
    "4*(35/7)/np.sqrt(16)"
   ]
  },
  {
   "cell_type": "markdown",
   "metadata": {},
   "source": [
    "# \n",
    "4. Consider the folowing array:\n",
    "arr = np.array( [[ 1, 2, 3], \n",
    "                 [ 4, 2, 5]] )\n",
    "\n",
    "Please state the output of the statement:\n",
    "arr.ndim\n",
    "\n",
    "What does the output indicate?"
   ]
  },
  {
   "cell_type": "code",
   "execution_count": 20,
   "metadata": {},
   "outputs": [],
   "source": [
    "arr = np.array( [[ 1, 2, 3],[ 4, 2, 5]] )\n"
   ]
  },
  {
   "cell_type": "code",
   "execution_count": 21,
   "metadata": {},
   "outputs": [
    {
     "data": {
      "text/plain": [
       "2"
      ]
     },
     "execution_count": 21,
     "metadata": {},
     "output_type": "execute_result"
    }
   ],
   "source": [
    "arr.ndim"
   ]
  },
  {
   "cell_type": "code",
   "execution_count": 22,
   "metadata": {},
   "outputs": [],
   "source": [
    "# The output provided by arr.ndim shows the dimension of the array \n",
    "# it indicates that it is a 2 Dimensional Array,i.e a 2D array is a matrix with a number of rows and columns."
   ]
  },
  {
   "cell_type": "markdown",
   "metadata": {},
   "source": [
    "# Section B"
   ]
  },
  {
   "cell_type": "markdown",
   "metadata": {},
   "source": [
    "# \n",
    "5. Consider the following program:\n",
    "x = ['ab', 'cd']\n",
    "for i in x:\n",
    "    i.upper()\n",
    "print(x)\n",
    "\n",
    "What is the final value of X?"
   ]
  },
  {
   "cell_type": "code",
   "execution_count": null,
   "metadata": {},
   "outputs": [],
   "source": []
  },
  {
   "cell_type": "code",
   "execution_count": 14,
   "metadata": {},
   "outputs": [
    {
     "name": "stdout",
     "output_type": "stream",
     "text": [
      "['ab', 'cd']\n"
     ]
    }
   ],
   "source": [
    "x = ['ab', 'cd']\n",
    "for i in x:\n",
    "    i.upper()\n",
    "print(x)\n"
   ]
  },
  {
   "cell_type": "code",
   "execution_count": 24,
   "metadata": {},
   "outputs": [],
   "source": [
    "# The Final value of x is ['ab', 'cd'] as no changes are made to x in the program"
   ]
  },
  {
   "cell_type": "markdown",
   "metadata": {},
   "source": [
    "#\n",
    "5. The following function compares two number and prints the larger number:\n",
    "   \n",
    "    def printMax(a, b):\n",
    "    if a > b:\n",
    "        print(a, 'is maximum')\n",
    "    else:\n",
    "        print(b, 'is maximum')\n",
    "\n",
    "What is the output if the following line is executed?\n",
    "printMax(4, 4) \n",
    "\n",
    "How would you modify the function to result in a more consistent output?\n"
   ]
  },
  {
   "cell_type": "markdown",
   "metadata": {},
   "source": [
    "#### What is the output if the following line is executed?\n",
    "#### printMax(4, 4)\n",
    "\n",
    "#### Answer:\n",
    "***If the line is executed then it will print 4 is maximum as both the numbers are same***"
   ]
  },
  {
   "cell_type": "code",
   "execution_count": 37,
   "metadata": {},
   "outputs": [
    {
     "name": "stdout",
     "output_type": "stream",
     "text": [
      "4 & 4 are equal and also the maximum\n"
     ]
    }
   ],
   "source": [
    " def printMax(a, b):\n",
    "    if(a==b):\n",
    "        print(a,\"&\",b,\"are equal and also the maximum\")\n",
    "    elif a > b:\n",
    "        print(a, 'is maximum')\n",
    "    else:\n",
    "        print(b, 'is maximum')\n",
    "printMax(4, 4) "
   ]
  },
  {
   "cell_type": "code",
   "execution_count": null,
   "metadata": {},
   "outputs": [],
   "source": [
    "# 7. Rewrite the following program as a list comprehension:\n",
    "#   list1 = map(lambda x: x**2, range(3, 50)"
   ]
  },
  {
   "cell_type": "code",
   "execution_count": 45,
   "metadata": {},
   "outputs": [
    {
     "data": {
      "text/plain": [
       "[9,\n",
       " 16,\n",
       " 25,\n",
       " 36,\n",
       " 49,\n",
       " 64,\n",
       " 81,\n",
       " 100,\n",
       " 121,\n",
       " 144,\n",
       " 169,\n",
       " 196,\n",
       " 225,\n",
       " 256,\n",
       " 289,\n",
       " 324,\n",
       " 361,\n",
       " 400,\n",
       " 441,\n",
       " 484,\n",
       " 529,\n",
       " 576,\n",
       " 625,\n",
       " 676,\n",
       " 729,\n",
       " 784,\n",
       " 841,\n",
       " 900,\n",
       " 961,\n",
       " 1024,\n",
       " 1089,\n",
       " 1156,\n",
       " 1225,\n",
       " 1296,\n",
       " 1369,\n",
       " 1444,\n",
       " 1521,\n",
       " 1600,\n",
       " 1681,\n",
       " 1764,\n",
       " 1849,\n",
       " 1936,\n",
       " 2025,\n",
       " 2116,\n",
       " 2209,\n",
       " 2304,\n",
       " 2401]"
      ]
     },
     "execution_count": 45,
     "metadata": {},
     "output_type": "execute_result"
    }
   ],
   "source": [
    "list1 = [x**2 for x in range(3,50)]\n",
    "list1"
   ]
  },
  {
   "cell_type": "raw",
   "metadata": {},
   "source": [
    "# 8. What will the output of the following program be?\n",
    "a = {}\n",
    "a[1] = 1\n",
    "a['1'] = 2\n",
    "a[1]=a[1]+1\n",
    "count = 0\n",
    "for i in a:\n",
    "    count += a[i]\n",
    "print(count)"
   ]
  },
  {
   "cell_type": "code",
   "execution_count": 64,
   "metadata": {},
   "outputs": [],
   "source": [
    "# The Output of the program is 4"
   ]
  },
  {
   "cell_type": "code",
   "execution_count": null,
   "metadata": {},
   "outputs": [],
   "source": [
    "# 9. Reshape the array: [2,3,6,3.4,6,3] into a 2X3 array. After reshaping please get the square of all the elements\n"
   ]
  },
  {
   "cell_type": "code",
   "execution_count": 73,
   "metadata": {},
   "outputs": [
    {
     "name": "stdout",
     "output_type": "stream",
     "text": [
      "[[ 4.    9.   36.  ]\n",
      " [11.56 36.    9.  ]]\n"
     ]
    }
   ],
   "source": [
    "array=np.array([2,3,6,3.4,6,3]).reshape((2,3))\n",
    "squared_array=np.square(array)\n",
    "print(squared_array)"
   ]
  },
  {
   "cell_type": "raw",
   "metadata": {},
   "source": [
    "# 10. Write a function which takes 2 digits, X,Y as input and generates a 2-dimensional array. The element value in the i-th row and j-th column of the array should be i*j.\n",
    "\n",
    "Example:\n",
    "\n",
    "If the input to the function is (3,5);\n",
    "\n",
    "The output should be:\n",
    "[[0, 0, 0, 0, 0], \n",
    " [0, 1, 2, 3, 4], \n",
    " [0, 2, 4, 6, 8]] \n"
   ]
  },
  {
   "cell_type": "code",
   "execution_count": 19,
   "metadata": {},
   "outputs": [
    {
     "name": "stdout",
     "output_type": "stream",
     "text": [
      "Enter the value for X:3\n",
      "Enter the value for Y:5\n",
      "[[0. 0. 0. 0. 0.]\n",
      " [0. 1. 2. 3. 4.]\n",
      " [0. 2. 4. 6. 8.]]\n"
     ]
    }
   ],
   "source": [
    "def fun(x,y):\n",
    "    a=np.zeros((x,y))\n",
    "    for i in range(x):\n",
    "        for j in range(y):\n",
    "            a[i][j]=i*j\n",
    "    return a\n",
    "x=int(input(\"Enter the value for X:\"))\n",
    "y=int(input(\"Enter the value for Y:\"))\n",
    "a= fun(x,y)\n",
    "print(a)"
   ]
  },
  {
   "cell_type": "code",
   "execution_count": null,
   "metadata": {},
   "outputs": [],
   "source": []
  }
 ],
 "metadata": {
  "kernelspec": {
   "display_name": "Python 3",
   "language": "python",
   "name": "python3"
  },
  "language_info": {
   "codemirror_mode": {
    "name": "ipython",
    "version": 3
   },
   "file_extension": ".py",
   "mimetype": "text/x-python",
   "name": "python",
   "nbconvert_exporter": "python",
   "pygments_lexer": "ipython3",
   "version": "3.7.0"
  }
 },
 "nbformat": 4,
 "nbformat_minor": 2
}
