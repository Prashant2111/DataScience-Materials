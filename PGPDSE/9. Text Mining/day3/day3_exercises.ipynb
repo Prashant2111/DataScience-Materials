{
 "cells": [
  {
   "cell_type": "markdown",
   "metadata": {},
   "source": [
    "## Summarize Yahoo News Articles\n",
    "- Scrape news URL from 'https://www.yahoo.com/movies/rss'\n",
    "- For each news URL, scrape the complete articles and store it a single string\n",
    "- For each news articles apply text summarization and print summary of news articles in three sentences"
   ]
  },
  {
   "cell_type": "code",
   "execution_count": 2,
   "metadata": {},
   "outputs": [],
   "source": [
    "import pandas as pd\n",
    "import nltk\n",
    "import numpy as np\n",
    "from bs4 import BeautifulSoup\n",
    "import requests"
   ]
  },
  {
   "cell_type": "code",
   "execution_count": null,
   "metadata": {},
   "outputs": [],
   "source": [
    "!pip install sumy"
   ]
  },
  {
   "cell_type": "code",
   "execution_count": 82,
   "metadata": {},
   "outputs": [],
   "source": [
    "from sumy.summarizers.lex_rank import LexRankSummarizer\n",
    "from sumy.nlp.stemmers import Stemmer\n",
    "from sumy.parsers.plaintext import PlaintextParser\n",
    "from sumy.nlp.tokenizers import Tokenizer"
   ]
  },
  {
   "cell_type": "code",
   "execution_count": 85,
   "metadata": {},
   "outputs": [],
   "source": [
    "url = 'https://www.yahoo.com/movies/rss'\n",
    "page = requests.get(url).text\n",
    "bs = BeautifulSoup(page, 'lxml')"
   ]
  },
  {
   "cell_type": "code",
   "execution_count": 99,
   "metadata": {},
   "outputs": [],
   "source": [
    "parents = bs.findAll('item')\n",
    "# len(parents) #output: 50"
   ]
  },
  {
   "cell_type": "code",
   "execution_count": null,
   "metadata": {},
   "outputs": [],
   "source": [
    "## Step 1: Read the url and convert that to BS object\n",
    "    bs = parse_url(article_link)\n",
    "    \n",
    "    ## Step 2: Get all the paragraph tags in a list using findAll('p')\n",
    "    paras = bs.findAll('p')\n",
    "    \n",
    "    ## Step 3: Loop through each paragraph and join the strings\n",
    "    \n",
    "    ## Step 4: Using lexrank summarizer to summarize the article in 3 sentences\n",
    "    \n",
    "    ## Step 5: Print the sentences"
   ]
  },
  {
   "cell_type": "code",
   "execution_count": 110,
   "metadata": {},
   "outputs": [],
   "source": [
    "summarizer = LexRankSummarizer()\n",
    "for item in parents:\n",
    "    title = item.find('title').text\n",
    "    desc = item.find('description').text\n",
    "    bs_desc = BeautifulSoup(desc, 'html.parser')\n",
    "    article_link = bs_desc.find('a').get('href')\n",
    "    \n",
    "    bs = parse_url(article_link)\n",
    "    ptags = bs.findAll('p')\n",
    "    article_content = '. '.join([para.text for para in ptags])\n",
    "    \n",
    "    parser = PlaintextParser.from_string(article_content,\n",
    "                                         Tokenizer(\"english\"))\n",
    "    sentences = summarizer(parser.document, 3)\n",
    "    #print ('------------TITLE---------------')\n",
    "    #print(title)\n",
    "    #print('------SUMMARY------')\n",
    "    #print(sentences)\n",
    "    #print('------------------END--------------------------')"
   ]
  }
 ],
 "metadata": {
  "kernelspec": {
   "display_name": "Python 3",
   "language": "python",
   "name": "python3"
  },
  "language_info": {
   "codemirror_mode": {
    "name": "ipython",
    "version": 3
   },
   "file_extension": ".py",
   "mimetype": "text/x-python",
   "name": "python",
   "nbconvert_exporter": "python",
   "pygments_lexer": "ipython3",
   "version": "3.6.5"
  }
 },
 "nbformat": 4,
 "nbformat_minor": 2
}
