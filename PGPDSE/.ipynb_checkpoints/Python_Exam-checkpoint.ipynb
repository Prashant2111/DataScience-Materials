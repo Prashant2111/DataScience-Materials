{
 "cells": [
  {
   "cell_type": "code",
   "execution_count": 28,
   "metadata": {},
   "outputs": [
    {
     "name": "stdout",
     "output_type": "stream",
     "text": [
      "\n",
      " Enter a Number: 101\n",
      "\n",
      " 101 is a Prime Number\n",
      " \n",
      " Prime Number below 101 is 97 \n",
      " Prime Number above 101 is 103\n"
     ]
    }
   ],
   "source": [
    "#Write a program to check if any given number is prime or not. User defined functions have to be used here. This program should also print the next and previous prime number to a given prime number. \n",
    "\n",
    "def check_prime(a):                                         # created a function with function name as check_prime\n",
    "    k=0\n",
    "    if(a>1):\n",
    "        for i in range(2,a//2+1):                                         \n",
    "            if (a%i==0):                                          # check if the number has any factors other than itself and one \n",
    "                k=k+1\n",
    "    else:\n",
    "        k=k+1\n",
    "                \n",
    "    if(k<=0):\n",
    "         return True\n",
    "    else:\n",
    "         return False\n",
    "\n",
    "def near_prime(a):                                          # function to find the nearest prime numbers\n",
    "    b=a+1\n",
    "    c=a-1\n",
    "    if(b>=1):\n",
    "        while(1):                 \n",
    "            if check_prime(b):                                  # calling the function to check the if the number above the given numebr is prime\n",
    "                break\n",
    "            else:\n",
    "                b+=1\n",
    "    else:\n",
    "        b=None\n",
    "        \n",
    "    if(c>1):\n",
    "        while(1):\n",
    "            if check_prime(c):                                  # calling the function to check the if the number above the given number is prime\n",
    "                break\n",
    "            else:\n",
    "                c-=1\n",
    "    else:\n",
    "        c=None\n",
    "        \n",
    "    return b,c\n",
    "        \n",
    "\n",
    "a=int(input(\"\\n Enter a Number: \"))                            # Read the Input number from the user\n",
    "\n",
    "if check_prime(a):                                          # call check_prime to find if it is prime or not\n",
    "    print(\"\\n %d is a Prime Number\"%a)\n",
    "else:\n",
    "    print(\"\\n %d is not a Prime Number\"%a)\n",
    "    \n",
    "above,below = near_prime(a)                                  # assigned the 2 returned values to above and below\n",
    "\n",
    "print(\" \\n Prime Number below\",a,\"is\",below,\"\\n\",\"Prime Number above\",a,\"is\",above)"
   ]
  },
  {
   "cell_type": "code",
   "execution_count": 30,
   "metadata": {},
   "outputs": [
    {
     "name": "stdout",
     "output_type": "stream",
     "text": [
      "Enter 1st number :3\n",
      "Enter 2nd number :4\n",
      "12\n"
     ]
    }
   ],
   "source": [
    "# Write a program to find the LCM of any given 2 numbers. No built in functions have to be used. \n",
    "# User defined functions have to be used here which takes 2 numbers as arguments \n",
    "\n",
    "\n",
    "\n",
    "def find_lcm(a,b):                          # created a function with function name as find_lcm\n",
    "    if(a>b):                                # find the biggest of a and b then store it to mx\n",
    "        mx=a\n",
    "    else:\n",
    "        mx=b\n",
    "        \n",
    "    while(1):                               # loop \n",
    "        if(mx%a==0 and mx%b==0):            # find the LCM for a and b  \n",
    "            return mx                       # return the result\n",
    "        mx=mx+1                             # increment the value of mx\n",
    "\n",
    "a=int(input(\"Enter 1st number :\"))          # Reading the input from the user and assigning to varaible a\n",
    "b=int(input(\"Enter 2nd number :\"))          # Reading the input from the user and assigning to varaible b\n",
    "result=find_lcm(a,b)                        # calling the function and storing the retured value into the result varaible\n",
    "print(result)                                # to print the result"
   ]
  },
  {
   "cell_type": "code",
   "execution_count": null,
   "metadata": {},
   "outputs": [],
   "source": [
    "\n",
    "    "
   ]
  },
  {
   "cell_type": "code",
   "execution_count": null,
   "metadata": {},
   "outputs": [],
   "source": []
  }
 ],
 "metadata": {
  "kernelspec": {
   "display_name": "Python 3",
   "language": "python",
   "name": "python3"
  },
  "language_info": {
   "codemirror_mode": {
    "name": "ipython",
    "version": 3
   },
   "file_extension": ".py",
   "mimetype": "text/x-python",
   "name": "python",
   "nbconvert_exporter": "python",
   "pygments_lexer": "ipython3",
   "version": "3.7.0"
  }
 },
 "nbformat": 4,
 "nbformat_minor": 2
}
